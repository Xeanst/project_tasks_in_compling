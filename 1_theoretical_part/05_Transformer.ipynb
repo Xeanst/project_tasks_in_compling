{
 "cells": [
  {
   "cell_type": "markdown",
   "metadata": {},
   "source": [
    "<font size=\"6\">Архитектура Трансформер</font>"
   ]
  },
  {
   "cell_type": "markdown",
   "metadata": {},
   "source": [
    "Рекуррентные сети для обработки последовательности имеют ряд недостатков:\n",
    "- не способны запоминать дистантные зависимости,\n",
    "- подвержены проблемам взрыва и затухания градиентов,\n",
    "- выполняют вычисления последовательно, что занимает много времени.\n",
    "\n",
    "В архитектуре sequence-to-sequence для более эффективного кодирования и декодирования последовательностей был добавлен механизм внимания, однако это не решает все существующие проблемы.\n",
    "\n",
    "А что если отказаться от рекуррентности и использовать только механизм внимания?\n",
    "Подобная архитектура получила название Трансформер.\n",
    "\n",
    "[[paper] 🎓 Vaswani A. et al. (2017).Attention Is All You Need](https://arxiv.org/abs/1706.03762)"
   ]
  },
  {
   "cell_type": "markdown",
   "metadata": {},
   "source": [
    "Как и в случае с рекуррентной сетью seq2seq, Трансформер состоит из блока кодировщика и блока декодировщика.\n",
    "- Кодировщик обрабатывает исходную последовательность и кодирует ее.\n",
    "- Декодировщик обрабатывает целевую последовательность с учетом информации из кодировщика. Выход из декодировщика является предсказанием модели.\n",
    "\n",
    "Блок кодировщика состоит из 6 кодировщиков, расположенных друг за другом. Блок декодировщика – это стек декодировщиков, представленных в том же количестве."
   ]
  },
  {
   "cell_type": "markdown",
   "metadata": {},
   "source": [
    "<center><img src=\"https://edunet.kea.su/repo/EduNet_NLP-web_dependencies/L05/transformer.jpg\" width=\"860\"></center>\n",
    "\n",
    "<center><em>Source: <a href=\"https://jalammar.github.io/illustrated-transformer/\">The Illustrated Transformer</a></em></center>"
   ]
  },
  {
   "cell_type": "markdown",
   "metadata": {},
   "source": [
    "Все кодировщики идентичны по структуре, хоть и имеют разные веса. Каждый можно разделить на два подслоя.\n",
    "- Входная последовательность, поступающая в кодировщик, сначала проходит через слой внутреннего внимания (self-attention), помогающий кодировщику посмотреть на другие слова во входном предложении во время кодирования конкретного слова.\n",
    "- Выход слоя внутреннего внимания отправляется в нейронную сеть прямого распространения (feed-forward neural network).\n",
    "\n",
    "Декодировщик также содержит эти два слоя, но между ними есть слой внимания, который помогает декодировщику фокусироваться на релевантных частях исходного предложения (аналогично механизму внимания в моделях seq2seq)."
   ]
  },
  {
   "cell_type": "markdown",
   "metadata": {},
   "source": [
    "<center><img src=\"https://edunet.kea.su/repo/EduNet_NLP-web_dependencies/L05/enc_dec_tr.png\" width=\"650\"></center>\n",
    "\n",
    "<center><em>Source: <a href=\"https://jalammar.github.io/illustrated-transformer/\">The Illustrated Transformer</a></em></center>"
   ]
  },
  {
   "cell_type": "markdown",
   "metadata": {},
   "source": [
    "Как и в случае других алгоритмов, каждое слово входной и целевой последовательности преобразуется в вектор.\n",
    "\n",
    "После того как слова входного предложения преобразовались в эмбеддинги, каждый из них по отдельности проходит через слои кодировщика. Одна из основных особенностей Трансформера состоит в том, что каждое слово идет по своей собственной траектории."
   ]
  },
  {
   "cell_type": "markdown",
   "metadata": {},
   "source": [
    "<center><img src=\"https://edunet.kea.su/repo/EduNet_NLP-web_dependencies/L05/encoder.png\" width=\"700\"></center>\n",
    "\n",
    "<center><em>Source: <a href=\"https://jalammar.github.io/illustrated-transformer/\">The Illustrated Transformer</a></em></center>"
   ]
  },
  {
   "cell_type": "markdown",
   "metadata": {},
   "source": [
    "Мы попробуем создать и обучить модель архитектуры Трансформер, основываясь на тьюториале:\n",
    "\n",
    "[[doc] 🛠️ The Annotated Transformer](https://nlp.seas.harvard.edu/annotated-transformer/)\n",
    "\n",
    "**Дисклеймер:** от вас не требуется полное понимание кода для создания и особенно обучения модели. Основная цель – показать, что обучить свой Трансформер не очень легко и очень долго, что объясняет необходимость в дальнейшем использовать предобученные модели."
   ]
  },
  {
   "cell_type": "markdown",
   "metadata": {},
   "source": [
    "# Создание модели"
   ]
  },
  {
   "cell_type": "markdown",
   "metadata": {},
   "source": [
    "## Механизм внутреннего внимания"
   ]
  },
  {
   "cell_type": "markdown",
   "metadata": {},
   "source": [
    "Пусть мы хотим перевести предложение: *The animal didn't cross the street because it was too tired*. Местоимение *it* может относиться к улице (*street*) или к животному (*animal*). Когда модель обрабатывает слово *it*, слой внутреннего внимания помогает понять, что *it* относится к *animal*.\n",
    "\n",
    "По мере того как модель обрабатывает каждое слово входной последовательности, внутреннее внимание позволяет \"взглянуть\" на другие слова и лучше закодировать данное слово. Механизм внутреннего внимания – это метод, который Трансформер использует, чтобы смоделировать \"понимание\" других релевантных слов при обработке конкретного слова.\n",
    "\n",
    "Во время кодирования *it* в кодировщике №5 часть механизма внимания фокусируется на *The animal* и использует фрагмент его представления для кодирования *it*."
   ]
  },
  {
   "cell_type": "markdown",
   "metadata": {},
   "source": [
    "<center><img src=\"https://edunet.kea.su/repo/EduNet_NLP-web_dependencies/L05/self_attention.png\" width=\"400\"></center>\n",
    "\n",
    "<center><em>Source: <a href=\"https://jalammar.github.io/illustrated-transformer/\">The Illustrated Transformer</a></em></center>"
   ]
  },
  {
   "cell_type": "markdown",
   "metadata": {},
   "source": [
    "### На примере векторов"
   ]
  },
  {
   "cell_type": "markdown",
   "metadata": {},
   "source": [
    "При вычислении внутреннего внимания используются: вектор запроса $\\text{query}$, вектор ключа $\\text{key}$ и вектор значения $\\text{value}$. Они создаются с помощью умножения эмбеддинга слова последовательности на три матрицы весов (линейных слоя) $W^Q, W^K, W^V$. Размер новых векторов – 64, размер исходных векторов – 512.\n",
    "\n",
    "$q_i=x_iW^Q$\n",
    "\n",
    "$k_i=x_iW^K$\n",
    "\n",
    "$v_i=x_iW^V$"
   ]
  },
  {
   "cell_type": "markdown",
   "metadata": {},
   "source": [
    "<center><img src=\"https://edunet.kea.su/repo/EduNet_NLP-web_dependencies/L05/vector_attention.png\" width=\"700\"></center>\n",
    "\n",
    "<center><em>Source: <a href=\"https://jalammar.github.io/illustrated-transformer/\">The Illustrated Transformer</a></em></center>"
   ]
  },
  {
   "cell_type": "markdown",
   "metadata": {},
   "source": [
    "Далее вычисляется коэффициент внутреннего внимания $\\text{score}$ для $i$-го слова по отношению к каждому слову в предложении. Коэффициент определяет, насколько нужно сфокусироваться на других частях предложения во время кодирования слова в $i$-й позиции. Коэффициент подсчитывается с помощью скалярного произведения вектора запроса $q$ $i$-го слова и вектора ключа $k$ каждого слова.\n",
    "\n",
    "$$\\text{score}_{ij}=q_i \\cdot k_j$$"
   ]
  },
  {
   "cell_type": "markdown",
   "metadata": {},
   "source": [
    "На следующем шаге коэффициенты делятся на квадратный корень из $d_k$ – размера векторов ключа $k$. К получившимся значениям применяется функция активации softmax, чтобы коэффициенты в сумме давали 1. Полученный softmax-коэффициент определяет, в какой мере каждое из слов предложения \"фокусируется\" на другом слове.\n",
    "\n",
    "$$\\text{softmax.score}_{ij}=\\text{softmax}(\\dfrac{\\text{score}_i}{\\sqrt d_k})$$"
   ]
  },
  {
   "cell_type": "markdown",
   "metadata": {},
   "source": [
    "После этого каждый вектор значения $v$ умножается на softmax-коэффициент, получаем взвешенные векторы. Идея в том, что нужно сохранять без изменений значения слов, на которых мы фокусируемся, и отвести на второй план нерелевантные слова (умножив их на небольшие значения, например, 0.001). Затем  взвешенные векторы складываются. Результат (взвешенная сумма) представляет собой выход слоя внутреннего внимания для $i$-го слова.\n",
    "\n",
    "$$\\text{sum}_i= \\sum_{j=1}^n v_j \\cdot \\text{softmax.score}_{ij}$$\n",
    "\n",
    "Полученный вектор передается дальше в нейронную сеть прямого распространения."
   ]
  },
  {
   "cell_type": "markdown",
   "metadata": {},
   "source": [
    "<center><img src=\"https://edunet.kea.su/repo/EduNet_NLP-web_dependencies/L05/attention_example.png\" width=\"600\"></center>\n",
    "\n",
    "<center><em>Source: <a href=\"https://jalammar.github.io/illustrated-transformer/\">The Illustrated Transformer</a></em></center>"
   ]
  },
  {
   "cell_type": "markdown",
   "metadata": {},
   "source": [
    "### На примере матриц"
   ]
  },
  {
   "cell_type": "markdown",
   "metadata": {},
   "source": [
    "Аналогично, матрицы запроса $Q$, ключа $K$ и значения $V$ вычисляются с помощью умножения эмбеддингов матрицы $X$ на матрицы весов (линейные слои) $W^Q, W^K, W^V$. Каждая строка в матрице $X$ соответствует слову в предложении."
   ]
  },
  {
   "cell_type": "markdown",
   "metadata": {},
   "source": [
    "<center><img src=\"https://edunet.kea.su/repo/EduNet_NLP-web_dependencies/L05/matrix_attention.png\" width=\"450\"></center>\n",
    "\n",
    "<center><em>Source: <a href=\"https://jalammar.github.io/illustrated-transformer/\">The Illustrated Transformer</a></em></center>"
   ]
  },
  {
   "cell_type": "markdown",
   "metadata": {},
   "source": [
    "Последующие этапы для вычисления выхода слоя внутреннего внимания могут быть отражены в одной формуле."
   ]
  },
  {
   "cell_type": "markdown",
   "metadata": {},
   "source": [
    "<center><img src=\"https://edunet.kea.su/repo/EduNet_NLP-web_dependencies/L05/attention_score.png\" width=\"600\"></center>\n",
    "\n",
    "<center><em>Source: <a href=\"https://jalammar.github.io/illustrated-transformer/\">The Illustrated Transformer</a></em></center>"
   ]
  },
  {
   "cell_type": "markdown",
   "metadata": {},
   "source": [
    "Напишем функцию `attention` для подсчета внутреннего внимания.\n",
    "\n",
    "$$\\text{Attention}(Q, K, V) = \\text{softmax}(\\dfrac{QK^T}{\\sqrt{d_k}})V$$\n",
    "\n",
    "Для умножения матриц $Q, K, V$ используется метод `torch.matmul()`.\n",
    "\n",
    "Транспонирование осуществляется с помощью метода `.transpose`."
   ]
  },
  {
   "cell_type": "code",
   "execution_count": null,
   "metadata": {},
   "outputs": [],
   "source": [
    "import math, torch\n",
    "\n",
    "torch.manual_seed(42)\n",
    "\n",
    "\n",
    "def attention(query, key, value, mask=None, dropout=None):\n",
    "    \"\"\"\n",
    "    Compute 'Scaled Dot Product Attention'\n",
    "    \"\"\"\n",
    "    d_k = query.size(-1)\n",
    "    # compute the attention scores by using torch.matmul\n",
    "    scores = torch.matmul(query, key.transpose(-2, -1)) / math.sqrt(d_k)\n",
    "    if mask is not None:\n",
    "        scores = scores.masked_fill(mask == 0, -1e9)\n",
    "    p_attn = torch.softmax(scores, dim=-1)\n",
    "    if dropout is not None:\n",
    "        p_attn = dropout(p_attn)\n",
    "    # compute the result as the values weighted by attention probabilities (again, using torch.matmul)\n",
    "    result = torch.matmul(p_attn, value)\n",
    "    return result"
   ]
  },
  {
   "cell_type": "code",
   "execution_count": null,
   "metadata": {},
   "outputs": [],
   "source": [
    "import numpy as np\n",
    "\n",
    "query = torch.tensor([[0, 0], [0, 1], [1, 1]], dtype=torch.float)\n",
    "key = torch.tensor([[100, 0], [0, 100], [0, 0]], dtype=torch.float)\n",
    "value = torch.tensor([[1, 0], [0, 1], [0, 0]], dtype=torch.float)\n",
    "results = attention(query, key, value)\n",
    "print(f\"Query:\\n{query}\")\n",
    "print(f\"Key:\\n{key}\")\n",
    "print(f\"Value:\\n{value}\")\n",
    "print(f\"Results:\\n{results}\")\n",
    "\n",
    "assert np.allclose(\n",
    "    results[0].numpy(), [1 / 3, 1 / 3]\n",
    ")  # the first query attends to all keys equally\n",
    "assert np.allclose(\n",
    "    results[1].numpy(), [0, 1]\n",
    ")  # the second query attends only to the second key\n",
    "assert np.allclose(\n",
    "    results[2].numpy(), [1 / 2, 1 / 2]\n",
    ")  # the third query attends to the first and second key equally"
   ]
  },
  {
   "cell_type": "markdown",
   "metadata": {},
   "source": [
    "## Множественное внимание"
   ]
  },
  {
   "cell_type": "markdown",
   "metadata": {},
   "source": [
    "В Трансформере механизм внутреннего внимания совершенствуется с помощью добавления множественного внимания (multi-headed attention). Это повышает способность модели фокусироваться на разных словах. В случае множественного внимания мы располагаем отдельными матрицами весов $W^Q, W^K, W^V$  для каждой \"головы\", что в результате дает разные матрицы $Q, K, V$. Как и ранее, матрица $X$ умножается на веса $W^Q, W^K, W^V$ для получения матриц $Q, K, V$.\n",
    "\n",
    "Трансформер использует 8 \"голов\" внимания, так что в итоге у нас получается 8 наборов для каждого кодировщика и декодировщика. Сделав те же вычисления внутреннего внимания 8 раз с разными матрицами весов, в результате получим 8 разных матриц."
   ]
  },
  {
   "cell_type": "markdown",
   "metadata": {},
   "source": [
    "<center><img src=\"https://edunet.kea.su/repo/EduNet_NLP-web_dependencies/L05/multihead_attention.png\" width=\"600\"></center>\n",
    "\n",
    "<center><em>Source: <a href=\"https://jalammar.github.io/illustrated-transformer/\">The Illustrated Transformer</a></em></center>"
   ]
  },
  {
   "cell_type": "markdown",
   "metadata": {},
   "source": [
    "Однако слой сети прямого распространения не ожидает, что к нему поступит 8 матриц — он ждет всего одну, в которую нам и необходимо сжать полученные матрицы. Чтобы это сделать, можно конкатенировать и затем умножить их на дополнительные веса матрицы $W^O$."
   ]
  },
  {
   "cell_type": "markdown",
   "metadata": {},
   "source": [
    "<center><img src=\"https://edunet.kea.su/repo/EduNet_NLP-web_dependencies/L05/concatenate.png\" width=\"800\"></center>\n",
    "\n",
    "<center><em>Source: <a href=\"https://jalammar.github.io/illustrated-transformer/\">The Illustrated Transformer</a></em></center>"
   ]
  },
  {
   "cell_type": "markdown",
   "metadata": {},
   "source": [
    "Мы можем отобразить все \"головы\" внимания на одной картинке."
   ]
  },
  {
   "cell_type": "markdown",
   "metadata": {},
   "source": [
    "<center><img src=\"https://edunet.kea.su/repo/EduNet_NLP-web_dependencies/L05/multihead_viz.png\" width=\"400\"></center>\n",
    "\n",
    "<center><em>Source: <a href=\"https://jalammar.github.io/illustrated-transformer/\">The Illustrated Transformer</a></em></center>"
   ]
  },
  {
   "cell_type": "markdown",
   "metadata": {},
   "source": [
    "Для создание множественного внимания необходим класс `MultiHeadedAttention`.\n",
    "\n",
    "Каждая голова внимания независимо вычисляет внимание (скалярное произведение) для своих матриц $Q,K,V$. Следовательно, каждая голова может \"обращать внимание\" на разные части предложения.\n",
    "\n",
    "$$\\text{MultiHead}(Q, K, V) = \\text{concat}(\\text{head}_1, ..., \\text{head}_h)W^O$$"
   ]
  },
  {
   "cell_type": "code",
   "execution_count": null,
   "metadata": {},
   "outputs": [],
   "source": [
    "import copy\n",
    "\n",
    "\n",
    "def clones(module, N):\n",
    "    \"Produce N identical layers\"\n",
    "    return nn.ModuleList([copy.deepcopy(module) for _ in range(N)])"
   ]
  },
  {
   "cell_type": "code",
   "execution_count": null,
   "metadata": {},
   "outputs": [],
   "source": [
    "import torch.nn as nn\n",
    "\n",
    "\n",
    "class MultiHeadedAttention(nn.Module):\n",
    "    def __init__(self, h, d_model, dropout=0.1):\n",
    "        \"Take in model size and number of heads\"\n",
    "        super(MultiHeadedAttention, self).__init__()\n",
    "        assert d_model % h == 0\n",
    "        # We assume d_v always equals d_k\n",
    "        self.d_k = d_model // h\n",
    "        self.h = h\n",
    "        self.linears = clones(nn.Linear(d_model, d_model), 4)\n",
    "        self.dropout = nn.Dropout(p=dropout)\n",
    "\n",
    "    def forward(self, query, key, value, mask=None):\n",
    "        if mask is not None:\n",
    "            # Same mask applied to all h heads.\n",
    "            mask = mask.unsqueeze(1)\n",
    "        nbatches = query.size(0)\n",
    "\n",
    "        # 1) Do all the linear projections in batch from d_model => h x d_k\n",
    "        query, key, value = [\n",
    "            l(x).view(nbatches, -1, self.h, self.d_k).transpose(1, 2)\n",
    "            for l, x in zip(self.linears, (query, key, value))\n",
    "        ]\n",
    "\n",
    "        # 2) Apply attention on all the projected vectors in batch\n",
    "        x = attention(query, key, value, mask=mask, dropout=self.dropout)\n",
    "\n",
    "        # 3) \"Concat\" using a view and apply a final linear\n",
    "        x = x.transpose(1, 2).contiguous().view(nbatches, -1, self.h * self.d_k)\n",
    "        return self.linears[-1](x)"
   ]
  },
  {
   "cell_type": "markdown",
   "metadata": {},
   "source": [
    "## Кодирование позиции"
   ]
  },
  {
   "cell_type": "markdown",
   "metadata": {},
   "source": [
    "Из-за того, что мы избавились от рекуррентной нейронной сети, информация о порядке слов перестала учитываться моделью. В классе `MultiHeadedAttention` операции применяются к размерности 2 (признаки слов), но не к размерности 1 (слова последовательности).\n",
    "\n",
    "Для того чтобы модель понимала порядок слов, вводятся векторы кодирования позиции (positional encoding). Они суммируются с векторами каждого слова."
   ]
  },
  {
   "cell_type": "markdown",
   "metadata": {},
   "source": [
    "<center><img src=\"https://edunet.kea.su/repo/EduNet_NLP-web_dependencies/L05/positional_encoding.png\" width=\"850\"></center>\n",
    "\n",
    "<center><em>Source: <a href=\"https://jalammar.github.io/illustrated-transformer/\">The Illustrated Transformer</a></em></center>"
   ]
  },
  {
   "cell_type": "markdown",
   "metadata": {},
   "source": [
    "Информация о позиции кодируется с помощью тригонометрических функций: синуса и косинуса.\n",
    "\n",
    "Пусть есть входная последовательность длины $L$, нужно закодировать позицию некоторого элемента $\\text{pos}$.\n",
    "\n",
    "$\\text{pos}$ — индекс слова в исходной последовательности, $0 \\leq \\text{pos} < L$\n",
    "\n",
    "$d$ — размер эмеддингов входного слоя\n",
    "\n",
    "$i$ — номер координаты эмбеддинга входного слоя, $0 \\leq i < \\large \\frac{d}{2}$\n",
    "\n",
    "$p_0$ — первое слово последовательности, $d$ — длина вектора, $i$ — координаты вектора."
   ]
  },
  {
   "cell_type": "markdown",
   "metadata": {},
   "source": [
    "<center><img src=\"https://edunet.kea.su/repo/EduNet_NLP-web_dependencies/L05/pe1.png\" width=\"500\"></center>\n",
    "\n",
    "<center><em>Source: <a href=\"https://www.youtube.com/watch?v=dichIcUZfOw\">Visual Guide to Transformer Neural Networks</a></em></center>"
   ]
  },
  {
   "cell_type": "markdown",
   "metadata": {},
   "source": [
    "Слова с разным номером позиции будут иметь разные значения значения на оси $y$. Однако для некоторых позиций ($p_0$ и $p_6$) значения совпадают, поскольку синус — периодическая функция."
   ]
  },
  {
   "cell_type": "markdown",
   "metadata": {},
   "source": [
    "<center><img src=\"https://edunet.kea.su/repo/EduNet_NLP-web_dependencies/L05/pe2.png\" width=\"700\"></center>\n",
    "\n",
    "<center><em>Source: <a href=\"https://www.youtube.com/watch?v=dichIcUZfOw\">Visual Guide to Transformer Neural Networks</a></em></center>"
   ]
  },
  {
   "cell_type": "markdown",
   "metadata": {},
   "source": [
    "Получить разные значения можно благодаря параметру $i$. При изменении значения $i$ меняется частота, что приводит к получению разных значений для $p_0$ и $p_6$."
   ]
  },
  {
   "cell_type": "markdown",
   "metadata": {},
   "source": [
    "<center><img src=\"https://edunet.kea.su/repo/EduNet_NLP-web_dependencies/L05/pe3.png\" width=\"800\"></center>\n",
    "\n",
    "<center><em>Source: <a href=\"https://www.youtube.com/watch?v=dichIcUZfOw\">Visual Guide to Transformer Neural Networks</a></em></center>"
   ]
  },
  {
   "cell_type": "markdown",
   "metadata": {},
   "source": [
    "Создадим класс `PositionalEncoding` для кодирования позиции.\n",
    "\n",
    "$PE_{(\\text{pos}, 2i)} = \\sin(\\dfrac{\\text{pos}}{10000^{2i / d_\\text{model}}})$\n",
    "\n",
    "$PE_{(\\text{pos}, 2i+1)} = \\cos(\\dfrac{\\text{pos}}{10000^{2i / d_\\text{model}}})$"
   ]
  },
  {
   "cell_type": "code",
   "execution_count": null,
   "metadata": {},
   "outputs": [],
   "source": [
    "from torch.autograd import Variable\n",
    "\n",
    "\n",
    "class PositionalEncoding(nn.Module):\n",
    "    def __init__(self, d_model, dropout, max_len=5000):\n",
    "        super(PositionalEncoding, self).__init__()\n",
    "        self.dropout = nn.Dropout(p=dropout)\n",
    "\n",
    "        # Compute the positional encodings once in log space.\n",
    "        pe = torch.zeros(max_len, d_model)\n",
    "        position = torch.arange(0, max_len).unsqueeze(1)\n",
    "        div_term = 10000 ** (torch.arange(0, d_model, 2) / d_model)\n",
    "        pe[:, 0::2] = torch.sin(position / div_term)\n",
    "        pe[:, 1::2] = torch.cos(position / div_term)\n",
    "        pe = pe.unsqueeze(0)\n",
    "        self.register_buffer(\"pe\", pe)\n",
    "\n",
    "    def forward(self, x):\n",
    "        x = x + Variable(self.pe[:, : x.size(1)], requires_grad=False)\n",
    "        return self.dropout(x)"
   ]
  },
  {
   "cell_type": "code",
   "execution_count": null,
   "metadata": {},
   "outputs": [],
   "source": [
    "import matplotlib.pyplot as plt\n",
    "\n",
    "%matplotlib inline\n",
    "\n",
    "plt.figure(figsize=(15, 5))\n",
    "pe = PositionalEncoding(20, 0)\n",
    "y = pe.forward(Variable(torch.zeros(1, 100, 20)))\n",
    "plt.plot(np.arange(100), y[0, :, 4:8].data.numpy())\n",
    "plt.legend([\"dim %d\" % p for p in [4, 5, 6, 7]])\n",
    "None"
   ]
  },
  {
   "cell_type": "markdown",
   "metadata": {},
   "source": [
    "## Слои Embedding и преобразование Softmax"
   ]
  },
  {
   "cell_type": "markdown",
   "metadata": {},
   "source": [
    "Аналогично другим моделям преобразования последовательностей, мы используем обученные эмбеддинги для преобразования входных и выходных токенов в векторы размерности $d_{\\text{model}}$. Мы также используем линейное преобразование и функцию softmax для преобразования выходных данных декодировщика в прогнозируемые вероятности следующего токена. В нашей модели мы используем одну и ту же весовую матрицу между слоями эмбеддингов и линейным преобразованием, выполненным до softmax. В слоях эмбеддингов мы умножаем эти веса на $\\sqrt{d_{\\text{model}}}$."
   ]
  },
  {
   "cell_type": "code",
   "execution_count": null,
   "metadata": {},
   "outputs": [],
   "source": [
    "class Embeddings(nn.Module):\n",
    "    def __init__(self, d_model, vocab):\n",
    "        super(Embeddings, self).__init__()\n",
    "        self.lut = nn.Embedding(vocab, d_model)\n",
    "        self.d_model = d_model\n",
    "\n",
    "    def forward(self, x):\n",
    "        return self.lut(x) * math.sqrt(self.d_model)"
   ]
  },
  {
   "cell_type": "markdown",
   "metadata": {},
   "source": [
    "## Cеть прямого распространения"
   ]
  },
  {
   "cell_type": "markdown",
   "metadata": {},
   "source": [
    "За слоем множественного внимания в кодировщике и декодировщике следует сеть прямого распространения. Она состоит из двух линейных слоев и функции активации ReLU между ними. Размер входных и выходных данных — 512, промежуточный размер — 2048 (в 4 раза больше)."
   ]
  },
  {
   "cell_type": "code",
   "execution_count": null,
   "metadata": {},
   "outputs": [],
   "source": [
    "import torch.nn.functional as F\n",
    "\n",
    "\n",
    "class PositionwiseFeedForward(nn.Module):\n",
    "    def __init__(self, d_model, d_ff, dropout=0.1):\n",
    "        super(PositionwiseFeedForward, self).__init__()\n",
    "        self.w_1 = nn.Linear(d_model, d_ff)\n",
    "        self.w_2 = nn.Linear(d_ff, d_model)\n",
    "        self.dropout = nn.Dropout(dropout)\n",
    "\n",
    "    def forward(self, x):\n",
    "        return self.w_2(self.dropout(F.relu(self.w_1(x))))"
   ]
  },
  {
   "cell_type": "markdown",
   "metadata": {},
   "source": [
    "## Кодировщик"
   ]
  },
  {
   "cell_type": "markdown",
   "metadata": {},
   "source": [
    "Можем перейти к реализации блока кодировщика. Он состоит из стека $N=6$ идентичных слоев."
   ]
  },
  {
   "cell_type": "markdown",
   "metadata": {},
   "source": [
    "<center><img src=\"https://edunet.kea.su/repo/EduNet_NLP-web_dependencies/L05/enc_details.png\" width=\"400\"></center>\n",
    "\n",
    "<center><em>Source: <a href=\"https://jalammar.github.io/illustrated-transformer/\">The Illustrated Transformer</a></em></center>"
   ]
  },
  {
   "cell_type": "code",
   "execution_count": null,
   "metadata": {},
   "outputs": [],
   "source": [
    "class Encoder(nn.Module):\n",
    "    \"Core encoder is a stack of N layers\"\n",
    "\n",
    "    def __init__(self, layer, N):\n",
    "        super(Encoder, self).__init__()\n",
    "        self.layers = clones(layer, N)\n",
    "        self.norm = LayerNorm(layer.size)\n",
    "\n",
    "    def forward(self, x, mask):\n",
    "        \"Pass the input (and mask) through each layer in turn\"\n",
    "        for layer in self.layers:\n",
    "            x = layer(x, mask)\n",
    "        return self.norm(x)"
   ]
  },
  {
   "cell_type": "markdown",
   "metadata": {},
   "source": [
    "Каждый подслой (внутреннее внимание, полносвязный) включает сквозную связь (residual connection), за которой следует этап нормализации слоя ([layer normalization 🛠️[doc]](https://pytorch.org/docs/stable/generated/torch.nn.LayerNorm.htm)).\n",
    "\n"
   ]
  },
  {
   "cell_type": "markdown",
   "metadata": {},
   "source": [
    "<center><img src=\"https://edunet.kea.su/repo/EduNet_NLP-web_dependencies/L05/connection_normalization.png\" width=\"500\"></center>\n",
    "\n",
    "<center><em>Source: <a href=\"https://jalammar.github.io/illustrated-transformer/\">The Illustrated Transformer</a></em></center>"
   ]
  },
  {
   "cell_type": "markdown",
   "metadata": {},
   "source": [
    "Эмбеддинг каждого элемента последовательности дублируется: одна копия поступает на вход слоя (внимания или сети прямого распространения), другая копия не меняется и прибавляется к выходу слоя. Это позволяет избежать затухания градиента.\n",
    "\n",
    "После применяется нормализация. Веса могут принимать значения в разном диапазоне, но скорость обучения одинаковая. Из-за этого возникает сложность с обновлением весов.\n",
    "\n",
    "Нормализация применяется по предложениям: применяется к первому признаку каждого слова в первом предложении, затем ко второму признаку каждого слова в первом предожении и т.д.\n",
    "\n",
    "Среднее: $\\mu_i =\\dfrac{1}{m}\\sum\\limits_{j=1}^mx_{ij}$\n",
    "\n",
    "Стандартное отклонение: $\\sigma_i = \\dfrac{1}{m}\\sum\\limits_{j=1}^m(x_{ij}-\\mu_i)$\n",
    "\n",
    "Нормализованное значение: $\\hat x_{ij} = \\dfrac {x_{ij}-\\mu_i}{\\sigma_i}$"
   ]
  },
  {
   "cell_type": "markdown",
   "metadata": {},
   "source": [
    "<center><img src=\"https://edunet.kea.su/repo/EduNet_NLP-content/L05/out/layer_normalization.png\" width=\"400\"></center>"
   ]
  },
  {
   "cell_type": "markdown",
   "metadata": {},
   "source": [
    "Мы используем сквозную связь вокруг каждого из двух подслоев, далее следует нормализация слоя."
   ]
  },
  {
   "cell_type": "code",
   "execution_count": null,
   "metadata": {},
   "outputs": [],
   "source": [
    "class LayerNorm(nn.Module):\n",
    "    def __init__(self, features, eps=1e-6):\n",
    "        super(LayerNorm, self).__init__()\n",
    "        self.a_2 = nn.Parameter(torch.ones(features))\n",
    "        self.b_2 = nn.Parameter(torch.zeros(features))\n",
    "        self.eps = eps\n",
    "\n",
    "    def forward(self, x):\n",
    "        \"\"\"\n",
    "        Return a2 * x_normalized + b2,\n",
    "        where x_normalized is calculated by subtracting row-wise means from x and dividing the result by row-wise standard deviation + eps.\n",
    "        standard deviation is calculated with Bessel's correction (the default in Pytorch)\n",
    "        \"\"\"\n",
    "        mean = x.mean(-1, keepdim=True)\n",
    "        std = x.std(-1, keepdim=True)\n",
    "        return self.a_2 * (x - mean) / (std + self.eps) + self.b_2"
   ]
  },
  {
   "cell_type": "code",
   "execution_count": null,
   "metadata": {},
   "outputs": [],
   "source": [
    "ln = LayerNorm(2, eps=0)\n",
    "with torch.no_grad():\n",
    "    result = ln(torch.tensor([[0.0, 1], [100, 101], [100, 200]])).numpy()\n",
    "\n",
    "# becasue of Bessel's correction, standard deviation is pulled to 0. Here we un-pull it back.\n",
    "print(f\"Result of layer normalization:\\n{result}\")\n",
    "result_unnormalized = result / np.sqrt(0.5)"
   ]
  },
  {
   "cell_type": "markdown",
   "metadata": {},
   "source": [
    "То есть результат каждого подслоя:\n",
    "$$\\mathrm{LayerNorm}(x + \\mathrm{Sublayer}(x)),$$\n",
    "\n",
    "где $\\mathrm{Sublayer}(x)$ — это функция, реализуемая самим подслоем.\n",
    "\n",
    "Мы применяем `Dropout` к выходным данным каждого подслоя, прежде чем они складываются и нормализуются.\n",
    "\n",
    "Чтобы упростить эти сквозные связи, все подслои в модели, а также слой эмбеддингов выдают выходные данные с размерностью $d_{\\text{model}}=512$."
   ]
  },
  {
   "cell_type": "code",
   "execution_count": null,
   "metadata": {},
   "outputs": [],
   "source": [
    "class SublayerConnection(nn.Module):\n",
    "    \"\"\"\n",
    "    A residual connection followed by a layer norm.\n",
    "    Note for code simplicity the norm is first as opposed to last.\n",
    "    \"\"\"\n",
    "\n",
    "    def __init__(self, size, dropout):\n",
    "        super(SublayerConnection, self).__init__()\n",
    "        self.norm = LayerNorm(size)\n",
    "        self.dropout = nn.Dropout(dropout)\n",
    "\n",
    "    def forward(self, x, sublayer):\n",
    "        \"Apply residual connection to any sublayer with the same size.\"\n",
    "        return x + self.dropout(sublayer(self.norm(x)))"
   ]
  },
  {
   "cell_type": "markdown",
   "metadata": {},
   "source": [
    "Каждый слой состоит из двух подслоев. Первый представляет собой механизм множественного внимания, а второй — полносвязную сеть прямого распространения."
   ]
  },
  {
   "cell_type": "code",
   "execution_count": null,
   "metadata": {},
   "outputs": [],
   "source": [
    "class EncoderLayer(nn.Module):\n",
    "    \"Encoder is made up of self-attn and feed forward\"\n",
    "\n",
    "    def __init__(self, size, self_attn, feed_forward, dropout):\n",
    "        super(EncoderLayer, self).__init__()\n",
    "        self.self_attn = self_attn\n",
    "        self.feed_forward = feed_forward\n",
    "        self.sublayer = clones(SublayerConnection(size, dropout), 2)\n",
    "        self.size = size\n",
    "\n",
    "    def forward(self, x, mask):\n",
    "        x = self.sublayer[0](x, lambda x: self.self_attn(x, x, x, mask))\n",
    "        return self.sublayer[1](x, self.feed_forward)"
   ]
  },
  {
   "cell_type": "markdown",
   "metadata": {},
   "source": [
    "## Декодировщик"
   ]
  },
  {
   "cell_type": "markdown",
   "metadata": {},
   "source": [
    "Блок декодировщика устроен очень похоже, но есть несколько отличий.\n",
    "- Декодировщик принимает два аргумента: целевое предложение и выход кодировщика.\n",
    "- Используются два слоя множественного внимания:\n",
    "  - маскированное множественное внимания для обработки целевого предложения,\n",
    "  - множественное внимание между кодировщиком и декодировщиком для сравнения целевого и исходного предложений.\n",
    "- Второй слой в качестве матриц $K$ и $V$ использует выход кодировщика.\n",
    "\n",
    "Декодировщик выполняет задачу языкового моделирования и предсказывает вероятность следующего слова. Следовательно, при обработке целевой последовательности он не может \"заглядывать\" вперед и анализировать контекст, который еще не был сгенерирован. Поэтому используется маскирование всех позиций после текущей, их векторы заполняются значениями `-inf`."
   ]
  },
  {
   "cell_type": "markdown",
   "metadata": {},
   "source": [
    "<center><img src=\"https://edunet.kea.su/repo/EduNet_NLP-web_dependencies/L05/enc_dec_details.png\" width=\"800\"></center>\n",
    "\n",
    "<center><em>Source: <a href=\"https://jalammar.github.io/illustrated-transformer/\">The Illustrated Transformer</a></em></center>"
   ]
  },
  {
   "cell_type": "markdown",
   "metadata": {},
   "source": [
    "Декодировщик также состоит из стека из $N=6$ идентичных слоев."
   ]
  },
  {
   "cell_type": "code",
   "execution_count": null,
   "metadata": {},
   "outputs": [],
   "source": [
    "class Decoder(nn.Module):\n",
    "    \"Generic N layer decoder with masking.\"\n",
    "\n",
    "    def __init__(self, layer, N):\n",
    "        super(Decoder, self).__init__()\n",
    "        self.layers = clones(layer, N)\n",
    "        self.norm = LayerNorm(layer.size)\n",
    "\n",
    "    def forward(self, x, memory, src_mask, tgt_mask):\n",
    "        for layer in self.layers:\n",
    "            x = layer(x, memory, src_mask, tgt_mask)\n",
    "        return self.norm(x)"
   ]
  },
  {
   "cell_type": "markdown",
   "metadata": {},
   "source": [
    "В дополнение к двум подслоям на каждом слое кодировщика, декодировщик содержит третий подслой, который применяет механизм множественного внимания к выходным данным кодировщика. Как и в случае с кодировщиком, мы используем сквозную связь вокруг каждого из подслоев с последующей нормализацией слоя."
   ]
  },
  {
   "cell_type": "code",
   "execution_count": null,
   "metadata": {},
   "outputs": [],
   "source": [
    "class DecoderLayer(nn.Module):\n",
    "    \"Decoder is made of self-attn, src-attn, and feed forward (defined below)\"\n",
    "\n",
    "    def __init__(self, size, self_attn, src_attn, feed_forward, dropout):\n",
    "        super(DecoderLayer, self).__init__()\n",
    "        self.size = size\n",
    "        self.self_attn = self_attn\n",
    "        self.src_attn = src_attn\n",
    "        self.feed_forward = feed_forward\n",
    "        self.sublayer = clones(SublayerConnection(size, dropout), 3)\n",
    "\n",
    "    def forward(self, x, memory, src_mask, tgt_mask):\n",
    "        m = memory\n",
    "        x = self.sublayer[0](x, lambda x: self.self_attn(x, x, x, tgt_mask))\n",
    "        x = self.sublayer[1](x, lambda x: self.src_attn(x, m, m, src_mask))\n",
    "        return self.sublayer[2](x, self.feed_forward)"
   ]
  },
  {
   "cell_type": "markdown",
   "metadata": {},
   "source": [
    "Мы также модифицируем подслой внутреннего внимания в стеке декодировщика, добавляя маскирование. Это необходимо, чтобы не учитывать токены в следующих позициях при анализе текущей и предыдущей позиций. Маскирование гарантирует, что предсказания для позиции $i$ могут зависеть только от выходных данных на позициях, меньших, чем $i$."
   ]
  },
  {
   "cell_type": "code",
   "execution_count": null,
   "metadata": {},
   "outputs": [],
   "source": [
    "def subsequent_mask(size):\n",
    "    \"Mask out subsequent positions\"\n",
    "    attn_shape = (1, size, size)\n",
    "    subsequent_mask = np.triu(np.ones(attn_shape), k=1).astype(\"uint8\")\n",
    "    return torch.from_numpy(subsequent_mask) == 0"
   ]
  },
  {
   "cell_type": "markdown",
   "metadata": {},
   "source": [
    "Маска внимания показывает позицию (строка), на которую разрешено смотреть каждому слову (столбец). Слова блокируются для того, чтобы во время обучения можно было обратить внимание на будущие слова."
   ]
  },
  {
   "cell_type": "code",
   "execution_count": null,
   "metadata": {},
   "outputs": [],
   "source": [
    "ax = plt.gca()\n",
    "data = subsequent_mask(6)[0]\n",
    "ax.imshow(data)\n",
    "\n",
    "ticks = [0, 1, 2, 3, 4, 5]\n",
    "ticklabels = [\"I\", \"am\", \"a\", \"student\", \"at\", \"MSU\"]\n",
    "ax.set_xticks(ticks)\n",
    "ax.set_xticklabels(ticklabels)\n",
    "ax.set_yticks(ticks)\n",
    "ax.set_yticklabels(ticklabels)\n",
    "\n",
    "plt.show()"
   ]
  },
  {
   "cell_type": "markdown",
   "metadata": {},
   "source": [
    "## Трансформер"
   ]
  },
  {
   "cell_type": "markdown",
   "metadata": {},
   "source": [
    "Определим функцию от гиперпараметров для построения полной модели."
   ]
  },
  {
   "cell_type": "markdown",
   "metadata": {},
   "source": [
    "<center><img src=\"https://edunet.kea.su/repo/EduNet_NLP-web_dependencies/L05/transformer_full.png\" width=\"1000\"></center>\n",
    "\n",
    "<center><em>Source: <a href=\"https://lena-voita.github.io/nlp_course/seq2seq_and_attention.html\">Sequence to Sequence and Attention</a></em></center>"
   ]
  },
  {
   "cell_type": "code",
   "execution_count": null,
   "metadata": {},
   "outputs": [],
   "source": [
    "class EncoderDecoder(nn.Module):\n",
    "    \"\"\"\n",
    "    A standard Encoder-Decoder architecture.\n",
    "    Base for this and many other models.\n",
    "    \"\"\"\n",
    "\n",
    "    def __init__(self, encoder, decoder, src_embed, tgt_embed, generator):\n",
    "        super(EncoderDecoder, self).__init__()\n",
    "        self.encoder = encoder\n",
    "        self.decoder = decoder\n",
    "        self.src_embed = src_embed\n",
    "        self.tgt_embed = tgt_embed\n",
    "        self.generator = generator\n",
    "\n",
    "    def forward(self, src, tgt, src_mask, tgt_mask):\n",
    "        \"Take in and process masked src and target sequences.\"\n",
    "        return self.decode(self.encode(src, src_mask), src_mask, tgt, tgt_mask)\n",
    "\n",
    "    def encode(self, src, src_mask):\n",
    "        return self.encoder(self.src_embed(src), src_mask)\n",
    "\n",
    "    def decode(self, memory, src_mask, tgt, tgt_mask):\n",
    "        return self.decoder(self.tgt_embed(tgt), memory, src_mask, tgt_mask)"
   ]
  },
  {
   "cell_type": "code",
   "execution_count": null,
   "metadata": {},
   "outputs": [],
   "source": [
    "class Generator(nn.Module):\n",
    "    \"Define standard linear + softmax generation step.\"\n",
    "\n",
    "    def __init__(self, d_model, vocab):\n",
    "        super(Generator, self).__init__()\n",
    "        self.proj = nn.Linear(d_model, vocab)\n",
    "\n",
    "    def forward(self, x):\n",
    "        return F.log_softmax(self.proj(x), dim=-1)"
   ]
  },
  {
   "cell_type": "code",
   "execution_count": null,
   "metadata": {},
   "outputs": [],
   "source": [
    "def make_model(src_vocab, tgt_vocab, N=6, d_model=512, d_ff=2048, h=8, dropout=0.1):\n",
    "    \"Construct a model from hyperparameters\"\n",
    "    c = copy.deepcopy  # use it for attn, ffn, and position in the model layers\n",
    "    attn = MultiHeadedAttention(h, d_model)\n",
    "    ff = PositionwiseFeedForward(d_model, d_ff, dropout)\n",
    "    position = PositionalEncoding(d_model, dropout)\n",
    "    # insert correct arguments into the EncoderDecoder constructor.\n",
    "    model = EncoderDecoder(\n",
    "        Encoder(EncoderLayer(d_model, c(attn), c(ff), dropout), N),\n",
    "        Decoder(DecoderLayer(d_model, c(attn), c(attn), c(ff), dropout), N),\n",
    "        nn.Sequential(Embeddings(d_model, src_vocab), c(position)),\n",
    "        nn.Sequential(Embeddings(d_model, tgt_vocab), c(position)),\n",
    "        Generator(d_model, tgt_vocab),\n",
    "    )\n",
    "\n",
    "    for p in model.parameters():\n",
    "        if p.dim() > 1:\n",
    "            nn.init.xavier_uniform_(p)\n",
    "    return model"
   ]
  },
  {
   "cell_type": "markdown",
   "metadata": {},
   "source": [
    "Посчитаем количество параметров модели:"
   ]
  },
  {
   "cell_type": "code",
   "execution_count": null,
   "metadata": {},
   "outputs": [],
   "source": [
    "# Small example model.\n",
    "tmp_model = make_model(10, 30, 2)\n",
    "(\n",
    "    sum(p.numel() for p in tmp_model.encoder.parameters())\n",
    "    + sum(p.numel() for p in tmp_model.decoder.parameters())\n",
    "    + sum(p.numel() for p in tmp_model.tgt_embed.parameters())\n",
    "    + sum(p.numel() for p in tmp_model.src_embed.parameters())\n",
    "    + sum(p.numel() for p in tmp_model.generator.parameters())\n",
    ")"
   ]
  },
  {
   "cell_type": "markdown",
   "metadata": {},
   "source": [
    "# Обучение модели"
   ]
  },
  {
   "cell_type": "markdown",
   "metadata": {},
   "source": [
    "В этом разделе описывается режим обучения для нашей модели. Часть функций мы не будем разбирать подробно и импортируем их из файла."
   ]
  },
  {
   "cell_type": "code",
   "execution_count": null,
   "metadata": {},
   "outputs": [],
   "source": [
    "!wget -q https://edunet.kea.su/repo/EduNet_NLP-web_dependencies/L05/transformer_code.py"
   ]
  },
  {
   "cell_type": "markdown",
   "metadata": {},
   "source": [
    "## Деление на батчи и маскирование"
   ]
  },
  {
   "cell_type": "markdown",
   "metadata": {},
   "source": [
    "Вначале определим формат батча, который содержит исходное и целевое предложения для обучения, а также создание масок."
   ]
  },
  {
   "cell_type": "code",
   "execution_count": null,
   "metadata": {},
   "outputs": [],
   "source": [
    "class Batch:\n",
    "    \"Object for holding a batch of data with mask during training.\"\n",
    "\n",
    "    def __init__(self, src, trg=None, pad=0):\n",
    "        self.src = src\n",
    "        self.src_mask = (src != pad).unsqueeze(-2)\n",
    "        if trg is not None:\n",
    "            self.trg = trg[:, :-1]\n",
    "            self.trg_y = trg[:, 1:]\n",
    "            self.trg_mask = self.make_std_mask(self.trg, pad)\n",
    "            self.ntokens = (self.trg_y != pad).data.sum()\n",
    "\n",
    "    @staticmethod\n",
    "    def make_std_mask(tgt, pad):\n",
    "        \"Create a mask to hide padding and future words.\"\n",
    "        tgt_mask = (tgt != pad).unsqueeze(-2)\n",
    "        tgt_mask = tgt_mask & Variable(\n",
    "            subsequent_mask(tgt.size(-1)).type_as(tgt_mask.data)\n",
    "        )\n",
    "        return tgt_mask"
   ]
  },
  {
   "cell_type": "markdown",
   "metadata": {},
   "source": [
    "## Цикл обучения"
   ]
  },
  {
   "cell_type": "markdown",
   "metadata": {},
   "source": [
    "Затем создадим функцию для обучения, подсчета значения функции потерь и обновления параметров."
   ]
  },
  {
   "cell_type": "code",
   "execution_count": null,
   "metadata": {},
   "outputs": [],
   "source": [
    "import time\n",
    "\n",
    "\n",
    "def run_epoch(data_iter, model, loss_compute):\n",
    "    \"Standard Training and Logging Function\"\n",
    "    start = time.time()\n",
    "    total_tokens = 0\n",
    "    total_loss = 0\n",
    "    tokens = 0\n",
    "    for i, batch in enumerate(data_iter):\n",
    "        out = model.forward(batch.src, batch.trg, batch.src_mask, batch.trg_mask)\n",
    "        loss = loss_compute(out, batch.trg_y, batch.ntokens)\n",
    "        total_loss += loss\n",
    "        total_tokens += batch.ntokens\n",
    "        tokens += batch.ntokens\n",
    "        if i % 50 == 1:\n",
    "            elapsed = time.time() - start\n",
    "            print(\n",
    "                \"Epoch Step: %d Loss: %f Tokens per Sec: %f\"\n",
    "                % (i, loss / batch.ntokens, tokens / elapsed)\n",
    "            )\n",
    "            start = time.time()\n",
    "            tokens = 0\n",
    "    return total_loss / total_tokens"
   ]
  },
  {
   "cell_type": "markdown",
   "metadata": {},
   "source": [
    "## Оптимизатор"
   ]
  },
  {
   "cell_type": "markdown",
   "metadata": {},
   "source": [
    "Будем использовать оптимизатор `Adam` [🛠️[doc]](https://pytorch.org/docs/stable/generated/torch.optim.Adam.html) с параметрами $\\beta_1=0.9$, $\\beta_2=0.98$ и $\\epsilon=10^{-9}$.  Скорость обучения будет варьироваться в соответствии с формулой:\n",
    "$$\n",
    "\\text{lrate} = d_{\\text{model}}^{-0.5} \\cdot\n",
    "  \\min(\\text{step_num}^{-0.5},\n",
    "    \\text{step_num} \\cdot \\text{warmup_steps}^{-1.5})\n",
    "$$\n",
    "\n",
    "Это соответствует линейному увеличению скорости обучения на первых этапах $\\text{warmup_steps}$ и последующему ее уменьшению пропорционально обратному квадратному корню из номера шага. Будем использовать значение $\\text{warmup_steps}=4000$."
   ]
  },
  {
   "cell_type": "markdown",
   "metadata": {},
   "source": [
    "Импортируем нужный класс из файла и построим пример графиков для различных размеров модели и гиперпараметров оптимизации."
   ]
  },
  {
   "cell_type": "code",
   "execution_count": null,
   "metadata": {},
   "outputs": [],
   "source": [
    "import matplotlib.pyplot as plt\n",
    "from transformer_code import NoamOpt\n",
    "\n",
    "%matplotlib inline\n",
    "\n",
    "# Three settings of the lrate hyperparameters.\n",
    "opts = [\n",
    "    NoamOpt(512, 1, 4000, None),\n",
    "    NoamOpt(512, 1, 8000, None),\n",
    "    NoamOpt(256, 1, 4000, None),\n",
    "]\n",
    "plt.plot(np.arange(1, 20000), [[opt.rate(i) for opt in opts] for i in range(1, 20000)])\n",
    "plt.legend([\"512:4000\", \"512:8000\", \"256:4000\"])\n",
    "None"
   ]
  },
  {
   "cell_type": "markdown",
   "metadata": {},
   "source": [
    "## Регуляризация"
   ]
  },
  {
   "cell_type": "markdown",
   "metadata": {},
   "source": [
    "Сглаживание меток (label smoothing) — это метод, используемый для регуляризации процесса обучения нейронной сети. Он помогает избежать переобучения за счет уменьшения зависимости модели от правильных меток во время процесса обучения. Это работает за счет повышения уверенности модели в «неправильных» ярлыках.\n",
    "\n",
    "Во время обучения будем использовать сглаживание значений меток с параметром $\\large \\varepsilon_{ls}$ $=0.1$. Вместо one-hot распределения по одной целевой группе мы создаем распределение, в котором наибольшую вероятность имеет правильное слово, а остальные значения вероятности распределяются по всему словарю."
   ]
  },
  {
   "cell_type": "markdown",
   "metadata": {},
   "source": [
    "\\begin{align*}\n",
    "q_i =\n",
    "\\left\\{\n",
    "    \\begin {aligned}\n",
    "         & 1 - \\varepsilon \\quad & \\text{if } i=y, \\\\\n",
    "         & \\varepsilon/(K-1) \\quad & \\text{otherwise}                  \n",
    "    \\end{aligned}\n",
    "\\right.\n",
    "\\end{align*}"
   ]
  },
  {
   "cell_type": "markdown",
   "metadata": {},
   "source": [
    "<center><img src=\"https://edunet.kea.su/repo/EduNet_NLP-web_dependencies/L05/label_smoothing.png\" width=\"700\"></center>\n",
    "\n",
    "<center><em>Source: <a href=\"https://arxiv.org/abs/2011.12562\">Delving Deep into Label Smoothing</a></em></center>"
   ]
  },
  {
   "cell_type": "markdown",
   "metadata": {},
   "source": [
    "# Пример на искусственных данных"
   ]
  },
  {
   "cell_type": "markdown",
   "metadata": {},
   "source": [
    "Попробуем применить модель для выполнения простой задачи копирования. Задан случайный набор входных символов из небольшого словаря. Цель состоит в том, чтобы сгенерировать те же символы."
   ]
  },
  {
   "cell_type": "markdown",
   "metadata": {},
   "source": [
    "Чтобы дальнейший код воспроизводился, зафиксируем случайные состояния:"
   ]
  },
  {
   "cell_type": "code",
   "execution_count": null,
   "metadata": {},
   "outputs": [],
   "source": [
    "import torch\n",
    "import random\n",
    "import numpy as np\n",
    "\n",
    "\n",
    "def set_random_seed(seed):\n",
    "    np.random.seed(seed)\n",
    "    torch.manual_seed(seed)\n",
    "    torch.cuda.manual_seed(seed)\n",
    "    torch.backends.cudnn.deterministic = True\n",
    "    torch.backends.cudnn.benchmark = False\n",
    "    random.seed(seed)\n",
    "\n",
    "\n",
    "set_random_seed(42)"
   ]
  },
  {
   "cell_type": "markdown",
   "metadata": {},
   "source": [
    "Напишем функцию для генерации данных."
   ]
  },
  {
   "cell_type": "code",
   "execution_count": null,
   "metadata": {},
   "outputs": [],
   "source": [
    "def data_gen(V, batch, nbatches):\n",
    "    \"Generate random data for a src-tgt copy task.\"\n",
    "    for i in range(nbatches):\n",
    "        data = torch.from_numpy(np.random.randint(1, V, size=(batch, 10)))\n",
    "        data[:, 0] = 1\n",
    "        src = Variable(data, requires_grad=False)\n",
    "        tgt = Variable(data, requires_grad=False)\n",
    "        yield Batch(src, tgt, 0)"
   ]
  },
  {
   "cell_type": "markdown",
   "metadata": {},
   "source": [
    "Определим функцию потерь."
   ]
  },
  {
   "cell_type": "code",
   "execution_count": null,
   "metadata": {},
   "outputs": [],
   "source": [
    "class SimpleLossCompute:\n",
    "    \"A simple loss compute and train function.\"\n",
    "\n",
    "    def __init__(self, generator, criterion, opt=None):\n",
    "        self.generator = generator\n",
    "        self.criterion = criterion\n",
    "        self.opt = opt\n",
    "\n",
    "    def __call__(self, x, y, norm):\n",
    "        x = self.generator(x)\n",
    "        loss = (\n",
    "            self.criterion(x.contiguous().view(-1, x.size(-1)), y.contiguous().view(-1))\n",
    "            / norm\n",
    "        )\n",
    "        loss.backward()\n",
    "        if self.opt is not None:\n",
    "            self.opt.step()\n",
    "            self.opt.optimizer.zero_grad()\n",
    "        return loss.item() * norm"
   ]
  },
  {
   "cell_type": "markdown",
   "metadata": {},
   "source": [
    "Запустим обучение."
   ]
  },
  {
   "cell_type": "code",
   "execution_count": null,
   "metadata": {},
   "outputs": [],
   "source": [
    "from transformer_code import LabelSmoothing\n",
    "\n",
    "# Train the simple copy task\n",
    "V = 11\n",
    "criterion = LabelSmoothing(size=V, padding_idx=0, smoothing=0.0)\n",
    "model = make_model(V, V, N=2)\n",
    "model_opt = NoamOpt(\n",
    "    model.src_embed[0].d_model,\n",
    "    1,\n",
    "    400,\n",
    "    torch.optim.Adam(model.parameters(), lr=0, betas=(0.9, 0.98), eps=1e-9),\n",
    ")\n",
    "\n",
    "for epoch in range(5):\n",
    "    model.train()\n",
    "    run_epoch(\n",
    "        data_gen(V, 20, 30),\n",
    "        model,\n",
    "        SimpleLossCompute(model.generator, criterion, model_opt),\n",
    "    )\n",
    "    model.eval()\n",
    "    print(\n",
    "        run_epoch(\n",
    "            data_gen(V, 20, 5),\n",
    "            model,\n",
    "            SimpleLossCompute(model.generator, criterion, None),\n",
    "        )\n",
    "    )"
   ]
  },
  {
   "cell_type": "markdown",
   "metadata": {},
   "source": [
    "Применим модель и декодируем её предсказания."
   ]
  },
  {
   "cell_type": "code",
   "execution_count": null,
   "metadata": {},
   "outputs": [],
   "source": [
    "def decode(model, src, src_mask, max_len, start_symbol):\n",
    "    memory = model.encode(src, src_mask)\n",
    "    ys = torch.ones(1, 1).fill_(start_symbol).type_as(src.data)\n",
    "    for i in range(max_len - 1):\n",
    "        out = model.decode(\n",
    "            memory,\n",
    "            src_mask,\n",
    "            Variable(ys),\n",
    "            Variable(subsequent_mask(ys.size(1)).type_as(src.data)),\n",
    "        )\n",
    "        prob = model.generator(out[:, -1])\n",
    "        _, next_word = torch.max(prob, dim=1)\n",
    "        next_word = next_word.data[0]\n",
    "        ys = torch.cat([ys, torch.ones(1, 1).type_as(src.data).fill_(next_word)], dim=1)\n",
    "    return ys\n",
    "\n",
    "\n",
    "model.eval()\n",
    "src = Variable(torch.LongTensor([[1, 2, 3, 4, 5, 6, 7, 8, 9, 10]]))\n",
    "print(f\"Input:\\n{src}\")\n",
    "src_mask = Variable(torch.ones(1, 1, 10))\n",
    "print(f\"Output:\\n{decode(model, src, src_mask, max_len=10, start_symbol=1)}\")"
   ]
  },
  {
   "cell_type": "markdown",
   "metadata": {},
   "source": [
    "# Пример на реальных данных"
   ]
  },
  {
   "cell_type": "markdown",
   "metadata": {},
   "source": [
    "Теперь мы рассмотрим реальный пример с использованием русско-английских параллельных данных проекта [Tatoeba 🛠️[doc]](https://tatoeba.org/ru). Эта задача намного меньше, чем рассмотренная в исходной статье, но она иллюстрирует всю систему в целом."
   ]
  },
  {
   "cell_type": "markdown",
   "metadata": {},
   "source": [
    "## Подготовка данных"
   ]
  },
  {
   "cell_type": "markdown",
   "metadata": {},
   "source": [
    "Воспользуемся библиотекой [spaCy 🛠️[doc]](https://spacy.io/) для токенизации."
   ]
  },
  {
   "cell_type": "code",
   "execution_count": null,
   "metadata": {},
   "outputs": [],
   "source": [
    "from IPython.display import clear_output\n",
    "\n",
    "!python -m spacy download en_core_web_sm -q\n",
    "!python -m spacy download ru_core_news_sm -q\n",
    "!pip install -q datasets==3.6.0\n",
    "\n",
    "clear_output()"
   ]
  },
  {
   "cell_type": "code",
   "execution_count": null,
   "metadata": {},
   "outputs": [],
   "source": [
    "import spacy\n",
    "\n",
    "spacy_ru = spacy.load(\"ru_core_news_sm\")\n",
    "spacy_en = spacy.load(\"en_core_web_sm\")\n",
    "\n",
    "\n",
    "def tokenize_ru(text):\n",
    "    return [tok.text for tok in spacy_ru.tokenizer(text)]\n",
    "\n",
    "\n",
    "def tokenize_en(text):\n",
    "    return [tok.text for tok in spacy_en.tokenizer(text)]\n",
    "\n",
    "\n",
    "BOS_WORD = \"<s>\"\n",
    "EOS_WORD = \"</s>\"\n",
    "BLANK_WORD = \"<blank>\"\n",
    "UNK_WORD = \"<unk>\"\n",
    "\n",
    "MAX_LEN = 100"
   ]
  },
  {
   "cell_type": "markdown",
   "metadata": {},
   "source": [
    "Загрузим данные проекта [Tatoeba 🛠️[doc]](https://huggingface.co/datasets/tatoeba) из раздела [Datasets 🛠️[doc]](https://huggingface.co/datasets) сайта HuggingFace. С этим полезным ресурсом для работы с Трансформерными моделями мы познакомимся подробнее на следующих занятиях.\n",
    "\n",
    "Датасет Tatoeba — это набор из пар предложений на русском языке. Загрузим примеры на английском и русском языках, указав соответствующие значения для `lang1` и `lang2`. Для загрузки набора данных используется метод `load_dataset`."
   ]
  },
  {
   "cell_type": "code",
   "execution_count": null,
   "metadata": {},
   "outputs": [],
   "source": [
    "from datasets import load_dataset\n",
    "\n",
    "data = load_dataset(\"tatoeba\", lang1=\"en\", lang2=\"ru\", trust_remote_code=True)\n",
    "clear_output()"
   ]
  },
  {
   "cell_type": "markdown",
   "metadata": {},
   "source": [
    "Набор данных является объектом класса `DatasetDict`. Он имеет ключи и значения."
   ]
  },
  {
   "cell_type": "code",
   "execution_count": null,
   "metadata": {},
   "outputs": [],
   "source": [
    "data"
   ]
  },
  {
   "cell_type": "markdown",
   "metadata": {},
   "source": [
    "Конкретный объект датасета можно получить по индексу."
   ]
  },
  {
   "cell_type": "code",
   "execution_count": null,
   "metadata": {},
   "outputs": [],
   "source": [
    "data[\"train\"][0]"
   ]
  },
  {
   "cell_type": "markdown",
   "metadata": {},
   "source": [
    "Удалим примеры длинее 100 токенов и разделим данные на обучающую и тестовую выборки."
   ]
  },
  {
   "cell_type": "code",
   "execution_count": null,
   "metadata": {},
   "outputs": [],
   "source": [
    "data2 = (\n",
    "    data[\"train\"]\n",
    "    .filter(\n",
    "        lambda x: max(len(x[\"translation\"][\"ru\"]), len(x[\"translation\"][\"en\"]))\n",
    "        <= MAX_LEN\n",
    "    )\n",
    "    .train_test_split(test_size=1000, shuffle=True, seed=2)\n",
    ")\n",
    "data2"
   ]
  },
  {
   "cell_type": "markdown",
   "metadata": {},
   "source": [
    "Будем решать задачу перевода с русского на английский язык.\n",
    "\n",
    "Запишем в отдельные переменные предложения на исходном языке (source) и на целевом языке (target)."
   ]
  },
  {
   "cell_type": "code",
   "execution_count": null,
   "metadata": {},
   "outputs": [],
   "source": [
    "train_src = [d[\"ru\"] for d in data2[\"train\"][\"translation\"]]\n",
    "train_trg = [d[\"en\"] for d in data2[\"train\"][\"translation\"]]\n",
    "\n",
    "val_src = [d[\"ru\"] for d in data2[\"test\"][\"translation\"]]\n",
    "val_trg = [d[\"en\"] for d in data2[\"test\"][\"translation\"]]"
   ]
  },
  {
   "cell_type": "code",
   "execution_count": null,
   "metadata": {},
   "outputs": [],
   "source": [
    "print(f\"Number of source sentences in train set: {len(train_src)} \")\n",
    "print(f\"Number of target sentences in train set: {len(train_trg)} \")\n",
    "print(f\"Example of source sentence in train set:\\n'{train_src[0]}'\")\n",
    "print(f\"Example of target sentence in train set:\\n'{train_trg[0]}'\\n\")\n",
    "print(f\"Number of source sentences in test set: {len(val_src)} \")\n",
    "print(f\"Number of target sentences in test set: {len(val_trg)} \")\n",
    "print(f\"Example of source sentence in test set:\\n'{val_src[0]}'\")\n",
    "print(f\"Example of target sentence in test set:\\n'{val_trg[0]}'\\n\")"
   ]
  },
  {
   "cell_type": "markdown",
   "metadata": {},
   "source": [
    "Напишем функцию для создания словаря токенов исходного и целевого языков."
   ]
  },
  {
   "cell_type": "code",
   "execution_count": null,
   "metadata": {},
   "outputs": [],
   "source": [
    "from collections import Counter\n",
    "from tqdm.auto import tqdm\n",
    "\n",
    "\n",
    "def build_vocab(\n",
    "    texts,\n",
    "    tokenize,\n",
    "    min_freq=3,\n",
    "    init_token=BOS_WORD,\n",
    "    eos_token=EOS_WORD,\n",
    "    pad_token=BLANK_WORD,\n",
    "    unk_token=UNK_WORD,\n",
    "):\n",
    "    cnt = Counter()\n",
    "    for text in tqdm(texts):\n",
    "        cnt.update(tokenize(text))\n",
    "    vocab = [pad_token, init_token, eos_token, unk_token]\n",
    "    for w, c in cnt.most_common():\n",
    "        if c < min_freq:\n",
    "            break\n",
    "        vocab.append(w)\n",
    "    return vocab\n",
    "\n",
    "\n",
    "src_vocab = build_vocab(train_src, tokenize_ru)\n",
    "tgt_vocab = build_vocab(train_trg, tokenize_en)"
   ]
  },
  {
   "cell_type": "code",
   "execution_count": null,
   "metadata": {},
   "outputs": [],
   "source": [
    "print(f\"Size of source language vocabulary: {len(src_vocab)}\")\n",
    "print(f\"First 50 tokens in source language vocabulary:\\n{src_vocab[:50]}\\n\")\n",
    "print(f\"Size of target language vocabulary: {len(tgt_vocab)}\")\n",
    "print(f\"First 50 tokens in target language vocabulary:\\n{tgt_vocab[:50]}\")"
   ]
  },
  {
   "cell_type": "markdown",
   "metadata": {},
   "source": [
    "Создадим словарь соответствия токенов и индексов для исходного и целевого языков."
   ]
  },
  {
   "cell_type": "code",
   "execution_count": null,
   "metadata": {},
   "outputs": [],
   "source": [
    "inv_voc_src = {w: i for i, w in enumerate(src_vocab)}\n",
    "inv_voc_tgt = {w: i for i, w in enumerate(tgt_vocab)}\n",
    "\n",
    "print(f\"Mapping word2id dictionary for source language: {inv_voc_src}\")\n",
    "print(f\"Mapping word2id dictionary for target language: {inv_voc_tgt}\")"
   ]
  },
  {
   "cell_type": "markdown",
   "metadata": {},
   "source": [
    "Токенизируем предложения, заменив токены на индексы в соответствии с нужным словарем."
   ]
  },
  {
   "cell_type": "code",
   "execution_count": null,
   "metadata": {},
   "outputs": [],
   "source": [
    "def tokenize(text, tokenize_fn, inv_vocab, bos_id=1, eos_id=2, unk_id=3):\n",
    "    result = [bos_id]\n",
    "    for word in tokenize_fn(text):\n",
    "        if word in inv_vocab:\n",
    "            result.append(inv_vocab[word])\n",
    "        else:\n",
    "            result.append(unk_id)\n",
    "    result.append(eos_id)\n",
    "    return result\n",
    "\n",
    "\n",
    "train_src_tokenized = [tokenize(t, tokenize_ru, inv_voc_src) for t in tqdm(train_src)]\n",
    "train_tgt_tokenized = [tokenize(t, tokenize_en, inv_voc_tgt) for t in tqdm(train_trg)]\n",
    "\n",
    "val_src_tokenized = [tokenize(t, tokenize_ru, inv_voc_src) for t in tqdm(val_src)]\n",
    "val_tgt_tokenized = [tokenize(t, tokenize_en, inv_voc_tgt) for t in tqdm(val_trg)]"
   ]
  },
  {
   "cell_type": "code",
   "execution_count": null,
   "metadata": {},
   "outputs": [],
   "source": [
    "print(\n",
    "    f\"First sentence in source language train set after tokenization:\\n{train_src_tokenized[0]}\"\n",
    ")\n",
    "print(\n",
    "    f\"First sentence in target language train set after tokenization:\\n{train_tgt_tokenized[0]}\"\n",
    ")"
   ]
  },
  {
   "cell_type": "markdown",
   "metadata": {},
   "source": [
    "Определим функцию для выравнивания длины последовательностей путём дополнения:"
   ]
  },
  {
   "cell_type": "code",
   "execution_count": null,
   "metadata": {},
   "outputs": [],
   "source": [
    "def padding(sequences, pad_id=0):\n",
    "    max_len = max(len(s) for s in sequences)\n",
    "    return [s + [pad_id] * (max_len - len(s)) for s in sequences]"
   ]
  },
  {
   "cell_type": "code",
   "execution_count": null,
   "metadata": {},
   "outputs": [],
   "source": [
    "print(\n",
    "    f\"Example sentences in source language train set after tokenization:\\n\\\n",
    "{padding(train_src_tokenized[0:3])}\"\n",
    ")"
   ]
  },
  {
   "cell_type": "markdown",
   "metadata": {},
   "source": [
    "Немного поменяем структуру батча и функцию для маскирования."
   ]
  },
  {
   "cell_type": "code",
   "execution_count": null,
   "metadata": {},
   "outputs": [],
   "source": [
    "class Batch:\n",
    "    def __init__(self, src, trg, src_mask, trg_mask, ntokens):\n",
    "        self.src = src\n",
    "        self.trg = trg\n",
    "        self.src_mask = src_mask\n",
    "        self.trg_mask = trg_mask\n",
    "        self.ntokens = ntokens\n",
    "\n",
    "\n",
    "def make_std_mask(src, tgt, pad):\n",
    "    src_mask = (src != pad).unsqueeze(-2)\n",
    "    tgt_mask = (tgt != pad).unsqueeze(-2)\n",
    "    tgt_mask = tgt_mask & Variable(subsequent_mask(tgt.size(-1)).type_as(tgt_mask.data))\n",
    "    return src_mask, tgt_mask"
   ]
  },
  {
   "cell_type": "markdown",
   "metadata": {},
   "source": [
    "Определим функцию для рандомизации данных при обучении."
   ]
  },
  {
   "cell_type": "code",
   "execution_count": null,
   "metadata": {},
   "outputs": [],
   "source": [
    "import random\n",
    "from tqdm.auto import trange\n",
    "\n",
    "\n",
    "def data_iterator(srcs, tgts, batch_size=128, shuffle=True):\n",
    "    if shuffle:\n",
    "        pairs = list(zip(srcs, tgts))\n",
    "        random.shuffle(pairs)\n",
    "        srcs, tgts = [list(t) for t in zip(*pairs)]\n",
    "\n",
    "    for i in trange(0, len(srcs), batch_size):\n",
    "        x = torch.tensor(padding(srcs[i : i + batch_size]))\n",
    "        y = torch.tensor(padding(tgts[i : i + batch_size]))\n",
    "        src = Variable(x, requires_grad=False)\n",
    "        tgt = Variable(y, requires_grad=False)\n",
    "        src_mask, tgt_mask = make_std_mask(src, tgt, 0)\n",
    "        yield Batch(src, tgt, src_mask, tgt_mask, (tgt[1:] != 0).data.sum())"
   ]
  },
  {
   "cell_type": "markdown",
   "metadata": {},
   "source": [
    "## Обучение"
   ]
  },
  {
   "cell_type": "markdown",
   "metadata": {},
   "source": [
    "Проверим, доступен ли нам ускоритель `torch.cuda` [🛠️[doc]](https://pytorch.org/docs/stable/notes/cuda.html)."
   ]
  },
  {
   "cell_type": "code",
   "execution_count": null,
   "metadata": {},
   "outputs": [],
   "source": [
    "device = torch.device(\"cuda\" if torch.cuda.is_available() else \"cpu\")\n",
    "print(f\"Using {device} device\")"
   ]
  },
  {
   "cell_type": "markdown",
   "metadata": {},
   "source": [
    "Создадим модель с архитектурой Трансформер и выведем ее структуру."
   ]
  },
  {
   "cell_type": "code",
   "execution_count": null,
   "metadata": {},
   "outputs": [],
   "source": [
    "from transformer_code import get_std_opt\n",
    "\n",
    "# Create the model an load it onto our GPU\n",
    "pad_idx = tgt_vocab.index(\"<blank>\")\n",
    "model = make_model(len(src_vocab), len(tgt_vocab), N=6)\n",
    "model_opt = get_std_opt(model)\n",
    "model.to(device)"
   ]
  },
  {
   "cell_type": "markdown",
   "metadata": {},
   "source": [
    "Посчитаем количество параметров модели:"
   ]
  },
  {
   "cell_type": "code",
   "execution_count": null,
   "metadata": {},
   "outputs": [],
   "source": [
    "def count_parameters(model: nn.Module):\n",
    "    return sum(p.numel() for p in model.parameters() if p.requires_grad)\n",
    "\n",
    "\n",
    "print(f\"The model has {count_parameters(model):,} trainable parameters\")"
   ]
  },
  {
   "cell_type": "markdown",
   "metadata": {},
   "source": [
    "Установим размер батча и определим функцию потерь."
   ]
  },
  {
   "cell_type": "code",
   "execution_count": null,
   "metadata": {},
   "outputs": [],
   "source": [
    "BATCH_SIZE = 128\n",
    "criterion = LabelSmoothing(size=len(tgt_vocab), padding_idx=pad_idx, smoothing=0.1)\n",
    "criterion.cuda()"
   ]
  },
  {
   "cell_type": "markdown",
   "metadata": {},
   "source": [
    "Чтобы обучить нашу довольно большую модель, определим функцию для подсчета ошибки, которая будет использоваться для оптимизации обучения."
   ]
  },
  {
   "cell_type": "code",
   "execution_count": null,
   "metadata": {},
   "outputs": [],
   "source": [
    "def loss_backprop(generator, criterion, out, targets, normalize):\n",
    "    \"\"\"\n",
    "    Memory optmization. Compute each timestep separately and sum grads.\n",
    "    \"\"\"\n",
    "    assert out.size(1) == targets.size(1)\n",
    "    total = 0.0\n",
    "    out_grad = []\n",
    "    for i in range(out.size(1)):\n",
    "        out_column = Variable(out[:, i].data, requires_grad=True)\n",
    "        gen = generator(out_column)\n",
    "        loss = criterion(gen, targets[:, i]) / normalize\n",
    "        total += loss.item()  # .data[0]\n",
    "        loss.backward()\n",
    "        out_grad.append(out_column.grad.data.clone())\n",
    "    out_grad = torch.stack(out_grad, dim=1)\n",
    "    out.backward(gradient=out_grad)\n",
    "    return total"
   ]
  },
  {
   "cell_type": "markdown",
   "metadata": {},
   "source": [
    "Определим функции для обучения и валидации."
   ]
  },
  {
   "cell_type": "code",
   "execution_count": null,
   "metadata": {},
   "outputs": [],
   "source": [
    "def train_epoch(train_iter, model, criterion, opt, transpose=False):\n",
    "    model.train()\n",
    "    for i, batch in enumerate(train_iter):\n",
    "        src, trg, src_mask, trg_mask = (\n",
    "            batch.src.to(device),\n",
    "            batch.trg.to(device),\n",
    "            batch.src_mask.to(device),\n",
    "            batch.trg_mask.to(device),\n",
    "        )\n",
    "        out = model.forward(src, trg[:, :-1], src_mask, trg_mask[:, :-1, :-1])\n",
    "        loss = loss_backprop(model.generator, criterion, out, trg[:, 1:], batch.ntokens)\n",
    "\n",
    "        model_opt.step()\n",
    "        model_opt.optimizer.zero_grad()\n",
    "        if i % 10 == 1:\n",
    "            print(i, loss, model_opt._rate)\n",
    "\n",
    "\n",
    "def valid_epoch(valid_iter, model, criterion, transpose=False):\n",
    "    model.eval()\n",
    "    total = 0\n",
    "    for batch in valid_iter:\n",
    "        src, trg, src_mask, trg_mask = (\n",
    "            batch.src.to(device),\n",
    "            batch.trg.to(device),\n",
    "            batch.src_mask.to(device),\n",
    "            batch.trg_mask.to(device),\n",
    "        )\n",
    "        out = model.forward(src, trg[:, :-1], src_mask, trg_mask[:, :-1, :-1])\n",
    "        loss = loss_backprop(model.generator, criterion, out, trg[:, 1:], batch.ntokens)"
   ]
  },
  {
   "cell_type": "markdown",
   "metadata": {},
   "source": [
    "Обучение модели занимает около часа. Его можно осуществить следующим образом:\n",
    "\n",
    "```python\n",
    "for epoch in trange(3):\n",
    "    train_epoch(data_iterator(train_src_tokenized, train_tgt_tokenized, batch_size=BATCH_SIZE), model, criterion, model_opt)\n",
    "    valid_epoch(data_iterator(val_src_tokenized, val_tgt_tokenized, batch_size=BATCH_SIZE), model, criterion)\n",
    "\n",
    "torch.save(model.state_dict(), \"model_weights.pth\")\n",
    "```"
   ]
  },
  {
   "cell_type": "markdown",
   "metadata": {},
   "source": [
    "В целях экономии времени и ресурсов загрузим веса предварительно обученной модели."
   ]
  },
  {
   "cell_type": "code",
   "execution_count": null,
   "metadata": {},
   "outputs": [],
   "source": [
    "!wget -q https://edunet.kea.su/repo/EduNet_NLP-web_dependencies/datasets/ru_en_model.zip -P /content/weights\n",
    "!unzip -q /content/weights/ru_en_model.zip -d ./weights"
   ]
  },
  {
   "cell_type": "code",
   "execution_count": null,
   "metadata": {},
   "outputs": [],
   "source": [
    "model = make_model(len(src_vocab), len(tgt_vocab), N=6)\n",
    "model.load_state_dict(torch.load(\"weights/model_weights.pth\"))\n",
    "model.to(device)\n",
    "print(model)"
   ]
  },
  {
   "cell_type": "markdown",
   "metadata": {},
   "source": [
    "## Тестирование и оценка"
   ]
  },
  {
   "cell_type": "markdown",
   "metadata": {},
   "source": [
    "Применим модель к произвольному предложению."
   ]
  },
  {
   "cell_type": "code",
   "execution_count": null,
   "metadata": {},
   "outputs": [],
   "source": [
    "model.eval()\n",
    "sent = \"Вы можете перевести это предложение?\"\n",
    "src = Variable(torch.LongTensor([tokenize(sent, tokenize_ru, inv_voc_src)]))\n",
    "src_mask = (src != src_vocab.index(\"<blank>\")).unsqueeze(-2)\n",
    "print(f\"Tokenized source sentence:\\n{src}\")\n",
    "print(f\"Mask for tokenized source sentence:\\n{src_mask}\")"
   ]
  },
  {
   "cell_type": "code",
   "execution_count": null,
   "metadata": {},
   "outputs": [],
   "source": [
    "out = decode(\n",
    "    model,\n",
    "    src.to(device),\n",
    "    src_mask.to(device),\n",
    "    max_len=60,\n",
    "    start_symbol=tgt_vocab.index(\"<s>\"),\n",
    ")\n",
    "print(f\"Tokenized translated sentence:\\n{out}\")"
   ]
  },
  {
   "cell_type": "code",
   "execution_count": null,
   "metadata": {},
   "outputs": [],
   "source": [
    "subword_punctuation = [\",\", \".\", \"!\", \"?\", \"n't\", \"'s\", \"'ve\", \"'re\", \"'m\", \"'d\", \"'ll\"]\n",
    "trans = \"\"\n",
    "for i in range(1, out.size(1)):\n",
    "    sym = tgt_vocab[out[0, i]]\n",
    "    if sym == \"</s>\":\n",
    "        break\n",
    "    if i != 1 and sym not in subword_punctuation:\n",
    "        trans += \" \"\n",
    "    trans += sym\n",
    "print(f\"Translation: {trans}\")"
   ]
  },
  {
   "cell_type": "markdown",
   "metadata": {},
   "source": [
    "Чтобы оценить качество модели, нужно записать предсказания модели для всех предложений валидационной выборки.\n",
    "\n",
    "Попробуем сделать это для 20 первых предложений."
   ]
  },
  {
   "cell_type": "code",
   "execution_count": null,
   "metadata": {},
   "outputs": [],
   "source": [
    "def inference(source_sentences, subword_punctuation):\n",
    "    model.eval()\n",
    "    predictions = []\n",
    "    for sentence in source_sentences:\n",
    "        src = torch.LongTensor(sentence).unsqueeze(0)\n",
    "        src_mask = (src != src_vocab.index(\"<blank>\")).unsqueeze(-2)\n",
    "        out = decode(\n",
    "            model,\n",
    "            src.to(device),\n",
    "            src_mask.to(device),\n",
    "            max_len=60,\n",
    "            start_symbol=tgt_vocab.index(\"<s>\"),\n",
    "        )\n",
    "        trans = \"\"\n",
    "        for i in range(1, out.size(1)):\n",
    "            sym = tgt_vocab[out[0, i]]\n",
    "            if sym == \"</s>\":\n",
    "                break\n",
    "            if i != 1 and sym not in subword_punctuation:\n",
    "                trans += \" \"\n",
    "            trans += sym\n",
    "        predictions.append(trans)\n",
    "    return predictions"
   ]
  },
  {
   "cell_type": "code",
   "execution_count": null,
   "metadata": {},
   "outputs": [],
   "source": [
    "predictions = inference(val_src_tokenized[:20], subword_punctuation)\n",
    "for i in range(20):\n",
    "    print(f\"Source sentence: {val_src[i]}\")\n",
    "    print(f\"Translation: {predictions[i]}\")\n",
    "    print(f\"Target sentence: {val_trg[i]}\")\n",
    "    print()"
   ]
  },
  {
   "cell_type": "markdown",
   "metadata": {},
   "source": [
    "Применить модель ко всем предложениям можно следующим образом:\n",
    "\n",
    "```python\n",
    "val_predictions = inference(val_src_tokenized, subword_punctuation)\n",
    "with open(r\"val_predictions.txt\", \"w\") as file:\n",
    "    for line in val_predictions:\n",
    "        file.write(line + '\\n')\n",
    "```"
   ]
  },
  {
   "cell_type": "markdown",
   "metadata": {},
   "source": [
    "Однако это займет около 20 минут, поэтому загрузим готовый файл с переводами:"
   ]
  },
  {
   "cell_type": "code",
   "execution_count": null,
   "metadata": {},
   "outputs": [],
   "source": [
    "!wget https://edunet.kea.su/repo/EduNet_NLP-web_dependencies/datasets/val_predictions.txt -q"
   ]
  },
  {
   "cell_type": "code",
   "execution_count": null,
   "metadata": {},
   "outputs": [],
   "source": [
    "val_predictions = []\n",
    "with open(\"val_predictions.txt\", \"r\") as file:\n",
    "    for line in file:\n",
    "        if line != \"\":\n",
    "            val_predictions.append(line.strip())"
   ]
  },
  {
   "cell_type": "markdown",
   "metadata": {},
   "source": [
    "Посчитаем значение метрики BLEU при разных значениях $n$-грамм."
   ]
  },
  {
   "cell_type": "code",
   "execution_count": null,
   "metadata": {},
   "outputs": [],
   "source": [
    "!pip install torcheval -q"
   ]
  },
  {
   "cell_type": "code",
   "execution_count": null,
   "metadata": {},
   "outputs": [],
   "source": [
    "import torcheval\n",
    "from torcheval.metrics.functional import bleu_score\n",
    "\n",
    "for n in range(2, 5):\n",
    "    bleu = bleu_score(val_predictions, val_trg, n_gram=n)\n",
    "    print(f\"BLEU ({n}-gram)= {bleu.item():.2f}\")"
   ]
  },
  {
   "cell_type": "markdown",
   "metadata": {},
   "source": [
    "Метрика BLEU была посчитана для моделей на основе архитектуры Трансформер и моделей предшествующего поколения при переводе с английского на французский (EN-FR) и с английского на немецкий (EN-DE). Для оценки использовались данные воркшопа по машинному переводу [WMT 🛠️[doc]](https://paperswithcode.com/dataset/wmt-2014) (Workshop on Statistical Machine Translation) 2014 года.\n",
    "\n",
    "Результаты показывают, что при переводе с английского на немецкий модель Transformer (big) превосходит лучшие ранее представленные модели (включая ансамбли) более чем на 2,0 балла по шкале BLEU, что дает новый показатель BLEU в 28,4 балла. Обучение на 8 графических процессорах P100 заняло 3,5 дня. Даже Transformer (base model) превосходит все ранее опубликованные модели и ансамбли, при этом стоимость обучения значительно ниже, чем у любой из конкурирующих моделей. При переводе с английского на французский модель Transformer (big) набрала 41,0 балл по шкале BLEU, превзойдя все ранее опубликованные модели."
   ]
  },
  {
   "cell_type": "markdown",
   "metadata": {},
   "source": [
    "<center><img src =\"https://edunet.kea.su/repo/EduNet_NLP-web_dependencies/L05/wmt_table.jpg\" width=\"650\"><center>\n",
    "\n",
    "<center><em>Source: <a href=\"https://arxiv.org/pdf/1706.03762\">Tensor2Tensor for Neural Machine Translation</a></em></center>"
   ]
  },
  {
   "cell_type": "markdown",
   "metadata": {},
   "source": [
    "Мы можем дополнительно визуализировать результат, чтобы увидеть, что происходит на каждом уровне внимания. Для этого нужно получить веса внимания, полученные из энкодера и декодера.\n",
    "\n",
    "Вспомним, что блок энкодера и блок декодера состоят из 6 слоев."
   ]
  },
  {
   "cell_type": "code",
   "execution_count": null,
   "metadata": {},
   "outputs": [],
   "source": [
    "print(f\"Encoder layers:\\n{model.encoder.layers}\")\n",
    "print(f\"Decoder layers:\\n{model.decoder.layers}\")"
   ]
  },
  {
   "cell_type": "markdown",
   "metadata": {},
   "source": [
    "Можем для примера получить веса внимания для первого слоя."
   ]
  },
  {
   "cell_type": "code",
   "execution_count": null,
   "metadata": {},
   "outputs": [],
   "source": [
    "print(\n",
    "    f\"Encoder Layer 0:\\n \\\n",
    "{model.encoder.layers[0].self_attn}\"\n",
    ")\n",
    "print(\n",
    "    f\"Decoder Layer 0:\\n \\\n",
    "{model.decoder.layers[0].self_attn}\"\n",
    ")"
   ]
  },
  {
   "cell_type": "markdown",
   "metadata": {},
   "source": [
    "Поскольку мы используем множественное внимание, каждый слой содержит несколько матриц внимания. Попробуем обратиться к первой голове внимания."
   ]
  },
  {
   "cell_type": "code",
   "execution_count": null,
   "metadata": {},
   "outputs": [],
   "source": [
    "print(\n",
    "    f\"Encoder Layer 0 Attention Head 0:\\n \\\n",
    "{model.encoder.layers[0].self_attn.linears[0]}\"\n",
    ")\n",
    "print(\n",
    "    f\"Decoder Layer 0 Attention Head 0:\\n \\\n",
    "{model.decoder.layers[0].self_attn.linears[0]}\"\n",
    ")"
   ]
  },
  {
   "cell_type": "markdown",
   "metadata": {},
   "source": [
    "Для получения собственно весов внимания нужно обратиться к атрибуту `weight`. Чтобы оставить только числовые значения, нужно вызвать атрибут `data`."
   ]
  },
  {
   "cell_type": "code",
   "execution_count": null,
   "metadata": {},
   "outputs": [],
   "source": [
    "print(\n",
    "    f\"Encoder Layer 0 Attention Head 0 attention weights:\\n \\\n",
    "{model.encoder.layers[0].self_attn.linears[0].weight.data}\"\n",
    ")\n",
    "print(\n",
    "    f\"Decoder Layer 0 Attention Head 0 attention weights:\\n \\\n",
    "{model.decoder.layers[0].self_attn.linears[0].weight.data}\"\n",
    ")"
   ]
  },
  {
   "cell_type": "markdown",
   "metadata": {},
   "source": [
    "Для отображения весов внимания на тепловой карте нам нужны только веса, соответствующие токенам предложения, поэтому мы ограничим размер матриц.\n",
    "\n",
    "Выведем матрицы весов внимания для первого слоя энкодера и декодера для всех голов внимания в трех вариантах:\n",
    "- внутреннее внимание энкодера\n",
    "- внутреннее внимание декодера\n",
    "- внимание из энкодера в декодер"
   ]
  },
  {
   "cell_type": "code",
   "execution_count": null,
   "metadata": {},
   "outputs": [],
   "source": [
    "import seaborn\n",
    "\n",
    "seaborn.set_context(context=\"talk\")\n",
    "\n",
    "src_sent, tgt_sent = sent.split(), trans.split()\n",
    "\n",
    "\n",
    "def draw(data, x, y, ax):\n",
    "    seaborn.heatmap(data, xticklabels=x, square=True, yticklabels=y, cbar=False, ax=ax)\n",
    "\n",
    "\n",
    "layer = 0\n",
    "fig, axs = plt.subplots(1, 4, figsize=(20, 10))\n",
    "print(\"Encoder Layer\", layer + 1)\n",
    "for h in range(4):\n",
    "    draw(\n",
    "        model.encoder.layers[layer]\n",
    "        .self_attn.linears[h]\n",
    "        .weight.data[: len(src_sent), : len(src_sent)]\n",
    "        .cpu(),\n",
    "        src_sent,\n",
    "        src_sent if h == 0 else [],\n",
    "        ax=axs[h],\n",
    "    )\n",
    "plt.show()\n",
    "\n",
    "fig, axs = plt.subplots(1, 4, figsize=(20, 10))\n",
    "print(\"Decoder Self Layer\", layer + 1)\n",
    "for h in range(4):\n",
    "    draw(\n",
    "        model.decoder.layers[layer]\n",
    "        .self_attn.linears[h]\n",
    "        .weight.data[: len(tgt_sent), : len(tgt_sent)]\n",
    "        .cpu(),\n",
    "        tgt_sent,\n",
    "        tgt_sent if h == 0 else [],\n",
    "        ax=axs[h],\n",
    "    )\n",
    "plt.show()\n",
    "print(\"Decoder Src Layer\", layer + 1)\n",
    "fig, axs = plt.subplots(1, 4, figsize=(20, 10))\n",
    "for h in range(4):\n",
    "    draw(\n",
    "        model.decoder.layers[layer]\n",
    "        .self_attn.linears[h]\n",
    "        .weight.data[: len(tgt_sent), : len(src_sent)]\n",
    "        .cpu(),\n",
    "        src_sent,\n",
    "        tgt_sent if h == 0 else [],\n",
    "        ax=axs[h],\n",
    "    )\n",
    "plt.show()"
   ]
  },
  {
   "cell_type": "markdown",
   "metadata": {},
   "source": [
    "# Развитие архитектуры Трансформер"
   ]
  },
  {
   "cell_type": "markdown",
   "metadata": {},
   "source": [
    "Архитектура классического Трансформера состоит из кодировщика и декодировщика. Эти блоки можно использовать по отдельности:\n",
    "- Модели на основе декодировщика применяются для генерации текста и используют маскированное внимание (Generative Pre-trained Transformers, GPT)\n",
    "- Модели на основе кодировщика применяются для других задач: классификации одного или пары предложений, теггирования последовательности, поиска ответа на вопрос (Bidirectional Encoder Representations from Transformers, BERT)\n",
    "\n",
    "Архитектуру этих моделей мы подробно рассмотрим на следующих двух занятиях."
   ]
  },
  {
   "cell_type": "markdown",
   "metadata": {},
   "source": [
    "<center><img src=\"https://edunet.kea.su/repo/EduNet_NLP-web_dependencies/L05/transformer_models.PNG\" width=\"800\"></center>\n",
    "\n",
    "<center><em>Source: <a href=\"https://medium.com/@reyhaneh.esmailbeigi/bert-gpt-and-bart-a-short-comparison-5d6a57175fca\">BERT, GPT and BART: a short comparison</a></em></center>"
   ]
  },
  {
   "cell_type": "markdown",
   "metadata": {},
   "source": [
    "Классический трансформер на основе кодировщика и декодировщика используется для задачи машинного перевода — преобразования одной последовательности в другую, при эхтом длина входной и выходной последовательностей может не совпадать (sequence-to-sequence).\n",
    "\n",
    "Помимо машинного перевода, к задачам sequence-to-sequence относятся следующие:\n",
    "- Суммаризация\n",
    "- Перефразирование\n",
    "- Перенос стиля текста\n",
    "- Генерация ответов в диалоге\n",
    "- Исправление опечаток\n",
    "- Преобразование данных в текст (структурированных данных, изображений, записей речи).\n",
    "\n",
    "В этом разделе рассмотрим модели на основе кодировщика и декодировщика: BART и T5."
   ]
  },
  {
   "cell_type": "markdown",
   "metadata": {},
   "source": [
    "## BART"
   ]
  },
  {
   "cell_type": "markdown",
   "metadata": {},
   "source": [
    "BART — sequence-to-sequence Трансформер, который предобучается реконструкции испорченного зашумлённого текста. На входе у модели каким-то образом испорченный текст, а на выходе ей надо сгенерировать его оригинальную версию.\n",
    "\n",
    "[[paper] 🎓 Lewis M. et al. (2019). BART: Denoising Sequence-to-Sequence Pre-training for Natural Language Generation, Translation, and Comprehension](https://arxiv.org/abs/1910.13461)\n",
    "\n",
    "Способы зашумления текста:\n",
    "\n",
    "- Маскировка токенов\n",
    "- Удаление токенов\n",
    "- Маскировка нескольких подряд идущих токенов одним спецтокеном [MASK]\n",
    "- Перемешивание предложений\n",
    "- \"Вращение\" документа относительно случайного токена\n",
    "  - делаем этот токен началом документа, а всё, что было до него, переносим в конец"
   ]
  },
  {
   "cell_type": "markdown",
   "metadata": {},
   "source": [
    "<center><img src=\"https://edunet.kea.su/repo/EduNet_NLP-web_dependencies/L05/bart.png\" width=\"500\"></center>\n",
    "\n",
    "<center><em>Source: <a href=\"https://arxiv.org/abs/1910.13461\">BART: Denoising Sequence-to-Sequence Pre-training</a></em></center>"
   ]
  },
  {
   "cell_type": "markdown",
   "metadata": {},
   "source": [
    "Кроме английской версии BART была обучена ещё и многоязычная версия этой модели, mBART. При предобучении использовались одноязычные части корпуса, то есть никаких переводов модель не видела. Русский язык — второй по степени представленности после английского. Это позволяет использовать эту модель и для русского языка тоже.\n",
    "\n",
    "[[paper] 🎓 Liu Y. et al. (2020). Multilingual Denoising Pre-training for Neural Machine Translation](https://arxiv.org/abs/2001.08210)"
   ]
  },
  {
   "cell_type": "markdown",
   "metadata": {},
   "source": [
    "## T5"
   ]
  },
  {
   "cell_type": "markdown",
   "metadata": {},
   "source": [
    "T5 — ещё одна sequence-to-sequence модель. Её название расшифровывается  как text-to-text transfer transformer.\n",
    "\n",
    "[[paper] 🎓 Raffel C. (2019). Exploring the Limits of Transfer Learning with a Unified Text-to-Text Transformer](https://arxiv.org/abs/1910.10683)\n",
    "\n",
    "Text-to-text означает, что модель T5 принимает на вход тексты и \"читает\" их кодировщиком, а потом \"пишет\" декодировщиком новые тексты и отдаёт на выход. Слово transfer говорит о цели этой модели: она предобучалась восстанавливать пропущенные фрагменты текста. При обучении промежутки исходного текста скрываются, и задача модели — их сгенерировать. В отличие от BART, где текст генерируется целиком, T5 нужно сгенерировать только сами скрытые промежутки."
   ]
  },
  {
   "cell_type": "markdown",
   "metadata": {},
   "source": [
    "<center><img src=\"https://edunet.kea.su/repo/EduNet_NLP-web_dependencies/L05/t5.png\" width=\"400\"></center>\n",
    "\n",
    "<center><em>Source: <a href=\"https://arxiv.org/abs/1910.10683\">Text-to-Text Transformer</a></em></center>"
   ]
  },
  {
   "cell_type": "markdown",
   "metadata": {},
   "source": [
    "Аналогично mBART, кроме английской версии T5 была обучена ещё и многоязычная версия этой модели, mT5.\n",
    "\n",
    "[[paper] 🎓 Xue L. (2020). mT5: A massively multilingual pre-trained text-to-text transformer](https://arxiv.org/abs/2010.11934)"
   ]
  },
  {
   "cell_type": "markdown",
   "metadata": {},
   "source": [
    "# Токенизация"
   ]
  },
  {
   "cell_type": "markdown",
   "metadata": {},
   "source": [
    "Один из ключевых этапов в обработке текста — **токенизация**. На этом этапе происходит разделение текста на отдельные единицы — предложения и слова. Затем создается словарь, в который заносятся уникальные лексемы, встретившиеся в корпусе или тексте. На этих этапах можно столкнуться с несколькими проблемами."
   ]
  },
  {
   "cell_type": "markdown",
   "metadata": {},
   "source": [
    "**Проблема 1. Размер словаря**\n",
    "\n",
    "Самый простой способ токенизации — назначить каждому уникальному слову своё число. Но есть проблема: слов и их форм миллионы, и поэтому словарь таких слов получится чересчур большим, а это будет затруднять обучение модели.\n",
    "\n",
    "Можно разбивать текст не на слова, а на отдельные буквы (char-level tokenization), тогда в словаре будет всего несколько десятков токенов, НО в таком случае уже сам текст после токенизации будет слишком длинным, а это тоже затрудняет обучение."
   ]
  },
  {
   "cell_type": "markdown",
   "metadata": {},
   "source": [
    "**Проблема 2. Богатая морфология**\n",
    "\n",
    "\"Нейросеть\", \"нейросетью\", \"нейросетями\" являются разными словами, но имеют одинаковый смысл. Эту проблему классически всегда решал этап **стемминга** (удаление суффикса и окончания) или **лемматизации** (приведение слова к канонической форме)."
   ]
  },
  {
   "cell_type": "markdown",
   "metadata": {},
   "source": [
    "**Проблема 3. Сложные слова**\n",
    "\n",
    "Но все проблемы эти этапы не решают. В германских языках (в немецком, шведском, датском) очень продуктивно образовываются новые сложные слова. Значения таких слов выводятся из значения их элементов. Их можно создавать бесконечно долго, и большинство из них не зафиксировано в «бумажном» словаре."
   ]
  },
  {
   "cell_type": "markdown",
   "metadata": {},
   "source": [
    "<center><img src =\"https://edunet.kea.su/repo/EduNet_NLP-web_dependencies/L05/swedish_word_example.png\" width=\"600\"></center>\n",
    "\n",
    "<center><em>Пример шведского названия гаечного ключа для колеса мотоцикла</a></em></center>\n",
    "\n",
    "<center><em>Source: <a href=\"https://sysblok.ru/nlp/7250/\">Как работает алгоритм токенизации текстов для нейросетей</a></em></center>"
   ]
  },
  {
   "cell_type": "markdown",
   "metadata": {},
   "source": [
    "При работе с этими языками сложность также возникает на этапе составления словаря. При составлении словаря модели ориентируются на частотность (например, сохраняем слово, если оно встретилось чаще пяти раз), поэтому не будут запоминать такое длинное и сложное слово."
   ]
  },
  {
   "cell_type": "markdown",
   "metadata": {},
   "source": [
    "**Проблема 4: Границы слова**\n",
    "\n",
    "Для нас, привыкших к языкам европейского типа, слово — это набор букв между пробелами и знаками препинания. Но в английском языке многие сложные слова пишутся раздельно, а в японском, наоборот, между словами вообще нет пробелов. Поэтому универсальный токенизатор создать было нелегко."
   ]
  },
  {
   "cell_type": "markdown",
   "metadata": {},
   "source": [
    "## BPE-токенизация"
   ]
  },
  {
   "cell_type": "markdown",
   "metadata": {},
   "source": [
    "Byte Pair Encoding (BPE) — алгоритм для токенизации на подслова. Он позволяет эксплицитно задавать размер словаря. Этот тип токенизации используется во многих моделях трансформеров, включая GPT, GPT-2, RoBERTa, BART.\n",
    "\n",
    "Есть два полярных варианта: токенизация на слова и токенизация на символы. Будем последовательно двигаться от посимвольной токенизации к пословной. Остановимся в тот момент, когда будет достигнут нужный размер словаря.\n",
    "\n",
    "Для каждого слова подсчитывается частота встречаемости в корпусе. Вначале все слова в корпусе разбиваются на символы, к последним символам прибавляется символ конца слова."
   ]
  },
  {
   "cell_type": "markdown",
   "metadata": {},
   "source": [
    "<center><img src =\"https://edunet.kea.su/repo/EduNet_NLP-web_dependencies/L05/BPE1.png\" width=\"700\"></center>\n",
    "\n",
    "<center><em>Source: <a href=\"https://wikidocs.net/166315\">Tokenizers: How machines read </a></em></center>"
   ]
  },
  {
   "cell_type": "markdown",
   "metadata": {},
   "source": [
    "Теперь наш словарь состоит из символов. Для каждого подсчитана частота встречаемости в корпусе. Размер словаря равен 27."
   ]
  },
  {
   "cell_type": "markdown",
   "metadata": {},
   "source": [
    "<center><img src =\"https://edunet.kea.su/repo/EduNet_NLP-web_dependencies/L05/BPE2.png\" width=\"700\"></center>\n",
    "\n",
    "<center><em>Source: <a href=\"https://wikidocs.net/166315\">Tokenizers: How machines read </a></em></center>"
   ]
  },
  {
   "cell_type": "markdown",
   "metadata": {},
   "source": [
    "На каждом шаге мы хотим объединять символы, которые чаще всего встречаются вместе.\n",
    "\n",
    "Посчитаем частоту биграмм. В нашем корпусе самой частотной оказывается биграмма *de*."
   ]
  },
  {
   "cell_type": "markdown",
   "metadata": {},
   "source": [
    "<center><img src =\"https://edunet.kea.su/repo/EduNet_NLP-web_dependencies/L05/BPE3.png\" width=\"700\"></center>\n",
    "\n",
    "<center><em>Source: <a href=\"https://wikidocs.net/166315\">Tokenizers: How machines read </a></em></center>"
   ]
  },
  {
   "cell_type": "markdown",
   "metadata": {},
   "source": [
    "Теперь в словаре появилась одна биграмма. Размер словаря равен 28. При этом частота символов *d* и *e* понизилась, они стали более редкими."
   ]
  },
  {
   "cell_type": "markdown",
   "metadata": {},
   "source": [
    "<center><img src =\"https://edunet.kea.su/repo/EduNet_NLP-web_dependencies/L05/BPE4.png\" width=\"700\"></center>\n",
    "\n",
    "<center><em>Source: <a href=\"https://wikidocs.net/166315\">Tokenizers: How machines read </a></em></center>"
   ]
  },
  {
   "cell_type": "markdown",
   "metadata": {},
   "source": [
    "Аналогичное действие повторяется много раз. На каждом шаге в словарь добавляется новый токен (n-грамма).\n",
    "\n",
    "В конце работы алгоритма словарь будет включать наиболее частотные слова, а более редкие будут представлены подсловами."
   ]
  },
  {
   "cell_type": "markdown",
   "metadata": {},
   "source": [
    "Этот же способ помогает решить **проблему** **OOV (out of vocabulary)**. В обучающей выборке может не быть слова *Unfriendly*, но поскольку **Unfriendly** = **Un** + **friend** + **ly**, мы можем рассчитывать, что сеть будет правильно обрабатывать / генерировать и слово целиком."
   ]
  },
  {
   "cell_type": "markdown",
   "metadata": {},
   "source": [
    "<center><img src =\"https://edunet.kea.su/repo/EduNet_NLP-web_dependencies/L05/token_unfriendly.png\" width=\"600\"></center>\n",
    "\n",
    "<center><em>Source: <a href=\"https://www.thoughtvector.io/blog/subword-tokenization/\">Subword Tokenization — Handling Misspellings and Multilingual Data</a></em></center>"
   ]
  },
  {
   "cell_type": "markdown",
   "metadata": {},
   "source": [
    "<font size = 6> Заключение </font>"
   ]
  },
  {
   "cell_type": "markdown",
   "metadata": {},
   "source": [
    "- Была рассмотрена архитектура Трансформер, позволяющая учитывать контекст предложения с помощью механизма внимания.\n",
    "- Воспроизведена архитектура классического Трансформера.\n",
    "- Модель обучена на искусственных данных (копирование последовательности цифр) и на реальных данных Tatoeba для перевода с русского на английский.\n",
    "- Рассмотрено применение моделей-трансформеров для других задач.\n",
    "- Описан метод токенизации Byte-Pair Encoding, который используется в трансформерных моделях."
   ]
  }
 ],
 "metadata": {},
 "nbformat": 4,
 "nbformat_minor": 0
}
