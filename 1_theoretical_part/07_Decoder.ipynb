{
 "cells": [
  {
   "cell_type": "markdown",
   "metadata": {},
   "source": [
    "<font size=\"6\">Модели на основе декодера Трансформера</font>"
   ]
  },
  {
   "cell_type": "markdown",
   "metadata": {},
   "source": [
    "Классическая архитектура Трансформера состоит из энкодера и декодера.\n",
    "\n",
    "На основе энкодера была создана модель BERT и подобные ей (RoBERTa, ALBERT). Они используются для получения контекстных векторных представлений слов и предложений. Затем модели дообучаются для конкретной задачи, что требует наличия размеченного набора данных.\n",
    "\n",
    "На основе декодера была создана модель GPT — Generative Pretrained Transformer. Модель GPT была обучена на задаче языкового моделирования, то есть для предсказания (определения вероятности) следующего слова в тексте."
   ]
  },
  {
   "cell_type": "markdown",
   "metadata": {},
   "source": [
    "# Четыре поколения GPT"
   ]
  },
  {
   "cell_type": "markdown",
   "metadata": {},
   "source": [
    "При генерации продолжения текста с помощью GPT происходит следующее:\n",
    "\n",
    "1. Входной текст токенизируется в последовательность чисел (токенов).\n",
    "2. Список токенов проходит через Embedding layer (линейный слой) и преобразовывается в список эмбеддингов.\n",
    "3. К каждому эмбеддингу прибавляется **positional embedding**.\n",
    "4. Список эмбеддингов проходит через несколько одинаковых блоков (Transformer Decoder Block).\n",
    "5. После того как список эмбеддингов пройдёт через последний блок, эмбеддинг, соответствующий последнему токену, матрично умножается на всё тот же входной, но уже транспонированный Embedding Layer, и после применения SoftMax получается распределение вероятностей следующего токена.\n",
    "6. Из этого распределения выбирается следующий токен (например, с помощью argmax).\n",
    "7. Полученный токен добавляется к входному списку токенов, шаги 1—6 повторяются."
   ]
  },
  {
   "cell_type": "markdown",
   "metadata": {},
   "source": [
    "<center><img src =\"https://edunet.kea.su/repo/EduNet_NLP-web_dependencies/L07/gpt3.gif\" width=\"800\"></center>\n",
    "\n",
    "<center><em>Источник: <a href=\"https://jalammar.github.io/how-gpt3-works-visualizations-animations/\">How GPT3 Works — Visualizations and Animations</a></em></center>"
   ]
  },
  {
   "cell_type": "markdown",
   "metadata": {},
   "source": [
    "### GPT-1"
   ]
  },
  {
   "cell_type": "markdown",
   "metadata": {},
   "source": [
    "[[paper] 🎓 Improving Language Understanding by Generative Pre-Training (2018)](https://cdn.openai.com/research-covers/language-unsupervised/language_understanding_paper.pdf)\n",
    "\n",
    "- Количество параметров: 117 миллионов.\n",
    "- Количество слоев: 12.\n",
    "- Размер обучающих данных: 5 ГБ.\n",
    "- Максимальный размер контекста: 512 токенов.\n",
    "\n",
    "Первая версия этой модели была обучена на 7000 книг.\n",
    "\n",
    "Как языковая модель она работала не очень хорошо, но при дообучении на отдельных задачах показывала высокое качество.\n",
    "\n",
    "Однако SOTA результаты GPT-1 держались недолго, так как появился BERT."
   ]
  },
  {
   "cell_type": "markdown",
   "metadata": {},
   "source": [
    "<center><img src =\"https://edunet.kea.su/repo/EduNet_NLP-web_dependencies/L07/gpt1.jpg\" width=\"800\"></center>\n",
    "\n",
    "<center><em>Источник: <a href=\"https://cdn.openai.com/research-covers/language-unsupervised/language_understanding_paper.pdf\">Improving Language Understanding by Generative Pre-Training</a></em></center>"
   ]
  },
  {
   "cell_type": "markdown",
   "metadata": {},
   "source": [
    "### GPT-2"
   ]
  },
  {
   "cell_type": "markdown",
   "metadata": {},
   "source": [
    "[[paper] 🎓 Language Models are Unsupervised Multitask Learners (2019)](https://cdn.openai.com/better-language-models/language_models_are_unsupervised_multitask_learners.pdf)\n",
    "\n",
    "- Количество параметров: 1.5 миллиарда.\n",
    "- Количество слоев: 48.\n",
    "- Размер обучающих данных: 40 ГБ.\n",
    "- Максимальный размер контекста: 1024 токенов.\n",
    "\n",
    "\n",
    "Новая GPT-2 не содержала архитектурных нововведений, основные улучшения достигались за счет увеличения размера модели и количества данных (к книгам добавили 8 миллионов сайтов).\n",
    "\n",
    "GPT-2 научилась писать длинные связные тексты."
   ]
  },
  {
   "cell_type": "markdown",
   "metadata": {},
   "source": [
    "<center><img src=\"https://edunet.kea.su/repo/EduNet_NLP-web_dependencies/L07/gpt2.png\" width=\"800\"></center>\n",
    "\n",
    "<center><em>Источник: <a href=\"https://en.wikipedia.org/wiki/GPT-2\">GPT-2</a></em></center>"
   ]
  },
  {
   "cell_type": "markdown",
   "metadata": {},
   "source": [
    "Также GPT-2 уже могла без тонкой настройки выполнять некоторые задачи, для которых не было явного обучения. Например, для автоматической суммаризации текста достаточно дописать `TL;DR` после текста."
   ]
  },
  {
   "cell_type": "markdown",
   "metadata": {},
   "source": [
    "<center><img src=\"https://edunet.kea.su/repo/EduNet_NLP-web_dependencies/L07/gpt2_tldr.jpg\" width=\"850\"></center>\n",
    "\n",
    "<center><em>Пример работы GPT-2</em></center>"
   ]
  },
  {
   "cell_type": "markdown",
   "metadata": {},
   "source": [
    "### GPT-3"
   ]
  },
  {
   "cell_type": "markdown",
   "metadata": {},
   "source": [
    "[[paper] 🎓 Language Models are Few-Shot Learners (2020)](https://arxiv.org/pdf/2005.14165.pdf)\n",
    "\n",
    "- Количество параметров: 175 миллиардов.\n",
    "- Количество слоев: 96.\n",
    "- Размер обучающих данных: 45 ТБ (т.е. 45 000 ГБ).\n",
    "- Максимальный размер контекста: 2048 токенов.\n",
    "\n",
    "GPT-3 обучена на ещё большем количестве данных — для примера, вся английская Википедия составляет только 0,6% из них.\n",
    "\n",
    "Модель научилась решать много NLP-задач без дообучения."
   ]
  },
  {
   "cell_type": "markdown",
   "metadata": {},
   "source": [
    "<div align=\"center\">\n",
    "    <table >\n",
    "     <tr>\n",
    "       <td>\n",
    "       \n",
    "<center><img src =\"https://edunet.kea.su/repo/EduNet_NLP-web_dependencies/L07/gpt3_gec.jpg\" width=\"440\"></center>\n",
    "\n",
    "<em>Исправление ошибок</em>\n",
    "\n",
    "</td>\n",
    "\n",
    "<td>\n",
    "\n",
    "<center><img src =\"https://edunet.kea.su/repo/EduNet_NLP-web_dependencies/L07/gpt3_sa.jpg\" width=\"450\"></center>\n",
    "\n",
    "<em>Анализ тональности</em>\n",
    "\n",
    "\n",
    "</td>\n",
    "\n",
    "<td>\n",
    "\n",
    "<center><img src =\"https://edunet.kea.su/repo/EduNet_NLP-web_dependencies/L07/gpt3_mt.jpg\" width=\"500\"></center>\n",
    "\n",
    "<em>Машинный перевод</em>\n",
    "\n",
    "\n",
    "</td>\n",
    "     </tr>\n",
    "    </table>\n",
    "    </div>\n",
    "\n",
    "<center><em>Примеры работы GPT-3 beta</em></center>"
   ]
  },
  {
   "cell_type": "markdown",
   "metadata": {},
   "source": [
    "GPT-3 также способна писать и понимать программный код."
   ]
  },
  {
   "cell_type": "markdown",
   "metadata": {},
   "source": [
    "<div align=\"center\">\n",
    "    <table >\n",
    "     <tr>\n",
    "       <td>\n",
    "       \n",
    "<center><img src =\"https://edunet.kea.su/repo/EduNet_NLP-web_dependencies/L07/gpt3_code_promt.jpg\" width=\"300\"></center>\n",
    "\n",
    "<em>Запрос</em>\n",
    "\n",
    "</td>\n",
    "\n",
    "<td>\n",
    "\n",
    "<center><img src =\"https://edunet.kea.su/repo/EduNet_NLP-web_dependencies/L07/gpt3_code_response.jpg\" width=\"400\"></center>\n",
    "\n",
    "<em>Пример ответа</em>\n",
    "\n",
    "\n",
    "</td>\n",
    "     </tr>\n",
    "    </table>\n",
    "    </div>\n",
    "\n",
    "<center><em>Примеры работы GPT-3 beta</em></center>"
   ]
  },
  {
   "cell_type": "markdown",
   "metadata": {},
   "source": [
    "### GPT-4"
   ]
  },
  {
   "cell_type": "markdown",
   "metadata": {},
   "source": [
    "Статья отсутствует.\n",
    "\n",
    "- Нет информации про обучение модели.\n",
    "- Работает с контекстом до 8192 токенов. Есть версия, поддерживающая 32 768 токенов (50 страниц).\n",
    "\n",
    "Помимо текстов, умеет работать с изображениями, является мультимодальной."
   ]
  },
  {
   "cell_type": "markdown",
   "metadata": {},
   "source": [
    "<center><img src=\"https://edunet.kea.su/repo/EduNet_NLP-web_dependencies/L07/gpt4.jpg\" width=\"550\"></center>\n",
    "\n",
    "<center><em>Источник: <a href=\"https://thecymes.com/article/the-game-changing-features-of-openais-chatgpt-4\">The game-changing features of OpenAI's GPT 4</a></em></center>"
   ]
  },
  {
   "cell_type": "markdown",
   "metadata": {},
   "source": [
    "# Токенизация и генерация текста"
   ]
  },
  {
   "cell_type": "markdown",
   "metadata": {},
   "source": [
    "Посмотрим на работу модели ruGPT-3 для русского языка. Она доступна в трех вариантах:\n",
    "- [[doc] 🛠️](https://huggingface.co/ai-forever/rugpt3small_based_on_gpt2) `ai-forever/rugpt3small_based_on_gpt2` — small\n",
    "- [[doc] 🛠️](https://huggingface.co/ai-forever/rugpt3medium_based_on_gpt2) `ai-forever/rugpt3medium_based_on_gpt2` — medium\n",
    "- [[doc] 🛠️](https://huggingface.co/ai-forever/rugpt3large_based_on_gpt2) `ai-forever/rugpt3large_based_on_gpt2` — large\n",
    "\n",
    "Для загрузки токенизатора потребуется класс `AutoTokenizer` [🛠️[doc]](https://huggingface.co/docs/transformers/v4.45.2/en/model_doc/auto#transformers.AutoTokenizer), для загрузки модели — класс `AutoModelForCausalLM` [🛠️[doc]](https://huggingface.co/docs/transformers/model_doc/auto#transformers.AutoModelForCausalLM).\n",
    "\n",
    "Выберем необходимую модель. API для различных моделей одинаковый, для подмены модели достаточно изменить название модели `model_name`."
   ]
  },
  {
   "cell_type": "code",
   "execution_count": null,
   "metadata": {},
   "outputs": [],
   "source": [
    "!pip install -q transformers"
   ]
  },
  {
   "cell_type": "code",
   "execution_count": null,
   "metadata": {},
   "outputs": [],
   "source": [
    "import torch\n",
    "from transformers import AutoTokenizer, AutoModelForCausalLM\n",
    "from IPython.display import clear_output\n",
    "\n",
    "device = torch.device(\"cuda\" if torch.cuda.is_available() else \"cpu\")\n",
    "\n",
    "model_name = \"ai-forever/rugpt3large_based_on_gpt2\"\n",
    "tokenizer = AutoTokenizer.from_pretrained(model_name)\n",
    "model = AutoModelForCausalLM.from_pretrained(model_name).to(device)\n",
    "\n",
    "clear_output()"
   ]
  },
  {
   "cell_type": "markdown",
   "metadata": {},
   "source": [
    "Например, если мы хотим при помощи языковой модели ответить на вопрос: **«Сколько будет 2+2?»**, то можем подать на вход модели следующий текст:\\\n",
    "`«Вопрос: Сколько будет 2+2? Ответ: … »`\\\n",
    "и естественным продолжением такого текста будет ответ на вопрос, поэтому модель допишет `«4»`"
   ]
  },
  {
   "cell_type": "code",
   "execution_count": null,
   "metadata": {},
   "outputs": [],
   "source": [
    "text = \"Вопрос: 'Сколько будет 2+2?'\\nОтвет:\"\n",
    "input_ids = tokenizer.encode(text, return_tensors=\"pt\").to(device)\n",
    "out = model.generate(input_ids, do_sample=False, max_length=20, pad_token_id=20)\n",
    "\n",
    "generated_text = list(map(tokenizer.decode, out))[0]\n",
    "\n",
    "print(generated_text)"
   ]
  },
  {
   "cell_type": "markdown",
   "metadata": {},
   "source": [
    "Рассмотрим пример токенизации. Как и BERT-like модели, GPT использует токенизацию на подслова."
   ]
  },
  {
   "cell_type": "code",
   "execution_count": null,
   "metadata": {},
   "outputs": [],
   "source": [
    "text = \"Токенизируй меня\"  # raw text\n",
    "tokens = tokenizer.encode(text, add_special_tokens=False)  # applying ruGPT-3 tokenizer\n",
    "decoded_tokens = [\n",
    "    tokenizer.decode([token]) for token in tokens\n",
    "]  # converting ids to tokens\n",
    "\n",
    "print(\"text:\", text)\n",
    "print(\"tokens: \", tokens)\n",
    "print(\"decoded tokens: \", decoded_tokens)"
   ]
  },
  {
   "cell_type": "markdown",
   "metadata": {},
   "source": [
    "Языковая модель выдаёт распределение вероятностей следующего токена, эту информацию можно по-разному использовать для генерации текста.\n",
    "\n",
    "Для наглядности применим все основные методы для продолжения следующего: 'Определение: \"Языковая модель\" — это'"
   ]
  },
  {
   "cell_type": "code",
   "execution_count": null,
   "metadata": {},
   "outputs": [],
   "source": [
    "# Tokenization\n",
    "text = 'Определение: \"Языковая модель\" — это'\n",
    "input_ids = tokenizer.encode(text, return_tensors=\"pt\").to(device)"
   ]
  },
  {
   "cell_type": "markdown",
   "metadata": {},
   "source": [
    "## Жадный поиск"
   ]
  },
  {
   "cell_type": "markdown",
   "metadata": {},
   "source": [
    "Самый простой способ — жадный поиск (greedy search): каждый раз выбирается токен, у которого максимальная вероятность.\n",
    "\n",
    "При таком способе мы не получим разнообразного текста на один и тот же запрос, и, что ещё хуже, генерация может застревать в локальных минимумах и выдавать повторяющиеся фрагменты, например `the the the the ...`."
   ]
  },
  {
   "cell_type": "markdown",
   "metadata": {},
   "source": [
    "<center><img src=\"https://edunet.kea.su/repo/EduNet_NLP-web_dependencies/L07/greedy_seacrh.png\" width=\"500\"></center>\n",
    "\n",
    "<center><em>Источник: <a href=\"https://habr.com/ru/articles/589663/\">Краткий экскурс в ruGPT-3</a></em></center>"
   ]
  },
  {
   "cell_type": "code",
   "execution_count": null,
   "metadata": {},
   "outputs": [],
   "source": [
    "# Example of greedy search\n",
    "out = model.generate(input_ids, do_sample=False, max_length=45)\n",
    "\n",
    "# Decoding\n",
    "generated_text = list(map(tokenizer.decode, out))[0]\n",
    "print(generated_text)"
   ]
  },
  {
   "cell_type": "markdown",
   "metadata": {},
   "source": [
    "## Лучевой поиск"
   ]
  },
  {
   "cell_type": "markdown",
   "metadata": {},
   "source": [
    "Чуть более сложный и качественный способ — это лучевой поиск (beam search). На каждом шаге выбирается не только один самый вероятный токен, а сразу несколько (за их количество отвечает параметр `num_beams`). Дальше продолжается поиск для каждого из выбранных токенов. Пути генерации разветвляются, что дает несколько вариантов сгенерированного текста."
   ]
  },
  {
   "cell_type": "markdown",
   "metadata": {},
   "source": [
    "<center><img src=\"https://edunet.kea.su/repo/EduNet_NLP-web_dependencies/L07/beam_search.png\" width=\"500\"></center>\n",
    "\n",
    "<center><em>Источник: <a href=\"https://habr.com/ru/articles/589663/\">Краткий экскурс в ruGPT-3</a></em></center>"
   ]
  },
  {
   "cell_type": "markdown",
   "metadata": {},
   "source": [
    "Такая генерация обладает хорошей когерентностью (связностью), но обычно у них не хватает \"человечности\", они кажутся сухими и скучными. Также это не полностью решает проблему повторяющихся фрагментов генерации."
   ]
  },
  {
   "cell_type": "code",
   "execution_count": null,
   "metadata": {},
   "outputs": [],
   "source": [
    "# Example of beam search\n",
    "out = model.generate(input_ids, do_sample=False, num_beams=5, max_length=45)\n",
    "\n",
    "# Decoding\n",
    "generated_text = list(map(tokenizer.decode, out))[0]\n",
    "print(generated_text)"
   ]
  },
  {
   "cell_type": "markdown",
   "metadata": {},
   "source": [
    "Можно вывести не только наиболее вероятный результат, но и результаты по другим лучам."
   ]
  },
  {
   "cell_type": "code",
   "execution_count": null,
   "metadata": {},
   "outputs": [],
   "source": [
    "# Let's set return_num_sequences > 1\n",
    "out = model.generate(\n",
    "    input_ids, do_sample=False, num_beams=45, max_length=40, num_return_sequences=5\n",
    ")\n",
    "\n",
    "print(\"Output:\\n\" + 100 * \"-\")\n",
    "for i, beam_output in enumerate(out):\n",
    "    print(\"{}: {}\\n\".format(i, tokenizer.decode(beam_output, skip_special_tokens=True)))"
   ]
  },
  {
   "cell_type": "markdown",
   "metadata": {},
   "source": [
    "Количество повторов можно уменьшить, если установить запрет на повтор *n*-грамм."
   ]
  },
  {
   "cell_type": "code",
   "execution_count": null,
   "metadata": {},
   "outputs": [],
   "source": [
    "# We can prohibit repeating bigrams\n",
    "out = model.generate(\n",
    "    input_ids,\n",
    "    do_sample=False,\n",
    "    num_beams=45,\n",
    "    max_length=40,\n",
    "    num_return_sequences=5,\n",
    "    no_repeat_ngram_size=2,\n",
    ")\n",
    "\n",
    "print(\"Output:\\n\" + 100 * \"-\")\n",
    "for i, beam_output in enumerate(out):\n",
    "    print(\"{}: {}\\n\".format(i, tokenizer.decode(beam_output, skip_special_tokens=True)))"
   ]
  },
  {
   "cell_type": "markdown",
   "metadata": {},
   "source": [
    "## Семплирование с температурой"
   ]
  },
  {
   "cell_type": "markdown",
   "metadata": {},
   "source": [
    "Чтобы добавить тексту непредсказуемости и человечности, можно использовать вероятностное семплирование с температурой. Будет использоваться не самый вероятный токен, а случайный, с учётом распределения вероятностей.\n",
    "\n",
    "Параметр температуры позволяет контролировать степень случайности. При нулевой температуре метод совпадает с жадным семплированием, при  большой температуре токены будут выбираться полностью случайно. Обычно хорошо работает температура в диапазоне `0.8–2.0`."
   ]
  },
  {
   "cell_type": "markdown",
   "metadata": {},
   "source": [
    "<center><img src =\"https://edunet.kea.su/repo/EduNet_NLP-web_dependencies/L07/llm_temperature.png\" width=\"1000\"></center>\n",
    "\n",
    "<center><em>Источник: <a href=\"https://www.hopsworks.ai/dictionary/llm-temperature\">LLM Temperature</a></em></center>"
   ]
  },
  {
   "cell_type": "markdown",
   "metadata": {},
   "source": [
    "Формула модификации распределения вероятностей очень похожа на формулу распределения Больцмана: чем выше температура системы, тем больше \"размазывается\" распределение вероятностей её возможных состояний, отсюда слово \"температура\".\n",
    "\n",
    "$$\\large p=\\text{softmax}(\\log(p)/t)$$\n",
    "\n",
    "Стоит отметить, что случайная природа генерации будет иногда приводить к полностью некорректным результатам."
   ]
  },
  {
   "cell_type": "code",
   "execution_count": null,
   "metadata": {},
   "outputs": [],
   "source": [
    "# Fixing random state\n",
    "torch.cuda.manual_seed(42)\n",
    "\n",
    "# Sampling eith temperature\n",
    "out = model.generate(input_ids, do_sample=True, temperature=1.3, max_length=45)\n",
    "\n",
    "# Decoding\n",
    "generated_text = list(map(tokenizer.decode, out))[0]\n",
    "print(generated_text)"
   ]
  },
  {
   "cell_type": "markdown",
   "metadata": {},
   "source": [
    "## Семплирование top-k и top-p"
   ]
  },
  {
   "cell_type": "markdown",
   "metadata": {},
   "source": [
    "Для запрета генерации маловероятных токенов вводят `top-k` или `top-p` ограничения. В этом случае генерация тоже происходит случайным образом, но заранее отсекаются все маловероятные токены."
   ]
  },
  {
   "cell_type": "markdown",
   "metadata": {},
   "source": [
    "В случае `top-k` зануляются все вероятности кроме `k` самых вероятных.\n",
    "\n",
    "Установив $k=6$, мы будем выбирать следующее слово только из 6 слов с наибольшей вероятностью:\n",
    "- *nice, dog, car, woman, guy, man* на 1-м шаге\n",
    "- *drives, is, turns, stops, down, a* на 2-м шаге"
   ]
  },
  {
   "cell_type": "markdown",
   "metadata": {},
   "source": [
    "<center><img src=\"https://edunet.kea.su/repo/EduNet_NLP-web_dependencies/L07/top-k.png\" width=\"800\"></center>\n",
    "\n",
    "<center><em>Источник: <a href=\"https://huggingface.co/blog/how-to-generate\">How to generate text: using different decoding methods for language generation with Transformers</a></em></center>"
   ]
  },
  {
   "cell_type": "markdown",
   "metadata": {},
   "source": [
    "В случае `top-p` остается минимальный набор токенов, чтобы сумма их вероятностей была не больше `p`. Следовательно, количество слов, из которых мы выбираем, может динамически меняться (увеличиваться и уменьшаться).\n",
    "\n",
    "Установим $p=0.92$ и будем выбирать из:\n",
    "- 9 слов на 1-м шаге\n",
    "- 3 слов на 2-м шаге\n",
    "\n",
    "Ограничение `top-p` называют ядерным семплированием (nucleus sampling)."
   ]
  },
  {
   "cell_type": "markdown",
   "metadata": {},
   "source": [
    "<center><img src=\"https://edunet.kea.su/repo/EduNet_NLP-web_dependencies/L07/top-p.png\" width=\"800\"></center>\n",
    "\n",
    "<center><em>Источник: <a href=\"https://huggingface.co/blog/how-to-generate\">How to generate text: using different decoding methods for language generation with Transformers</a></em></center>"
   ]
  },
  {
   "cell_type": "code",
   "execution_count": null,
   "metadata": {},
   "outputs": [],
   "source": [
    "# Set random state\n",
    "torch.random.manual_seed(42)\n",
    "\n",
    "# Sampling with top-k and top-p restrictions\n",
    "out = model.generate(\n",
    "    input_ids,\n",
    "    do_sample=True,\n",
    "    temperature=1.0,\n",
    "    top_k=10,\n",
    "    top_p=0.9,\n",
    "    max_length=45,\n",
    ")\n",
    "# Decoding\n",
    "generated_text = list(map(tokenizer.decode, out))[0]\n",
    "print(generated_text)"
   ]
  },
  {
   "cell_type": "markdown",
   "metadata": {},
   "source": [
    "# Тонкая настройка без учителя"
   ]
  },
  {
   "cell_type": "markdown",
   "metadata": {},
   "source": [
    "Чтобы модель \"научилась\" генерировать тексты в определенном стиле / на новом языке, можно осуществить тонкую настройку без учителя. Фактически, мы продолжаем обучать модель на неразмеченных текстах для задачи языкового моделирования, только добавляем данные, специфичные для нашей задачи.\n",
    "\n",
    "Воспользуемся моделью меньшего размера, чтобы она поместилась на GPU."
   ]
  },
  {
   "cell_type": "code",
   "execution_count": null,
   "metadata": {},
   "outputs": [],
   "source": [
    "from IPython.display import clear_output\n",
    "\n",
    "!pip install -q datasets==3.6.0 transformers\n",
    "clear_output()"
   ]
  },
  {
   "cell_type": "code",
   "execution_count": null,
   "metadata": {},
   "outputs": [],
   "source": [
    "import torch\n",
    "from transformers import AutoTokenizer, AutoModelForCausalLM\n",
    "\n",
    "device = torch.device(\"cuda\" if torch.cuda.is_available() else \"cpu\")\n",
    "\n",
    "model_name = \"ai-forever/rugpt3small_based_on_gpt2\"\n",
    "tokenizer = AutoTokenizer.from_pretrained(model_name)\n",
    "model = AutoModelForCausalLM.from_pretrained(model_name).to(device)\n",
    "\n",
    "clear_output()"
   ]
  },
  {
   "cell_type": "markdown",
   "metadata": {},
   "source": [
    "## Подготовка данных"
   ]
  },
  {
   "cell_type": "markdown",
   "metadata": {},
   "source": [
    "Обучающий текст нарезается на случайные блоки, которые составляются в последовательности из 1024 (2048 у GPT-3) токенов, разделяясь специальным `<|endoftext|>` символом. Во время обучения модель учится предсказывать (классифицировать) каждый токен в последовательности один за другим при помощи Cross-Entropy Loss.\n",
    "\n",
    "Так как входная последовательность всегда заполнена до конца, padding не используется. Но во время инференса длина входного текста может быть произвольной, поэтому надо явно указывать, чем дополнять оставшиеся позиции. По дефолту используется тот же `<|endoftext|>`.\n",
    "\n",
    "В отдельных версиях GPT вышесказанное может модифицироваться. Например, в ruGPT3 гораздо больше специальных токенов: `<s\\>`, `<s>`, `<pad>`, `<unk>`"
   ]
  },
  {
   "cell_type": "markdown",
   "metadata": {},
   "source": [
    "Будем учить GPT генерировать стихи Маяковского. В качестве обучающих данных возьмём всего лишь один стих."
   ]
  },
  {
   "cell_type": "code",
   "execution_count": null,
   "metadata": {},
   "outputs": [],
   "source": [
    "text = \"\"\"Дым табачный воздух выел.\n",
    "Комната —\n",
    "глава в крученыховском аде.\n",
    "Вспомни —\n",
    "за этим окном\n",
    "впервые\n",
    "руки твои, исступленный, гладил.\n",
    "Сегодня сидишь вот,\n",
    "сердце в железе.\n",
    "День еще —\n",
    "выгонишь,\n",
    "может быть, изругав.\n",
    "В мутной передней долго не влезет\n",
    "сломанная дрожью рука в рукав.\n",
    "Выбегу,\n",
    "тело в улицу брошу я.\n",
    "Дикий,\n",
    "обезумлюсь,\n",
    "отчаяньем иссеча́сь.\n",
    "Не надо этого,\n",
    "дорогая,\n",
    "хорошая,\n",
    "дай простимся сейчас.\n",
    "Все равно\n",
    "любовь моя —\n",
    "тяжкая гиря ведь —\n",
    "висит на тебе,\n",
    "куда ни бежала б.\n",
    "Дай в последнем крике выреветь\n",
    "горечь обиженных жалоб.\n",
    "Если быка трудом уморят —\n",
    "он уйдет,\n",
    "разляжется в холодных водах.\n",
    "Кроме любви твоей,\n",
    "мне\n",
    "нету моря,\n",
    "а у любви твоей и плачем не вымолишь отдых.\n",
    "Захочет покоя уставший слон —\n",
    "царственный ляжет в опожаренном песке.\n",
    "Кроме любви твоей,\n",
    "мне\n",
    "нету солнца,\n",
    "а я и не знаю, где ты и с кем.\n",
    "Если б так поэта измучила,\n",
    "он\n",
    "любимую на деньги б и славу выменял,\n",
    "а мне\n",
    "ни один не радостен звон,\n",
    "кроме звона твоего любимого имени.\n",
    "И в пролет не брошусь,\n",
    "и не выпью яда,\n",
    "и курок не смогу над виском нажать.\n",
    "Надо мною,\n",
    "кроме твоего взгляда,\n",
    "не властно лезвие ни одного ножа.\n",
    "Завтра забудешь,\n",
    "что тебя короновал,\n",
    "что душу цветущую любовью выжег,\n",
    "и су́етных дней взметенный карнавал\n",
    "растреплет страницы моих книжек…\n",
    "Слов моих сухие листья ли\n",
    "заставят остановиться,\n",
    "жадно дыша?\n",
    "Дай хоть\n",
    "последней нежностью выстелить\n",
    "твой уходящий шаг..\"\"\""
   ]
  },
  {
   "cell_type": "markdown",
   "metadata": {},
   "source": [
    "В библиотеке Transformers есть готовые инструменты для подготовки датасета и загрузчика данных. На вход нужен всего лишь один `.txt` файл с обучающим текстом."
   ]
  },
  {
   "cell_type": "code",
   "execution_count": null,
   "metadata": {},
   "outputs": [],
   "source": [
    "# Save text train data as .txt file\n",
    "train_path = \"train_dataset.txt\"\n",
    "with open(train_path, mode=\"w\", encoding=\"utf-8\") as f:\n",
    "    f.write(text)"
   ]
  },
  {
   "cell_type": "code",
   "execution_count": null,
   "metadata": {},
   "outputs": [],
   "source": [
    "from datasets import load_dataset\n",
    "from transformers import DataCollatorForLanguageModeling\n",
    "\n",
    "\n",
    "def tokenize_function(examples):\n",
    "    return tokenizer(\n",
    "        examples[\"text\"], padding=\"max_length\", truncation=False, max_length=64\n",
    "    )\n",
    "\n",
    "\n",
    "dataset = load_dataset(\"text\", data_files={\"train\": train_path})\n",
    "tokenized_dataset = dataset.map(tokenize_function, batched=True)\n",
    "\n",
    "# Сrop the text into optimal length pieces\n",
    "data_collator = DataCollatorForLanguageModeling(tokenizer=tokenizer, mlm=False)"
   ]
  },
  {
   "cell_type": "markdown",
   "metadata": {},
   "source": [
    "## Обучение и тестирование"
   ]
  },
  {
   "cell_type": "markdown",
   "metadata": {},
   "source": [
    "Для файнтюнинга нам необходим объект класса `Trainer`, который сделает всю работу за нас. Далее нужно будет всего лишь запустить `trainer.train()`."
   ]
  },
  {
   "cell_type": "code",
   "execution_count": null,
   "metadata": {},
   "outputs": [],
   "source": [
    "from transformers import Trainer, TrainingArguments\n",
    "\n",
    "training_args = TrainingArguments(\n",
    "    output_dir=\"./finetuned\",  # The output directory\n",
    "    overwrite_output_dir=True,  # overwrite the content of the output directory\n",
    "    num_train_epochs=200,  # number of training epochs\n",
    "    per_device_train_batch_size=32,  # batch size for training\n",
    "    per_device_eval_batch_size=32,  # batch size for evaluation\n",
    "    warmup_steps=10,  # number of warmup steps for learning rate scheduler\n",
    "    gradient_accumulation_steps=16,  # to make \"virtual\" batch size larger\n",
    "    report_to=\"none\",\n",
    ")\n",
    "\n",
    "\n",
    "trainer = Trainer(\n",
    "    model=model,\n",
    "    args=training_args,\n",
    "    data_collator=data_collator,\n",
    "    train_dataset=tokenized_dataset[\"train\"],\n",
    "    optimizers=(\n",
    "        torch.optim.AdamW(model.parameters(), lr=1e-5),\n",
    "        None,\n",
    "    ),  # Optimizer and learnig rate scheduler\n",
    ")"
   ]
  },
  {
   "cell_type": "code",
   "execution_count": null,
   "metadata": {},
   "outputs": [],
   "source": [
    "trainer.train()"
   ]
  },
  {
   "cell_type": "markdown",
   "metadata": {},
   "source": [
    "Готово! Теперь давайте посмотрим, что же сочинит GPT в стиле Маяковского, если на вход подать такую строчку:\n",
    "\n",
    "\"Как же сложно учить матанализ!\""
   ]
  },
  {
   "cell_type": "code",
   "execution_count": null,
   "metadata": {},
   "outputs": [],
   "source": [
    "# Set random state\n",
    "torch.random.manual_seed(42)\n",
    "\n",
    "# Probability sampling with limit example\n",
    "text = \"Как же сложно учить матанализ!\"\n",
    "input_ids = tokenizer.encode(text, return_tensors=\"pt\").to(device)\n",
    "model.eval()\n",
    "with torch.no_grad():\n",
    "    out = model.generate(\n",
    "        input_ids,\n",
    "        do_sample=True,\n",
    "        num_beams=3,\n",
    "        temperature=1.9,\n",
    "        top_p=0.9,\n",
    "        max_length=200,\n",
    "        pad_token_id=512,\n",
    "    )\n",
    "\n",
    "generated_text = list(map(tokenizer.decode, out))[0]\n",
    "\n",
    "print(generated_text)"
   ]
  },
  {
   "cell_type": "markdown",
   "metadata": {},
   "source": [
    "# Затравочное программирование"
   ]
  },
  {
   "cell_type": "markdown",
   "metadata": {},
   "source": [
    "В отличие от BERT-like моделей, для GPT этап дообучения не обязателен. Для того чтобы дописывать текст, модель должна очень хорошо понимать его смысл и иметь знания о реальном мире. Внутренние знания модели можно попытаться использовать, модифицируя левый контекст текста. Поскольку GPT способна генерировать текст, мы можем сформулировать любую NLP-задачу как задачу генерации (продолжения) текста. Это позволяет решать множество задач с минимальным обучением или без него.\n",
    "\n",
    "Подбор модификаций текста называется \"затравочное программирование\" (prompt engineering). Суть затравочного программирования в том, чтобы подобрать такие заготовленные примеры и начала для генерации, чтобы дальше модель выдавала ровно то, что надо. Подбирая \"затравки\" и гиперпараметры генератора (температура, `top-k`, `top-p`), можно добиться хороших ответов только за счет предварительного обучения модели.\n",
    "\n",
    "Существует два подхода для затравочного программирования:\n",
    "- zero-shot: сформулировать задачу и передать текст на генерацию;\n",
    "- few-shot: сформулировать задачу, подать в модель несколько примеров и затем передать текст на генерацию."
   ]
  },
  {
   "cell_type": "code",
   "execution_count": null,
   "metadata": {},
   "outputs": [],
   "source": [
    "!pip install -q transformers"
   ]
  },
  {
   "cell_type": "code",
   "execution_count": null,
   "metadata": {},
   "outputs": [],
   "source": [
    "import torch\n",
    "from transformers import AutoTokenizer, AutoModelForCausalLM\n",
    "from IPython.display import clear_output\n",
    "\n",
    "device = torch.device(\"cuda\" if torch.cuda.is_available() else \"cpu\")\n",
    "\n",
    "model_name = \"ai-forever/rugpt3large_based_on_gpt2\"\n",
    "tokenizer = AutoTokenizer.from_pretrained(model_name)\n",
    "model = AutoModelForCausalLM.from_pretrained(model_name).to(device)\n",
    "\n",
    "clear_output()"
   ]
  },
  {
   "cell_type": "code",
   "execution_count": null,
   "metadata": {},
   "outputs": [],
   "source": [
    "# zero-shot learning\n",
    "text = \"С английского на русский 'cat' переводится как '\"\n",
    "input_ids = tokenizer.encode(text, return_tensors=\"pt\").to(device)\n",
    "out = model.generate(input_ids, do_sample=False, max_length=15)\n",
    "\n",
    "generated_text = list(map(tokenizer.decode, out))[0]\n",
    "print(generated_text)"
   ]
  },
  {
   "cell_type": "code",
   "execution_count": null,
   "metadata": {},
   "outputs": [],
   "source": [
    "# few-shot learning\n",
    "text = \"С английского на русский 'cat' переводится как 'кошка', 'dog' переводится как 'собака', а 'bird' переводится как '\"\n",
    "input_ids = tokenizer.encode(text, return_tensors=\"pt\").to(device)\n",
    "out = model.generate(input_ids, do_sample=False, max_length=35)\n",
    "\n",
    "generated_text = list(map(tokenizer.decode, out))[0]\n",
    "print(generated_text)"
   ]
  },
  {
   "cell_type": "markdown",
   "metadata": {},
   "source": [
    "## Рекомендательная система"
   ]
  },
  {
   "cell_type": "markdown",
   "metadata": {},
   "source": [
    "Сделаем рекомендательную систему без обучения: будем подавать информацию о предпочтениях пользователя в виде текста и смотреть, как модель продолжит его. Для генерации специально будем подавать текст с незакрытой кавычкой, чтобы вынудить модель генерировать имена собственные."
   ]
  },
  {
   "cell_type": "code",
   "execution_count": null,
   "metadata": {},
   "outputs": [],
   "source": [
    "torch.random.manual_seed(42)\n",
    "\n",
    "# Film recomendation\n",
    "text = \"Я люблю советские комедии: “Приключения Шурика”, “\"\n",
    "input_ids = tokenizer.encode(text, return_tensors=\"pt\").to(device)\n",
    "out = model.generate(\n",
    "    input_ids,\n",
    "    do_sample=True,\n",
    "    temperature=1.2,\n",
    "    top_k=15,\n",
    "    top_p=0.95,\n",
    "    max_length=35,\n",
    ")\n",
    "\n",
    "generated_text = list(map(tokenizer.decode, out))[0]\n",
    "print(generated_text)"
   ]
  },
  {
   "cell_type": "code",
   "execution_count": null,
   "metadata": {},
   "outputs": [],
   "source": [
    "torch.random.manual_seed(42)\n",
    "\n",
    "# Music recomendation\n",
    "text = \"Тем людям, кому нравится “Алиса”, также понравятся группы “\"\n",
    "input_ids = tokenizer.encode(text, return_tensors=\"pt\").to(device)\n",
    "out = model.generate(\n",
    "    input_ids,\n",
    "    do_sample=True,\n",
    "    temperature=0.2,\n",
    "    top_k=10,\n",
    "    top_p=0.95,\n",
    "    max_length=38,\n",
    ")\n",
    "\n",
    "generated_text = list(map(tokenizer.decode, out))[0]\n",
    "print(generated_text)"
   ]
  },
  {
   "cell_type": "markdown",
   "metadata": {},
   "source": [
    "## Анализ тональности"
   ]
  },
  {
   "cell_type": "markdown",
   "metadata": {},
   "source": [
    "Рассмотрим бинарную классификацию по тональности без дообучения.\n",
    "\n",
    "Для определения тональности будем использовать меру перплексии. В теории информации перплексия — мера того, насколько хорошо распределение вероятностей предсказывает выборку. Говоря простым языком, перплексия — мера \"удивлённости\" модели.\n",
    "\n",
    "На вход модели мы подаём затравку в формате `<метка тональности> + <отзыв>`. Далее мы считаем перплексию каждого из них. Выбираем наименьшую перплексию из двух и присваиваем метку отзыву."
   ]
  },
  {
   "cell_type": "code",
   "execution_count": null,
   "metadata": {},
   "outputs": [],
   "source": [
    "import math\n",
    "\n",
    "\n",
    "def calculate_perplexity(sentence, model, tokenizer):\n",
    "    # Add tone lable to sentence\n",
    "    sentence_positive = \"доволен:\" + sentence\n",
    "    sentence_negative = \"недоволен:\" + sentence\n",
    "    list_sent = [sentence_positive, sentence_negative]\n",
    "    ppl_values = []\n",
    "\n",
    "    for sentence in list_sent:\n",
    "        # Tokenize sentence\n",
    "        encodings = tokenizer(sentence, return_tensors=\"pt\")\n",
    "        input_ids = encodings.input_ids.to(device)\n",
    "        # Apply model\n",
    "        with torch.no_grad():\n",
    "            outputs = model(input_ids=input_ids, labels=input_ids)\n",
    "        loss = outputs.loss\n",
    "        # Count perplexity\n",
    "        ppl = math.exp(loss.item() * input_ids.size(1))\n",
    "        ppl_values.append(ppl)\n",
    "\n",
    "    # Choose sentence with lower perplexity\n",
    "    if ppl_values[0] > ppl_values[1]:\n",
    "        return \"отрицательный\"\n",
    "    else:\n",
    "        return \"положительный\""
   ]
  },
  {
   "cell_type": "code",
   "execution_count": null,
   "metadata": {},
   "outputs": [],
   "source": [
    "negative = \"я чуть не заснул во время фильма\"\n",
    "print(f'Отзыв \"{negative}\": {calculate_perplexity(negative, model, tokenizer)}')\n",
    "positive = \"сюжет невероятно захватывающий\"\n",
    "print(f'Отзыв \"{positive}\": {calculate_perplexity(positive, model, tokenizer)}')"
   ]
  },
  {
   "cell_type": "markdown",
   "metadata": {},
   "source": [
    "# Дообучение на инструкциях"
   ]
  },
  {
   "cell_type": "markdown",
   "metadata": {},
   "source": [
    "Один из последних быстро развивающихся трендов в NLP — решать множество задач одной общей моделью.\n",
    "\n",
    "- Предобучение трансформерных моделей на большом объеме неразмеченных данных закладывает широкое понимание языка\n",
    "- Дообучение под конкретную задачу требует наличия размеченных корпусов гораздо меньшего размера\n",
    "- При правильных затравках (инструкциях) предобученные модели могут решать задачи, которые они никогда не видели\n",
    "- Все возможные NLP задачи можно свести к генерации текста: генерация перевода для машинного перевода, генерация метки класса для классификации, генерация исправленной последовательности для исправления опечаток, генерация именованых сущностей для извлечения именованных сущностей. Главное — правильно сформулировать затравку или инструкцию.\n"
   ]
  },
  {
   "cell_type": "markdown",
   "metadata": {},
   "source": [
    "## Модель T5"
   ]
  },
  {
   "cell_type": "markdown",
   "metadata": {},
   "source": [
    "[[paper] 🎓 Exploring the Limits of Transfer Learning with a Unified Text-to-Text Transformer (2019)](https://arxiv.org/abs/1910.10683)"
   ]
  },
  {
   "cell_type": "markdown",
   "metadata": {},
   "source": [
    "Модель T5 (Text-to-Text Transfer Transformer) представляет собой унифицированный подход к Transfer learning в NLP. Её ключевая идея — сведение всех задач к формату \"текст-в-текст\", где и вход, и выход представляют собой строки текста. Это позволяет применять одну и ту же архитектуру и подход к разнородным задачам, таким как перевод, классификация, суммирование и ответы на вопросы."
   ]
  },
  {
   "cell_type": "markdown",
   "metadata": {},
   "source": [
    "<center><img src=\"https://edunet.kea.su/repo/EduNet_NLP-web_dependencies/L07/T5.gif\" width=\"800\"></center>\n",
    "\n",
    "<center><em>Источник: <a href=\"https://habr.com/ru/articles/543412/\">Трансферное обучение с Т5</a></em></center>"
   ]
  },
  {
   "cell_type": "markdown",
   "metadata": {},
   "source": [
    "На момент создания модели T5 парадигма \"одна модель — одна задача\" еще не изменилась. В своих экспериментах авторы статьи пытались обучить одну модель решать сразу несколько задач. Однако у них не было достаточного количества разнообразных задач, из-за чего обобощенная модель показала худшие результаты на отдельных задачах, чем специализированные модели.\n",
    "\n",
    "Однако T5 стала важным шагом в стандартизации подхода к NLP-задачам и показала потенциал унифицированных text-to-text моделей.\n",
    "\n",
    "Задача в модель передается через префикс (обратите внимание на начало примеров ниже). Модели в разных конфигурациях (small, base, large) есть на HuggingFace. Давайте попробуем взять одну из них и попробовать сходу решить задачу суммаризации."
   ]
  },
  {
   "cell_type": "code",
   "execution_count": null,
   "metadata": {},
   "outputs": [],
   "source": [
    "!pip install -q transformers"
   ]
  },
  {
   "cell_type": "code",
   "execution_count": null,
   "metadata": {},
   "outputs": [],
   "source": [
    "import torch\n",
    "from transformers import AutoTokenizer, AutoModelForSeq2SeqLM\n",
    "from IPython.display import clear_output\n",
    "\n",
    "device = torch.device(\"cuda\" if torch.cuda.is_available() else \"cpu\")\n",
    "\n",
    "model_name = 't5-base'\n",
    "tokenizer = AutoTokenizer.from_pretrained(model_name, model_max_length=512)\n",
    "model = AutoModelForSeq2SeqLM.from_pretrained(model_name)\n",
    "\n",
    "clear_output()"
   ]
  },
  {
   "cell_type": "markdown",
   "metadata": {},
   "source": [
    "Возьмем какой-нибудь текст и попробуем сделать суммаризацию."
   ]
  },
  {
   "cell_type": "code",
   "execution_count": null,
   "metadata": {},
   "outputs": [],
   "source": [
    "task_prefix = \"summarize: {}\"\n",
    "\n",
    "text = \"\"\"\n",
    "Badgers burrowing under rail tracks have halted trains in the northern and southern Netherlands, forcing lengthy cancellations on at least two lines.\n",
    "All trains were halted Tuesday afternoon on a busy line between the southern cities of Den Bosch and Boxtel after the animals dug into a dike carrying rails. The national railway company said the line would be out of service for at least a week.\n",
    "The digging means \"the rails can subside and then the safety of train traffic can no longer be guaranteed,\" ProRail, the company that maintains the Dutch rail network said in a statement.\n",
    "Earlier this month, badgers also burrowed under tracks near the northern village of Molkwerum in Friesland province, knocking a line out of service until next month while workers seek permission to shift the animals.\n",
    "Badgers are protected animals in the Netherlands, so rail operators have to get permission to move them or disturb their habitat before repairs can begin.\n",
    "\"\"\"\n",
    "\n",
    "inputs = tokenizer([task_prefix.format(text)], return_tensors=\"pt\", padding=True)\n",
    "\n",
    "output_sequences = model.generate(\n",
    "    num_beams=5,\n",
    "    max_length=100,\n",
    "    no_repeat_ngram_size=3,\n",
    "    early_stopping=True,\n",
    "    num_return_sequences=1,\n",
    "    input_ids=inputs[\"input_ids\"],\n",
    "    attention_mask=inputs[\"attention_mask\"],\n",
    "    do_sample=False,  # disable sampling to test if batching affects output\n",
    ")\n",
    "\n",
    "summaries = tokenizer.batch_decode(output_sequences, skip_special_tokens=True)\n",
    "print(summaries)"
   ]
  },
  {
   "cell_type": "markdown",
   "metadata": {},
   "source": [
    "Работает неплохо, но, конечно, для реального практического применения нужно тюнить модель дополнительно."
   ]
  },
  {
   "cell_type": "markdown",
   "metadata": {},
   "source": [
    "## Модель FLAN"
   ]
  },
  {
   "cell_type": "markdown",
   "metadata": {},
   "source": [
    "[[paper] 🎓 Finetuned Language Models Are Zero-Shot Learners (2021)](https://arxiv.org/abs/2109.01652)\n",
    "\n",
    "В этой статье уже заметен сдвиг в сторону общих моделей: уже сформировался подход к обучению через инструкции."
   ]
  },
  {
   "cell_type": "markdown",
   "metadata": {},
   "source": [
    "<center><img src=\"https://edunet.kea.su/repo/EduNet_NLP-web_dependencies/L07/instruction_tuning.png\" width=\"800\"></center>\n",
    "\n",
    "<center><em>Источник: <a href=\"https://arxiv.org/abs/2109.01652\">Finetuned Language Models Are Zero-Shot Learners</a></em></center>"
   ]
  },
  {
   "cell_type": "markdown",
   "metadata": {},
   "source": [
    "Идея: сформулировать много задач как инструкции и дообучить на всех одновременно. 62 набора данных для решения различных NLP задач были переделаны в один большой датасет разнообразных инструкций, чтобы обучить модель решать сразу всё."
   ]
  },
  {
   "cell_type": "markdown",
   "metadata": {},
   "source": [
    "<center><img src=\"https://edunet.kea.su/repo/EduNet_NLP-web_dependencies/L07/datasets.png\" width=\"800\"></center>\n",
    "\n",
    "<center><em>Источник: <a href=\"https://arxiv.org/abs/2109.01652\">Finetuned Language Models Are Zero-Shot Learners</a></em></center>"
   ]
  },
  {
   "cell_type": "markdown",
   "metadata": {},
   "source": [
    "Примеры инструкций:\n",
    "- `Please translate this sentence to French: 'The dog\n",
    "runs.'`\n",
    "- `What is the sentiment of this text? Options: Negative, Positive, Neutral.`\n",
    "\n",
    "Было замечено, что модель обладает обобщающей способностью и выполняет инструкции, которые она никогда не видела. Так как модель предобучена на большом количестве текстов, она уже хорошо понимает язык и экстраполирует инструкции из обучающей выборки, используя свое понимание языка.\n",
    "\n",
    "Описанный подход был опробован с разными моделями (T5, PALM), и везде получалось хорошо решать новые задачи.\n",
    "\n",
    "FLAN варианты моделей также доступны на HuggingFace. Давайте попробуем с таким же текстом."
   ]
  },
  {
   "cell_type": "code",
   "execution_count": null,
   "metadata": {},
   "outputs": [],
   "source": [
    "model_name = \"google/flan-t5-small\"\n",
    "tokenizer = AutoTokenizer.from_pretrained(model_name, model_max_length=512)\n",
    "model = AutoModelForSeq2SeqLM.from_pretrained(model_name)\n",
    "\n",
    "clear_output()"
   ]
  },
  {
   "cell_type": "markdown",
   "metadata": {},
   "source": [
    "Инструкции модели можно передавать в свободном формате, поэтому сделаем функцию, чтобы удобнее было пробовать разные инструкции."
   ]
  },
  {
   "cell_type": "code",
   "execution_count": null,
   "metadata": {},
   "outputs": [],
   "source": [
    "def predict_for_instruction(instruction, text, model):\n",
    "\n",
    "    inputs = tokenizer([instruction.format(text)], return_tensors=\"pt\", padding=True)\n",
    "\n",
    "    output_sequences = model.generate(\n",
    "        num_beams=5,\n",
    "        max_length=100,\n",
    "        no_repeat_ngram_size=3,\n",
    "        early_stopping=True,\n",
    "        num_return_sequences=1,\n",
    "        input_ids=inputs[\"input_ids\"],\n",
    "        attention_mask=inputs[\"attention_mask\"],\n",
    "        do_sample=False,  # disable sampling to test if batching affects output\n",
    "    )\n",
    "    summaries = tokenizer.batch_decode(output_sequences, skip_special_tokens=True)\n",
    "    return summaries[0]"
   ]
  },
  {
   "cell_type": "code",
   "execution_count": null,
   "metadata": {},
   "outputs": [],
   "source": [
    "text = \"\"\"\n",
    "Badgers burrowing under rail tracks have halted trains in the northern and southern Netherlands, forcing lengthy cancellations on at least two lines.\n",
    "All trains were halted Tuesday afternoon on a busy line between the southern cities of Den Bosch and Boxtel after the animals dug into a dike carrying rails. The national railway company said the line would be out of service for at least a week.\n",
    "The digging means \"the rails can subside and then the safety of train traffic can no longer be guaranteed,\" ProRail, the company that maintains the Dutch rail network said in a statement.\n",
    "Earlier this month, badgers also burrowed under tracks near the northern village of Molkwerum in Friesland province, knocking a line out of service until next month while workers seek permission to shift the animals.\n",
    "Badgers are protected animals in the Netherlands, so rail operators have to get permission to move them or disturb their habitat before repairs can begin.\n",
    "\"\"\""
   ]
  },
  {
   "cell_type": "code",
   "execution_count": null,
   "metadata": {},
   "outputs": [],
   "source": [
    "instruction = \"Give a summary of this text: {}\"\n",
    "predict_for_instruction(instruction, text, model)"
   ]
  },
  {
   "cell_type": "code",
   "execution_count": null,
   "metadata": {},
   "outputs": [],
   "source": [
    "instruction = \"Give a very short summary of this text: {}\"\n",
    "predict_for_instruction(instruction, text, model)"
   ]
  },
  {
   "cell_type": "code",
   "execution_count": null,
   "metadata": {},
   "outputs": [],
   "source": [
    "instruction = \"Write a title for the following text:{}\"\n",
    "predict_for_instruction(instruction, text, model)"
   ]
  },
  {
   "cell_type": "code",
   "execution_count": null,
   "metadata": {},
   "outputs": [],
   "source": [
    "instruction = \"Suggest keywords for this text. Text: {}\"\n",
    "predict_for_instruction(instruction, text, model)"
   ]
  },
  {
   "cell_type": "markdown",
   "metadata": {},
   "source": [
    "## Обучение с подкреплением с обратной связью от человека"
   ]
  },
  {
   "cell_type": "markdown",
   "metadata": {},
   "source": [
    "[[paper] 🎓 Training language models to follow instructions with human feedback (2022)](https://arxiv.org/abs/2203.02155)\n",
    "\n",
    "Reinforcement Learning from Human Feedback (RLHF) — подход, который позволил значительно улучшить обучение на инструкциях. Он был использован для обучения модели InstructGPT.\n",
    "\n",
    "Модель InstructGPT — \"младший брат\" ChatGPT. Она не привлекла столько внимания общественности, но более полезна нам как исследователям, поскольку процесс ее обучения описан в статье. Однако сама идея обучения применима и к ChatGPT.\n",
    "\n",
    "Итак, как превратить (уже достаточно умную) GPT-3 в (еще более умную) InstructGPT?"
   ]
  },
  {
   "cell_type": "markdown",
   "metadata": {},
   "source": [
    "- Шаг 1: собрать набор инструкций и дообучить на нем GPT-3.\n",
    "\n",
    "Инструкции должны включать не только классические NLP-задачи, но и более \"творческие\": придумать историю, написать список чего-нибудь, посоветовать что-то. Качество важнее количества: большая доля ручного труда, высокое требование к качеству инструкций.\n",
    "\n",
    "После дообучения модели GPT-3 получим SFT-модель (supervised fine-tuned)."
   ]
  },
  {
   "cell_type": "markdown",
   "metadata": {},
   "source": [
    "- Шаг 2: оценить результаты модели SFT и обучить reward-модель.\n",
    "\n",
    "Результаты SFT-модели оцениваются с помощью разметчиков. Берется тестовый набор данных, с помощью SFT-модели для каждого задания генерируется несколько кандидатов ответа. Далее разметчики ранжируют ответы модели по качеству: попарно сравнивают эти ответы и говорят, какой из них лучше.\n",
    "\n",
    "Ответы разметчиков используются для обучения reward-модели. Она должна быть способна имитировать ответ разметчика и ранжировать ответы SFT-модели."
   ]
  },
  {
   "cell_type": "markdown",
   "metadata": {},
   "source": [
    "- Шаг 3: дообучить SFT-модель с использованием reward-модели\n",
    "\n",
    "SFT-модель генерирует ответы-кандидаты. Они оцениваются с помощью reward-модели, обученной на обратной связи от людей. Оценка reward-модели используется для оптимизации весов SFT-модели. Она дообучается так, чтобы генерированные тексты получали высокие оценки."
   ]
  },
  {
   "cell_type": "markdown",
   "metadata": {},
   "source": [
    "Для обучения с подкреплением используется метод Proximal Policy Optimization (PPO). Модель не просто учится максимизировать оценку сгенерированных текстов, но еще старается минимизировать изменения."
   ]
  },
  {
   "cell_type": "markdown",
   "metadata": {},
   "source": [
    "<center><img src =\"https://edunet.kea.su/repo/EduNet_NLP-web_dependencies/L07/rlhf_steps.png\" width=\"800\"></center>\n",
    "\n",
    "<center><em>Источник: <a href=\"https://arxiv.org/abs/2203.02155\">Training language models to follow instructions with human feedback </a></em></center>"
   ]
  },
  {
   "cell_type": "markdown",
   "metadata": {},
   "source": [
    "RLHF позволяет исправить то, что было заложено как во время предобучения, так и во время обучения методом SFT. Это могут быть ошибки или нежелательное поведение модели с точки зрения разработчиков."
   ]
  },
  {
   "cell_type": "markdown",
   "metadata": {},
   "source": [
    "<center><img src =\"https://edunet.kea.su/repo/EduNet_NLP-web_dependencies/L07/prediction_vs_reward_model.png\" width=\"800\"></center>\n",
    "\n",
    "<center><em>Сравнение стуктуры модели для предсказания следующего токена и модели вознаграждения</em></center>\n",
    "\n",
    "<center><em>Источник: <a href=\"https://cameronrwolfe.substack.com/p/llama-2-from-the-ground-up#footnote-anchor-9-135824233\"> CAMERON R. WOLFE, \"LLaMA-2 from the Ground Up\"</a></em></center>"
   ]
  },
  {
   "cell_type": "markdown",
   "metadata": {},
   "source": [
    "Модель вознаграждения имеет ту же архитектуру и веса, что и основная модель. Разница в том, что слой классификации (предсказание токена) заменён на слой регрессии.\n",
    "\n",
    "Модель штрафует за разницу между предпочтительным человеческим ответом и имеющимся машинным. Кроме того, в это выражение добавляется смещение, которое характеризуется выбранной человеком оценкой качества ответа.\n",
    "\n",
    "$$\\large L_{\\text{ranking}} = - \\log (σ(r_{θ}(x, y_c))-σ(r_{θ}(x, y_r))-m(r))$$\n",
    "\n",
    "Стоит учесть, что одновременно обучается множество моделей вознаграждения, которые отвечают различным характеристикам ответов модели: от безопасности до полезности ответа."
   ]
  },
  {
   "cell_type": "markdown",
   "metadata": {},
   "source": [
    "# Открытые модели-декодеры"
   ]
  },
  {
   "cell_type": "markdown",
   "metadata": {},
   "source": [
    "Модели, у которых более чем миллиард параметров, обычно называют большими языковыми моделями (БЯМ) или large language models (LLM). Этот термин относится собственно к моделям на основе декодера трансформера. При этом в дальнейшем одна и та же модель может быть обучена на различном инструктивном датасете.\n",
    "\n",
    "К LLM относятся GPT, начиная с 3-го поколения. Существуют и другие большие языковые модели, которые находятся в открытом доступе."
   ]
  },
  {
   "cell_type": "markdown",
   "metadata": {},
   "source": [
    "## LLaMA"
   ]
  },
  {
   "cell_type": "markdown",
   "metadata": {},
   "source": [
    "[[paper] 🎓 Scaling Laws for Neural Language Models (2020)](https://arxiv.org/abs/2001.08361)\n",
    "\n",
    "Когда количество данных увеличивается, происходит улучшение качества. Именно этот фактор позволил LLaMA-13B превзойти GPT-3, несмотря на то, что он был в 10 раз меньше."
   ]
  },
  {
   "cell_type": "markdown",
   "metadata": {},
   "source": [
    "<center><img src=\"https://edunet.kea.su/repo/EduNet_NLP-web_dependencies/L07/data_parameters.png\" width=\"600\"></center>\n",
    "\n",
    "<center><em>Источник: <a href=\"https://arxiv.org/abs/2001.08361\">Scaling Laws for Neural Language Models</a></em></center>"
   ]
  },
  {
   "cell_type": "markdown",
   "metadata": {},
   "source": [
    "Продолжение развития декодеров. Концепция Large Language Model Meta AI заключается в обучении меньших моделей на бОльшем количестве данных.\n",
    "\n",
    "[[paper] 🎓 LLaMA: Open and Efficient Foundation Language Models (2023)](https://arxiv.org/abs/2302.13971)\n",
    "\n",
    "LLaMA-13B превосходит GPT-3 по большинству тестов, несмотря на то, что она в 10 раз меньше."
   ]
  },
  {
   "cell_type": "markdown",
   "metadata": {},
   "source": [
    "* **Pre-normalization**: были нормализованы входные данные для каждого подуровня трансформера.\n",
    "\n",
    "\n",
    "Базовый подход\n",
    "```python\n",
    "x = norm(x + attention(x))\n",
    "x = norm(x + linear(x))\n",
    "```\n",
    "\n",
    "Текущий подход\n",
    "```python\n",
    "x = x + attention(norm(x))\n",
    "x = x + linear(norm(x))\n",
    "```"
   ]
  },
  {
   "cell_type": "markdown",
   "metadata": {},
   "source": [
    "Раньше использовали Layer Normalization: вычитаем среднее, делим на стандартное отклонение, потом умножаем на обучаемую статистику и прибавляем еще одну.\n",
    "\n",
    "$$y_i = \\frac{x_i - \\mu}{\\sqrt{\\sigma^2 + \\epsilon}} \\cdot \\gamma_i + \\beta_i, \\quad \\text{где }\\mu = \\frac{1}{H} \\sum_{i=1}^{H} x_i, \\quad \\sigma^2 = \\frac{1}{H} \\sum_{i=1}^{H} (x_i - \\mu)^2.$$\n",
    "\n",
    "Вместо этого предлагается использовать Root Mean Square Layer Normalization. Идея заключается в том, что вычитание среднего необязательно — достаточно нормализовать значения путём деления и последующего умножения на обучаемую статистику. Это позволило сократить количество вычислений и обучаемых параметров без потери качества модели.\n",
    "\n",
    "$$\\bar{a}_i = \\frac{a_i}{\\text{RMS}(\\mathbf{a})} g_i, \\quad \\text{где } \\text{RMS}(\\mathbf{a}) = \\sqrt{\\frac{1}{n}\\sum_{i=1}^n a_i^2}$$"
   ]
  },
  {
   "cell_type": "markdown",
   "metadata": {},
   "source": [
    "* Была **изменена фунция активации**: на место ReLU пришла SwiGLU."
   ]
  },
  {
   "cell_type": "markdown",
   "metadata": {},
   "source": [
    "<center><img src=\"https://edunet.kea.su/repo/EduNet_NLP-web_dependencies/L07/activation.png\" width=\"900\"></center>\n",
    "\n",
    "<center><em>Источник: <a href=\"https://blog.csdn.net/baidu_33000721/article/details/138616702\">Frequently asked questions in large language models</a></em></center>"
   ]
  },
  {
   "cell_type": "markdown",
   "metadata": {},
   "source": [
    "* Для позиционного энкодинга были применены **“rotary positional embeddings”**.\n",
    "\n",
    "Помимо составляющей периода и частоты в positional embeddings, добавляется составляющая поворота. Она определяет, насколько эмбеддинги далеки друг от друга.\n",
    "\n",
    "На стадии attention будем поворачивать вектора $q$ и $k$ в зависимости от позиции токена. Если позиция $m$, то повернем на угол $m\\cdot \\Theta$. Если точнее, поворачивать будем не весь эмбеддинг целиком, а разобьем его на много маленьких векторов по 2 координаты, и каждый отдельно повернем."
   ]
  },
  {
   "cell_type": "markdown",
   "metadata": {},
   "source": [
    "<center><img src=\"https://edunet.kea.su/repo/EduNet_NLP-web_dependencies/L07/embeddings.png\" width=\"1000\"></center>\n",
    "\n",
    "<center><em>Источник: <a href=\"https://arxiv.org/abs/2104.09864\">RoFormer: Enhanced Transformer with Rotary Position Embedding\n",
    "</a></em></center>"
   ]
  },
  {
   "cell_type": "markdown",
   "metadata": {},
   "source": [
    "* Модификация **механизма внимания**\n",
    "\n",
    "В классическом Трансформере используется множественное внимание: каждая голова пытается \"выявить\" свои зависимости из текста. Сначала вычисляется внимание для каждой головы, потом матрицы конкатенируются. У такого алгоритма квадратичная сложность вычисления.\n",
    "\n",
    "$$\\text\n",
    "{Attention}(Q, K, V) = \\text{softmax}\\large(\\frac{QK^T}{\\sqrt{d_k}})V$$\n",
    "\n",
    "Результат операции внимания для одного запроса представляет собой взвешенную сумму векторов значений, где веса являются softmax от скалярных произведений запроса и ключей. Сложность меняется с квадратичной на линейную.\n",
    "\n",
    "$$s_i = \\text{dot}(q,k_i)$$\n",
    "$$s'_i = e^{s_i}$$\n",
    "$$\\text\n",
    "{attention}(q,k,v) = \\frac{\\sum_i v_is'_i}{\\sum_j s'_j}$$"
   ]
  },
  {
   "cell_type": "markdown",
   "metadata": {},
   "source": [
    "\n",
    "Модели типа LLaMA-Chat оптимизированы для диалоговых взаимодействий. Такие модели обучаются через  Reinforcement Learning from Human Feedback (**RLHF**)."
   ]
  },
  {
   "cell_type": "markdown",
   "metadata": {},
   "source": [
    "**LLaMA2**\n",
    "\n",
    "[[paper] 🎓 Llama 2: Open Foundation and Fine-Tuned Chat Models (2023)](https://arxiv.org/abs/2307.09288)\n",
    "\n",
    "\n",
    "По сравнению с первой версией:\n",
    "\n",
    "* +40% данных для обучения,\n",
    "* контекст 4096 токенов (×2 LLAMA),\n",
    "* механизм внимания Grouped-query."
   ]
  },
  {
   "cell_type": "markdown",
   "metadata": {},
   "source": [
    "**GQA** — модифицированная версия уже виденного нами Self-Attention, в которой общее количество голов внимания делится на группы, внутри которых Key и Value общие.\n",
    "\n",
    "[[paper] 🎓 GQA: Training Generalized Multi-Query Transformer Models from Multi-Head Checkpoints (2023)](https://arxiv.org/abs/2305.13245)"
   ]
  },
  {
   "cell_type": "markdown",
   "metadata": {},
   "source": [
    "<center><img src =\"https://edunet.kea.su/repo/EduNet_NLP-web_dependencies/L07/gqa.png\" width=\"800\"></center>\n",
    "\n",
    "<center><em>Источник: <a href=\"https://arxiv.org/abs/2305.13245\"> GQA: Training Generalized Multi-Query Transformer Models from Multi-Head Checkpoints</a></em></center>"
   ]
  },
  {
   "cell_type": "markdown",
   "metadata": {},
   "source": [
    "**LLaMA3**\n",
    "\n",
    "[[paper] 🎓 The Llama 3 Herd of Models (2024)](https://arxiv.org/abs/2407.21783)\n",
    "\n",
    "Два размера модели:\n",
    "- base – 8B параметров\n",
    "- large – 70B параметров\n",
    "\n",
    "Обе модели в двух версиях (pre-trained & instruct tuned). Доступна по запросу.\n",
    "\n",
    "Отличия от предыдущих версий:\n",
    "- размер словаря увеличен до 128,256 токенов (VS 32K в\n",
    "LLaMA 2)\n",
    "- размер обучающего датасета увеличен в 8 раз (до 15T\n",
    "токенов)"
   ]
  },
  {
   "cell_type": "markdown",
   "metadata": {},
   "source": [
    "Подробнее про модификации классического Трансформера можно почитать в статье:\n",
    "\n",
    "[[blog] ✏️ Attention is Not All You Need: как менялась архитектура трансформера](https://habr.com/ru/articles/804119/)"
   ]
  },
  {
   "cell_type": "markdown",
   "metadata": {},
   "source": [
    "**Какие ещё есть БЯМ?**\n",
    "\n",
    "Hugging Face [предоставляет поисковик 🛠️[doc]](https://huggingface.co/models), позволяющий выбрать БЯМ под задачу и язык, включая модели с открытым исходным кодом."
   ]
  },
  {
   "cell_type": "markdown",
   "metadata": {},
   "source": [
    "# Эффективная тонкая настройка"
   ]
  },
  {
   "cell_type": "markdown",
   "metadata": {},
   "source": [
    "Одним из главных плюсов больших языковых моделей является возможность использовать их без дополнительного обучения. Зачастую решить необходимую задачу можно просто с помощью хорошо сформулированной инструкции. При наличии 10–50 примеров можно добавить их в инструкцию, чтобы лучше \"объяснить\", в чем состоит задача."
   ]
  },
  {
   "cell_type": "markdown",
   "metadata": {},
   "source": [
    "<center><img src =\"https://edunet.kea.su/repo/EduNet_NLP-web_dependencies/L07/prompt-engineering.png\" width=\"800\"></center>\n",
    "\n",
    "<center><em>Источник: <a href=\"https://fourweekmba.com/prompt-engineering/\"> Prompt Engineering</a></em></center>"
   ]
  },
  {
   "cell_type": "markdown",
   "metadata": {},
   "source": [
    "Однако может случиться, что задача слишком сложная и требует \"знаний\", которые не встречались при предобучении LLM. Другой пример — применение к языку, данные на котором отсутствовали в обучающем датасете.\n",
    "\n",
    "Тогда можно осуществить тонкую настройку большой языковой модели (аналогично энкодерной модели). Важно, что для этого необходимо достаточное количество примеров.\n",
    "\n",
    "Проблема состоит в том, что дообучение всей LLM требует слишком много времени и ресурсов. Существуют различные методы, которые позволяют осуществлять тонкую настройку более эффективно и менять только часть весов модели."
   ]
  },
  {
   "cell_type": "markdown",
   "metadata": {},
   "source": [
    "<center><img src =\"https://edunet.kea.su/repo/EduNet_NLP-web_dependencies/L07/Parameter-efficient-Fine-tuning.png\" width=\"800\"></center>\n",
    "\n",
    "<center><em>Источник: <a href=\"https://kristiburn206.wordpress.com/2023/06/01/parameter-efficient-fine-tuning-peft/\">Parameter Efficient Fine-Tuning</a></em></center>"
   ]
  },
  {
   "cell_type": "markdown",
   "metadata": {},
   "source": [
    "Parameter-Efficient Fine-Tuning (PEFT) — это методы тонкой настройки, которые позволяют улучшить результаты работы языковых моделей при выполнении определенных задач. Их идея заключается в том, чтобы обучить небольшое подмножество параметров предобученной LLM, оставляя бо́льшую часть замороженными. Благодаря этому мы также можем избежать переобучения на новых данных."
   ]
  },
  {
   "cell_type": "markdown",
   "metadata": {},
   "source": [
    "## Prompt tuning"
   ]
  },
  {
   "cell_type": "markdown",
   "metadata": {},
   "source": [
    "[[paper] 🎓 The Power of Scale for Parameter-Efficient Prompt Tuning (2021)](https://arxiv.org/abs/2104.08691)\n",
    "\n",
    "Первый метод PEFT в некотором смысле является развитием идеи prompt engineering.\n",
    "\n",
    "Подбор инструкции вручную состоит в том, чтобы эмбеддинги входящих в нее слов при подаче в модель привели к желаемому результату генерации. Идея prompt tuning состоит в том, чтобы избавиться от шага с подбором слов и сразу подбирать нужные эмбеддинги.\n",
    "\n",
    "Фиксированные инструкции (hard prompt) подбираются человеком и включают токены из словаря. Токены нефиксированной инструкции (soft prompt) являются обучаемыми векторами."
   ]
  },
  {
   "cell_type": "markdown",
   "metadata": {},
   "source": [
    "<center><img src =\"https://edunet.kea.su/repo/EduNet_NLP-web_dependencies/L07/hard-soft.jpg\" width=\"700\"></center>\n",
    "\n",
    "<center><em>Источник: <a href=\"https://kristiburn206.wordpress.com/2023/06/01/parameter-efficient-fine-tuning-peft/\">Hard vs. Soft Prompting</a></em></center>"
   ]
  },
  {
   "cell_type": "markdown",
   "metadata": {},
   "source": [
    "Перед входом в языковую модель размещаются несколько обучаемых эмбеддингов.\n",
    "- У модели есть эмбеддинги токенов (input text), которые привязаны к осмысленным словам.\n",
    "- Также есть эмбеддинги, которые не зависят от слов, просто обучаемые векторы, причем каждый из них уникальный."
   ]
  },
  {
   "cell_type": "markdown",
   "metadata": {},
   "source": [
    "<center><img src =\"https://edunet.kea.su/repo/EduNet_NLP-web_dependencies/L07/comparison.png\" width=\"700\"></center>\n",
    "\n",
    "<center><em>Источник: <a href=\"https://research.google/blog/guiding-frozen-language-models-with-learned-soft-prompts/\">Guiding Frozen Language Models with Learned Soft Prompts</a></em></center>"
   ]
  },
  {
   "cell_type": "markdown",
   "metadata": {},
   "source": [
    "Чтобы создать soft prompt для некоторой задачи, сначала инициализируется промпт в виде последовательности векторов фиксированной длины (например, длиной в 20 токенов). Эти векторы объединяются с входными примерами и подаются в модель.\n",
    "\n",
    "Предсказание модели сравнивается с целевым значением для расчета функции потерь, и её значение передается обратно для расчета градиентов. Однако обновляться будут только новые обучаемые векторы, тогда как базовая модель остается замороженной.\n",
    "\n",
    "Soft prompts, полученные таким образом, не поддаются человеческой интерпретации. На интуитивном уровне они содержат информацию о том, как наилучшим образом сформулировать задачу, имея размеченный набор данных. Они выполняют ту же роль, что и написанные вручную инструкции, но без необходимости сопоставлять эмбеддингам слова человеческого языка.\n",
    "\n",
    "Чем больше размер модели, тем лучше работает данный метод."
   ]
  },
  {
   "cell_type": "markdown",
   "metadata": {},
   "source": [
    "<center><img src =\"https://edunet.kea.su/repo/EduNet_NLP-web_dependencies/L07/superglue.png\" width=\"400\"></center>\n",
    "\n",
    "<center><em>Источник: <a href=\"https://arxiv.org/abs/2104.08691\">The Power of Scale for Parameter-Efficient Prompt Tuning</a></em></center>"
   ]
  },
  {
   "cell_type": "markdown",
   "metadata": {},
   "source": [
    "## Prefix tuning"
   ]
  },
  {
   "cell_type": "markdown",
   "metadata": {},
   "source": [
    "[[paper] 🎓 Prefix-Tuning: Optimizing Continuous Prompts for Generation (2021)](https://arxiv.org/abs/2101.00190)\n",
    "\n",
    "[[paper] 🎓 P-Tuning v2: Prompt Tuning Can Be Comparable to Fine-tuning Universally Across Scales and Tasks (2022)](https://arxiv.org/abs/2110.07602)\n",
    "\n",
    "Развитие идеи prompt tuning: вместо обучения промпта для входного слоя обучать свои промпты для каждого слоя.\n",
    "\n",
    "Количество обучаемых параметров увеличивается в N раз, где N — количество слоев."
   ]
  },
  {
   "cell_type": "markdown",
   "metadata": {},
   "source": [
    "<em>Prompt tuning</em>\n",
    "\n",
    "<center><img src =\"https://edunet.kea.su/repo/EduNet_NLP-web_dependencies/L07/prompt.png\" width=\"700\"></center>\n",
    "\n",
    "<center><em>Источник: <a href=\"https://jjaegii.tistory.com/34\">PEFT: Parameter-Efficient Fine-Tuning</a></em></center>"
   ]
  },
  {
   "cell_type": "markdown",
   "metadata": {},
   "source": [
    "<em>Prefix tuning</em>\n",
    "\n",
    "<center><img src =\"https://edunet.kea.su/repo/EduNet_NLP-web_dependencies/L07/prefix.png\" width=\"700\"></center>\n",
    "\n",
    "<center><em>Источник: <a href=\"https://jjaegii.tistory.com/34\">PEFT: Parameter-Efficient Fine-Tuning</a></em></center>"
   ]
  },
  {
   "cell_type": "markdown",
   "metadata": {},
   "source": [
    "## Адаптеры"
   ]
  },
  {
   "cell_type": "markdown",
   "metadata": {},
   "source": [
    "[[paper] 🎓 Parameter-Efficient Transfer Learning for NLP (2019)](https://arxiv.org/abs/1902.00751)\n",
    "\n",
    "Вместо того чтобы обучать эмбеддинги дополнительных фиктивных токенов, предлагается добавить в архитектуру нейросети маленькие обучаемые слои — адаптеры.\n",
    "\n",
    "Добавляя их после слоев внимания (multi-head attention) и линейных слоев (feed-forward) в архитектуре Трансформер, мы можем обновлять только веса в адаптерах во время тонкой настройки, сохраняя при этом остальные параметры модели неизменными.\n",
    "\n",
    "Адаптер содержит два линейных слоя, между которыми находится нелинейная функция активации. Входными данными для слоя адаптера будет скрытое представление $h$, которое является выходом слоя множественного внимания."
   ]
  },
  {
   "cell_type": "markdown",
   "metadata": {},
   "source": [
    "<center><img src =\"https://edunet.kea.su/repo/EduNet_NLP-web_dependencies/L07/adapter.png\" width=\"700\"></center>\n",
    "\n",
    "<center><em>Источник: <a href=\"https://jjaegii.tistory.com/34\">PEFT: Parameter-Efficient Fine-Tuning</a></em></center>"
   ]
  },
  {
   "cell_type": "markdown",
   "metadata": {},
   "source": [
    "При проходе через первый линейный слой адаптера вектор $h$ проецируется в пространство малой размерности. После этого применяется функция активации. Выход второго линейного слоя имеет ту же размерность, как у изначального вектора $h$. Вектор $\\Delta h$, полученный при проходе через адаптор, суммируется с исходным вектором $h$ (skip-connection)."
   ]
  },
  {
   "cell_type": "markdown",
   "metadata": {},
   "source": [
    "## LoRA"
   ]
  },
  {
   "cell_type": "markdown",
   "metadata": {},
   "source": [
    "[[paper] 🎓 LoRA: Low-Rank Adaptation of Large Language Models (2021)](https://arxiv.org/abs/2106.09685)\n",
    "\n",
    "Существуют адаптеры, которые работают не на уровне трансформерного слоя, а на уровне весов. Идея состоит в том, чтобы модифицировать каждую матрицу слоя множественного внимания: `q_proj` (query), `k_proj` (key), `v_proj` (value)."
   ]
  },
  {
   "cell_type": "markdown",
   "metadata": {},
   "source": [
    "<center><img src =\"https://edunet.kea.su/repo/EduNet_NLP-web_dependencies/L07/lora.png\" width=\"700\"></center>\n",
    "\n",
    "<center><em>Источник: <a href=\"https://arxiv.org/abs/2106.09685\">LoRA: Low-Rank Adaptation of Large Language Models</a></em></center>"
   ]
  },
  {
   "cell_type": "markdown",
   "metadata": {},
   "source": [
    "Чтобы подробнее разобрать метод LoRA, спустимся на более простой уровень. Пусть у нас есть один линейный слой без функции активации.\n",
    "\n",
    "Если на вход подадим $x$, на выходе получим $y = Wx$, где $W$ — матрица весов.\n",
    "\n",
    "Мы хотим немного изменить принцип работы этого слоя, дообучив модель и скорректировав веса на $\\Delta W$ (которые ищут обычным градиентным спуском) так, чтобы новый выход был:\n",
    "\n",
    "$$y=W'x=(W+\\Delta W)x=y+\\Delta Wx$$"
   ]
  },
  {
   "cell_type": "markdown",
   "metadata": {},
   "source": [
    "<center><img src =\"https://edunet.kea.su/repo/EduNet_NLP-web_dependencies/L07/lora1.png\" width=\"300\"></center>\n",
    "\n",
    "<center><em>Источник: <a href=\"https://habr.com/ru/articles/747534/\">LoRA</a></em></center>"
   ]
  },
  {
   "cell_type": "markdown",
   "metadata": {},
   "source": [
    "Таким образом, мы можем зафиксировать веса матрицы $W$, а вместо этого учить $\\Delta W$ — матрицу, предсказывающую отличие результата обычной модели, от дообученой.\n",
    "\n",
    "Сразу возникнет вопрос — а где тут выигрыш? Ведь размеры матриц $W$ и $\\Delta W$ должны быть одинаковыми, так что в них одинаковое количество обучаемых параметров.\n",
    "\n",
    "Вот тут и включаются в игру слова Low Rank — матрицу маленького ранга можно представить как произведение двух меньшей размерности. Наша матрица может быть размером 100 на 70, но ранг, то есть количество линейно независимых строк или столбцов (таких столбцов которые действительно содержат новую информацию о модели, а не действуют на вектор параметров аналогично соседям) может быть меньше, чем 70, — например 4 или 20."
   ]
  },
  {
   "cell_type": "markdown",
   "metadata": {},
   "source": [
    "Рассмотрим ненулевой вектор  $\\vec a=(1, -1, 2)$. Его ранг равен 1.\n",
    "\n",
    "Рассмотрим матрицу, строки которой линейно зависимы (выражаются друг через друга).\n",
    "\n",
    "$$\\begin{pmatrix}\n",
    "1 & -1 & 2\\\\\n",
    "2 & -2 & 4\n",
    "\\end{pmatrix}$$\n",
    "\n",
    "С геометрической точки зрения во вторую строку записаны координаты коллинеарного вектора $2 \\vec a=(2, -2, 4)$. Таким образом, ранг данной матрицы тоже равен 1.\n",
    "\n",
    "Познакомимся с матрицей, строки которой линейно независимы.\n",
    "\n",
    "$$\\begin{pmatrix}\n",
    "1 & -1 & 2\\\\\n",
    "0 & 1 & -1\n",
    "\\end{pmatrix}$$\n",
    "\n",
    "Пара векторов $\\vec a=(1, -1, 2)$ и $\\vec b=(0, 1, -1)$ не коллинеарны. Ран матрицы равен 2.\n",
    "\n",
    "Ранг матрицы — это максимальное количество линейно независимых строк или максимальное количество линейно независимых столбцов (их количество всегда совпадает).\n",
    "\n",
    "Из вышесказанного также следует важный практический ориентир: ранг матрицы не превосходит её минимальной размерности."
   ]
  },
  {
   "cell_type": "markdown",
   "metadata": {},
   "source": [
    "Таким образом, можно представить матрицу $\\Delta W$ как произведение двух матриц $A$ и $B$. При этом сильно выиграем в количестве обучаемых параметров.\n",
    "\n",
    "Для примера на картинке матрица 100 × 70 содержит 7000 чисел, а две в левой части неравенства 140 + 200 = 340."
   ]
  },
  {
   "cell_type": "markdown",
   "metadata": {},
   "source": [
    "<center><img src =\"https://edunet.kea.su/repo/EduNet_NLP-web_dependencies/L07/lora2.png\" width=\"300\"></center>\n",
    "\n",
    "<center><em>Источник: <a href=\"https://habr.com/ru/articles/747534/\">LoRA</a></em></center>"
   ]
  },
  {
   "cell_type": "markdown",
   "metadata": {},
   "source": [
    "В общем случае потребуется обучить в $\\dfrac{ nr + rn }{ n^2 } = \\dfrac{ 2r }{n}$ меньше параметров. $r$ выбирается маленьким, порядка 2–8, что делает это значение очень маленьким: $\\approx 10^{-2}$.\n",
    "\n",
    "Мы немного потеряем в общности, так как теперь  автоматически постулируем, что у $\\Delta W$ низкий ранг. Однако в этом нет ничего страшного: разработчики LoRA утверждают, что хотя LLM имеют миллионы или даже миллиарды параметров, они имеют низкую \"внутреннюю размерность\" (intrinsic dimension) при адаптации к новой задаче. Проще говоря, большинство параметров являются избыточными. Из чего можно сделать вывод, что матрицы можно представить пространством меньшей размерности, сохраняя при этом большую часть важной информации.\n",
    "\n",
    "[[paper] 🎓 Intrinsic Dimensionality Explains the Effectiveness of Language Model Fine-Tuning (2020)](https://arxiv.org/abs/2012.13255)"
   ]
  },
  {
   "cell_type": "markdown",
   "metadata": {},
   "source": [
    "Таким образом, во время обучения нам необходимо хранить в памяти веса $W$ исходной модели и $\\Delta W=B\\cdot A$ дообучаемой, а считать градиенты только для \"новых\" маленьких матриц $A$ и $B$.\n",
    "\n",
    "При инициализации модели мы создаем матрицу $B$ случайным образом, а матрицу $A$ инициализируем нулями, чтобы изначально $\\Delta W = 0$."
   ]
  },
  {
   "cell_type": "markdown",
   "metadata": {},
   "source": [
    "<center><img src =\"https://edunet.kea.su/repo/EduNet_NLP-web_dependencies/L07/lora3.png\" width=\"300\"></center>\n",
    "\n",
    "<center><em>Источник: <a href=\"https://habr.com/ru/articles/747534/\">LoRA</a></em></center>"
   ]
  },
  {
   "cell_type": "markdown",
   "metadata": {},
   "source": [
    "### Тонкая настройка LLM с помощью LoRA"
   ]
  },
  {
   "cell_type": "markdown",
   "metadata": {},
   "source": [
    "Мы рассмотрим, как осуществить тонкую настройку больших языковых моделей с помощью метода LoRa (Low-Rank Adaptation), который:\n",
    "- Замораживает значения весов для предобученной модели\n",
    "- Добавляет небольшие обучаемые матрицы ранговой декомпозиции к слоям внимания\n",
    "- Обычно уменьшает количество обучаемых параметров примерно на 90%\n",
    "- Поддерживает производительность модели при сохранении эффективной работы с памятью"
   ]
  },
  {
   "cell_type": "code",
   "execution_count": null,
   "metadata": {},
   "outputs": [],
   "source": [
    "from IPython.display import clear_output\n",
    "\n",
    "!pip install -q transformers datasets trl\n",
    "clear_output()"
   ]
  },
  {
   "cell_type": "markdown",
   "metadata": {},
   "source": [
    "Класс `SFTTrainer` [🛠️[doc]](https://huggingface.co/docs/trl/sft_trainer) из библиотеки trl обеспечивает интеграцию с адаптерами LoRa через библиотеку [PEFT 🛠️[doc]](https://huggingface.co/docs/peft/en/index).\n",
    "\n",
    "Основные преимущества включают в себя:\n",
    "\n",
    "**1. Эффективность использования памяти:**\n",
    "- В памяти графического процессора хранятся только параметры адаптера\n",
    "- Веса базовой модели остаются замороженными и могут быть загружены с меньшей точностью\n",
    "- Позволяет выполнять тонкую настройку больших моделей на потребительских графических процессорах\n",
    "\n",
    "**2. Особенности обучения:**\n",
    "- Встроенная интеграция PEFT/LoRa с минимальными настройками\n",
    "- Поддержка QLoRA (Quantized LoRa) для еще большей эффективности использования памяти\n",
    "\n",
    "**3. Управление адаптером:**\n",
    "- Сохранение весов адаптера во время контрольных точек (checkpoints)\n",
    "- Функции для присоединения адаптеров обратно к базовой модели\n",
    "\n",
    "Для тонкой настройки требуется всего несколько шагов:\n",
    "- Определить конфигурацию LoRa (rank, alpha, dropout)\n",
    "- Создать `SFTTrainer` с помощью `peft_config`\n",
    "- Обучить и сохранить веса адаптера"
   ]
  },
  {
   "cell_type": "markdown",
   "metadata": {},
   "source": [
    "#### Загрузка данных и базовой модели"
   ]
  },
  {
   "cell_type": "markdown",
   "metadata": {},
   "source": [
    "Загрузим датасет, который будем использовать для тонкой настройки."
   ]
  },
  {
   "cell_type": "code",
   "execution_count": null,
   "metadata": {},
   "outputs": [],
   "source": [
    "from datasets import load_dataset\n",
    "\n",
    "dataset = load_dataset(path=\"HuggingFaceTB/smoltalk\", name=\"everyday-conversations\")\n",
    "clear_output()\n",
    "dataset"
   ]
  },
  {
   "cell_type": "code",
   "execution_count": null,
   "metadata": {},
   "outputs": [],
   "source": [
    "dataset[\"train\"][0]"
   ]
  },
  {
   "cell_type": "markdown",
   "metadata": {},
   "source": [
    "Определим предобученную модель и токенизатор."
   ]
  },
  {
   "cell_type": "code",
   "execution_count": null,
   "metadata": {},
   "outputs": [],
   "source": [
    "import torch\n",
    "from trl import setup_chat_format\n",
    "from transformers import AutoModelForCausalLM, AutoTokenizer\n",
    "\n",
    "device = \"cuda\" if torch.cuda.is_available() else \"cpu\"\n",
    "\n",
    "# Load the model and tokenizer\n",
    "model_name = \"HuggingFaceTB/SmolLM2-135M\"\n",
    "model = AutoModelForCausalLM.from_pretrained(\n",
    "    pretrained_model_name_or_path=model_name\n",
    ").to(device)\n",
    "tokenizer = AutoTokenizer.from_pretrained(pretrained_model_name_or_path=model_name)\n",
    "\n",
    "# Define the chat template\n",
    "model, tokenizer = setup_chat_format(model=model, tokenizer=tokenizer)\n",
    "\n",
    "# Set the directory where adapter weights will be saved\n",
    "finetune_name = \"SmolLM2-FT-MyDataset\"\n",
    "\n",
    "clear_output()"
   ]
  },
  {
   "cell_type": "markdown",
   "metadata": {},
   "source": [
    "Протестируем предобученную модель для генерации."
   ]
  },
  {
   "cell_type": "code",
   "execution_count": null,
   "metadata": {},
   "outputs": [],
   "source": [
    "from transformers import pipeline\n",
    "\n",
    "pipe = pipeline(\"text-generation\", model=model, tokenizer=tokenizer, device=device)"
   ]
  },
  {
   "cell_type": "code",
   "execution_count": null,
   "metadata": {},
   "outputs": [],
   "source": [
    "prompts = [\n",
    "    \"What is the capital of Germany? Explain why thats the case and if it was different in the past?\",\n",
    "    \"Write a Python function to calculate the factorial of a number.\",\n",
    "    \"A rectangular garden has a length of 25 feet and a width of 15 feet. If you want to build a fence around the entire garden, how many feet of fencing will you need?\",\n",
    "    \"What is the difference between a fruit and a vegetable? Give examples of each.\",\n",
    "]"
   ]
  },
  {
   "cell_type": "code",
   "execution_count": null,
   "metadata": {},
   "outputs": [],
   "source": [
    "def test_inference(prompt, pipe):\n",
    "    prompt = pipe.tokenizer.apply_chat_template(\n",
    "        [{\"role\": \"user\", \"content\": prompt}],\n",
    "        tokenize=False,\n",
    "        add_generation_prompt=True,\n",
    "    )\n",
    "    outputs = pipe(\n",
    "        prompt,\n",
    "    )\n",
    "    return outputs[0][\"generated_text\"][len(prompt) :].strip()"
   ]
  },
  {
   "cell_type": "code",
   "execution_count": null,
   "metadata": {},
   "outputs": [],
   "source": [
    "for prompt in prompts:\n",
    "    print(f\"    prompt:\\n{prompt}\")\n",
    "    print(f\"    response:\\n{test_inference(prompt, pipe)}\")\n",
    "    print(\"-\" * 50)"
   ]
  },
  {
   "cell_type": "markdown",
   "metadata": {},
   "source": [
    "#### Тонкая настройка"
   ]
  },
  {
   "cell_type": "markdown",
   "metadata": {},
   "source": [
    "`SFTTrainer` поддерживает интеграцию с библиотекой PEFT, что упрощает эффективную настройку LLM, например, с использованием LoRa. Нам нужно только создать `LoraConfig` и передать его в `trainer`.\n",
    "\n",
    "Определим параметры LoRA."
   ]
  },
  {
   "cell_type": "code",
   "execution_count": null,
   "metadata": {},
   "outputs": [],
   "source": [
    "from peft import LoraConfig\n",
    "\n",
    "# LoRA configuration\n",
    "rank_dimension = 6  # Rank of LoRA update matrices (controls compression level)\n",
    "lora_alpha = (\n",
    "    8  # Scaling factor for LoRA updates (controls influence on original weights)\n",
    ")\n",
    "lora_dropout = (\n",
    "    0.05  # Dropout rate to regularize LoRA layers (helps prevent overfitting)\n",
    ")\n",
    "\n",
    "peft_config = LoraConfig(\n",
    "    r=rank_dimension,  # LoRA rank (e.g., 4–32)\n",
    "    lora_alpha=lora_alpha,  # LoRA scaling factor — typically ~2× rank\n",
    "    lora_dropout=lora_dropout,  # dropout probability for LoRA layers\n",
    "    target_modules=\"all-linear\",  # apply to all linear layers\n",
    "    task_type=\"CAUSAL_LM\",  # task type: causal language modeling\n",
    ")"
   ]
  },
  {
   "cell_type": "markdown",
   "metadata": {},
   "source": [
    "Прежде чем начать обучение, нам нужно определить гиперпараметры (`TrainingArguments`), которые будем использовать."
   ]
  },
  {
   "cell_type": "code",
   "execution_count": null,
   "metadata": {},
   "outputs": [],
   "source": [
    "from trl import SFTConfig\n",
    "\n",
    "\n",
    "args = SFTConfig(\n",
    "    # Output directory for fine-tuned model\n",
    "    output_dir=finetune_name,\n",
    "    # Training duration\n",
    "    num_train_epochs=1,\n",
    "    # Batch size settings\n",
    "    per_device_train_batch_size=2,\n",
    "    gradient_accumulation_steps=2,\n",
    "    # Memory optimization\n",
    "    gradient_checkpointing=True,\n",
    "    # Optimizer configuration\n",
    "    optim=\"adamw_torch_fused\",\n",
    "    learning_rate=2e-4,\n",
    "    max_grad_norm=0.3,\n",
    "    # Learning rate scheduler\n",
    "    warmup_ratio=0.03,\n",
    "    lr_scheduler_type=\"constant\",\n",
    "    # Logging and checkpointing\n",
    "    logging_steps=10,\n",
    "    save_strategy=\"epoch\",\n",
    "    # Precision settings\n",
    "    bf16=True,\n",
    "    # Integration settings\n",
    "    push_to_hub=False,\n",
    "    report_to=\"none\",\n",
    ")"
   ]
  },
  {
   "cell_type": "markdown",
   "metadata": {},
   "source": [
    "Теперь есть все необходимые компоненты для создания `SFTTrainer`, чтобы начать тонкую настройку модели."
   ]
  },
  {
   "cell_type": "code",
   "execution_count": null,
   "metadata": {},
   "outputs": [],
   "source": [
    "from trl import SFTTrainer\n",
    "\n",
    "# Create an SFTTrainer with the LoRA configuration\n",
    "trainer = SFTTrainer(\n",
    "    model=model,\n",
    "    args=args,\n",
    "    train_dataset=dataset[\"train\"],\n",
    "    peft_config=peft_config,\n",
    "    processing_class=tokenizer,\n",
    ")"
   ]
  },
  {
   "cell_type": "markdown",
   "metadata": {},
   "source": [
    "Начнем обучение модели, вызвав метод `train()` для экземпляра класса `SFTTrainer`. Поскольку мы используем метод PEFT, сохранятся только адаптированные веса модели, а не полная модель."
   ]
  },
  {
   "cell_type": "code",
   "execution_count": null,
   "metadata": {},
   "outputs": [],
   "source": [
    "# After training starts, the model will be saved to the output directory\n",
    "trainer.train()\n",
    "trainer.save_model()"
   ]
  },
  {
   "cell_type": "markdown",
   "metadata": {},
   "source": [
    "#### Объединение адаптора LoRA с предобученной моделью"
   ]
  },
  {
   "cell_type": "markdown",
   "metadata": {},
   "source": [
    "При использовании LoRa мы обучаем только веса адаптеров, сохраняя базовую модель замороженной. Во время обучения мы сохраняем только эти веса адаптеров (~2–10 МБ), а не полную копию модели. Однако для развертывания может потребоваться объединить адаптеры обратно в базовую модель."
   ]
  },
  {
   "cell_type": "code",
   "execution_count": null,
   "metadata": {},
   "outputs": [],
   "source": [
    "from peft import LoraConfig, AutoPeftModelForCausalLM\n",
    "\n",
    "# Loading adapter weights on CPU\n",
    "lora_model = AutoPeftModelForCausalLM.from_pretrained(\n",
    "    pretrained_model_name_or_path=args.output_dir,\n",
    "    torch_dtype=torch.float16,\n",
    "    low_cpu_mem_usage=True,\n",
    ")\n",
    "\n",
    "# Merging LoRA with the base model and saving it\n",
    "merged_model = lora_model.merge_and_unload()\n",
    "merged_model.save_pretrained(\n",
    "    args.output_dir, safe_serialization=True, max_shard_size=\"2GB\"\n",
    ")"
   ]
  },
  {
   "cell_type": "markdown",
   "metadata": {},
   "source": [
    "Протестируем несколько примеров и посмотрим, как работает модель после тонкой настройки."
   ]
  },
  {
   "cell_type": "code",
   "execution_count": null,
   "metadata": {},
   "outputs": [],
   "source": [
    "merged_pipe = pipeline(\n",
    "    \"text-generation\", model=merged_model, tokenizer=tokenizer, device=device\n",
    ")"
   ]
  },
  {
   "cell_type": "code",
   "execution_count": null,
   "metadata": {},
   "outputs": [],
   "source": [
    "for prompt in prompts:\n",
    "    print(f\"    prompt:\\n{prompt}\")\n",
    "    print(f\"    response:\\n{test_inference(prompt, merged_pipe)}\")\n",
    "    print(\"-\" * 50)"
   ]
  },
  {
   "cell_type": "markdown",
   "metadata": {},
   "source": [
    "#### Анализ изменений для конкретного слоя"
   ]
  },
  {
   "cell_type": "markdown",
   "metadata": {},
   "source": [
    "Исходная модель имеет следующую архитектуру."
   ]
  },
  {
   "cell_type": "code",
   "execution_count": null,
   "metadata": {},
   "outputs": [],
   "source": [
    "model_name = \"HuggingFaceTB/SmolLM2-135M\"\n",
    "model = AutoModelForCausalLM.from_pretrained(\n",
    "    pretrained_model_name_or_path=model_name\n",
    ").to(device)\n",
    "model"
   ]
  },
  {
   "cell_type": "markdown",
   "metadata": {},
   "source": [
    "Возьмем матрицу весов Q (query) для первого слоя."
   ]
  },
  {
   "cell_type": "code",
   "execution_count": null,
   "metadata": {},
   "outputs": [],
   "source": [
    "model.model.layers[0].self_attn.q_proj"
   ]
  },
  {
   "cell_type": "code",
   "execution_count": null,
   "metadata": {},
   "outputs": [],
   "source": [
    "base = model.model.layers[0].self_attn.q_proj.weight.data\n",
    "base"
   ]
  },
  {
   "cell_type": "markdown",
   "metadata": {},
   "source": [
    "Убедимся, что модель после тонкой настройки имеет аналогичную структуру."
   ]
  },
  {
   "cell_type": "code",
   "execution_count": null,
   "metadata": {},
   "outputs": [],
   "source": [
    "merged_model"
   ]
  },
  {
   "cell_type": "markdown",
   "metadata": {},
   "source": [
    "Возьмем ту же самую матрицу весов и убедимся, что она отличается."
   ]
  },
  {
   "cell_type": "code",
   "execution_count": null,
   "metadata": {},
   "outputs": [],
   "source": [
    "merged_model.model.layers[0].self_attn.q_proj"
   ]
  },
  {
   "cell_type": "code",
   "execution_count": null,
   "metadata": {},
   "outputs": [],
   "source": [
    "merged = merged_model.model.layers[0].self_attn.q_proj.weight.data\n",
    "merged"
   ]
  },
  {
   "cell_type": "markdown",
   "metadata": {},
   "source": [
    "Запишем в отдельные переменные низкоранговые матрицы A и B, которые обучались с помощью метода LoRA."
   ]
  },
  {
   "cell_type": "code",
   "execution_count": null,
   "metadata": {},
   "outputs": [],
   "source": [
    "trainer.model.base_model.model.model.layers[0].self_attn.q_proj.lora_A.default"
   ]
  },
  {
   "cell_type": "code",
   "execution_count": null,
   "metadata": {},
   "outputs": [],
   "source": [
    "a = trainer.model.base_model.model.model.layers[\n",
    "    0\n",
    "].self_attn.q_proj.lora_A.default.weight.data\n",
    "a"
   ]
  },
  {
   "cell_type": "code",
   "execution_count": null,
   "metadata": {},
   "outputs": [],
   "source": [
    "trainer.model.base_model.model.model.layers[0].self_attn.q_proj.lora_B.default"
   ]
  },
  {
   "cell_type": "code",
   "execution_count": null,
   "metadata": {},
   "outputs": [],
   "source": [
    "b = trainer.model.base_model.model.model.layers[\n",
    "    0\n",
    "].self_attn.q_proj.lora_B.default.weight.data\n",
    "b"
   ]
  },
  {
   "cell_type": "markdown",
   "metadata": {},
   "source": [
    "Убедимся, что при их перемножении и прибавлении к матрице базовой модели получим такую же матрицу, как в модели после тонкой настройки."
   ]
  },
  {
   "cell_type": "markdown",
   "metadata": {},
   "source": [
    "<center><img src =\"https://edunet.kea.su/repo/EduNet_NLP-web_dependencies/L07/lora.gif\" width=\"600\"></center>\n",
    "\n",
    "<center><em>Источник: <a href=\"https://habr.com/ru/articles/791966/\">PEFT</a></em></center>"
   ]
  },
  {
   "cell_type": "code",
   "execution_count": null,
   "metadata": {},
   "outputs": [],
   "source": [
    "base + lora_alpha / rank_dimension * (b @ a)"
   ]
  },
  {
   "cell_type": "code",
   "execution_count": null,
   "metadata": {},
   "outputs": [],
   "source": [
    "merged"
   ]
  }
 ],
 "metadata": {},
 "nbformat": 4,
 "nbformat_minor": 0
}
