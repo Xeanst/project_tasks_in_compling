{
  "nbformat": 4,
  "nbformat_minor": 0,
  "metadata": {
    "colab": {
      "provenance": [],
      "toc_visible": true
    },
    "kernelspec": {
      "name": "python3",
      "display_name": "Python 3"
    },
    "language_info": {
      "name": "python"
    }
  },
  "cells": [
    {
      "cell_type": "markdown",
      "source": [
        "<font size=\"6\">Векторные представления слов</font>"
      ],
      "metadata": {
        "id": "LQw1RBNyK2-e"
      }
    },
    {
      "cell_type": "markdown",
      "source": [
        "## Алгоритм word2vec"
      ],
      "metadata": {
        "id": "hWsXkJuCKtWm"
      }
    },
    {
      "cell_type": "markdown",
      "metadata": {
        "id": "aWEfIqFqiyUw"
      },
      "source": [
        "Для работы с алгоритмами машинного обучения нужен некоторый способ векторизации — представления текста в виде набора числовых признаков. Ранее мы рассматривали методы \"мешок слов\" и TF-IDF, которые позволяют получить счетные векторы.\n",
        "\n",
        "❌ Признаковое пространство имеет размерность, равную мощности словаря,\n",
        "т.е. тысячи и десятки тысяч. Эта размерность растёт вместе с ростом словаря.\n",
        "\n",
        "❌ Никак не учитывается семантическая близость слов, все векторы одинаково далеки друг от друга в признаковом пространстве."
      ]
    },
    {
      "cell_type": "markdown",
      "metadata": {
        "id": "KUvfIcb8leFJ"
      },
      "source": [
        "Сегодня мы познакомимся со сжатыми векторными представлениями слов (word embeddings).\n",
        "\n",
        "✅ Строятся в пространствах фиксированной размерности порядка десятков и сотен.\n",
        "\n",
        "✅ Для семантически близких слов близки как векторы (например, по косинусной мере)."
      ]
    },
    {
      "cell_type": "markdown",
      "source": [
        "<center><img src =\"https://i.ibb.co/NVy0YMs/w2v-example.png\" width=\"350\"></center>"
      ],
      "metadata": {
        "id": "lLaEwEfZJsyn"
      }
    },
    {
      "cell_type": "markdown",
      "metadata": {
        "id": "EIdMcwfHxKXu"
      },
      "source": [
        "**Word2vec** — группа алгоритмов для получения векторных представлений слов.\n",
        "\n",
        "[T. Mikolov, K. Chen, G. Corrado, J. Dean(2013) Efficient Estimation of Word Representations in Vector Space](https://arxiv.org/pdf/1301.3781.pdf)\n",
        "\n",
        "Две модели:\n",
        "- **Continuous Bag-of-Words (CBOW)** предсказывает текущее слово на основе его контекста (окружающих слов);\n",
        "\n",
        "- **Skip-gram** предсказывает контекст (окружающие слова) на основе текущего слова."
      ]
    },
    {
      "cell_type": "markdown",
      "source": [
        "<center><img src =\"https://i.ibb.co/WWfJ20B/cbow-skipgram.png\" width=\"750\"></center>"
      ],
      "metadata": {
        "id": "Ka6IpIEvJ-6P"
      }
    },
    {
      "cell_type": "markdown",
      "metadata": {
        "id": "msvQ9Cp1xpSl"
      },
      "source": [
        "Обе модели решают задачу многоклассовой классификации с помощью персептрона с одним скрытым слоем. Для каждого слова в словаре мы должны получить вероятность, что оно соответствует данному контексту или само является контекстом.\n",
        "\n",
        "При обучении модели происходит оптимизация весов. Именно они впоследствии используются как векторные представления слов."
      ]
    },
    {
      "cell_type": "markdown",
      "source": [
        "<center><img src =\"https://i.ibb.co/JsZrX2C/architecture.png\" width=\"350\"></center>"
      ],
      "metadata": {
        "id": "UMhD_ZP2KM_8"
      }
    },
    {
      "cell_type": "markdown",
      "metadata": {
        "id": "OrcTSWJ201Jg"
      },
      "source": [
        "## Skip-gram"
      ]
    },
    {
      "cell_type": "markdown",
      "metadata": {
        "id": "3Zn9GVY12d3w"
      },
      "source": [
        "Рассмотрим получение сжатых векторных представлений на примере модели Skip-gram, поскольку она чаще используется на практике и дает лучшие результаты."
      ]
    },
    {
      "cell_type": "markdown",
      "metadata": {
        "id": "5GpA0U4l0ywn"
      },
      "source": [
        "### Теоретическая часть"
      ]
    },
    {
      "cell_type": "markdown",
      "metadata": {
        "id": "bS_KOZkU25au"
      },
      "source": [
        "Пусть наш корпус состоит из одного предложения. Размер окна контекста — 1, смотрим на одно слово слева и одно слово справа.\n",
        "\n",
        "📌 Каким будет размер словаря?"
      ]
    },
    {
      "cell_type": "markdown",
      "source": [
        "<center><img src =\"https://i.ibb.co/w427P7D/corpus1.png\" width=\"700\"></center>"
      ],
      "metadata": {
        "id": "u6uJG2Rq02AH"
      }
    },
    {
      "cell_type": "markdown",
      "metadata": {
        "id": "kMAwgUq81uIt"
      },
      "source": [
        "1) На вход мы подаем one-hot вектор $x$ для слова \"passes\" размера $V$.\n",
        "\n",
        "2) Входной вектор умножается на матрицу со случайными значениями $W_{input}$ размера $V \\times N$, где $V$ — размер словаря, $N$ — размер будущих эмбеддингов, который устанавливается самостоятельно (для больших моделей 300). После завершения обучения строки этой матрицы будут соответствовать сжатым векторам слов.\n",
        "\n",
        "3) В результате перемножения получаем вектор $h$ размера $N$. Это внутреннее представление модели о слове \"passes\".\n",
        "\n",
        "4) Получившийся ранее вектор $h$ умножается на новую матрицу со случайными значениями $W_{output}^T$ размера $N \\times V$.\n",
        "\n",
        "5) В результате перемножения получаем некоторый вектор размера $V$. Применяем к нему функцию активации softmax, после чего получаем новый вектор  $y_{pred}$. Он содержит вероятности для каждого слова быть контекстом входного слова \"passes\".\n",
        "\n",
        "6) Подсчитаем ошибку для предсказанных значений. Для этого из вектора $y_{pred}$ вычтем вектор правильных ответов $y_{true}$.\n",
        "\n",
        "7) Затем мы складываем два получившихся вектора и получаем суммированную ошибку."
      ]
    },
    {
      "cell_type": "markdown",
      "source": [
        "<center><img src =\"https://i.ibb.co/rvVdjVZ/skipgram.png\" width=\"900\"></center>"
      ],
      "metadata": {
        "id": "bzO5RDQu048X"
      }
    },
    {
      "cell_type": "markdown",
      "metadata": {
        "id": "S0PIpIkW8uLI"
      },
      "source": [
        "#### Forward"
      ]
    },
    {
      "cell_type": "markdown",
      "metadata": {
        "id": "Qn58x6nJ7Cr2"
      },
      "source": [
        "Умножение вектора на веса скрытого слоя"
      ]
    },
    {
      "cell_type": "markdown",
      "source": [
        "<center><img src =\"https://i.ibb.co/L140YB7/sg-f-1.png\" width=\"650\"></center>"
      ],
      "metadata": {
        "id": "QByKojOx05uF"
      }
    },
    {
      "cell_type": "markdown",
      "metadata": {
        "id": "62X1z6Eq7XpQ"
      },
      "source": [
        "Умножение вектора (результата скрытого слоя) на веса выходного слоя"
      ]
    },
    {
      "cell_type": "markdown",
      "source": [
        "<center><img src =\"https://i.ibb.co/b7mkJz6/sg-f-2.png\" width=\"650\"></center>"
      ],
      "metadata": {
        "id": "7-8zw7xW06cu"
      }
    },
    {
      "cell_type": "markdown",
      "metadata": {
        "id": "vX1hRjj78ygW"
      },
      "source": [
        "#### Backward"
      ]
    },
    {
      "cell_type": "markdown",
      "metadata": {
        "id": "0gNloJD87mmF"
      },
      "source": [
        "Подсчет суммированной ошибки"
      ]
    },
    {
      "cell_type": "markdown",
      "source": [
        "<center><img src =\"https://i.ibb.co/JCvqJWN/sg-b-1.png\" width=\"750\"></center>"
      ],
      "metadata": {
        "id": "UzIPpAS-0-bg"
      }
    },
    {
      "cell_type": "markdown",
      "metadata": {
        "id": "NKYKl6Sf9G4m"
      },
      "source": [
        "Подсчет градиента для $W_{input}$"
      ]
    },
    {
      "cell_type": "markdown",
      "source": [
        "<center><img src =\"https://i.ibb.co/cT1fKCx/sg-b-2.png\" width=\"900\"></center>"
      ],
      "metadata": {
        "id": "rd87xMMd0_MQ"
      }
    },
    {
      "cell_type": "markdown",
      "metadata": {
        "id": "Mb2ssiC38KDi"
      },
      "source": [
        "Подсчет градиента для $W^T_{output}$"
      ]
    },
    {
      "cell_type": "markdown",
      "source": [
        "<center><img src =\"https://i.ibb.co/8jBD7TP/sg-b-3.png\" width=\"550\"></center>"
      ],
      "metadata": {
        "id": "Nf0iIcd01AEF"
      }
    },
    {
      "cell_type": "markdown",
      "metadata": {
        "id": "hIZIadiu9R2I"
      },
      "source": [
        "Обновление весов (градиентный спуск)"
      ]
    },
    {
      "cell_type": "markdown",
      "source": [
        "<center><img src =\"https://i.ibb.co/X4bMqZf/sg-b-4.png\" width=\"900\"></center>"
      ],
      "metadata": {
        "id": "Z0vd5jri1At_"
      }
    },
    {
      "cell_type": "markdown",
      "metadata": {
        "id": "zTAHKDMH-jAC"
      },
      "source": [
        "📌 В чем проблема такого подхода?"
      ]
    },
    {
      "cell_type": "markdown",
      "metadata": {
        "id": "YW7YAs-q_Cyn"
      },
      "source": [
        "### Практическая часть"
      ]
    },
    {
      "cell_type": "code",
      "execution_count": null,
      "metadata": {
        "id": "i-gSE8S3CHwS"
      },
      "outputs": [],
      "source": [
        "import torch\n",
        "import torch.nn as nn\n",
        "import torch.nn.functional as F\n",
        "from torch.autograd import Variable\n",
        "\n",
        "import pandas as pd\n",
        "import numpy as np\n",
        "from sklearn import decomposition\n",
        "\n",
        "import warnings\n",
        "warnings.filterwarnings(\"ignore\")\n",
        "\n",
        "import seaborn as sns\n",
        "from matplotlib import pyplot as plt\n",
        "plt.rcParams['figure.figsize'] = (10,8)\n",
        "\n",
        "import nltk\n",
        "nltk.download('stopwords')\n",
        "from nltk.corpus import stopwords\n",
        "from collections import Counter"
      ]
    },
    {
      "cell_type": "markdown",
      "metadata": {
        "id": "PbrX_b7O6Jwl"
      },
      "source": [
        "#### Подготовка данных"
      ]
    },
    {
      "cell_type": "markdown",
      "metadata": {
        "id": "XOaVW-bz91V6"
      },
      "source": [
        "Определим наш небольшой корпус."
      ]
    },
    {
      "cell_type": "code",
      "execution_count": null,
      "metadata": {
        "id": "HSpZP1M2CXa1"
      },
      "outputs": [],
      "source": [
        "corpus = [\n",
        "    'drink milk',\n",
        "    'drink cold water',\n",
        "    'drink cold cola',\n",
        "    'drink juice',\n",
        "    'drink cola',\n",
        "    'eat bacon',\n",
        "    'eat mango',\n",
        "    'eat cherry',\n",
        "    'eat apple',\n",
        "    'juice with sugar',\n",
        "    'cola with sugar',\n",
        "    'mango is fruit',\n",
        "    'apple is fruit',\n",
        "    'cherry is fruit',\n",
        "    'Berlin is Germany',\n",
        "    'Boston is USA',\n",
        "    'Mercedes from Germany',\n",
        "    'Mercedes is a car',\n",
        "    'Ford from USA',\n",
        "    'Ford is a car'\n",
        "]"
      ]
    },
    {
      "cell_type": "markdown",
      "metadata": {
        "id": "Z7MQ-kft94M9"
      },
      "source": [
        "Напишем функцию для предобработки одного предложения. Разделим предложение по словам (`.split()`) и удалим слоп-слова (`not in stop_words`)."
      ]
    },
    {
      "cell_type": "code",
      "execution_count": null,
      "metadata": {
        "id": "qB6UunsnCeox"
      },
      "outputs": [],
      "source": [
        "stop_words = set(stopwords.words('english'))\n",
        "\n",
        "def preprocess(text):\n",
        "    tokens = [token for token in text.split() if token not in stop_words]\n",
        "    return tokens"
      ]
    },
    {
      "cell_type": "markdown",
      "metadata": {
        "id": "VPvm1q4r-MJs"
      },
      "source": [
        "Применим предобработку ко всем предложениям корпуса."
      ]
    },
    {
      "cell_type": "code",
      "execution_count": null,
      "metadata": {
        "id": "FGk3IHN5Y8Cp"
      },
      "outputs": [],
      "source": [
        "corpus = [preprocess(sentence) for sentence in corpus]\n",
        "print(corpus)"
      ]
    },
    {
      "cell_type": "markdown",
      "metadata": {
        "id": "Cuy4au2C_iZM"
      },
      "source": [
        "Создадим словарь уникальных токенов `vocabulary` класса `Counter`.\n",
        "\n",
        "Добавление токенов осуществляется с помощью метода `update` (см. [пример](https://www.geeksforgeeks.org/python-counter-update-method/))."
      ]
    },
    {
      "cell_type": "code",
      "execution_count": null,
      "metadata": {
        "id": "mJl1udFCaIEd"
      },
      "outputs": [],
      "source": [
        "vocabulary = Counter()\n",
        "for sentence in corpus:\n",
        "  vocabulary.update(sentence)\n",
        "print(f'Словарь уникальных токенов:\\n{vocabulary}')\n",
        "print(f'Всего уникальных токенов:{len(vocabulary)}')"
      ]
    },
    {
      "cell_type": "markdown",
      "metadata": {
        "id": "17BojScw_tyt"
      },
      "source": [
        "Cоздадим словарь с индексами `word2id`: каждому слову (ключу) присвоим его порядковый номер (значение) — размер текущего словаря."
      ]
    },
    {
      "cell_type": "code",
      "execution_count": null,
      "metadata": {
        "id": "EOSR4pijcBj8"
      },
      "outputs": [],
      "source": [
        "word2id = {}\n",
        "for word in vocabulary:\n",
        "  word2id[word] = len(word2id)\n",
        "# word2id = {word: i for i, word in enumerate(vocabulary)}\n",
        "print(f'Словарь соответствия токенов и индексов:\\n{word2id}')"
      ]
    },
    {
      "cell_type": "markdown",
      "metadata": {
        "id": "LMAUQhih__r2"
      },
      "source": [
        "Для обучения модели skip-gram необходимо на вход подавать центральное слово и на выходе получать одно из слов контекста в заданном диапазоне (`window`). Создадим датафрейм, где будет две колонки: `Input` — центральное слово, `Output` — слово контекста."
      ]
    },
    {
      "cell_type": "code",
      "execution_count": null,
      "metadata": {
        "id": "q0z-lGjXhsy0"
      },
      "outputs": [],
      "source": [
        "def prepare_data(corpus, window):\n",
        "    columns = ['Input', 'Output']\n",
        "    result = pd.DataFrame(columns = columns)\n",
        "    for sentence in corpus:\n",
        "        for i, input_word in enumerate(sentence):\n",
        "            for n in range(1, window+1):\n",
        "                # смотрим контекст слева\n",
        "                if (i-n)>=0:\n",
        "                    output_word = sentence[i-n]\n",
        "                    result.loc[len(result)] = [input_word,output_word]\n",
        "                # смотрим контекст справа\n",
        "                if (i+n)<len(sentence):\n",
        "                    output_word = sentence[i+n]\n",
        "                    result.loc[len(result)] = [input_word,output_word]\n",
        "    return result"
      ]
    },
    {
      "cell_type": "code",
      "execution_count": null,
      "metadata": {
        "id": "Ft8PvTiXgkkB"
      },
      "outputs": [],
      "source": [
        "train_emb = prepare_data(corpus, window = 2)\n",
        "print(f\"Number of rows: {train_emb.shape[0]}\")\n",
        "train_emb.head(10)"
      ]
    },
    {
      "cell_type": "markdown",
      "metadata": {
        "id": "w5xM8_ymA_9m"
      },
      "source": [
        "В получившемся датафрейме заменим слова на их индексы из словаря `word2id`."
      ]
    },
    {
      "cell_type": "code",
      "execution_count": null,
      "metadata": {
        "id": "hMJVoaH8hPSE"
      },
      "outputs": [],
      "source": [
        "train_emb.Input = train_emb.Input.map(word2id)\n",
        "train_emb.Output = train_emb.Output.map(word2id)\n",
        "train_emb.head(10)"
      ]
    },
    {
      "cell_type": "markdown",
      "metadata": {
        "id": "AK_sF9funm4w"
      },
      "source": [
        "#### Обучение модели"
      ]
    },
    {
      "cell_type": "markdown",
      "metadata": {
        "id": "zHgeMzSUCXRz"
      },
      "source": [
        "Укажем размер эмбеддингов и размер словаря."
      ]
    },
    {
      "cell_type": "code",
      "execution_count": null,
      "metadata": {
        "id": "SJRK6FysjYAA"
      },
      "outputs": [],
      "source": [
        "embedding_dim = 5\n",
        "vocab_size = len(vocabulary)"
      ]
    },
    {
      "cell_type": "markdown",
      "metadata": {
        "id": "eUmaSL_ECbFD"
      },
      "source": [
        "Поскольку в нашем корпусе мало примеров, нам необходимо самостоятельно инициализировать веса небольшими значениями. Матрица `W_input` содержит веса скрытого слоя, матрица `W_output` — веса выходного слоя.\n",
        "\n",
        "`Variable` — это надстройка над `Tensor`, которая позволяет подсчитывать градиенты для обратного распространения ошибки."
      ]
    },
    {
      "cell_type": "code",
      "execution_count": null,
      "metadata": {
        "id": "DUH_e9trjZuy"
      },
      "outputs": [],
      "source": [
        "torch.manual_seed(0)\n",
        "initrange = 0.5 / embedding_dim\n",
        "W_input = Variable(torch.randn(vocab_size, embedding_dim).uniform_(-initrange, initrange).float(),\n",
        "                   requires_grad=True) # V x N\n",
        "W_output = Variable(torch.randn(embedding_dim, vocab_size).uniform_(-initrange, initrange).float(),\n",
        "                    requires_grad=True) # N x V\n",
        "print(f\"W_input:\\n{W_input}\")\n",
        "print(f\"Shape of W_input: {W_input.shape}\")\n",
        "print(f\"W_output:\\n{W_output}\")\n",
        "print(f\"Shape of W_output:{W_output.shape}\")"
      ]
    },
    {
      "cell_type": "markdown",
      "metadata": {
        "id": "R44uzPJCM3wP"
      },
      "source": [
        "- Определим количество эпох и скорость обучения\n",
        "\n",
        "- Зададим функцию потерь для многоклассовой классификации"
      ]
    },
    {
      "cell_type": "code",
      "execution_count": null,
      "metadata": {
        "id": "HiK6xRI_jbhB"
      },
      "outputs": [],
      "source": [
        "num_epochs = 1000\n",
        "learning_rate = 0.2\n",
        "lr_decay = 0.99\n",
        "criterion = nn.CrossEntropyLoss()\n",
        "loss_hist = []"
      ]
    },
    {
      "cell_type": "markdown",
      "metadata": {
        "id": "9OooErKgGrf-"
      },
      "source": [
        "Напишем цикл для обучения по количеству эпох.\n",
        "\n",
        "- Переведем данные `x` в one-hot тезнор `input_tensor`\n",
        "\n",
        "- Скрытый слой: умножим входной тензор на матрицу весов `W_input` (матричное умножение: `.mm()` или`@`)\n",
        "\n",
        "- Выходной слой: умножим результат скрытого слоя на матрицу весов `W_output`\n",
        "\n",
        "- Применим функцию потерь, которую определили ранее (`criterion`)\n",
        "\n",
        "- Запустим метод обратного распространения ошибки\n",
        "\n",
        "- Будем самостоятельно обновлять веса методом градиентного спуска, обновляя значения весов матриц `W_input` и `W_output`\n",
        "\n",
        "- Изначально мы задали довольно высокую скорость обучения. Будем уменьшать скорость обучения для каждой 10-й эпохи\n",
        "\n",
        "- Будем выводить значение функции потерь для каждой 50-й эпохи"
      ]
    },
    {
      "cell_type": "code",
      "execution_count": null,
      "metadata": {
        "id": "dCXelB6Qjd3P"
      },
      "outputs": [],
      "source": [
        "%%time\n",
        "for epoch in range(num_epochs):\n",
        "    for x,y in zip(torch.tensor([train_emb.Input.values]), torch.tensor([train_emb.Output.values])):\n",
        "\n",
        "        # one-hot кодирование входного вектора\n",
        "        input_tensor = F.one_hot(x).type(torch.Tensor)\n",
        "\n",
        "        # скрытый слой 1 x N: умножение входного вектора на матрицу W_input\n",
        "        h = input_tensor @ W_input\n",
        "        #h = input_tensor.mm(W_input)\n",
        "\n",
        "        # выходной слой 1 x V: умножение результата скрытого слоя на матрицу W_output\n",
        "        y_pred = h @ W_output\n",
        "        #y_pred = h.mm(W_output)\n",
        "\n",
        "        # функция потерь\n",
        "        loss = criterion(y_pred, y)\n",
        "\n",
        "        # обратное распространение ошибки\n",
        "        loss.backward()\n",
        "\n",
        "        # обновление весов с помощью метода градиентного спуска\n",
        "        with torch.no_grad():\n",
        "            W_input[x, :] -= learning_rate * W_input.grad.data[x, :]\n",
        "            W_output -= learning_rate * W_output.grad.data\n",
        "            W_input.grad.data.zero_()\n",
        "            W_output.grad.data.zero_()\n",
        "\n",
        "    # для каждой 10-й эпохи будем уменьшать скорость обучения\n",
        "    if epoch % 10 == 0:\n",
        "        learning_rate *= lr_decay\n",
        "\n",
        "    # запишем значение функции потерь\n",
        "    loss_hist.append(loss)\n",
        "\n",
        "    # вывод ошибки для каждой 50-й эпохи\n",
        "    if epoch % 50 == 0:\n",
        "        print(f'Epoch {epoch}, loss = {loss}')"
      ]
    },
    {
      "cell_type": "markdown",
      "metadata": {
        "id": "Zj0qT3T4OkJl"
      },
      "source": [
        "Получившиеся векторы имеют размерность 5. Чтобы отобразить их на графике, необходимо уменьшить размерность до 2. Сделаем это с помощью [сингулярного разложения](https://scikit-learn.org/stable/modules/generated/sklearn.decomposition.TruncatedSVD.html)."
      ]
    },
    {
      "cell_type": "code",
      "execution_count": null,
      "metadata": {
        "id": "BVZhwKrJjotJ"
      },
      "outputs": [],
      "source": [
        "W_input = W_input.detach().numpy()\n",
        "svd = decomposition.TruncatedSVD(n_components=2)\n",
        "W_input_dec = svd.fit_transform(W_input)\n",
        "x = W_input_dec[:,0]\n",
        "y = W_input_dec[:,1]\n",
        "plot = sns.scatterplot(x=x, y=y)\n",
        "\n",
        "for i in range(0, W_input_dec.shape[0]):\n",
        "     plot.text(x[i], y[i]+2e-2, list(vocabulary.keys())[i], horizontalalignment='center', size='small', color='black', weight='semibold');"
      ]
    },
    {
      "cell_type": "markdown",
      "metadata": {
        "id": "uwMveIUCO5UH"
      },
      "source": [
        "📌 Какие выводы можно сделать о получившихся векторных представлениях?"
      ]
    },
    {
      "cell_type": "code",
      "execution_count": null,
      "metadata": {
        "id": "Kb41oNZ5UdW8"
      },
      "outputs": [],
      "source": [
        "print(f\"Word2id mapping:\\n{word2id}\")"
      ]
    },
    {
      "cell_type": "markdown",
      "metadata": {
        "id": "SxW2QdduVbY-"
      },
      "source": [
        "Посчитаем косинусное расстояние между векторами слов 'milk' и 'water', 'milk' и 'apple'.\n",
        "\n",
        "Запишем векторы для этих слов по индексам в матрице `W_input`."
      ]
    },
    {
      "cell_type": "code",
      "execution_count": null,
      "metadata": {
        "id": "NBy1vnK4UXJH"
      },
      "outputs": [],
      "source": [
        "W_input = torch.Tensor(W_input)\n",
        "milk = W_input[word2id['milk'], :]\n",
        "water = W_input[word2id['water'], :]\n",
        "apple = W_input[word2id['apple'], :]\n",
        "milk_water = F.cosine_similarity(milk, water, dim=0)\n",
        "print(f\"Cosine similarity between words 'milk' and 'water': {round(milk_water.item(), 2)}\")\n",
        "milk_apple= F.cosine_similarity(milk, apple, dim=0)\n",
        "print(f\"Cosine similarity between words 'milk' and 'apple': {round(milk_apple.item(), 2)}\")"
      ]
    },
    {
      "cell_type": "markdown",
      "metadata": {
        "id": "vKB-rYbMnt6P"
      },
      "source": [
        "## Negative sampling"
      ]
    },
    {
      "cell_type": "markdown",
      "metadata": {
        "id": "Cm90vn7Hn4Qw"
      },
      "source": [
        "Поскольку классический word2vec решает задачу многоклассовой классификации, при обучении модели пересчитываются веса для всех слов в словаре. Чтобы сократить количество вычислений, было предложено использовать бинарную классификацию."
      ]
    },
    {
      "cell_type": "markdown",
      "metadata": {
        "id": "scc4XKADpMD5"
      },
      "source": [
        "Если раньше необходимо было предсказывать контекст для слова, то теперь для двух слов необходимо предсказать, являются они соседними или нет."
      ]
    },
    {
      "cell_type": "markdown",
      "source": [
        "<center><img src =\"https://i.ibb.co/NNB4XcQ/from.png\" width=\"400\"></center>\n",
        "<center><img src =\"https://i.ibb.co/2vGfSy9/to.png\" width=\"400\"></center>"
      ],
      "metadata": {
        "id": "viUbJ-5Ww7HN"
      }
    },
    {
      "cell_type": "markdown",
      "metadata": {
        "id": "AwBgGzyQpY9Z"
      },
      "source": [
        "📌 Какая проблема возникнет, если для обучения использовать только положительные примеры? Как ее решить?"
      ]
    },
    {
      "cell_type": "markdown",
      "metadata": {
        "id": "rxscK5ltpvdt"
      },
      "source": [
        "Теперь корпус выглядит по-другому: на вход мы подаем пары слов и метку 1 или 0 (являются ли они соседними).\n",
        "\n",
        "Чтобы получить примеры отрицательного класса,\n",
        "для каждого целевого слова в пару добавляются случайные слова, которые не являются соседними. На каждый правильный пример добавляется от 5 до 20 неправильных."
      ]
    },
    {
      "cell_type": "markdown",
      "source": [
        "<center><img src =\"https://i.ibb.co/7rjSfZp/input-output.png\" width=\"600\"></center>"
      ],
      "metadata": {
        "id": "qkRqTjfDxU9M"
      }
    },
    {
      "cell_type": "markdown",
      "metadata": {
        "id": "JiNjjHCstjWx"
      },
      "source": [
        "Пусть теперь наш корпус выглядит следующим образом:"
      ]
    },
    {
      "cell_type": "markdown",
      "source": [
        "<center><img src =\"https://i.ibb.co/WKsSD4Y/corpus2.png\" width=\"750\"></center>"
      ],
      "metadata": {
        "id": "s1VVGueux1fk"
      }
    },
    {
      "cell_type": "markdown",
      "metadata": {
        "id": "ZnPM-LTTtpa9"
      },
      "source": [
        "Установим гиперпараметры: размер окна — 2, количество отрицательных примеров — 3. Для первого слова \"Ned\" слово положительного класса — \"Stark\", слова отрицательного класса — \"pimples\", \"zebra\", \"idiot\"."
      ]
    },
    {
      "cell_type": "markdown",
      "metadata": {
        "id": "s_V8vnZ0uyZg"
      },
      "source": [
        "### Forward"
      ]
    },
    {
      "cell_type": "markdown",
      "metadata": {
        "id": "L8U-JUGZvGSC"
      },
      "source": [
        "Умножение вектора на веса скрытого слоя"
      ]
    },
    {
      "cell_type": "markdown",
      "source": [
        "<center><img src =\"https://i.ibb.co/KWjbsJh/ns-f-1.png\" width=\"600\"></center>"
      ],
      "metadata": {
        "id": "1ZDBjRZYyDJS"
      }
    },
    {
      "cell_type": "markdown",
      "metadata": {
        "id": "pZP8RS2LvJVB"
      },
      "source": [
        "Умножение вектора (результата скрытого слоя) на веса выходного слоя. Применяем функцию активации (сигмоиду)."
      ]
    },
    {
      "cell_type": "markdown",
      "source": [
        "<center><img src =\"https://i.ibb.co/VwSdzCh/ns-f-2.png\" width=\"700\"></center>"
      ],
      "metadata": {
        "id": "vXJBdlBOyFGJ"
      }
    },
    {
      "cell_type": "markdown",
      "metadata": {
        "id": "u0XeoRrtusuw"
      },
      "source": [
        "### Backward"
      ]
    },
    {
      "cell_type": "markdown",
      "metadata": {
        "id": "L090HGMHvjqY"
      },
      "source": [
        "Вычитаем значения меток классов из получившихся вероятностей."
      ]
    },
    {
      "cell_type": "markdown",
      "source": [
        "<center><img src =\"https://i.ibb.co/ysrnQ7n/ns-b-1.png\" width=\"500\"></center>"
      ],
      "metadata": {
        "id": "aNBmYEIQyF5d"
      }
    },
    {
      "cell_type": "markdown",
      "metadata": {
        "id": "JwU2rKaTwC1Z"
      },
      "source": [
        "Подсчет градиента для $W_{input}$"
      ]
    },
    {
      "cell_type": "markdown",
      "source": [
        "<center><img src =\"https://i.ibb.co/gRZ4r4d/ns-b-2.png\" width=\"750\"></center>"
      ],
      "metadata": {
        "id": "cAk_PMVDyGlt"
      }
    },
    {
      "cell_type": "markdown",
      "metadata": {
        "id": "Xg30qgcSwvW5"
      },
      "source": [
        "Подсчет градиента для $W^T_{output}$"
      ]
    },
    {
      "cell_type": "markdown",
      "source": [
        "<center><img src =\"https://i.ibb.co/bsBPWy3/ns-b-3.png\" width=\"650\"></center>"
      ],
      "metadata": {
        "id": "Al86SLqPyHRR"
      }
    },
    {
      "cell_type": "markdown",
      "metadata": {
        "id": "lAscu7dIxENa"
      },
      "source": [
        "Обновление весов"
      ]
    },
    {
      "cell_type": "markdown",
      "source": [
        "<center><img src =\"https://i.ibb.co/z4KR0qZ/ns-b-4.png\" width=\"950\"></center>"
      ],
      "metadata": {
        "id": "2-gQjiCwyIAR"
      }
    },
    {
      "cell_type": "markdown",
      "metadata": {
        "id": "1PtSOYzH0qPp"
      },
      "source": [
        "## fastText"
      ]
    },
    {
      "cell_type": "markdown",
      "metadata": {
        "id": "PKjxlRnL1gCu"
      },
      "source": [
        "📌 Какие недостатки есть у word2vec?"
      ]
    },
    {
      "cell_type": "markdown",
      "metadata": {
        "id": "STTocnM81lJi"
      },
      "source": [
        "FastText позволяет получить векторные представления не для целых слов, а для n-грамм.\n",
        "\n",
        "- Содержат морфологическую информацию\n",
        "- Решение для слов, которых нет в словаре\n",
        "\n",
        "[P. Bojanowski, E. Grave, A. Joulin ,T. Mikolov (2017). Enriching Word Vectors with Subword Information](https://arxiv.org/pdf/1607.04606v2.pdf)"
      ]
    },
    {
      "cell_type": "markdown",
      "source": [
        "<center><img src =\"https://i.ibb.co/D4HZ4dR/ngrams.png\" width=\"350\"></center>"
      ],
      "metadata": {
        "id": "vwRQpeTpz5yA"
      }
    },
    {
      "cell_type": "markdown",
      "metadata": {
        "id": "POf_ogon2Uzg"
      },
      "source": [
        "Размер n-грамм — гипермараметр. Все n-граммы ранжируются и берутся только самые частотные (первые несколько миллионов)."
      ]
    },
    {
      "cell_type": "markdown",
      "source": [
        "<center><img src =\"https://i.ibb.co/8Dvyp8r/fasttext.png\" width=\"600\"></center>"
      ],
      "metadata": {
        "id": "JVPf8JYa0cEH"
      }
    },
    {
      "cell_type": "markdown",
      "source": [
        "## Библиотека gensim"
      ],
      "metadata": {
        "id": "rM3fwd2Mx7F5"
      }
    },
    {
      "cell_type": "markdown",
      "source": [
        "Для своих индивидуальных нужд и экспериментов бывает полезно самому натренировать модель на нужных данных и с нужными параметрами. Но для каких-то общих целей модели уже есть.\n",
        "\n",
        "Использовать предобученную модель эмбеддингов или обучить свою можно с помощью библиотеки [gensim](https://radimrehurek.com/gensim/models/word2vec.html)."
      ],
      "metadata": {
        "id": "5vpdS3aKXFN9"
      }
    },
    {
      "cell_type": "code",
      "source": [
        "!pip install gensim -q"
      ],
      "metadata": {
        "id": "iM1UWiQvyZDM"
      },
      "execution_count": null,
      "outputs": []
    },
    {
      "cell_type": "code",
      "source": [
        "import gensim"
      ],
      "metadata": {
        "id": "Ijxuby2byVl3"
      },
      "execution_count": null,
      "outputs": []
    },
    {
      "cell_type": "markdown",
      "source": [
        "Загрузим предобученную модель от Google. Модель включает в себя векторы для 3 миллионов слов и обучалась на 100 миллиардах слов из набора данных Google News. Длина вектора равна 300."
      ],
      "metadata": {
        "id": "m-S4g8fp0Yal"
      }
    },
    {
      "cell_type": "code",
      "source": [
        "!wget -q https://edunet.kea.su/repo/EduNet_NLP-web_dependencies/datasets/GoogleNews-vectors-negative300.bin.gz"
      ],
      "metadata": {
        "id": "jw2O4oxn-eCI"
      },
      "execution_count": null,
      "outputs": []
    },
    {
      "cell_type": "markdown",
      "source": [
        "Для загрузки предобученных векторных представлений используется класс [KeyedVectors](https://radimrehurek.com/gensim/models/keyedvectors.html)."
      ],
      "metadata": {
        "id": "tFZr0EiN-FHx"
      }
    },
    {
      "cell_type": "code",
      "source": [
        "from gensim.models import KeyedVectors\n",
        "google_news_model = KeyedVectors.load_word2vec_format(f'GoogleNews-vectors-negative300.bin.gz', binary=True)"
      ],
      "metadata": {
        "id": "22j-fitsypiR"
      },
      "execution_count": null,
      "outputs": []
    },
    {
      "cell_type": "markdown",
      "source": [
        "Протестируем загруженные векторные представления."
      ],
      "metadata": {
        "id": "PM6YrMe5-Sn8"
      }
    },
    {
      "cell_type": "markdown",
      "source": [
        "### Подсчет косинусной меры близости"
      ],
      "metadata": {
        "id": "f40wP3_jBCb6"
      }
    },
    {
      "cell_type": "markdown",
      "source": [
        "Для оценки семантической схожести векторов используется мера под названием «косинусная близость». Фактически это косинус угла между векторами — скалярное произведение этих векторов, разделенное на произведение их длин.\n",
        "\n",
        "Чем больше значение косинусной меры, тем ближе друг к другу векторы."
      ],
      "metadata": {
        "id": "olA3RALiSVsF"
      }
    },
    {
      "cell_type": "markdown",
      "source": [
        "<center><img src =\"https://i.ibb.co/4gkSDNx/cosine-similarity.png\" width=\"550\"></center>"
      ],
      "metadata": {
        "id": "ofA0WNzFEf9b"
      }
    },
    {
      "cell_type": "markdown",
      "source": [
        "В библиотеке gensim есть встроенная функция [similarity](https://tedboy.github.io/nlps/generated/generated/gensim.models.Word2Vec.similarity.html)."
      ],
      "metadata": {
        "id": "SHocjth4QHQ7"
      }
    },
    {
      "cell_type": "code",
      "source": [
        "print(f\"Gensim cosine similarity between 'coffee' and 'tea': \\\n",
        "{round(google_news_model.similarity('coffee','tea').item(), 2)}\")"
      ],
      "metadata": {
        "id": "AeLNXfmZy6T0"
      },
      "execution_count": null,
      "outputs": []
    },
    {
      "cell_type": "code",
      "source": [
        "print(f\"Size of vector 'coffee': {google_news_model['coffee'].shape}\")\n",
        "print(f\"Size of vector 'tea': {google_news_model['tea'].shape}\")"
      ],
      "metadata": {
        "id": "SqEPzHR4K0Jr"
      },
      "execution_count": null,
      "outputs": []
    },
    {
      "cell_type": "markdown",
      "source": [
        "Можем написать собственную функцию для подсчета косинусной близости и сравнить результат с встроенной функцией."
      ],
      "metadata": {
        "id": "xd5K_gH4TycO"
      }
    },
    {
      "cell_type": "code",
      "source": [
        "import numpy as np\n",
        "from numpy.linalg import norm\n",
        "\n",
        "def cos_similarity(model, word1, word2):\n",
        "  a = model[word1]\n",
        "  b = model[word2]\n",
        "  cos_sim = np.dot(a, b)/(norm(a)*norm(b))\n",
        "  return cos_sim"
      ],
      "metadata": {
        "id": "WJWIqutpKE4V"
      },
      "execution_count": null,
      "outputs": []
    },
    {
      "cell_type": "code",
      "source": [
        "print(f\"Custom cosine similarity between 'coffee' and 'tea': \\\n",
        "{round(cos_similarity(google_news_model, 'coffee','tea').item(), 2)}\")"
      ],
      "metadata": {
        "id": "g4oXvVMtLy7s"
      },
      "execution_count": null,
      "outputs": []
    },
    {
      "cell_type": "markdown",
      "source": [
        "Посчитаем косинусную меру для слов \"мяч\" и \"крокодил\" двумя способами"
      ],
      "metadata": {
        "id": "Qx8KCISpLaRz"
      }
    },
    {
      "cell_type": "code",
      "source": [
        "print(f\"Gensim cosine similarity between 'ball' and 'crocodile': \\\n",
        "{round(google_news_model.similarity('ball','crocodile').item(), 2)}\")"
      ],
      "metadata": {
        "id": "BEhL8dKFBO-K"
      },
      "execution_count": null,
      "outputs": []
    },
    {
      "cell_type": "code",
      "source": [
        "print(f\"Custom cosine similarity between 'ball' and 'crocodile': \\\n",
        "{round(cos_similarity(google_news_model, 'ball','crocodile').item(), 2)}\")"
      ],
      "metadata": {
        "id": "xCa0H8F9JXrk"
      },
      "execution_count": null,
      "outputs": []
    },
    {
      "cell_type": "markdown",
      "source": [
        "### Семантически близкие слова"
      ],
      "metadata": {
        "id": "t0jQCb5Q-lz5"
      }
    },
    {
      "cell_type": "markdown",
      "source": [
        "С помощью word2vec можно найти *n* самых похожих слов для некоторого целевого слова. Для этого нужно вычислить косинусную близость между вектором заданного слова и векторами каждого слова в модели.\n",
        "\n",
        "Воспользуемся функцией [most_similar](https://tedboy.github.io/nlps/generated/generated/gensim.models.Word2Vec.most_similar.html) из библиотеки gensim."
      ],
      "metadata": {
        "id": "dRB8riDrVRjG"
      }
    },
    {
      "cell_type": "code",
      "source": [
        "print(f\"Top-5 most similar words to 'cat':\")\n",
        "for x in google_news_model.most_similar('cat', topn=5):\n",
        "    print(f\"{x[0]} {round(x[1], 2)}\")"
      ],
      "metadata": {
        "id": "HUDvVs1L_EaJ"
      },
      "execution_count": null,
      "outputs": []
    },
    {
      "cell_type": "markdown",
      "source": [
        "Найдем ближайшие понятия для прилагательных \"плохой\" и \"хороший\"."
      ],
      "metadata": {
        "id": "Bn7i271rByOK"
      }
    },
    {
      "cell_type": "code",
      "source": [
        "print(f\"Top-5 most similar words to 'bad':\")\n",
        "for x in google_news_model.most_similar('bad', topn=5):\n",
        "    print(f\"{x[0]} {round(x[1], 2)}\")"
      ],
      "metadata": {
        "id": "QyTrJzYECiWV"
      },
      "execution_count": null,
      "outputs": []
    },
    {
      "cell_type": "code",
      "source": [
        "print(f\"Top-5 most similar words to 'good':\")\n",
        "for x in google_news_model.most_similar('good', topn=5):\n",
        "    print(f\"{x[0]} {round(x[1], 2)}\")"
      ],
      "metadata": {
        "id": "gnXYy6BdCmcK"
      },
      "execution_count": null,
      "outputs": []
    },
    {
      "cell_type": "markdown",
      "source": [
        "### Семантические пропорции (аналогии)"
      ],
      "metadata": {
        "id": "juPB9_Q1_2oj"
      }
    },
    {
      "cell_type": "markdown",
      "source": [
        "Также можно осуществить векторную арифметику: складывать и вычитать вектора нескольких слов. Например, сложив два вектора и вычтя из них третий вектор, мы можем решить своеобразную пропорцию.\n",
        "\n",
        "Для реализации семантических аналогий также используется метод [most_similar](https://tedboy.github.io/nlps/generated/generated/gensim.models.Word2Vec.most_similar.html). Он выполняет сложение положительных векторов (`positive`) и вычитание отрицательных (`negative`). Затем из полученной позиции выводится список ближайших известных векторов."
      ],
      "metadata": {
        "id": "WwVI6fGPX-XU"
      }
    },
    {
      "cell_type": "markdown",
      "source": [
        "<center><img src =\"https://i.ibb.co/ysPWz5x/analogies.png\" width=\"900\"></center>"
      ],
      "metadata": {
        "id": "PzPuI6rtR_sh"
      }
    },
    {
      "cell_type": "markdown",
      "source": [
        "king - man + woman = ?"
      ],
      "metadata": {
        "id": "5bBGtQDyEKW7"
      }
    },
    {
      "cell_type": "code",
      "source": [
        "print(f\"king - man + woman = \\\n",
        "{google_news_model.most_similar(positive=['king','woman'], negative=['man'], topn=1)[0][0]}\")"
      ],
      "metadata": {
        "id": "BxuVVRh4SKSj"
      },
      "execution_count": null,
      "outputs": []
    },
    {
      "cell_type": "markdown",
      "source": [
        "Построим следующие аналогии:\n",
        "- для глагольных форм: swimming - walking + walked = ?\n",
        "- для стран и городов: Turkey - Russia + Moscow = ?"
      ],
      "metadata": {
        "id": "lSWzpeIND6rd"
      }
    },
    {
      "cell_type": "code",
      "source": [
        "print(f\"swimming - walking + walked = \\\n",
        "{google_news_model.most_similar(positive=['swimming','walked'], negative=['walking'], topn=1)[0][0]}\")"
      ],
      "metadata": {
        "id": "jT7AOrz0AL_6"
      },
      "execution_count": null,
      "outputs": []
    },
    {
      "cell_type": "code",
      "source": [
        "print(f\"Turkey - Russia + Moscow = \\\n",
        "{google_news_model.most_similar(positive=['Turkey','Moscow'], negative=['Russia'], topn=1)[0][0]}\")"
      ],
      "metadata": {
        "id": "qGefFD1sAuHr"
      },
      "execution_count": null,
      "outputs": []
    },
    {
      "cell_type": "markdown",
      "source": [
        "### Поиск лишнего слова по смыслу"
      ],
      "metadata": {
        "id": "GiwN8acLAD3r"
      }
    },
    {
      "cell_type": "markdown",
      "source": [
        "Наконец, мы можем найти лишнее по смыслу слово в группе слов. Лишним словом является то, вектор которого наиболее удален от других векторов слов.\n",
        "- вычисляется среднее значение всех слов-векторов (центр);\n",
        "- вычисляется косинусное расстояние от  центра до каждого слова;\n",
        "- возвращается единственное слово с наибольшим косинусным расстоянием от центра.\n",
        "\n",
        "Обратите внимание, что используется именно косинусное расстояние, а не косинусная близость.\n",
        "\n",
        "$distance (A, B) = 1 – similarity(A, B)$\n",
        "\n",
        "Чем больше расстояние между векторами, тем меньше семантическое сходство."
      ],
      "metadata": {
        "id": "kWCLouQicBrL"
      }
    },
    {
      "cell_type": "markdown",
      "source": [
        "<center><img src =\"https://i.postimg.cc/rwx8dXMW/doesnt-match.png\" width=\"550\"></center>"
      ],
      "metadata": {
        "id": "ecKquabdbInD"
      }
    },
    {
      "cell_type": "markdown",
      "source": [
        "Это можно осуществить с помощью функции [doesnt_match](https://tedboy.github.io/nlps/generated/generated/gensim.models.Word2Vec.doesnt_match.html)."
      ],
      "metadata": {
        "id": "AqgpN5v8aFsM"
      }
    },
    {
      "cell_type": "code",
      "source": [
        "words = ['friday', 'saturday', 'sunday', 'weekday', 'spoon']\n",
        "print(f\"The word '{google_news_model.doesnt_match(words)}' \\\n",
        "from the given list {words} doesn’t go with the others.\")"
      ],
      "metadata": {
        "id": "uOotkJugUcgQ"
      },
      "execution_count": null,
      "outputs": []
    },
    {
      "cell_type": "markdown",
      "source": [
        "Найдем лишнее по смыслу слово в следующих группах:\n",
        "- prince, king, fork, queen, castle\n",
        "- dinner, breakfast, cereal, lunch"
      ],
      "metadata": {
        "id": "W1TnaJjxc9xS"
      }
    },
    {
      "cell_type": "code",
      "source": [
        "words = ['prince', 'king', 'fork', 'queen', 'castle']\n",
        "print(f\"The word '{google_news_model.doesnt_match(words)}' \\\n",
        "from the given list {words} doesn’t go with the others.\")"
      ],
      "metadata": {
        "id": "z4o0-luRFidW"
      },
      "execution_count": null,
      "outputs": []
    },
    {
      "cell_type": "code",
      "source": [
        "words = ['dinner', 'breakfast', 'cereal', 'lunch']\n",
        "print(f\"The word '{google_news_model.doesnt_match(words)}' \\\n",
        "from the given list {words} doesn’t go with the others.\")"
      ],
      "metadata": {
        "id": "y5TQ5-jQalV7"
      },
      "execution_count": null,
      "outputs": []
    },
    {
      "cell_type": "markdown",
      "source": [
        "## Кластеризация"
      ],
      "metadata": {
        "id": "cAfgODphRuyV"
      }
    },
    {
      "cell_type": "markdown",
      "source": [
        "Кластеризация — это задача разбиения множества объектов на группы, называемые кластерами. Внутри каждой группы должны оказаться «похожие» объекты, а объекты разных группы должны быть как можно более отличны. Главное отличие кластеризации от классификации состоит в том, что перечень групп четко не задан и определяется в процессе работы алгоритма.\n",
        "\n",
        "Будем осуществлять кластеризацию для текстов новостных статей."
      ],
      "metadata": {
        "id": "VDtOif003Y6g"
      }
    },
    {
      "cell_type": "markdown",
      "source": [
        "<center><img src =\"https://i.postimg.cc/5098tmdc/text-clustreing.webp\" width=\"600\"></center>"
      ],
      "metadata": {
        "id": "qorCekmKfLJ5"
      }
    },
    {
      "cell_type": "markdown",
      "source": [
        "### Загрузка данных"
      ],
      "metadata": {
        "id": "atxt-7964SAY"
      }
    },
    {
      "cell_type": "code",
      "source": [
        "!wget https://raw.githubusercontent.com/Xeanst/NLP_course_FBB/main/data/articles_data.csv"
      ],
      "metadata": {
        "id": "oTKD47G1Rxyj"
      },
      "execution_count": null,
      "outputs": []
    },
    {
      "cell_type": "code",
      "source": [
        "import pandas as pd\n",
        "df_raw = pd.read_csv(\"articles_data.csv\")\n",
        "df_raw.head()"
      ],
      "metadata": {
        "id": "dbRirJaqTDG1"
      },
      "execution_count": null,
      "outputs": []
    },
    {
      "cell_type": "markdown",
      "source": [
        "Интересующие нас колонки: заголовок (title), описание (description) и содержание (content).\n",
        "\n",
        "Создадим новый датафрейм с одной колонкой \"текст\", куда добавим объединенное содержимое этих трех колонок."
      ],
      "metadata": {
        "id": "-cW0JMRfU-s7"
      }
    },
    {
      "cell_type": "code",
      "source": [
        "text_columns = [\"title\", \"description\", \"content\"]\n",
        "df = df_raw.loc[:,text_columns]\n",
        "\n",
        "for col in text_columns:\n",
        "    df[col] = df[col].astype(str)\n",
        "\n",
        "df[\"text\"] = df[text_columns].apply(lambda x: \" | \".join(x), axis=1)\n",
        "df.head()"
      ],
      "metadata": {
        "id": "u_lM5avMUEtF"
      },
      "execution_count": null,
      "outputs": []
    },
    {
      "cell_type": "markdown",
      "source": [
        "### Предобработка текста"
      ],
      "metadata": {
        "id": "vG2MrSIqVvO9"
      }
    },
    {
      "cell_type": "code",
      "source": [
        "import re\n",
        "import string\n",
        "import numpy as np\n",
        "import nltk\n",
        "nltk.download(\"punkt\")\n",
        "from nltk import word_tokenize\n",
        "nltk.download(\"stopwords\")\n",
        "from nltk.corpus import stopwords"
      ],
      "metadata": {
        "id": "hXJTjL28bgrL"
      },
      "execution_count": null,
      "outputs": []
    },
    {
      "cell_type": "code",
      "source": [
        "custom_stopwords = set(stopwords.words(\"english\") + [\"news\", \"new\", \"top\"])\n",
        "\n",
        "def clean_text(text, tokenizer, stopwords):\n",
        "\n",
        "    text = text.lower() # приводим к нижнему регистру\n",
        "    text = re.sub(r\"\\[(.*?)\\]\", \"\", text)  # удаляем слова в квадратных скобках как [+300 chars]\n",
        "    text = re.sub(r\"\\s+\", \" \", text)  # удаляем множественный пробел, табуляцию и перенос строки\n",
        "    text = re.sub(r\"\\w+…|…\", \"\", text)  # удаляем многоточие\n",
        "    text = re.sub(r\"(?<=\\w)-(?=\\w)\", \" \", text) # заменяем дефис на пробел\n",
        "    text = re.sub(f\"[{re.escape(string.punctuation)}]\", \"\", text)  # удаляем пунктуацию\n",
        "\n",
        "    tokens = tokenizer(text) # токенизируем\n",
        "    tokens = [t for t in tokens if not t in stopwords]  # удаляем стоп-слова\n",
        "    tokens = [\"\" if t.isdigit() else t for t in tokens]  # удаляем числа\n",
        "    tokens = [t for t in tokens if len(t) > 1]  # удаляем токены длины 1\n",
        "    return tokens"
      ],
      "metadata": {
        "id": "CRR5GP7vb_TU"
      },
      "execution_count": null,
      "outputs": []
    },
    {
      "cell_type": "code",
      "source": [
        "df[\"tokens\"] = df[\"text\"].map(lambda x: clean_text(x, word_tokenize, custom_stopwords))\n",
        "\n",
        "# удаляем пустые значения и сохраняем два столбца: тексты и токены\n",
        "df = df.loc[df.tokens.map(lambda x: len(x) > 0), [\"text\", \"tokens\"]]\n",
        "\n",
        "# удаляем дубликаты строк\n",
        "import numpy as np\n",
        "_, idx = np.unique(df[\"tokens\"], return_index=True)\n",
        "df = df.iloc[idx, :]\n",
        "\n",
        "docs = df[\"text\"].values\n",
        "tokenized_docs = df[\"tokens\"].values\n",
        "\n",
        "print(f\"Исходные данные: {df_raw.shape}\")\n",
        "print(f\"Данные после предобработки: {df.shape}\")\n",
        "df.head()"
      ],
      "metadata": {
        "id": "hl_TRLNjcCY7"
      },
      "execution_count": null,
      "outputs": []
    },
    {
      "cell_type": "markdown",
      "source": [
        "### Обучение word2vec на данных"
      ],
      "metadata": {
        "id": "UDWDz-OR4Z3T"
      }
    },
    {
      "cell_type": "markdown",
      "source": [
        "Инициализируем модель с помощью модуля [Word2Vec](https://radimrehurek.com/gensim/models/word2vec.html#gensim.models.word2vec.Word2Vec). Основные параметры:\n",
        "\n",
        "- sentences — обучающие данные,\n",
        "- vector_size — размер вектора (default 100),\n",
        "- window — размер окна наблюдения (default 5),\n",
        "- min_count — мин. частотность слова в корпусе (default 5),\n",
        "- sg — используемый алгоритм обучения (default 0 — CBOW, 1 — Skip-gram),\n",
        "- workers — количество ядер (default 3),\n",
        "- alpha — скорость обучения (default 0.025)."
      ],
      "metadata": {
        "id": "9xzsu4AoYTjv"
      }
    },
    {
      "cell_type": "code",
      "source": [
        "from gensim.models import Word2Vec\n",
        "articles_model = Word2Vec(sentences=tokenized_docs, workers=1, seed=42)\n",
        "len(articles_model.wv)"
      ],
      "metadata": {
        "id": "NzqkigKqcP60"
      },
      "execution_count": null,
      "outputs": []
    },
    {
      "cell_type": "code",
      "source": [
        "print(f\"Top-5 most similar words to 'president':\")\n",
        "for x in articles_model.wv.most_similar('president', topn=5):\n",
        "    print(f\"{x[0]} {round(x[1], 2)}\")"
      ],
      "metadata": {
        "id": "5OjheDFcnwB1"
      },
      "execution_count": null,
      "outputs": []
    },
    {
      "cell_type": "code",
      "source": [
        "print(f\"spain - germany + berlin = \")\n",
        "for x in articles_model.wv.most_similar(positive=['spain','berlin'], negative=['germany'], topn=6):\n",
        "    print(f\"{x[0]} ({round(x[1], 2)})\")"
      ],
      "metadata": {
        "id": "gp4ZDPOioC6d"
      },
      "execution_count": null,
      "outputs": []
    },
    {
      "cell_type": "markdown",
      "source": [
        "Кластеризация будет осуществляться для документов (новостных статей).\n",
        "\n",
        "Усредним векторы слов каждого документа, чтобы сгенерировать вектор документа.\n",
        "\n",
        "- Создаем numpy массив для векторов документов `features`, состоящий из нулей\n",
        "  - размер массива: количество токенизированных документов $\\times$ размер вектора в модели\n",
        "- Проходим по списку токенизированных документов `tokenized_docs`\n",
        "  \n",
        "  - Создаем numpy массив векторов слов `vectors`, состоящий из нулей `np.zeros`\n",
        "    - размер массива: количество токенов в документе $\\times$ размер вектора в модели\n",
        "  - Проходим по токенам документа `tokens`\n",
        "    - Если вектор для слова `token` присутствует в модели `model`, добавляем вектор слова в массив `vectors`\n",
        "\n",
        "  - Считаем среднее `np.mean` для массива `vectors` (с указанием оси), получаем усредненный вектор документа\n",
        "\n",
        "  - Добавляем полученный вектор в массив `features`"
      ],
      "metadata": {
        "id": "ylE0r3hAdQ5e"
      }
    },
    {
      "cell_type": "code",
      "source": [
        "def doc2vec(tokenized_docs, model):\n",
        "\n",
        "    features = np.zeros((len(tokenized_docs), model.wv.vector_size))\n",
        "    for i,tokens in enumerate(tokenized_docs):\n",
        "        vectors = np.zeros((len(tokens), model.wv.vector_size))\n",
        "        for j,token in enumerate(tokens):\n",
        "            if token in model.wv:\n",
        "                vectors[j] = model.wv[token]\n",
        "        avg_vec = np.mean(vectors, axis=0)\n",
        "        features[i] = avg_vec\n",
        "    return features"
      ],
      "metadata": {
        "id": "5mhy_NR2l2r0"
      },
      "execution_count": null,
      "outputs": []
    },
    {
      "cell_type": "code",
      "source": [
        "vectorized_docs = doc2vec(tokenized_docs, model=articles_model)\n",
        "vectorized_docs.shape"
      ],
      "metadata": {
        "id": "PcMwNLgpmfIe"
      },
      "execution_count": null,
      "outputs": []
    },
    {
      "cell_type": "markdown",
      "source": [
        "### Метод k-средних"
      ],
      "metadata": {
        "id": "ckTtNdg94uHf"
      }
    },
    {
      "cell_type": "markdown",
      "source": [
        "Метод k-средних используется для кластеризации данных на основе алгоритма разбиения векторного пространства на заранее определенное число кластеров $k$. Алгоритм представляет собой итерационную процедуру, в которой выполняются следующие шаги:\n",
        "\n",
        "1. Выбирается число кластеров $k$.\n",
        "2. Из исходного множества данных случайным образом выбираются $k$ наблюдений, которые будут служить начальными центрами кластеров.\n",
        "3. Для каждого наблюдения исходного множества определяется ближайший к нему центр кластера.\n",
        "4. Вычисляются центроиды — центры тяжести кластеров. Каждый центроид — это вектор, элементы которого представляют собой средние значения соответствующих признаков, вычисленные по всем записям кластера.\n",
        "5. Центр кластера смещается в его центроид, после чего центроид становится центром нового кластера.\n",
        "6. 3-й и 4-й шаги итеративно повторяются. На каждой итерации происходит изменение границ кластеров и смещение их центров. В результате минимизируется расстояние между элементами внутри кластеров и увеличиваются междукластерные расстояния.\n",
        "\n",
        "Остановка алгоритма производится тогда, когда границы кластеров и расположения центроидов не перестанут изменяться от итерации к итерации, т.е. на каждой итерации в каждом кластере будет оставаться один и тот же набор наблюдений."
      ],
      "metadata": {
        "id": "-1abKJ7vXxBG"
      }
    },
    {
      "cell_type": "markdown",
      "source": [
        "<center><img src =\"https://i.ibb.co/5FzWHX1/kmeans.png\" width=\"700\"></center>"
      ],
      "metadata": {
        "id": "FxpASuB4qHXk"
      }
    },
    {
      "cell_type": "markdown",
      "source": [
        "Задача оценки качества кластеризации является более сложной по сравнению с оценкой качества классификации. Нам неизвестны истинные метки объектов, поэтому нужны такие метрики качества, которые можно вычислить по неразмеченной выборке.\n",
        "\n",
        "Критерий силуэта (англ *Silhouette*) — это метрика, которая не предполагает знания истинных меток объектов, и позволяет оценить качество кластеризации, используя только саму неразмеченную выборку и результат кластеризации.\n",
        "\n",
        "- точки внутри кластера должны лежать очень близко друг к другу, то есть кластер должен быть *плотным*\n",
        "- сами кластера должны лежать как можно дальше друг от друга\n",
        "\n",
        "Метрика силуэта позволяет учитывать оба этих факта и показывает, насколько среднее расстояние до объектов своего кластера отличается от среднего расстояния до объектов других кластеров. Меняется в интервале от $-1$ до $1$ (чем выше, тем лучше)."
      ],
      "metadata": {
        "id": "KQelzJUGYj3W"
      }
    },
    {
      "cell_type": "markdown",
      "source": [
        "Выберем оптимальное количество кластеров с помощью критерия силуэта. Рассмотрим значения в диапазоне от 2 до 10."
      ],
      "metadata": {
        "id": "LSyH57wHaTaH"
      }
    },
    {
      "cell_type": "code",
      "source": [
        "from sklearn.cluster import KMeans\n",
        "from sklearn.metrics import silhouette_samples, silhouette_score"
      ],
      "metadata": {
        "id": "cRX1y7GjmCnZ"
      },
      "execution_count": null,
      "outputs": []
    },
    {
      "cell_type": "code",
      "source": [
        "metrics = -1\n",
        "for i in range(2,11):\n",
        "    kmeans = KMeans(n_clusters=i, n_init=\"auto\", random_state=42)\n",
        "    data = kmeans.fit(vectorized_docs)\n",
        "    silhouette_avg = silhouette_score(vectorized_docs, data.labels_)\n",
        "    print(f\"For n_clusters = {i} mean Silhouette score is: {silhouette_avg:.2f}\")\n",
        "    if silhouette_avg > metrics:\n",
        "      metrics = silhouette_avg\n",
        "      result_data = data\n",
        "      clusters = i"
      ],
      "metadata": {
        "id": "eIP0bbx6rPCa"
      },
      "execution_count": null,
      "outputs": []
    },
    {
      "cell_type": "markdown",
      "source": [
        "Наибольшее значение силуэта получаем при 3 кластерах.\n",
        "\n",
        "Рассмотрим значения метрики для каждого кластера отдельно: среднее значение, минимальное и максимальное."
      ],
      "metadata": {
        "id": "F9sP4pdoabdO"
      }
    },
    {
      "cell_type": "code",
      "source": [
        "sample_silhouette_values = silhouette_samples(vectorized_docs, data.labels_)\n",
        "silhouette_values = []\n",
        "for i in range(clusters):\n",
        "    cluster_silhouette_values = sample_silhouette_values[data.labels_ == i]\n",
        "    silhouette_values.append((i, cluster_silhouette_values.shape[0], cluster_silhouette_values.mean(), cluster_silhouette_values.min(), cluster_silhouette_values.max(),))\n",
        "silhouette_values = sorted(silhouette_values, key=lambda tup: tup[2], reverse=True)\n",
        "for s in silhouette_values:\n",
        "    print(f\"Cluster {s[0]}: size: {s[1]}, mean: {s[2]:.2f}, minimum: {s[3]:.2f}, maximum: {s[4]:.2f}\")"
      ],
      "metadata": {
        "id": "3lusvQIWyj--"
      },
      "execution_count": null,
      "outputs": []
    },
    {
      "cell_type": "markdown",
      "source": [
        "Рассмотрим наиболее репрезентативные слова для каждого кластера."
      ],
      "metadata": {
        "id": "ecuFf81ndtlO"
      }
    },
    {
      "cell_type": "code",
      "source": [
        "for i in range(clusters):\n",
        "    tokens_per_cluster = \"\"\n",
        "    most_representative = articles_model.wv.most_similar(positive=[kmeans.cluster_centers_[i]], topn=5)\n",
        "    for t in most_representative:\n",
        "        tokens_per_cluster += f\"{t[0]} \"\n",
        "    print(f\"Cluster {i}: {tokens_per_cluster}\")"
      ],
      "metadata": {
        "id": "P1n_dKTwcvV0"
      },
      "execution_count": null,
      "outputs": []
    },
    {
      "cell_type": "code",
      "source": [
        "for i in range(clusters):\n",
        "  print(f\"Cluster {i}:\")\n",
        "  most_representative_docs = np.argsort(\n",
        "      np.linalg.norm(vectorized_docs - kmeans.cluster_centers_[i], axis=1)\n",
        "  )\n",
        "  for d in most_representative_docs[:2]:\n",
        "    print(docs[d])\n",
        "    print(\"-------------\")\n",
        "  print()"
      ],
      "metadata": {
        "id": "TPc-1P4Ijuw7"
      },
      "execution_count": null,
      "outputs": []
    },
    {
      "cell_type": "markdown",
      "source": [
        "## Классификация"
      ],
      "metadata": {
        "id": "uhY4dB9fDmy1"
      }
    },
    {
      "cell_type": "markdown",
      "source": [
        "Реализуем анализа тональности с помощью многослойного персептрона. Вместо того, чтобы обучать слой `nn.Embeddings`, обучим эмбеддинги заранее с помощью word2vec."
      ],
      "metadata": {
        "id": "n_3qiHHNd_Tu"
      }
    },
    {
      "cell_type": "code",
      "source": [
        "import numpy as np\n",
        "import gensim\n",
        "from gensim.models import Word2Vec\n",
        "\n",
        "import pandas as pd\n",
        "from string import punctuation # набор знаков препинания\n",
        "from collections import Counter # словарь для подсчета объектов\n",
        "\n",
        "from sklearn.model_selection import train_test_split\n",
        "import torch\n",
        "import torch.nn as nn # слои\n",
        "from torch.utils.data import Dataset, DataLoader, RandomSampler, SequentialSampler # работа с данными\n",
        "import torch.nn.functional as F # паддинг\n",
        "from torch.nn.utils.rnn import pad_sequence # паддинг\n",
        "import torch.optim as optim # оптимизация"
      ],
      "metadata": {
        "id": "Tkq8UDGOuNB4"
      },
      "execution_count": null,
      "outputs": []
    },
    {
      "cell_type": "markdown",
      "source": [
        "### Загрузка данных"
      ],
      "metadata": {
        "id": "xrqyEkrDenod"
      }
    },
    {
      "cell_type": "markdown",
      "source": [
        "В качестве данных будем использовать русскоязычный корпус коротких текстов [RuTweetCorp](https://www.elibrary.ru/item.asp?id=20399632).\n",
        "\n",
        "Корпус разбит на два класса: твиты с положительной окраской (`positive.csv`) и твиты с отрицательной окраской (`negative.csv`).\n",
        "\n",
        "---\n",
        "\n",
        "Twitter — организация, деятельность которой запрещена на территории Российской Федерации."
      ],
      "metadata": {
        "id": "EE-ojcZZt2KQ"
      }
    },
    {
      "cell_type": "code",
      "source": [
        "!wget https://raw.githubusercontent.com/Xeanst/NN_in_compling/main/03_torch_mlp/positive.csv\n",
        "!wget https://raw.githubusercontent.com/Xeanst/NN_in_compling/main/03_torch_mlp/negative.csv"
      ],
      "metadata": {
        "id": "EpjuE-aeA9NU"
      },
      "execution_count": null,
      "outputs": []
    },
    {
      "cell_type": "markdown",
      "source": [
        "В корпусе указано много разных параметров, но нас будут интересовать только сами тексты (`text`) и тональность (`tone`). Объединим тексты с позитивной и негативной окраской (`all_data`), при этом взяв только нужные столбцы."
      ],
      "metadata": {
        "id": "2FarZsjEt8Mf"
      }
    },
    {
      "cell_type": "code",
      "source": [
        "import pandas as pd\n",
        "positive = pd.read_csv('positive.csv', encoding='utf-8', sep=';', header=None,  names=[0,1,2,'text','tone',5,6,7,8,9,10,11])\n",
        "negative = pd.read_csv('negative.csv', encoding='utf-8', sep=';', header=None, names=[0,1,2,'text','tone',5,6,7,8,9,10,11] )\n",
        "negative['tone'] = 0\n",
        "all_data = pd.concat([positive[['text','tone']], negative[['text','tone']]], ignore_index=True)\n",
        "print(len(all_data))\n",
        "all_data.head()"
      ],
      "metadata": {
        "id": "02jOx_OJA_t8"
      },
      "execution_count": null,
      "outputs": []
    },
    {
      "cell_type": "markdown",
      "source": [
        "Разделим данные на обучающую и валидационную выборку."
      ],
      "metadata": {
        "id": "NtyEIjEzjsaZ"
      }
    },
    {
      "cell_type": "code",
      "source": [
        "from sklearn.model_selection import train_test_split\n",
        "train_sentences, val_sentences = train_test_split(all_data, test_size=0.1, random_state=42)"
      ],
      "metadata": {
        "id": "yi8-0cOGBFLs"
      },
      "execution_count": null,
      "outputs": []
    },
    {
      "cell_type": "markdown",
      "source": [
        "### Предобработка данных"
      ],
      "metadata": {
        "id": "4bZHvba4e1mW"
      }
    },
    {
      "cell_type": "markdown",
      "source": [
        "Убираем пунктуацию, приводим к нижнему регистру и токенизируем"
      ],
      "metadata": {
        "id": "08S_p9IlfjhV"
      }
    },
    {
      "cell_type": "code",
      "source": [
        "punctuation"
      ],
      "metadata": {
        "id": "ZvSn25hXlxg6"
      },
      "execution_count": null,
      "outputs": []
    },
    {
      "cell_type": "code",
      "source": [
        "def text_preprocessing(text):\n",
        "    tokens = [token.strip(punctuation).lower() for token in text.split()]\n",
        "    return tokens"
      ],
      "metadata": {
        "id": "0rpXGbI9BJ-W"
      },
      "execution_count": null,
      "outputs": []
    },
    {
      "cell_type": "markdown",
      "source": [
        "Создаем словарь уникальных токенов и фильтрованный словарь токенов, встретившихся больше 10 раз."
      ],
      "metadata": {
        "id": "MbeEDxNrfn-1"
      }
    },
    {
      "cell_type": "code",
      "source": [
        "from collections import Counter\n",
        "vocabulary = Counter()\n",
        "for text in all_data['text']:\n",
        "    vocabulary.update(text_preprocessing(text))\n",
        "print('Всего уникальных токенов:', len(vocabulary))\n",
        "filtered_vocabulary = set()\n",
        "for word in vocabulary:\n",
        "  if vocabulary[word] > 10:\n",
        "    filtered_vocabulary.add(word)\n",
        "print('Уникальных токенов, вcтретившихся больше 10 раз:', len(filtered_vocabulary))"
      ],
      "metadata": {
        "id": "mjhGeTk5BMr1"
      },
      "execution_count": null,
      "outputs": []
    },
    {
      "cell_type": "markdown",
      "source": [
        "Создаем словарь для перевода слов в индексы."
      ],
      "metadata": {
        "id": "wAkI6JMdfwqE"
      }
    },
    {
      "cell_type": "code",
      "source": [
        "word2id = {'PAD':0}\n",
        "for word in filtered_vocabulary:\n",
        "    word2id[word] = len(word2id)\n",
        "print(word2id)"
      ],
      "metadata": {
        "id": "ia5JX4wfBQD9"
      },
      "execution_count": null,
      "outputs": []
    },
    {
      "cell_type": "markdown",
      "source": [
        "### Dataset, Sampler, DataLoader"
      ],
      "metadata": {
        "id": "WwhVsO81e6kU"
      }
    },
    {
      "cell_type": "markdown",
      "source": [
        "Создаем класс для датасета."
      ],
      "metadata": {
        "id": "i0cfH2cPf1kn"
      }
    },
    {
      "cell_type": "code",
      "source": [
        "import torch\n",
        "from torch.utils.data import Dataset, DataLoader, RandomSampler, SequentialSampler\n",
        "from torch.nn.utils.rnn import pad_sequence"
      ],
      "metadata": {
        "id": "LwX2nzVXfBYs"
      },
      "execution_count": null,
      "outputs": []
    },
    {
      "cell_type": "code",
      "source": [
        "DEVICE = torch.device('cuda') if torch.cuda.is_available() else torch.device('cpu')\n",
        "DEVICE"
      ],
      "metadata": {
        "id": "HV5ZFkpoBkxu"
      },
      "execution_count": null,
      "outputs": []
    },
    {
      "cell_type": "code",
      "source": [
        "class ToneDataset(Dataset):\n",
        "\n",
        "    def __init__(self, dataset, word2id, DEVICE):\n",
        "        self.dataset = dataset['text'].values\n",
        "        self.word2id = word2id\n",
        "        self.length = dataset.shape[0]\n",
        "        self.target = dataset['tone'].values\n",
        "        self.device = DEVICE\n",
        "\n",
        "    def __len__(self):\n",
        "        return self.length\n",
        "\n",
        "    def __getitem__(self, index):\n",
        "        tokens = self.text_preprocessing(self.dataset[index])\n",
        "        ids = torch.LongTensor([self.word2id[token] for token in tokens if token in self.word2id])\n",
        "        y = [self.target[index]]\n",
        "        return ids, y\n",
        "\n",
        "    def text_preprocessing(self, text):\n",
        "        tokens = [token.strip(punctuation).lower() for token in text.split()]\n",
        "        return tokens\n",
        "\n",
        "    def collate_fn(self, batch):\n",
        "        ids, y = list(zip(*batch))\n",
        "        padded_ids = pad_sequence(ids, batch_first=True).to(self.device)\n",
        "        y = torch.Tensor(y).to(self.device)\n",
        "        return padded_ids, y"
      ],
      "metadata": {
        "id": "Ya_Rs95_BUut"
      },
      "execution_count": null,
      "outputs": []
    },
    {
      "cell_type": "markdown",
      "source": [
        "Определяем Dataset, Sampler и DataLoader."
      ],
      "metadata": {
        "id": "jqmPHmslf5rs"
      }
    },
    {
      "cell_type": "code",
      "source": [
        "train_dataset = ToneDataset(train_sentences, word2id, DEVICE)\n",
        "val_dataset = ToneDataset(val_sentences, word2id, DEVICE)\n",
        "train_sampler = RandomSampler(train_dataset)\n",
        "val_sampler = SequentialSampler(val_dataset)\n",
        "train_iterator = DataLoader(train_dataset, collate_fn = train_dataset.collate_fn, sampler=train_sampler, batch_size=1024)\n",
        "val_iterator = DataLoader(val_dataset, collate_fn = val_dataset.collate_fn, sampler=val_sampler, batch_size=1024)"
      ],
      "metadata": {
        "id": "sqon3bZSBWld"
      },
      "execution_count": null,
      "outputs": []
    },
    {
      "cell_type": "markdown",
      "source": [
        "Посмотрим, как выглядит первая выдача `train_iterator` в цикле."
      ],
      "metadata": {
        "id": "3-uKnn66htBa"
      }
    },
    {
      "cell_type": "code",
      "metadata": {
        "id": "xauLXZwQNcCq"
      },
      "source": [
        "batch = next(iter(train_iterator))\n",
        "print(batch)\n",
        "print(len(batch))\n",
        "print(batch[0].shape) # [количество текстов в батче, количество слов в тексте]\n",
        "print(batch[1].shape) # [количество меток в батче, количество меток для текста]"
      ],
      "execution_count": null,
      "outputs": []
    },
    {
      "cell_type": "markdown",
      "source": [
        "### Векторизация"
      ],
      "metadata": {
        "id": "nsrsojT6fIE0"
      }
    },
    {
      "cell_type": "markdown",
      "source": [
        "Применим предобработку ко всем текстам."
      ],
      "metadata": {
        "id": "t6Sh8OgVgTNU"
      }
    },
    {
      "cell_type": "code",
      "source": [
        "texts = all_data.text.apply(text_preprocessing).tolist()"
      ],
      "metadata": {
        "id": "CJQvh6HEBxbM"
      },
      "execution_count": null,
      "outputs": []
    },
    {
      "cell_type": "markdown",
      "source": [
        "Обучим модель word2vec на наших данных и протестируем её."
      ],
      "metadata": {
        "id": "MEG81YLJgadM"
      }
    },
    {
      "cell_type": "code",
      "source": [
        "tone_model = Word2Vec(texts, min_count=1, workers=1, seed=42)\n",
        "len(tone_model.wv)"
      ],
      "metadata": {
        "id": "MFV4Ru8xCCp-"
      },
      "execution_count": null,
      "outputs": []
    },
    {
      "cell_type": "markdown",
      "source": [
        "Протестируем модель:\n",
        "- найдем ближайшие по смыслу слова для слова \"веселый\"\n",
        "- найдем лишнее по смыслу слово среди слов \"грусть\", \"печаль\", \"радость\", \"беда\""
      ],
      "metadata": {
        "id": "TgaUeBUxvpqc"
      }
    },
    {
      "cell_type": "code",
      "source": [
        "tone_model.wv.most_similar('веселый')"
      ],
      "metadata": {
        "id": "fFI-hZiKCITW"
      },
      "execution_count": null,
      "outputs": []
    },
    {
      "cell_type": "code",
      "source": [
        "tone_model.wv.doesnt_match([\"грусть\", \"печаль\", \"радость\", \"беда\"])"
      ],
      "metadata": {
        "id": "BiG8ihXtDawF"
      },
      "execution_count": null,
      "outputs": []
    },
    {
      "cell_type": "markdown",
      "source": [
        "Сопоставим полученные веса словам из словаря `word2id`.\n",
        "\n",
        "- Создадим numpy массив `weights` из нулей `np.zeros`\n",
        "  - размер массива: размер словаря `word2id` $\\times$ размер эмбеддингов.\n",
        "\n",
        "  - Проходим по ключам (словам) и значениям (индексам) в словаре\n",
        "    - Паддинг пропускаем (его индекс 0)\n",
        "\n",
        "    - Если слово есть в модели, записываем вектор слова `word` из модели `tone_model`.\n",
        "\n",
        "    - Cловам, которых нет в словаре, сопоставляем случайный вектор."
      ],
      "metadata": {
        "id": "5hKdL8F9iyiM"
      }
    },
    {
      "cell_type": "code",
      "source": [
        "weights = np.zeros((len(word2id), tone_model.wv.vector_size))\n",
        "count = 0\n",
        "for word, id in word2id.items():\n",
        "    if word == 'PAD':\n",
        "        continue\n",
        "    try:\n",
        "        weights[id] = tone_model.wv[word]\n",
        "    except KeyError:\n",
        "      count += 1\n",
        "      weights[id] = np.random.normal(0,0.1,100)"
      ],
      "metadata": {
        "id": "BHi8aDoVCLLd"
      },
      "execution_count": null,
      "outputs": []
    },
    {
      "cell_type": "markdown",
      "source": [
        "### Создание и обучение модели"
      ],
      "metadata": {
        "id": "nAC0dAaEfM-N"
      }
    },
    {
      "cell_type": "markdown",
      "source": [
        "Перейдем к построению модели (нейросети) — многослойного персептрона.\n",
        "\n",
        "Все модели в PyTorch представляют собой классы, которые наследуют класс `nn.Module`.\n",
        "\n",
        "В атрибутах класса `__init__` мы указываем слои и функции активации, которые нам понадобятся:\n",
        "- слой эмбеддингов `embedding`: размер словаря $\\times$ размер эмбеддинга;\n",
        "  - будем использовать предобученные эмбеддинги из модели word2vec (`from_pretrained`), поэтому замораживаем веса (`freeze=True`)\n",
        "- линейные слои принимают входную и выходную размерность данных:\n",
        "  - первый линейный слой `embedding2hidden`получает на вход усредненный эмбеддинг предложения и проецирует его в пространство размера 10;\n",
        "  - второй линейный слой `hidden2out` получает выход первого слоя длины 10 и отдает одно значение.\n",
        "- функции активации:\n",
        "  - функция на первом линейном слое `act1` — `ReLU()`;\n",
        "  - функция на втором линейном слое `act2` — `Sigmoid()`\n",
        "\n",
        "Метод `forward` берет на вход часть батча (закодированные предложения). В нем мы указываем, как связаны между собой слои и функции активации, как они применяются:\n",
        "- переводим последовательность индексов в последовательность эмбеддингов, пропуская через слой эмбеддингов (`embedded`);\n",
        "- считаем средний эмбеддинг предложения (`mean_emb`);\n",
        "- пропускаем эмбеддинг через первый линейный слой (`hidden`);\n",
        "- применяем функцию активации (`hidden`);\n",
        "- применяем дропаут (`hidden`);\n",
        "- возвращаем одно число для каждого текста (`out`);\n",
        "- пропускаем число через сигмоиду, делая из него вероятность класса (`proba`)."
      ],
      "metadata": {
        "id": "5klg20sfAeKb"
      }
    },
    {
      "cell_type": "code",
      "source": [
        "import torch.nn as nn\n",
        "import torch.optim as optim"
      ],
      "metadata": {
        "id": "enzUpjfyfW7V"
      },
      "execution_count": null,
      "outputs": []
    },
    {
      "cell_type": "code",
      "source": [
        "class MLP_w2v(nn.Module):\n",
        "\n",
        "    def __init__(self, vocab_size):\n",
        "\n",
        "        super().__init__()\n",
        "        # указываем в атрибутах класса, какие слои и активации нам понадобятся\n",
        "        self.embedding = nn.Embedding(vocab_size, 100)\n",
        "        self.embedding.from_pretrained(torch.tensor(weights), freeze=True)\n",
        "        self.emb2h = nn.Linear(100, 10)\n",
        "        self.act1 = nn.ReLU()\n",
        "        self.dropout = nn.Dropout(p=0.5)\n",
        "        self.h2out = nn.Linear(10, 1)\n",
        "        self.act2 = nn.Sigmoid()\n",
        "\n",
        "\n",
        "    def forward(self, text): # указываем, как связываются слои и активации между собой\n",
        "\n",
        "        embedded = self.embedding(text)   # переводим последовательность индексов в последовательность векторов\n",
        "        mean_emb = torch.mean(embedded, dim=1) # считаем средний вектор предложения\n",
        "        hidden = self.emb2h(mean_emb) # пропускаем вектор через полносвязный слой\n",
        "        hidden = self.dropout(hidden)\n",
        "        hidden = self.act1(hidden)\n",
        "        hidden = self.dropout(hidden)\n",
        "        out = self.h2out(hidden) # возвращаем одно число для каждого текста\n",
        "        proba = self.act2(out) # пропускаем число через сигмоиду, получая вероятность класса\n",
        "\n",
        "        return proba"
      ],
      "metadata": {
        "id": "zLYY7bsbBp6d"
      },
      "execution_count": null,
      "outputs": []
    },
    {
      "cell_type": "markdown",
      "metadata": {
        "id": "K8sZOK7Kvk7o"
      },
      "source": [
        "Нам нужно задать функции для обучения и валидации, каждый вызов функции — одна эпоха обучения.\n",
        "\n",
        "За одну эпоху обучения для каждого батча надо:\n",
        "- применить модель;\n",
        "- посчитать значение функции потерь;\n",
        "- посчитать градиенты;\n",
        "- обновить параметры модели."
      ]
    },
    {
      "cell_type": "code",
      "source": [
        "def train(model, iterator, optimizer, criterion):\n",
        "    print('Training...')\n",
        "    epoch_loss = 0 # задаем значение функции потерь для подсчета средней ошибки на всех батчах\n",
        "    model.train() # переводим модель в состояние обучения: явно указываем, что сейчас надо будет хранить градиенты у всех весов\n",
        "\n",
        "    for i, (texts, ys) in enumerate(iterator): # проходим по каждому батчу\n",
        "        optimizer.zero_grad() # обнуляем градиенты\n",
        "        preds_proba = model(texts) # применяем модель к данным и получаем вероятности классов\n",
        "        loss = criterion(preds_proba, ys) # считаем значение функции потерь\n",
        "        loss.backward() # считаем градиенты по всем параметрам модели\n",
        "        optimizer.step() # обновляем веса с помощью шага оптимизатора\n",
        "        epoch_loss += loss.item() # сохраняем значение функции потерь\n",
        "\n",
        "        if not (i + 1) % 20: # выводим значение функции потерь для каждого 20-го батча\n",
        "            print(f'Train loss: {epoch_loss/i}')\n",
        "\n",
        "    return epoch_loss / len(iterator) # возвращаем среднее значение функции потерь по обучающей выборке"
      ],
      "metadata": {
        "id": "6cl3YjZYCedP"
      },
      "execution_count": null,
      "outputs": []
    },
    {
      "cell_type": "markdown",
      "source": [
        "При валидации обновления весов не происходит."
      ],
      "metadata": {
        "id": "_tYfUuqhMXk-"
      }
    },
    {
      "cell_type": "code",
      "source": [
        "def validate(model, iterator, criterion):\n",
        "    print(\"\\nValidating...\")\n",
        "    epoch_loss = 0\n",
        "    model.eval() # переводим модель в состояние оценки\n",
        "    with torch.no_grad(): # не считаем градиенты\n",
        "        for i, (texts, ys) in enumerate(iterator):\n",
        "            predictions = model(texts) # делаем предсказания для текстов\n",
        "            loss = criterion(predictions, ys) # считаем значения функции потерь на батче\n",
        "            epoch_loss += loss.item()\n",
        "            if not (i + 1) % 5: # выводим значение функции потерь для каждого 5-го батча\n",
        "              print(f'Val loss: {epoch_loss/i}')\n",
        "\n",
        "    return epoch_loss / len(iterator) # возвращаем среднее значение функции потерь по валидационной выборке"
      ],
      "metadata": {
        "id": "sFg61cMJCgJF"
      },
      "execution_count": null,
      "outputs": []
    },
    {
      "cell_type": "markdown",
      "metadata": {
        "id": "VRoSupMNQsvF"
      },
      "source": [
        "Инициализируем модель, задаем оптимизатор и функцию потерь."
      ]
    },
    {
      "cell_type": "code",
      "source": [
        "model = MLP_w2v(len(word2id))\n",
        "optimizer = optim.Adam(model.parameters(), lr=0.001)\n",
        "criterion = nn.BCELoss() # Binary Cross Entropy\n",
        "\n",
        "# веса модели и значения функции потерь храним там же, где и все остальные тензоры\n",
        "model = model.to(DEVICE)\n",
        "criterion = criterion.to(DEVICE)"
      ],
      "metadata": {
        "id": "3Cc82MQvCR89"
      },
      "execution_count": null,
      "outputs": []
    },
    {
      "cell_type": "markdown",
      "source": [
        "Запускаем обучение!"
      ],
      "metadata": {
        "id": "cuei5Zx1URjX"
      }
    },
    {
      "cell_type": "code",
      "source": [
        "losses = []\n",
        "losses_eval = []\n",
        "\n",
        "for i in range(20):\n",
        "    print(f'\\nstarting Epoch {i}')\n",
        "    epoch_loss = train(model, train_iterator, optimizer, criterion)\n",
        "    losses.append(epoch_loss)\n",
        "\n",
        "    epoch_loss_on_test = validate(model, val_iterator, criterion)\n",
        "    losses_eval.append(epoch_loss_on_test)"
      ],
      "metadata": {
        "id": "x5p_JMw4CT71"
      },
      "execution_count": null,
      "outputs": []
    },
    {
      "cell_type": "code",
      "source": [
        "import matplotlib.pyplot as plt\n",
        "plt.plot(losses)\n",
        "plt.plot(losses_eval)\n",
        "plt.title('BCE loss value')\n",
        "plt.ylabel('BCE loss')\n",
        "plt.xlabel('epoch')\n",
        "plt.legend(['train', 'val'], loc='upper right')\n",
        "plt.show()"
      ],
      "metadata": {
        "id": "ygq2gH7dC4mG"
      },
      "execution_count": null,
      "outputs": []
    }
  ]
}