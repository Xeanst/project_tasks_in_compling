{
  "cells": [
    {
      "cell_type": "markdown",
      "source": [
        " <font size=\"6\">Механизм внимания</font>"
      ],
      "metadata": {
        "id": "1cew_VpaBQOL"
      }
    },
    {
      "cell_type": "markdown",
      "source": [
        "Ранее мы рассмотрели применение рекуррентных нейронных сетей для задачи языкового моделирования (один к одному).\n",
        "\n",
        "На ближайших занятиях мы поговорим о задаче преобразования одной последовательности в другую, длина которых может быть любой и не обязательно должна совпадать. Такая задача получила название \"многие ко многим\" или sequence-to-sequence (сокращенно seq2seq)."
      ],
      "metadata": {
        "id": "hAQ145MH3cjj"
      }
    },
    {
      "cell_type": "markdown",
      "source": [
        "<center><img src=\"https://i.ibb.co/Dfw88GG/seq2seq.png\" width=\"800\"></center>"
      ],
      "metadata": {
        "id": "0lnvB6Pb_IDa"
      }
    },
    {
      "cell_type": "markdown",
      "source": [
        "В простейшем случае модели seq2seq строятся на основе рекуррентных нейронных сетей. Важно, что именно на основе моделей seq2seq была предложена архитектура Трансформер, которая совершила прорыв в NLP."
      ],
      "metadata": {
        "id": "btJqOf1W_GXU"
      }
    },
    {
      "cell_type": "markdown",
      "source": [
        "# Sequence-to-sequence и машинный перевод"
      ],
      "metadata": {
        "id": "j9f26YpQKO3G"
      }
    },
    {
      "cell_type": "markdown",
      "source": [
        "Одна из распространенных задач, где используются модели seq2seq, — машинный перевод. Последовательности на одном языке сопоставляется последовательность на другом языке, передающая тот же смысл.\n",
        "\n",
        "Рассмотрим задачу перевода с английского на французский язык:\n",
        "- Исходное предложение: I am a student.\n",
        "- Целевое предложение: Je suis étudiant."
      ],
      "metadata": {
        "id": "kc6S_0_u-yvf"
      }
    },
    {
      "cell_type": "markdown",
      "metadata": {
        "id": "-WsdMw7k-73p"
      },
      "source": [
        "<center><img src =\"https://edunet.kea.su/repo/EduNet_NLP-content/L04/out/machine_translation.png\" width=\"600\"></center>"
      ]
    },
    {
      "cell_type": "markdown",
      "metadata": {
        "id": "E8rWMCHT-73p"
      },
      "source": [
        "📌 Что нужно знать и уметь для перевода текста?\n",
        "\n",
        "Для перевода текста можно разбить исходное предложение на несколько фрагментов, затем переводить его по фразам."
      ]
    },
    {
      "cell_type": "markdown",
      "metadata": {
        "id": "18oWSwmJ-73p"
      },
      "source": [
        "<center><img src =\"https://edunet.kea.su/repo/EduNet_NLP-content/L04/out/word_alignment.png\" width=\"800\"></center>"
      ]
    },
    {
      "cell_type": "markdown",
      "metadata": {
        "id": "W9PmU91E-73p"
      },
      "source": [
        "📌 Какие проблемы есть у такого подхода?\n",
        "\n",
        "Другая возможность — прочитать все исходное предложение целиком, проанализировать его значение, а затем произвести перевод.\n",
        "\n",
        "В этом случае модель состоит из двух блоков:\n",
        "- кодировщик: строит векторное представление для исходного предложения (кодирует);\n",
        "- декодировщик: генерирует целевое предложение на основе этого векторного представления (раскодирует)."
      ]
    },
    {
      "cell_type": "markdown",
      "source": [
        "<center><img src=\"https://i.ibb.co/rFPD2fZ/encoder-decoder.png\" width=\"800\"></center>"
      ],
      "metadata": {
        "id": "jjt-j0fT7iZN"
      }
    },
    {
      "cell_type": "markdown",
      "source": [
        "# Архитектура кодировщик-декодировщик на основе RNN"
      ],
      "metadata": {
        "id": "rqidwsO-_tUN"
      }
    },
    {
      "cell_type": "markdown",
      "source": [
        "Рассмотрим подробнее модель для машинного перевода, состоящую из блока <font color=\"#5b9b2c\">кодировщика</font> и <font color=\"#9b2c6a\">декодировщика</font>."
      ],
      "metadata": {
        "id": "xe_FvtIZSv0z"
      }
    },
    {
      "cell_type": "markdown",
      "source": [
        "<center><img src =\"https://edunet.kea.su/repo/EduNet_NLP-web_dependencies/L04/enc_dec-min.png\" width=\"500\"></center>"
      ],
      "metadata": {
        "id": "bqzo4xQ4TB9s"
      }
    },
    {
      "cell_type": "markdown",
      "source": [
        "## Кодировщик"
      ],
      "metadata": {
        "id": "fHqgSt2ZUOXy"
      }
    },
    {
      "cell_type": "markdown",
      "source": [
        "Архитектура <font color=\"#5b9b2c\"> кодировщика </font>:\n",
        "\n",
        "- на вход первой ячейки RNN поступает нулевое скрытое состояние;\n",
        "- его вектор обрабатывается внутри первой ячейки кодировщика;"
      ],
      "metadata": {
        "id": "B0pao9NFURdw"
      }
    },
    {
      "cell_type": "markdown",
      "metadata": {
        "id": "ppdWQcX0ZZSY"
      },
      "source": [
        "<center><img src=\"https://edunet.kea.su/repo/EduNet_NLP-web_dependencies/L04/seq2seq_1.png\" width=\"700\"></center>"
      ]
    },
    {
      "cell_type": "markdown",
      "metadata": {
        "id": "fykqVdfkZZSY"
      },
      "source": [
        "- на вход второй ячейки RNN поступает вектор слова \"Я\" и нулевое скрытое состояние;\n",
        "- вектор слова \"Я\" обрабатывается внутри второй ячейки кодировщика;"
      ]
    },
    {
      "cell_type": "markdown",
      "metadata": {
        "id": "8ij-JXapUqLP"
      },
      "source": [
        "<center><img src=\"https://edunet.kea.su/repo/EduNet_NLP-web_dependencies/L04/seq2seq_2.png\" width=\"700\"></center>"
      ]
    },
    {
      "cell_type": "markdown",
      "metadata": {
        "id": "yEH4fsmYZZSY"
      },
      "source": [
        "- на вход третьей ячейки поступает вектор слова \"видел\" и измененный вектор слова \"Я\" как скрытое состояние;\n",
        "- вектор слова \"видел\" обрабатывается внутри третьей ячейки кодировщика;"
      ]
    },
    {
      "cell_type": "markdown",
      "metadata": {
        "id": "3592vVdyU6F-"
      },
      "source": [
        "<center><img src=\"https://edunet.kea.su/repo/EduNet_NLP-web_dependencies/L04/seq2seq_3.png\" width=\"700\"></center>"
      ]
    },
    {
      "cell_type": "markdown",
      "metadata": {
        "id": "AMRzhC-DZZSY"
      },
      "source": [
        "- то же самое происходит со всеми словами исходного предложения;"
      ]
    },
    {
      "cell_type": "markdown",
      "metadata": {
        "id": "G7UjjgMNVdg-"
      },
      "source": [
        "<center><img src=\"https://edunet.kea.su/repo/EduNet_NLP-web_dependencies/L04/seq2seq_4.png\" width=\"700\"></center>"
      ]
    },
    {
      "cell_type": "markdown",
      "metadata": {
        "id": "pjCJhstBZZSY"
      },
      "source": [
        "- вектор спецтокена \\<eos\\>, обозначающего конец предложения, обрабатывается внутри последней ячейки кодировщика;\n",
        "- измененный вектор спецтокена \\<eos\\> (= вектор предложения) поступает на вход декодировщика как скрытое состояние."
      ]
    },
    {
      "cell_type": "markdown",
      "metadata": {
        "id": "8U5hW5saWjIe"
      },
      "source": [
        "<center><img src=\"https://edunet.kea.su/repo/EduNet_NLP-web_dependencies/L04/seq2seq_5.png\" width=\"700\"></center>"
      ]
    },
    {
      "cell_type": "markdown",
      "source": [
        "## Декодировщик"
      ],
      "metadata": {
        "id": "7qMFO3zJWx0c"
      }
    },
    {
      "cell_type": "markdown",
      "metadata": {
        "id": "gOE28JzZZZSY"
      },
      "source": [
        "Архитектура <font color=\"#9b2c6a\"> декодировщика</font>:\n",
        "- на вход первой ячейки декодировщика поступает нулевое скрытое состояние и вектор исходного предложения из кодировщика как скрытое состояние;\n",
        "- они обрабатываются внутри первой ячейки декодировщика;"
      ]
    },
    {
      "cell_type": "markdown",
      "metadata": {
        "id": "5Ocf3O9dXCKo"
      },
      "source": [
        "<center><img src=\"https://edunet.kea.su/repo/EduNet_NLP-web_dependencies/L04/seq2seq_6.png\" width=\"700\"></center>"
      ]
    },
    {
      "cell_type": "markdown",
      "metadata": {
        "id": "4LJ1urGzZZSZ"
      },
      "source": [
        "- измененный вектор нулевого скрытого состояния передается на линейный слой, применяется softmax;\n",
        "- на выходе получаем вектор, длина которого равна длине словаря, — это распределение вероятностей для следующего элемента при условии текущей последовательности;"
      ]
    },
    {
      "cell_type": "markdown",
      "metadata": {
        "id": "ISwK578nYFL9"
      },
      "source": [
        "<center><img src=\"https://edunet.kea.su/repo/EduNet_NLP-web_dependencies/L04/seq2seq_7.png\" width=\"700\"></center>"
      ]
    },
    {
      "cell_type": "markdown",
      "source": [
        "- сравниваем полученное распределение вероятностей с правильным ответом;"
      ],
      "metadata": {
        "id": "u22F4C6iYhOv"
      }
    },
    {
      "cell_type": "markdown",
      "metadata": {
        "id": "C7vmh1E6YpFd"
      },
      "source": [
        "<center><img src=\"https://edunet.kea.su/repo/EduNet_NLP-web_dependencies/L04/seq2seq_8.png\" width=\"700\"></center>"
      ]
    },
    {
      "cell_type": "markdown",
      "source": [
        "- подсчитываем значение функции потерь и обновляем веса так, чтобы вероятность правильного слова была выше, а вероятности остальных слов — ниже;"
      ],
      "metadata": {
        "id": "_XH-hwkQY9_A"
      }
    },
    {
      "cell_type": "markdown",
      "metadata": {
        "id": "EcjAdVQjY7Xe"
      },
      "source": [
        "<center><img src=\"https://edunet.kea.su/repo/EduNet_NLP-web_dependencies/L04/seq2seq_9.png\" width=\"700\"></center>"
      ]
    },
    {
      "cell_type": "markdown",
      "source": [
        "- записываем предсказание и переходим к следующему токену;\n",
        "- на вход второй ячейки поступает вектор слова \"I\" и измененный вектор нулевого скрытого состояния;\n",
        "- вектор слова \"I\" обрабатывается внутри второй ячейки декодировщика;"
      ],
      "metadata": {
        "id": "77YCwm4kZZVw"
      }
    },
    {
      "cell_type": "markdown",
      "metadata": {
        "id": "9IMLc4AWZY-H"
      },
      "source": [
        "<center><img src=\"https://edunet.kea.su/repo/EduNet_NLP-web_dependencies/L04/seq2seq_10.png\" width=\"700\"></center>"
      ]
    },
    {
      "cell_type": "markdown",
      "metadata": {
        "id": "wLVmaCvhZZSZ"
      },
      "source": [
        "- измененный вектор слова \"I\" передается на линейный слой, применяется softmax, на выходе получаем распределение вероятностей;"
      ]
    },
    {
      "cell_type": "markdown",
      "metadata": {
        "id": "QR6FUptVofFa"
      },
      "source": [
        "<center><img src=\"https://edunet.kea.su/repo/EduNet_NLP-web_dependencies/L04/seq2seq_11.png\" width=\"700\"></center>"
      ]
    },
    {
      "cell_type": "markdown",
      "source": [
        "- сравниваем полученное распределение с правильным ответом, подсчитываем значение функции потерь и обновляем веса;"
      ],
      "metadata": {
        "id": "mZl5Mif9o1MH"
      }
    },
    {
      "cell_type": "markdown",
      "metadata": {
        "id": "ZcaId_ATo-NN"
      },
      "source": [
        "<center><img src=\"https://edunet.kea.su/repo/EduNet_NLP-web_dependencies/L04/seq2seq_12.png\" width=\"700\"></center>"
      ]
    },
    {
      "cell_type": "markdown",
      "metadata": {
        "id": "evqM8TTdZZSZ"
      },
      "source": [
        "- то же самое происходит со всеми словами;\n",
        "- на выходе получаем 8 векторов, соответствующих распределению вероятностей для каждого слова."
      ]
    },
    {
      "cell_type": "markdown",
      "metadata": {
        "id": "qod64K6SpR17"
      },
      "source": [
        "<center><img src=\"https://edunet.kea.su/repo/EduNet_NLP-web_dependencies/L04/seq2seq_13.png\" width=\"700\"></center>"
      ]
    },
    {
      "cell_type": "markdown",
      "source": [
        "# Недостатки стандартной модели"
      ],
      "metadata": {
        "id": "QwM_7bctpeT8"
      }
    },
    {
      "cell_type": "markdown",
      "metadata": {
        "id": "ZykamwkoZZSZ"
      },
      "source": [
        "Итак,\n",
        "- <font color=\"#5b9b2c\">кодировщик</font> используется для получения конекстуализированного вектора исходного предложения;\n",
        "-  <font color=\"#9b2c6a\">декодировщик</font> используется для генерации целевого предложения;\n",
        "- вектор исходного предложения используется в качестве скрытого состояния на первом шаге генерации."
      ]
    },
    {
      "cell_type": "markdown",
      "metadata": {
        "id": "YKcH8KNHqEeb"
      },
      "source": [
        "<center><img src=\"https://edunet.kea.su/repo/EduNet_NLP-web_dependencies/L04/seq2seq_14.png\" width=\"700\"></center>"
      ]
    },
    {
      "cell_type": "markdown",
      "metadata": {
        "id": "hFTMb3XkZZSZ"
      },
      "source": [
        "**Проблема Sequence-to-Sequence**: использование только конечного скрытого состояния <font color=\"#5b9b2c\">кодировщика</font> для представления всей входной последовательности приводит к потере информации, особенно с начала последовательности;\n",
        "- по мере того, как <font color=\"#5b9b2c\">кодировщик</font> обрабатывает входную последовательность, ожидается, что в конечном скрытом состоянии будет собрана вся необходимая информация;\n",
        "- когда последовательность становится длиннее, этому единственному состоянию труднее сохранять всю необходимую информацию из предыдущих частей последовательности."
      ]
    },
    {
      "cell_type": "markdown",
      "metadata": {
        "id": "d6SStGGvqY3b"
      },
      "source": [
        "<center><img src=\"https://edunet.kea.su/repo/EduNet_NLP-web_dependencies/L04/bottleneck.png\" width=\"500\"></center>"
      ]
    },
    {
      "cell_type": "markdown",
      "metadata": {
        "id": "FLmiTqRxZZSa"
      },
      "source": [
        "# Механизм внимания"
      ]
    },
    {
      "cell_type": "markdown",
      "source": [
        "На разных этапах декодировщику может потребоваться сосредоточиться на разных исходных лексемах, которые более актуальны на данном этапе. Давайте посмотрим на весовые коэффициенты внимания: они показывают, какие исходные слова оказываются \"важнее\" для декодировщика при генерации целевой последовательности."
      ],
      "metadata": {
        "id": "OPiddvI5s1hA"
      }
    },
    {
      "cell_type": "markdown",
      "source": [
        "<center><img src=\"https://edunet.kea.su/repo/EduNet_NLP-web_dependencies/L04/attention_matrices.jpg\" width=\"800\"></center>"
      ],
      "metadata": {
        "id": "KBoSCe95tYjf"
      }
    },
    {
      "cell_type": "markdown",
      "metadata": {
        "id": "VkQc13SvZZSa"
      },
      "source": [
        "Чтобы модель могла фокусироваться на различных частях входной последовательности и сохранять больше информации на протяжении всего процесса кодирования и декодирования, был предложен механизм внимания (attention mechanism).\n",
        "\n",
        "[Bahdanau D., Cho K., Bengio Y. (2014). Neural Machine Translation by Jointly Learning to Align and Translate](https://arxiv.org/abs/1409.0473)\n",
        "\n",
        "На каждом этапе <font color=\"#9b2c6a\">декодирования</font> механизм внимания решает, какие части исходного предложения являются более важными. В этом случае <font color=\"#5b9b2c\">кодировщику</font> не нужно сжимать все исходное предложение в один вектор — он выдает векторные представления для всех токенов, все состояния RNN."
      ]
    },
    {
      "cell_type": "markdown",
      "metadata": {
        "id": "rB62bvWKw1q8"
      },
      "source": [
        "<center><img src=\"https://edunet.kea.su/repo/EduNet_NLP-web_dependencies/L04/attention_1.png\" width=\"700\"></center>"
      ]
    },
    {
      "cell_type": "markdown",
      "metadata": {
        "id": "5TzNy-P6ZZSa"
      },
      "source": [
        "Архитектура <font color=\"#5b9b2c\">кодировщика</font> не меняется, все изменения касаются архитектуры <font color=\"#9b2c6a\">декодировщика</font>.\n",
        "\n",
        "Рассмотрим изменения пошагово на примере обработки слова \"а\":\n",
        "\n",
        "- на вход ячейки декодировщика поступает вектор слова \"a\" и измененный вектор слова \"saw\" как скрытое состояние;\n",
        "- вектор слова \"a\" обрабатывается внутри ячейки декодировщика;\n",
        "- выход ячейки декодировщика, соответствующей слову \"a\", сравнивается с выходом первой ячейки кодировщика, соответствующей слову \"Я\", с помощью некоторой функции сходства;"
      ]
    },
    {
      "cell_type": "markdown",
      "metadata": {
        "id": "nGiTDkx10KZ_"
      },
      "source": [
        "<center><img src=\"https://edunet.kea.su/repo/EduNet_NLP-web_dependencies/L04/attention_2.png\" width=\"450\"></center>"
      ]
    },
    {
      "cell_type": "markdown",
      "metadata": {
        "id": "x9JxXdRc0WX2"
      },
      "source": [
        "- аналогичная мера сходства считается для вектора слова \"a\" и векторов каждого слова исходной последовательности;"
      ]
    },
    {
      "cell_type": "markdown",
      "metadata": {
        "id": "-_TmT88I1FD4"
      },
      "source": [
        "<center><img src=\"https://edunet.kea.su/repo/EduNet_NLP-web_dependencies/L04/attention_3.png\" width=\"450\"></center>"
      ]
    },
    {
      "cell_type": "markdown",
      "source": [
        "- чтобы интерпретировать полученные значения как веса, применяется функция softmax — теперь их сумма равна 1;\n",
        "- полученные значения называются весами внимания (attention weights): если векторы некоторого слова целевого и исходного предложения схожи, то вес внимания будет большим, и при переводе (генерации) данного слова декодировщик больше \"обращает внимания\" на него;"
      ],
      "metadata": {
        "id": "fPO8BFAH1IDh"
      }
    },
    {
      "cell_type": "markdown",
      "metadata": {
        "id": "VeG0gl2k1Xq5"
      },
      "source": [
        "<center><img src=\"https://edunet.kea.su/repo/EduNet_NLP-web_dependencies/L04/attention_4.png\" width=\"600\"></center>"
      ]
    },
    {
      "cell_type": "markdown",
      "source": [
        "- вектор каждого слова исходного предложения умножается на свой вес внимания, затем все векторы складываются, получаем контекстный вектор (attention output);"
      ],
      "metadata": {
        "id": "sXyD45B_1lDQ"
      }
    },
    {
      "cell_type": "markdown",
      "metadata": {
        "id": "eIbpDAlJ1uOe"
      },
      "source": [
        "<center><img src=\"https://edunet.kea.su/repo/EduNet_NLP-web_dependencies/L04/attention_5.png\" width=\"600\"></center>"
      ]
    },
    {
      "cell_type": "markdown",
      "source": [
        "- вектор слова \"a\" и контекстный вектор конкатенируются;\n",
        "- конкатенированный вектор передается на линейный слой, применяется softmax;\n",
        "- получаем вектор, длина которого равна длине словаря, — это распределение вероятностей для следующего элемента при условии спецсимвола начала предложения;"
      ],
      "metadata": {
        "id": "xZ5Q_zqc1zlD"
      }
    },
    {
      "cell_type": "markdown",
      "metadata": {
        "id": "8Wkdy0Ac23s5"
      },
      "source": [
        "<center><img src=\"https://edunet.kea.su/repo/EduNet_NLP-web_dependencies/L04/attention_6.png\" width=\"650\"></center>"
      ]
    },
    {
      "cell_type": "markdown",
      "metadata": {
        "id": "cNmt1wEQZZSb"
      },
      "source": [
        "- то же самое происходит со всеми словами;\n",
        "- на выходе получаем 8 векторов, соответствующих распределению вероятностей для каждого слова."
      ]
    },
    {
      "cell_type": "markdown",
      "metadata": {
        "id": "STww5L543Un5"
      },
      "source": [
        "<center><img src=\"https://edunet.kea.su/repo/EduNet_NLP-web_dependencies/L04/attention_7.png\" width=\"750\"></center>"
      ]
    },
    {
      "cell_type": "markdown",
      "metadata": {
        "id": "3DHgpMgaaDlW"
      },
      "source": [
        "# Пример реализации машинного перевода"
      ]
    },
    {
      "cell_type": "markdown",
      "source": [
        "Рассмотрим пример с использованием англо-русских параллельных данных."
      ],
      "metadata": {
        "id": "FbAxT1h4YzkA"
      }
    },
    {
      "cell_type": "markdown",
      "metadata": {
        "id": "pkkhUqFvUm87"
      },
      "source": [
        "## Подготовка данных"
      ]
    },
    {
      "cell_type": "markdown",
      "source": [
        "\n",
        "\n",
        "Загрузим данные. Будем использовать пары предложений проекта [Tatoeba](https://tatoeba.org/ru), доступные [по ссылке](https://www.manythings.org/anki/)."
      ],
      "metadata": {
        "id": "C-SfGoPcb7qX"
      }
    },
    {
      "cell_type": "code",
      "execution_count": null,
      "metadata": {
        "id": "LnBOBhxGUm88"
      },
      "outputs": [],
      "source": [
        "!wget https://raw.githubusercontent.com/Xeanst/NLP_course_FBB/main/data/eng_rus_vocab.txt"
      ]
    },
    {
      "cell_type": "code",
      "source": [
        "!head eng_rus_vocab.txt"
      ],
      "metadata": {
        "id": "JmmafFRp52LT"
      },
      "execution_count": null,
      "outputs": []
    },
    {
      "cell_type": "markdown",
      "metadata": {
        "id": "kJLbIPsMUm87"
      },
      "source": [
        "Нам понадобится уникальный индекс для каждого слова, чтобы позже использовать его в качестве входных данных и таргетов. Сделаем вспомогательный класс `Lang` из словарей **слово → индекс** (`word2index`) **и индекс → слово** (`index2word`), а также счетчик каждого слова `word2count`, который будет использоваться для замены редких слов позже."
      ]
    },
    {
      "cell_type": "code",
      "execution_count": null,
      "metadata": {
        "id": "2xQXNohnUm88"
      },
      "outputs": [],
      "source": [
        "SOS_token = 0\n",
        "EOS_token = 1\n",
        "\n",
        "class Lang:\n",
        "    def __init__(self, name):\n",
        "        self.name = name\n",
        "        self.word2index = {}\n",
        "        self.word2count = {}\n",
        "        self.index2word = {0: \"SOS\", 1: \"EOS\"}\n",
        "        self.n_words = 2  # Count SOS and EOS\n",
        "\n",
        "    def addSentence(self, sentence):\n",
        "        for word in sentence.split(\" \"):\n",
        "            self.addWord(word)\n",
        "\n",
        "    def addWord(self, word):\n",
        "        if word not in self.word2index:\n",
        "            self.word2index[word] = self.n_words\n",
        "            self.word2count[word] = 1\n",
        "            self.index2word[self.n_words] = word\n",
        "            self.n_words += 1\n",
        "        else:\n",
        "            self.word2count[word] += 1"
      ]
    },
    {
      "cell_type": "markdown",
      "metadata": {
        "id": "lk8HTk7bUm88"
      },
      "source": [
        "Все файлы представлены в формате Unicode, поэтому для упрощения мы преобразуем символы Unicode в ASCII, сделаем строчными и уберём большую часть знаков препинания."
      ]
    },
    {
      "cell_type": "code",
      "execution_count": null,
      "metadata": {
        "id": "d54ATsodUm88"
      },
      "outputs": [],
      "source": [
        "import re\n",
        "import unicodedata\n",
        "\n",
        "def unicodeToAscii(s):\n",
        "    return \"\".join(\n",
        "        c for c in unicodedata.normalize(\"NFD\", s) if unicodedata.category(c) != \"Mn\"\n",
        "    )\n",
        "\n",
        "def normalizeString(s):\n",
        "    s = unicodeToAscii(s.lower().strip())\n",
        "    s = re.sub(r\"([.!?])\", r\" \\1\", s)\n",
        "    s = re.sub(r\"[^a-zA-Z!?]+\", r\" \", s)\n",
        "    return s.strip()\n",
        "\n",
        "def normalizeStringRu(s):\n",
        "    s = unicodeToAscii(s.lower().strip())\n",
        "    s = re.sub(r\"([.!?])\", r\" \\1\", s)\n",
        "    s = re.sub(r\"[^a-яА-Я!?]+\", r\" \", s)\n",
        "    return s.strip()"
      ]
    },
    {
      "cell_type": "markdown",
      "metadata": {
        "id": "c01ew66HaDlW"
      },
      "source": [
        "Зафиксируем seeds для воспроизводимости результата:"
      ]
    },
    {
      "cell_type": "code",
      "execution_count": null,
      "metadata": {
        "id": "DO4j12F4aDlW"
      },
      "outputs": [],
      "source": [
        "import torch\n",
        "import random\n",
        "import numpy as np\n",
        "\n",
        "def set_random_seed(seed):\n",
        "    torch.manual_seed(seed)\n",
        "    torch.cuda.manual_seed(seed)\n",
        "    np.random.seed(seed)\n",
        "    random.seed(seed)\n",
        "\n",
        "set_random_seed(42)"
      ]
    },
    {
      "cell_type": "markdown",
      "source": [
        "Создадим функцию для чтения файла и разделения данных двух языков. Разделим файл на строки, а потом разделим строки на пары."
      ],
      "metadata": {
        "id": "qp7zgRyC09Ws"
      }
    },
    {
      "cell_type": "code",
      "execution_count": null,
      "metadata": {
        "id": "rRU9HVjlUm88"
      },
      "outputs": [],
      "source": [
        "from io import open\n",
        "\n",
        "def readLangs(lang1, lang2, reverse=False):\n",
        "    print(\"Reading lines...\")\n",
        "\n",
        "    # Read the file and split into lines\n",
        "    lines = (\n",
        "        open(\"%s_%s_vocab.txt\" % (lang1, lang2), encoding=\"utf-8\")\n",
        "        .read()\n",
        "        .strip()\n",
        "        .split(\"\\n\")\n",
        "    )\n",
        "\n",
        "    # Split every line into pairs and normalize\n",
        "    pairs = [l.split(\"\\t\")[:2] for l in lines]\n",
        "    eng = [normalizeString(s[0]) for s in pairs]\n",
        "    rus = [normalizeStringRu(s[1]) for s in pairs]\n",
        "    pairs = list(zip(rus, eng))\n",
        "\n",
        "    # Reverse pairs, make Lang instances\n",
        "    if reverse:\n",
        "        pairs = [list(reversed(p)) for p in pairs]\n",
        "        input_lang = Lang(lang2)\n",
        "        output_lang = Lang(lang1)\n",
        "    else:\n",
        "        input_lang = Lang(lang1)\n",
        "        output_lang = Lang(lang2)\n",
        "\n",
        "    return input_lang, output_lang, pairs"
      ]
    },
    {
      "cell_type": "markdown",
      "metadata": {
        "id": "LBhnZ9mDUm89"
      },
      "source": [
        "Для скорости сократим датасет и оставим только предложения не длинее 10 слов, которые начинаются с местоимения и вспомогательного глагола \"быть\"."
      ]
    },
    {
      "cell_type": "code",
      "execution_count": null,
      "metadata": {
        "id": "nYUL2obiUm89"
      },
      "outputs": [],
      "source": [
        "max_length = 10\n",
        "\n",
        "eng_prefixes = (\n",
        "    \"i am \",\n",
        "    \"i m \",\n",
        "    \"he is\",\n",
        "    \"he s \",\n",
        "    \"she is\",\n",
        "    \"she s \",\n",
        "    \"you are\",\n",
        "    \"you re \",\n",
        "    \"we are\",\n",
        "    \"we re \",\n",
        "    \"they are\",\n",
        "    \"they re \",\n",
        ")\n",
        "\n",
        "def filterPair(p):\n",
        "    return (\n",
        "        len(p[0].split(\" \")) < max_length\n",
        "        and len(p[1].split(\" \")) < max_length\n",
        "        and p[1].startswith(eng_prefixes)\n",
        "    )\n",
        "\n",
        "def filterPairs(pairs):\n",
        "    return [pair for pair in pairs if filterPair(pair)]"
      ]
    },
    {
      "cell_type": "markdown",
      "source": [
        "Объединим все функции в одну.\n",
        "\n",
        "- Читаем файл, делим на строки и на пары;\n",
        "- Нормализуем текст, фильтруем по длине и по содержанию;\n",
        "- Записываем пары предложений в список."
      ],
      "metadata": {
        "id": "lP5IzH-U4x16"
      }
    },
    {
      "cell_type": "code",
      "execution_count": null,
      "metadata": {
        "id": "VfeO3Jl1Um89"
      },
      "outputs": [],
      "source": [
        "import random\n",
        "\n",
        "def prepareData(lang1, lang2, reverse=False):\n",
        "    input_lang, output_lang, pairs = readLangs(lang1, lang2, reverse)\n",
        "    print(\"Read %s sentence pairs\" % len(pairs))\n",
        "    pairs = filterPairs(pairs)\n",
        "    print(\"Trimmed to %s sentence pairs\" % len(pairs))\n",
        "    print(\"Counting words...\")\n",
        "    for pair in pairs:\n",
        "        input_lang.addSentence(pair[0])\n",
        "        output_lang.addSentence(pair[1])\n",
        "    print(\"Counted words:\")\n",
        "    print(input_lang.name, input_lang.n_words)\n",
        "    print(output_lang.name, output_lang.n_words)\n",
        "    return input_lang, output_lang, pairs\n",
        "\n",
        "input_lang, output_lang, pairs = prepareData(\"eng\", \"rus\", False)\n",
        "print(random.choice(pairs))"
      ]
    },
    {
      "cell_type": "markdown",
      "metadata": {
        "id": "gnwwHSlwaDlX"
      },
      "source": [
        "Теперь в нашем распоряжении есть два словаря и набор пар строк.\n",
        "\n",
        "Для обучения для каждой пары нам понадобятся входной тензор (индексы слов во входном предложении) и целевой тензор (индексы слов в целевом предложении). При создании этих векторов мы добавим токен EOS к обеим последовательностям."
      ]
    },
    {
      "cell_type": "code",
      "execution_count": null,
      "metadata": {
        "id": "1dWO_27_Um8_"
      },
      "outputs": [],
      "source": [
        "import numpy as np\n",
        "from torch.utils.data import TensorDataset, DataLoader\n",
        "\n",
        "def indexesFromSentence(lang, sentence):\n",
        "    return [lang.word2index[word] for word in sentence.split(\" \")]\n",
        "\n",
        "def tensorFromSentence(lang, sentence):\n",
        "    indexes = indexesFromSentence(lang, sentence)\n",
        "    indexes.append(EOS_token)\n",
        "    return torch.tensor(indexes, dtype=torch.long).view(1, -1)\n",
        "\n",
        "def tensorsFromPair(pair):\n",
        "    input_tensor = tensorFromSentence(input_lang, pair[0])\n",
        "    target_tensor = tensorFromSentence(output_lang, pair[1])\n",
        "    return (input_tensor, target_tensor)\n",
        "\n",
        "def get_dataloaders(batch_size):\n",
        "    input_lang, output_lang, pairs = prepareData(\"eng\", \"rus\", False)\n",
        "\n",
        "    n = len(pairs)\n",
        "    input_ids = np.zeros((n, max_length), dtype=np.int32)\n",
        "    target_ids = np.zeros((n, max_length), dtype=np.int32)\n",
        "\n",
        "    for idx, (inp, tgt) in enumerate(pairs):\n",
        "        inp_ids = indexesFromSentence(input_lang, inp)\n",
        "        tgt_ids = indexesFromSentence(output_lang, tgt)\n",
        "        inp_ids.append(EOS_token)\n",
        "        tgt_ids.append(EOS_token)\n",
        "        input_ids[idx, : len(inp_ids)] = inp_ids\n",
        "        target_ids[idx, : len(tgt_ids)] = tgt_ids\n",
        "\n",
        "    # Prepare train/val/test split of sentance pairs\n",
        "    all_pairs_idx = np.random.permutation(len(input_ids))\n",
        "    train_len = int(0.8 * len(input_ids))\n",
        "    val_len = int(0.15 * len(input_ids))\n",
        "    train_pairs, val_pairs, test_pairs = np.split(\n",
        "        ary=all_pairs_idx, indices_or_sections=[train_len, train_len + val_len]\n",
        "    )\n",
        "\n",
        "    # Prepare datasets\n",
        "    datasets = {}\n",
        "    for split, pair_ids in zip(\n",
        "        [\"train\", \"val\", \"test\"], [train_pairs, val_pairs, test_pairs]\n",
        "    ):\n",
        "        datasets[split] = TensorDataset(\n",
        "            torch.LongTensor(input_ids[pair_ids, ...]),\n",
        "            torch.LongTensor(target_ids[pair_ids, ...]),\n",
        "        )\n",
        "    # Prepare dataloaders\n",
        "    train_dataloader = DataLoader(\n",
        "        datasets[\"train\"], batch_size=batch_size, shuffle=True\n",
        "    )\n",
        "\n",
        "    val_dataloader = DataLoader(datasets[\"val\"], batch_size=batch_size, shuffle=False)\n",
        "\n",
        "    test_dataloader = DataLoader(datasets[\"test\"], batch_size=batch_size, shuffle=False)\n",
        "    return (\n",
        "        input_lang,\n",
        "        output_lang,\n",
        "        train_dataloader,\n",
        "        val_dataloader,\n",
        "        test_dataloader,\n",
        "        test_pairs,\n",
        "    )"
      ]
    },
    {
      "cell_type": "markdown",
      "metadata": {
        "id": "YEw8CRJ2Um89"
      },
      "source": [
        "## Создание модели"
      ]
    },
    {
      "cell_type": "markdown",
      "source": [
        "Создадим модель seq2seq, состоящую из двух рекуррентных нейронных сетей: энкодера и декодера (простого или с механизмом внимания). Для каждой сети будет использоваться свой класс."
      ],
      "metadata": {
        "id": "gcQ48eJz-q5v"
      }
    },
    {
      "cell_type": "markdown",
      "source": [
        "### Кодировщик"
      ],
      "metadata": {
        "id": "MVy8Wy6u8MsY"
      }
    },
    {
      "cell_type": "markdown",
      "source": [
        "Кодировщик проходит по исходной последовательности и для каждого слова создает контекстуализированный вектор, который передается в качестве скрытого состояния. Вектор для последнего слова также является вектором всего предложения."
      ],
      "metadata": {
        "id": "0I1oW6ov_N5e"
      }
    },
    {
      "cell_type": "markdown",
      "source": [
        "![image.png](data:image/png;base64,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)"
      ],
      "metadata": {
        "id": "kXhSvjW_rSTL"
      }
    },
    {
      "cell_type": "code",
      "execution_count": null,
      "metadata": {
        "id": "Xv5TaUpUUm89"
      },
      "outputs": [],
      "source": [
        "import torch.nn as nn\n",
        "\n",
        "class EncoderRNN(nn.Module):\n",
        "    def __init__(self, input_size, hidden_size, dropout_p=0.1):\n",
        "        super(EncoderRNN, self).__init__()\n",
        "        self.hidden_size = hidden_size\n",
        "\n",
        "        self.embedding = nn.Embedding(input_size, hidden_size)\n",
        "        self.gru = nn.GRU(hidden_size, hidden_size, batch_first=True)\n",
        "        self.dropout = nn.Dropout(dropout_p)\n",
        "\n",
        "    def forward(self, input):\n",
        "        embedded = self.dropout(self.embedding(input))\n",
        "        output, hidden = self.gru(embedded)\n",
        "        return output, hidden"
      ]
    },
    {
      "cell_type": "markdown",
      "source": [
        "### Декодер"
      ],
      "metadata": {
        "id": "uhCLHfMkC-p1"
      }
    },
    {
      "cell_type": "markdown",
      "source": [
        "На каждом этапе декодирования декодеру предоставляются входной токен и скрытое состояние. Начальный входной токен — токен начала строки <SOS>, первое скрытое состояние — вектор контекста (последнее скрытое состояние кодировщика).\n",
        "\n",
        "Для обучения декодера будем использовать метод ускорения с учителем (teacher forcing). Во время обучения на каждом следующем шаге модель получает на вход не наиболее вероятный токен в соответствии с полученным распределением вероятностей, а правильный токен из целевой последовательности."
      ],
      "metadata": {
        "id": "Fm5ofddD_uMr"
      }
    },
    {
      "cell_type": "markdown",
      "source": [
        "![image.png](data:image/png;base64,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)"
      ],
      "metadata": {
        "id": "rlh7wNhZrYGO"
      }
    },
    {
      "cell_type": "code",
      "execution_count": null,
      "metadata": {
        "id": "RL7VOX3sUm8-"
      },
      "outputs": [],
      "source": [
        "import torch\n",
        "import torch.nn.functional as F\n",
        "\n",
        "device = torch.device(\"cuda\" if torch.cuda.is_available() else \"cpu\")\n",
        "\n",
        "class DecoderRNN(nn.Module):\n",
        "    def __init__(self, hidden_size, output_size):\n",
        "        super(DecoderRNN, self).__init__()\n",
        "        self.embedding = nn.Embedding(output_size, hidden_size)\n",
        "        self.gru = nn.GRU(hidden_size, hidden_size, batch_first=True)\n",
        "        self.out = nn.Linear(hidden_size, output_size)\n",
        "\n",
        "    def forward(self, encoder_outputs, encoder_hidden, target_tensor=None):\n",
        "        batch_size = encoder_outputs.size(0)\n",
        "        decoder_input = torch.empty(\n",
        "            batch_size, 1, dtype=torch.long, device=device\n",
        "        ).fill_(SOS_token)\n",
        "        decoder_hidden = encoder_hidden\n",
        "        decoder_outputs = []\n",
        "\n",
        "        for i in range(max_length):\n",
        "            decoder_output, decoder_hidden = self.forward_step(\n",
        "                decoder_input, decoder_hidden\n",
        "            )\n",
        "            decoder_outputs.append(decoder_output)\n",
        "\n",
        "            if target_tensor is not None:\n",
        "                # Teacher forcing: Feed the target as the next input\n",
        "                decoder_input = target_tensor[:, i].unsqueeze(1)  # Teacher forcing\n",
        "            else:\n",
        "                # Without teacher forcing: use its own predictions as the next input\n",
        "                _, topi = decoder_output.topk(1)\n",
        "                decoder_input = topi.squeeze(\n",
        "                    -1\n",
        "                ).detach()  # detach from history as input\n",
        "\n",
        "        decoder_outputs = torch.cat(decoder_outputs, dim=1)\n",
        "        decoder_outputs = F.log_softmax(decoder_outputs, dim=-1)\n",
        "        return (\n",
        "            decoder_outputs,\n",
        "            decoder_hidden,\n",
        "            None,\n",
        "        )  # We return `None` for consistency in the training loop\n",
        "\n",
        "    def forward_step(self, input, hidden):\n",
        "        output = self.embedding(input)\n",
        "        output = F.relu(output)\n",
        "        output, hidden = self.gru(output, hidden)\n",
        "        output = self.out(output)\n",
        "        return output, hidden"
      ]
    },
    {
      "cell_type": "markdown",
      "source": [
        "### Декодер с механизмом внимания"
      ],
      "metadata": {
        "id": "AgveV4p6DAkH"
      }
    },
    {
      "cell_type": "markdown",
      "metadata": {
        "id": "fnzcMRsxUm8-"
      },
      "source": [
        "Если передавать контекстный вектор только в первую ячейку, информация об исходном предложении постепенно \"теряется\" при проходе по целевому предложению. Механизм внимания позволяет каждой ячейке декодера (каждому слову целевой последовательности) \"фокусироваться\" на выходах разных ячеек энкодера (разных словах исходной последовательности).\n",
        "\n",
        "Сначала мы вычисляем **набор весов Attention**. Они будут умножены на выходные векторы энкодера для создания взвешенной комбинации. Результат должен содержать информацию об этой конкретной части входной последовательности и помогать декодеру выбирать правильные выходные слова.\n",
        "\n",
        "Вычисление весов Attention выполняется с помощью линейного слоя.\n",
        "\n",
        "$\\large a(h, h') = \\color{red}{V_a}\\tanh(\\color{red}{W_a}h + \\color{red}{U_a}h')$ — аддитивное внимание с $\\color{red}{V_a, W_a, U_a}$."
      ]
    },
    {
      "cell_type": "code",
      "execution_count": null,
      "metadata": {
        "id": "b32ckPR1Um8-"
      },
      "outputs": [],
      "source": [
        "class BahdanauAttention(nn.Module):\n",
        "    def __init__(self, hidden_size):\n",
        "        super(BahdanauAttention, self).__init__()\n",
        "        self.Wa = nn.Linear(hidden_size, hidden_size)\n",
        "        self.Ua = nn.Linear(hidden_size, hidden_size)\n",
        "        self.Va = nn.Linear(hidden_size, 1)\n",
        "\n",
        "    def forward(self, query, keys):\n",
        "        scores = self.Va(torch.tanh(self.Wa(query) + self.Ua(keys)))\n",
        "        scores = scores.squeeze(2).unsqueeze(1)\n",
        "\n",
        "        weights = F.softmax(scores, dim=-1)\n",
        "        context = torch.bmm(weights, keys)\n",
        "\n",
        "        return context, weights\n",
        "\n",
        "class AttnDecoderRNN(nn.Module):\n",
        "    def __init__(self, hidden_size, output_size, dropout_p=0.1):\n",
        "        super(AttnDecoderRNN, self).__init__()\n",
        "        self.embedding = nn.Embedding(output_size, hidden_size)\n",
        "        self.attention = BahdanauAttention(hidden_size)\n",
        "        self.gru = nn.GRU(2 * hidden_size, hidden_size, batch_first=True)\n",
        "        self.out = nn.Linear(hidden_size, output_size)\n",
        "        self.dropout = nn.Dropout(dropout_p)\n",
        "\n",
        "    def forward(self, encoder_outputs, encoder_hidden, target_tensor=None):\n",
        "        batch_size = encoder_outputs.size(0)\n",
        "        decoder_input = torch.empty(\n",
        "            batch_size, 1, dtype=torch.long, device=device\n",
        "        ).fill_(SOS_token)\n",
        "        decoder_hidden = encoder_hidden\n",
        "        decoder_outputs = []\n",
        "        attentions = []\n",
        "\n",
        "        for i in range(max_length):\n",
        "            decoder_output, decoder_hidden, attn_weights = self.forward_step(\n",
        "                decoder_input, decoder_hidden, encoder_outputs\n",
        "            )\n",
        "            decoder_outputs.append(decoder_output)\n",
        "            attentions.append(attn_weights)\n",
        "\n",
        "            if target_tensor is not None:\n",
        "                # Teacher forcing: Feed the target as the next input\n",
        "                decoder_input = target_tensor[:, i].unsqueeze(1)  # Teacher forcing\n",
        "            else:\n",
        "                # Without teacher forcing: use its own predictions as the next input\n",
        "                _, topi = decoder_output.topk(1)\n",
        "                decoder_input = topi.squeeze(\n",
        "                    -1\n",
        "                ).detach()  # detach from history as input\n",
        "\n",
        "        decoder_outputs = torch.cat(decoder_outputs, dim=1)\n",
        "        decoder_outputs = F.log_softmax(decoder_outputs, dim=-1)\n",
        "        attentions = torch.cat(attentions, dim=1)\n",
        "\n",
        "        return decoder_outputs, decoder_hidden, attentions\n",
        "\n",
        "    def forward_step(self, input, hidden, encoder_outputs):\n",
        "        embedded = self.dropout(self.embedding(input))\n",
        "\n",
        "        query = hidden.permute(1, 0, 2)\n",
        "        context, attn_weights = self.attention(query, encoder_outputs)\n",
        "        input_gru = torch.cat((embedded, context), dim=2)\n",
        "\n",
        "        output, hidden = self.gru(input_gru, hidden)\n",
        "        output = self.out(output)\n",
        "\n",
        "        return output, hidden, attn_weights"
      ]
    },
    {
      "cell_type": "markdown",
      "metadata": {
        "id": "PlmPzA-RUm8_"
      },
      "source": [
        "## Обучение модели"
      ]
    },
    {
      "cell_type": "markdown",
      "metadata": {
        "id": "hvSKn7mmUm8_"
      },
      "source": [
        "Для обучения мы пропускаем предложение через кодировщик и отслеживаем каждый выход и последнее скрытое состояние. Затем декодер получает токен <SOS> в качестве первого входа и последнее скрытое состояние кодировщика в качестве первого скрытого состояния."
      ]
    },
    {
      "cell_type": "code",
      "execution_count": null,
      "metadata": {
        "id": "sMYTQJWVUm8_"
      },
      "outputs": [],
      "source": [
        "! pip install -q lightning tbparse"
      ]
    },
    {
      "cell_type": "code",
      "execution_count": null,
      "metadata": {
        "id": "sL2E_wzUUm8_"
      },
      "outputs": [],
      "source": [
        "import lightning as L\n",
        "from itertools import chain\n",
        "\n",
        "class Seq2SeqPipeline(L.LightningModule):\n",
        "    def __init__(\n",
        "        self,\n",
        "        encoder,\n",
        "        decoder,\n",
        "        exp_name=\"baseline\",\n",
        "        criterion=nn.NLLLoss(),\n",
        "    ):\n",
        "        super().__init__()\n",
        "        self.encoder = encoder\n",
        "        self.decoder = decoder\n",
        "        self.criterion = criterion\n",
        "\n",
        "    def configure_optimizers(self):\n",
        "        optimizer = torch.optim.Adam(\n",
        "            chain(self.encoder.parameters(), self.decoder.parameters()), lr=0.001\n",
        "        )\n",
        "        return optimizer\n",
        "\n",
        "    def training_step(self, batch, batch_idx):\n",
        "        input_tensor, target_tensor = batch\n",
        "\n",
        "        encoder_outputs, encoder_hidden = self.encoder(input_tensor)\n",
        "        decoder_outputs, _, _ = self.decoder(\n",
        "            encoder_outputs, encoder_hidden, target_tensor\n",
        "        )\n",
        "\n",
        "        loss = self.criterion(\n",
        "            decoder_outputs.view(-1, decoder_outputs.size(-1)), target_tensor.view(-1)\n",
        "        )\n",
        "\n",
        "        self.log(\"Loss/train\", loss, prog_bar=True)\n",
        "        return loss\n",
        "\n",
        "    def validation_step(self, batch, batch_idx):\n",
        "        input_tensor, target_tensor = batch\n",
        "\n",
        "        encoder_outputs, encoder_hidden = self.encoder(input_tensor)\n",
        "        decoder_outputs, _, _ = self.decoder(\n",
        "            encoder_outputs, encoder_hidden, target_tensor\n",
        "        )\n",
        "\n",
        "        loss = self.criterion(\n",
        "            decoder_outputs.view(-1, decoder_outputs.size(-1)), target_tensor.view(-1)\n",
        "        )\n",
        "\n",
        "        self.log(\"Loss/val\", loss, prog_bar=True)"
      ]
    },
    {
      "cell_type": "markdown",
      "metadata": {
        "id": "A6c3yeuBUm8_"
      },
      "source": [
        "Определим гиперпараметры: размер скрытого состояния, размер батча. Создадим модели кодировщика и декодировщика."
      ]
    },
    {
      "cell_type": "code",
      "execution_count": null,
      "metadata": {
        "id": "fKMqcS9xUm9A"
      },
      "outputs": [],
      "source": [
        "hidden_size = 512\n",
        "batch_size = 256\n",
        "\n",
        "(\n",
        "    input_lang,\n",
        "    output_lang,\n",
        "    train_dataloader,\n",
        "    val_dataloader,\n",
        "    test_dataloader,\n",
        "    test_pair_ids,\n",
        ") = get_dataloaders(batch_size)\n",
        "\n",
        "encoder = EncoderRNN(input_lang.n_words, hidden_size).to(device)\n",
        "decoder = AttnDecoderRNN(hidden_size, output_lang.n_words).to(device)"
      ]
    },
    {
      "cell_type": "markdown",
      "metadata": {
        "id": "kq9kGVs5Um9A"
      },
      "source": [
        "Процесс обучения занимает примерно 8 минут на GPU. В целях экономии времени и вычислительных ресурсов закомментируем эту часть кода и загрузим предварительно сохраненные логи обучения.\n",
        "\n",
        "Для запуска обучения необходимо раскомментировать соответствующую строчку в коде и закомментировать загрузку предварительно сохраненных логов."
      ]
    },
    {
      "cell_type": "code",
      "execution_count": null,
      "metadata": {
        "id": "yOoPLmz1Um9A"
      },
      "outputs": [],
      "source": [
        "from lightning.pytorch import Trainer\n",
        "from lightning.pytorch.callbacks import ModelCheckpoint\n",
        "from lightning.pytorch.loggers import TensorBoardLogger\n",
        "\n",
        "\n",
        "L.seed_everything(42)\n",
        "\n",
        "checkpoint_callback = ModelCheckpoint(monitor=\"Loss/val\", mode=\"min\", filename=\"best\")\n",
        "\n",
        "exp_name = f\"baseline\"\n",
        "trainer = Trainer(\n",
        "    max_epochs=80,\n",
        "    logger=TensorBoardLogger(save_dir=f\"logs/seq2seq\", name=exp_name),\n",
        "    num_sanity_val_steps=1,\n",
        "    callbacks=[checkpoint_callback],\n",
        "    log_every_n_steps=5,\n",
        ")\n",
        "\n",
        "pipeline = Seq2SeqPipeline(encoder=encoder, decoder=decoder)\n",
        "\n",
        "\"\"\"\n",
        "trainer.fit(\n",
        "    model=pipeline,\n",
        "    train_dataloaders=train_dataloader,\n",
        "    val_dataloaders=val_dataloader,\n",
        "    )\n",
        "\"\"\""
      ]
    },
    {
      "cell_type": "markdown",
      "metadata": {
        "id": "r8_8B9HJUm9A"
      },
      "source": [
        "Загрузка предварительно сохраненных логов обучения:"
      ]
    },
    {
      "cell_type": "code",
      "execution_count": null,
      "metadata": {
        "id": "y17o_aWCUm9A"
      },
      "outputs": [],
      "source": [
        "!wget -q https://edunet.kea.su/repo/EduNet_NLP-content/L04/weights/logs.zip\n",
        "!unzip -q logs.zip"
      ]
    },
    {
      "cell_type": "markdown",
      "metadata": {
        "id": "R3zRfe6gUm9A"
      },
      "source": [
        "Визуализация процесса обучения:"
      ]
    },
    {
      "cell_type": "code",
      "execution_count": null,
      "metadata": {
        "id": "EitbfIAiUm9A"
      },
      "outputs": [],
      "source": [
        "import matplotlib.pyplot as plt\n",
        "from tbparse import SummaryReader\n",
        "\n",
        "def tbparse_visual(log_path):\n",
        "    reader = SummaryReader(log_path)\n",
        "    df = reader.scalars\n",
        "\n",
        "    plt.figure(figsize=(12, 4))\n",
        "    for tag in df.tag.unique():\n",
        "        if \"Loss\" in tag:\n",
        "            tag_data = df.query(\"tag == @tag\").sort_values(by=\"step\")\n",
        "            plt.plot(tag_data.step, tag_data.value, label=tag)\n",
        "    plt.xlabel(\"step\")\n",
        "    plt.ylabel(\"loss\")\n",
        "    plt.legend()\n",
        "    plt.grid()\n",
        "    plt.show()"
      ]
    },
    {
      "cell_type": "code",
      "execution_count": null,
      "metadata": {
        "id": "V4W3Z1JlUm9B"
      },
      "outputs": [],
      "source": [
        "import os\n",
        "\n",
        "base_path = f\"/content/logs/seq2seq/{exp_name}\"\n",
        "last_version = sorted(os.listdir(base_path))[-1]\n",
        "log_path = f\"{base_path}/{last_version}\"\n",
        "\n",
        "tbparse_visual(log_path)"
      ]
    },
    {
      "cell_type": "markdown",
      "metadata": {
        "id": "6GpZJpk-Um9B"
      },
      "source": [
        "Восстановим модели из лучшей контрольной точки:"
      ]
    },
    {
      "cell_type": "code",
      "execution_count": null,
      "metadata": {
        "id": "GgfhruroUm9B"
      },
      "outputs": [],
      "source": [
        "ckpt_path = f\"{log_path}/checkpoints/best.ckpt\"\n",
        "checkpoint = torch.load(ckpt_path, map_location=device)\n",
        "\n",
        "print(f\"Checkpoint has been loaded from {ckpt_path}\")\n",
        "print(f\"Best model has been saved on the {checkpoint['epoch']} epoch\")\n",
        "\n",
        "state_dict_encoder = {}\n",
        "state_dict_decoder = {}\n",
        "for key in checkpoint[\"state_dict\"].keys():\n",
        "    if key.startswith(\"encoder.\"):\n",
        "        state_dict_encoder[key[len(\"encoder.\") :]] = checkpoint[\"state_dict\"][key]\n",
        "    elif key.startswith(\"decoder.\"):\n",
        "        state_dict_decoder[key[len(\"decoder.\") :]] = checkpoint[\"state_dict\"][key]\n",
        "\n",
        "encoder = EncoderRNN(input_lang.n_words, hidden_size).to(device)\n",
        "decoder = AttnDecoderRNN(hidden_size, output_lang.n_words).to(device)\n",
        "\n",
        "encoder.load_state_dict(state_dict_encoder)\n",
        "decoder.load_state_dict(state_dict_decoder)"
      ]
    },
    {
      "cell_type": "markdown",
      "metadata": {
        "id": "R_Y1PW9kUm9B"
      },
      "source": [
        "## Тестирование модели"
      ]
    },
    {
      "cell_type": "markdown",
      "metadata": {
        "id": "4-VQ2ufRUm9B"
      },
      "source": [
        "Напишем функцию, которая возвращает перевод и веса внимания, обращаясь вначале к кодировщику, а затем к декодировщику:"
      ]
    },
    {
      "cell_type": "code",
      "execution_count": null,
      "metadata": {
        "id": "tuw44aQoUm9B"
      },
      "outputs": [],
      "source": [
        "def evaluate(encoder, decoder, sentence, input_lang, output_lang):\n",
        "    with torch.no_grad():\n",
        "        input_tensor = tensorFromSentence(input_lang, sentence)\n",
        "\n",
        "        encoder_outputs, encoder_hidden = encoder(input_tensor.to(device))\n",
        "        decoder_outputs, decoder_hidden, decoder_attn = decoder(\n",
        "            encoder_outputs.to(device), encoder_hidden.to(device)\n",
        "        )\n",
        "\n",
        "        _, topi = decoder_outputs.topk(1)\n",
        "        decoded_ids = topi.squeeze()\n",
        "\n",
        "        decoded_words = []\n",
        "        for idx in decoded_ids:\n",
        "            if idx.item() == EOS_token:\n",
        "                decoded_words.append(\"<EOS>\")\n",
        "                break\n",
        "            decoded_words.append(output_lang.index2word[idx.item()])\n",
        "    return decoded_words, decoder_attn"
      ]
    },
    {
      "cell_type": "markdown",
      "metadata": {
        "id": "WSZUR2G-Um9B"
      },
      "source": [
        "Мы можем оценить случайные предложения из обучающего набора:"
      ]
    },
    {
      "cell_type": "code",
      "execution_count": null,
      "metadata": {
        "id": "gqyhA8KTUm9B"
      },
      "outputs": [],
      "source": [
        "def evaluateRandomly(encoder, decoder, n=10):\n",
        "    eng = []\n",
        "    dnn = []\n",
        "    for i in range(n):\n",
        "        pair_id = random.choice(test_pair_ids)\n",
        "        pair = pairs[pair_id]\n",
        "        print(\"RUS\", pair[0])\n",
        "        print(\"ENG\", pair[1])\n",
        "        output_words, _ = evaluate(encoder, decoder, pair[0], input_lang, output_lang)\n",
        "        eng.append(pair[1])\n",
        "        dnn.append(output_words[:-1])  # remove <eos> token\n",
        "        output_sentence = \" \".join(output_words)\n",
        "        output_sentence = \" \".join(output_words)\n",
        "        print(\"DNN\", output_sentence)\n",
        "        print(\"\")\n",
        "    return eng, dnn"
      ]
    },
    {
      "cell_type": "markdown",
      "metadata": {
        "id": "6sFxBRWOUm9C"
      },
      "source": [
        "Посмотрим на результат работы модели:"
      ]
    },
    {
      "cell_type": "code",
      "execution_count": null,
      "metadata": {
        "id": "qQZr2CrzUm9C"
      },
      "outputs": [],
      "source": [
        "encoder.eval()\n",
        "decoder.eval()\n",
        "eng, dnn = evaluateRandomly(encoder, decoder)"
      ]
    },
    {
      "cell_type": "markdown",
      "metadata": {
        "id": "b3J6bkYKUm9C"
      },
      "source": [
        "## Визуализация Attention"
      ]
    },
    {
      "cell_type": "code",
      "execution_count": null,
      "metadata": {
        "id": "oOFsk_4aUm9C"
      },
      "outputs": [],
      "source": [
        "import matplotlib.pyplot as plt\n",
        "\n",
        "def showAttention(input_sentence, output_words, attentions):\n",
        "    fig = plt.figure()\n",
        "    ax = fig.add_subplot(111)\n",
        "    cax = ax.matshow(attentions.cpu().numpy(), cmap=\"bone\")\n",
        "    fig.colorbar(cax)\n",
        "\n",
        "    # Set up axes\n",
        "    ax.set_yticks(ax.get_yticks().tolist()[1:-1])\n",
        "    ax.set_xticks(ax.get_xticks().tolist()[1:-1])\n",
        "\n",
        "    ax.set_xticklabels(input_sentence.split(\" \") + [\"<EOS>\"], rotation=90)\n",
        "    ax.set_yticklabels(output_words)\n",
        "    plt.show()\n",
        "\n",
        "def evaluateAndShowAttention(input_sentence):\n",
        "    output_words, attentions = evaluate(\n",
        "        encoder, decoder, input_sentence, input_lang, output_lang\n",
        "    )\n",
        "    print(\"input =\", input_sentence)\n",
        "    print(\"output =\", \" \".join(output_words))\n",
        "    showAttention(input_sentence, output_words, attentions[0, : len(output_words), :])\n",
        "\n",
        "evaluateAndShowAttention(\"о тебе я не беспокоюсь\")"
      ]
    },
    {
      "cell_type": "markdown",
      "metadata": {
        "id": "YL2xiTGHaDlZ"
      },
      "source": [
        "# Оценка качества машинного перевода"
      ]
    },
    {
      "cell_type": "markdown",
      "metadata": {
        "id": "RmO9wvlE0WYL"
      },
      "source": [
        "Наиболее часто для оценки качества машинного перевода используется метрика BLEU (BiLingual Evaluation Understudy). Она основана на подсчете слов (unigrams) и словосочетаний (n-grams) из машинного перевода, также встречающихся в эталоне. Далее это число делится на общее число слов и словосочетаний в машинном переводе — получается precision. К итоговому precision применяется корректировка — штраф за краткость (brevity penalty), чтобы избежать слишком высоких оценок BLEU для кратких и неполных переводов."
      ]
    },
    {
      "cell_type": "markdown",
      "metadata": {
        "id": "zHzXlIkx0WYL"
      },
      "source": [
        "$$BLEU=\\text{brevity penalty}⋅(\\prod_{i=1}^n\\text{precision}_i)^{1/n}⋅100,$$\n",
        "$$\\text{brevity penalty}=min(1, \\frac{\\text{output length}}{\\text{reference length}})$$"
      ]
    },
    {
      "cell_type": "markdown",
      "source": [
        "Пример рассчета метрики BLEU:"
      ],
      "metadata": {
        "id": "5XlrZhsPjKJl"
      }
    },
    {
      "cell_type": "markdown",
      "source": [
        "<center><img src=\"https://edunet.kea.su/repo/EduNet_NLP-web_dependencies/L04/bleu_example.png\" width=\"600\"></center>"
      ],
      "metadata": {
        "id": "XGEqmE-Hjjwd"
      }
    },
    {
      "cell_type": "markdown",
      "source": [
        "Посчитаем значение BLEU для обученной модели."
      ],
      "metadata": {
        "id": "5E3LXQ3ijNIj"
      }
    },
    {
      "cell_type": "code",
      "execution_count": null,
      "metadata": {
        "id": "iA5Ks6f0aDlZ"
      },
      "outputs": [],
      "source": [
        "dnn"
      ]
    },
    {
      "cell_type": "code",
      "execution_count": null,
      "metadata": {
        "id": "JgEFUdE5aDlZ"
      },
      "outputs": [],
      "source": [
        "eng"
      ]
    },
    {
      "cell_type": "markdown",
      "metadata": {
        "id": "deUurxMQaDla"
      },
      "source": [
        "Обратите внимание на формат подачи данных в метрику. Первым подается результат переводчика, вторым — эталон. Они должны иметь формат списка строк, поэтому преобразуем `dnn`:"
      ]
    },
    {
      "cell_type": "code",
      "execution_count": null,
      "metadata": {
        "id": "gDXkZ-wAaDla"
      },
      "outputs": [],
      "source": [
        "dnn_for_bleu = [[\" \".join(x)] for x in dnn]  # Make a string from separated words\n",
        "dnn_for_bleu = [\n",
        "    item for sublist in dnn_for_bleu for item in sublist\n",
        "]  # Make a list from list of lists\n",
        "\n",
        "dnn_for_bleu"
      ]
    },
    {
      "cell_type": "code",
      "execution_count": null,
      "metadata": {
        "id": "xM9fxO5GaDla"
      },
      "outputs": [],
      "source": [
        "!pip install -q torcheval"
      ]
    },
    {
      "cell_type": "code",
      "source": [
        "import torcheval\n",
        "from torcheval.metrics.functional import bleu_score\n",
        "\n",
        "bleu = bleu_score(dnn_for_bleu, eng)\n",
        "print(f\"BLEU = {bleu.item():.2f}\")"
      ],
      "metadata": {
        "id": "k5fF7kjEe_qL"
      },
      "execution_count": null,
      "outputs": []
    },
    {
      "cell_type": "markdown",
      "metadata": {
        "id": "aemOuoGH0WYL"
      },
      "source": [
        "По умолчанию значение $n=4$. Можно сравнить качество при разных значениях $n$."
      ]
    },
    {
      "cell_type": "code",
      "source": [
        "for n in range(2, 5):\n",
        "  bleu = bleu_score(dnn_for_bleu, eng, n_gram=n)\n",
        "  print(f\"BLEU ({n}-gram)= {bleu.item():.2f}\")"
      ],
      "metadata": {
        "id": "WM2yUckBfHEG"
      },
      "execution_count": null,
      "outputs": []
    }
  ],
  "metadata": {
    "colab": {
      "provenance": [],
      "toc_visible": true
    },
    "language_info": {
      "name": "python"
    },
    "kernelspec": {
      "name": "python3",
      "display_name": "Python 3"
    }
  },
  "nbformat": 4,
  "nbformat_minor": 0
}