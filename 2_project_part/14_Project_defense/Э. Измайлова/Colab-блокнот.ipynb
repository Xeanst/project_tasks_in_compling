{
  "cells": [
    {
      "cell_type": "markdown",
      "metadata": {
        "id": "QfW_q5rfd9N_"
      },
      "source": [
        "# Настройка модели и подготовка данных\n",
        "\n",
        "\n",
        "---\n",
        "\n"
      ]
    },
    {
      "cell_type": "code",
      "execution_count": null,
      "metadata": {
        "collapsed": true,
        "id": "O1eINiCfTqwv"
      },
      "outputs": [],
      "source": [
        "!pip install --quiet -U mistralai datasets seaborn scikit-learn faiss-cpu umap-learn umap-learn[plot] scipy polars dask[dataframe] gdown"
      ]
    },
    {
      "cell_type": "code",
      "execution_count": null,
      "metadata": {
        "id": "zPhcpqt0ce4A"
      },
      "outputs": [],
      "source": [
        "from google.colab import drive\n",
        "\n",
        "drive.mount('/content/drive')"
      ]
    },
    {
      "cell_type": "markdown",
      "metadata": {
        "id": "Vf1oEmlYhdn8"
      },
      "source": [
        "## Базовая конфигурация\n",
        "\n",
        "\n",
        "---"
      ]
    },
    {
      "cell_type": "markdown",
      "metadata": {
        "id": "d1aNXMf0FDU1"
      },
      "source": [
        "### Инициализация модели"
      ]
    },
    {
      "cell_type": "code",
      "execution_count": null,
      "metadata": {
        "id": "rNjRJ-yymK_h"
      },
      "outputs": [],
      "source": [
        "import json\n",
        "\n",
        "with open('/content/drive/MyDrive/hw2/config.json', 'r') as file:\n",
        "    api_keys = json.load(file)"
      ]
    },
    {
      "cell_type": "code",
      "execution_count": null,
      "metadata": {
        "id": "UfsmbzNHfy_z"
      },
      "outputs": [],
      "source": [
        "from mistralai import Mistral\n",
        "\n",
        "def run_mistral(user_message, api_key, model=\"mistral-large-latest\"):\n",
        "    client = Mistral(api_key=api_key)\n",
        "    messages = [\n",
        "        {\"role\": \"user\", \"content\": user_message}\n",
        "    ]\n",
        "    chat_response = client.chat.complete(\n",
        "        model=model,\n",
        "        messages=messages,\n",
        "        stop=[\".\"]\n",
        "    )\n",
        "    return chat_response.choices[0].message.content"
      ]
    },
    {
      "cell_type": "markdown",
      "metadata": {
        "id": "8Iv6PPTMFIt0"
      },
      "source": [
        "### Обработка предложений из датасета и формирование шаблона промпта\n"
      ]
    },
    {
      "cell_type": "code",
      "execution_count": null,
      "metadata": {
        "id": "BC6_7fvdr0yg"
      },
      "outputs": [],
      "source": [
        "import random\n",
        "\n",
        "# формирует запрос, где два варианта предложения идут в случайном порядке\n",
        "def user_message(inquiry, instruction):\n",
        "    sentence_bad = inquiry['sentence_bad']\n",
        "    sentence_good = inquiry['sentence_good']\n",
        "    sentences = [(1, sentence_bad), (2, sentence_good)]\n",
        "    random.shuffle(sentences)\n",
        "    user_message = (\n",
        "        f\"\"\"\n",
        "        {instruction}\n",
        "        <<<\n",
        "        1. {sentences[0][1]}\n",
        "        2. {sentences[1][1]}\n",
        "        >>>\n",
        "        \"\"\"\n",
        "    )\n",
        "    return user_message, sentences"
      ]
    },
    {
      "cell_type": "code",
      "execution_count": null,
      "metadata": {
        "id": "zHggaXtGr7tF"
      },
      "outputs": [],
      "source": [
        "def get_correct_answer(sentences, sentence_good):\n",
        "    correct_answer = 1 if sentences[0][1] == sentence_good else 2\n",
        "    return correct_answer"
      ]
    },
    {
      "cell_type": "code",
      "execution_count": null,
      "metadata": {
        "collapsed": true,
        "id": "fiYKRXdgsPzJ"
      },
      "outputs": [],
      "source": [
        "from datasets import load_dataset, concatenate_datasets, get_dataset_config_names\n",
        "from tqdm import tqdm\n",
        "import polars as pl\n",
        "\n",
        "# использую polars, потому что pandas все-таки медленный для датасетов такого размера (и ресурсозатратный) (дальше просто будет еще х2)\n",
        "# (после курсовой поняла, что надо все-таки освоить)\n",
        "\n",
        "# configs = get_dataset_config_names(\"nyu-mll/blimp\")\n",
        "# datasets = []\n",
        "# for config in tqdm(configs, desc=\"Loading\"):\n",
        "#     ds = load_dataset(\"nyu-mll/blimp\", config)\n",
        "#     shuffled_ds = ds[\"train\"].shuffle(seed=42)\n",
        "#     datasets.append(shuffled_ds.select(range(10)))\n",
        "\n",
        "# combined_dataset = concatenate_datasets(datasets)\n",
        "# query_dataset = combined_dataset.shuffle(seed=42)\n",
        "# query_dataset = pl.DataFrame(query_dataset.to_dict())\n",
        "# query_dataset.write_parquet('/content/drive/My Drive/hw2/query_dataset.parquet')\n",
        "query_dataset = pl.read_parquet('/content/drive/My Drive/hw2/query_dataset.parquet')\n",
        "configs = query_dataset['UID'].unique().to_list()\n",
        "len(configs)"
      ]
    },
    {
      "cell_type": "code",
      "execution_count": null,
      "metadata": {
        "id": "GVqHUGvcu1_8"
      },
      "outputs": [],
      "source": [
        "len(query_dataset)"
      ]
    },
    {
      "cell_type": "code",
      "execution_count": null,
      "metadata": {
        "id": "MXzygDSVtL5K"
      },
      "outputs": [],
      "source": [
        "def format_prompt(index, sentences, correct_i):\n",
        "    return (\n",
        "        f\"Example {index+1}:\\n\"\n",
        "        f\"1: {sentences[0]}\\n\"\n",
        "        f\"2: {sentences[1]}\\n\"\n",
        "        f\"Correct sentence: {correct_i}\"\n",
        ")"
      ]
    },
    {
      "cell_type": "code",
      "execution_count": null,
      "metadata": {
        "id": "j6fisCUEtfcV"
      },
      "outputs": [],
      "source": [
        "def prepare_sentences(good_sent, bad_sent, used_correct=[]):\n",
        "# предотвращает случаи, где во всех парах примеров\n",
        "# грамматичные и неграмматичные предложения идут в одном порядке\n",
        "    sentences = [good_sent, bad_sent]\n",
        "    # если несколько подряд правильный ответ был 1,\n",
        "    # то ставим правильное предложение вторым\n",
        "    if used_correct and all(x == 1 for x in used_correct[-3:]):\n",
        "        sentences = [bad_sent, good_sent]\n",
        "    # если наоборот все время был ответ 2, то первым\n",
        "    elif used_correct and all(x == 2 for x in used_correct[-3:]):\n",
        "        sentences = [good_sent, bad_sent]\n",
        "    # иначе рандомно мешаем\n",
        "    else:\n",
        "        random.shuffle(sentences)\n",
        "    correct_i = sentences.index(good_sent) + 1\n",
        "    return sentences, correct_i"
      ]
    },
    {
      "cell_type": "code",
      "execution_count": null,
      "metadata": {
        "id": "EkXqSiW5upV9"
      },
      "outputs": [],
      "source": [
        "def generate_mapped_prompts(dataset, shot=3, use_polars=False):\n",
        "# генерирует промпты из датасета, группируя по N обучающих примеров\n",
        "# на каждый тестовый (дефолтный случай)\n",
        "    mapped_prompts = []\n",
        "    for i in tqdm(range(0, len(dataset), shot), desc='Generating prompts'):\n",
        "        group_prompts = []\n",
        "        used_correct = []\n",
        "        # end_i = min(i + shot, len(dataset))\n",
        "        if use_polars:\n",
        "            current_rows = dataset.slice(i, shot).to_dicts()\n",
        "        else:\n",
        "            current_rows = dataset.select(range(i, i + shot))\n",
        "        for j, row in enumerate(current_rows):\n",
        "            sentences, correct_i = prepare_sentences(\n",
        "                row['sentence_good'],\n",
        "                row['sentence_bad'],\n",
        "                used_correct\n",
        "            )\n",
        "            used_correct.append(correct_i)\n",
        "            prompt = format_prompt(j, sentences, correct_i)\n",
        "            group_prompts.append(prompt)\n",
        "        if group_prompts:\n",
        "            mapped_prompts.append(\"\\n\\n\".join(group_prompts))\n",
        "    return mapped_prompts"
      ]
    },
    {
      "cell_type": "code",
      "execution_count": null,
      "metadata": {
        "id": "9WZW-cT2vzhV"
      },
      "outputs": [],
      "source": [
        "def generate_uid_prompts(dataset, max_groups=10):\n",
        "# генерирует промпты отдельно для каждого UID\n",
        "    uid_data = {}\n",
        "    for row in tqdm(dataset, desc='Filtering dataset'):\n",
        "        uid = row['UID']\n",
        "        if uid not in uid_data:\n",
        "            uid_data[uid] = {\n",
        "                'prompts': [[]],\n",
        "                'used_correct': [],\n",
        "                'used_examples': set()\n",
        "            }\n",
        "        example = (row['sentence_good'], row['sentence_bad'])\n",
        "        if example in uid_data[uid]['used_examples']:\n",
        "            continue\n",
        "        uid_data[uid]['used_examples'].add(example)\n",
        "        current_group = uid_data[uid]['prompts'][-1]\n",
        "        sentences, correct_i = prepare_sentences(\n",
        "            row['sentence_good'],\n",
        "            row['sentence_bad'],\n",
        "            uid_data[uid]['used_correct']\n",
        "        )\n",
        "        prompt = format_prompt(len(current_group), sentences, correct_i)\n",
        "        current_group.append(prompt)\n",
        "        uid_data[uid]['used_correct'].append(correct_i)\n",
        "        if len(current_group) == 3 and len(uid_data[uid]['prompts']) < max_groups:\n",
        "            uid_data[uid]['prompts'].append([])\n",
        "    return {\n",
        "        uid: [\"\\n\\n\".join(prompts) for prompts in data['prompts'] if len(prompts) == 3]\n",
        "        for uid, data in uid_data.items()\n",
        "    }"
      ]
    },
    {
      "cell_type": "code",
      "source": [
        "def find_neighbors(embeddings, k=7, batch_size=100, index=None):\n",
        "    distances = []\n",
        "    indices = []\n",
        "    for i in tqdm(range(0, len(embeddings), batch_size), desc=\"Searching\"):\n",
        "        batch = embeddings[i:i+batch_size]\n",
        "        curr_distances, curr_indices = index.search(batch, k)\n",
        "        distances.append(curr_distances)\n",
        "        indices.append(curr_indices)\n",
        "    distances = np.vstack(distances)\n",
        "    indices = np.vstack(indices)\n",
        "    return distances, indices"
      ],
      "metadata": {
        "id": "RgwMMe5j8Z9q"
      },
      "execution_count": null,
      "outputs": []
    },
    {
      "cell_type": "code",
      "source": [
        "import numpy as np\n",
        "\n",
        "def get_pairs(indices, embeddings, ds, with_diff=False):\n",
        "    pairs = []\n",
        "    if with_diff:\n",
        "      zero_emb_indices = set(np.where(np.all(embeddings[:, -1024:] == 0, axis=1))[0])\n",
        "    else:\n",
        "      zero_emb_indices = set(np.where(np.all(embeddings == 0, axis=1))[0])\n",
        "    for i, idx in tqdm(enumerate(indices), total=len(indices), desc='Matching pairs'):\n",
        "        if zero_emb_indices:\n",
        "            mask = np.isin(idx.flatten(), list(zero_emb_indices), invert=True)\n",
        "            filtered_indices = idx.flatten()[mask]\n",
        "            neighbours = ds[filtered_indices]\n",
        "        else:\n",
        "            neighbours = ds[idx]\n",
        "        neighbour_pairs = list(dict.fromkeys(neighbours['pair_id']))\n",
        "        pairs.append(neighbour_pairs[1:4])\n",
        "    return pairs"
      ],
      "metadata": {
        "id": "8C_BpseC8mJK"
      },
      "execution_count": null,
      "outputs": []
    },
    {
      "cell_type": "code",
      "source": [
        "from itertools import chain\n",
        "\n",
        "def form_embedding_prompt_ds(final_test, column_name):\n",
        "    subsets = []\n",
        "    for i in tqdm(range(len(final_test)), desc='Collecting pairs'):\n",
        "        pairs_nested = final_test[i][column_name].to_list()\n",
        "        pairs = list(chain.from_iterable(pairs_nested))\n",
        "        subset = full_ds[pairs]\n",
        "        subsets.append(subset)\n",
        "    prompt_dataset = pl.concat(subsets)\n",
        "    return prompt_dataset"
      ],
      "metadata": {
        "id": "bRh4AKOwOpFb"
      },
      "execution_count": null,
      "outputs": []
    },
    {
      "cell_type": "markdown",
      "source": [
        "### Функции визуализации"
      ],
      "metadata": {
        "id": "0V7x7AO0XznT"
      }
    },
    {
      "cell_type": "code",
      "source": [
        "from sklearn.manifold import TSNE\n",
        "import seaborn as sns\n",
        "import matplotlib.pyplot as plt\n",
        "\n",
        "def create_sample(full_ds, n_per_class, group_by_col=\"field\"):\n",
        "    return (\n",
        "        full_ds.group_by(group_by_col, maintain_order=True)\n",
        "        .map_groups(lambda group: group.sample(n_per_class, seed=42) if group.height >= n_per_class else group)\n",
        "    )\n",
        "\n",
        "def create_tsne_plot(embeddings, labels, dot_size=10):\n",
        "    tsne_results = TSNE(n_components=2, random_state=42).fit_transform(embeddings)\n",
        "    ax = sns.scatterplot(\n",
        "        x=tsne_results[:, 0],\n",
        "        y=tsne_results[:, 1],\n",
        "        hue=labels,\n",
        "        s=dot_size\n",
        "    )\n",
        "    sns.move_legend(ax, \"upper left\", bbox_to_anchor=(1, 1))\n",
        "    return ax, tsne_results"
      ],
      "metadata": {
        "id": "JlU7oLN885Uw"
      },
      "execution_count": null,
      "outputs": []
    },
    {
      "cell_type": "code",
      "source": [
        "import pandas as pd\n",
        "\n",
        "def create_facet_grid(embedding, labels, plot_type=\"t-SNE\", col_wrap=2, height=5, dot_size=5):\n",
        "    if plot_type == \"t-SNE\":\n",
        "        x_col, y_col = \"t-SNE 1\", \"t-SNE 2\"\n",
        "    elif plot_type == \"UMAP\":\n",
        "        x_col, y_col = \"UMAP1\", \"UMAP2\"\n",
        "    df = pd.DataFrame({\n",
        "        x_col: embedding[:, 0],\n",
        "        y_col: embedding[:, 1],\n",
        "        \"type\": labels\n",
        "    })\n",
        "    g = sns.FacetGrid(df, col=\"type\", col_wrap=col_wrap, height=height)\n",
        "    g.map_dataframe(sns.scatterplot, x=x_col, y=y_col, s=dot_size)\n",
        "    plt.show()\n",
        "    return g"
      ],
      "metadata": {
        "id": "hWBPocc89DLp"
      },
      "execution_count": null,
      "outputs": []
    },
    {
      "cell_type": "code",
      "source": [
        "import umap\n",
        "import umap.plot\n",
        "from umap import UMAP\n",
        "from plotly.express import scatter\n",
        "\n",
        "def plot_umap_results(umap_f_emb, ds):\n",
        "    fig, (ax1, ax2, ax3) = plt.subplots(1, 3, figsize=(20, 8))\n",
        "    umap.plot.points(umap_f_emb, labels=ds[\"field\"], ax=ax1)\n",
        "    ax1.set_title('Field')\n",
        "    field_labels = np.unique(ds[\"field\"])\n",
        "    for label in field_labels:\n",
        "        ax1.scatter([], [], label=label)\n",
        "    ax1.legend(fontsize=7)\n",
        "\n",
        "    umap.plot.points(umap_f_emb, labels=ds[\"linguistics_term\"], ax=ax2)\n",
        "    ax2.set_title('Linguistics Term')\n",
        "    linguistics_labels = np.unique(ds[\"linguistics_term\"])\n",
        "    for label in linguistics_labels:\n",
        "        ax2.scatter([], [], label=label)\n",
        "    ax2.legend(fontsize=7)\n",
        "\n",
        "    umap.plot.points(umap_f_emb, labels=ds[\"UID\"], ax=ax3)\n",
        "    ax3.set_title('UID')\n",
        "    uid_labels = np.unique(ds[\"UID\"])\n",
        "    for label in uid_labels:\n",
        "        ax3.scatter([], [], label=label)\n",
        "    ax3.legend(fontsize=4)\n",
        "\n",
        "    plt.tight_layout()\n",
        "    plt.show()"
      ],
      "metadata": {
        "id": "Sg8l2vSqSESX",
        "collapsed": true
      },
      "execution_count": null,
      "outputs": []
    },
    {
      "cell_type": "code",
      "source": [
        "def plot_umap_results_gram(umap_f_emb, ds):\n",
        "    fig, (ax1) = plt.subplots(1, 1, figsize=(20, 8))\n",
        "    umap.plot.points(umap_f_emb, labels=ds[\"type\"], ax=ax1)\n",
        "    plt.tight_layout()\n",
        "    plt.show()"
      ],
      "metadata": {
        "id": "9iU89VDaebbY"
      },
      "execution_count": null,
      "outputs": []
    },
    {
      "cell_type": "markdown",
      "metadata": {
        "id": "WJ--TzW8FdS7"
      },
      "source": [
        "### Функции реализации тестирования"
      ]
    },
    {
      "cell_type": "code",
      "execution_count": null,
      "metadata": {
        "id": "GOJHmXjzlVCW"
      },
      "outputs": [],
      "source": [
        "import time\n",
        "\n",
        "curr_global_key = \"api_key_1\"\n",
        "\n",
        "def get_model_response(message, api_keys, max_retries=15):\n",
        "    global curr_global_key\n",
        "    keys_list = list(api_keys.keys())\n",
        "    for retry in range(max_retries):\n",
        "        try:\n",
        "            # print(f\"Using API key: {curr_global_key}\")\n",
        "            time.sleep(1)\n",
        "            response = run_mistral(message, api_keys[curr_global_key])\n",
        "            # если запрос успешен, переключаемся на следующий ключ со следующим запросом\n",
        "            curr_global_key = keys_list[(keys_list.index(curr_global_key) + 1) % len(keys_list)]\n",
        "            return response\n",
        "        except Exception as e:\n",
        "            # если нет, то пробуем этот запрос с другим ключом\n",
        "            if 'Requests rate limit exceeded' in str(e) or 'Status 429' in str(e):\n",
        "                # print(f\"Rate limit hit for {curr_global_key}, trying with next key after 1s...\")\n",
        "                time.sleep(1)\n",
        "                curr_global_key = keys_list[(keys_list.index(curr_global_key) + 1) % len(keys_list)]\n",
        "                continue\n",
        "            else:\n",
        "                raise e  # если ошибка не связана с лимитом, выбрасываем дальше\n",
        "    raise Exception(\"Max retries reached\")"
      ]
    },
    {
      "cell_type": "code",
      "execution_count": null,
      "metadata": {
        "id": "eIRtDYPsoAxJ"
      },
      "outputs": [],
      "source": [
        "import re\n",
        "\n",
        "def process_model_response(message, correct_answer, get_model_response, api_keys):\n",
        "    try:\n",
        "        model_response = get_model_response(message=message, api_keys=api_keys)\n",
        "        if model_response:\n",
        "            digits = re.sub(r'\\D', '', model_response)\n",
        "            first_digit = digits[0] if digits else None\n",
        "            model_answer = int(first_digit) if first_digit else None\n",
        "            is_correct = model_answer == correct_answer\n",
        "            return model_answer, is_correct, model_response\n",
        "        else:\n",
        "            return None, False, None\n",
        "    except Exception as e:\n",
        "        print(f\"Failed to get response: {e}\")\n",
        "        return None, False, str(e)"
      ]
    },
    {
      "cell_type": "code",
      "execution_count": null,
      "metadata": {
        "id": "QRdwTjntnl6T"
      },
      "outputs": [],
      "source": [
        "class FewShotHandler:\n",
        "    def __init__(self, mapped_prompts=None, uid_dataset=None, uid_prompts_map=None):\n",
        "        self.mapped_prompts = mapped_prompts\n",
        "        self.uid_dataset = uid_dataset\n",
        "        self.uid_prompts_map = uid_prompts_map\n",
        "        self.uid_prompt_counter = {}\n",
        "\n",
        "    def get_few_shot_examples(self, idx, inquiry):\n",
        "        uid = inquiry['UID']\n",
        "        if uid not in self.uid_prompt_counter:\n",
        "            self.uid_prompt_counter[uid] = 0\n",
        "        # если готовые 1:1 промпты\n",
        "        if self.mapped_prompts and idx < len(self.mapped_prompts):\n",
        "            return self.mapped_prompts[idx]\n",
        "        # если few-shot примеры, привязанные к конкретным uid\n",
        "        if self.uid_dataset and uid in self.uid_dataset:\n",
        "            return self.uid_dataset[uid]\n",
        "        if self.uid_prompts_map and uid in self.uid_prompts_map:\n",
        "            prompt_index = self.uid_prompt_counter[uid]\n",
        "            if prompt_index < len(self.uid_prompts_map[uid]):\n",
        "                examples = self.uid_prompts_map[uid][prompt_index]\n",
        "                self.uid_prompt_counter[uid] += 1\n",
        "                return examples\n",
        "        return None"
      ]
    },
    {
      "cell_type": "code",
      "execution_count": null,
      "metadata": {
        "id": "p8xNuqXYARPD"
      },
      "outputs": [],
      "source": [
        "class ModelEvalStats:\n",
        "    def __init__(self):\n",
        "        self.statistics = {\n",
        "            \"field\": [], \"linguistics_term\": [], \"UID\": [], \"correct_answers\": [],\n",
        "            \"model_answers\": [], \"sentence_good\": [], \"sentence_bad\": [], \"is_correct\": [],\n",
        "            \"total_answers\": [], \"accuracy\": [],  \"full_response\": []\n",
        "        }\n",
        "\n",
        "    def add_result(self, inquiry, model_answer, correct_answer, is_correct, full_response):\n",
        "        self.statistics[\"field\"].append(inquiry['field'])\n",
        "        self.statistics[\"linguistics_term\"].append(inquiry['linguistics_term'])\n",
        "        self.statistics[\"UID\"].append(inquiry['UID'])\n",
        "        self.statistics[\"correct_answers\"].append(correct_answer)\n",
        "        self.statistics[\"model_answers\"].append(model_answer)\n",
        "        self.statistics[\"sentence_good\"].append(inquiry['sentence_good'])\n",
        "        self.statistics[\"sentence_bad\"].append(inquiry['sentence_bad'])\n",
        "        self.statistics[\"is_correct\"].append(is_correct)\n",
        "        self.statistics[\"total_answers\"].append(1)\n",
        "        self.statistics[\"accuracy\"].append(is_correct)\n",
        "        self.statistics[\"full_response\"].append(full_response)\n",
        "\n",
        "    def generate_reports(self):\n",
        "        df = pl.DataFrame(self.statistics)\n",
        "        reports = {\n",
        "            key: df.group_by(key).agg([\n",
        "                pl.col(\"is_correct\").sum().alias(\"correct_answers\"),\n",
        "                pl.col(\"total_answers\").sum().alias(\"total_answers\"),\n",
        "                pl.col(\"accuracy\").mean().alias(\"accuracy\")\n",
        "            ]).sort(\"accuracy\", descending=True)\n",
        "            for key in [\"field\", \"linguistics_term\", \"UID\"]\n",
        "        }\n",
        "        reports[\"overall_accuracy\"] = (df.select(pl.col(\"is_correct\").sum() / pl.col(\"total_answers\").sum()).item())\n",
        "        reports[\"detailed_eval\"] = df\n",
        "        return reports"
      ]
    },
    {
      "cell_type": "code",
      "execution_count": null,
      "metadata": {
        "id": "mYYcCp-CAeOA"
      },
      "outputs": [],
      "source": [
        "def evaluate_model(\n",
        "    dataset, user_message, get_correct_answer, get_model_response,\n",
        "    instruction, output_filename, few_shot=False, uid_dataset=None,\n",
        "    mapped_prompts=None, uid_prompts_map=None, api_keys=None, limit=None,\n",
        "    print_responses=False\n",
        "):\n",
        "    stats = ModelEvalStats()\n",
        "    few_shot_handler = FewShotHandler(mapped_prompts, uid_dataset, uid_prompts_map)\n",
        "    for i, inquiry in enumerate(tqdm(dataset, desc='Evaluating')):\n",
        "        if limit and i >= limit:\n",
        "            break\n",
        "        curr_instruction = instruction\n",
        "        if few_shot:\n",
        "            few_shot_examples = few_shot_handler.get_few_shot_examples(i, inquiry)\n",
        "            if few_shot_examples:\n",
        "                few_shot_prompt =  f\"\"\"\\nHere are some examples of grammatically correct and incorrect sentences: \\n\\n{few_shot_examples} \\n\\nNow, please, determine, \"\"\"\n",
        "                curr_instruction = few_shot_prompt + curr_instruction\n",
        "        message, sentences = user_message(inquiry, curr_instruction)\n",
        "        correct_answer = get_correct_answer(sentences, inquiry['sentence_good'])\n",
        "        model_answer, is_correct, full_response = process_model_response(\n",
        "            message, correct_answer, get_model_response, api_keys\n",
        "        )\n",
        "        if print_responses:\n",
        "            print(message)\n",
        "            print('\\n', '-'*500)\n",
        "            print(f'\\n>>> MODEL RESPONSE <<<\\n\\n{full_response}\\n')\n",
        "            print('-'*500, '\\n')\n",
        "        stats.add_result(inquiry, model_answer, correct_answer, is_correct, full_response)\n",
        "        # time.sleep(1)\n",
        "    results = ModelEvalStats.generate_reports(stats)\n",
        "    detailed_eval_df = results[\"detailed_eval\"]\n",
        "    output_path = f\"/content/drive/MyDrive/hw2/reports/{output_filename}.csv\"\n",
        "    detailed_eval_df.write_csv(output_path)\n",
        "    print(f\"Report saved to: {output_path}\")\n",
        "    print(f\"Overall Accuracy: {results['overall_accuracy']:.2%}\")\n",
        "    return results"
      ]
    },
    {
      "cell_type": "markdown",
      "metadata": {
        "id": "A-l2POpz-xKF"
      },
      "source": [
        "## Предобработка для использования эмбеддингов\n",
        "\n",
        "\n",
        "\n",
        "---"
      ]
    },
    {
      "cell_type": "markdown",
      "metadata": {
        "id": "rzUF2nlDfMtq"
      },
      "source": [
        "### Предобработка датасета"
      ]
    },
    {
      "cell_type": "code",
      "execution_count": null,
      "metadata": {
        "collapsed": true,
        "id": "p7UG89vpHAtH"
      },
      "outputs": [],
      "source": [
        "configs = get_dataset_config_names(\"nyu-mll/blimp\")\n",
        "datasets = []\n",
        "\n",
        "for config in tqdm(configs, desc=\"Loading\"):\n",
        "    ds = load_dataset(\"nyu-mll/blimp\", config)\n",
        "    datasets.append(ds[\"train\"])\n",
        "\n",
        "full_ds = concatenate_datasets(datasets)\n",
        "full_ds"
      ]
    },
    {
      "cell_type": "code",
      "execution_count": null,
      "metadata": {
        "id": "KfJo9XTogZaj",
        "collapsed": true
      },
      "outputs": [],
      "source": [
        "full_ds = pl.DataFrame(full_ds.to_dict())\n",
        "full_ds"
      ]
    },
    {
      "cell_type": "code",
      "execution_count": null,
      "metadata": {
        "id": "9ozqYEB7hOkm",
        "collapsed": true
      },
      "outputs": [],
      "source": [
        "id_vars = [col for col in full_ds.columns if col not in [\"sentence_good\", \"sentence_bad\"]]\n",
        "melted_ds = full_ds.unpivot(\n",
        "    index=id_vars,\n",
        "    on=[\"sentence_good\", \"sentence_bad\"],\n",
        "    variable_name=\"type\",\n",
        "    value_name=\"sentence\"\n",
        ")\n",
        "melted_ds = melted_ds.select([\"sentence\", \"type\"] + [col for col in melted_ds.columns if col not in [\"sentence\", \"type\"]])\n",
        "melted_ds.write_parquet('/content/drive/My Drive/hw2/melted_ds.parquet')\n",
        "melted_ds"
      ]
    },
    {
      "cell_type": "markdown",
      "metadata": {
        "id": "cAD-HQcMucY8"
      },
      "source": [
        "### Получение эмбеддингов и индексация"
      ]
    },
    {
      "cell_type": "code",
      "execution_count": null,
      "metadata": {
        "id": "MLyVgJvQgOya"
      },
      "outputs": [],
      "source": [
        "from mistralai import Mistral\n",
        "\n",
        "api_key = api_keys.get(\"api_key_1\")\n",
        "\n",
        "model = \"mistral-embed\"\n",
        "client = Mistral(api_key=api_key)\n",
        "\n",
        "embeddings_batch_response = client.embeddings.create(\n",
        "    model=model,\n",
        "    inputs=[\"Embed this sentence.\", \"As well as this one.\"],\n",
        ")"
      ]
    },
    {
      "cell_type": "code",
      "execution_count": null,
      "metadata": {
        "collapsed": true,
        "id": "f33bi8bRjatP"
      },
      "outputs": [],
      "source": [
        "embeddings_batch_response.data[0].embedding"
      ]
    },
    {
      "cell_type": "code",
      "execution_count": null,
      "metadata": {
        "id": "O4kE9lyIjJ_4"
      },
      "outputs": [],
      "source": [
        "len(embeddings_batch_response.data[0].embedding)"
      ]
    },
    {
      "cell_type": "code",
      "execution_count": null,
      "metadata": {
        "id": "zAyc8mfmj8hD"
      },
      "outputs": [],
      "source": [
        "def get_embeddings_by_chunks(data, chunk_size):\n",
        "    chunks = [data[x:x+chunk_size] for x in range(0, len(data), chunk_size)]\n",
        "    embeddings_response = [\n",
        "        client.embeddings.create(model=model, inputs=c) for c in chunks\n",
        "    ]\n",
        "    return [d.embedding for e in embeddings_response for d in e.data]"
      ]
    },
    {
      "cell_type": "code",
      "execution_count": null,
      "metadata": {
        "id": "cgaCYwBrmoAG"
      },
      "outputs": [],
      "source": [
        "model = \"mistral-embed\"\n",
        "curr_global_key = \"api_key_1\"\n",
        "\n",
        "def get_embeddings(data, chunk_size, api_keys, max_retries=15):\n",
        "    global curr_global_key\n",
        "    keys_list = list(api_keys.keys())\n",
        "    chunks = [data[x:x + chunk_size] for x in range(0, len(data), chunk_size)]\n",
        "    embeddings = []\n",
        "    for chunk in tqdm(chunks, desc=\"Embedding chunks\"):\n",
        "        for retry in range(max_retries):\n",
        "            try:\n",
        "                # print(f\"Using API key: {curr_global_key}\")\n",
        "                time.sleep(1)\n",
        "                client = Mistral(api_key=api_keys[curr_global_key])\n",
        "                response = client.embeddings.create(model=model, inputs=chunk)\n",
        "                embeddings.extend([d.embedding for d in response.data])\n",
        "                # если запрос успешен, переключаемся на следующий ключ со следующим запросом\n",
        "                curr_global_key = keys_list[(keys_list.index(curr_global_key) + 1) % len(keys_list)]\n",
        "                break\n",
        "            except Exception as e:\n",
        "                # если нет, то пробуем этот запрос с другим ключом\n",
        "                if 'Requests rate limit exceeded' in str(e) or 'Status 429' in str(e):\n",
        "                    # print(f\"Rate limit hit for {curr_global_key}, trying with next key after 3s...\")\n",
        "                    time.sleep(3)\n",
        "                    curr_global_key = keys_list[(keys_list.index(curr_global_key) + 1) % len(keys_list)]\n",
        "                    continue\n",
        "                else:\n",
        "                    # если ошибка не связана с лимитом, выбрасываем дальше\n",
        "                    raise e\n",
        "        else:\n",
        "            # если перебрали все ретраи и не получилось - выбрасываем ошибку\n",
        "            raise Exception(f\"Max retries reached for chunk: {chunk}\")\n",
        "    embeddings_array = np.array(embeddings, dtype=np.float32)\n",
        "    np.save('/content/drive/My Drive/hw2/embeddings.npy', embeddings_array)\n",
        "    return embeddings_array"
      ]
    },
    {
      "cell_type": "code",
      "execution_count": null,
      "metadata": {
        "id": "ZtOHTNObnUph"
      },
      "outputs": [],
      "source": [
        "embeddings = get_embeddings(melted_ds['sentence'].to_list(), 670, api_keys)"
      ]
    },
    {
      "cell_type": "code",
      "execution_count": null,
      "metadata": {
        "id": "jMnZTi0g24nK"
      },
      "outputs": [],
      "source": [
        "embeddings = np.load('/content/drive/My Drive/hw2/embeddings.npy')\n",
        "embeddings.shape"
      ]
    },
    {
      "cell_type": "code",
      "execution_count": null,
      "metadata": {
        "collapsed": true,
        "id": "2mhf4n07llcK"
      },
      "outputs": [],
      "source": [
        "melted_ds = melted_ds.with_columns(\n",
        "    pl.Series(\"embeddings\", embeddings)\n",
        ")\n",
        "# паркет вместо csv: тоже лучше/оптимальнее работает для таких объемов\n",
        "melted_ds.write_parquet('/content/drive/My Drive/hw2/melted_ds_with_embeddings.parquet')\n",
        "melted_ds"
      ]
    },
    {
      "cell_type": "code",
      "execution_count": null,
      "metadata": {
        "id": "v6wavRVHi7A2"
      },
      "outputs": [],
      "source": [
        "import faiss\n",
        "\n",
        "dimension = embeddings.shape[1]\n",
        "index = faiss.IndexFlatL2(dimension)\n",
        "index.add(embeddings)"
      ]
    },
    {
      "cell_type": "code",
      "execution_count": null,
      "metadata": {
        "id": "c-yMyD1JoE9g"
      },
      "outputs": [],
      "source": [
        "faiss.write_index(index, \"/content/drive/My Drive/hw2/faiss.index\")"
      ]
    },
    {
      "cell_type": "markdown",
      "metadata": {
        "id": "aB70cdB3uL6I"
      },
      "source": [
        "### Визуализация"
      ]
    },
    {
      "cell_type": "code",
      "execution_count": null,
      "metadata": {
        "id": "Gzo3PeorRXDK"
      },
      "outputs": [],
      "source": [
        "import polars as pl\n",
        "\n",
        "melted_ds = pl.read_parquet('/content/drive/My Drive/hw2/melted_ds_with_embeddings.parquet')"
      ]
    },
    {
      "cell_type": "code",
      "execution_count": null,
      "metadata": {
        "id": "RX2yhnjtXwND"
      },
      "outputs": [],
      "source": [
        "import numpy as np\n",
        "from tqdm import tqdm\n",
        "from scipy.spatial.distance import cosine\n",
        "\n",
        "def cosine_distances(embeddings):\n",
        "    n_pairs = 67000\n",
        "    distances = np.zeros(n_pairs)\n",
        "    for i in tqdm(range(n_pairs), desc='Computing'):\n",
        "        distances[i] = cosine(embeddings[i], embeddings[i+n_pairs])\n",
        "    return distances\n",
        "\n",
        "pair_distances = cosine_distances(embeddings)\n",
        "pair_distances"
      ]
    },
    {
      "cell_type": "code",
      "execution_count": null,
      "metadata": {
        "id": "s0sHa08iajnb"
      },
      "outputs": [],
      "source": [
        "import pandas as pd\n",
        "\n",
        "# базовая описательная статистика по расстояниям в парах\n",
        "series = pd.Series(pair_distances)\n",
        "report = series.describe()\n",
        "report"
      ]
    },
    {
      "cell_type": "code",
      "execution_count": null,
      "metadata": {
        "id": "fILFp2gI0_7m"
      },
      "outputs": [],
      "source": [
        "n_per_class = 6700 // melted_ds[\"type\"].n_unique()\n",
        "sample = create_sample(melted_ds, n_per_class, group_by_col=\"type\")\n",
        "embeddings_sample = np.vstack(sample[\"embeddings\"].to_list())\n",
        "# как оказалось, tsne для полного датасета работал бы очень долго, поэтому делала на части выборки\n",
        "# потом перешла на umap (но он требует gpu - и довольно быстро его расходует)\n",
        "ax, tsne_results = create_tsne_plot(embeddings_sample, sample[\"type\"].to_list())\n",
        "plt.show()"
      ]
    },
    {
      "cell_type": "code",
      "execution_count": null,
      "metadata": {
        "id": "RKwgaQDlM10w"
      },
      "outputs": [],
      "source": [
        "create_facet_grid(\n",
        "    embedding=tsne_results,\n",
        "    labels=sample[\"type\"].to_list(),\n",
        "    plot_type=\"t-SNE\",\n",
        "    col_wrap=2\n",
        ")"
      ]
    },
    {
      "cell_type": "code",
      "execution_count": null,
      "metadata": {
        "id": "3jQYJTjXQJaa"
      },
      "outputs": [],
      "source": [
        "import umap\n",
        "import umap.plot\n",
        "from umap import UMAP\n",
        "from plotly.express import scatter\n",
        "\n",
        "umap_emb = umap.UMAP(n_components=2, metric='cosine').fit(embeddings)"
      ]
    },
    {
      "cell_type": "code",
      "execution_count": null,
      "metadata": {
        "id": "1gO-XnYzP1YT"
      },
      "outputs": [],
      "source": [
        "f = umap.plot.points(umap_emb, labels=melted_ds[\"type\"])"
      ]
    },
    {
      "cell_type": "code",
      "execution_count": null,
      "metadata": {
        "id": "HV7KUObAgReK"
      },
      "outputs": [],
      "source": [
        "create_facet_grid(\n",
        "    embedding=umap_emb.embedding_,\n",
        "    labels=melted_ds[\"type\"],\n",
        "    plot_type=\"UMAP\",\n",
        "    col_wrap=2,\n",
        "    height=10,\n",
        "    dot_size=1\n",
        ")"
      ]
    },
    {
      "cell_type": "code",
      "source": [
        "# грамматичные\n",
        "umap_emb = umap.UMAP(n_components=2, metric='cosine').fit(embeddings[:67000])\n",
        "plot_umap_results(umap_emb, melted_ds[:67000])"
      ],
      "metadata": {
        "id": "W_GfI975dBXp"
      },
      "execution_count": null,
      "outputs": []
    },
    {
      "cell_type": "code",
      "source": [
        "# неграмматичные\n",
        "umap_emb = umap.UMAP(n_components=2, metric='cosine').fit(embeddings[67000:])\n",
        "plot_umap_results(umap_emb, melted_ds[67000:])"
      ],
      "metadata": {
        "id": "J7iF2UELeGtW"
      },
      "execution_count": null,
      "outputs": []
    },
    {
      "cell_type": "code",
      "execution_count": null,
      "metadata": {
        "id": "I6Treplz6EOc"
      },
      "outputs": [],
      "source": [
        "n_per_class = 6700 // melted_ds[\"field\"].n_unique()\n",
        "sample = create_sample(melted_ds, n_per_class, group_by_col=\"field\")\n",
        "embeddings_sample = np.vstack(sample[\"embeddings\"].to_list())\n",
        "ax, tsne_results = create_tsne_plot(embeddings_sample, sample[\"field\"].to_list())\n",
        "plt.show()"
      ]
    },
    {
      "cell_type": "code",
      "execution_count": null,
      "metadata": {
        "id": "YfucqxKaQu1E"
      },
      "outputs": [],
      "source": [
        "create_facet_grid(\n",
        "    embedding=tsne_results,\n",
        "    labels=sample[\"field\"].to_list(),\n",
        "    plot_type=\"t-SNE\",\n",
        "    col_wrap=5,\n",
        "    height=3,\n",
        "    dot_size=1\n",
        ")"
      ]
    },
    {
      "cell_type": "code",
      "execution_count": null,
      "metadata": {
        "id": "T79u7tkKh14K"
      },
      "outputs": [],
      "source": [
        "f = umap.plot.points(umap_emb, labels=melted_ds[\"field\"])"
      ]
    },
    {
      "cell_type": "code",
      "execution_count": null,
      "metadata": {
        "id": "dADbLfcTiM_A"
      },
      "outputs": [],
      "source": [
        "create_facet_grid(\n",
        "    embedding=umap_emb.embedding_,\n",
        "    labels=melted_ds[\"type\"],\n",
        "    plot_type=\"UMAP\",\n",
        "    col_wrap=5,\n",
        "    height=10,\n",
        "    dot_size=1\n",
        ")"
      ]
    },
    {
      "cell_type": "code",
      "execution_count": null,
      "metadata": {
        "id": "3rXdFnoPiI8p"
      },
      "outputs": [],
      "source": [
        "n_per_class = 6700 // melted_ds[\"linguistics_term\"].n_unique()\n",
        "sample = create_sample(melted_ds, n_per_class, group_by_col=\"linguistics_term\")\n",
        "embeddings_sample = np.vstack(sample[\"embeddings\"].to_list())\n",
        "ax = create_tsne_plot(embeddings_sample, sample[\"linguistics_term\"].to_list())\n",
        "plt.show()"
      ]
    },
    {
      "cell_type": "code",
      "execution_count": null,
      "metadata": {
        "id": "fyBJC6j_OdNk"
      },
      "outputs": [],
      "source": [
        "tsne_df = pd.DataFrame({\n",
        "    \"t-SNE 1\": tsne_results[:, 0],\n",
        "    \"t-SNE 2\": tsne_results[:, 1],\n",
        "    \"type\": sample[\"linguistics_term\"].to_list()\n",
        "})\n",
        "\n",
        "g = sns.FacetGrid(tsne_df, col=\"type\", col_wrap=7)\n",
        "g.map_dataframe(sns.scatterplot, x=\"t-SNE 1\", y=\"t-SNE 2\", s=3)\n",
        "plt.show()"
      ]
    },
    {
      "cell_type": "code",
      "execution_count": null,
      "metadata": {
        "id": "d7Hm-itXi4iG"
      },
      "outputs": [],
      "source": [
        "f = umap.plot.points(umap_emb, labels=melted_ds[\"linguistics_term\"])\n",
        "labels = np.unique(melted_ds[\"linguistics_term\"])\n",
        "for label in labels:\n",
        "    plt.scatter([], [], label=label)\n",
        "plt.legend(fontsize=7)\n",
        "plt.tight_layout()\n",
        "plt.show()"
      ]
    },
    {
      "cell_type": "code",
      "execution_count": null,
      "metadata": {
        "id": "tzeaKFb9lmrr"
      },
      "outputs": [],
      "source": [
        "umap_df = pd.DataFrame({\n",
        "    'UMAP1': umap_emb.embedding_[:, 0],\n",
        "    'UMAP2': umap_emb.embedding_[:, 1],\n",
        "    'type': melted_ds[\"linguistics_term\"]\n",
        "})\n",
        "\n",
        "g = sns.FacetGrid(umap_df, col=\"type\", col_wrap=7, height=5)\n",
        "g.map_dataframe(sns.scatterplot, x=\"UMAP1\", y=\"UMAP2\", s=1)\n",
        "plt.show()"
      ]
    },
    {
      "cell_type": "markdown",
      "metadata": {
        "id": "crpxdu-M_u41"
      },
      "source": [
        "### Получение few-shot примеров"
      ]
    },
    {
      "cell_type": "code",
      "execution_count": null,
      "metadata": {
        "collapsed": true,
        "id": "s6lAuEZijYkL"
      },
      "outputs": [],
      "source": [
        "import polars as pl\n",
        "pl.Config.set_fmt_str_lengths(200)\n",
        "\n",
        "melted_ds = pl.read_parquet('/content/drive/My Drive/hw2/melted_ds_with_embeddings.parquet')\n",
        "melted_ds = melted_ds.with_columns(pl.concat([pl.arange(0, 67000),  pl.arange(0, 67000)]).alias('pair_id'))\n",
        "melted_ds.write_parquet('/content/drive/My Drive/hw2/melted_ds_with_embeddings.parquet')\n",
        "exclude_cols = ['simple_LM_method',\t'one_prefix_method', 'two_prefix_method',\t'lexically_identical']\n",
        "melted_ds = melted_ds.select([col for col in melted_ds.columns if col not in exclude_cols])\n",
        "melted_ds"
      ]
    },
    {
      "cell_type": "code",
      "execution_count": null,
      "metadata": {
        "collapsed": true,
        "id": "dyo_-e8YmsLf"
      },
      "outputs": [],
      "source": [
        "df_good = melted_ds.filter(pl.col('type') == 'sentence_good')\n",
        "df_good.head()"
      ]
    },
    {
      "cell_type": "code",
      "execution_count": null,
      "metadata": {
        "id": "tPs1dakNpswV"
      },
      "outputs": [],
      "source": [
        "import numpy as np\n",
        "\n",
        "embeddings_good = np.vstack(df_good['embeddings'])\n",
        "embeddings_good = embeddings_good.astype('float32')\n",
        "embeddings_good.shape"
      ]
    },
    {
      "cell_type": "code",
      "execution_count": null,
      "metadata": {
        "id": "kkvX3DPf-qWu"
      },
      "outputs": [],
      "source": [
        "embedding = embeddings_good[1].reshape(1, -1)\n",
        "embedding"
      ]
    },
    {
      "cell_type": "code",
      "execution_count": null,
      "metadata": {
        "id": "Tdw6jeiO8YW1"
      },
      "outputs": [],
      "source": [
        "import faiss\n",
        "\n",
        "index = faiss.read_index(\"/content/drive/My Drive/hw2/faiss.index\")\n",
        "distances, indices = index.search(embedding, k=10)\n",
        "for i, d in zip(indices.flatten(), distances.flatten()):\n",
        "  print(i, '\\t', d)"
      ]
    },
    {
      "cell_type": "code",
      "execution_count": null,
      "metadata": {
        "id": "vBWN73cmIG6J"
      },
      "outputs": [],
      "source": [
        "neighbours = melted_ds[indices.flatten()]\n",
        "neighbours"
      ]
    },
    {
      "cell_type": "code",
      "execution_count": null,
      "metadata": {
        "id": "uRxNOjHcdRcK"
      },
      "outputs": [],
      "source": [
        "print(neighbours['pair_id'].to_list())\n",
        "print(list(dict.fromkeys(neighbours['pair_id'])))"
      ]
    },
    {
      "cell_type": "code",
      "execution_count": null,
      "metadata": {
        "id": "-rAYVHZhpjol"
      },
      "outputs": [],
      "source": [
        "distances_good, indices_good = find_neighbors(embeddings_good)\n",
        "np.save('/content/drive/My Drive/hw2/distances_good.npy', distances_good)\n",
        "np.save('/content/drive/My Drive/hw2/indices_good.npy', indices_good)\n",
        "df_good = df_good.with_columns(pl.Series(name='neighbour_indices', values=indices_good.tolist()))\n",
        "df_good.head()"
      ]
    },
    {
      "cell_type": "code",
      "execution_count": null,
      "metadata": {
        "id": "9rUgpiqpd2Z_"
      },
      "outputs": [],
      "source": [
        "pairs_good = get_pairs(indices_good)\n",
        "np.save('/content/drive/My Drive/hw2/pairs_good.npy', pairs_good)\n",
        "df_good = df_good.with_columns(pl.Series(name='prompt_pairs', values=pairs_good))\n",
        "df_good.write_parquet('/content/drive/My Drive/hw2/df_good.parquet')\n",
        "df_good.head()"
      ]
    },
    {
      "cell_type": "markdown",
      "source": [
        "\n",
        "\n",
        "---\n",
        "\n"
      ],
      "metadata": {
        "id": "ZSnInsvyFVq7"
      }
    },
    {
      "cell_type": "code",
      "execution_count": null,
      "metadata": {
        "id": "v9F01jKGDUQK"
      },
      "outputs": [],
      "source": [
        "df_bad = melted_ds.filter(pl.col('type') == 'sentence_bad')\n",
        "embeddings_bad = np.vstack(df_bad['embeddings'])\n",
        "embeddings_bad = embeddings_bad.astype('float32')\n",
        "distances_bad, indices_bad = find_neighbors(embeddings_bad)\n",
        "np.save('/content/drive/My Drive/hw2/distances_bad.npy', distances_bad)\n",
        "np.save('/content/drive/My Drive/hw2/indices_bad.npy', indices_bad)\n",
        "df_bad = df_bad.with_columns(pl.Series(name='neighbour_indices', values=indices_bad.tolist()))\n",
        "df_bad.head()"
      ]
    },
    {
      "cell_type": "code",
      "execution_count": null,
      "metadata": {
        "id": "KCZOdTD56YvN"
      },
      "outputs": [],
      "source": [
        "pairs_bad = get_pairs(indices_bad)\n",
        "np.save('/content/drive/My Drive/hw2/pairs_bad.npy', pairs_bad)\n",
        "df_bad = df_bad.with_columns(pl.Series(name='prompt_pairs', values=pairs_bad))\n",
        "df_bad.write_parquet('/content/drive/My Drive/hw2/df_bad.parquet')\n",
        "df_bad.head()"
      ]
    },
    {
      "cell_type": "code",
      "execution_count": null,
      "metadata": {
        "collapsed": true,
        "id": "J3ilSfA5jB-m"
      },
      "outputs": [],
      "source": [
        "df_full = pl.concat([df_good, df_bad])\n",
        "df_full.write_parquet('/content/drive/My Drive/hw2/df_full.parquet')\n",
        "df_full"
      ]
    },
    {
      "cell_type": "markdown",
      "metadata": {
        "id": "XPsG9009dhKv"
      },
      "source": [
        "## Предобработка для использования эмбеддингов пар\n",
        "\n",
        "\n",
        "---\n",
        "\n"
      ]
    },
    {
      "cell_type": "markdown",
      "metadata": {
        "id": "-E1QNDVi-LiU"
      },
      "source": [
        "### Получение эмбеддингов и индексация"
      ]
    },
    {
      "cell_type": "code",
      "execution_count": null,
      "metadata": {
        "id": "giWPBBvNeHFS"
      },
      "outputs": [],
      "source": [
        "import numpy as np\n",
        "\n",
        "embeddings = np.load('/content/drive/My Drive/hw2/embeddings.npy')"
      ]
    },
    {
      "cell_type": "code",
      "source": [
        "from sklearn.preprocessing import LabelEncoder\n",
        "le = LabelEncoder()\n",
        "labels = le.fit_transform(uid)\n",
        "labels"
      ],
      "metadata": {
        "id": "w20PIwGI-inb"
      },
      "execution_count": null,
      "outputs": []
    },
    {
      "cell_type": "code",
      "source": [
        "import polars as pl\n",
        "melted_ds = pl.read_parquet('/content/drive/My Drive/hw2/melted_ds.parquet')"
      ],
      "metadata": {
        "id": "ky7RVHje9m37"
      },
      "execution_count": null,
      "outputs": []
    },
    {
      "cell_type": "code",
      "source": [
        "uid = melted_ds['UID'].to_list()"
      ],
      "metadata": {
        "id": "w_Y74Msq9x1b"
      },
      "execution_count": null,
      "outputs": []
    },
    {
      "cell_type": "code",
      "execution_count": null,
      "metadata": {
        "id": "vc1VhrsF4iR2"
      },
      "outputs": [],
      "source": [
        "import polars as pl\n",
        "pl.Config.set_fmt_str_lengths(200)\n",
        "\n",
        "melted_ds = pl.read_parquet('/content/drive/My Drive/hw2/melted_ds_with_embeddings.parquet')\n",
        "exclude_cols = ['simple_LM_method',\t'one_prefix_method', 'two_prefix_method',\t'lexically_identical']\n",
        "melted_ds = melted_ds.select([col for col in melted_ds.columns if col not in exclude_cols])"
      ]
    },
    {
      "cell_type": "code",
      "execution_count": null,
      "metadata": {
        "id": "cva7B4UJ8b26"
      },
      "outputs": [],
      "source": [
        "melted_ds[0]"
      ]
    },
    {
      "cell_type": "code",
      "execution_count": null,
      "metadata": {
        "id": "aPjHc7vk8uwt"
      },
      "outputs": [],
      "source": [
        "melted_ds[6700]"
      ]
    },
    {
      "cell_type": "code",
      "execution_count": null,
      "metadata": {
        "id": "yUlrsqWjdgFT"
      },
      "outputs": [],
      "source": [
        "from tqdm import tqdm\n",
        "\n",
        "def average_embeddings(embeddings):\n",
        "    n_pairs = len(embeddings) // 2\n",
        "    averaged = np.zeros_like(embeddings[:n_pairs])\n",
        "    for i in tqdm(range(n_pairs), desc=\"Averaging\"):\n",
        "        averaged[i] = (embeddings[i] + embeddings[i+n_pairs]) / 2\n",
        "    return averaged\n",
        "\n",
        "avg_embeddings = average_embeddings(embeddings)\n",
        "np.save('/content/drive/My Drive/hw2/mean_embeddings.npy', avg_embeddings)\n",
        "avg_embeddings.shape"
      ]
    },
    {
      "cell_type": "code",
      "execution_count": null,
      "metadata": {
        "id": "xv_fd3r4GsT0"
      },
      "outputs": [],
      "source": [
        "def substract_embeddings(embeddings):\n",
        "    n_pairs = len(embeddings) // 2\n",
        "    differences = np.zeros_like(embeddings[:n_pairs])\n",
        "    for i in tqdm(range(n_pairs), desc=\"Substracting\"):\n",
        "        differences[i] = embeddings[i] - embeddings[i+n_pairs]\n",
        "    return differences\n",
        "\n",
        "# diff_embeddings = substract_embeddings(embeddings)\n",
        "# np.save('/content/drive/My Drive/hw2/diff_embeddings.npy', diff_embeddings)\n",
        "# diff_embeddings.shape"
      ]
    },
    {
      "cell_type": "code",
      "source": [
        "from tqdm import tqdm\n",
        "import numpy as np\n",
        "\n",
        "def concatenate(embeddings):\n",
        "    n_pairs = len(embeddings) // 2\n",
        "    d = embeddings.shape[1]\n",
        "    concatenated = np.zeros((n_pairs, 2*d))\n",
        "    for i in tqdm(range(n_pairs), desc=\"Concatenating\"):\n",
        "        concatenated[i] = np.concatenate([embeddings[i], embeddings[i+n_pairs]])\n",
        "    return concatenated\n",
        "\n",
        "cnc_embeddings = concatenate(embeddings)\n",
        "np.save('/content/drive/My Drive/hw2/cnc_diff_embeddings.npy', cnc_embeddings)\n",
        "cnc_embeddings.shape"
      ],
      "metadata": {
        "id": "xxnmOzT-sxMj"
      },
      "execution_count": null,
      "outputs": []
    },
    {
      "cell_type": "code",
      "source": [
        "import numpy as np\n",
        "from tqdm import tqdm\n",
        "\n",
        "def concatenate_with_diff(embeddings):\n",
        "    n_pairs = len(embeddings) // 2\n",
        "    d = embeddings.shape[1]\n",
        "    concatenated = np.zeros((n_pairs, 3*d))\n",
        "    for i in tqdm(range(n_pairs), desc=\"Concatenating with difference\"):\n",
        "        gr = embeddings[i]\n",
        "        ungr = embeddings[i+n_pairs]\n",
        "        concatenated[i] = np.concatenate([gr, ungr, gr-ungr])\n",
        "    return concatenated\n",
        "\n",
        "cnc_diff_embeddings = concatenate_with_diff(embeddings)\n",
        "np.save('/content/drive/My Drive/hw2/cnc_diff_embeddings.npy', cnc_diff_embeddings)\n",
        "cnc_diff_embeddings.shape"
      ],
      "metadata": {
        "id": "ahFRBbPEsDwc"
      },
      "execution_count": null,
      "outputs": []
    },
    {
      "cell_type": "code",
      "source": [
        "def concatenate_mean_and_diff(embeddings):\n",
        "    n_pairs = len(embeddings) // 2\n",
        "    d = embeddings.shape[1]\n",
        "    concatenated = np.zeros((n_pairs, 2*d))\n",
        "    for i in tqdm(range(n_pairs), desc=\"Concatenating mean and difference\"):\n",
        "        gr = embeddings[i]\n",
        "        ungr = embeddings[i+n_pairs]\n",
        "        mean_vector = (gr+ungr)/2\n",
        "        diff_vector = gr-ungr\n",
        "        concatenated[i] = np.concatenate([mean_vector, diff_vector])\n",
        "    return concatenated\n",
        "\n",
        "mean_diff_embeddings = concatenate_mean_and_diff(embeddings)\n",
        "np.save('/content/drive/My Drive/hw2/mean_diff_embeddings.npy', mean_diff_embeddings)\n",
        "mean_diff_embeddings.shape"
      ],
      "metadata": {
        "id": "i12J_AW1it-q"
      },
      "execution_count": null,
      "outputs": []
    },
    {
      "cell_type": "code",
      "source": [
        "def product(embeddings):\n",
        "    n_pairs = len(embeddings) // 2\n",
        "    d = embeddings.shape[1]\n",
        "    products = np.zeros((n_pairs, d))\n",
        "    for i in tqdm(range(n_pairs), desc=\"Taking product\"):\n",
        "        gr = embeddings[i]\n",
        "        ungr = embeddings[i+n_pairs]\n",
        "        products[i] = gr*ungr\n",
        "    return products\n",
        "\n",
        "prod_embeddings = product(embeddings)\n",
        "np.save('/content/drive/My Drive/hw2/prod_embeddings.npy', prod_embeddings)"
      ],
      "metadata": {
        "id": "woheZUTY9Yow"
      },
      "execution_count": null,
      "outputs": []
    },
    {
      "cell_type": "code",
      "source": [
        "def concatenate_product_and_diff(embeddings):\n",
        "    n_pairs = len(embeddings) // 2\n",
        "    d = embeddings.shape[1]\n",
        "    concatenated = np.zeros((n_pairs, 2*d))\n",
        "    for i in tqdm(range(n_pairs), desc=\"Concatenating product and difference\"):\n",
        "        gr = embeddings[i]\n",
        "        ungr = embeddings[i+n_pairs]\n",
        "        concatenated[i] = np.concatenate([gr*ungr, gr-ungr])\n",
        "    return concatenated\n",
        "\n",
        "prod_diff_embeddings = concatenate_product_and_diff(embeddings)\n",
        "np.save('/content/drive/My Drive/hw2/prod_diff_embeddings.npy', prod_diff_embeddings)\n",
        "prod_diff_embeddings.shape"
      ],
      "metadata": {
        "id": "SSFQqEaRWVwF"
      },
      "execution_count": null,
      "outputs": []
    },
    {
      "cell_type": "markdown",
      "source": [
        "\n",
        "\n",
        "---------------------------------------------\n"
      ],
      "metadata": {
        "id": "2Jg4wWoA9bQ3"
      }
    },
    {
      "cell_type": "code",
      "source": [
        "import faiss\n",
        "\n",
        "def create_index(embeddings):\n",
        "    dimension = embeddings.shape[1]\n",
        "    index = faiss.IndexFlatL2(dimension)\n",
        "    index.add(embeddings)\n",
        "    return index"
      ],
      "metadata": {
        "id": "rHpg9qQatV4U"
      },
      "execution_count": null,
      "outputs": []
    },
    {
      "cell_type": "code",
      "source": [
        "f_index = create_index(f_embeddings)\n",
        "faiss.write_index(f_index, \"/content/drive/My Drive/hw2/f_index.index\")"
      ],
      "metadata": {
        "id": "_JepV6F78CFS"
      },
      "execution_count": null,
      "outputs": []
    },
    {
      "cell_type": "code",
      "source": [
        "prod_diff_index = create_index(prod_diff_embeddings)\n",
        "faiss.write_index(prod_diff_index, \"/content/drive/My Drive/hw2/prod_diff_index.index\")"
      ],
      "metadata": {
        "id": "OkxWRH3FW7nY"
      },
      "execution_count": null,
      "outputs": []
    },
    {
      "cell_type": "code",
      "source": [
        "prod_index = create_index(prod_embeddings)\n",
        "faiss.write_index(prod_index, \"/content/drive/My Drive/hw2/prod_index.index\")"
      ],
      "metadata": {
        "id": "0Kt0dv-r-AR9"
      },
      "execution_count": null,
      "outputs": []
    },
    {
      "cell_type": "code",
      "source": [
        "cnc_diff_index = create_index(cnc_diff_embeddings)\n",
        "faiss.write_index(cnc_diff_index, \"/content/drive/My Drive/hw2/cnc_diff_index.index\")"
      ],
      "metadata": {
        "id": "W2CAbzJ6sfz3"
      },
      "execution_count": null,
      "outputs": []
    },
    {
      "cell_type": "code",
      "source": [
        "mean_diff_index = create_index(mean_diff_embeddings)\n",
        "faiss.write_index(mean_diff_index, \"/content/drive/My Drive/hw2/mean_diff_index.index\")"
      ],
      "metadata": {
        "id": "9VN46PIUj8UO"
      },
      "execution_count": null,
      "outputs": []
    },
    {
      "cell_type": "code",
      "execution_count": null,
      "metadata": {
        "id": "o6b2DDDq9AK4"
      },
      "outputs": [],
      "source": [
        "avg_index = create_index(avg_embeddings)\n",
        "faiss.write_index(avg_index, \"/content/drive/My Drive/hw2/avg_index.index\")"
      ]
    },
    {
      "cell_type": "code",
      "execution_count": null,
      "metadata": {
        "id": "UOUf5h08HnIU"
      },
      "outputs": [],
      "source": [
        "diff_index = create_index(diff_embeddings)\n",
        "faiss.write_index(diff_index, \"/content/drive/My Drive/hw2/diff_index.index\")"
      ]
    },
    {
      "cell_type": "code",
      "source": [
        "cnc_index = create_index(cnc_embeddings)\n",
        "faiss.write_index(cnc_index, \"/content/drive/My Drive/hw2/cnc_index.index\")"
      ],
      "metadata": {
        "id": "Avjhgxbetdkb"
      },
      "execution_count": null,
      "outputs": []
    },
    {
      "cell_type": "code",
      "source": [
        "cnc_diff_index = create_index(cnc_diff_embeddings)\n",
        "faiss.write_index(cnc_diff_index, \"/content/drive/My Drive/hw2/cnc_diff_index.index\")"
      ],
      "metadata": {
        "id": "dzLeAa3qtvBB"
      },
      "execution_count": null,
      "outputs": []
    },
    {
      "cell_type": "code",
      "source": [
        "import numpy as np\n",
        "\n",
        "# avg_embeddings = np.load('/content/drive/My Drive/hw2/mean_embeddings.npy').astype(np.float32)\n",
        "# cnc_embeddings = np.load('/content/drive/My Drive/hw2/cnc_embeddings.npy').astype(np.float32)\n",
        "diff_embeddings = np.load('/content/drive/My Drive/hw2/diff_embeddings.npy')\n",
        "# cnc_diff_embeddings = np.load('/content/drive/My Drive/hw2/cnc_diff_embeddings.npy')"
      ],
      "metadata": {
        "id": "hSPq7mdDtyQC"
      },
      "execution_count": null,
      "outputs": []
    },
    {
      "cell_type": "code",
      "source": [
        "from sklearn.preprocessing import normalize\n",
        "\n",
        "embeddings = np.load('/content/drive/My Drive/hw2/embeddings.npy')\n",
        "norm_embeddings = normalize(embeddings, norm='l2', axis=1)\n",
        "norm_diff_embeddings = substract_embeddings(embeddings)\n",
        "norm_diff_index = create_index(norm_diff_embeddings)"
      ],
      "metadata": {
        "id": "RIuJQIUN_XPW"
      },
      "execution_count": null,
      "outputs": []
    },
    {
      "cell_type": "code",
      "source": [
        "faiss.write_index(norm_diff_index, \"/content/drive/My Drive/hw2/norm_diff_index.index\")\n",
        "np.save('/content/drive/My Drive/hw2/norm_diff_embeddings.npy', norm_diff_embeddings)"
      ],
      "metadata": {
        "id": "5o6UWYQiAJSK"
      },
      "execution_count": null,
      "outputs": []
    },
    {
      "cell_type": "markdown",
      "metadata": {
        "id": "Us8v1dmfApTx"
      },
      "source": [
        "### Визуализация"
      ]
    },
    {
      "cell_type": "code",
      "execution_count": null,
      "metadata": {
        "id": "1Dp5akUEBMTx"
      },
      "outputs": [],
      "source": [
        "# from datasets import load_dataset, concatenate_datasets, get_dataset_config_names\n",
        "# from tqdm import tqdm\n",
        "import polars as pl\n",
        "import numpy as np\n",
        "\n",
        "# configs = get_dataset_config_names(\"nyu-mll/blimp\")\n",
        "# datasets = []\n",
        "\n",
        "# for config in tqdm(configs, desc=\"Loading\"):\n",
        "#     ds = load_dataset(\"nyu-mll/blimp\", config)\n",
        "#     datasets.append(ds[\"train\"])\n",
        "\n",
        "# full_ds = concatenate_datasets(datasets)\n",
        "# full_ds = pl.DataFrame(full_ds.to_dict())\n",
        "full_ds = pl.read_parquet('/content/drive/My Drive/hw2/original_ds.parquet')\n",
        "# diff_embeddings = np.load('/content/drive/My Drive/hw2/diff_embeddings.npy')\n",
        "# cross_attn_embeddings = np.load('/content/drive/My Drive/hw2/cross_attn_embeddings.npy')\n",
        "# mean_diff_embeddings = np.load('/content/drive/My Drive/hw2/mean_diff_embeddings.npy')\n",
        "# full_ds = full_ds.with_columns(pl.Series(\"avg_embeddings\", avg_embeddings.tolist()))\n",
        "# full_ds = full_ds.with_columns(pl.Series(\"cross_attn_embeddings\", cross_attn_embeddings))\n",
        "full_ds = full_ds.with_columns(pl.Series(\"f_diff_embeddings\", f_diff_embeddings))\n",
        "# full_ds = full_ds.with_columns(pl.Series(\"diff_embeddings\", diff_embeddings.tolist()))\n",
        "# full_ds = full_ds.with_columns(pl.Series(\"cnc_embeddings\", cnc_embeddings.tolist()))\n",
        "# full_ds = full_ds.with_columns(pl.Series(\"cnc_diff_embeddings\", cnc_diff_embeddings.tolist()))\n",
        "full_ds = full_ds.with_columns(pl.arange(0, 67000).alias('pair_id'))\n",
        "# full_ds.write_parquet('/content/drive/My Drive/hw2/full_ds.parquet')\n",
        "exclude_cols = ['simple_LM_method',\t'one_prefix_method', 'two_prefix_method',\t'lexically_identical']\n",
        "full_ds = full_ds.select([col for col in full_ds.columns if col not in exclude_cols])\n",
        "full_ds"
      ]
    },
    {
      "cell_type": "code",
      "execution_count": null,
      "metadata": {
        "id": "xHWSqMJgJ7HY"
      },
      "outputs": [],
      "source": [
        "fig, (ax1, ax2) = plt.subplots(1, 2, figsize=(20, 8))\n",
        "\n",
        "n_per_class = 6700 // full_ds[\"field\"].n_unique()\n",
        "sample = create_sample(full_ds, n_per_class)\n",
        "labels = sample[\"field\"].to_list()\n",
        "\n",
        "plt.sca(ax1)\n",
        "embeddings_avg = np.vstack(sample[\"avg_embeddings\"].to_list())\n",
        "create_tsne_plot(embeddings_avg, labels)\n",
        "plt.title(\"Average Embeddings\")\n",
        "\n",
        "plt.sca(ax2)\n",
        "embeddings_cnc = np.vstack(sample[\"cnc_embeddings\"].to_list())\n",
        "create_tsne_plot(embeddings_cnc, labels)\n",
        "plt.title(\"Concatenated Embeddings\")\n",
        "\n",
        "# plt.sca(ax3)\n",
        "# embeddings_diff = np.vstack(sample[\"diff_embeddings\"].to_list())\n",
        "# create_tsne_plot(embeddings_diff, labels)\n",
        "# plt.title(\"Difference Embeddings\")\n",
        "\n",
        "# plt.sca(ax4)\n",
        "# embeddings_cnc_diff = np.vstack(sample[\"cnc_diff_embeddings\"].to_list())\n",
        "# create_tsne_plot(embeddings_cnc_diff, labels)\n",
        "# plt.title(\"Concatenated with Difference Embeddings\")\n",
        "\n",
        "plt.tight_layout()\n",
        "plt.show()"
      ]
    },
    {
      "cell_type": "code",
      "execution_count": null,
      "metadata": {
        "id": "C7M-mFr5FdyX",
        "collapsed": true
      },
      "outputs": [],
      "source": [
        "import umap\n",
        "import umap.plot\n",
        "from umap import UMAP\n",
        "from plotly.express import scatter\n",
        "\n",
        "# umap_avg_emb = umap.UMAP(n_components=2, metric='cosine').fit(avg_embeddings)\n",
        "# uamp_cnc_emb = umap.UMAP(n_components=2, metric='cosine').fit(cnc_embeddings)\n",
        "# umap_diff_emb = umap.UMAP(n_components=2, metric='cosine').fit(diff_embeddings)\n",
        "# umap_cross_attn_emb = umap.UMAP(n_components=2, metric='cosine').fit(cross_attn_embeddings)\n",
        "# umap_cnc_diff_emb = umap.UMAP(n_components=2, metric='cosine').fit(cnc_diff_embeddings)\n",
        "# umap_mean_diff_emb = umap.UMAP(n_components=2, metric='cosine').fit(mean_diff_embeddings)\n",
        "umap_f_diff_emb = umap.UMAP(n_components=2, metric='cosine').fit(f_diff_embeddings)"
      ]
    },
    {
      "cell_type": "code",
      "source": [
        "fig, (ax1, ax2) = plt.subplots(1, 2, figsize=(20, 8))\n",
        "\n",
        "umap.plot.points(umap_avg_emb, labels=full_ds[\"field\"], ax=ax1)\n",
        "ax1.set_title('Average Embeddings')\n",
        "\n",
        "umap.plot.points(uamp_cnc_emb, labels=full_ds[\"field\"], ax=ax2)\n",
        "ax2.set_title('Concatenated Embeddings')\n",
        "\n",
        "plt.tight_layout()\n",
        "plt.show()"
      ],
      "metadata": {
        "id": "fxE8l1fOyfKn"
      },
      "execution_count": null,
      "outputs": []
    },
    {
      "cell_type": "code",
      "source": [
        "fig, (ax1, ax2) = plt.subplots(1, 2, figsize=(20, 8))\n",
        "\n",
        "n_per_class = 6700 // full_ds[\"field\"].n_unique()\n",
        "sample = create_sample(full_ds, n_per_class)\n",
        "labels = sample[\"field\"].to_list()\n",
        "\n",
        "plt.sca(ax1)\n",
        "embeddings_diff = np.vstack(sample[\"diff_embeddings\"].to_list())\n",
        "create_tsne_plot(embeddings_diff, labels)\n",
        "plt.title(\"Difference Embeddings (by Field)\")\n",
        "\n",
        "n_per_class = 6700 // full_ds[\"linguistics_term\"].n_unique()\n",
        "sample = create_sample(full_ds, n_per_class)\n",
        "labels = sample[\"linguistics_term\"].to_list()\n",
        "\n",
        "plt.sca(ax2)\n",
        "embeddings_diff = np.vstack(sample[\"diff_embeddings\"].to_list())\n",
        "create_tsne_plot(embeddings_diff, labels)\n",
        "plt.title(\"Difference Embeddings (by Term)\")\n",
        "\n",
        "plt.tight_layout()\n",
        "plt.show()"
      ],
      "metadata": {
        "id": "X_75MqeJ1P3C"
      },
      "execution_count": null,
      "outputs": []
    },
    {
      "cell_type": "code",
      "source": [
        "fig, (ax1, ax2) = plt.subplots(1, 2, figsize=(20, 8))\n",
        "\n",
        "umap.plot.points(umap_diff_emb, labels=full_ds[\"field\"], ax=ax1)\n",
        "ax1.set_title('Difference Embeddings')\n",
        "\n",
        "umap.plot.points(umap_cnc_diff_emb, labels=full_ds[\"field\"], ax=ax2)\n",
        "ax2.set_title('Concatenated with Difference Embeddings')\n",
        "\n",
        "plt.tight_layout()\n",
        "plt.show()"
      ],
      "metadata": {
        "id": "k2rCHJ__4mqq"
      },
      "execution_count": null,
      "outputs": []
    },
    {
      "cell_type": "code",
      "source": [
        "fig, (ax1, ax2) = plt.subplots(1, 2, figsize=(20, 8))\n",
        "\n",
        "umap.plot.points(umap_diff_emb, labels=full_ds[\"field\"], ax=ax1)\n",
        "ax1.set_title('Difference Embeddings')\n",
        "\n",
        "umap.plot.points(umap_mean_diff_emb, labels=full_ds[\"field\"], ax=ax2)\n",
        "ax2.set_title('Mean with Difference Embeddings')\n",
        "\n",
        "plt.tight_layout()\n",
        "plt.show()"
      ],
      "metadata": {
        "id": "4jF6pieBpRVD"
      },
      "execution_count": null,
      "outputs": []
    },
    {
      "cell_type": "code",
      "source": [
        "fig, (ax1, ax2) = plt.subplots(1, 2, figsize=(20, 8))\n",
        "\n",
        "umap.plot.points(umap_diff_emb, labels=full_ds[\"linguistics_term\"], ax=ax1)\n",
        "ax1.set_title('Difference Embeddings')\n",
        "labels = np.unique(full_ds[\"linguistics_term\"])\n",
        "for label in labels:\n",
        "    ax1.scatter([], [], label=label)\n",
        "ax1.legend(fontsize=7)\n",
        "\n",
        "umap.plot.points(umap_cnc_diff_emb, labels=full_ds[\"linguistics_term\"], ax=ax2)\n",
        "ax2.set_title('Concatenated with Difference Embeddings')\n",
        "for label in labels:\n",
        "    ax2.scatter([], [], label=label)\n",
        "ax2.legend(fontsize=7)\n",
        "\n",
        "plt.tight_layout()\n",
        "plt.show()"
      ],
      "metadata": {
        "id": "uBBUGPfv6ekQ"
      },
      "execution_count": null,
      "outputs": []
    },
    {
      "cell_type": "code",
      "source": [
        "fig, (ax1, ax2) = plt.subplots(1, 2, figsize=(20, 8))\n",
        "\n",
        "umap.plot.points(umap_diff_emb, labels=full_ds[\"linguistics_term\"], ax=ax1)\n",
        "ax1.set_title('Difference Embeddings')\n",
        "labels = np.unique(full_ds[\"linguistics_term\"])\n",
        "for label in labels:\n",
        "    ax1.scatter([], [], label=label)\n",
        "ax1.legend(fontsize=7)\n",
        "\n",
        "umap.plot.points(umap_mean_diff_emb, labels=full_ds[\"linguistics_term\"], ax=ax2)\n",
        "ax2.set_title('Mean with Difference Embeddings')\n",
        "for label in labels:\n",
        "    ax2.scatter([], [], label=label)\n",
        "ax2.legend(fontsize=7)\n",
        "\n",
        "plt.tight_layout()\n",
        "plt.show()"
      ],
      "metadata": {
        "id": "nt5P1XdkpYWB"
      },
      "execution_count": null,
      "outputs": []
    },
    {
      "cell_type": "code",
      "source": [
        "fig, (ax1, ax2) = plt.subplots(1, 2, figsize=(20, 8))\n",
        "\n",
        "umap.plot.points(umap_diff_emb, labels=full_ds[\"UID\"], ax=ax1)\n",
        "ax1.set_title('Difference Embeddings')\n",
        "labels = np.unique(full_ds[\"UID\"])\n",
        "for label in labels:\n",
        "    ax1.scatter([], [], label=label)\n",
        "ax1.legend(fontsize=3)\n",
        "\n",
        "umap.plot.points(umap_cnc_diff_emb, labels=full_ds[\"UID\"], ax=ax2)\n",
        "ax2.set_title('Concatenated with Difference Embeddings')\n",
        "for label in labels:\n",
        "    ax2.scatter([], [], label=label)\n",
        "ax2.legend(fontsize=3)\n",
        "\n",
        "plt.tight_layout()\n",
        "plt.show()"
      ],
      "metadata": {
        "id": "d5nylDQQ6m7t"
      },
      "execution_count": null,
      "outputs": []
    },
    {
      "cell_type": "code",
      "source": [
        "fig, (ax1, ax2) = plt.subplots(1, 2, figsize=(20, 8))\n",
        "\n",
        "umap.plot.points(umap_diff_emb, labels=full_ds[\"UID\"], ax=ax1)\n",
        "ax1.set_title('Difference Embeddings')\n",
        "labels = np.unique(full_ds[\"UID\"])\n",
        "for label in labels:\n",
        "    ax1.scatter([], [], label=label)\n",
        "ax1.legend(fontsize=3)\n",
        "\n",
        "umap.plot.points(umap_mean_diff_emb, labels=full_ds[\"UID\"], ax=ax2)\n",
        "ax2.set_title('Mean with Difference Embeddings')\n",
        "for label in labels:\n",
        "    ax2.scatter([], [], label=label)\n",
        "ax2.legend(fontsize=3)\n",
        "\n",
        "plt.tight_layout()\n",
        "plt.show()"
      ],
      "metadata": {
        "id": "tjLoxCphpfXL"
      },
      "execution_count": null,
      "outputs": []
    },
    {
      "cell_type": "markdown",
      "source": [
        "### Получение few-shot примеров"
      ],
      "metadata": {
        "id": "ZtQiRM0amiju"
      }
    },
    {
      "cell_type": "code",
      "source": [
        "from datasets import load_dataset, concatenate_datasets, get_dataset_config_names\n",
        "from tqdm import tqdm\n",
        "import polars as pl\n",
        "\n",
        "configs = get_dataset_config_names(\"nyu-mll/blimp\")\n",
        "datasets = []\n",
        "\n",
        "for config in tqdm(configs, desc=\"Loading\"):\n",
        "    ds = load_dataset(\"nyu-mll/blimp\", config)\n",
        "    datasets.append(ds[\"train\"])\n",
        "\n",
        "full_ds = concatenate_datasets(datasets)\n",
        "full_ds = pl.DataFrame(full_ds.to_dict())\n",
        "full_ds.write_parquet('/content/drive/My Drive/hw2/original_ds.parquet')"
      ],
      "metadata": {
        "id": "K6FJEQwV5Mun"
      },
      "execution_count": null,
      "outputs": []
    },
    {
      "cell_type": "markdown",
      "source": [
        "\n",
        "\n",
        "---\n",
        "\n"
      ],
      "metadata": {
        "id": "ELC6rZJlhV7l"
      }
    },
    {
      "cell_type": "code",
      "source": [
        "diff_embeddings = np.load('/content/drive/My Drive/hw2/diff_embeddings.npy')\n",
        "zero_emb_indices = np.where(np.all(diff_embeddings == 0, axis=1))[0]\n",
        "zero_emb_set = set(zero_emb_indices)\n",
        "zero_emb_set"
      ],
      "metadata": {
        "id": "5Ju3ovcr7GjO"
      },
      "execution_count": null,
      "outputs": []
    },
    {
      "cell_type": "code",
      "source": [
        "any(i in query_dataset['pair_id'] for i in zero_emb_set)"
      ],
      "metadata": {
        "id": "Vaykph0W8HmJ"
      },
      "execution_count": null,
      "outputs": []
    },
    {
      "cell_type": "code",
      "source": [
        "import numpy as np\n",
        "import faiss\n",
        "import polars as pl\n",
        "\n",
        "def preprocess_pairs(type, k=15, batch_size=100):\n",
        "    embeddings = np.load(f'/content/drive/My Drive/hw2/{type}_embeddings.npy')\n",
        "    print(embeddings.shape)\n",
        "    index = faiss.read_index(f'/content/drive/My Drive/hw2/{type}_index.index')\n",
        "    full_ds = pl.read_parquet(f'/content/drive/My Drive/hw2/original_ds.parquet')\n",
        "    # full_ds = full_ds.with_columns(pl.Series(f\"{type}_embeddings\", embeddings))\n",
        "    full_ds = full_ds.with_columns(pl.arange(0, len(full_ds)).alias('pair_id'))\n",
        "    exclude_cols = ['simple_LM_method', 'one_prefix_method','two_prefix_method', 'lexically_identical']\n",
        "    full_ds = full_ds.select([col for col in full_ds.columns if col not in exclude_cols])\n",
        "    distances, indices = find_neighbors(embeddings, k=k, batch_size=batch_size, index=index)\n",
        "    # np.save(f'/content/drive/My Drive/hw2/distances_{type}.npy', distances)\n",
        "    # np.save(f'/content/drive/My Drive/hw2/indices_{type}.npy', indices)\n",
        "    full_ds = full_ds.with_columns(pl.Series(name='neighbour_paired_indices', values=indices.tolist()))\n",
        "    pairs = get_pairs(indices, embeddings, full_ds, with_diff=True)\n",
        "    # np.save(f'/content/drive/My Drive/hw2/pairs_{type}.npy', pairs)\n",
        "    full_ds = full_ds.with_columns(pl.Series(name=f'pairs_{type}', values=pairs))\n",
        "    output_path = f'/content/drive/My Drive/hw2/ds_pairs_{type}.parquet'\n",
        "    full_ds.write_parquet(output_path)\n",
        "    return full_ds\n",
        "\n",
        "full_ds = preprocess_pairs('norm_diff')"
      ],
      "metadata": {
        "id": "6x0R3zLZhVg2"
      },
      "execution_count": null,
      "outputs": []
    },
    {
      "cell_type": "code",
      "source": [
        "full_ds = pl.read_parquet('/content/drive/My Drive/hw2/ds_pairs_norm_diff.parquet')"
      ],
      "metadata": {
        "id": "nJplXpUprsCn"
      },
      "execution_count": null,
      "outputs": []
    },
    {
      "cell_type": "code",
      "source": [
        "full_ds"
      ],
      "metadata": {
        "id": "1rZWUbRP95ql"
      },
      "execution_count": null,
      "outputs": []
    },
    {
      "cell_type": "markdown",
      "metadata": {
        "id": "QuF3DrYE-cwq"
      },
      "source": [
        "# Few-shot CoT: (квази-)эксперименты\n",
        "\n",
        "\n",
        "\n",
        "---"
      ]
    },
    {
      "cell_type": "markdown",
      "metadata": {
        "id": "l0DKIKjOl-IX"
      },
      "source": [
        "## **`1a.`** Случайный выбор примеров: [Acc. **86.87**]\n",
        "\n"
      ]
    },
    {
      "cell_type": "markdown",
      "metadata": {
        "id": "KldOH9dsoxvE"
      },
      "source": [
        "### Обработка промптов"
      ]
    },
    {
      "cell_type": "code",
      "execution_count": null,
      "metadata": {
        "id": "P9Y1SRvLmuga"
      },
      "outputs": [],
      "source": [
        "from datasets import load_dataset, concatenate_datasets, get_dataset_config_names\n",
        "from tqdm import tqdm\n",
        "\n",
        "configs = get_dataset_config_names(\"nyu-mll/blimp\")\n",
        "datasets = []\n",
        "for config in tqdm(configs, desc=\"Loading\"):\n",
        "    ds = load_dataset(\"nyu-mll/blimp\", config)\n",
        "    shuffled_ds = ds[\"train\"].shuffle(seed=42)\n",
        "    datasets.append(shuffled_ds.select(range(104, 134)))\n",
        "\n",
        "combined_dataset = concatenate_datasets(datasets)\n",
        "shuffled_dataset = combined_dataset.shuffle(seed=42)\n",
        "shuffled_dataset"
      ]
    },
    {
      "cell_type": "code",
      "execution_count": null,
      "metadata": {
        "id": "V4xCNsCZoFTd"
      },
      "outputs": [],
      "source": [
        "mapped_prompts = generate_mapped_prompts(shuffled_dataset)"
      ]
    },
    {
      "cell_type": "code",
      "execution_count": null,
      "metadata": {
        "collapsed": true,
        "id": "7ob15KtlqKgG"
      },
      "outputs": [],
      "source": [
        "instruction = 'which of the following sentences is grammatically correct. Please respond with the number of the correct sentence, write a full stop and then explain your reasoning step-by-step.'\n",
        "\n",
        "results = evaluate_model(\n",
        "    api_keys=api_keys,\n",
        "    dataset=query_dataset,\n",
        "    user_message=user_message,\n",
        "    get_correct_answer=get_correct_answer,\n",
        "    get_model_response=get_model_response,\n",
        "    instruction=instruction,\n",
        "    few_shot=True,\n",
        "    mapped_prompts=mapped_prompts,\n",
        "    output_filename=\"random_few_shot\",\n",
        "    limit=5\n",
        ")"
      ]
    },
    {
      "cell_type": "code",
      "execution_count": null,
      "metadata": {
        "collapsed": true,
        "id": "dAwQ7Emxaycj"
      },
      "outputs": [],
      "source": [
        "results[\"detailed_eval\"]"
      ]
    },
    {
      "cell_type": "markdown",
      "metadata": {
        "id": "OfU2hggxo53q"
      },
      "source": [
        "### Тестирование"
      ]
    },
    {
      "cell_type": "code",
      "execution_count": null,
      "metadata": {
        "id": "x8f7rOqiBnWY"
      },
      "outputs": [],
      "source": [
        "instruction = 'which of the following sentences is grammatically correct. Please respond with the number of the correct sentence, write a full stop and then explain your reasoning step-by-step.'\n",
        "\n",
        "results = evaluate_model(\n",
        "    api_keys=api_keys,\n",
        "    dataset=query_dataset,\n",
        "    user_message=user_message,\n",
        "    get_correct_answer=get_correct_answer,\n",
        "    get_model_response=get_model_response,\n",
        "    instruction=instruction,\n",
        "    few_shot=True,\n",
        "    mapped_prompts=mapped_prompts,\n",
        "    output_filename=\"random_few_shot\"\n",
        ")"
      ]
    },
    {
      "cell_type": "markdown",
      "metadata": {
        "id": "N3MkZqJZIVue"
      },
      "source": [
        "## **`1b.`** Случайный выбор примеров с учетом классов языковых явлений: [Acc. **92.69**]\n"
      ]
    },
    {
      "cell_type": "markdown",
      "metadata": {
        "id": "xDUWSqoglgcO"
      },
      "source": [
        "### Обработка промптов"
      ]
    },
    {
      "cell_type": "code",
      "execution_count": null,
      "metadata": {
        "id": "-Q2KrE6H9wEQ"
      },
      "outputs": [],
      "source": [
        "from datasets import load_dataset, concatenate_datasets, get_dataset_config_names\n",
        "from tqdm import tqdm\n",
        "\n",
        "configs = get_dataset_config_names(\"nyu-mll/blimp\")\n",
        "datasets = []\n",
        "for config in tqdm(configs, desc=\"Loading\"):\n",
        "    ds = load_dataset(\"nyu-mll/blimp\", config)\n",
        "    shuffled_ds = ds[\"train\"].shuffle(seed=42)\n",
        "    datasets.append(shuffled_ds.select(range(70, 100)))\n",
        "\n",
        "combined_dataset = concatenate_datasets(datasets)\n",
        "uid_dataset = combined_dataset.shuffle(seed=42)\n",
        "uid_dataset"
      ]
    },
    {
      "cell_type": "code",
      "execution_count": null,
      "metadata": {
        "id": "VI0IKY1a7snE"
      },
      "outputs": [],
      "source": [
        "uid_prompts_map = generate_uid_prompts(uid_dataset, max_groups=10)"
      ]
    },
    {
      "cell_type": "code",
      "execution_count": null,
      "metadata": {
        "id": "grbvpWgV8MfD"
      },
      "outputs": [],
      "source": [
        "len(uid_prompts_map)"
      ]
    },
    {
      "cell_type": "code",
      "execution_count": null,
      "metadata": {
        "id": "4Vq-MRY782Sa"
      },
      "outputs": [],
      "source": [
        "len(uid_prompts_map['only_npi_licensor_present'])"
      ]
    },
    {
      "cell_type": "code",
      "execution_count": null,
      "metadata": {
        "id": "T6ORN5X2A-Gi"
      },
      "outputs": [],
      "source": [
        "print(uid_prompts_map['only_npi_licensor_present'][0])"
      ]
    },
    {
      "cell_type": "code",
      "execution_count": null,
      "metadata": {
        "collapsed": true,
        "id": "qazedCzzg_1k"
      },
      "outputs": [],
      "source": [
        "instruction = 'which of the following sentences is grammatically correct. Please respond with the number of the correct sentence, write a full stop and then explain your reasoning step-by-step.'\n",
        "\n",
        "results = evaluate_model(\n",
        "    api_keys=api_keys,\n",
        "    dataset=query_dataset,\n",
        "    user_message=user_message,\n",
        "    get_correct_answer=get_correct_answer,\n",
        "    get_model_response=get_model_response,\n",
        "    instruction=instruction,\n",
        "    few_shot=True,\n",
        "    uid_dataset=uid_dataset,\n",
        "    uid_prompts_map=uid_prompts_map,\n",
        "    output_filename=\"uid_few_shot\",\n",
        "    limit=5\n",
        ")"
      ]
    },
    {
      "cell_type": "markdown",
      "metadata": {
        "id": "FIIU1maTKSaS"
      },
      "source": [
        "### Тестирование"
      ]
    },
    {
      "cell_type": "code",
      "execution_count": null,
      "metadata": {
        "id": "vF_5iz_EDaga"
      },
      "outputs": [],
      "source": [
        "instruction = 'which of the following sentences is grammatically correct. Please respond with the number of the correct sentence, write a full stop and then explain your reasoning step-by-step.'\n",
        "\n",
        "results = evaluate_model(\n",
        "    api_keys=api_keys,\n",
        "    dataset=query_dataset,\n",
        "    user_message=user_message,\n",
        "    get_correct_answer=get_correct_answer,\n",
        "    get_model_response=get_model_response,\n",
        "    instruction=instruction,\n",
        "    few_shot=True,\n",
        "    uid_dataset=uid_dataset,\n",
        "    uid_prompts_map=uid_prompts_map,\n",
        "    output_filename=\"uid_few_shot\"\n",
        ")"
      ]
    },
    {
      "cell_type": "code",
      "execution_count": null,
      "metadata": {
        "collapsed": true,
        "id": "OorX0FSzUxXQ"
      },
      "outputs": [],
      "source": [
        "instruction = 'which of the following sentences is grammatically correct. Please respond with the number of the correct sentence, write a full stop and then explain your reasoning step-by-step.'\n",
        "\n",
        "results = evaluate_model(\n",
        "    api_keys=api_keys,\n",
        "    dataset=[query_dataset[417]],\n",
        "    user_message=user_message,\n",
        "    get_correct_answer=get_correct_answer,\n",
        "    get_model_response=get_model_response,\n",
        "    instruction=instruction,\n",
        "    few_shot=True,\n",
        "    uid_dataset=uid_dataset,\n",
        "    uid_prompts_map=uid_prompts_map,\n",
        "    output_filename=\"uid_few_shot_extra\"\n",
        ")"
      ]
    },
    {
      "cell_type": "code",
      "execution_count": null,
      "metadata": {
        "collapsed": true,
        "id": "2o70G_PXXKcX"
      },
      "outputs": [],
      "source": [
        "reports = pl.read_csv('/content/drive/MyDrive/hw2/reports/uid_few_shot.csv')\n",
        "reports[417]"
      ]
    },
    {
      "cell_type": "code",
      "execution_count": null,
      "metadata": {
        "collapsed": true,
        "id": "lqvy2mNzZvs4"
      },
      "outputs": [],
      "source": [
        "reports = reports.with_columns(\n",
        "    pl.when(pl.arange(0, reports.height) == 417)\n",
        "    .then(pl.lit(True))\n",
        "    .otherwise(reports[\"is_correct\"])\n",
        "    .alias(\"is_correct\"),\n",
        "\n",
        "    pl.when(pl.arange(0, reports.height) == 417)\n",
        "    .then(pl.lit(1))\n",
        "    .otherwise(reports[\"model_answers\"])\n",
        "    .alias(\"model_answers\"),\n",
        "\n",
        "    pl.when(pl.arange(0, reports.height) == 417)\n",
        "    .then(pl.lit(True))\n",
        "    .otherwise(reports[\"accuracy\"])\n",
        "    .alias(\"accuracy\"),\n",
        "\n",
        "    pl.when(pl.arange(0, reports.height) == 417)\n",
        "    .then(pl.lit(\"\"\"2.\n",
        "\n",
        "Explanation:\n",
        "\n",
        "1. The sentence \"It's himself that listens to Guy\" is grammatically incorrect because \"himself\" is a reflexive pronoun that must refer back to the subject of the sentence. In this case, \"himself\" does not refer to \"Guy,\" which makes the sentence ungrammatical.\n",
        "2. The sentence \"It's himself that Guy listens to\" is grammatically correct because \"himself\" refers to \"Guy,\" making the reflexive pronoun correctly refer back to the subject of the sentence. This structure is similar to the correct sentences in the given examples.\n",
        "\"\"\"))\n",
        "    .otherwise(reports[\"full_response\"])\n",
        "    .alias(\"full_response\")\n",
        ")\n",
        "\n",
        "reports[417]"
      ]
    },
    {
      "cell_type": "code",
      "execution_count": null,
      "metadata": {
        "id": "YWXORUXpaz9A"
      },
      "outputs": [],
      "source": [
        "reports.write_csv('/content/drive/MyDrive/hw2/reports/uid_few_shot.csv')\n",
        "acc = reports.select(pl.col(\"is_correct\").sum() / pl.col(\"total_answers\").sum()).item()\n",
        "print(f\"Overall accuracy: {acc:.2%}\")"
      ]
    },
    {
      "cell_type": "markdown",
      "metadata": {
        "id": "lYCte4sZCNCp"
      },
      "source": [
        "\n",
        "\n",
        "---\n",
        "\n",
        "\n",
        "## **`2a.`** NNS по эмбеддингу неграмматичного предложения: [Acc. **91.04**]\n",
        "\n"
      ]
    },
    {
      "cell_type": "markdown",
      "metadata": {
        "id": "MsuLvVr8mUPl"
      },
      "source": [
        "### Обработка промптов"
      ]
    },
    {
      "cell_type": "code",
      "execution_count": null,
      "metadata": {
        "collapsed": true,
        "id": "PcEN1kUnoMCe"
      },
      "outputs": [],
      "source": [
        "import polars as pl\n",
        "pl.Config.set_fmt_str_lengths(200)\n",
        "\n",
        "df_bad = pl.read_parquet('/content/drive/My Drive/hw2/df_bad.parquet')\n",
        "df_bad"
      ]
    },
    {
      "cell_type": "code",
      "execution_count": null,
      "metadata": {
        "collapsed": true,
        "id": "kHcf1mpqzDc0"
      },
      "outputs": [],
      "source": [
        "from datasets import load_dataset, concatenate_datasets, get_dataset_config_names\n",
        "from tqdm import tqdm\n",
        "\n",
        "configs = get_dataset_config_names(\"nyu-mll/blimp\")\n",
        "datasets = []\n",
        "\n",
        "for config in tqdm(configs, desc=\"Loading\"):\n",
        "    ds = load_dataset(\"nyu-mll/blimp\", config)\n",
        "    datasets.append(ds[\"train\"])\n",
        "\n",
        "full_dataset = concatenate_datasets(datasets)\n",
        "full_dataset = pl.DataFrame(full_dataset.to_dict())\n",
        "full_dataset = full_dataset.with_columns(pl.arange(0, 67000).alias('pair_id'))\n",
        "exclude_cols = ['simple_LM_method',\t'one_prefix_method', 'two_prefix_method',\t'lexically_identical']\n",
        "full_dataset = full_dataset.select([col for col in full_dataset.columns if col not in exclude_cols])\n",
        "full_dataset"
      ]
    },
    {
      "cell_type": "code",
      "execution_count": null,
      "metadata": {
        "collapsed": true,
        "id": "yPcii3ZJzP6z"
      },
      "outputs": [],
      "source": [
        "test_sents_bad = query_dataset['sentence_bad']\n",
        "test_dataset_bad = df_bad.filter(pl.col('sentence').is_in(test_sents_bad))\n",
        "test_dataset_bad"
      ]
    },
    {
      "cell_type": "code",
      "execution_count": null,
      "metadata": {
        "collapsed": true,
        "id": "j59bC9B3--CS"
      },
      "outputs": [],
      "source": [
        "test_sents_pair_bad = test_dataset_bad['pair_id']\n",
        "test_sents_pair_bad = full_dataset.filter(pl.col('pair_id').is_in(test_sents_pair_bad))\n",
        "test_sents_pair_bad"
      ]
    },
    {
      "cell_type": "code",
      "execution_count": null,
      "metadata": {
        "collapsed": true,
        "id": "1LOIz1sq_fbD"
      },
      "outputs": [],
      "source": [
        "final_test_bad = test_dataset_bad.join(test_sents_pair_bad, on=\"pair_id\", how=\"inner\")\n",
        "final_test_bad"
      ]
    },
    {
      "cell_type": "code",
      "execution_count": null,
      "metadata": {
        "id": "3FX4qpMjEmum"
      },
      "outputs": [],
      "source": [
        "from itertools import chain\n",
        "\n",
        "def form_embedding_propmpt_ds(final_test):\n",
        "    subsets = []\n",
        "    for i in tqdm(range(len(final_test)), desc='Collecting pairs'):\n",
        "        pairs_nested = final_test[i]['prompt_pairs'].to_list()\n",
        "        pairs = list(chain.from_iterable(pairs_nested))\n",
        "        subset = full_dataset[pairs]\n",
        "        subsets.append(subset)\n",
        "    prompt_dataset = pl.concat(subsets)\n",
        "    return prompt_dataset"
      ]
    },
    {
      "cell_type": "code",
      "execution_count": null,
      "metadata": {
        "id": "fGQ6nKomq8Be"
      },
      "outputs": [],
      "source": [
        "propmpt_ds_bad_emb = form_embedding_propmpt_ds(final_test_bad)\n",
        "propmpt_ds_bad_emb.write_parquet('/content/drive/My Drive/hw2/propmpt_ds_bad_emb.parquet')\n",
        "propmpt_ds_bad_emb"
      ]
    },
    {
      "cell_type": "code",
      "execution_count": null,
      "metadata": {
        "id": "PMNa1vA-Dp2A"
      },
      "outputs": [],
      "source": [
        "import json\n",
        "\n",
        "prompts_bad_emb = generate_mapped_prompts(propmpt_ds_bad_emb, use_polars=True)\n",
        "with open('/content/drive/My Drive/hw2/prompts_bad_emb.json', 'w') as f:\n",
        "    json.dump(prompts_bad_emb, f)"
      ]
    },
    {
      "cell_type": "code",
      "execution_count": null,
      "metadata": {
        "collapsed": true,
        "id": "kyf13OpZItsF"
      },
      "outputs": [],
      "source": [
        "instruction = 'which of the following sentences is grammatically correct. Please respond with the number of the correct sentence, write a full stop and then explain your reasoning step-by-step.'\n",
        "\n",
        "results = evaluate_model(\n",
        "    api_keys=api_keys,\n",
        "    dataset=final_test_bad.to_dicts(),\n",
        "    user_message=user_message,\n",
        "    get_correct_answer=get_correct_answer,\n",
        "    get_model_response=get_model_response,\n",
        "    instruction=instruction,\n",
        "    few_shot=True,\n",
        "    mapped_prompts=prompts_bad_emb,\n",
        "    output_filename=\"bad_emb_few_shot\",\n",
        "    limit=10\n",
        ")"
      ]
    },
    {
      "cell_type": "code",
      "execution_count": null,
      "metadata": {
        "collapsed": true,
        "id": "7KsqWLD2I7-i"
      },
      "outputs": [],
      "source": [
        "pl.Config.set_fmt_str_lengths(1000)\n",
        "r = results['detailed_eval']\n",
        "exclude_cols = ['total_answers','accuracy', 'correct_answers',\t'model_answers', 'field', 'linguistics_term', 'UID']\n",
        "r = r.select([col for col in r.columns if col not in exclude_cols])\n",
        "r"
      ]
    },
    {
      "cell_type": "markdown",
      "metadata": {
        "id": "grAsR2trKbIt"
      },
      "source": [
        "### Тестирование"
      ]
    },
    {
      "cell_type": "code",
      "execution_count": null,
      "metadata": {
        "id": "ejcWSM0-6LAp"
      },
      "outputs": [],
      "source": [
        "instruction = 'which of the following sentences is grammatically correct. Please respond with the number of the correct sentence, write a full stop and then explain your reasoning step-by-step.'\n",
        "\n",
        "results = evaluate_model(\n",
        "    api_keys=api_keys,\n",
        "    dataset=final_test_bad.to_dicts(),\n",
        "    user_message=user_message,\n",
        "    get_correct_answer=get_correct_answer,\n",
        "    get_model_response=get_model_response,\n",
        "    instruction=instruction,\n",
        "    few_shot=True,\n",
        "    mapped_prompts=prompts_bad_emb,\n",
        "    output_filename=\"bad_emb_few_shot\"\n",
        ")"
      ]
    },
    {
      "cell_type": "markdown",
      "metadata": {
        "id": "NCSd2ZHuJJ7f"
      },
      "source": [
        "## **`2b.`** NNS по эмбеддингу грамматичного предложения [Acc. **93.28**]\n",
        "\n"
      ]
    },
    {
      "cell_type": "markdown",
      "metadata": {
        "id": "4uSE6WN3JUfQ"
      },
      "source": [
        "### Обработка промптов"
      ]
    },
    {
      "cell_type": "code",
      "execution_count": null,
      "metadata": {
        "collapsed": true,
        "id": "3nWkiUx7JKZy"
      },
      "outputs": [],
      "source": [
        "df_good = pl.read_parquet('/content/drive/My Drive/hw2/df_good.parquet')\n",
        "test_sents_good = query_dataset['sentence_good']\n",
        "test_dataset_good = df_good.filter(pl.col('sentence').is_in(test_sents_good))\n",
        "test_sents_pair_good = test_dataset_good['pair_id']\n",
        "test_sents_pair_good = full_dataset.filter(pl.col('pair_id').is_in(test_sents_pair_good))\n",
        "final_test_good = test_dataset_good.join(test_sents_pair_good, on=\"pair_id\", how=\"inner\")\n",
        "final_test_good"
      ]
    },
    {
      "cell_type": "code",
      "execution_count": null,
      "metadata": {
        "collapsed": true,
        "id": "yMoKaz1ZMUug"
      },
      "outputs": [],
      "source": [
        "propmpt_ds_good_emb = form_embedding_propmpt_ds(final_test_good)\n",
        "propmpt_ds_good_emb.write_parquet('/content/drive/My Drive/hw2/propmpt_ds_good_emb.parquet')\n",
        "propmpt_ds_good_emb"
      ]
    },
    {
      "cell_type": "code",
      "execution_count": null,
      "metadata": {
        "id": "a7zpFaG9N_qc"
      },
      "outputs": [],
      "source": [
        "prompts_good_emb = generate_mapped_prompts(propmpt_ds_good_emb, use_polars=True)\n",
        "with open('/content/drive/My Drive/hw2/prompts_good_emb.json', 'w') as f:\n",
        "    json.dump(prompts_good_emb, f)"
      ]
    },
    {
      "cell_type": "code",
      "execution_count": null,
      "metadata": {
        "collapsed": true,
        "id": "5A7qeGxhZeF0"
      },
      "outputs": [],
      "source": [
        "instruction = 'which of the following sentences is grammatically correct. Please respond with the number of the correct sentence, write a full stop and then explain your reasoning step-by-step.'\n",
        "\n",
        "results = evaluate_model(\n",
        "    api_keys=api_keys,\n",
        "    dataset=final_test_good.to_dicts(),\n",
        "    user_message=user_message,\n",
        "    get_correct_answer=get_correct_answer,\n",
        "    get_model_response=get_model_response,\n",
        "    instruction=instruction,\n",
        "    few_shot=True,\n",
        "    mapped_prompts=prompts_good_emb,\n",
        "    output_filename=\"good_emb_few_shot\",\n",
        "    limit=10\n",
        ")"
      ]
    },
    {
      "cell_type": "code",
      "execution_count": null,
      "metadata": {
        "collapsed": true,
        "id": "2l9yslfpaGT5"
      },
      "outputs": [],
      "source": [
        "pl.Config.set_fmt_str_lengths(1000)\n",
        "r = results['detailed_eval']\n",
        "exclude_cols = ['total_answers','accuracy', 'correct_answers',\t'model_answers', 'field', 'linguistics_term', 'UID']\n",
        "r = r.select([col for col in r.columns if col not in exclude_cols])\n",
        "r"
      ]
    },
    {
      "cell_type": "markdown",
      "metadata": {
        "id": "duXG0WzFaYc9"
      },
      "source": [
        "### Тестирование"
      ]
    },
    {
      "cell_type": "code",
      "execution_count": null,
      "metadata": {
        "id": "XABzdoCoakp7"
      },
      "outputs": [],
      "source": [
        "instruction = 'which of the following sentences is grammatically correct. Please respond with the number of the correct sentence, write a full stop and then explain your reasoning step-by-step.'\n",
        "\n",
        "results = evaluate_model(\n",
        "    api_keys=api_keys,\n",
        "    dataset=final_test_good.to_dicts(),\n",
        "    user_message=user_message,\n",
        "    get_correct_answer=get_correct_answer,\n",
        "    get_model_response=get_model_response,\n",
        "    instruction=instruction,\n",
        "    few_shot=True,\n",
        "    mapped_prompts=prompts_good_emb,\n",
        "    output_filename=\"good_emb_few_shot\"\n",
        ")"
      ]
    },
    {
      "cell_type": "markdown",
      "source": [
        "---\n",
        "\n",
        "## **`3a.`** NNS по разности эмбеддингов: [Acc. **93.73**]"
      ],
      "metadata": {
        "id": "fnK-ewW0MtfW"
      }
    },
    {
      "cell_type": "markdown",
      "source": [
        "### Обработка промптов"
      ],
      "metadata": {
        "id": "IXlfnJhpNqLn"
      }
    },
    {
      "cell_type": "code",
      "source": [
        "test_sents = query_dataset['sentence_good']\n",
        "test_dataset = full_ds.filter(pl.col('sentence_good').is_in(test_sents))\n",
        "test_sents_pair = test_dataset['pair_id']\n",
        "test_sents_pair = full_ds.filter(pl.col('pair_id').is_in(test_sents_pair))\n",
        "final_test = test_dataset.join(test_sents_pair, on=\"pair_id\", how=\"inner\")\n",
        "final_test"
      ],
      "metadata": {
        "collapsed": true,
        "id": "zScgJqKiNs-_"
      },
      "execution_count": null,
      "outputs": []
    },
    {
      "cell_type": "code",
      "source": [
        "propmpt_ds = form_embedding_prompt_ds(final_test, column_name='pairs_diff')\n",
        "propmpt_ds"
      ],
      "metadata": {
        "collapsed": true,
        "id": "cyiM9LoqPG4k"
      },
      "execution_count": null,
      "outputs": []
    },
    {
      "cell_type": "code",
      "source": [
        "prompts = generate_mapped_prompts(propmpt_ds, use_polars=True)"
      ],
      "metadata": {
        "id": "BQxG1EtuQKKA"
      },
      "execution_count": null,
      "outputs": []
    },
    {
      "cell_type": "code",
      "source": [
        "instruction = 'which of the following sentences is grammatically correct. Please respond with the number of the correct sentence, write a full stop and then explain your reasoning step-by-step.'\n",
        "\n",
        "results = evaluate_model(\n",
        "    api_keys=api_keys,\n",
        "    dataset=final_test.to_dicts(),\n",
        "    user_message=user_message,\n",
        "    get_correct_answer=get_correct_answer,\n",
        "    get_model_response=get_model_response,\n",
        "    instruction=instruction,\n",
        "    few_shot=True,\n",
        "    mapped_prompts=prompts,\n",
        "    output_filename=\"diff_few_shot\",\n",
        "    limit=10\n",
        ")"
      ],
      "metadata": {
        "collapsed": true,
        "id": "JdyaR17TQPLZ"
      },
      "execution_count": null,
      "outputs": []
    },
    {
      "cell_type": "code",
      "source": [
        "pl.Config.set_fmt_str_lengths(1000)\n",
        "r = results['detailed_eval']\n",
        "exclude_cols = ['total_answers','accuracy', 'correct_answers',\t'model_answers', 'field', 'linguistics_term', 'UID']\n",
        "r = r.select([col for col in r.columns if col not in exclude_cols])\n",
        "r"
      ],
      "metadata": {
        "collapsed": true,
        "id": "0QmQv3iHQ4h2"
      },
      "execution_count": null,
      "outputs": []
    },
    {
      "cell_type": "markdown",
      "source": [
        "### Тестирование"
      ],
      "metadata": {
        "id": "N5e-pj3tQ9nI"
      }
    },
    {
      "cell_type": "code",
      "source": [
        "instruction = 'which of the following sentences is grammatically correct. Please respond with the number of the correct sentence, write a full stop and then explain your reasoning step-by-step.'\n",
        "\n",
        "results = evaluate_model(\n",
        "    api_keys=api_keys,\n",
        "    dataset=final_test.to_dicts(),\n",
        "    user_message=user_message,\n",
        "    get_correct_answer=get_correct_answer,\n",
        "    get_model_response=get_model_response,\n",
        "    instruction=instruction,\n",
        "    few_shot=True,\n",
        "    mapped_prompts=prompts,\n",
        "    output_filename=\"diff_few_shot\"\n",
        ")"
      ],
      "metadata": {
        "id": "eMwudntZRBvE"
      },
      "execution_count": null,
      "outputs": []
    },
    {
      "cell_type": "markdown",
      "source": [
        "## **`3b.`** NNS по покомпонентному произведению эмбеддингов: [Acc. **92.24**]\n",
        "\n"
      ],
      "metadata": {
        "id": "wu_Epl0w-zli"
      }
    },
    {
      "cell_type": "markdown",
      "source": [
        "### Обработка промптов"
      ],
      "metadata": {
        "id": "D_KYfWgi-Cnj"
      }
    },
    {
      "cell_type": "code",
      "source": [
        "test_sents = query_dataset['sentence_good']\n",
        "test_dataset = full_ds.filter(pl.col('sentence_good').is_in(test_sents))\n",
        "test_sents_pair = test_dataset['pair_id']\n",
        "test_sents_pair = full_ds.filter(pl.col('pair_id').is_in(test_sents_pair))\n",
        "final_test = test_dataset.join(test_sents_pair, on=\"pair_id\", how=\"inner\")\n",
        "final_test"
      ],
      "metadata": {
        "id": "feMfLmRm-1xQ"
      },
      "execution_count": null,
      "outputs": []
    },
    {
      "cell_type": "code",
      "source": [
        "propmpt_ds = form_embedding_prompt_ds(final_test, column_name='pairs_prod')\n",
        "propmpt_ds"
      ],
      "metadata": {
        "id": "n0d9jYRk-83x"
      },
      "execution_count": null,
      "outputs": []
    },
    {
      "cell_type": "code",
      "source": [
        "prompts = generate_mapped_prompts(propmpt_ds, use_polars=True)"
      ],
      "metadata": {
        "id": "s-RpCVF8-_j3"
      },
      "execution_count": null,
      "outputs": []
    },
    {
      "cell_type": "code",
      "source": [
        "instruction = 'which of the following sentences is grammatically correct. Please respond with the number of the correct sentence, write a full stop and then explain your reasoning step-by-step.'\n",
        "\n",
        "results = evaluate_model(\n",
        "    api_keys=api_keys,\n",
        "    dataset=final_test.to_dicts(),\n",
        "    user_message=user_message,\n",
        "    get_correct_answer=get_correct_answer,\n",
        "    get_model_response=get_model_response,\n",
        "    instruction=instruction,\n",
        "    few_shot=True,\n",
        "    mapped_prompts=prompts,\n",
        "    output_filename=\"prod_few_shot\",\n",
        "    limit=10,\n",
        "    print_responses=True\n",
        ")"
      ],
      "metadata": {
        "collapsed": true,
        "id": "K_4kY88R_Cou"
      },
      "execution_count": null,
      "outputs": []
    },
    {
      "cell_type": "code",
      "source": [
        "pl.Config.set_fmt_str_lengths(1000)\n",
        "r = results['detailed_eval']\n",
        "exclude_cols = ['total_answers','accuracy', 'field', 'linguistics_term', 'UID']\n",
        "r = r.select([col for col in r.columns if col not in exclude_cols])\n",
        "r"
      ],
      "metadata": {
        "collapsed": true,
        "id": "O_zveenS_G1I"
      },
      "execution_count": null,
      "outputs": []
    },
    {
      "cell_type": "markdown",
      "source": [
        "### Тестирование"
      ],
      "metadata": {
        "id": "Gwov6HnS-Hix"
      }
    },
    {
      "cell_type": "code",
      "source": [
        "instruction = 'which of the following sentences is grammatically correct. Please respond with the number of the correct sentence, write a full stop and then explain your reasoning step-by-step.'\n",
        "\n",
        "results = evaluate_model(\n",
        "    api_keys=api_keys,\n",
        "    dataset=final_test.to_dicts(),\n",
        "    user_message=user_message,\n",
        "    get_correct_answer=get_correct_answer,\n",
        "    get_model_response=get_model_response,\n",
        "    instruction=instruction,\n",
        "    few_shot=True,\n",
        "    mapped_prompts=prompts,\n",
        "    output_filename=\"prod_few_shot\"\n",
        ")"
      ],
      "metadata": {
        "id": "Y1bB5kkABovk"
      },
      "execution_count": null,
      "outputs": []
    },
    {
      "cell_type": "markdown",
      "source": [
        "## **`3c.`** NNS по усреднению эмбеддингов: [Acc. **90.9**]"
      ],
      "metadata": {
        "id": "f49gfhUblrwW"
      }
    },
    {
      "cell_type": "markdown",
      "source": [
        "### Обработка промптов"
      ],
      "metadata": {
        "id": "BEqr0GOPl5oy"
      }
    },
    {
      "cell_type": "code",
      "source": [
        "test_sents = query_dataset['sentence_good']\n",
        "test_dataset = full_ds.filter(pl.col('sentence_good').is_in(test_sents))\n",
        "test_sents_pair = test_dataset['pair_id']\n",
        "test_sents_pair = full_ds.filter(pl.col('pair_id').is_in(test_sents_pair))\n",
        "final_test = test_dataset.join(test_sents_pair, on=\"pair_id\", how=\"inner\")\n",
        "final_test"
      ],
      "metadata": {
        "collapsed": true,
        "id": "864YnUphl5GG"
      },
      "execution_count": null,
      "outputs": []
    },
    {
      "cell_type": "code",
      "source": [
        "propmpt_ds = form_embedding_prompt_ds(final_test, column_name='pairs_mean')\n",
        "propmpt_ds"
      ],
      "metadata": {
        "collapsed": true,
        "id": "Pf43ke5QmZIg"
      },
      "execution_count": null,
      "outputs": []
    },
    {
      "cell_type": "code",
      "source": [
        "prompts = generate_mapped_prompts(propmpt_ds, use_polars=True)"
      ],
      "metadata": {
        "id": "TTKPcsUdmnaA"
      },
      "execution_count": null,
      "outputs": []
    },
    {
      "cell_type": "code",
      "source": [
        "instruction = 'which of the following sentences is grammatically correct. Please respond with the number of the correct sentence, write a full stop and then explain your reasoning step-by-step.'\n",
        "\n",
        "results = evaluate_model(\n",
        "    api_keys=api_keys,\n",
        "    dataset=final_test.to_dicts(),\n",
        "    user_message=user_message,\n",
        "    get_correct_answer=get_correct_answer,\n",
        "    get_model_response=get_model_response,\n",
        "    instruction=instruction,\n",
        "    few_shot=True,\n",
        "    mapped_prompts=prompts,\n",
        "    output_filename=\"mean_few_shot\",\n",
        "    limit=10\n",
        ")"
      ],
      "metadata": {
        "collapsed": true,
        "id": "tjGjEuHRmrF7"
      },
      "execution_count": null,
      "outputs": []
    },
    {
      "cell_type": "code",
      "source": [
        "pl.Config.set_fmt_str_lengths(1000)\n",
        "r = results['detailed_eval']\n",
        "exclude_cols = ['total_answers','accuracy', 'correct_answers',\t'model_answers', 'field', 'linguistics_term', 'UID']\n",
        "r = r.select([col for col in r.columns if col not in exclude_cols])\n",
        "r"
      ],
      "metadata": {
        "collapsed": true,
        "id": "NL3W6t3ynFgR"
      },
      "execution_count": null,
      "outputs": []
    },
    {
      "cell_type": "markdown",
      "source": [
        "### Тестирование"
      ],
      "metadata": {
        "id": "Tjhz4ydEnM6E"
      }
    },
    {
      "cell_type": "code",
      "source": [
        "instruction = 'which of the following sentences is grammatically correct. Please respond with the number of the correct sentence, write a full stop and then explain your reasoning step-by-step.'\n",
        "\n",
        "results = evaluate_model(\n",
        "    api_keys=api_keys,\n",
        "    dataset=final_test.to_dicts(),\n",
        "    user_message=user_message,\n",
        "    get_correct_answer=get_correct_answer,\n",
        "    get_model_response=get_model_response,\n",
        "    instruction=instruction,\n",
        "    few_shot=True,\n",
        "    mapped_prompts=prompts,\n",
        "    output_filename=\"mean_few_shot\"\n",
        ")"
      ],
      "metadata": {
        "id": "_d1mY2VqnQds"
      },
      "execution_count": null,
      "outputs": []
    },
    {
      "cell_type": "markdown",
      "source": [
        "## **`3d.`** NNS по конкатенации эмбеддингов: [Acc. **92.09**]"
      ],
      "metadata": {
        "id": "iyIbTtxLGK4H"
      }
    },
    {
      "cell_type": "markdown",
      "source": [
        "### Обработка промптов"
      ],
      "metadata": {
        "id": "o_00FL9MGhus"
      }
    },
    {
      "cell_type": "code",
      "source": [
        "test_sents = query_dataset['sentence_good']\n",
        "test_dataset = full_ds.filter(pl.col('sentence_good').is_in(test_sents))\n",
        "test_sents_pair = test_dataset['pair_id']\n",
        "test_sents_pair = full_ds.filter(pl.col('pair_id').is_in(test_sents_pair))\n",
        "final_test = test_dataset.join(test_sents_pair, on=\"pair_id\", how=\"inner\")\n",
        "final_test"
      ],
      "metadata": {
        "collapsed": true,
        "id": "6bV77q3TGgr2"
      },
      "execution_count": null,
      "outputs": []
    },
    {
      "cell_type": "code",
      "source": [
        "propmpt_ds = form_embedding_prompt_ds(final_test, column_name='pairs_cnc')\n",
        "propmpt_ds"
      ],
      "metadata": {
        "collapsed": true,
        "id": "fbPTrNnAG04R"
      },
      "execution_count": null,
      "outputs": []
    },
    {
      "cell_type": "code",
      "source": [
        "prompts = generate_mapped_prompts(propmpt_ds, use_polars=True)"
      ],
      "metadata": {
        "id": "kkkDljI-G89S"
      },
      "execution_count": null,
      "outputs": []
    },
    {
      "cell_type": "code",
      "source": [
        "instruction = 'which of the following sentences is grammatically correct. Please respond with the number of the correct sentence, write a full stop and then explain your reasoning step-by-step.'\n",
        "\n",
        "results = evaluate_model(\n",
        "    api_keys=api_keys,\n",
        "    dataset=final_test.to_dicts(),\n",
        "    user_message=user_message,\n",
        "    get_correct_answer=get_correct_answer,\n",
        "    get_model_response=get_model_response,\n",
        "    instruction=instruction,\n",
        "    few_shot=True,\n",
        "    mapped_prompts=prompts,\n",
        "    output_filename=\"cnc_few_shot\",\n",
        "    limit=10,\n",
        "    print_responses=True\n",
        ")"
      ],
      "metadata": {
        "collapsed": true,
        "id": "5j1-G9ygHAtW"
      },
      "execution_count": null,
      "outputs": []
    },
    {
      "cell_type": "code",
      "source": [
        "pl.Config.set_fmt_str_lengths(1000)\n",
        "r = results['detailed_eval']\n",
        "exclude_cols = ['total_answers','accuracy', 'correct_answers',\t'model_answers', 'field', 'linguistics_term', 'UID']\n",
        "r = r.select([col for col in r.columns if col not in exclude_cols])\n",
        "r"
      ],
      "metadata": {
        "collapsed": true,
        "id": "DY30EZkZHgR2"
      },
      "execution_count": null,
      "outputs": []
    },
    {
      "cell_type": "markdown",
      "source": [
        "### Тестирование"
      ],
      "metadata": {
        "id": "_zNUOmnMHkxn"
      }
    },
    {
      "cell_type": "code",
      "source": [
        "instruction = 'which of the following sentences is grammatically correct. Please respond with the number of the correct sentence, write a full stop and then explain your reasoning step-by-step.'\n",
        "\n",
        "results = evaluate_model(\n",
        "    api_keys=api_keys,\n",
        "    dataset=final_test.to_dicts(),\n",
        "    user_message=user_message,\n",
        "    get_correct_answer=get_correct_answer,\n",
        "    get_model_response=get_model_response,\n",
        "    instruction=instruction,\n",
        "    few_shot=True,\n",
        "    mapped_prompts=prompts,\n",
        "    output_filename=\"cnc_few_shot\"\n",
        ")"
      ],
      "metadata": {
        "id": "DF6fpwbWHoOb"
      },
      "execution_count": null,
      "outputs": []
    },
    {
      "cell_type": "markdown",
      "source": [
        "\n",
        "\n",
        "---\n",
        "\n",
        "\n",
        "\n",
        "## **`4a.`** NNS по [покомпонентое произведение, разность]: [Acc. **89.4**]\n",
        "\n",
        "*простите за названия по-тупому: мне так было легче ориентироваться в блокноте (+ чтобы избежать конкатенации конкатенации)"
      ],
      "metadata": {
        "id": "InGdJ-NzY21Z"
      }
    },
    {
      "cell_type": "markdown",
      "source": [
        "### Обработка промптов"
      ],
      "metadata": {
        "id": "a8Ow9bjOYonj"
      }
    },
    {
      "cell_type": "code",
      "source": [
        "test_sents = query_dataset['sentence_good']\n",
        "test_dataset = full_ds.filter(pl.col('sentence_good').is_in(test_sents))\n",
        "test_sents_pair = test_dataset['pair_id']\n",
        "test_sents_pair = full_ds.filter(pl.col('pair_id').is_in(test_sents_pair))\n",
        "final_test = test_dataset.join(test_sents_pair, on=\"pair_id\", how=\"inner\")\n",
        "final_test"
      ],
      "metadata": {
        "collapsed": true,
        "id": "ZhcPDVhbYonk"
      },
      "execution_count": null,
      "outputs": []
    },
    {
      "cell_type": "code",
      "source": [
        "propmpt_ds = form_embedding_prompt_ds(final_test, column_name='pairs_prod_diff')\n",
        "propmpt_ds"
      ],
      "metadata": {
        "collapsed": true,
        "id": "RcLQyAgqYonk"
      },
      "execution_count": null,
      "outputs": []
    },
    {
      "cell_type": "code",
      "source": [
        "prompts = generate_mapped_prompts(propmpt_ds, use_polars=True)"
      ],
      "metadata": {
        "id": "DpBIs5NkYonl"
      },
      "execution_count": null,
      "outputs": []
    },
    {
      "cell_type": "code",
      "source": [
        "instruction = 'which of the following sentences is grammatically correct. Please respond with the number of the correct sentence, write a full stop and then explain your reasoning step-by-step.'\n",
        "\n",
        "results = evaluate_model(\n",
        "    api_keys=api_keys,\n",
        "    dataset=final_test.to_dicts(),\n",
        "    user_message=user_message,\n",
        "    get_correct_answer=get_correct_answer,\n",
        "    get_model_response=get_model_response,\n",
        "    instruction=instruction,\n",
        "    few_shot=True,\n",
        "    mapped_prompts=prompts,\n",
        "    output_filename=\"prod_diff_few_shot\",\n",
        "    limit=10,\n",
        "    print_responses=True\n",
        ")"
      ],
      "metadata": {
        "collapsed": true,
        "id": "Dr8JKaKGYonl"
      },
      "execution_count": null,
      "outputs": []
    },
    {
      "cell_type": "code",
      "source": [
        "pl.Config.set_fmt_str_lengths(1000)\n",
        "r = results['detailed_eval']\n",
        "exclude_cols = ['total_answers','accuracy', 'correct_answers',\t'model_answers', 'field', 'linguistics_term', 'UID']\n",
        "r = r.select([col for col in r.columns if col not in exclude_cols])\n",
        "r"
      ],
      "metadata": {
        "collapsed": true,
        "id": "6FrQ9IXvYonm"
      },
      "execution_count": null,
      "outputs": []
    },
    {
      "cell_type": "markdown",
      "source": [
        "### Тестирование"
      ],
      "metadata": {
        "id": "oGrYI68ZZS-w"
      }
    },
    {
      "cell_type": "code",
      "source": [
        "instruction = 'which of the following sentences is grammatically correct. Please respond with the number of the correct sentence, write a full stop and then explain your reasoning step-by-step.'\n",
        "\n",
        "results = evaluate_model(\n",
        "    api_keys=api_keys,\n",
        "    dataset=final_test.to_dicts(),\n",
        "    user_message=user_message,\n",
        "    get_correct_answer=get_correct_answer,\n",
        "    get_model_response=get_model_response,\n",
        "    instruction=instruction,\n",
        "    few_shot=True,\n",
        "    mapped_prompts=prompts,\n",
        "    output_filename=\"prod_diff_few_shot\"\n",
        ")"
      ],
      "metadata": {
        "id": "SiRV0f5gZWh6"
      },
      "execution_count": null,
      "outputs": []
    },
    {
      "cell_type": "markdown",
      "source": [
        "## **`4b.`** NNS по [усреднение, разность]: [Acc. **93.58**]"
      ],
      "metadata": {
        "id": "bAoaR-v6HsKf"
      }
    },
    {
      "cell_type": "markdown",
      "source": [
        "### Обработка промптов"
      ],
      "metadata": {
        "id": "CvK_NzPVpYAO"
      }
    },
    {
      "cell_type": "code",
      "source": [
        "test_sents = query_dataset['sentence_good']\n",
        "test_dataset = full_ds.filter(pl.col('sentence_good').is_in(test_sents))\n",
        "test_sents_pair = test_dataset['pair_id']\n",
        "test_sents_pair = full_ds.filter(pl.col('pair_id').is_in(test_sents_pair))\n",
        "final_test = test_dataset.join(test_sents_pair, on=\"pair_id\", how=\"inner\")\n",
        "final_test"
      ],
      "metadata": {
        "collapsed": true,
        "id": "l75ZdcIGpYAP"
      },
      "execution_count": null,
      "outputs": []
    },
    {
      "cell_type": "code",
      "source": [
        "propmpt_ds = form_embedding_prompt_ds(final_test, column_name='pairs_mean_diff')\n",
        "propmpt_ds"
      ],
      "metadata": {
        "collapsed": true,
        "id": "Y8wlrjkDpYAQ"
      },
      "execution_count": null,
      "outputs": []
    },
    {
      "cell_type": "code",
      "source": [
        "prompts = generate_mapped_prompts(propmpt_ds, use_polars=True)"
      ],
      "metadata": {
        "id": "Vs2OXUxcpYAR"
      },
      "execution_count": null,
      "outputs": []
    },
    {
      "cell_type": "code",
      "source": [
        "instruction = 'which of the following sentences is grammatically correct. Please respond with the number of the correct sentence, write a full stop and then explain your reasoning step-by-step.'\n",
        "\n",
        "results = evaluate_model(\n",
        "    api_keys=api_keys,\n",
        "    dataset=final_test.to_dicts(),\n",
        "    user_message=user_message,\n",
        "    get_correct_answer=get_correct_answer,\n",
        "    get_model_response=get_model_response,\n",
        "    instruction=instruction,\n",
        "    few_shot=True,\n",
        "    mapped_prompts=prompts,\n",
        "    output_filename=\"mean_diff_few_shot_test\",\n",
        "    limit=10,\n",
        "    print_responses=True\n",
        ")"
      ],
      "metadata": {
        "collapsed": true,
        "id": "zjNvxRFUpYAR"
      },
      "execution_count": null,
      "outputs": []
    },
    {
      "cell_type": "code",
      "source": [
        "pl.Config.set_fmt_str_lengths(1000)\n",
        "r = results['detailed_eval']\n",
        "exclude_cols = ['total_answers','accuracy', 'correct_answers',\t'model_answers', 'field', 'linguistics_term', 'UID']\n",
        "r = r.select([col for col in r.columns if col not in exclude_cols])\n",
        "r"
      ],
      "metadata": {
        "collapsed": true,
        "id": "nyM3jInXpYAS"
      },
      "execution_count": null,
      "outputs": []
    },
    {
      "cell_type": "markdown",
      "source": [
        "### Тестирование"
      ],
      "metadata": {
        "id": "LGzRVJTsopLi"
      }
    },
    {
      "cell_type": "code",
      "source": [
        "instruction = 'which of the following sentences is grammatically correct. Please respond with the number of the correct sentence, write a full stop and then explain your reasoning step-by-step.'\n",
        "\n",
        "results = evaluate_model(\n",
        "    api_keys=api_keys,\n",
        "    dataset=final_test.to_dicts(),\n",
        "    user_message=user_message,\n",
        "    get_correct_answer=get_correct_answer,\n",
        "    get_model_response=get_model_response,\n",
        "    instruction=instruction,\n",
        "    few_shot=True,\n",
        "    mapped_prompts=prompts,\n",
        "    output_filename=\"mean_diff_few_shot\"\n",
        ")"
      ],
      "metadata": {
        "id": "n-PuqUPzBVxj"
      },
      "execution_count": null,
      "outputs": []
    },
    {
      "cell_type": "markdown",
      "source": [
        "## **`4c.`** NNS по [конкатенация, разность]: [Acc. **91.94**]"
      ],
      "metadata": {
        "id": "C821sfMq-Arv"
      }
    },
    {
      "cell_type": "markdown",
      "source": [
        "### Обработка промптов"
      ],
      "metadata": {
        "id": "t8aumTqq-MnV"
      }
    },
    {
      "cell_type": "code",
      "source": [
        "test_sents = query_dataset['sentence_good']\n",
        "test_dataset = full_ds.filter(pl.col('sentence_good').is_in(test_sents))\n",
        "test_sents_pair = test_dataset['pair_id']\n",
        "test_sents_pair = full_ds.filter(pl.col('pair_id').is_in(test_sents_pair))\n",
        "final_test = test_dataset.join(test_sents_pair, on=\"pair_id\", how=\"inner\")\n",
        "final_test"
      ],
      "metadata": {
        "id": "G5-2jg1b-La7"
      },
      "execution_count": null,
      "outputs": []
    },
    {
      "cell_type": "code",
      "source": [
        "propmpt_ds = form_embedding_prompt_ds(final_test, column_name='pairs_cnc_diff')\n",
        "propmpt_ds"
      ],
      "metadata": {
        "collapsed": true,
        "id": "5TO0oWi8-h_t"
      },
      "execution_count": null,
      "outputs": []
    },
    {
      "cell_type": "code",
      "source": [
        "prompts = generate_mapped_prompts(propmpt_ds, use_polars=True)"
      ],
      "metadata": {
        "id": "zXXhOOag-r0K"
      },
      "execution_count": null,
      "outputs": []
    },
    {
      "cell_type": "code",
      "source": [
        "instruction = 'which of the following sentences is grammatically correct. Please respond with the number of the correct sentence, write a full stop and then explain your reasoning step-by-step.'\n",
        "\n",
        "results = evaluate_model(\n",
        "    api_keys=api_keys,\n",
        "    dataset=final_test.to_dicts(),\n",
        "    user_message=user_message,\n",
        "    get_correct_answer=get_correct_answer,\n",
        "    get_model_response=get_model_response,\n",
        "    instruction=instruction,\n",
        "    few_shot=True,\n",
        "    mapped_prompts=prompts,\n",
        "    output_filename=\"cnc_diff_few_shot\",\n",
        "    limit=10,\n",
        "    print_responses=True\n",
        ")"
      ],
      "metadata": {
        "collapsed": true,
        "id": "Vuy8AzZO-tVp"
      },
      "execution_count": null,
      "outputs": []
    },
    {
      "cell_type": "code",
      "source": [
        "pl.Config.set_fmt_str_lengths(1000)\n",
        "r = results['detailed_eval']\n",
        "exclude_cols = ['total_answers','accuracy', 'correct_answers',\t'model_answers', 'field', 'linguistics_term', 'UID']\n",
        "r = r.select([col for col in r.columns if col not in exclude_cols])\n",
        "r"
      ],
      "metadata": {
        "id": "-zIRGOCkBQuM",
        "collapsed": true
      },
      "execution_count": null,
      "outputs": []
    },
    {
      "cell_type": "markdown",
      "source": [
        "### Тестирование"
      ],
      "metadata": {
        "id": "bLEszkMkBYdC"
      }
    },
    {
      "cell_type": "code",
      "source": [
        "instruction = 'which of the following sentences is grammatically correct. Please respond with the number of the correct sentence, write a full stop and then explain your reasoning step-by-step.'\n",
        "\n",
        "results = evaluate_model(\n",
        "    api_keys=api_keys,\n",
        "    dataset=final_test.to_dicts(),\n",
        "    user_message=user_message,\n",
        "    get_correct_answer=get_correct_answer,\n",
        "    get_model_response=get_model_response,\n",
        "    instruction=instruction,\n",
        "    few_shot=True,\n",
        "    mapped_prompts=prompts,\n",
        "    output_filename=\"cnc_diff_few_shot\"\n",
        ")"
      ],
      "metadata": {
        "id": "_4X_U7cO4Kcr"
      },
      "execution_count": null,
      "outputs": []
    },
    {
      "cell_type": "markdown",
      "source": [
        "\n",
        "\n",
        "---\n",
        "\n",
        "\n",
        "\n",
        "## **`3a*.`** NNS по нормализованной разности:"
      ],
      "metadata": {
        "id": "pRGGLguJBGSc"
      }
    },
    {
      "cell_type": "markdown",
      "source": [
        "### Обработка промптов"
      ],
      "metadata": {
        "id": "8vBFIvp6BGSd"
      }
    },
    {
      "cell_type": "code",
      "source": [
        "test_sents = query_dataset['sentence_good']\n",
        "test_dataset = full_ds.filter(pl.col('sentence_good').is_in(test_sents))\n",
        "test_sents_pair = test_dataset['pair_id']\n",
        "test_sents_pair = full_ds.filter(pl.col('pair_id').is_in(test_sents_pair))\n",
        "final_test = test_dataset.join(test_sents_pair, on=\"pair_id\", how=\"inner\")\n",
        "final_test"
      ],
      "metadata": {
        "collapsed": true,
        "id": "bEtq-vGLBGSe"
      },
      "execution_count": null,
      "outputs": []
    },
    {
      "cell_type": "code",
      "source": [
        "propmpt_ds = form_embedding_prompt_ds(final_test, column_name='pairs_norm_diff')\n",
        "propmpt_ds"
      ],
      "metadata": {
        "collapsed": true,
        "id": "l66jmk-3BGSe"
      },
      "execution_count": null,
      "outputs": []
    },
    {
      "cell_type": "code",
      "source": [
        "prompts = generate_mapped_prompts(propmpt_ds, use_polars=True)"
      ],
      "metadata": {
        "id": "sOGUXMXjBGSf"
      },
      "execution_count": null,
      "outputs": []
    },
    {
      "cell_type": "code",
      "source": [
        "instruction = 'which of the following sentences is grammatically correct. Please respond with the number of the correct sentence, write a full stop and then explain your reasoning step-by-step.'\n",
        "\n",
        "results = evaluate_model(\n",
        "    api_keys=api_keys,\n",
        "    dataset=final_test.to_dicts(),\n",
        "    user_message=user_message,\n",
        "    get_correct_answer=get_correct_answer,\n",
        "    get_model_response=get_model_response,\n",
        "    instruction=instruction,\n",
        "    few_shot=True,\n",
        "    mapped_prompts=prompts,\n",
        "    output_filename=\"norm_diff_few_shot\",\n",
        "    limit=10,\n",
        "    print_responses=True\n",
        ")"
      ],
      "metadata": {
        "collapsed": true,
        "id": "K4_iESbYBGSf"
      },
      "execution_count": null,
      "outputs": []
    },
    {
      "cell_type": "code",
      "source": [
        "pl.Config.set_fmt_str_lengths(1000)\n",
        "r = results['detailed_eval']\n",
        "exclude_cols = ['total_answers','accuracy', 'correct_answers',\t'model_answers', 'field', 'linguistics_term', 'UID']\n",
        "r = r.select([col for col in r.columns if col not in exclude_cols])\n",
        "r"
      ],
      "metadata": {
        "collapsed": true,
        "id": "MrsNyjLABGSg"
      },
      "execution_count": null,
      "outputs": []
    },
    {
      "cell_type": "markdown",
      "source": [
        "### Тестирование"
      ],
      "metadata": {
        "id": "yEOljJYCBGSg"
      }
    },
    {
      "cell_type": "code",
      "source": [
        "instruction = 'which of the following sentences is grammatically correct. Please respond with the number of the correct sentence, write a full stop and then explain your reasoning step-by-step.'\n",
        "\n",
        "results = evaluate_model(\n",
        "    api_keys=api_keys,\n",
        "    dataset=final_test.to_dicts(),\n",
        "    user_message=user_message,\n",
        "    get_correct_answer=get_correct_answer,\n",
        "    get_model_response=get_model_response,\n",
        "    instruction=instruction,\n",
        "    few_shot=True,\n",
        "    mapped_prompts=prompts,\n",
        "    output_filename=\"norm_diff_few_shot\"\n",
        ")"
      ],
      "metadata": {
        "id": "IsWuNVOaBGSh"
      },
      "execution_count": null,
      "outputs": []
    },
    {
      "cell_type": "markdown",
      "source": [
        "# Обзор/анализ ошибок\n",
        "\n",
        "\n",
        "\n",
        "---\n"
      ],
      "metadata": {
        "id": "r5hyTZUqu3nN"
      }
    },
    {
      "cell_type": "code",
      "source": [
        "import polars as pl\n",
        "\n",
        "random_few_shot = pl.read_csv(\"/content/drive/MyDrive/hw2/reports/random_few_shot.csv\")\n",
        "uid_few_shot = pl.read_csv(\"/content/drive/MyDrive/hw2/reports/uid_few_shot.csv\")\n",
        "\n",
        "bad_emb_few_shot = pl.read_csv(\"/content/drive/MyDrive/hw2/reports/bad_emb_few_shot.csv\")\n",
        "good_emb_few_shot = pl.read_csv(\"/content/drive/MyDrive/hw2/reports/good_emb_few_shot.csv\")\n",
        "\n",
        "diff_few_shot = pl.read_csv(\"/content/drive/MyDrive/hw2/reports/diff_few_shot.csv\")\n",
        "mean_few_shot = pl.read_csv(\"/content/drive/MyDrive/hw2/reports/mean_few_shot.csv\")\n",
        "cnc_few_shot = pl.read_csv(\"/content/drive/MyDrive/hw2/reports/cnc_few_shot.csv\")\n",
        "prod_few_shot = pl.read_csv(\"/content/drive/MyDrive/hw2/reports/prod_few_shot.csv\")\n",
        "\n",
        "mean_diff_few_shot = pl.read_csv(\"/content/drive/MyDrive/hw2/reports/mean_diff_few_shot.csv\")\n",
        "cnc_diff_few_shot = pl.read_csv(\"/content/drive/MyDrive/hw2/reports/cnc_few_shot.csv\")\n",
        "prod_diff_few_shot = pl.read_csv(\"/content/drive/MyDrive/hw2/reports/prod_diff_few_shot.csv\")"
      ],
      "metadata": {
        "id": "iXkfiAQgvEsH"
      },
      "execution_count": null,
      "outputs": []
    },
    {
      "cell_type": "code",
      "source": [
        "def create_reports(df):\n",
        "  reports = {\n",
        "            key: df.group_by(key).agg([\n",
        "                pl.col('is_correct').sum().alias('correct_answers'),\n",
        "                pl.col('total_answers').sum().alias('total_answers'),\n",
        "                pl.col('accuracy').mean().alias('accuracy')\n",
        "            ]).sort('accuracy', descending=True)\n",
        "            for key in ['field', 'linguistics_term', 'UID']\n",
        "        }\n",
        "  reports['overall_accuracy'] = (df.select(pl.col('is_correct').sum() / pl.col('total_answers').sum()).item())\n",
        "  return reports"
      ],
      "metadata": {
        "id": "MQnYHt78w-iQ"
      },
      "execution_count": null,
      "outputs": []
    },
    {
      "cell_type": "code",
      "source": [
        "dfs = {\n",
        "    \"1a\": random_few_shot,\n",
        "    \"1b\": uid_few_shot,\n",
        "    \"2a\": bad_emb_few_shot,\n",
        "    \"2b\": good_emb_few_shot,\n",
        "    \"3a\": diff_few_shot,\n",
        "    \"3b\": mean_few_shot,\n",
        "    \"3c\": cnc_few_shot,\n",
        "    \"3d\": prod_few_shot,\n",
        "    \"4a\": mean_diff_few_shot,\n",
        "    \"4b\": cnc_diff_few_shot,\n",
        "    \"4c\": prod_diff_few_shot\n",
        "}"
      ],
      "metadata": {
        "id": "TPZfoBva5YQr"
      },
      "execution_count": null,
      "outputs": []
    },
    {
      "cell_type": "code",
      "source": [
        "for id, df in dfs.items():\n",
        "    dfs[id] = create_reports(df)"
      ],
      "metadata": {
        "id": "z9rxHMDNxTig"
      },
      "execution_count": null,
      "outputs": []
    },
    {
      "cell_type": "code",
      "source": [
        "import pandas as pd\n",
        "\n",
        "def create_field_reports(reports_dict, field):\n",
        "    df = reports_dict[field]\n",
        "    df = df.to_pandas()\n",
        "    return df"
      ],
      "metadata": {
        "id": "VQYGpxoOCq0Q"
      },
      "execution_count": null,
      "outputs": []
    },
    {
      "cell_type": "code",
      "source": [
        "def create_overall_report(criterion):\n",
        "    accuracy_reports = {\n",
        "      name: create_field_reports(df, criterion)\n",
        "      for name, df in dfs.items()\n",
        "    }\n",
        "    merged_df = list(accuracy_reports.values())[0][[criterion, 'accuracy']]\n",
        "    merged_df.rename(columns={'accuracy': list(accuracy_reports.keys())[0]}, inplace=True)\n",
        "    for name, report in list(accuracy_reports.items())[1:]:\n",
        "        report = report[[criterion, 'accuracy']]\n",
        "        merged_df = merged_df.merge(report, on=criterion, how='outer')\n",
        "        merged_df.rename(columns={'accuracy': name}, inplace=True)\n",
        "    merged_df.set_index(criterion, inplace=True)\n",
        "    method_means = merged_df.mean().sort_values(ascending=False)\n",
        "    columns_order = method_means.index.tolist()\n",
        "    # чтобы еще рейтинг был\n",
        "    term_means = merged_df.mean(axis=1).sort_values(ascending=False)\n",
        "    row_order = term_means.index.tolist()\n",
        "    merged_df = merged_df.loc[row_order, columns_order]\n",
        "    return merged_df"
      ],
      "metadata": {
        "id": "7KHI-vG_wP1C"
      },
      "execution_count": null,
      "outputs": []
    },
    {
      "cell_type": "code",
      "source": [
        "merged_df = create_overall_report('linguistics_term')\n",
        "merged_df"
      ],
      "metadata": {
        "collapsed": true,
        "id": "_5K8sfk700bA"
      },
      "execution_count": null,
      "outputs": []
    },
    {
      "cell_type": "code",
      "source": [
        "import seaborn as sns\n",
        "import matplotlib.pyplot as plt\n",
        "\n",
        "plt.figure(figsize=(10, 6))\n",
        "sns.heatmap(merged_df.T, cmap='viridis', annot=True, linewidths=0.5, square=True)\n",
        "plt.xlabel('Linguistics Term', fontsize=10)\n",
        "plt.ylabel('Few-Shot Method', fontsize=10)\n",
        "plt.xticks(rotation=45, ha='right')\n",
        "plt.yticks(fontsize=10)\n",
        "plt.show()"
      ],
      "metadata": {
        "id": "cfsuNdXGE-44"
      },
      "execution_count": null,
      "outputs": []
    },
    {
      "cell_type": "code",
      "source": [
        "low_acc_uids = merged_df[merged_df.mean(axis=1) < 0.85].index\n",
        "list(low_acc_uids)[::-1]"
      ],
      "metadata": {
        "id": "EohkQ8vDMc9K"
      },
      "execution_count": null,
      "outputs": []
    },
    {
      "cell_type": "code",
      "source": [
        "merged_df = create_overall_report('UID')\n",
        "merged_df"
      ],
      "metadata": {
        "id": "cFws97VNGQP5"
      },
      "execution_count": null,
      "outputs": []
    },
    {
      "cell_type": "code",
      "source": [
        "plt.figure(figsize=(40, 5))\n",
        "sns.heatmap(merged_df.T, cmap='viridis', annot=True, linewidths=0.5, square=True)\n",
        "plt.ylabel('Few-Shot Method', fontsize=12)\n",
        "plt.xticks(rotation=45, ha='right', fontsize=12)\n",
        "plt.yticks(fontsize=12)\n",
        "plt.show()"
      ],
      "metadata": {
        "id": "ff_KbfT6GXQd"
      },
      "execution_count": null,
      "outputs": []
    },
    {
      "cell_type": "code",
      "source": [
        "low_accuracy_uids = merged_df[merged_df.mean(axis=1) < 0.75].index\n",
        "list(low_accuracy_uids)[::-1]"
      ],
      "metadata": {
        "id": "X_ISDz3ZL89R"
      },
      "execution_count": null,
      "outputs": []
    },
    {
      "cell_type": "code",
      "source": [
        "merged_df = create_overall_report('field')\n",
        "merged_df"
      ],
      "metadata": {
        "id": "L0P3EV8GDr6t"
      },
      "execution_count": null,
      "outputs": []
    },
    {
      "cell_type": "code",
      "source": [
        "plt.figure(figsize=(5, 6))\n",
        "sns.heatmap(merged_df.T, cmap='viridis', annot=True, linewidths=0.5, square=True)\n",
        "plt.xlabel('Field', fontsize=10)\n",
        "plt.ylabel('Few-Shot Method', fontsize=10)\n",
        "plt.xticks(rotation=45, ha='right')\n",
        "plt.yticks(fontsize=10)\n",
        "plt.show()"
      ],
      "metadata": {
        "id": "5pDmyVr3F4Os"
      },
      "execution_count": null,
      "outputs": []
    },
    {
      "cell_type": "markdown",
      "source": [
        "# Дообучение матрицы проекций эмбеддингов\n",
        "\n",
        "\n",
        "---\n"
      ],
      "metadata": {
        "id": "6IXxyAiXFUMt"
      }
    },
    {
      "cell_type": "markdown",
      "source": [
        "## Конфигурация модели"
      ],
      "metadata": {
        "id": "f-oxN13n0-Z0"
      }
    },
    {
      "cell_type": "code",
      "source": [
        "import torch\n",
        "import torch.nn.functional as F\n",
        "\n",
        "# взято из https://github.com/HarshSulakhe/siamesenetworks-pytorch/blob/master/loss.py + адаптировано под мой случай (метки классов поменялись местами)\n",
        "# (просто я изначально несколько часов не могла понять, почему у меня получалась не кластеризация, а какая-то генерация теста роршаха, хотя все нормально обучалось)\n",
        "# по сути можно было еще попробовать triplet loss, infoNCE loss, etc, но с contrastive loss было меньше шансов напортачить:\n",
        "# я слишком много нашла способов формирования триплетов и не могу сказать, что достаточно в них вникла, чтобы понимать, какой лучше использовать...\n",
        "# (соответственно, цели были скромные -- просто чтобы хоть что-то как-то работало...)\n",
        "class ContrastiveLoss(torch.nn.Module):\n",
        "    def __init__(self, margin=1.0):\n",
        "        super(ContrastiveLoss, self).__init__()\n",
        "        self.margin = margin\n",
        "\n",
        "    def forward(self, output1, output2, label):\n",
        "        # считаем евклидово расстояние между выходами модели\n",
        "        euclidean_distance = F.pairwise_distance(output1, output2)\n",
        "        # для похожих пар (label=1) минимизируем расстояние\n",
        "        pos = label * torch.pow(euclidean_distance, 2)\n",
        "        # для разных пар (label=0) увеличиваем расстояние\n",
        "        neg = (1 - label) * torch.pow(torch.clamp(self.margin - euclidean_distance, min=0.0), 2)\n",
        "        # усредняем лосс по батчу\n",
        "        loss_contrastive = torch.mean(pos + neg)\n",
        "        return loss_contrastive"
      ],
      "metadata": {
        "id": "Cls1_5bnOzEv"
      },
      "execution_count": null,
      "outputs": []
    },
    {
      "cell_type": "code",
      "source": [
        "from torch.utils.data import Dataset\n",
        "\n",
        "# делаем класс датасета для хранения эмбеддингов и меток + генерации пар, между которыми надо будeт уменьшать/увеличивать расстояние\n",
        "# (решила лишний раз не возиться и взяла готовый Dataset Pytorch'a, чтобы потом использовать библиотечный DataLoader)\n",
        "class ContrastiveDataset(Dataset):\n",
        "    def __init__(self, embeddings, labels, num_pairs):\n",
        "        self.embeddings = embeddings  # embeddings храним на CPU\n",
        "        self.labels = torch.tensor(labels)  # метки тоже на CPU\n",
        "        self.pair_indices, self.pair_labels = self.get_pairs(self.labels, num_pairs)\n",
        "\n",
        "    def __len__(self):\n",
        "        return len(self.pair_labels)\n",
        "\n",
        "    def __getitem__(self, idx):\n",
        "        # достаём индексы пары\n",
        "        i1, i2 = self.pair_indices[idx]\n",
        "        # достаём эмбеддинги по индексам (пока на CPU)\n",
        "        emb1 = self.embeddings[i1]\n",
        "        emb2 = self.embeddings[i2]\n",
        "        label = self.pair_labels[idx]\n",
        "        return emb1, emb2, label\n",
        "\n",
        "    def get_pairs(self, labels, num_pairs):\n",
        "        pairs_idx = []\n",
        "        labels_pairs = []\n",
        "        indices = torch.randint(0, len(labels), (num_pairs,))\n",
        "        for i_1 in indices:\n",
        "            label1 = labels[i_1]\n",
        "            same_class = torch.rand(1).item() > 0.5\n",
        "            if same_class:\n",
        "                i_2_candidates = torch.where(labels == label1)[0]\n",
        "            else:\n",
        "                i_2_candidates = torch.where(labels != label1)[0]\n",
        "            i_2 = i_2_candidates[torch.randint(0, len(i_2_candidates), (1,))].squeeze(0)\n",
        "            # сохраняем только индексы пар, а не сами тензоры\n",
        "            pairs_idx.append((i_1.item(), i_2.item()))\n",
        "            labels_pairs.append(float(same_class))\n",
        "        return pairs_idx, torch.tensor(labels_pairs, dtype=torch.float32)"
      ],
      "metadata": {
        "id": "zvMPRezcT3na"
      },
      "execution_count": null,
      "outputs": []
    },
    {
      "cell_type": "code",
      "source": [
        "#рассчитывает средние расстояния внутри класса и между классами\n",
        "def calculate_class_distances(model, dataloader, device):\n",
        "    model.eval()\n",
        "    intra_class_distances = []\n",
        "    inter_class_distances = []\n",
        "    with torch.no_grad():\n",
        "        for emb1, emb2, labels in dataloader:\n",
        "            emb1, emb2, labels = emb1.to(device), emb2.to(device), labels.to(device)\n",
        "            out1, out2 = model(emb1), model(emb2)\n",
        "            distances = F.pairwise_distance(out1, out2).cpu().numpy()\n",
        "            # разделяем на внутри класса (label=1) и между классами (label=0)\n",
        "            labels_np = labels.cpu().numpy()\n",
        "            intra_class_idx = labels_np == 1\n",
        "            inter_class_idx = labels_np == 0\n",
        "            if np.any(intra_class_idx):\n",
        "                intra_class_distances.extend(distances[intra_class_idx])\n",
        "            if np.any(inter_class_idx):\n",
        "                inter_class_distances.extend(distances[inter_class_idx])\n",
        "    # рассчитываем средние расстояния\n",
        "    mean_intra_class = np.mean(intra_class_distances) if intra_class_distances else 0\n",
        "    mean_inter_class = np.mean(inter_class_distances) if inter_class_distances else 0\n",
        "    # отношение межклассового расстояния к внутриклассовому\n",
        "    ratio = mean_inter_class / mean_intra_class if mean_intra_class > 0 else 0\n",
        "    return mean_intra_class, mean_inter_class, ratio"
      ],
      "metadata": {
        "id": "My2QN7fBb3zF"
      },
      "execution_count": null,
      "outputs": []
    },
    {
      "cell_type": "code",
      "source": [
        "# модель по сути просто линейное преобразование эмбеддингов\n",
        "class ProjectionMatrix(torch.nn.Module):\n",
        "    def __init__(self, input_dim, projection_dim, hidden_dim=None, dropout=None):\n",
        "        super().__init__()\n",
        "        self.projection = torch.nn.Sequential(\n",
        "            torch.nn.Linear(input_dim, projection_dim),\n",
        "        )\n",
        "\n",
        "    def forward(self, x):\n",
        "        projected = self.projection(x)\n",
        "        return F.normalize(projected, p=2, dim=-1)"
      ],
      "metadata": {
        "id": "evYndxahW06l"
      },
      "execution_count": null,
      "outputs": []
    },
    {
      "cell_type": "code",
      "source": [
        "# это было ради интереса, т.к. ввиду того, что расстояния\n",
        "# между грамматичными и неграмматичными предложения маленькие,\n",
        "# и сформировать, и полностью отдалить кластеры друг от друга\n",
        "# было затруднительно (хотя мб в этом цель и не заключалась)\n",
        "# + я не сильно экспериментировала с гиперпараметрами\n",
        "\n",
        "class ProjectionMultiLayer(torch.nn.Module):\n",
        "    def __init__(self, input_dim, projection_dim, hidden_dim=None, dropout=None):\n",
        "        super().__init__()\n",
        "        self.projection = torch.nn.Sequential(\n",
        "            torch.nn.Linear(input_dim, hidden_dim),\n",
        "            torch.nn.BatchNorm1d(hidden_dim),\n",
        "            torch.nn.ReLU(),\n",
        "            torch.nn.Dropout(dropout),\n",
        "            torch.nn.Linear(hidden_dim, projection_dim)\n",
        "        )\n",
        "\n",
        "    def forward(self, x):\n",
        "        projected = self.projection(x)\n",
        "        # (L2) нормализуем\n",
        "        return F.normalize(projected, p=2, dim=-1)"
      ],
      "metadata": {
        "id": "SaN8-V4t4TUV"
      },
      "execution_count": null,
      "outputs": []
    },
    {
      "cell_type": "code",
      "source": [
        "import matplotlib.pyplot as plt\n",
        "from IPython import display\n",
        "from sklearn.metrics import roc_curve\n",
        "\n",
        "# функция для построения графиков лосса и других метрик\n",
        "# немного поменяла свою старую, чтобы она была более интерпретируема (добавила решетку + теперь выкалываются точки наблюдений по эпохам)\n",
        "# (старая на самом деле была адаптирована под Ваш код с одного из блокнотов МФК по глубокому обучению,\n",
        "# и я не вдавалась в подробности параметров отображенмя. сейчас решила уже залезть в документацию)\n",
        "\n",
        "def plot_metrics(metrics):\n",
        "    # получаем все метрики из словаря\n",
        "    train_losses = metrics.get('train_losses', [])\n",
        "    val_losses = metrics.get('val_losses', [])\n",
        "    train_accuracies = metrics.get('train_accuracies', [])\n",
        "    val_accuracies = metrics.get('val_accuracies', [])\n",
        "    val_precisions = metrics.get('val_precisions', [])\n",
        "    val_recalls = metrics.get('val_recalls', [])\n",
        "    val_f1s = metrics.get('val_f1s', [])\n",
        "    val_aucs = metrics.get('val_aucs', [])\n",
        "    val_intra_dists = metrics.get('val_intra_dists', [])\n",
        "    val_inter_dists = metrics.get('val_inter_dists', [])\n",
        "    val_dist_ratios = metrics.get('val_dist_ratios', [])\n",
        "    train_intra_dists = metrics.get('train_intra_dists', [])\n",
        "    train_inter_dists = metrics.get('train_inter_dists', [])\n",
        "    train_dist_ratios = metrics.get('train_dist_ratios', [])\n",
        "    val_roc_data = metrics.get('val_roc_data', [])\n",
        "\n",
        "    # создаем фигуру с 2 рядами по 3 графика в каждом\n",
        "    fig, axes = plt.subplots(2, 3, figsize=(15, 9))\n",
        "\n",
        "    # график лосса\n",
        "    axes[0, 0].plot(train_losses, label='Train Loss', marker='.')\n",
        "    axes[0, 0].plot(val_losses, label='Validation Loss', marker='.')\n",
        "    axes[0, 0].set_xlabel('Epochs')\n",
        "    axes[0, 0].set_ylabel('Loss')\n",
        "    axes[0, 0].legend()\n",
        "    axes[0, 0].grid(True)\n",
        "    axes[0, 0].set_title('Loss')\n",
        "\n",
        "    # график точности\n",
        "    if train_accuracies and val_accuracies:\n",
        "        axes[0, 1].plot(train_accuracies, label='Train Accuracy', marker='.', color='green')\n",
        "        axes[0, 1].plot(val_accuracies, label='Validation Accuracy', marker='.', color='blue')\n",
        "        axes[0, 1].set_xlabel('Epochs')\n",
        "        axes[0, 1].set_ylabel('Accuracy')\n",
        "        axes[0, 1].legend()\n",
        "        axes[0, 1].grid(True)\n",
        "        axes[0, 1].set_title('Accuracy')\n",
        "\n",
        "    # график precision, recall, f1\n",
        "    if val_precisions and val_recalls and val_f1s:\n",
        "        axes[0, 2].plot(val_precisions, label='Precision', marker='.', color='orange')\n",
        "        axes[0, 2].plot(val_recalls, label='Recall', marker='.', color='purple')\n",
        "        axes[0, 2].plot(val_f1s, label='F1 Score', marker='.', color='red')\n",
        "        axes[0, 2].set_xlabel('Epochs')\n",
        "        axes[0, 2].set_ylabel('Score')\n",
        "        axes[0, 2].legend()\n",
        "        axes[0, 2].grid(True)\n",
        "        axes[0, 2].set_title('Validation Precision, Recall & F1')\n",
        "\n",
        "    # график ROC-AUC\n",
        "    if val_aucs:\n",
        "        ax_roc = axes[1, 0]\n",
        "        # отображаем AUC по эпохам\n",
        "        ax_roc.plot(val_aucs, label='AUC', marker='.', color='yellow')\n",
        "        ax_roc.set_xlabel('Epochs')\n",
        "        ax_roc.set_ylabel('AUC Score')\n",
        "        ax_roc.legend(loc='upper left')\n",
        "        ax_roc.grid(True)\n",
        "        ax_roc.set_title('AUC & ROC Curve')\n",
        "        # добавляем ROC кривую для последней эпохи, если данные есть\n",
        "        if val_roc_data and len(val_roc_data) > 0:\n",
        "            # создаем второй график для ROC кривой\n",
        "            ax_roc_curve = ax_roc.twinx()\n",
        "            # берем данные последней эпохи\n",
        "            fpr, tpr, _ = val_roc_data[-1]\n",
        "            # чистим предыдущую ROC кривую (чтобы обновлять на каждой эпохе)\n",
        "            ax_roc_curve.clear()\n",
        "            # отображаем ROC кривую\n",
        "            ax_roc_curve.plot(fpr, tpr, 'g-', alpha=0.7, label=f'ROC (AUC={val_aucs[-1]:.3f})')\n",
        "            ax_roc_curve.plot([0, 1], [0, 1], 'k--', alpha=0.3)  # диагональная линия\n",
        "            ax_roc_curve.set_ylabel('True Positive Rate')\n",
        "            ax_roc_curve.set_xlim([0, 1])\n",
        "            ax_roc_curve.set_ylim([0, 1.05])\n",
        "            ax_roc_curve.legend(loc='lower right')\n",
        "            # убедимся, что шкалы не перекрывают друг друга\n",
        "            ax_roc.set_zorder(ax_roc_curve.get_zorder() + 1)\n",
        "            ax_roc.patch.set_visible(False)\n",
        "        axes[1, 0].set_title('Validation ROC-AUC')\n",
        "\n",
        "    # график расстояний внутри и между классами\n",
        "    if val_intra_dists and val_inter_dists:\n",
        "        axes[1, 1].plot(val_intra_dists, label='Val Intra-class Distance', marker='.', color='teal')\n",
        "        axes[1, 1].plot(val_inter_dists, label='Val Inter-class Distance', marker='.', color='lightseagreen')\n",
        "    if train_intra_dists and train_inter_dists:\n",
        "        axes[1, 1].plot(train_intra_dists, label='Train Intra-class Distance', marker='.', color='brown')\n",
        "        axes[1, 1].plot(train_inter_dists, label='Train Inter-class Distance', marker='.', color='saddlebrown')\n",
        "    axes[1, 1].set_xlabel('Epochs')\n",
        "    axes[1, 1].set_ylabel('Distance')\n",
        "    axes[1, 1].legend()\n",
        "    axes[1, 1].grid(True)\n",
        "    axes[1, 1].set_title('Class Distances')\n",
        "\n",
        "    # график соотношения расстояний\n",
        "    if val_dist_ratios:\n",
        "        axes[1, 2].plot(val_dist_ratios, label='Val Distance Ratio', marker='.', color='purple')\n",
        "    if train_dist_ratios:\n",
        "        axes[1, 2].plot(train_dist_ratios, label='Train Distance Ratio', marker='.', color='magenta')\n",
        "    axes[1, 2].set_xlabel('Epochs')\n",
        "    axes[1, 2].set_ylabel('Ratio')\n",
        "    axes[1, 2].legend()\n",
        "    axes[1, 2].grid(True)\n",
        "    axes[1, 2].set_title('Inter/Intra Distance Ratio')\n",
        "\n",
        "    plt.tight_layout()\n",
        "    plt.show()"
      ],
      "metadata": {
        "id": "nkLDRuOcXO72"
      },
      "execution_count": null,
      "outputs": []
    },
    {
      "cell_type": "code",
      "source": [
        "# полная оценка модели по всем метрикам\n",
        "def evaluate_model(model, dataloader, device, threshold=0.5):\n",
        "    model.eval()\n",
        "    all_dists = []\n",
        "    all_labels = []\n",
        "    all_preds = []\n",
        "\n",
        "    with torch.no_grad():\n",
        "        for emb1, emb2, labels in dataloader:\n",
        "            emb1, emb2 = emb1.to(device), emb2.to(device)\n",
        "            out1, out2 = model(emb1), model(emb2)\n",
        "            distances = F.pairwise_distance(out1, out2).cpu().numpy()\n",
        "            predictions = (distances < threshold).astype(float)\n",
        "            all_dists.extend(distances)\n",
        "            all_labels.extend(labels.cpu().numpy())\n",
        "            all_preds.extend(predictions)\n",
        "    all_dists = np.array(all_dists)\n",
        "    all_labels = np.array(all_labels)\n",
        "    all_preds = np.array(all_preds)\n",
        "\n",
        "    # метрики\n",
        "    accuracy = accuracy_score(all_labels, all_preds)\n",
        "    precision = precision_score(all_labels, all_preds, zero_division=0)\n",
        "    recall = recall_score(all_labels, all_preds, zero_division=0)\n",
        "    f1 = f1_score(all_labels, all_preds, zero_division=0)\n",
        "    auc = roc_auc_score(all_labels, -all_dists) if len(set(all_labels)) > 1 else 0\n",
        "    # roc-кривая\n",
        "    roc_data = None\n",
        "    if len(set(all_labels)) > 1:\n",
        "        fpr, tpr, thresholds = roc_curve(all_labels, -all_dists)\n",
        "        roc_data = (fpr, tpr, thresholds)\n",
        "    # расстояния внутри класса (пары того же класса, label=1)\n",
        "    intra_class_dists = all_dists[all_labels == 1]\n",
        "    mean_intra_class = np.mean(intra_class_dists) if len(intra_class_dists) > 0 else 0\n",
        "    # расстояния между классами (пары разных классов, label=0)\n",
        "    inter_class_dists = all_dists[all_labels == 0]\n",
        "    mean_inter_class = np.mean(inter_class_dists) if len(inter_class_dists) > 0 else 0\n",
        "    # соотношение расстояний\n",
        "    dist_ratio = mean_inter_class / mean_intra_class if mean_intra_class > 0 else 0\n",
        "\n",
        "    metrics = {\n",
        "        'accuracy': accuracy,\n",
        "        'precision': precision,\n",
        "        'recall': recall,\n",
        "        'f1_score': f1,\n",
        "        'auc': auc,\n",
        "        'roc_data': roc_data,\n",
        "        'mean_intra_class_dist': mean_intra_class,\n",
        "        'mean_inter_class_dist': mean_inter_class,\n",
        "        'distance_ratio': dist_ratio\n",
        "    }\n",
        "\n",
        "    return metrics"
      ],
      "metadata": {
        "id": "GIcGRYfecg28"
      },
      "execution_count": null,
      "outputs": []
    },
    {
      "cell_type": "code",
      "source": [
        "from sklearn.metrics import accuracy_score, precision_score, recall_score, f1_score, roc_auc_score, roc_curve\n",
        "import numpy as np\n",
        "\n",
        "def train(model, train_dataloader, val_dataloader, loss_fn, optimizer, device, epochs=100, patience=5, delta=0.01, threshold=0.5):\n",
        "    # завожу переменные для реализации ранней остановки\n",
        "    best_val_f1 = 0.0\n",
        "    patience_counter = 0\n",
        "    best_model = None\n",
        "    # тут храню метрики для отрисовки\n",
        "    train_losses, val_losses = [], []\n",
        "    train_losses, val_losses = [], []\n",
        "    train_accuracies, val_accuracies = [], []\n",
        "    val_precisions, val_recalls, val_f1s, val_aucs = [], [], [], []\n",
        "    val_intra_dists, val_inter_dists, val_dist_ratios = [], [], []\n",
        "    train_intra_dists_list, train_inter_dists_list, train_dist_ratios_list = [], [], []\n",
        "    val_roc_data = []\n",
        "    plt.ion()\n",
        "\n",
        "    for epoch in tqdm(range(epochs), desc='Training', leave=True):\n",
        "        model.train()\n",
        "        train_loss_epoch = 0.0\n",
        "        # списки для сбора предсказаний и лейблов\n",
        "        all_train_preds, all_train_labels = [], []\n",
        "        all_train_dists = []\n",
        "        # проходим по батчам\n",
        "        for emb1, emb2, labels in train_dataloader:\n",
        "            emb1, emb2, labels = emb1.to(device), emb2.to(device), labels.to(device)\n",
        "            # прогоняем через модель\n",
        "            out1, out2 = model(emb1), model(emb2)\n",
        "            # считаем лосс\n",
        "            loss = loss_fn(out1, out2, labels)\n",
        "            # считаем евклидово расстояние\n",
        "            distances = F.pairwise_distance(out1, out2)\n",
        "            # делаем предсказания (если расстояние < threshold, то считаем пары похожими - класс 1)\n",
        "            predictions = (distances < threshold).float()\n",
        "            # сохраняем предсказания и исходные метки\n",
        "            all_train_dists.extend(distances.cpu().detach().numpy())\n",
        "            all_train_preds.extend(predictions.cpu().detach().numpy())\n",
        "            all_train_labels.extend(labels.cpu().detach().numpy())\n",
        "            optimizer.zero_grad()\n",
        "            loss.backward()\n",
        "            optimizer.step()\n",
        "            train_loss_epoch += loss.item()\n",
        "        # считаем метрики для трейна\n",
        "        train_acc = accuracy_score(all_train_labels, all_train_preds)\n",
        "        train_accuracies.append(train_acc)\n",
        "        # считаем средний лосс по батчу\n",
        "        train_losses.append(train_loss_epoch / len(train_dataloader))\n",
        "        # считаем средние расстояния\n",
        "        train_intra = np.mean([d for d, lbl in zip(all_train_dists, all_train_labels) if lbl == 1]) if any(np.array(all_train_labels)==1) else 0\n",
        "        train_inter = np.mean([d for d, lbl in zip(all_train_dists, all_train_labels) if lbl == 0]) if any(np.array(all_train_labels)==0) else 0\n",
        "        train_ratio = train_inter / train_intra if train_intra != 0 else 0\n",
        "        train_intra_dists_list.append(train_intra)\n",
        "        train_inter_dists_list.append(train_inter)\n",
        "        train_dist_ratios_list.append(train_ratio)\n",
        "\n",
        "        # валидация\n",
        "        val_loss_epoch = 0.0\n",
        "        # списки для метрик на валидации\n",
        "        all_val_preds, all_val_labels = [], []\n",
        "        all_val_dists = []  # для расчета AUC\n",
        "        model.eval()\n",
        "        with torch.no_grad():\n",
        "            for emb1, emb2, labels in val_dataloader:\n",
        "                emb1, emb2, labels = emb1.to(device), emb2.to(device), labels.to(device)\n",
        "                out1, out2 = model(emb1), model(emb2)\n",
        "                val_loss_epoch += loss_fn(out1, out2, labels).item()\n",
        "                # считаем расстояние между эмбеддингами\n",
        "                distances = F.pairwise_distance(out1, out2)\n",
        "                predictions = (distances < threshold).float()\n",
        "                # сохраняем всё для подсчета метрик\n",
        "                all_val_dists.extend(distances.cpu().detach().numpy())\n",
        "                all_val_preds.extend(predictions.cpu().detach().numpy())\n",
        "                all_val_labels.extend(labels.cpu().detach().numpy())\n",
        "        val_loss = val_loss_epoch / len(val_dataloader)\n",
        "        val_losses.append(val_loss)\n",
        "        # рассчитываем расстояния внутри и между классами\n",
        "        mean_intra_class, mean_inter_class, dist_ratio = calculate_class_distances(model, val_dataloader, device)\n",
        "        val_intra_dists.append(mean_intra_class)\n",
        "        val_inter_dists.append(mean_inter_class)\n",
        "        val_dist_ratios.append(dist_ratio)\n",
        "        # считаем все метрики для валидации\n",
        "        val_acc = accuracy_score(all_val_labels, all_val_preds)\n",
        "        val_precision = precision_score(all_val_labels, all_val_preds, zero_division=0)\n",
        "        val_recall = recall_score(all_val_labels, all_val_preds, zero_division=0)\n",
        "        val_f1 = f1_score(all_val_labels, all_val_preds, zero_division=0)\n",
        "        # для AUC нужны \"негативные\" значения дистанций, так как меньшая дистанция = больше вероятность похожей пары\n",
        "        val_auc = roc_auc_score(all_val_labels, -np.array(all_val_dists)) if len(set(all_val_labels)) > 1 else 0\n",
        "        # расчет данных для roc-кривой\n",
        "        if len(set(all_val_labels)) > 1:\n",
        "            fpr, tpr, thresholds = roc_curve(all_val_labels, -np.array(all_val_dists))\n",
        "            val_roc_data.append((fpr, tpr, thresholds))\n",
        "        # сохраняем метрики\n",
        "        val_accuracies.append(val_acc)\n",
        "        val_precisions.append(val_precision)\n",
        "        val_recalls.append(val_recall)\n",
        "        val_f1s.append(val_f1)\n",
        "        val_aucs.append(val_auc)\n",
        "\n",
        "        # выводим результаты\n",
        "        display.clear_output(wait=True)\n",
        "        current_metrics = {\n",
        "            'train_losses': train_losses,\n",
        "            'val_losses': val_losses,\n",
        "            'train_accuracies': train_accuracies,\n",
        "            'val_accuracies': val_accuracies,\n",
        "            'val_precisions': val_precisions,\n",
        "            'val_recalls': val_recalls,\n",
        "            'val_f1s': val_f1s,\n",
        "            'val_aucs': val_aucs,\n",
        "            'val_intra_dists': val_intra_dists,\n",
        "            'val_inter_dists': val_inter_dists,\n",
        "            'val_dist_ratios': val_dist_ratios,\n",
        "            'train_intra_dists': train_intra_dists_list,\n",
        "            'train_inter_dists': train_inter_dists_list,\n",
        "            'train_dist_ratios': train_dist_ratios_list,\n",
        "            'val_roc_data': val_roc_data\n",
        "        }\n",
        "        plot_metrics(current_metrics)\n",
        "        print(f'Epoch {epoch+1}:')\n",
        "        print(f'  Train - Loss: {train_losses[-1]:.4f}, Acc: {train_acc:.4f}')\n",
        "        print(f'  Val   - Loss: {val_loss:.4f}, Acc: {val_acc:.4f}, Prec: {val_precision:.4f}, Recall: {val_recall:.4f}, F1: {val_f1:.4f}, AUC: {val_auc:.4f}')\n",
        "        print(f'  Train Distances - Intra: {train_intra:.4f}, Inter: {train_inter:.4f}, Ratio: {train_ratio:.4f}')\n",
        "        print(f'  Val Distances - Intra: {mean_intra_class:.4f}, Inter: {mean_inter_class:.4f}, Ratio: {dist_ratio:.4f}')\n",
        "\n",
        "        # проверяем метрики для ранней остановки\n",
        "        if val_f1 - best_val_f1 > delta:\n",
        "            best_val_f1 = val_f1\n",
        "            patience_counter = 0\n",
        "            best_model = model.state_dict().copy()\n",
        "        else:\n",
        "            patience_counter += 1\n",
        "        if patience_counter >= patience:\n",
        "            print(f'Early stopping at epoch {epoch+1}')\n",
        "            break\n",
        "\n",
        "    model.load_state_dict(best_model)\n",
        "    # возвращаем все нужные метрики в словаре\n",
        "    metrics = {\n",
        "        'train_losses': train_losses,\n",
        "        'val_losses': val_losses,\n",
        "        'train_accuracies': train_accuracies,\n",
        "        'val_accuracies': val_accuracies,\n",
        "        'val_precisions': val_precisions,\n",
        "        'val_recalls': val_recalls,\n",
        "        'val_f1s': val_f1s,\n",
        "        'val_aucs': val_aucs,\n",
        "        'val_intra_dists': val_intra_dists,\n",
        "        'val_inter_dists': val_inter_dists,\n",
        "        'val_dist_ratios': val_dist_ratios,\n",
        "        'train_intra_dists': train_intra_dists_list,\n",
        "        'train_inter_dists': train_inter_dists_list,\n",
        "        'train_dist_ratios': train_dist_ratios_list,\n",
        "        'val_roc_data': val_roc_data\n",
        "    }\n",
        "    return model, metrics"
      ],
      "metadata": {
        "id": "9Bxy46KEFtFC"
      },
      "execution_count": null,
      "outputs": []
    },
    {
      "cell_type": "markdown",
      "source": [
        "## Загрузка данных, обработка меток"
      ],
      "metadata": {
        "id": "sJ0NF3Z91EvF"
      }
    },
    {
      "cell_type": "code",
      "source": [
        "!gdown 1lbWZhBnAFQXkQzdiOZMvEme65eTwh01s\n",
        "!gdown 1-FmScTwF8zGFNHiYO4_VlY6E7AIduxLe"
      ],
      "metadata": {
        "id": "pX9EnXoZof_o"
      },
      "execution_count": null,
      "outputs": []
    },
    {
      "cell_type": "code",
      "source": [
        "import json\n",
        "import polars as pl\n",
        "from sklearn.preprocessing import LabelEncoder\n",
        "\n",
        "ds = pl.read_parquet('/content/melted_ds.parquet')\n",
        "print(len(ds))\n",
        "classes = ds['type'].to_list()\n",
        "print(set(classes))\n",
        "print(len(set(classes)))\n",
        "\n",
        "le = LabelEncoder()\n",
        "encoded_labels = le.fit_transform(classes)\n",
        "mapping = {original: int(encoded) for original, encoded in zip(classes, encoded_labels)}\n",
        "with open(\"mapping.json\", \"w\") as f:\n",
        "    json.dump(mapping, f)"
      ],
      "metadata": {
        "id": "HSfwphRsiqjC"
      },
      "execution_count": null,
      "outputs": []
    },
    {
      "cell_type": "code",
      "source": [
        "# !gdown 1YVwqrux-FLxAa7PxqUFTgBsAAuUabdDA\n",
        "!gdown 1-FpghfZ2n4keFBTFPJKyEfTwizowEgNI"
      ],
      "metadata": {
        "id": "uPGDuJCXoHlZ"
      },
      "execution_count": null,
      "outputs": []
    },
    {
      "cell_type": "markdown",
      "source": [
        "## Обучение\n",
        "\n"
      ],
      "metadata": {
        "id": "MTu2B1bu1MI0"
      }
    },
    {
      "cell_type": "code",
      "source": [
        "import numpy as np\n",
        "from torch.utils.data import DataLoader\n",
        "\n",
        "device = torch.device(\"cuda\")\n",
        "embeddings = torch.from_numpy(np.load('/content/embeddings.npy')).to(torch.float32)\n",
        "num_train_pairs = 0.8 * len(encoded_labels)\n",
        "num_val_pairs = 0.2 * len(encoded_labels)\n",
        "train_dataset = ContrastiveDataset(embeddings, encoded_labels, int(num_train_pairs))\n",
        "val_dataset = ContrastiveDataset(embeddings, encoded_labels, int(num_val_pairs))\n",
        "train_dataloader = DataLoader(train_dataset, batch_size=64, shuffle=True)\n",
        "val_dataloader = DataLoader(val_dataset, batch_size=64, shuffle=False)"
      ],
      "metadata": {
        "id": "bmTBPh1euW3i"
      },
      "execution_count": null,
      "outputs": []
    },
    {
      "cell_type": "code",
      "source": [
        "embeddings[0]"
      ],
      "metadata": {
        "id": "9Z1FZmWGypLm"
      },
      "execution_count": null,
      "outputs": []
    },
    {
      "cell_type": "code",
      "source": [
        "# model = ProjectionMatrix(\n",
        "#     input_dim=1024,\n",
        "#     projection_dim=512,\n",
        "# ).to(device)\n",
        "\n",
        "model = ProjectionMultiLayer(\n",
        "    input_dim=1024,\n",
        "    hidden_dim=768,\n",
        "    projection_dim=512,\n",
        "    dropout=0.1\n",
        ").to(device)\n",
        "\n",
        "optimizer = torch.optim.Adam(model.parameters(), lr=1e-3)\n",
        "loss_fn = ContrastiveLoss(margin=0.5).to(device)\n",
        "model, metrics = train(model, train_dataloader, val_dataloader, loss_fn, optimizer, device=device,\n",
        "                      epochs=100, patience=5, delta=0.0075, threshold=0.25)\n",
        "torch.save(model.state_dict(), '/content/drive/My Drive/projection_model.pth')\n",
        "\n",
        "final_metrics = evaluate_model(model, val_dataloader, device, threshold=0.25)\n",
        "print('Final evaluation metrics:')\n",
        "for k, v in final_metrics.items():\n",
        "    if isinstance(v, (float, int)):\n",
        "        print(f\"  {k}: {v:.4f}\")\n",
        "    else:\n",
        "        print(f\"  {k}: {v}\")\n",
        "\n",
        "f_embeddings = model(embeddings.to(device)).detach().cpu().numpy()\n",
        "umap_f_emb = umap.UMAP(n_components=2, metric='cosine').fit(f_embeddings)\n",
        "np.save('/content/drive/My Drive/f_embedding.npy', f_embeddings)\n",
        "f_embeddings.shape"
      ],
      "metadata": {
        "id": "Q_nM3paiWb5p"
      },
      "execution_count": null,
      "outputs": []
    },
    {
      "cell_type": "code",
      "source": [
        "model = ProjectionMatrix(\n",
        "    input_dim=1024,\n",
        "    projection_dim=512,\n",
        ").to(device)\n",
        "\n",
        "# model = ProjectionMultiLayer(\n",
        "#     input_dim=1024,\n",
        "#     hidden_dim=768,\n",
        "#     projection_dim=512,\n",
        "#     dropout=0.1\n",
        "# ).to(device)\n",
        "\n",
        "optimizer = torch.optim.Adam(model.parameters(), lr=1e-3)\n",
        "loss_fn = ContrastiveLoss(margin=0.5).to(device)\n",
        "model, metrics = train(model, train_dataloader, val_dataloader, loss_fn, optimizer, device=device,\n",
        "                      epochs=100, patience=5, delta=0.0075, threshold=0.25)\n",
        "torch.save(model.state_dict(), '/content/drive/My Drive/projection_model2.pth')\n",
        "\n",
        "final_metrics = evaluate_model(model, val_dataloader, device, threshold=0.25)\n",
        "print('Final evaluation metrics:')\n",
        "for k, v in final_metrics.items():\n",
        "    if isinstance(v, (float, int)):\n",
        "        print(f\"  {k}: {v:.4f}\")\n",
        "    else:\n",
        "        print(f\"  {k}: {v}\")\n",
        "\n",
        "f_embeddings2 = model(embeddings.to(device)).detach().cpu().numpy()\n",
        "umap_f_emb2 = umap.UMAP(n_components=2, metric='cosine').fit(f_embeddings2)\n",
        "np.save('/content/drive/My Drive/f_embedding2.npy', f_embeddings2)\n",
        "f_embeddings2.shape"
      ],
      "metadata": {
        "id": "pimcSYZ-54BC"
      },
      "execution_count": null,
      "outputs": []
    },
    {
      "cell_type": "markdown",
      "source": [
        "## Визуализации"
      ],
      "metadata": {
        "id": "WEOKfqiJ1Qhg"
      }
    },
    {
      "cell_type": "markdown",
      "source": [
        "### Кластеризация по грамматичности"
      ],
      "metadata": {
        "id": "rUyFl4ctVmWQ"
      }
    },
    {
      "cell_type": "code",
      "execution_count": null,
      "metadata": {
        "id": "rIokvwKUkmlY"
      },
      "outputs": [],
      "source": [
        "# что было изначально\n",
        "f = umap.plot.points(umap_emb, labels=melted_ds[\"type\"])"
      ]
    },
    {
      "cell_type": "code",
      "execution_count": null,
      "metadata": {
        "id": "qkIjh9VUkmlZ"
      },
      "outputs": [],
      "source": [
        "create_facet_grid(\n",
        "    embedding=umap_emb.embedding_,\n",
        "    labels=melted_ds[\"type\"],\n",
        "    plot_type=\"UMAP\",\n",
        "    col_wrap=2,\n",
        "    height=10,\n",
        "    dot_size=1\n",
        ")"
      ]
    },
    {
      "cell_type": "code",
      "execution_count": null,
      "metadata": {
        "id": "PojsEtlGkaD2"
      },
      "outputs": [],
      "source": [
        "import pandas as pd\n",
        "\n",
        "series = pd.Series(pair_distances)\n",
        "report = series.describe()\n",
        "report"
      ]
    },
    {
      "cell_type": "code",
      "source": [
        "plot_umap_results_gram(umap_f_emb2, ds)"
      ],
      "metadata": {
        "id": "yLJEF9Yj6iSt"
      },
      "execution_count": null,
      "outputs": []
    },
    {
      "cell_type": "code",
      "source": [
        "create_facet_grid(\n",
        "    embedding=umap_f_emb2.embedding_,\n",
        "    labels=ds[\"type\"],\n",
        "    plot_type=\"UMAP\",\n",
        "    col_wrap=5,\n",
        "    height=10,\n",
        "    dot_size=1\n",
        ")"
      ],
      "metadata": {
        "id": "2ZS1tNhW6tdu"
      },
      "execution_count": null,
      "outputs": []
    },
    {
      "cell_type": "code",
      "source": [
        "# margin=0.75, out=512, lr=1e-3, one-layer\n",
        "plot_umap_results_gram(umap_f_emb, ds)"
      ],
      "metadata": {
        "id": "aEF6EnvVjI6z"
      },
      "execution_count": null,
      "outputs": []
    },
    {
      "cell_type": "code",
      "source": [
        "create_facet_grid(\n",
        "    embedding=umap_f_emb.embedding_,\n",
        "    labels=ds[\"type\"],\n",
        "    plot_type=\"UMAP\",\n",
        "    col_wrap=5,\n",
        "    height=10,\n",
        "    dot_size=1\n",
        ")"
      ],
      "metadata": {
        "id": "bqFk0ucqjSTR"
      },
      "execution_count": null,
      "outputs": []
    },
    {
      "cell_type": "code",
      "source": [
        "diff_embeddings_1l = substract_embeddings(f_embeddings)\n",
        "diff_embeddings_1l.shape"
      ],
      "metadata": {
        "id": "qcijjl1Bo18f"
      },
      "execution_count": null,
      "outputs": []
    },
    {
      "cell_type": "code",
      "source": [
        "# это разности эмбеддингов, пропущенных через дообученную матрицу проекций\n",
        "ds1 = pl.read_parquet('/content/original_ds.parquet')\n",
        "umap_f1_emb = umap.UMAP(n_components=2, metric='cosine').fit(diff_embeddings_1l)\n",
        "plot_umap_results(umap_f1_emb, ds1)\n",
        "# как и предполагалось, т.к. мы меняли расстояние между исходными эмбеддингами, мы отчасти потеряли информацию о различиях в парах\n",
        "# поэтому разница хоть и кластеризуется, но не в такой степени, как раньше"
      ],
      "metadata": {
        "id": "Pf2JzC9koFR6"
      },
      "execution_count": null,
      "outputs": []
    },
    {
      "cell_type": "markdown",
      "source": [
        "\n",
        "\n",
        "---\n",
        "\n"
      ],
      "metadata": {
        "id": "H_j2m6FFoXr-"
      }
    },
    {
      "cell_type": "code",
      "source": [
        "# margin=0.75, out=512, lr=1e-3, multilayer (читинг)\n",
        "plot_umap_results_gram(umap_f_emb, ds)"
      ],
      "metadata": {
        "id": "Yg5ez95qiwJm"
      },
      "execution_count": null,
      "outputs": []
    },
    {
      "cell_type": "code",
      "source": [
        "create_facet_grid(\n",
        "    embedding=umap_f_emb.embedding_,\n",
        "    labels=ds[\"type\"],\n",
        "    plot_type=\"UMAP\",\n",
        "    col_wrap=5,\n",
        "    height=10,\n",
        "    dot_size=1\n",
        ")"
      ],
      "metadata": {
        "id": "Kmu6iE5cfSAt"
      },
      "execution_count": null,
      "outputs": []
    },
    {
      "cell_type": "code",
      "source": [
        "plot_umap_results_gram(umap_f_emb, ds)"
      ],
      "metadata": {
        "id": "0c5C8woXjMex"
      },
      "execution_count": null,
      "outputs": []
    },
    {
      "cell_type": "code",
      "source": [
        "create_facet_grid(\n",
        "    embedding=umap_f_emb.embedding_,\n",
        "    labels=ds[\"type\"],\n",
        "    plot_type=\"UMAP\",\n",
        "    col_wrap=5,\n",
        "    height=10,\n",
        "    dot_size=1\n",
        ")"
      ],
      "metadata": {
        "id": "Wr8pTlH_yFJa"
      },
      "execution_count": null,
      "outputs": []
    },
    {
      "cell_type": "code",
      "source": [
        "# это разности эмбеддингов, дообученных многослойной моделью\n",
        "diff_embeddings_ml = substract_embeddings(f_embeddings)\n",
        "umap_fm_emb = umap.UMAP(n_components=2, metric='cosine').fit(diff_embeddings_ml)\n",
        "plot_umap_results(umap_fm_emb, ds1)"
      ],
      "metadata": {
        "id": "XkYsAHClqLs6"
      },
      "execution_count": null,
      "outputs": []
    },
    {
      "cell_type": "markdown",
      "source": [
        "### Кластеризация разностей по **`UID`**\n",
        "\n",
        "\n",
        "\n",
        "---\n",
        "\n",
        "*все ниже было обработано однослойной сетью, т.к. она сходилась нормально (даже подозрительно нормально).\n",
        "\n",
        "case in point (единственное, что сохранила):\n",
        "\n",
        "\n",
        "\n",
        "![sc.png](data:image/png;base64,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)"
      ],
      "metadata": {
        "id": "_Oqt1__01UL9"
      }
    },
    {
      "cell_type": "code",
      "source": [
        "# margin=2.0, out=1024\n",
        "plot_umap_results(umap_f_emb, ds)"
      ],
      "metadata": {
        "id": "zYtYKF8yanKX"
      },
      "execution_count": null,
      "outputs": []
    },
    {
      "cell_type": "code",
      "source": [
        "# margin=2.0, out=512\n",
        "plot_umap_results(umap_f_emb, ds)"
      ],
      "metadata": {
        "id": "8FNG94HVy5Ej"
      },
      "execution_count": null,
      "outputs": []
    },
    {
      "cell_type": "code",
      "source": [
        "# margin=2.0, out=256\n",
        "plot_umap_results(umap_f_emb, ds)"
      ],
      "metadata": {
        "id": "kgbGXJ1szukw"
      },
      "execution_count": null,
      "outputs": []
    },
    {
      "cell_type": "code",
      "source": [
        "# margin=1.0, out=256\n",
        "plot_umap_results(umap_f_emb, ds)"
      ],
      "metadata": {
        "id": "YQ03_NWV3SzB"
      },
      "execution_count": null,
      "outputs": []
    },
    {
      "cell_type": "code",
      "source": [
        "# margin=3.0, out=256\n",
        "plot_umap_results(umap_f_emb, ds)"
      ],
      "metadata": {
        "id": "tOHLn9UP34QE"
      },
      "execution_count": null,
      "outputs": []
    },
    {
      "cell_type": "markdown",
      "source": [
        "### Кластеризация разностей по **`linguistics_term`**"
      ],
      "metadata": {
        "id": "zZKXTQqZ5nrP"
      }
    },
    {
      "cell_type": "code",
      "source": [
        "# margin=2.0, out=1024\n",
        "plot_umap_results(umap_f_emb, ds)"
      ],
      "metadata": {
        "id": "btoy4bB95rbu"
      },
      "execution_count": null,
      "outputs": []
    },
    {
      "cell_type": "code",
      "source": [
        "# margin=1.0, out=1024\n",
        "plot_umap_results(umap_f_emb, ds)"
      ],
      "metadata": {
        "id": "1GXdnMqQ7EYW"
      },
      "execution_count": null,
      "outputs": []
    },
    {
      "cell_type": "code",
      "source": [
        "# margin=3.0, out=1024\n",
        "plot_umap_results(umap_f_emb, ds)"
      ],
      "metadata": {
        "id": "hDz_P3tc8Xat"
      },
      "execution_count": null,
      "outputs": []
    },
    {
      "cell_type": "markdown",
      "source": [
        "### Кластеризация разностей по **`field`**"
      ],
      "metadata": {
        "id": "ikXsItwy97DZ"
      }
    },
    {
      "cell_type": "code",
      "source": [
        "# margin=2.0, out=1024\n",
        "plot_umap_results(umap_f_emb, ds)"
      ],
      "metadata": {
        "id": "ZWu0jQaC9-1w"
      },
      "execution_count": null,
      "outputs": []
    },
    {
      "cell_type": "code",
      "source": [
        "# margin=2.0, out=256\n",
        "plot_umap_results(umap_f_emb, ds)"
      ],
      "metadata": {
        "id": "IVVN4QtqM-il"
      },
      "execution_count": null,
      "outputs": []
    },
    {
      "cell_type": "code",
      "source": [
        "# margin=5.0, out=256\n",
        "plot_umap_results(umap_f_emb, ds)"
      ],
      "metadata": {
        "id": "BPCOnfvyOILJ"
      },
      "execution_count": null,
      "outputs": []
    }
  ],
  "metadata": {
    "colab": {
      "collapsed_sections": [
        "QfW_q5rfd9N_",
        "Vf1oEmlYhdn8",
        "d1aNXMf0FDU1",
        "8Iv6PPTMFIt0",
        "0V7x7AO0XznT",
        "WJ--TzW8FdS7",
        "rzUF2nlDfMtq",
        "cAD-HQcMucY8",
        "aB70cdB3uL6I",
        "crpxdu-M_u41",
        "XPsG9009dhKv",
        "-E1QNDVi-LiU",
        "Us8v1dmfApTx",
        "ZtQiRM0amiju",
        "QuF3DrYE-cwq",
        "l0DKIKjOl-IX",
        "KldOH9dsoxvE",
        "OfU2hggxo53q",
        "N3MkZqJZIVue",
        "xDUWSqoglgcO",
        "FIIU1maTKSaS",
        "lYCte4sZCNCp",
        "MsuLvVr8mUPl",
        "grAsR2trKbIt",
        "NCSd2ZHuJJ7f",
        "4uSE6WN3JUfQ",
        "duXG0WzFaYc9",
        "fnK-ewW0MtfW",
        "IXlfnJhpNqLn",
        "N5e-pj3tQ9nI",
        "wu_Epl0w-zli",
        "f49gfhUblrwW",
        "BEqr0GOPl5oy",
        "Tjhz4ydEnM6E",
        "iyIbTtxLGK4H",
        "o_00FL9MGhus",
        "InGdJ-NzY21Z",
        "a8Ow9bjOYonj",
        "oGrYI68ZZS-w",
        "bAoaR-v6HsKf",
        "C821sfMq-Arv",
        "t8aumTqq-MnV",
        "bLEszkMkBYdC",
        "pRGGLguJBGSc",
        "8vBFIvp6BGSd",
        "yEOljJYCBGSg",
        "r5hyTZUqu3nN",
        "6IXxyAiXFUMt",
        "f-oxN13n0-Z0",
        "sJ0NF3Z91EvF",
        "MTu2B1bu1MI0",
        "WEOKfqiJ1Qhg",
        "rUyFl4ctVmWQ",
        "_Oqt1__01UL9",
        "zZKXTQqZ5nrP",
        "ikXsItwy97DZ"
      ],
      "provenance": [],
      "toc_visible": true,
      "gpuType": "T4"
    },
    "kernelspec": {
      "display_name": "Python 3",
      "name": "python3"
    },
    "language_info": {
      "name": "python"
    },
    "accelerator": "GPU"
  },
  "nbformat": 4,
  "nbformat_minor": 0
}