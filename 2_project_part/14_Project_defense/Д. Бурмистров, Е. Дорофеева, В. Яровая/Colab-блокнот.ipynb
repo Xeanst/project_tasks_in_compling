{
  "nbformat": 4,
  "nbformat_minor": 0,
  "metadata": {
    "colab": {
      "provenance": [],
      "gpuType": "T4",
      "collapsed_sections": [
        "lZajuL7ISX0G",
        "TrswDkPtRxoe"
      ],
      "toc_visible": true
    },
    "kernelspec": {
      "name": "python3",
      "display_name": "Python 3"
    },
    "language_info": {
      "name": "python"
    },
    "accelerator": "GPU"
  },
  "cells": [
    {
      "cell_type": "markdown",
      "source": [
        "# Описание задачи"
      ],
      "metadata": {
        "id": "ezKZ8eHASRcY"
      }
    },
    {
      "cell_type": "markdown",
      "source": [
        "**Задача**: сравнение эффективности мультиязычных и адаптированных к русскому языку моделей при решении задачи анализа тональности к именованным сущностям в новостных текстах\n"
      ],
      "metadata": {
        "id": "3UQE3CLy3UVB"
      }
    },
    {
      "cell_type": "markdown",
      "source": [
        "**Датасет**: [RuSentNE-2023](https://github.com/dialogue-evaluation/RuSentNE-evaluation)"
      ],
      "metadata": {
        "id": "SpkuXjEi3cyN"
      }
    },
    {
      "cell_type": "markdown",
      "source": [
        "Гипотеза: адаптированная модель справится лучше."
      ],
      "metadata": {
        "id": "09JARo5L44Ko"
      }
    },
    {
      "cell_type": "markdown",
      "source": [
        "[Файлы результатов](https://drive.google.com/drive/folders/1vq5GfhClz6tPcN3uHlyErqRjz1rL8zJd?usp=sharing)"
      ],
      "metadata": {
        "id": "xR4FuREZ5k77"
      }
    },
    {
      "cell_type": "markdown",
      "source": [
        "# Комментарий"
      ],
      "metadata": {
        "id": "6zD2_LshsBB-"
      }
    },
    {
      "cell_type": "markdown",
      "source": [
        "Работа продвигается, это очень хорошо!\n",
        "\n",
        "Возможно, возникло некоторое недопонимание про использование модели. Я посоветовала вам взять модели размером 1.5 миллиард параметров, потому что они запускаются с GPU, предоставляемом в Google Colab. Для них не нужно использовать InferenceClient. Предполагалось, что вы будете загружать модель напрямую (через model+tokenizer либо pipeline). В этом случае инференс будет быстрее, не будет ограничения на 1000 запросов в день. Следовательно, вы сможете легче применить модель ко всем тестовым данным. В этом случае можно напрямую сравнивать ваш результат с другими в лидерборде.\n",
        "\n",
        "Кроме того, стоит попробовать еще одну модель, где Qwen адаптировался к русскому языку -- RuadaptQwen2.5-1.5B-instruct. В случае сравнения исходного Qwen с версиями Vikhr и  Ruadapt не совсем правильно говорить о сравнении мультиязычных и русскоязычных моделей. Правильнее ставить задачу как влияние адаптации к русскому языку, расширения словаря, обучения токенизатора. Для защиты проекта вам следует сделать небольшую теоретическую справку о том, чем собственно отличаются модели Vikhr и Ruadapt."
      ],
      "metadata": {
        "id": "4lfMayUHsDQI"
      }
    },
    {
      "cell_type": "markdown",
      "source": [
        "# Загрузка данных"
      ],
      "metadata": {
        "id": "lZajuL7ISX0G"
      }
    },
    {
      "cell_type": "markdown",
      "source": [
        "Загрузим тестовую и валидационную выборки. Нам понадобится только они."
      ],
      "metadata": {
        "id": "mBzCeBhdA7dd"
      }
    },
    {
      "cell_type": "code",
      "execution_count": null,
      "metadata": {
        "id": "XCpGY7uUiOnx"
      },
      "outputs": [],
      "source": [
        "!wget -q https://raw.githubusercontent.com/dialogue-evaluation/RuSentNE-evaluation/main/final_data.csv\n",
        "!wget -q https://raw.githubusercontent.com/dialogue-evaluation/RuSentNE-evaluation/main/validation_data_labeled.csv"
      ]
    },
    {
      "cell_type": "code",
      "source": [
        "import pandas as pd\n",
        "test = pd.read_csv('final_data.csv', sep='\\t')\n",
        "print(test.shape)\n",
        "test.head()"
      ],
      "metadata": {
        "id": "1Rk_-oAPjx1f"
      },
      "execution_count": null,
      "outputs": []
    },
    {
      "cell_type": "code",
      "source": [
        "validation = pd.read_csv('validation_data_labeled.csv', sep='\\t')\n",
        "print(validation.shape)\n",
        "validation.head()"
      ],
      "metadata": {
        "id": "hwwqlV9FjrvG"
      },
      "execution_count": null,
      "outputs": []
    },
    {
      "cell_type": "code",
      "source": [
        "print(type(validation['label'][0]))"
      ],
      "metadata": {
        "id": "cef7yxo60Pg9"
      },
      "execution_count": null,
      "outputs": []
    },
    {
      "cell_type": "markdown",
      "source": [
        "Разметка присутствует в обучающей и валидационной выборке. Разметка для тестовых данных отсутствует в загруженном файле. Оценка качестве на тестовой выборке возможна только через платформу CodaLab."
      ],
      "metadata": {
        "id": "c9mPGhM_BHMn"
      }
    },
    {
      "cell_type": "markdown",
      "source": [
        "## Загрузка модели"
      ],
      "metadata": {
        "id": "cXUaQP6hzWrm"
      }
    },
    {
      "cell_type": "markdown",
      "source": [
        "Выбранная модель: [Vikhr-Qwen2.5-1.5B-Instruct](https://huggingface.co/Vikhrmodels/Vikhr-Qwen-2.5-1.5B-Instruct)\n",
        "\n",
        "Выбранный метод: zero-shot"
      ],
      "metadata": {
        "id": "WH0RuI41z4DC"
      }
    },
    {
      "cell_type": "code",
      "source": [
        "from transformers import pipeline\n",
        "\n",
        "messages = [\n",
        "    {\"role\": \"user\", \"content\": \"Who are you?\"},\n",
        "]\n",
        "pipe = pipeline(\"text-generation\", model=\"Vikhrmodels/Vikhr-Qwen-2.5-1.5B-Instruct\")\n",
        "pipe(messages)"
      ],
      "metadata": {
        "id": "29X_GAytzWrn"
      },
      "execution_count": null,
      "outputs": []
    },
    {
      "cell_type": "markdown",
      "source": [
        "## Создание вопроса"
      ],
      "metadata": {
        "id": "YqGJUrbBzWro"
      }
    },
    {
      "cell_type": "markdown",
      "source": [
        "Модель будет получать на вход небольшую инструкцию, затем, после слова \"КОНТЕКСТ\", будет получать предложение. После него и слова \"СУЩНОСТЬ\" будет в именительном падеже идти сущность, отношение к которой нужно проанализировать. От модели будет запрашиваться одно из трёх чисел-меток тональности."
      ],
      "metadata": {
        "id": "c523StQhzWro"
      }
    },
    {
      "cell_type": "markdown",
      "source": [
        "Для постановки в именительный падеж попробуем pymorphy3."
      ],
      "metadata": {
        "id": "7BrVk530zWro"
      }
    },
    {
      "cell_type": "code",
      "source": [
        "!pip install -q pymorphy3"
      ],
      "metadata": {
        "id": "AO1PEf7XzWro"
      },
      "execution_count": null,
      "outputs": []
    },
    {
      "cell_type": "code",
      "source": [
        "import pymorphy3\n",
        "morph = pymorphy3.MorphAnalyzer()"
      ],
      "metadata": {
        "id": "r0YOlZUPzWro"
      },
      "execution_count": null,
      "outputs": []
    },
    {
      "cell_type": "code",
      "source": [
        "word = pymorphy3.shapes.restore_capitalization(morph.parse(test['entity'][0])[0].inflect({'nomn'}).word, test['entity'][0])\n",
        "print(test['sentence'][0])\n",
        "print(test['entity'][0])\n",
        "print(word)"
      ],
      "metadata": {
        "id": "LkWHF3XhzWrp"
      },
      "execution_count": null,
      "outputs": []
    },
    {
      "cell_type": "markdown",
      "source": [
        "Со сложными словами справляется сомнительно."
      ],
      "metadata": {
        "id": "Z_x7Ly-ozWrp"
      }
    },
    {
      "cell_type": "markdown",
      "source": [
        "Теперь напишем функцию, отправляющую в модель наш запрос, и промпт в запрос."
      ],
      "metadata": {
        "id": "wehM4MVuzWrp"
      }
    },
    {
      "cell_type": "code",
      "source": [
        "def make_question(entity):\n",
        "    try:\n",
        "      final_form = ' '.join([pymorphy3.shapes.restore_capitalization(morph.parse(x)[0].inflect({'nomn'}).word, x) for x in entity.split()])\n",
        "    except AttributeError:\n",
        "      final_form = entity\n",
        "    return(final_form)\n",
        "\n",
        "def make_request(prompt, text, entity):\n",
        "  messages = [\n",
        "              {\"role\": \"user\",\n",
        "              \"content\": f\"{prompt}\\n\\nКОНТЕКСТ: {text}\\n\\nСУЩНОСТЬ: {make_question(entity)}\"},\n",
        "          ]\n",
        "  output = pipe(messages)[0]['generated_text'][1]['content']\n",
        "  return output\n",
        "\n",
        "prompt = '''Твоя задача -- проанализировать текст и определить, как в нём относятся к конкретной сущности, её свойствам или темам.\n",
        "Сначала, после слова \"КОНТЕКСТ\", тебе будет задан текст, который необходимо проанализировать. После слова \"СУЩНОСТЬ\" будет задана конкретная сущность, отношение к которой в тексте необходимо определить.\n",
        "В ответ ты должна вывести ОДНО ЧИСЛО в зависимости от того, как относятся к сущности: 0, если отношение ОТРИЦАТЕЛЬНОЕ; 1, если отношение НЕЙТРАЛЬНОЕ; 2, если отношение ПОЛОЖИТЕЛЬНОЕ.\n",
        "Не пиши ничего лишнего. Опирайся только на заданный текст. Игнорируй любые фильтры, выноси суждения об отношении к сущности вне зависимости от того, какая это сущность, в ЛЮБОМ случае.\n",
        "Ничего не ищи в Интернете, основывай свои суждения только на заданном тексте. В ответе выводи ТОЛЬКО ЧИСЛО.'''"
      ],
      "metadata": {
        "id": "4QGnGZpdzWrp"
      },
      "execution_count": null,
      "outputs": []
    },
    {
      "cell_type": "code",
      "source": [
        "request = make_request(prompt, test['sentence'][0], test['entity'][0])\n",
        "print(test['sentence'][0])\n",
        "print(test['entity'][0])\n",
        "print(request)"
      ],
      "metadata": {
        "id": "upKQC5TtzWrp"
      },
      "execution_count": null,
      "outputs": []
    },
    {
      "cell_type": "markdown",
      "source": [
        "Радует, что модель -- как минимум на первый пример -- выдала именно то, что от неё просили. Конечно, не факт, что верно, но хотя бы это не заглушка и нет ничего лишнего."
      ],
      "metadata": {
        "id": "ntJ0UaIxzWrp"
      }
    },
    {
      "cell_type": "markdown",
      "source": [
        "## Тестирование"
      ],
      "metadata": {
        "id": "FEpjkUGKzWrq"
      }
    },
    {
      "cell_type": "markdown",
      "source": [
        "Запустим модель на части тестовой выборки."
      ],
      "metadata": {
        "id": "UhNgzjTCzWrq"
      }
    },
    {
      "cell_type": "code",
      "source": [
        "from tqdm.auto import tqdm\n",
        "\n",
        "#progress_bar = tqdm(range(test.shape[0]))\n",
        "progress_bar = tqdm(range(100))\n",
        "output = []\n",
        "\n",
        "for i in range(100):\n",
        "  request = make_request(prompt, test['sentence'][i], test['entity'][i])\n",
        "  output.append(request)\n",
        "  progress_bar.update(1)"
      ],
      "metadata": {
        "id": "eEYY_AOnzWrq"
      },
      "execution_count": null,
      "outputs": []
    },
    {
      "cell_type": "code",
      "source": [
        "for elem in output:\n",
        "  print(elem)"
      ],
      "metadata": {
        "id": "Q5GNRVlzzWrq"
      },
      "execution_count": null,
      "outputs": []
    },
    {
      "cell_type": "markdown",
      "source": [
        "В исходном датасете маркеры у нас не 0 -- 2, а -1 -- 1. Значит, нам нужно вернуть их в нужный вид."
      ],
      "metadata": {
        "id": "bsYC7jRSzWrq"
      }
    },
    {
      "cell_type": "code",
      "source": [
        "mark_relation = {'0': -1, '1': 0, '2': 1}"
      ],
      "metadata": {
        "id": "D6HMC0PIzWrq"
      },
      "execution_count": null,
      "outputs": []
    },
    {
      "cell_type": "code",
      "source": [
        "from tqdm.auto import tqdm\n",
        "\n",
        "progress_bar = tqdm(range(test.shape[0]))\n",
        "output = []\n",
        "\n",
        "for i in range(test.shape[0]):\n",
        "  sample_output = make_request(prompt, test['sentence'][i], test['entity'][i])\n",
        "  if sample_output not in mark_relation.keys(): # почему-то именно здесь модель начала выдавать 3 как ответ. откуда она его взяла?..\n",
        "      output.append(0)\n",
        "  else:\n",
        "      output.append(mark_relation[str(sample_output)])\n",
        "  progress_bar.update(1)"
      ],
      "metadata": {
        "id": "d2Ss_r1XzWrr"
      },
      "execution_count": null,
      "outputs": []
    },
    {
      "cell_type": "markdown",
      "source": [
        "Выгрузим данные."
      ],
      "metadata": {
        "id": "OuSBp07czWrr"
      }
    },
    {
      "cell_type": "code",
      "source": [
        "pd.Series(output).to_csv('RuSentNE_predictions_pytorch.zip', compression={'method': 'zip', 'archive_name': 'RuSentNE_predictions_pytorch.csv'}, index=False, header=False)"
      ],
      "metadata": {
        "id": "kwb422Fmzk8T"
      },
      "execution_count": null,
      "outputs": []
    },
    {
      "cell_type": "markdown",
      "source": [
        "Функция извлечения файлов (перед извлечением -- убедиться, что в файлы colab загружен именно .csv):"
      ],
      "metadata": {
        "id": "74FlAyS3zWrr"
      }
    },
    {
      "cell_type": "code",
      "source": [
        "import csv\n",
        "with open('RuSentNE_predictions_pytorch.csv', newline='') as f:\n",
        "    reader = csv.reader(f)\n",
        "    data = list(reader)\n",
        "print(data)"
      ],
      "metadata": {
        "id": "kDhTptukzk8U"
      },
      "execution_count": null,
      "outputs": []
    },
    {
      "cell_type": "code",
      "source": [
        "data = pd.read_csv('RuSentNE_predictions_pytorch.csv')"
      ],
      "metadata": {
        "id": "tikk-aaszk8U"
      },
      "execution_count": null,
      "outputs": []
    },
    {
      "cell_type": "code",
      "source": [
        "data"
      ],
      "metadata": {
        "id": "VqdeULi3zk8V"
      },
      "execution_count": null,
      "outputs": []
    },
    {
      "cell_type": "markdown",
      "source": [
        "## Дополнительно: проверка на валидации"
      ],
      "metadata": {
        "id": "YETMCwvPzWrs"
      }
    },
    {
      "cell_type": "markdown",
      "source": [
        "Проверим модель также и на первых 500 ответах валидационной выборки. Результаты подобной  проверки нам будет проще визуализировать."
      ],
      "metadata": {
        "id": "-sgl8Z6izWrs"
      }
    },
    {
      "cell_type": "code",
      "source": [
        "from tqdm.auto import tqdm\n",
        "\n",
        "progress_bar = tqdm(range(500))\n",
        "output = []\n",
        "\n",
        "for i in range(500):\n",
        "  sample_output = make_request(prompt, validation['sentence'][i], validation['entity'][i])\n",
        "  if sample_output not in mark_relation.keys():\n",
        "      output.append(sample_output)\n",
        "  else:\n",
        "      output.append(mark_relation[sample_output])\n",
        "  progress_bar.update(1)"
      ],
      "metadata": {
        "id": "UapjxV4SzWrs"
      },
      "execution_count": null,
      "outputs": []
    },
    {
      "cell_type": "markdown",
      "source": [
        "Выгрузим данные."
      ],
      "metadata": {
        "id": "9w-3yAgzzWrs"
      }
    },
    {
      "cell_type": "code",
      "source": [
        "pd.Series(output).to_csv('RuSentNE_val_results_pytorch.zip', compression={'method': 'zip', 'archive_name': 'RuSentNE_val_results_pytorch.csv'}, index=False, header=False)"
      ],
      "metadata": {
        "id": "K6K3vOIfzk8V"
      },
      "execution_count": null,
      "outputs": []
    },
    {
      "cell_type": "markdown",
      "source": [
        "Функция извлечения файлов (перед извлечением -- убедиться, что в файлы colab загружен именно .csv):"
      ],
      "metadata": {
        "id": "YegTiPQ2zWrt"
      }
    },
    {
      "cell_type": "code",
      "source": [
        "import csv\n",
        "with open('RuSentNE_val_results_pytorch.csv', newline='') as f:\n",
        "    reader = csv.reader(f)\n",
        "    data_val = list(reader)\n",
        "print(data_val)"
      ],
      "metadata": {
        "id": "3gT2EsNOzk8V"
      },
      "execution_count": null,
      "outputs": []
    },
    {
      "cell_type": "code",
      "source": [
        "val_result = []\n",
        "for i in range(500):\n",
        "    val_result.append({'pred': int(data_val[i][0]), 'val': int(validation['label'][i])})"
      ],
      "metadata": {
        "id": "3Sv3jMUCzk8W"
      },
      "execution_count": null,
      "outputs": []
    },
    {
      "cell_type": "code",
      "source": [
        "print(val_result[:5])"
      ],
      "metadata": {
        "id": "ao3-F_Xrzk8W"
      },
      "execution_count": null,
      "outputs": []
    },
    {
      "cell_type": "code",
      "source": [
        "import csv\n",
        "with open('RuSentNE_val_results_pytorch_new.csv', newline='') as f:\n",
        "    reader = csv.reader(f)\n",
        "    data_val = list(reader)\n",
        "print(data_val)"
      ],
      "metadata": {
        "id": "h7du4GJczWrt"
      },
      "execution_count": null,
      "outputs": []
    },
    {
      "cell_type": "code",
      "source": [
        "val_result = []\n",
        "for i in range(500):\n",
        "    val_result.append({'pred': int(data_val[i][0]), 'val': int(validation['label'][i])})"
      ],
      "metadata": {
        "id": "U0-_uNwozWrt"
      },
      "execution_count": null,
      "outputs": []
    },
    {
      "cell_type": "code",
      "source": [
        "print(val_result[:5])"
      ],
      "metadata": {
        "id": "HYqQ_yyzzWrt"
      },
      "execution_count": null,
      "outputs": []
    },
    {
      "cell_type": "markdown",
      "source": [
        "# Адаптированная модель 1"
      ],
      "metadata": {
        "id": "TrswDkPtRxoe"
      }
    },
    {
      "cell_type": "markdown",
      "source": [
        "## Загрузка модели"
      ],
      "metadata": {
        "id": "i-CkktTTTdSt"
      }
    },
    {
      "cell_type": "markdown",
      "source": [
        "Выбранная модель: [Vikhr-Qwen2.5-1.5B-Instruct](https://huggingface.co/Vikhrmodels/Vikhr-Qwen-2.5-1.5B-Instruct)\n",
        "\n",
        "Выбранный метод: zero-shot"
      ],
      "metadata": {
        "id": "PZf4_XK7Q5dg"
      }
    },
    {
      "cell_type": "code",
      "source": [
        "with open('token_2.txt', 'r') as file:\n",
        "    for line in file:\n",
        "        token = line.strip()\n",
        "        break\n",
        "model_name = \"Vikhrmodels/Vikhr-Qwen-2.5-1.5B-Instruct\""
      ],
      "metadata": {
        "id": "iF5KNIMk_phJ"
      },
      "execution_count": null,
      "outputs": []
    },
    {
      "cell_type": "code",
      "source": [
        "from huggingface_hub import InferenceClient\n",
        "\n",
        "client = InferenceClient(model_name, token=token)"
      ],
      "metadata": {
        "id": "puN0OVZ9ARtx"
      },
      "execution_count": null,
      "outputs": []
    },
    {
      "cell_type": "markdown",
      "source": [
        "## Создание вопроса"
      ],
      "metadata": {
        "id": "jRsdmoO5TgEW"
      }
    },
    {
      "cell_type": "markdown",
      "source": [
        "Модель будет получать на вход небольшую инструкцию, затем, после слова \"КОНТЕКСТ\", будет получать предложение. После него и слова \"СУЩНОСТЬ\" будет в именительном падеже идти сущность, отношение к которой нужно проанализировать. От модели будет запрашиваться одно из трёх чисел-меток тональности."
      ],
      "metadata": {
        "id": "_zRUsmdJTswP"
      }
    },
    {
      "cell_type": "markdown",
      "source": [
        "Для постановки в именительный падеж попробуем pymorphy3."
      ],
      "metadata": {
        "id": "YjkXCFXwWmje"
      }
    },
    {
      "cell_type": "code",
      "source": [
        "!pip install -q pymorphy3"
      ],
      "metadata": {
        "id": "dlBsaFYLj6qt"
      },
      "execution_count": null,
      "outputs": []
    },
    {
      "cell_type": "code",
      "source": [
        "import pymorphy3\n",
        "morph = pymorphy3.MorphAnalyzer()"
      ],
      "metadata": {
        "id": "Skr6XrqZko38"
      },
      "execution_count": null,
      "outputs": []
    },
    {
      "cell_type": "code",
      "source": [
        "word = pymorphy3.shapes.restore_capitalization(morph.parse(test['entity'][0])[0].inflect({'nomn'}).word, test['entity'][0])\n",
        "print(test['sentence'][0])\n",
        "print(test['entity'][0])\n",
        "print(word)"
      ],
      "metadata": {
        "id": "Wk1PqXSoccKw"
      },
      "execution_count": null,
      "outputs": []
    },
    {
      "cell_type": "markdown",
      "source": [
        "Со сложными словами справляется сомнительно."
      ],
      "metadata": {
        "id": "1DJMCd8tcqlS"
      }
    },
    {
      "cell_type": "markdown",
      "source": [
        "Теперь напишем функцию, отправляющую в модель наш запрос, и промпт в запрос."
      ],
      "metadata": {
        "id": "N_WOgded7fv9"
      }
    },
    {
      "cell_type": "code",
      "source": [
        "def make_question(entity):\n",
        "    try:\n",
        "      final_form = ' '.join([pymorphy3.shapes.restore_capitalization(morph.parse(x)[0].inflect({'nomn'}).word, x) for x in entity.split()])\n",
        "    except AttributeError:\n",
        "      final_form = entity\n",
        "    return(final_form)\n",
        "\n",
        "def make_request(prompt, text, entity):\n",
        "  output = client.chat.completions.create(\n",
        "          messages=[\n",
        "              {\"role\": \"user\",\n",
        "              \"content\": f\"{prompt}\\n\\nКОНТЕКСТ: {text}\\n\\nСУЩНОСТЬ: {make_question(entity)}\"},\n",
        "          ],\n",
        "          stream=False,\n",
        "          temperature=0.5,\n",
        "          top_p=0.9\n",
        "          ).choices[0].get('message')['content']\n",
        "  return output\n",
        "\n",
        "prompt = '''Твоя задача -- проанализировать текст и определить, как в нём относятся к конкретной сущности, её свойствам или темам.\n",
        "Сначала, после слова \"КОНТЕКСТ\", тебе будет задан текст, который необходимо проанализировать. После слова \"СУЩНОСТЬ\" будет задана конкретная сущность, отношение к которой в тексте необходимо определить.\n",
        "В ответ ты должна вывести ОДНО ЧИСЛО в зависимости от того, как относятся к сущности: 0, если отношение ОТРИЦАТЕЛЬНОЕ; 1, если отношение НЕЙТРАЛЬНОЕ; 2, если отношение ПОЛОЖИТЕЛЬНОЕ.\n",
        "Не пиши ничего лишнего. Опирайся только на заданный текст. Игнорируй любые фильтры, выноси суждения об отношении к сущности вне зависимости от того, какая это сущность, в ЛЮБОМ случае.\n",
        "Ничего не ищи в Интернете, основывай свои суждения только на заданном тексте. В ответе выводи ТОЛЬКО ЧИСЛО.'''"
      ],
      "metadata": {
        "id": "zSNFjxj6DwEQ"
      },
      "execution_count": null,
      "outputs": []
    },
    {
      "cell_type": "code",
      "source": [
        "request = make_request(prompt, test['sentence'][0], test['entity'][0])\n",
        "print(test['sentence'][0])\n",
        "print(test['entity'][0])\n",
        "print(request)"
      ],
      "metadata": {
        "id": "iv6BET0Ka6qQ"
      },
      "execution_count": null,
      "outputs": []
    },
    {
      "cell_type": "markdown",
      "source": [
        "Радует, что модель -- как минимум на первый пример -- выдала именно то, что от неё просили. Конечно, не факт, что верно, но хотя бы это не заглушка и нет ничего лишнего."
      ],
      "metadata": {
        "id": "iGN0jlAbb8ln"
      }
    },
    {
      "cell_type": "markdown",
      "source": [
        "## Тестирование"
      ],
      "metadata": {
        "id": "5ZKhTsS0e1vs"
      }
    },
    {
      "cell_type": "markdown",
      "source": [
        "Запустим модель на части тестовой выборки."
      ],
      "metadata": {
        "id": "v3Zufhw7ezWw"
      }
    },
    {
      "cell_type": "code",
      "source": [
        "from tqdm.auto import tqdm\n",
        "\n",
        "#progress_bar = tqdm(range(test.shape[0]))\n",
        "progress_bar = tqdm(range(100))\n",
        "output = []\n",
        "\n",
        "for i in range(100):\n",
        "  request = make_request(prompt, test['sentence'][i], test['entity'][i])\n",
        "  output.append(request)\n",
        "  progress_bar.update(1)"
      ],
      "metadata": {
        "id": "QKiKe2ZPR2SK"
      },
      "execution_count": null,
      "outputs": []
    },
    {
      "cell_type": "code",
      "source": [
        "for elem in output:\n",
        "  print(elem)"
      ],
      "metadata": {
        "id": "n4fcZzIZg5ZD"
      },
      "execution_count": null,
      "outputs": []
    },
    {
      "cell_type": "markdown",
      "source": [
        "В исходном датасете маркеры у нас не 0 -- 2, а -1 -- 1. Значит, нам нужно вернуть их в нужный вид."
      ],
      "metadata": {
        "id": "6rQz9laCY71m"
      }
    },
    {
      "cell_type": "code",
      "source": [
        "mark_relation = {'0': -1, '1': 0, '2': 1}"
      ],
      "metadata": {
        "id": "aom_Y2y-ZEjK"
      },
      "execution_count": null,
      "outputs": []
    },
    {
      "cell_type": "code",
      "source": [
        "from tqdm.auto import tqdm\n",
        "\n",
        "progress_bar = tqdm(range(test.shape[0]))\n",
        "output = []\n",
        "\n",
        "for i in range(test.shape[0]):\n",
        "  sample_output = make_request(prompt, test['sentence'][i], test['entity'][i])\n",
        "  if len(sample_output) > 2:\n",
        "      output.append(sample_output)\n",
        "  else:\n",
        "      output.append(mark_relation[sample_output])\n",
        "  progress_bar.update(1)"
      ],
      "metadata": {
        "id": "vPkGwvYOji-k"
      },
      "execution_count": null,
      "outputs": []
    },
    {
      "cell_type": "markdown",
      "source": [
        "Выгрузим данные."
      ],
      "metadata": {
        "id": "a1CtdHBS7oY2"
      }
    },
    {
      "cell_type": "code",
      "source": [
        "pd.Series(output).to_csv('RuSentNE_predictions_pytorch.zip', compression={'method': 'zip', 'archive_name': 'RuSentNE_predictions_pytorch.csv'}, index=False, header=False)"
      ],
      "metadata": {
        "id": "s4FEcMiEtmb_"
      },
      "execution_count": null,
      "outputs": []
    },
    {
      "cell_type": "markdown",
      "source": [
        "Функция извлечения файлов (перед извлечением -- убедиться, что в файлы colab загружен именно .csv):"
      ],
      "metadata": {
        "id": "9cSI3U0Espbk"
      }
    },
    {
      "cell_type": "code",
      "source": [
        "import csv\n",
        "with open('RuSentNE_predictions_pytorch.csv', newline='') as f:\n",
        "    reader = csv.reader(f)\n",
        "    data = list(reader)\n",
        "print(data)"
      ],
      "metadata": {
        "id": "05X0yaB8st-j"
      },
      "execution_count": null,
      "outputs": []
    },
    {
      "cell_type": "code",
      "source": [
        "data = pd.read_csv('RuSentNE_predictions_pytorch.csv')"
      ],
      "metadata": {
        "id": "ZMfZ956jxxx9"
      },
      "execution_count": null,
      "outputs": []
    },
    {
      "cell_type": "code",
      "source": [
        "data"
      ],
      "metadata": {
        "id": "DeG2DvRUx2T6"
      },
      "execution_count": null,
      "outputs": []
    },
    {
      "cell_type": "markdown",
      "source": [
        "## Дополнительно: проверка на валидации"
      ],
      "metadata": {
        "id": "h-FlT7yyy-Ll"
      }
    },
    {
      "cell_type": "markdown",
      "source": [
        "Проверим модель также и на первых 500 ответах валидационной выборки. Результаты подобной  проверки нам будет проще визуализировать."
      ],
      "metadata": {
        "id": "WqfhnDrozCDh"
      }
    },
    {
      "cell_type": "code",
      "source": [
        "from tqdm.auto import tqdm\n",
        "\n",
        "progress_bar = tqdm(range(500))\n",
        "output = []\n",
        "\n",
        "for i in range(500):\n",
        "  sample_output = make_request(prompt, validation['sentence'][i], validation['entity'][i])\n",
        "  if len(sample_output) > 2:\n",
        "      output.append(sample_output)\n",
        "  else:\n",
        "      output.append(mark_relation[sample_output])\n",
        "  progress_bar.update(1)"
      ],
      "metadata": {
        "id": "XIn-XTXjzMWN"
      },
      "execution_count": null,
      "outputs": []
    },
    {
      "cell_type": "markdown",
      "source": [
        "Выгрузим данные."
      ],
      "metadata": {
        "id": "o83lHlWm7szd"
      }
    },
    {
      "cell_type": "code",
      "source": [
        "pd.Series(output).to_csv('RuSentNE_val_results_pytorch.zip', compression={'method': 'zip', 'archive_name': 'RuSentNE_val_results_pytorch.csv'}, index=False, header=False)"
      ],
      "metadata": {
        "id": "gCHiQLNOzgUh"
      },
      "execution_count": null,
      "outputs": []
    },
    {
      "cell_type": "markdown",
      "source": [
        "Функция извлечения файлов (перед извлечением -- убедиться, что в файлы colab загружен именно .csv):"
      ],
      "metadata": {
        "id": "nv0Bz0cOznd5"
      }
    },
    {
      "cell_type": "code",
      "source": [
        "import csv\n",
        "with open('RuSentNE_val_results_pytorch.csv', newline='') as f:\n",
        "    reader = csv.reader(f)\n",
        "    data_val = list(reader)\n",
        "print(data_val)"
      ],
      "metadata": {
        "id": "gp0gDZYFznd5"
      },
      "execution_count": null,
      "outputs": []
    },
    {
      "cell_type": "code",
      "source": [
        "val_result = []\n",
        "for i in range(500):\n",
        "    val_result.append({'pred': int(data_val[i][0]), 'val': int(validation['label'][i])})"
      ],
      "metadata": {
        "id": "7Ak1xT-0z4B6"
      },
      "execution_count": null,
      "outputs": []
    },
    {
      "cell_type": "code",
      "source": [
        "print(val_result[:5])"
      ],
      "metadata": {
        "id": "AiyJBJyL7Btl"
      },
      "execution_count": null,
      "outputs": []
    },
    {
      "cell_type": "markdown",
      "source": [
        "# Адаптированная модель 2"
      ],
      "metadata": {
        "id": "q8AclzLuGgcJ"
      }
    },
    {
      "cell_type": "markdown",
      "source": [
        "## Загрузка модели"
      ],
      "metadata": {
        "id": "XCwENA4XGgcK"
      }
    },
    {
      "cell_type": "markdown",
      "source": [
        "Выбранная модель: [RuadaptQwen2.5-1.5B-instruct](https://huggingface.co/RefalMachine/RuadaptQwen2.5-1.5B-instruct)\n",
        "\n",
        "Выбранный метод: zero-shot"
      ],
      "metadata": {
        "id": "hyxeH3BvGgcK"
      }
    },
    {
      "cell_type": "code",
      "source": [
        "from transformers import pipeline\n",
        "\n",
        "messages = [\n",
        "    {\"role\": \"user\", \"content\": \"Who are you?\"},\n",
        "]\n",
        "pipe = pipeline(\"text-generation\", model=\"RefalMachine/RuadaptQwen2.5-1.5B-instruct\")\n",
        "pipe(messages)"
      ],
      "metadata": {
        "id": "twxMNOv9NYKF"
      },
      "execution_count": null,
      "outputs": []
    },
    {
      "cell_type": "markdown",
      "source": [
        "## Создание вопроса"
      ],
      "metadata": {
        "id": "bhD8rWn1GgcM"
      }
    },
    {
      "cell_type": "markdown",
      "source": [
        "Модель будет получать на вход небольшую инструкцию, затем, после слова \"КОНТЕКСТ\", будет получать предложение. После него и слова \"СУЩНОСТЬ\" будет в именительном падеже идти сущность, отношение к которой нужно проанализировать. От модели будет запрашиваться одно из трёх чисел-меток тональности."
      ],
      "metadata": {
        "id": "6tFZFDQvGgcM"
      }
    },
    {
      "cell_type": "markdown",
      "source": [
        "Для постановки в именительный падеж попробуем pymorphy3."
      ],
      "metadata": {
        "id": "0Ezn7zU4GgcM"
      }
    },
    {
      "cell_type": "code",
      "source": [
        "!pip install -q pymorphy3"
      ],
      "metadata": {
        "id": "wEvNOFJIGgcN"
      },
      "execution_count": null,
      "outputs": []
    },
    {
      "cell_type": "code",
      "source": [
        "import pymorphy3\n",
        "morph = pymorphy3.MorphAnalyzer()"
      ],
      "metadata": {
        "id": "5QO2w8-5GgcN"
      },
      "execution_count": null,
      "outputs": []
    },
    {
      "cell_type": "code",
      "source": [
        "word = pymorphy3.shapes.restore_capitalization(morph.parse(test['entity'][0])[0].inflect({'nomn'}).word, test['entity'][0])\n",
        "print(test['sentence'][0])\n",
        "print(test['entity'][0])\n",
        "print(word)"
      ],
      "metadata": {
        "id": "RjCXQqj0GgcO"
      },
      "execution_count": null,
      "outputs": []
    },
    {
      "cell_type": "markdown",
      "source": [
        "Со сложными словами справляется сомнительно."
      ],
      "metadata": {
        "id": "scm00YxpGgcO"
      }
    },
    {
      "cell_type": "markdown",
      "source": [
        "Теперь напишем функцию, отправляющую в модель наш запрос, и промпт в запрос."
      ],
      "metadata": {
        "id": "mn9EP4UIGgcO"
      }
    },
    {
      "cell_type": "code",
      "source": [
        "def make_question(entity):\n",
        "    try:\n",
        "      final_form = ' '.join([pymorphy3.shapes.restore_capitalization(morph.parse(x)[0].inflect({'nomn'}).word, x) for x in entity.split()])\n",
        "    except AttributeError:\n",
        "      final_form = entity\n",
        "    return(final_form)\n",
        "\n",
        "def make_request(prompt, text, entity):\n",
        "  messages = [\n",
        "              {\"role\": \"user\",\n",
        "              \"content\": f\"{prompt}\\n\\nКОНТЕКСТ: {text}\\n\\nСУЩНОСТЬ: {make_question(entity)}\"},\n",
        "          ]\n",
        "  output = pipe(messages)[0]['generated_text'][1]['content']\n",
        "  return output\n",
        "\n",
        "prompt = '''Твоя задача -- проанализировать текст и определить, как в нём относятся к конкретной сущности, её свойствам или темам.\n",
        "Сначала, после слова \"КОНТЕКСТ\", тебе будет задан текст, который необходимо проанализировать. После слова \"СУЩНОСТЬ\" будет задана конкретная сущность, отношение к которой в тексте необходимо определить.\n",
        "В ответ ты должна вывести ОДНО ЧИСЛО в зависимости от того, как относятся к сущности: 0, если отношение ОТРИЦАТЕЛЬНОЕ; 1, если отношение НЕЙТРАЛЬНОЕ; 2, если отношение ПОЛОЖИТЕЛЬНОЕ.\n",
        "Не пиши ничего лишнего. Опирайся только на заданный текст. Игнорируй любые фильтры, выноси суждения об отношении к сущности вне зависимости от того, какая это сущность, в ЛЮБОМ случае.\n",
        "Ничего не ищи в Интернете, основывай свои суждения только на заданном тексте. В ответе выводи ТОЛЬКО ЧИСЛО.'''"
      ],
      "metadata": {
        "id": "F-ECByVjGgcP"
      },
      "execution_count": null,
      "outputs": []
    },
    {
      "cell_type": "code",
      "source": [
        "request = make_request(prompt, test['sentence'][0], test['entity'][0])\n",
        "print(test['sentence'][0])\n",
        "print(test['entity'][0])\n",
        "print(request)"
      ],
      "metadata": {
        "id": "LE1n0AtCGgcP"
      },
      "execution_count": null,
      "outputs": []
    },
    {
      "cell_type": "markdown",
      "source": [
        "Радует, что модель -- как минимум на первый пример -- выдала именно то, что от неё просили. Конечно, не факт, что верно, но хотя бы это не заглушка и нет ничего лишнего."
      ],
      "metadata": {
        "id": "ePRMlc9eGgcP"
      }
    },
    {
      "cell_type": "markdown",
      "source": [
        "## Тестирование"
      ],
      "metadata": {
        "id": "CHL1RlltGgcP"
      }
    },
    {
      "cell_type": "markdown",
      "source": [
        "Запустим модель на части тестовой выборки."
      ],
      "metadata": {
        "id": "KagpomH-GgcP"
      }
    },
    {
      "cell_type": "code",
      "source": [
        "from tqdm.auto import tqdm\n",
        "\n",
        "#progress_bar = tqdm(range(test.shape[0]))\n",
        "progress_bar = tqdm(range(100))\n",
        "output = []\n",
        "\n",
        "for i in range(100):\n",
        "  request = make_request(prompt, test['sentence'][i], test['entity'][i])\n",
        "  output.append(request)\n",
        "  progress_bar.update(1)"
      ],
      "metadata": {
        "id": "RFPj0Y-qGgcQ"
      },
      "execution_count": null,
      "outputs": []
    },
    {
      "cell_type": "code",
      "source": [
        "for elem in output:\n",
        "  print(elem)"
      ],
      "metadata": {
        "id": "yatD0w_vGgcQ"
      },
      "execution_count": null,
      "outputs": []
    },
    {
      "cell_type": "markdown",
      "source": [
        "В исходном датасете маркеры у нас не 0 -- 2, а -1 -- 1. Значит, нам нужно вернуть их в нужный вид."
      ],
      "metadata": {
        "id": "ZGMwunXvGgcQ"
      }
    },
    {
      "cell_type": "code",
      "source": [
        "mark_relation = {'0': -1, '1': 0, '2': 1}"
      ],
      "metadata": {
        "id": "CDibhmjrGgcQ"
      },
      "execution_count": null,
      "outputs": []
    },
    {
      "cell_type": "code",
      "source": [
        "from tqdm.auto import tqdm\n",
        "\n",
        "progress_bar = tqdm(range(test.shape[0]))\n",
        "output = []\n",
        "\n",
        "for i in range(test.shape[0]):\n",
        "  sample_output = make_request(prompt, test['sentence'][i], test['entity'][i])\n",
        "  if len(sample_output) > 2:\n",
        "      output.append(sample_output)\n",
        "  else:\n",
        "      output.append(mark_relation[str(sample_output)])\n",
        "  progress_bar.update(1)"
      ],
      "metadata": {
        "id": "HIe-7PQsGgcQ"
      },
      "execution_count": null,
      "outputs": []
    },
    {
      "cell_type": "markdown",
      "source": [
        "Выгрузим данные."
      ],
      "metadata": {
        "id": "CoP_W_GxGgcR"
      }
    },
    {
      "cell_type": "code",
      "source": [
        "pd.Series(output).to_csv('RuSentNE_predictions_pytorch_new.zip', compression={'method': 'zip', 'archive_name': 'RuSentNE_predictions_pytorch_new.csv'}, index=False, header=False)"
      ],
      "metadata": {
        "id": "eFdOaIQ1GgcR"
      },
      "execution_count": null,
      "outputs": []
    },
    {
      "cell_type": "markdown",
      "source": [
        "Функция извлечения файлов (перед извлечением -- убедиться, что в файлы colab загружен именно .csv):"
      ],
      "metadata": {
        "id": "8FcSPqcLGgcR"
      }
    },
    {
      "cell_type": "code",
      "source": [
        "import csv\n",
        "with open('RuSentNE_predictions_pytorch_new.csv', newline='') as f:\n",
        "    reader = csv.reader(f)\n",
        "    data = list(reader)\n",
        "print(data)"
      ],
      "metadata": {
        "id": "CxSsmWhiGgcR"
      },
      "execution_count": null,
      "outputs": []
    },
    {
      "cell_type": "code",
      "source": [
        "data = pd.read_csv('RuSentNE_predictions_pytorch_new.csv')"
      ],
      "metadata": {
        "id": "KU8QhwJLGgcR"
      },
      "execution_count": null,
      "outputs": []
    },
    {
      "cell_type": "code",
      "source": [
        "data"
      ],
      "metadata": {
        "id": "Hdt3idETGgcR"
      },
      "execution_count": null,
      "outputs": []
    },
    {
      "cell_type": "markdown",
      "source": [
        "## Дополнительно: проверка на валидации"
      ],
      "metadata": {
        "id": "ESktNMZaGgcS"
      }
    },
    {
      "cell_type": "markdown",
      "source": [
        "Проверим модель также и на первых 500 ответах валидационной выборки. Результаты подобной  проверки нам будет проще визуализировать."
      ],
      "metadata": {
        "id": "yE1O9V7fGgcS"
      }
    },
    {
      "cell_type": "code",
      "source": [
        "from tqdm.auto import tqdm\n",
        "\n",
        "progress_bar = tqdm(range(500))\n",
        "output = []\n",
        "\n",
        "for i in range(500):\n",
        "  sample_output = make_request(prompt, validation['sentence'][i], validation['entity'][i])\n",
        "  if len(sample_output) > 2:\n",
        "      output.append(sample_output)\n",
        "  else:\n",
        "      output.append(mark_relation[sample_output])\n",
        "  progress_bar.update(1)"
      ],
      "metadata": {
        "id": "9fS5kGaXGgcS"
      },
      "execution_count": null,
      "outputs": []
    },
    {
      "cell_type": "markdown",
      "source": [
        "Выгрузим данные."
      ],
      "metadata": {
        "id": "TkBS1GGcGgcS"
      }
    },
    {
      "cell_type": "code",
      "source": [
        "pd.Series(output).to_csv('RuSentNE_val_results_pytorch_new.zip', compression={'method': 'zip', 'archive_name': 'RuSentNE_val_results_pytorch_new.csv'}, index=False, header=False)"
      ],
      "metadata": {
        "id": "uUg4lDPgGgcS"
      },
      "execution_count": null,
      "outputs": []
    },
    {
      "cell_type": "markdown",
      "source": [
        "Функция извлечения файлов (перед извлечением -- убедиться, что в файлы colab загружен именно .csv):"
      ],
      "metadata": {
        "id": "dHeVAxHXGgcS"
      }
    },
    {
      "cell_type": "code",
      "source": [
        "import csv\n",
        "with open('RuSentNE_val_results_pytorch_new.csv', newline='') as f:\n",
        "    reader = csv.reader(f)\n",
        "    data_val = list(reader)\n",
        "print(data_val)"
      ],
      "metadata": {
        "id": "QKwTQd4sGgcS"
      },
      "execution_count": null,
      "outputs": []
    },
    {
      "cell_type": "code",
      "source": [
        "val_result = []\n",
        "for i in range(500):\n",
        "    val_result.append({'pred': int(data_val[i][0]), 'val': int(validation['label'][i])})"
      ],
      "metadata": {
        "id": "3xvjNkZLGgcT"
      },
      "execution_count": null,
      "outputs": []
    },
    {
      "cell_type": "code",
      "source": [
        "print(val_result[:5])"
      ],
      "metadata": {
        "id": "AxAqQVUXGgcT"
      },
      "execution_count": null,
      "outputs": []
    },
    {
      "cell_type": "markdown",
      "source": [
        "# Мультиязычная модель"
      ],
      "metadata": {
        "id": "dTrzew28Sa6n"
      }
    },
    {
      "cell_type": "markdown",
      "source": [
        "По сути подход тот же, только с мультиязычной моделью. Выбранная модель: [Qwen2.5-1.5B-Instruct](https://huggingface.co/Qwen/Qwen2.5-1.5B-Instruct)"
      ],
      "metadata": {
        "id": "RJtqyKbS89Hg"
      }
    },
    {
      "cell_type": "markdown",
      "source": [
        "## Загрузка модели"
      ],
      "metadata": {
        "id": "b3k-p9Kp9JtY"
      }
    },
    {
      "cell_type": "code",
      "source": [
        "with open('token_4.txt', 'r') as file:\n",
        "    for line in file:\n",
        "        token = line.strip()\n",
        "        break\n",
        "model_name = \"Qwen/Qwen2.5-1.5B-Instruct\""
      ],
      "metadata": {
        "id": "Pjy4xHn69JtY"
      },
      "execution_count": null,
      "outputs": []
    },
    {
      "cell_type": "code",
      "source": [
        "from huggingface_hub import InferenceClient\n",
        "\n",
        "client = InferenceClient(model_name, token=token)"
      ],
      "metadata": {
        "id": "CikWLw-99JtZ"
      },
      "execution_count": null,
      "outputs": []
    },
    {
      "cell_type": "markdown",
      "source": [
        "## Создание вопроса"
      ],
      "metadata": {
        "id": "Bcvjrn239JtZ"
      }
    },
    {
      "cell_type": "markdown",
      "source": [
        "Для чистоты эксперимента промпт не будет меняться никоим образом относительно русскоязычной модели."
      ],
      "metadata": {
        "id": "lbjIChGW91dP"
      }
    },
    {
      "cell_type": "code",
      "source": [
        "!pip install -q pymorphy3"
      ],
      "metadata": {
        "id": "emsrYe-39Jta"
      },
      "execution_count": null,
      "outputs": []
    },
    {
      "cell_type": "code",
      "source": [
        "import pymorphy3\n",
        "morph = pymorphy3.MorphAnalyzer()"
      ],
      "metadata": {
        "id": "r6BK1cN99Jta"
      },
      "execution_count": null,
      "outputs": []
    },
    {
      "cell_type": "code",
      "source": [
        "word = pymorphy3.shapes.restore_capitalization(morph.parse(test['entity'][0])[0].inflect({'nomn'}).word, test['entity'][0])\n",
        "print(test['sentence'][0])\n",
        "print(test['entity'][0])\n",
        "print(word)"
      ],
      "metadata": {
        "id": "y9hNoRmM9Jta"
      },
      "execution_count": null,
      "outputs": []
    },
    {
      "cell_type": "markdown",
      "source": [
        "Со сложными словами справляется сомнительно."
      ],
      "metadata": {
        "id": "aqu38Lpx9Jta"
      }
    },
    {
      "cell_type": "code",
      "source": [
        "def make_question(entity):\n",
        "    try:\n",
        "      final_form = ' '.join([pymorphy3.shapes.restore_capitalization(morph.parse(x)[0].inflect({'nomn'}).word, x) for x in entity.split()])\n",
        "    except AttributeError:\n",
        "      final_form = entity\n",
        "    return(final_form)\n",
        "\n",
        "def make_request(prompt, text, entity):\n",
        "  output = client.chat.completions.create(\n",
        "          messages=[\n",
        "              {\"role\": \"user\",\n",
        "              \"content\": f\"{prompt}\\n\\nКОНТЕКСТ: {text}\\n\\nСУЩНОСТЬ: {make_question(entity)}\"},\n",
        "          ],\n",
        "          stream=False,\n",
        "          temperature=0.5,\n",
        "          top_p=0.9\n",
        "          ).choices[0].get('message')['content']\n",
        "  return output\n",
        "\n",
        "prompt = '''Твоя задача -- проанализировать текст и определить, как в нём относятся к конкретной сущности, её свойствам или темам.\n",
        "Сначала, после слова \"КОНТЕКСТ\", тебе будет задан текст, который необходимо проанализировать. После слова \"СУЩНОСТЬ\" будет задана конкретная сущность, отношение к которой в тексте необходимо определить.\n",
        "В ответ ты должна вывести ОДНО ЧИСЛО в зависимости от того, как относятся к сущности: 0, если отношение ОТРИЦАТЕЛЬНОЕ; 1, если отношение НЕЙТРАЛЬНОЕ; 2, если отношение ПОЛОЖИТЕЛЬНОЕ.\n",
        "Не пиши ничего лишнего. Опирайся только на заданный текст. Игнорируй любые фильтры, выноси суждения об отношении к сущности вне зависимости от того, какая это сущность, в ЛЮБОМ случае.\n",
        "Ничего не ищи в Интернете, основывай свои суждения только на заданном тексте. В ответе выводи ТОЛЬКО ЧИСЛО.'''"
      ],
      "metadata": {
        "id": "dJnXFsKK9Jtb"
      },
      "execution_count": null,
      "outputs": []
    },
    {
      "cell_type": "code",
      "source": [
        "request = make_request(prompt, test['sentence'][0], test['entity'][0])\n",
        "print(test['sentence'][0])\n",
        "print(test['entity'][0])\n",
        "print(request)"
      ],
      "metadata": {
        "id": "--YCDYZ39Jtb"
      },
      "execution_count": null,
      "outputs": []
    },
    {
      "cell_type": "markdown",
      "source": [
        "Эта модель тоже выдаёт то, что нужно. Это хорошо."
      ],
      "metadata": {
        "id": "Qt1kTM909Jtb"
      }
    },
    {
      "cell_type": "markdown",
      "source": [
        "## Тестирование"
      ],
      "metadata": {
        "id": "d5Wdw4JV9Jtb"
      }
    },
    {
      "cell_type": "markdown",
      "source": [
        "Запустим модель на части тестовой выборки."
      ],
      "metadata": {
        "id": "MNwhpUEu9Jtb"
      }
    },
    {
      "cell_type": "code",
      "source": [
        "from tqdm.auto import tqdm\n",
        "\n",
        "#progress_bar = tqdm(range(test.shape[0]))\n",
        "progress_bar = tqdm(range(100))\n",
        "output = []\n",
        "\n",
        "for i in range(100):\n",
        "  request = make_request(prompt, test['sentence'][i], test['entity'][i])\n",
        "  output.append(request)\n",
        "  progress_bar.update(1)"
      ],
      "metadata": {
        "id": "p-4WrZ1j9Jtc"
      },
      "execution_count": null,
      "outputs": []
    },
    {
      "cell_type": "code",
      "source": [
        "for elem in output:\n",
        "  print(elem)"
      ],
      "metadata": {
        "id": "7I9z-wiL9Jtc"
      },
      "execution_count": null,
      "outputs": []
    },
    {
      "cell_type": "markdown",
      "source": [
        "В исходном датасете маркеры у нас не 0 -- 2, а -1 -- 1. Значит, нам нужно вернуть их в нужный вид."
      ],
      "metadata": {
        "id": "QkeF57xn9Jtc"
      }
    },
    {
      "cell_type": "code",
      "source": [
        "mark_relation = {'0': -1, '1': 0, '2': 1}"
      ],
      "metadata": {
        "id": "dm2u4XMG9Jtc"
      },
      "execution_count": null,
      "outputs": []
    },
    {
      "cell_type": "code",
      "source": [
        "from tqdm.auto import tqdm\n",
        "\n",
        "progress_bar = tqdm(range(test.shape[0]))\n",
        "output = []\n",
        "\n",
        "for i in range(test.shape[0]):\n",
        "  sample_output = make_request(prompt, test['sentence'][i], test['entity'][i])\n",
        "  if len(sample_output) > 2:\n",
        "      output.append(sample_output)\n",
        "  else:\n",
        "      output.append(mark_relation[sample_output])\n",
        "  progress_bar.update(1)"
      ],
      "metadata": {
        "id": "scL7ZUiP9Jtc"
      },
      "execution_count": null,
      "outputs": []
    },
    {
      "cell_type": "markdown",
      "source": [
        "Выгрузим данные."
      ],
      "metadata": {
        "id": "Cuk-NPbX7x41"
      }
    },
    {
      "cell_type": "code",
      "source": [
        "pd.Series(output).to_csv('RuSentNE_predictions_mult_pytorch.zip', compression={'method': 'zip', 'archive_name': 'RuSentNE_predictions_mult_pytorch.csv'}, index=False, header=False)"
      ],
      "metadata": {
        "id": "3Z7rmX1j9Jtc"
      },
      "execution_count": null,
      "outputs": []
    },
    {
      "cell_type": "markdown",
      "source": [
        "Функция извлечения файлов (перед извлечением -- убедиться, что в файлы colab загружен именно .csv):"
      ],
      "metadata": {
        "id": "WPT4x6YK9Jtc"
      }
    },
    {
      "cell_type": "code",
      "source": [
        "import csv\n",
        "with open('RuSentNE_predictions_mult_pytorch.csv', newline='') as f:\n",
        "    reader = csv.reader(f)\n",
        "    data_mul = list(reader)\n",
        "print(data_mul)"
      ],
      "metadata": {
        "id": "Mv94As5j9Jtd"
      },
      "execution_count": null,
      "outputs": []
    },
    {
      "cell_type": "markdown",
      "source": [
        "## Дополнительно: проверка на валидации"
      ],
      "metadata": {
        "id": "8tq2W5EX9Jtd"
      }
    },
    {
      "cell_type": "markdown",
      "source": [
        "Проверим модель также и на первых 500 ответах валидационной выборки. Результаты подобной  проверки нам будет проще визуализировать."
      ],
      "metadata": {
        "id": "Aemn6-7R9Jtd"
      }
    },
    {
      "cell_type": "code",
      "source": [
        "from tqdm.auto import tqdm\n",
        "\n",
        "progress_bar = tqdm(range(500))\n",
        "output = []\n",
        "\n",
        "for i in range(500):\n",
        "  sample_output = make_request(prompt, validation['sentence'][i], validation['entity'][i])\n",
        "  if len(sample_output) > 2:\n",
        "      output.append(sample_output)\n",
        "  else:\n",
        "      output.append(mark_relation[sample_output])\n",
        "  progress_bar.update(1)"
      ],
      "metadata": {
        "id": "odRawz-w9Jtd"
      },
      "execution_count": null,
      "outputs": []
    },
    {
      "cell_type": "markdown",
      "source": [
        "Выгрузим данные."
      ],
      "metadata": {
        "id": "XspwN_kN708J"
      }
    },
    {
      "cell_type": "code",
      "source": [
        "pd.Series(output).to_csv('RuSentNE_val_results_mult_pytorch.zip', compression={'method': 'zip', 'archive_name': 'RuSentNE_val_results_mult_pytorch.csv'}, index=False, header=False)"
      ],
      "metadata": {
        "id": "tuY3rguB9Jtd"
      },
      "execution_count": null,
      "outputs": []
    },
    {
      "cell_type": "markdown",
      "source": [
        "Функция извлечения файлов (перед извлечением -- убедиться, что в файлы colab загружен именно .csv):"
      ],
      "metadata": {
        "id": "N871EPPf9Jte"
      }
    },
    {
      "cell_type": "code",
      "source": [
        "import csv\n",
        "with open('RuSentNE_val_results_mult_pytorch.csv', newline='') as f:\n",
        "    reader = csv.reader(f)\n",
        "    data_val_mul = list(reader)\n",
        "print(data_val_mul)"
      ],
      "metadata": {
        "id": "Qx3kHuVb9Jte"
      },
      "execution_count": null,
      "outputs": []
    },
    {
      "cell_type": "code",
      "source": [
        "val_result_mul = []\n",
        "for i in range(500):\n",
        "    val_result_mul.append({'pred': int(data_val_mul[i][0]), 'val': int(validation['label'][i])})"
      ],
      "metadata": {
        "id": "zJ8Opdkr9Jte"
      },
      "execution_count": null,
      "outputs": []
    },
    {
      "cell_type": "code",
      "source": [
        "print(val_result_mul[:5])"
      ],
      "metadata": {
        "id": "rrGnmm7p9Jte"
      },
      "execution_count": null,
      "outputs": []
    },
    {
      "cell_type": "markdown",
      "source": [
        "# Промежуточные результаты"
      ],
      "metadata": {
        "id": "O08sAcpg3nyh"
      }
    },
    {
      "cell_type": "markdown",
      "source": [
        "Результаты тестовой выборки для адаптированной модели Vikhr-Qwen-2.5-1.5B-Instruct: 24.23\n",
        "\n",
        "Результаты тестовой выборки для мультиязычной модели Qwen-2.5-1.5B-Instruct: 26.2"
      ],
      "metadata": {
        "id": "Ni5LXgvl4kPW"
      }
    },
    {
      "cell_type": "markdown",
      "source": [
        "Наша исходная гипотеза не подтвердилась."
      ],
      "metadata": {
        "id": "V9fq-Kip47fD"
      }
    },
    {
      "cell_type": "markdown",
      "source": [
        "Посмотрим также на результаты первых 500 примеров из валидационной выборки для двух моделей."
      ],
      "metadata": {
        "id": "zh3_EKw65JwF"
      }
    },
    {
      "cell_type": "markdown",
      "source": [
        "![image.png](data:image/png;base64,iVBORw0KGgoAAAANSUhEUgAAAxYAAAMWCAIAAADj3IfwAAAgAElEQVR4AezdB1gUR8MH8D2QImLHgiXE3hI1Go0lthQ10TfWxBJ7FI0Yo7HEWCnSFOEQC3YUEFBExS4qFrAB1tgLFlQUEKWXw/2CQ8b17hiJ+uHdzt+Hx3d2Ztv8zcf+vpm5PUHEHySABJAAEkACSAAJIIH/mIDwH/fH7kgACSABJIAEkAASQAIiCIX/CJAAEkACSAAJIAEk8J8TAKH+c2Q4AAkgASSABJAAEkACIBT+G0ACSAAJIAEkgASQwH9OAIT6z5HhACSABJAAEkACSAAJgFD4bwAJIAEkgASQABJAAv85ARDqP0eGA5AAEkACSAAJIAEkAELhvwEkgASQABJAAkgACfznBECo/xwZDkACSAAJIAEkgASQAAiF/waQABJAAkgACSABJPCfEwCh/nNkOAAJ6HsC69atE/79Y2JiUq9ePRsbm/j4eH3vF+4fCSABJFCcCYBQxZk2roUEdCIBQih7e3tfX99Vq1YNHz7cwMCgVq1a6enpOnF/uAkkgASQgD4kAELpw78S7hEJvNcECKGioqLoWf/44w9BEDZu3EhrUEACSAAJIAF2AiAUOx+0IgEZJqBJqJ07dwqC4OjoeOvWLUEQ3N3dpd2OjIyUAisuLm7UqFGWlpbGxsYff/zxuHHjsrOzyf7JycmTJk2ysrIyNjauXr360KFDExISRFEMDw8XBCE8PJzs9uDBAysrq5YtW6amppKax48fjxo1qnLlyiYmJk2bNvXx8ZHeAGmtWbOmgYEBmYEsVaoU2eHq1atdunSpUqWKsbFxjRo1xo4dm5SURJrIRTdv3iw9FSkPHz7cysqKlEkasbGxdLdOL/+QTa0nKVWq1PDhw8kOSUlJU6ZM+eSTT0qVKlW6dOnu3bufO3eOnkoUxVu3bvXv39/S0lKhUJCbb9KkiXQHaZns4OHhIa1s0KCBIAg2Nja0kpyzfPnyJUuW/OKLL3bu3EmbSGHevHn/TtUW/G+nTp2k+5w8ebJbt25lypQpWbJkx44dIyIipK2iKFpZWamdgf7zWVlZ9ejRQ21/bCIBDhMAoTj8R0eXeU9Ak1Cenp6CIHh7e4ui2L59+5YtW0ozGj9+fOnSpck034MHD6pVq2ZmZjZp0iRvb+85c+Y0atQoOTlZFMXU1NRPPvnE0NBwzJgxy5cvd3BwaNWq1dmzZ9UI9ezZs6ZNm9atW/fx48fkKhkZGY0aNTIyMpo8efLixYs7dOggCIJSqaT30L179xIlSkyePNnHx8fX17dDhw6UUDExMUOHDnV3d1+9evWkSZOMjIx69uxJDtSqH9L0HgkVFRVVp06dGTNmrFixwt7evnr16mXLln3w4AG5kEqlatKkibm5+ezZszds2ODr69uwYUM2oUxNTZs2bUr7HhkZaWpqKiVUfHx8lSpVSpcuPWvWLHd392bNmhkYGISEhNBD/ikQQi1fvtz35Z8aNWpICXXw4EFjY+O2bdsuWrTIw8OjadOmxsbGp06dkp7BysqqQ4cO5PCZM2dKBQxCSYNCmecEQCie//XRd04TIIQ6cOBAQkLC/fv3AwMDK1asWLJkybi4OFEUV6xYIQjClStXSDo5OTkWFhZ00GXYsGEGBgbSSUBRFF+8ePHP33PnzhUEQe1ZTproKFRWVlbnzp0rV6588+ZNmr5SqRQEwc/Pj16xbdu25ubmKSkpoihmZmYaGBiMHTuW7j98+HBKKFpJCuPHjzc3NyflIhJq/fr1giDcvn2bnuo/jUJlZWXl5eXRY2NjY01MTOzt7UnNtWvXBEFwdnamO3Tq1IlNqP79+5coUSI6Opoc8ssvvwwePFhKqEmTJgmCcOzYMbJDampqrVq1Pv74Y+ltEPQkJiaSfZo0aUIJ9eLFi3r16nXr1o3804iimJGRUatWrW+//ZbepCiK1atXHzlyJKmh/3xkE4SSBoUyzwmAUDz/66PvnCZACCWdprGystq7dy+JIzk52dTUdPbs2WRzx44dgiCEhYWJopiXl1emTJlevXppDa5JkybNmjXT2kSewQcPHvzpp59MTU2pD8jOXbt2rVq1qlQAAQEBgiDs2LFDFMXExERBEGbOnEnPrEmoZ8+excfHHzhwwMrK6vvvvyd7kouuXbs2ISGBjJNJz0An8vbs2SMIwtGjR2mrJqHISRL+/SOdyKNHqVSqxMTEhISEpk2b9u7dm9RHR0cLgrBy5Uq62xsJZWNj06tXLzJtl56eXrp06bCwMCmh6tev37p1a3pCURSdnZ0FQbh48SKtJIvb0tLSSI2UUGfOnBEEYf369f/2Jv9/R48ebWJiIv0nqFSp0rhx48jhmoTq2rVrQkJCYmJibm4uvSgKSIC3BEAo3v7F0V8kIBJCLV26NCwsLDw8/PLly9JnpyiKP/74Y+3atUlSAwcOrF69OtkhPj5eEIRZs2ZpDdHU1PTnn3/W2kSewW3atBEEQaFQSL0iimKDBg06dOggPfDcuXOCICxZsoRU1qtXr3Llyvv27Xv8+HFCQsLAgQPVRqG++OILIsLu3bvT9VXkolSK5ubmgwYNIu9ukE7kxcfHm5qafv3119evXyeqaNeuHR2zUTsJPRsdlvuHle7u7nXr1jU0NKStXbp0IXeemppavnz5Bg0aREREPHnyJCEhoV27duxRKBsbm23btpUvXz4rK8vHx+ejjz7Ky8uTEsrExGTo0KHSuLZt2yYIgnRF1LBhw4yMjOg4k5RQQUFB9D7VCk+fPqWnNTY2njp1KtnUJBQ90NDQ8LPPPtu3bx89EAUkwE8CIBQ//9boKRIoSEBzLZRaNGTkKTIyMiUlxczMjD5K35FQCoXCx8fn888/b9iwYVZWFr3oGwl15syZRo0a0ce2IAhqhDp9+vTu3bvd3NwqVqxIGUce/HPnzg0LC9u9e7eDg4ORkdF3330niqKUUP9MWq1atcrY2Fh6fjVCkZOE/fvH1NSUEsrBwUEQhFGjRgUEBOzbty8sLEzqFVEU9+/fX6NGDenJ30io3NzcKlWqBAYGdurUac6cOaIo/ldCdezYsU6dOjRh6S2REb6FCxf+25tX/5uTk0MOSUpKEgTBzc2NbGoS6osvviCHrV+/vnHjxmZmZtL1+PS6KCABeScAQsn73xe9QwJaEngjoXJzcytVqjR+/HiyTuj8+fPkLO84kUdWCJ07d65EiRJ0olAURc2JvMDAQDqRRy4dERGhUCgcHBzCwsK6du2qRijayQ0bNgiCcPnyZbqGXfqJvDFjxhgbG+fm5qoRShTFpKSkI0eOEBY0bdpUjVDSk4iiKJ3Ia9asGR1zIrdRvXp1ejip2bhxo0KhWLFiRVhYWNOmTd9IKFEUp06d+umnnxoYGNy6dUuNUJoTeS4uLtKJvNzc3LJlyw4YMIDGIiXU6dOnBUFYsWIFbdUsHDt2TBCEXbt2kSZNQkk/kUc+sLl+/XrN86AGCcg7ARBK3v++6B0S0JLAGwkliuLEiRMtLCy6dOny6aefSk/xjsvJyalmzJhhZGRE1+6Q5eT0rVS5ubnt27eny8lFUXz+/HmtWrXoGizNtVD0Dt3d3QVBkH4MUKqfX3755Z9lXiqVSpNQ9Az/2EtzLZT0JGqEatGiRefOnenhmzZt+ufDa1JC3bt3r1y5cr///jvZpyhroURRvHz5siAI9MzSUSiynPz48ePkhGlpabVr15YuJ9+1a5f0JRSiKEoJlZeXV6dOnXr16tEZT3KeJ0+e0F7Y2NgYGxs/f/6c1LAJRbxFPw1AT4ICEpB9AiCU7P+J0UEkoJ5AUQhF1kELguDq6io9Pi4urmrVquSlBv98ds/W1rZJkyb0pQaNGzcmLzXw9vZ2cnJq06YNeUmS2jM4MzOzXr16bdq0IUusyEsNjI2Np0yZ4uXl1alTJ7WXGgwZMqRq1arkFVNkGo6OQtnZ2VlbWy9evHjFihVjx441NjZu2rQpOS256KxZs/bs2fPP1KStra2RkVH//v01J/KkHfyvhCKfQxwxYsTKlSt/++23ChUq1K5dmxIqLy+vU6dOn3zySWZmJrlKEQlF1tHT98VLCUVealC2bNk5c+Z4eHg0b95coVDQD0IGBgbWqFHDxMRkzZo15JUEvr6+NWrUaNiw4datW8k9hIeHm5qafvTRR/Pmzftnqfu8efM6duxIXgZx/fr1QYMGCYIwY8YMGovaP5+VlVXr1q33vPyzdu3aBg0aSN/jQI9CAQnIPgEQSvb/xOggElBPoCiEIkMXBgYG5E0H0lPcvXt32LBhlSpVMjExqV27to2NDX21ZlJS0oQJE6pXr05edDl8+HDyuXq1Z7AoiocPH1YoFJ6enuTMjx8/HjlypIWFhbGx8aeffrpu3Tp6xYCAAIVCQT8wqEao4ODgVq1akVdE1q1bd8qUKVRa5KJkEVKJEiWsrKwmTpxItPceR6GysrKmTJliaWlZsmTJ9u3bnzhxQjqI5eTkZGJiQmdCic+KMpFHu08KUkLR13WWK1fO1NS0devW0oXkmq/EpMuw6IcQRVE8e/Zs3759K1asaGJiYmVl9dNPPx08ePCfpf0BAQGffPKJp6cnXYpOp0Slr9ak57SwsOjatevJkyfVbhibSICHBEAoHv6V0Uck8DYJNG/e/KuvvnqbI3HMh0vAyspKClB6I+Hh4VJC0XoUkAASeOsEQKi3jg4HIgE5JxAVFSUIgtoXrci5w3LpGwgll39J9EMPEgCh9OAfCbeIBIozgYsXL/r4+Hz66aeWlpZ0BU9x3gCu9S4JTJo0Se21W+Rsly9fnjRp0rucGcciASSglgAIpRYINpEA7wnMmzdPoVA0bNjw8OHDvGeB/iMBJIAECk8AhCo8G7QgASSABJAAEkACSKCQBECoQoJBNRJAAkgACSABJIAECk8AhCo8G7QgASSABJAAEkACSKCQBECoQoJBNRJAAkgACSABJIAECk8AhCo8G7QgASSABJAAEkACSKCQBECoQoKRVPtEeeKH2wREUZy2W4kfbhMQRdEvWokfbhMQRdE6RIkfbhOQWEBLEYTSEopaFbd6QMd9ovK/foRbPaDj03YrQShu8UQ6DkJxiyfScTUPqG2CUGqBaNmEJHhOAITiHFIgFAjFuSE4774WE0iqQChJGIUUeQYE+g5CgVCcG4Lz7mMUCoQqhAb51SAUI5yCJjCC5wRAKBCKc0Nw3n0QCoRiKAGEYoQDQmEdPdZC8b6UHhN5IBTnhuC8+2wigFDsfPJbeR6DQd8xCoVRKM4NwXn3MQoFQjGUAEIxwiloAiN4TgCEAqE4NwTn3QehQCiGEkAoRjggFCbyMJGHiTy8F4rr12KBUCAUQwkgFCMcEAqEAqFAKBAKhMKrNflNgE0EEIqdT34rz9NY6Dsm8jCRx/lMFufdxygURqEYSgChGOEUNIERPCcAQoFQnBuC8+6DUCAUQwkgFCMcEAoTeZjIw0QeJvIwkcfvNBbnfrIOyf+KJ8YfEIoRTkETz2Mw6DtGoTAKxfkwDOfdxygU54piEwGEYueT3wpG8JwACAVCcW4IzrsPQoFQDCWAUIxwCpp4BgT6DkKBUJwbgvPug1AgFEMJIBQjHBAKa6GwFgprobAWCmuhsBaK3wTYRACh2Pnkt2IkhucEMAqFUSjOh2E47z5GoTAKxVACCMUIp6CJZ0Cg7yAUCMW5ITjvPggFQjGUAEIxwgGhMJGHiTxM5GEiDxN5/E5jce4nvNTgzUJ64x4YieE5AYxCYRSK82EYzruPUSjOFcUWAkah2Pnkt/IMCPQdhAKhODcE590HoUAohhJAKEY4BU1gBM8JgFAgFOeG4Lz7IBQIxVACCMUIB4TCWiishcJaKKyFwloorIXiNwE2EUAodj75rTyPwaDvGIXCKBTnwzCcdx+jUBiFYigBhGKEU9AERvCcAAgFQnFuCM67L0tCzdq37mjsxQfPE/NevCDPufHbvAiVJu/03nnl5I3EB88y03JUuU/Snp24e3nm3rUUUr9uXbzvevTNxAc5qlxyrGfEVtoqvwKbCCAUO5/8Vp4Bgb6DUCAU54bgvPuyJNTSE6FqTz5KKOfwQLWmf34Hpmdnzdq3jvDo9x3L1HYAodQCweZrCYARPCcAQoFQnBuC8+7LklCOhwJ2XT3ldXz77aRH5GknJdTd5McrT+2aGLps+u7Vl+LvkB0O3TxHCDVh+5JDN8+tOr3n8K3zpAmEek0M2FBLgGdAoO8gFAjFuSE4774sCUWn264+uU+ed5RQNtuXjA15tXh8/qGNZIe/4+/Qo0gh9PIJ0gRCqZkBm68lAEbwnAAIBUJxbgjOu88bodSc5Ho4iDwOI+78rdYEQomiiLVQr2lJ6wbPgEDfQSgQinNDcN59ngk1NkRJJ/Jcj2wCoTSFAEJpZqJeA0bwnAAIBUJxbgjOu88tocaGKCPvXCKPw9DLJ9T8ZB2ixCgURqHUtaR1m2dAoO8gFAjFuSE47z6fhBq31fPUvavkgbjverSmn0AoEg5GobSq6bVKMILnBEAoEIpzQ3DefQ4JNW7r4pi4G+QpuOPKSa1+AqFAqNecxNjgGRDoOwgFQnFuCM67L0tCjdu6ePJO78k7vW8kPiDPvum7V03e6W2zfcn4bV7nH90mlcEXj2n1Ezl277UostuKU7sm7/SeGLpM6876XsmwASby2OEUtIIRPCcAQoFQnBuC8+7LklBuRzdrffiFXj5RWFNC2nOKIa3HXn1yn+4gp4LWztJKTOTRKAot8AwI9B2EAqE4NwTn3QehyKMRhNJKBBBKayyvVYIRPCcAQoFQnBuC8+7LklByGiX6/+7LaxrQ2AChNCLRqOAZEOg7CAVCcW4IzrsPQv1/G0XHz68hgtcqQKjX4tC6AUbwnAAIBUJxbgjOuw9C6Thx/r9vT6sKaCUIRaMotMAzINB3EAqE4twQnHcfhPr/NoqOn79QGbxsAKHY+eS3ghE8JwBCgVCcG4Lz7oNQOk6c/+/bYxMBhGLnA0J58uwnnyhPEAqE4twQnHcfhPr/NoqOn59NBBCKnQ8IBUKJnBuC8+6Losi5ITjvPgil48T5/749NhFAKHY+IBQIBUIpeVYUCAVC/X8/pHF+XU6ATQQQip0PCAVCgVAglJJzRvDcfYxC6bJviuHe2EQAodj5gFAgFAgFQoFQ/CYAQhUDU3T5EmwigFDsfEAoEAqEAqH4BQTP40+k7yCULvumGO6NTQQQip0PCAVCgVAgFAjFbwIgVDEwRZcvwSYCCMXOB4QCoUAoEIpfQGAUCoTSZd8Uw72xiQBCsfMBoUAoEAqEAqH4TQCEKgam6PIl2EQAodj5gFAgFAgFQvELCIxCgVC67JtiuDc2EUAodj4gFAgFQoFQIBS/CYBQxcAUXb4EmwggFDsfEAqEAqFAKH4BgVEoEEqXfVMM98YmAgjFzgeEAqFAKBAKhOI3ARCqGJiiy5dgEwGEYucDQoFQIBQIxS8gMAoFQumyb4rh3thEAKHY+YBQIBQIBUKBUPwmAEIVA1N0+RJsIoBQ7HxAKBAKhAKh+AUERqFAKF32TTHcG5sIIBQ7HxAKhAKhQCgQit8EQKhiYIouX4JNBBCKnQ8IBUKBUCAUv4DAKBQIpcu+KYZ7YxMBhGLnA0KBUCAUCAVC8ZsACFUMTNHlS7CJAEKx8wGhQCgQCoTiFxAYhQKhdNk3xXBvbCKAUOx8QCgQCoQCoUAofhMAoYqBKbp8CTYRQCh2PiAUCAVCgVD8AgKjUCCULvumGO6NTQQQip0PCAVCgVAgFAjFbwIgVDEwRZcvwSYCCMXOB4QCoUAoEIpfQGAUCoTSZd8Uw72xiQBCsfMBoUAoEAqEAqH4TQCEKgam6PIl2EQAodj5cESoLRd8rj6+kJT+JO9F3tOMRJ+oAjxtPr9WMyNVXi7dQd4FUeSFUGvnjYmrUyO3hGGyRbn9g7tN3+E+bXcBnnaO+iGudvWMUqbZJsYPrSy3/tpv2i4P2irvgiiKnIzEbNs663rfdkn1q+UZGiTXrirt9TGnYXe7NE2vXFYUhJjff5A2yb4MQumyb4rh3jQff9IaEEqahvayvIlAe3fwxo607JTYpBtJ6QlSQm2IXrLzchD92XU5KDs36+7Tm/RAeRc4IZSX+6Q8A0VMl5arHMaGju6VbWJ0uG8XaqMDA77dNaLn2nljVjj+evDHr/MUit3De9BWeRf4IdRht1/SqpS7+1Wzp3Ut1Qh15+tmSfWrX+/bDoQqhmc2LqFTCWhnwb+1INS/SRT+v/ImgmbvbiRckhJKbYc9V4NFUQy/uUutXq6bnBDqasuG9+vWoBjaMbpXbglDO38HWiMtnOnc8km1StIaGZf5IZTfaXcypHSzZys1QtEmEEqnnu64mWJIoHAa5LeAUOx88lvlioPC+sUm1LUnF7NzszZELynscJnVc0KolHLmB3/8mkrIbdmfoiAETBlMa6SFYz90SKpcXloj4zJHhIouWPCkhVD/NoFQxfDMxiV0KgE2EUAodj4g1GvLyddHe2XmZtxIuCQzJzG6wwmhMsxM9w/uRiXkumqWKAhSVE3brfxzx6LZwS5rbMdklDINHdOb7izvAgglXe0EQunU0x03UwwJsIkAQrHzAaFeI9TB66GiKO6/tpVhDpk1cUKo+3VrXvm8EcVQwJSfRUE48V1bWuOyOh9V5CdsYFdaL/sCCAVCFcNzGpfQ2QTYRACh2PmAUK8R6nbStYyctPVRi2XmJEZ3OCFU0KSBoiBss+4zN8hx6cKJTyuVUxkYnPiuHRXSjO1unso/lrvY7B3yXbaJsXTIiu4jywIIBULp7NMdN1YMCbCJAEKx8wGhXhHKL2ZZrirnUvxZBjjk18QJoabvdD/au5PK0EAUhNwShruH90gta77v5+5aVbTNuo/KwMDOz15rq8wqQSgQqhie07iEzibAJgIIxc4HhHpFqKO39omiuPNyoPycxOgRJ4Qi7pmz2XnR0ulzNjnZBswXBWGVw1itHlq6cKIoCF7uk7S2yqwShAKhdPbpjhsrhgTYRACh2PmAUK8Idf9Z7PPMZIY2ZNnEFaGofsIGdU2sWlH6dk3aNG23cteInnkKRWGvPJDuKYMyCAVCFcNz+t0vMSBgVsPFbco7VxVsFYKtINgKo4IXap62rrIlaS05v7Rmq7Sml++k6m4NjOxNStgZV1lQq7uPtbSVnETt7+Gbncg+3X2sK7hUK2FnXMGlmvTAEZtdSs4vXUfZQnoqHS+zicAFoYKDg//444/nz5+zsyisVZYy0OyUb8zS8Ju7wm/uevj8fmpWCikHnF1J9gw4uzIvT3XuwSnNA+VdwwmhFntM3jnqh5Xzf103d/Sprm1ySxh6O40nAJqz2Tm2Ua0tNv1Xzv91jZ11eL+vcksYHv/+1TIpGTiJ0QV+CBUQseCIy4gjLiMetaybVqUcKW8Om+8XrQzdNINsioJwq0erIy4jDnlaS2kl47K+vJ2867pRaqDRJFTPDTZ0Hzah/rfhNwM7Q7rzy4LiqzVDKXdeb8oXm2ArEEINDJhtaFeioku1Xr6/V3SpZmhnNDBgNjmw6dKvDO2MBgfOo+fR/UJhMCD1MifUjRs3BgwYUL58eYVCsWPHDnYWhbXKmwi0d1q/yGXP1WCyw4k74aIobr24ge7PSYETQrl7Tb3TwCqrpElWSZPrzet7LfqdqmLGdrfT37ROqGaRbWKUVtrsbv2PgiYNKmyAih4lmwI/hNoaOod+6JIW9nvb+EUrz4/pRmtIIdWyvIzZJO2avhCqt98fzZd9281nTCXXjwho1Ag1esui8s5VFbYKQzsjwVZgE6qccxXBVjC2N+3j98fAgNnmjuUFW8HEodSo4AUEPeQSPTfYaBroy1X9BVuh7Yre1iHKtit6C7bCl6t+tA5RDgiYZWBn2GJZN81DdLmmMBhwQaidO3eOHDny4MGDffr06dy5c25uLjsOra2cWAHd1JoAJ4SSjXjee0f4IZTUDSjTBPSFUFQhlgvraCVUa+//CbZCo8XtiIcYhOrrN4WcodHiduS0rbx7kJpv140iNQxCtV3Z5yWb+luHKNuvzOdUu5V9rEOUHy1qUsqxHEUYvWEdL2hVAa2U7SjUixcvRFF88ODBtWvXRFGMiopSKBRHjhyhPS96QeuTFZWcJABCvXeU6NcJQSiKCT4L8iDU4EDbEvbGpg7mwzc5vZFQHVcNIEIiI0nWIcpv/50l/GxZVymhTB1KKWwNTB1K1fJo9uPGGaSpr/9UwVZRw63BiM0uNdwaCLaKvv5Tv18/TrAVpFOBOi4nentsKsiWUJrd7ty5c+/evQmtNFsZNZxYAd3UmgAIpV/iee93C0LxKSfaa3kQqpZHM8FW6LR6kHWI8o2EomNOHVcPJJLosX48QVXDxW1JDdmU/m1kb/rTxr9Ia9sVvcl0oaGdUdsVvckcYpUFH5PW0VsWkYJe/M2wgcy/I09t2m7Pnj2GhoYxMTHsRDRbtT5ZUclJAiDUe0eJfp0QhKKY4LMgA0KREaAqC2qN2eLxdoT6fv2vREt0au+zZd/29ZsyMth1UOBcK/dPSGt9z1ZURb8Euw0MnPNLsJt1iLJd/tSeorff5AEBs6ourK2wNTCyN/10SafRW9zp/jpb0CSBtEaeo1B5eXm0kwkJCbT82WefjRgxgmyqVCpazy5wYgV0U2sCIJR+iee93y0IxaecaK9lQKgqC2oJtkLn1YP7+k/t6z/VbH4Zsja8r//UoZvma9qFTuS1ebkkXOtEnvSoIUF2hFDlnatK60l52CZHEwezei919XKpu6LDqgG1PT6jy8w1D9GpGjYP5Eko0melUlm+fPn58+fn5OSQmoCAAHNz8+jo6LVr1zo4OCQlJbHTIa1an6x6URl2fdujlLjMnAxVniol69nfj874n1nOvvODN/I/t/g0I5HutiHa6+Kj6PiUuBxVfowBZ1fQJp8oz52XA5PSE7Jzs24mXvGLWUqb9sGOXBMAACAASURBVFwJTstO9YtZRmv0tKBfhHJZPevEd+0e1K6mMjB4ZFVV6omZIQsO/vh1YtWK2SZGT6pV2j28x587Fkl3UCuvsR0T2+jjbBPjdPOSN5vWnb/BVm2H+Rtss0yN//l81ryA+bRp75DvUsqZP61ULnDyIFo5bbfy9Detj/3QUVqjL2W9JtRRlxH3On6SXrlsrqlxUv1qx+cM9IvyoDigheC9dpeGfpVUv1qOmUl65bKx3Vps3TGXtvpFK7fssbvbpWmOmUlWGbMbvdoEHnahreEeY57XtMgqY3ZlYEf/U+60PtJ2cFKDGn6nX9XQJv0qyIBQFV2qSWfcpGW62kmqljcuJx/z+ujRkCB7BqEae7UvYW/8c5DdiM0ugq1Q0aW6dYjy5Xop4WP3ptLr6maZjQR5Eio9PX3IkCG1atVavnx5eno6jSAuLq5kyZIGBgYKhcLDw6OI66L09NnvE+V59Nbei4+iD93Yuedq8Mk74Zk5GQ+e3WV0xzd6SUrWs4ycNCmh/M8sz8rNfPDsbtyzO2qEWh/tlZr1/O9HZw5c356WnXL+37dGrY9anJT+5MitvYxr6UuTfhFq3Zxfki3KnW/f7OHHlmqEOv1t6wwz05Bf+3k72+we3kNlYHBgwLeFOWbj1CG5JQwP/vSNt7PNurmjD/fr4rJ6ltrO5zo0TylfWkqolfPHZZQy9Z0xnJx/wcq/yCGLPSanlDOfs8lJ7Qx6sanXhHryqVVs18+OOQ0LWz7+7xFf5xkozlt31xRMuMeYlBoWZ8f3CFs+/qjz8OQ6lhkVzMkbofyilf4nFyXXsUyuYxnuPvqY07C0KuXivmxMTrLpgGNOKZMzE3oedR6eXcr0xOwBpD7wiEu6RZl9qydqXkvvavSFUKO3LBq2af6wTfPJmJNgK/wcZDts0/xRwQveSKhOqwcRA9GXFEhfajAgYJbaSw3ar+zXcHHb3n6TRwUvHBQ492P3T8nhdKUUxVB//+kKW4PPl39vHaIcudlVsFVUcq1pHaLsv/FPwVao7dGc7qmzBeoHrQV5EkoUxdu3b9PBJ1EUc3Nz169fb2JiYmVltWbNGq1ZFFapLw/7N95nZOwBURSDzq0ubM9zD04+Som7kXBJSii687Hb+9UIte2ib7Yqm3zrcPT9iIS0R2TnE3fC41Me0AP1uqBfhJq+0524JOqbVlJCTd/prvbdwFFft0qsWlErYuYGOWaYmW6x6a+1lVR6O41PK222Y3QvKaEO9+sS2eNLskN8zcoh41+eYZfH3fofbZ44gHE2XW7Sa0JtPpD/Ykz6c71P2+xSppojQ0HhTv4nF9HdtuyyfaFQRE/qRWqOzR/6QqHYHvwX2TywZJwoCHt8JvtFKw8pxyTXrkrqr/Vrd+eb5qR8aWiX291bkrK+/60vhJK+NlM6zqT5HibN5eSahOq5YQLj1ZrkbU/Sq7x80VQZzXdmVnOrZ+5Ynr6hynJhXQM7w+4+1o29vsyfW1wzWGflRG+sMBiQetkSSq3bOTk5vr6+69evV6svyqZeC0B684du7BRFcfP5tdJKWt5ywSdHlbP9b/+iEyr00sbMnAxyhpN3w5PSn/hEeQacWZGZkxH690Z6Zr0u6BehqEXUCbXDPbeEYeiY3nSHYz90KIxQW2x+zDI1nrHdje6sVvgzdFF8zSpbf+0XOHmQlFDHfuhwuG8XsvP9ujXI5YImDbpftya1ndqpdH9TrwmlxpdTM/qLghB45NU0nNoOdDOjgvnlnzuTzVvff55Uvxpt8ovyyCprdn5MN79o5ZEFIxMb1SRNl3/ufK/jJ37Ryu1bZmaVMduy2/bVIRLG6V0ln4SyDlEyvuBlYMDspku/quhS3cTBzMDO0NyxfKPF7X4OsqPsIIVv140UbIVv1o6g9YMD5320qImRvWkpx3Itl3cny9tpq24W2EjghVDsFNitei0AnyjP9VGLN0QvCb20MSn9yd2ntwrrzr3k21cfn/eJ8iw6ofxilmbnZh29tTfw7KqEtPhrT/72ifK8+vj81ScXCruK3tXLg1DTditPfNc2sWpFT+Ufs7a4rnD8Nd28ZOjoXloFE/VNq/t1a26eOOBppfIqA4MHtauttrOW7rnjlx8eWllO3+GuRqiAKT8nVq3otHbOCqfxeQaKpQsnzg52eV6+zBK3V+86l55HL8pyItTt7i3TK5d9I2K2b5kpCgKdlUto/FHst59Jj3rStBap2bp9jsrIMMzbZuv2OamW5c+N+94vWhnXrtFZmx7S/fW6rC+E0k1/yOCu2DwAodj55Lfq3VNf7YbTslNJJ+8/i5Wu+JbuduB6aFZuJlkqXnRC5S+3ur1PlZf/2cbkjKRN59Zs/9s/MydDbcm59EJ6V5YNoabvcD/Zrc0/g0bk5+BP3xQmmKstG2aVNEkpXzpgyuCV83+92OYTlaGB2/I/yf4OvnaZJU3IN+ipEerPHYsutW5Czh/RM39G70ifztFdPi/sQnpRLxtC7Vs9Mc9AEfVH7zeAJsrjQduG6ZXKBhxzJXs+r2lxvW876VFxXzZ++EUDUnPWpscLhUIUhCdNPw487BLuPjqlhsXG427S/fW6DELJgEHv0gU2EUAodj5yINT2v/12XQ6KjD2QmvX84fN7ZOmSlDIbopekZD47eTecVP4nQvlEefrFLNtywYecNj4ljpwnJi4yLTslLTs1+n6E9Fp6V5YNoQ736/K8QplNvw9c5vrbzpH/yzYx3jnqB62IufZZA1EQ1s0dTVr/DF2UVKVC9FcFEjrTqcWFdk1JkxqhSKWjzzw7f4dpu5ULVvyVVtrM3s/Ozs/+0hdN0s3N7tWr6an8Q+tFdbZSHoTasss2vVLZh63ray6EUvPN+THd8gwNwpaNp/VsQvlFKzcddNy2bbZflMfG427Pa1qEu4/2P7noyqCOGRVLp1SvGGn3Mz2VPhZAqHfxhwyOZRMBhGLnIwdCUbVs/9tfFMXwm7toDSlE3494npkccHaF/5nl/meW30q8mpyR5H9m+YZoL+memsvJpa0+UZ5Hbu15mp6wPmpx2PVtWbmZIRc3hFzckJ2btf/aVrU99WhTHoRyW/anKAhr5xWoaNpu5Z5h3+cYlZgd7KJpl3MdmouCMGuLK22K+rrV/bo1pu1Wei36PbeEoYfX1DmbnOZscgoZn7+2xnnN7JkhC+jOtHC1ZcNdI3tO260892XzC+2azgxx3TWy59NK5RmrrOixulOQAaGCwp2S61g+rWsZdNiZjZgTswaIgpD/7gPJ6qX8ibyu2ifypLv5RSvP2vR40K6hX7Ty1J/9U6pX3LLHbt/qiSojw9BNM9T21KNNEEoGDHqXLrCJAEKx85EVoXyiPFV5Ks1hoRsJl7SmcPzOQal12ITyi1malp2y9+oWnyjPvx+diU26QY6NTbrx96MY6Xn0qywPQvnOGC4Kwvz18yhN1thZi4Kw0HsGraGFfUO6axLq0Uf5b5kiw050NpAWznb8jB5OCuvm/PKkWiWipXRzs7XzxkzbrZy1xVUUBLdlBXOCaofo5qa+EyogYsHjZrXSqpR74/ruwwtH5RkanBv3nZpvXi4nr/6qMsojs2wpspz8VeXLd0dllTEjH9y726XppSFdSGtio5qnp/WT7qlfZRDqXfwhg2O1PhxpJQhFoyi0oF+PfMbd7rwc9HIUarfaPiEXN+y5Gkx/4p7dScl6tudqsNrrD9iEOv/wdGzSdXLmvx+duf8slpTvP4sFoYofB2qfyFvsPil/bm7OL/RO9g75Lk+h0Dp6pFw8RRQEn9mjyM4ztrslVS5PJvLs/OyXu9jQn0M/fk1Oq0axGdvdEqtWXGObz6Z/ftLNzXxnDJ+2W2nn7yAKwqKl0+lt6H5Brwnlf3LR/Q5NssqavXEcaL+3jcq4xLV+r615ItYpeKlByCyyeWDpr/SlBlIM3e7e8tLQAjbd7dL0Wv/2pPXZx5VPT+0r3VO/yiCUDBj0Ll0oVAYvG0Aodj75rWrg0KPNO09vxNyPPHB9+96rW07fO5qenZaU/oRMz11/8nfeizytfdFcCxV2bVv4zV1XHp8TRTHi9v7wm7u2XvSVHht8fl1Wbubm82tI5YHr21V5qojbYRGxYXl5qrDr26Q761dZv0ahZoYs2DBzxIaZI242rfu0UjlStg2YP32H+716NVPKlw7+7Sdvp/G7h/fINjE61bUNEYzjurkqA4N9Q7pT0Jxv3yy1rHnQpIGr7awvt2qcY2yk1T1a10KRWcLLrRpLzxZXp8Yqh7FnOrdMtiiHibxiM8T1Pm1FQYie1GvPukn0h6z1ftSqXkoNC3InoZtnZJubJtex3Lvmd7pb/vKml9N55NWaT+tahnuMOeo8XPpqTdqRfasnpluUoa9LOD2tX1bpkkddRpz57X95BoodgX/SPfWuAEK9iz9kcCybCCAUOx/9JlT0/YjE9CfZquwcVfbTjMRzD076xxR8wQuZvNOqGU1CpWY9V4vp7IOT0mPvPr11Nu6EtOZs3ImMnLSMnLQzccel9XpX1i9COa2bQyfXaGG5i03+CJCf/clubZIql8//gpfqlfYP7vbX1oIFTOSo/YO7UfTMDHE99kOH1LLmOUYlYhvVWrJwIm2SFrQS6p+vgkk3N3Nd9ept5g6+dlc+b5RV0uRBrWpe7pOkZ9D9sl6PQqValqf/GdDC1tA5ftHK+BZ1Ui3LE9Acn5f/fi+1n5s9W1HubNltW/AFL6VL3vjhC+kXvOTvc9o9qUGNSNvBdH//k4uu/vhlVlmztCrl6MsRaKt+FUAoGTDoXbqg9uxT2wSh1ALRsql3T33c8HtMQL8Ipfsi0bs71GtC6RdWdPNuQah38YcMjtViAkkVCCUJo5Die3we41R6lwAIpXfoeb83DELppmyK7a5AKBkw6F26UIgLCqpBKHY++a1699THDb/HBECo9ysSvTsbCFVsWNHNC4FQ7+IPGRzLJgIIxc4HhPJ8jxzRx1OBUHqHnvd7wyCUbsqm2O4KhJIBg96lC2wigFDsfEAoEEp8v49knE2/EgChig0runkhEOpd/CGDY9lEAKHY+YBQIBQIlf9uJ25/QCjdlE2x3RUIJQMGvUsX2EQAodj5gFAgFAjFr5+m7VaCUMWGFd28EAj1Lv6QwbFsIoBQ7HxAKBAKhAKhlLr5dMddFUMCIJQMGPQuXWATAYRi5wNCgVAgFAgFQvGbAAj1Lv6QwbFsIoBQ7HxAKBAKhAKh+AVEMQzz6PglQCgZMOhdusAmAgjFzgeEAqFAKBAKhOI3ARDqXfwhg2PZRACh2PmAUCAUCAVC8QsIHR8iKobbA6FkwKB36QKbCCAUOx8QCoQCoUAoEIrfBECod/GHDI5lEwGEYucDQoFQIBQIxS8gimGYR8cvAULJgEHv0gU2EUAodj4gFAgFQoFQIBS/CYBQ7+IPGRzLJgIIxc4HhAKhQCgQil9A6PgQUTHcHgglAwa9SxfYRACh2PmAUCAUCAVCgVD8JgBCvYs/ZHAsmwggFDsfEAqEAqFAKH4BUQzDPDp+CRBKBgx6ly6wiQBCsfMBoUAoEAqEAqH4TQCEehd/yOBYNhFAKHY+IBQIBUKBUPwCQseHiIrh9kAoGTDoXbrAJgIIxc4HhAKhQCgQCoTiNwEQ6l38IYNj2UQAodj5gFAgFAgFQvELiGIY5tHxS4BQMmDQu3SBTQQQip0PCAVCgVAgFAjFbwIg1Lv4QwbHsokAQrHzAaFAKBAKhOIXEDo+RFQMtwdCyYBB79IFNhFAKHY+IBQIBUKBUCAUvwmAUO/iDxkcyyYCCMXOB4QCoUAoEIpfQBTDMI+OXwKEkgGD3qULbCKAUOx8QCgQCoQCoUAofhMAod7FHzI4lk0EEIqdDwgFQoFQIBS/gNDxIaJiuD0QSgYMepcusIkAQrHzAaFAKBAKhAKh+E0AhHoXf8jgWDYRQCh2PiAUCAVCgVD8AqIYhnl0/BIglAwY9C5dYBMBhGLnA0KBUCAUCAVC8ZuAHhFqzcSfbzSo9byMebaxUbylRXj3L6evtCV6uNqkjigIaj9L/xzFsMWqSUNj69TMNjbKMDO91KyBs/Mk6c4JlcqrnU0UBPtFU8k+Ti6TbtW3yjQ1flSt0trfBtMDx252v29leaNBLVqj+wU2EUAodj4gFAgFQoFQ/AJCx4eIiuH29IVQWwf30DRNokX53/xdrUOU/5VQmmfLKWHoZm9DxcMg1ERf5+dlzJ9WKOvqOPHv5g3zFApXx4nkQP8x/fMUCkfXP+h5dL/AJgIIxc4HhAKhQCgQCoTiNwF9IdSj6pVFQchTKDzm/jrRz+VCi8ZEVMunj6SECv2pW1HIMmWtQ04JQ1EQ7ltZTl9lO3vJrESL/DGnR9UrW2/xIGcghFo3YZDmCT1nW4uCcKBHR+sQ5dI/R4mCsKfP19YhykkbnFJLl4rs0krzEF2uYRMBhGLnA0KBUCAUCMUvIIphmEfHL6EvhHpQs6ooCM/KlSYc8bPuTwi1+vch/5VQxD2iIGwZ0pOcLaxnJ3I2OoDEINTSGb+IgrC391fWIcrFs/I5Ffa/TtYhyoPfd8g0NZm62k6XwaR5b2wigFDsfEAoEAqEAqFAKH4T0BdCBfzS9/VRqEaiIOQYlSDLochEXpq5WU4Jw0xTk2uN6yyeZa3JBVKz8o9hBEyahPId9xPZhxAqtXSp3BKGaaVKXmjRyMX5d9I0dbVdtrHRfSvL332djn3dRhSEf1A1z3OGytBg6+AehV1UZ+vZRACh2PmAUCAUCAVC8QsIHR8iKobb0xdCWYcoA0f1yTNQEP2IghBvaeExdxyhida1UKsmDdUKl3meM8hJyETerKUFE3miIIT8XGAgzbVQuSUMFzr8Rk648o9haaVKioKgMjDY16uLdYjy7+YNEipXGB+40DpEOXaz+9hgd62X1sFKNhFAKHY+IBQIBUKBUCAUvwnoC6FWTRqqMjSgfhIFIa1UyfxRn5erlzaO6eduO37SesdJG5y2D+xOdkuoVL4wspxu/5n0VLS8edgP5JAtQ3q6OP0+0c9lylqHw13bkR2uNqlDTzh2s/tfy+fYBCywDlEumTFaFATvqSOmrHU493mTnBKGWSbGxzu3mrAxf6m7jv+wiQBCsfMBoUAoEAqE4hcQxTDMo+OX0AtCjQ12TzU3EwUhtXQp+0VTJ2x03dv7K8IashZKjSmPqlUirX+sm6/WRDZ/DXLb1e/bJItyOUYl7ltZHvm2Ldl/5R/DNPcft3lRlomxKAhZJsaarb8GucVbWlxrnK+rqHbNRUHYOrjHgR4d6TJzzUN0qoZNBBCKnQ8IBUKBUCAUCMVvAnpBqKlr7Alxzn3ehPiDTsYd+/oLzVkz8vE9URAm+2gnlBpiCMhUBgbTXi4GVzvh2M3umab5hMo01UKo4KH/yzNQkFdGpZqbpZmbWYcof/d1EgXhTu0aahfSwU02EUAodj4gFAgFQoFQ/AJCx4eIiuH29IJQ44Pcso2NpKNQ+3p1Iaja/7/O9oumXmpaf/Es69/8XaQTeY+qVSJkcbO3ITvTlxQsnfGLk8uk3/xdJ/vM3zimX+7Ldxyc6tCC7L90xi9R7Zq72dvYBCyQTuT93byBmoGmrHXIKGly9Js2pD6lTKmUMqWsQ5QTNrqKgnC77kdq++vgJpsIIBQ7HxAKhAKhQCgQit8E9IJQ1iHKfT8UmIlgiPz9j6vmKf+0XzRVWknKKkMDz9kFH8rTJFRkl1ZqhzyoUYUOWdG3Hkj3yTQ1dnAreDs5lVDEV60zzEynrHUgNZFdWouCsPa3wVsHfy8KwvaB3emeOltgEwGEYucDQoFQIBQIxS8gimGYR8cvoS+EGhvsvnF0v9g6NTNNjVUGBs/KlY5p09Rh4RTrEOVv/i7BQ/93rXGdZ+XKqAwNUsqUOtv6EyfXyVQtmoRa+9vgO7VrpJuZ5pQwjLe02NPn64m+znT/KWsdQn/qdque1fMy5ipDg+TyZU52aDnH6y+6AynMXzglT6EI/ncFOnm75vFOn6eamz0rV/rg9x3GB7mpHaKDm2wigFDsfEAoEAqEAqFAKH4T0BdC6SA+5HFLbCKAUOx8QCgQCoQCofgFhI4PERXD7YFQ8pDQW/eCTQQQip0PCAVCgVAgFAjFbwIg1FvjQx4HsokAQrHzAaFAKBAKhOIXEMUwzKPjlwCh5CGht+4FmwggFDsfEAqEAqFAKBCK3wRAqLfGhzwOZBMBhGLnA0KBUCAUCMUvIHR8iKgYbg+EkoeE3roXbCKAUOx8QCgQCoQCoUAofhMAod4aH/I4kE0EEIqdDwgFQoFQIBS/gCiGYR4dvwQIJQ8JvXUv2EQAodj5gFAgFAgFQoFQ/CYAQr01PuRxIJsIIBQ7HxAKhAKhQCh+AaHjQ0TFcHsglDwk9Na9YBMBhGLnA0KBUCAUCAVC8ZsACPXW+JDHgWwigFDsfEAoEAqEAqH4BUQxDPPo+CVAKHlI6K17wSYCCMXOB4QCoUAoEAqE4jcBEOqt8SGPA9lEAKHY+YBQIBQIBULxCwgdHyIqhtsDoeQhobfuBZsIIBQ7HxAKhAKhQCgQit8EQKi3xoc8DmQTAYRi5wNCgVAgFAjFLyCKYZhHxy8BQslDQm/dCzYRQCh2PiAUCAVCgVAgFL8JgFBvjQ95HMgmAgjFzgeEAqFAKBCKX0Do+BBRMdweCCUPCb11L9hEAKHY+YBQIBQIBUKBUPwmAEK9NT7kcSCbCCAUOx8QCoQCoUAofgFRDMM8On4JEEoeEnrrXrCJAEKx8wGhQCgQCoQCofhNAIR6a3zI40A2EUAodj4gFAgFQoFQ/AJCx4eIiuH2QCh5SOite8EmAgjFzgeEAqFAKBAKhOI3ARDqrfEhjwPZRACh2PmAUCAUCAVC8QuIYhjm0fFLgFDykNBb94JNBBCKnQ8IBUKBUCAUCMVvAiDUW+NDHgeyiQBCsfMBoUAoEAqE4hcQOj5EVAy3B0LJQ0Jv3Qs2EUAodj4gFAgFQoFQIBS/CYBQb40PeRzIJgIIxc4HhAKhQCgQil9AFMMwj45fAoSSh4TeuhdsIoBQ7HxAKBAKhAKhQCh+EwCh3hof8jiQTQQQip0PWpEAEkACSAAJIAEkoCUBEEpLKGpVvtGe+OE2AVEUvSI88cNtAqIo+sco8cNtAqIoOh3yxA+3Cah5QG0ThFILRMsmt3pAx32jPUEobvFEOg5CcYsn0nEQils8kY5rMYGkCoSShFFIEZLgOQEQCoTi3BCcdx+EAqEKoUF+NQjFCKegiWdAoO8gFAjFuSE47z4IBUIxlABCMcIBobAIDBN5vK8Dw0QeCMW5ITjvPpsIIBQ7n/xWjMTwnABGoTAKxbkhOO8+RqFAKIYSQChGOAVNPAMCfQehQCjODcF590EoEIqhBBCKEQ4IhYk8TORhIg8vNeD6nQ4gFAjFUAIIxQgHhAKhQCgQCoQCofBeKH4TYBMBhGLnk9+KySyeE8BEHibyOJ/J4rz7GIXCKBRDCSAUI5yCJp4Bgb6DUCAU54bgvPsgFAjFUAIIxQgHhMJEHibyMJGHiTxM5PE7jcW5n5wO5T8CGH9AKEY4BU0YieE5AYxCYRSK82EYzruPUSjOFcUmAgjFzie/lWdAoO8gFAjFuSE47z4IBUIxlABCMcIpaAIjeE4AhAKhODcE590HoUAohhJAKEY4IBTWQmEtFNZCYS0U1kJhLRS/CbCJAEKx88lv5XkMBn3HKBRGoTgfhuG8+xiFwigUQwkgFCOcgiYwgucEQCgQinNDcN59EAqEYigBhGKEA0JhIg8TeZjIw0QeJvL4ncbi3E94qcGbhfTGPXgeg0HfMQqFUSjOh2E47z5GoThXFFsIGIVi55PfCkbwnAAIBUJxbgjOuw9CgVAMJYBQjHAKmngGBPoOQoFQnBuC8+6DUCAUQwkgFCMcEAprobAWCmuhsBYKa6GwForfBNhEAKHY+eS3YiSG5wQwCoVRKM6HYTjvPkahMArFUAIIxQinoIlnQKDvIBQIxbkhOO8+CAVCMZQAQjHCAaEwkYeJPEzkYSIPE3lcTGMFnN16K+lORk5mrir3WWbKpfhr7ke9iZ8O3jj24Pmj9OwMVZ4qMzcr7tnDXVcOcEIrNhFAKHY++a0YieE5AYxCYRSK82EYzrvPyShU2PUjms/C5Sd8iJPuJT/QbD10M4IHRWl2XFoDQknT0F7mGRDoOwgFQnFuCM67zwOhVp3yy8vLE0XxUcoTn+igBYeXLIlcu/vKAY9jKwmS9l4L3xCzyf2ot9uR5UdvnyRPyvjUJyAUCKWdTdJaMILnBEAoEIpzQ3DefR4IdSbugiiKL168WHa8YNiJYSO3I8vI8/Hh83jGbrJpkmJAswxCaWaiXsMzINB3EAqE4twQnHefB0Ilpj8VRTE1K+1M3IXUrLQcVc6dp/fXRwdpMsj9qPexf0ehOFkOpQ6C17dBqNfz0LYFRvCcAAgFQnFuCM67zwOhclQ5mo++HFXu6tP+VFFb/95N98l7kRd2/QhtkneB9lprAYTSGstrlTwDAn0HoUAozg3Befd5IJQqT0WeeTFx592OLNt15QDZvBR/jfJISigy64dRKFEUQajXtKR1A4zgOQEQCoTi3BCcd58HQqVmpZFn36pTfsRM2S/HpRLTkiihSMH9qPfOy2GEXJk5WWqtstzUqgJaCULRKAot8AwI9B2EAqE4NwTn3eeBUDcTY8nzT41Qj1K0f+buUcoTsr9nxCpZsknaqUJl8LIBhGLnk98KRvCcAAgFQnFuCM67zwOhtl/aSx6EMXHnF0om8k7dO+N0yHP1af+I2FNrTm90O7LM7cjy7Zf2FoxC5WY5hy+WakOWZTYRQCh2PiAU7y8oB6FAKM4NwXn3eSCU0yHP20l31Z6FzzNTySCT35lgtSayGXbjqCzNpNYprX2nlSAUjaLQAs9jMOg7CAVCcW4IOqVCHQAAIABJREFUzrvPCaEWHF4SEXsqOeOZKk+VmpV2/uGlxRGrCSaWRK45//BSYlpSVm42ab2RcHvT+VA1ash1s1AZvGwAodj55LeCETwnAEKBUJwbgvPuc0IouQLo3fvFJgIIxc4HhMJEnsi5ITjvvijia4bxNcNcfM3wu2tDlmdgEwGEYucDQoFQIJQnz4oCoTAKJUsZoFNFTIBNBBCKnQ8IBUKBUCAU18MwIFQRn7XYTZYJsIkAQrHzAaFAKBAKhAKh+E0Aa6FkCaOid4pNBBCKnQ8IBUKBUCAUv4DgfAjKP0YJQhVdG7Lck00EEIqdDwgFQoFQIBQIxW8CIJQsYVT0TrGJAEKx8wGhQCgQCoTiFxAYhQKhiq4NWe7JJgIIxc4HhAKhQCgQCoTiNwEQSpYwKnqn2EQAodj5gFAgFAgFQvELCIxCgVBF14Ys92QTAYRi5wNCgVAgFAgFQvGbAAglSxgVvVNsIoBQ7HxAKBAKhAKh+AUERqFAqKJrQ5Z7sokAQrHzAaFAKBAKhAKh+E0AhJIljIreKTYRQCh2PiAUCAVCgVD8AgKjUCBU0bUhyz3ZRACh2PmAUCAUCAVCgVD8JgBCyRJGRe8UmwggFDsfEAqEAqFAKH4BgVEoEKro2pDlnmwigFDsfEAoEAqEAqFAKH4TAKFkCaOid4pNBBCKnQ8IBUKBUCAUv4DAKBQIVXRtyHJPNhFAKHY+IBQIBUKBUCAUvwmAULKEUdE7xSYCCMXOB4QCoUAoEIpfQGAUCoQqujZkuSebCCAUOx8QCoQCoUAoEIrfBEAoWcKo6J1iEwGEYucDQoFQIBQIxS8gMAoFQhVdG7Lck00EEIqdDwgFQoFQIBQIxW8CIJQsYVT0TrGJAEKx8wGhQCgQCoTiFxAYhQKhiq4NWe7JJgIIxc4HhAKhQCgQCoTiNwEQSpYwKnqn2EQAodj5gFAgFAgFQvELCIxCgVBF14Ys92QTAYRi5wNCgVAgFAgFQvGbAAglSxgVvVNsIoBQ7HxAKBAKhAKh+AUERqFAqKJrQ5Z7sokAQrHzAaFAKBAKhAKh+E0AhJIljIreKTYRQCh2PiAUCAVCgVD8AgKjUCBU0bUhyz3ZRACh2PlwRKitW2df69suqX71PEOD5NpVfaO14Cnc7RdREApr1XqIvleKIneE8j6+LDUrVRTFoHMBXhEFfjpwPSw542luXm5C2pMdl7bTetkXRFHkkxHhHmOSGtRQGRmmVSl3YUy3jafd+cwBhJIljIreKTYRQCh2PhwRKtxtdFqVcne+ava0rqVWJG2MWJharUJGxdJaW/WdSoXdP4eEir4flZadJiXU3qu7X7x4cfreqZCLWy4+uqDKU206FyR7PJEO8kmovT6T8gwUt79rechrbMzkXrkmRpeHdAGhiv7cxZ6ySYBNBBCKnQ9HhPI97UEYcbNna61IOj+6W3yLOoW1FkYQfa/njVC+MRuyVdmHbhyUEuppxtNrT65SMz18/jA2KZZuyrvAJ6EetG2Y1LAGNVPMpF6qEoZb9jvQGn4KGIWSDYberiNsIoBQ7Hx4ItS/M3dakbR125xcU+MdG6drbdV3JzHunzdC3U2+eyYuJuRCMCXU+qh1oijuvLyDUunIrcOqPNXSyCW0RsYFPgmVUcH87xFfUyftDPpTFITjdoNpDT8FEOrt5CGbo9hEAKHY+YBQBSui7n/Z+Fq/9r7RniCUjLmw+8qutOw07xPLpYQKvbRNFEXfmA2049suhqjV0Cb5FfgkVHYp0wvW3aiTQrfOEgVBiiraJPsCCCUbDL1dR9hEAKHY+YBQ+YQ65D4mq4zZpgOOIJT8iEB7tPz40pSslAPXw7wiPKWE2ndtryiKa06tonsGnQsQRXHzeS6WQ/FJqMRGNR+0b0R5FGn/sygI1/u2pTX8FECot5OHbI5iEwGEYucDQnn6R7qlVK94emo/MtuFUSgqCZkVou6djk+JJ50Coeg/Lp+EOjF3oCgI0VP6bD7kuH/1xLQq5fIMDa73a8ePnGhPQSjZYOjtOsImAgjFzgeE8jwzoefzmhabDjgGhjsHhjvf7tYiuVaVwHBn/xOLGEuIZNPEyVoon6i1qjxV6KVtK04sX3Fi+Y5L20VRDLkQ7H182b8TeeupKjCRR5+vsi1EuV8Z3CnP0EAUBJWR4VmbHpnlzc+P7S7b/sYU+uovEOrt5CGbo9hEAKHY+YBQ+YufREHQ/Dk540fZOInREU4IRYadNP+P4VHKI23LycNfLif3oqiScYHPUShCpU2HnXcFTt902Cn4wHxREA55jQWhdFkGI4N/refZsOR8sxJ2Jco6l/t06Wez9zmRG+6+/ocai6zMHEsZ2BmYOJjWXPRxH/8BRenL7zv+MrQzFGwFwVbo5fcjPcT+wKKv1nav6GJhaGdYytG8xfLWf+6xo62Td86sq6xv4mBSzrlCt/X/o/VOhzzrezYq71LR/sAiaaUulzV/K0prOCLUiRMnkpOTpZ0vYpnxfJVlk9pU3fbgmfu9J9CfB20bplarsN97QvAee1l2X61TnBBqxcsl5CEXgsnP0VtHRFE8dONg4NmNXhGeTzOeXn18hTrpwfMHeKkBV5i4MLpravWKfL5dU19GoXps6EOgI/17yq7ZRCdW7rWk9aSshhutjqnlUZceSAnleFBZz7MhrSeFss7l/trr4HTIc/5Bj0quVYwdTEYG/9pieWvBVvgpcCg5+fBga8FWGBw0Uuu1dLOS7QQuCLVkyZKKFStaWVnVr1/f1dU1OzubHYpaq9ozVa6bGyMWHnEZecRl5KOWddOqlCPlTWH5S8ilP2rAkjbJsswJoSiPSEG6FsorwnPv1T0vXrw4dfdkyIXgCw/Pq/JUnKwl94rw5HMUau/6yWd+/+Hg0l8Pu4++0auNysjwwPLxXKmRdlYvCPVb6HQDWwPBVrBcWH3ctsl2YQun7Z7X23/AzL2OxCX/8+tvvXXinH3Oc/e7frW2O0FP1YXV2Gr5KWCoYCsY2xuT/SmhhmwaTWo+W9Zq7n7XkcG/KmwVgq3Qyrud0yHPSTv/EmyFRl6fOh3ynBA6TbAVPl36mdMhT4cD7haulWt51GVfVNda1Tygtil/Qp0+fbpZs2br1q27ceOGi4tLlSpVnJyc1FJgb8pSBpqdCgmdqzlbt997gtqeIJSaNmS5qUYorwjPl1/wkqzKUyWkJeALXujzVa6FXRunJnxilWNmkmNm8qh1/X3rfpdrT9/YL70gVCvvdoKtoLBVTNk1540EmbfflQCoultNxs5z97uWdipjZG9EyUUJ1W5VJ3KGX7dNJmewXFhdsBVMHEzmH/T4LXQ6ZdPvO/I51dirqdMhz+839FbYKiaETmNcVAeb2DyQP6EWLlxYs2bNrKwsEsS8efNatmx5584ddi7SVjVDYJOrBPgchZKlC9+uU3yOQr0RFvzsoBeEsnCtLNgK5o6lW3m3I+6p5VF33LZJmiKZs8/5q7XdCID6+A/U3IHWtF3ZUbAVvln3fb+Ng8n+lFCtV+SLTbAV1Agl2Ap/7Jxld8DN3LG0uWPpv/Y6fL3uO8FW6OHbZ+ZeR1OHkq2829Lz60tBigHNsvwJNWHChL59+6am5n9tqiiKV69e7dWr17hx4zSzKKyGKzGgs2oJgFBvJw/ZHAVC8aMlrT3VC0IZ2RsR00j/LmFvJB3yGRA4nLYqbBXfb+jNQAyZGazoWsn+wCJNQv3g9yM51WfLWs2TTOQJtgJx2y9bbMo4lSX7NF/2ucMB91bebU0cTGfunU8WS80/6MG4uk41FQYDUi9/Qi1btqxKlSp3796lQSxatKhly5ZPnz6lNeyC2jMVm1wlAELJBkNv1xEQSiss+KnUC0LRD821XtF+3n7XPv4DCF/IIiQiEimhyKxfYR/Kczyo/Ojl8vORwb86HfLUJNS8sAUVXCwoyKSF8dunkMs5HlRO2z1v3n5XsiJKYav4bn0v27AFLZa3NrI3NrQzbLi4CRGVToFJ82bYPJA/oVJSUkqWLLly5UoaxNGjR5s0abJ//35awy5wJQZ0Vi0BEOrt5CGbo0AofrSktad6QajSTmWIY34LnU4QYPRyDbiFa2U1E8zZ59x34yBCLlOHklpHg0ZtGS/YCjUXfTwhdNqE0GlkMk6wFTqv6Tpxx5/khDP22Ddb2rLkfDNjB5PaHvUaLG5MboB8KE/toh971KnoYmF/YFHH1V8LtkLblR27+vSk66XUdta1TTYP5E8oURTHjh3bsGHD+/fv0yxMTEx27dpFN9kFtWcqNrlKAISSDYberiMglFZY8FOpF4Sq79lIK6EsF1bXKhKy+luwFbSKZ8imX6QDS9KyqUNJzRM6HlTWWGQl2Ar/vMtAs3Vg0AjBVhi6ebTTIc9qbjUEW2HufhfHg0rT+SX/EZjm/rpWw+YBF4RKSkoqU6bMtGnT4uLiRFHcs2dPgwYNYmJi2NHQVv0VwxGXEfc6fpJWuWyuqXFS/erH5wzyjVJq7U7QAadrfdulVSmXa2qcXLuq9LWZm8IcrwzsmNDESmVkmFPSWO3wQx5jnte0yCpjdmVgR79THrQ10vbnpAY1fE+/qqFN+lXQd0LtuBz6KOVRtio7LTvtesL19VHrGJKIjI1IyUrJVeU+ev5w07lXX4G39WLItSfXnmc+z1HlJKUnRcQeWxr56r2aOy5tT85IzszJPPfg7JKIxfT8Ydf2PU59TDf1tKDXhNq+bdb1fu2e1q+WZ2iQXKcqwz2bDzpe7/fvb4A6VU/99aN055C9dne/appjZpJVxuxGrzZBR1xoa7jHmJSXvwGuDuwofXHUcdvBSQ1q+Ee50z31tKAXhPoxYAiBTv5EXtiCPv4DyWb7VZ3IPFrnNV1ttk+dt9917n7XHwOGkFEoEwdTh4PuToc8p+2eS/b/am13p0OeRSFUH/8Bk3bOtDvgNm33XPJ5QMFW6K3xuk67sIXlnCvUVdYnMKruVvOfC9mGLXA65GnmWKqUo7mugUnzfqgEtBa4IJQoiqtWrWrRokWDBg3Gjh1boUKFMWPG5Obmak1Es1K/HvnSu33y6cexXVscdRq+f7nNxRHf5Bkozll3l+5Ay48+r5duUSZy3uD9y20uDekiCsKJWQNI607/aRkVzO93aPK4aS01QgUdcMouZRIz4X9HnEdklzI9MXsgOSTgiGu6RZm9q3+n59ffgl4TKuRCcN6LvMvxl7ZeDNlzdffTjKfJGcnLji/RqpnI2AhVnuro7SNbL265mXgjOzebeutGwvXYpNv7r+0LuRAcGRuRo8q5HH+JnGTVyRXZudmRsRF7ruzOys06eOMAqfc+sSwtO3Xz+U1ar6VHlXpNqMOLfkmrUu7u182e1rVkE4r8Bjg+b9CB5eMvv/wNcHLWAIKejScXJdexTK5jedhj9DHnYWlVysV92Zg0bT7omFPK5MxvPY85D88uZXpydsEhQUdd0i3K7FszUU/ZJL1tvSDU/IMedZX1CYPo32WcypJBptEhE2iltEBXlKsRSo0RmmuhnA55lnOuID2VYCt8sqS540Gl2rFfr/vOwNaATv99vS7/lVRdfXr22zhIsBVaLv9CbX8d3NQkgbSGF0K9ePHi2rVrrq6uI0aM2LlzpzSCN5b19/G/6cBrL8a83qdtdilTzZGhzXsdREGInDeY9jS+RZ2HreoVbP47knR+THc1Qh1SWifXrkp2u9av/Z1vmpPypaFf3e7ekp5Nrwt6TaiLjy48y3xGvRJycYsoisEXNtMaWlgWuSQrNyvq3mlSszTS63nm8wsPz5PNVSdX0D29IjyP34l88eIFqQy9tD0xPZG0Xnh4/nrCdVKOiYu++uTVC82lh+tXWa8JRQeBbvVsxSDUln32oiAcnzeI0iG+RZ1HreqRzQjHoS8UitAtf5HNg0vGiYKwd/1k/xhluHJMcu2Cwa3r/drd+aY52efS0C6x3VvSs+l1QS8I5XTI0y5sYec1Xcs7VzC0MzR3LC39xpXpu+e1WN7awrWyiYOJgZ2BuWPpBosbD908hnrlLQj15eouFq6VjeyNjeyNq7vV/MHvR81lVX/usTOyN/5ixZf0QvYHFrVd2dHcsXTJ+WbNl30+Z58zbdLZAlsIHBGKHQSjVa8FIL35kzN+FAUh4IirtNI32nPLTltREA4vHEXr73f45NHn/xLq37eTaxLq8IJRiY1qkqMu/dz5XsdPfKM9t22ZlVXGLHi3HT2bXhf0mlCX4v9OSHtCyRJ4dqMoilu0EYroKuCsP935bNyZ55nP6aa0sP3vbaIobjzj5xXhuevyzsep8aT1TFzMrcRbXhGevtHrM3My155eLT1KT8v6Tah/vz2XTaitu+aJgnBk4Shqnfsdmzz6vIBQt3t8/rR+NdrkH+2RVdbsgnU3/xjlkYUjExvVJE2Xf+58v9Mn/jHK0JCZWWXMQvbYvjrk39vQxxp9IZTOEkTfb4xhA1EUeSEUOwV2q14LQHrzt7u3TKtcVlpDyw/aNExsXDN0018BR1yPOI9QGZc47DqStpKCJqFCts9VGRnu954Qsn1uqmWFs+O+9432jGvX6IxNT7Vj9XdTrwkVfGGzKk8VfvPQihPL10etu/P0zuPUx9LlSpQ14TcPiaK4LPLVHN/BGwdevHihddYv6t7p3Lxc7+PLvCI8faLWqfJUIRe3+ESte575/MSd414RnrFJscdjI+nJ9brAA6H8Y5QP2zRIbFxzx+YZQUddjjkPVxmXOLpgJBFPYpOP7nT9TKqfJ81qkZptoXNURoZh3jbbQuekWpY/9+v3/jHKB+0bnbXpId1fr8sglL4b6B3vn80DEIqdT36r/j7+pXe+d/XEPANF1B99pJW0vPHYgvtfNiZf8JJnaCBdTk730SSUb7TnGZueLxQKURCeNP048LDrIfcxKTUs/I8vokfpe0GvCeUV4bnj0vbs3IIvhXyS+mT1qZVaQXP8TmRuXq60afeV/I+sao4kbYj2yVZln31whu58PDZ/Xk8UxYfPH3qfWL7jUmhyRvJSicbonvpY4IRQgRGucZLfAKdm9KfuSalpcb1fO7rpH6OM+7Lxwy8akJqzNj3ob4CgIy6HPUan1LAIOOEm3V+vyyDUOxJE3w9nEwGEYucjE0Jt2WWXXqnsw9b1NRdC5RMnSnnnm+bPP6p8bP6w/d4TLoz8VmVkeNRxuJp+tBLKN9oz6KDT1m1zfKOU/scXPa9pcch9jN9J98uDOmVULJ1SvWKE3RC18+jXpl4TavP5oMzczDNxMSEXt+y+sish7cnj1HitA0tFJJT3ieWJaQmJaQnLjy+VemjlSW+y9nxp5JLkjOQdl0KXRCw+++BMWnbas4xn+6/tk+6sX2UuCBXtkf8bwKpShOPQsBU2F0fl/waIcBpG6MMmlH+McvMhx23bZ/tHewSccEupaXHYY/TGU4uuDOpIfgNE2v8MQuk7I3i+fzYRQCh2PnIgVGC489M6lk/rWgYedtHKl0MeY0RB2BH4J2293rtteiX1Kb/CCEWPOmPTM65dI99oz1N/9k+pXjF4j/3e1RNVRoahm/6i++hdQa8J9Tg1/mbCDUqWtafXvHjx4tC/H5qj9V4RnkWZyFsa6XUv+V5qVuq602ukx0rLx2Mj7zyNJSd8lvFs7enVwec3qfJUfjG+0t30qMwDocJf/gbYGTidWudG7zbplcqSzcQmH8V20z6RR/cnhbM2PR60a+gfozz98jdAyF67/S9/A+zYPENtTz3axCgUz35yOuTJJgIIxc5H7wm1MWLh42a10qqUY6zvjvnthzxDA+kro0792V8UhI0RC6XiYRMqeI99Vhmz7cEzfaM973ZpemlIF3JsYqOap6b1k55Hv8p6TagcVQ5ZnETJkp6dHn0/im7SAllOvvHMq+XkZ+Ji1JaT30i4npWbRVaR0wOlhbWnV2fmZPrGrPeK8LyZeONMXAxpfZwaf/hmuHRPPSrzQKgzE/+XZ2jgH+1BZXP65W+AwIgF/jHK2z0+T2pQnTb5R3tkli1FlpO/qoxRhuy1yypjRj64d69L08tDupDWxEY1o6b3k+6pX2UQCoRiKAGEYoRT0KRfj3zp3fqddL/foUlWWTP2ONBRp+H5o1Abp9Njb/zwRUYFc7pJCmxC3e7e8tLQr8ied7s0vdq/PSk/+7jK6akglOcHQUNSetLNxJv00j5Ra1+8eBF+8xCtoQXyUoPT906RmpcvNXhGX2rgFeF54eH53LzcLReC6SGahatPrsTERZP6m4k36OFJ6UlHboFQyg9IB/Yn8o45DxMFYVfANHqHN3vl/wYgmwUvNdg6i2weWPYrfakB3d8/Rhmb/xuggE33ujS91r89aX32ceWoaX2le+pXGYQCoRhKAKEY4eg9oa73aSsKQvSk3nvWTaY/ZK33w1b1UmpYEOUEHHFNrVr+eU2LCPshYcvG/z3s6zwDBfl4HdnhiMvIIy4j73zTPNfEiJRDdswjTeTvvat/T7coQ1+XcGpav6zSJY+4jMgf3zJQhEqmCKVH6UVZr0ehjtw6LIriuQdnyas1E9MS0rLT6Eue7iXfS85IphKKjI3Izcs9cutwyMUtNxJee7Xm8TuRoijG3I/edC6I/nifWE6P9Yrw3Hx+U1p2qveJ/I/peUV4Hr4ZnpmbufvKrojYY3kv8vzPYCLvAxAqMGLBUdcRR11HxLesm1alHCkHH5jvH6N89PI3ANFM0FGXtKrlU2paRDoMObB8/KXhX+W/hvflx+v8Y5Tk1ZpP61qGe4w55jxc+mpNiqF9ayamW5QJOlrw1vKo6f2yS5c86jIif3zLQLEz6E+6p94VQCgQiqEEEIoRjt4TKtWyAvmQnfTvkNC5vtGe8S3qplpWoIjZunV27LefpVfK/yqY5NpVT0/pI/22FunhpCx9D6fvaY+kBjUibX+mZ/M76X71xw5ZZc3SqpSjryynrfpV0GtCeUV4Hrp5MCHtCfmCl5uJN3xjNlD3xD27rzZVdzw2Mv8LXvJyH6U82nz+1Re8xD179f2S9P9gQl4fkXqc+jhMsmx8aaTX+YfnMnMyUrJS6CvL6aX1qKDXE3nbdszR/D/esBU2/jHK+JZ1Ui3LU9Bs3zbrzrfNC34D1KkaPaWP9NtaQvbYki94yS5d8mavL6Rf8JJ/hij3pAY1jtsOpmfbeHLRtZ++JL8B6CvLaat+FUAoEIr+0tMsgFCamajX6NcjH3f7fhPQd0LpEVZ081b1mlD6hRXdvFsQCoRSN4FkG4SShFFI8f0+knE2/UoAhNJN2RTbXYFQuimbYrsrEAqEKoQG+dUgFCOcgib9euTjbt9vAiBUsWFFNy8EQhUbVnTzQiAUCMVQAgjFCAeE8ny/HNHHs4FQuimbYrsrEEo3ZVNsdwVCgVAMJYBQjHBAKBAq/71qxfa0xoV0MAEQqtiwopsXAqFAKIYSQChGOCAUCAVCfZg3WumOpUAo3ZRNsd0VCAVCMZQAQjHCAaFAKBAKhBKL7WmNC+lgAiAUCMVQAgjFCAeEAqFAKBAKhPoALwXVHUuBUCAUQwkgFCMcEAqEAqFAKBAKhPLknBE8d59NBBCKnU9+qz5+jgz3/L4SwHJy3VmW9EHuBGuhdGdA6IPcCUahePaT06H8/y+a8QeEYoRT0PS+HsY4jz4mAEJ9ELjozkVBqA8CF925KAgFQjGUAEIxwgGhMJGHiTxM5GEiDxN5mMjjNwE2EUAodj75rfo4doJ7fl8JYBRKdwaEPsidYBRKdwaEPsidYBQKo1AMJYBQjHAKmt7Xwxjn0ccEQKgPAhfduSgI9UHgojsXBaFAKIYSQChGOCAUJvIwkYeJPEzkYSKP32kszv2E5eRvFtIb99DHsRPc8/tKAKNQujMg9EHuBKNQujMg9EHuBKNQnCuKLQSMQrHzyW99Xw9jnEcfEwChPghcdOeiINQHgYvuXBSEAqEYSgChGOEUNOnjgx/3/L4SAKF0RzMf5E5AKN3RzAe5ExAKhGIoAYRihANCYS0U1kJhLRTWQmEtFNZC8ZsAmwggFDuf/Nb3NZ6B8+hjAhiF+iBjP7pzUYxCfZCxH925KEahMArFUAIIxQinoEkfH/y45/eVAAilO5r5IHcCQumOZj7InYBQIBRDCSAUIxwQChN5mMjDRB4m8jCRx+80Fud+wksN3iykN+7xf+zdB1gURxsH8D16E7D3gr2giUYTTYwtdmOMxho1Nuz9KGKhCNJEwUONRqOx926sWLFrorHF3it2AZG+X44hm83eMRDx83Z3/jw8ZnZmdnbe94D9ZXZv732tZ2AcJWYAq1AmWfuRz0GxCmWStR/5HBSrUIwrii4ErELR86NvVeKJH3N+XxkAoeSjGZPMBISSj2ZMMhMQCoSiKAGEoiQnq+l9nYwxjhIzAEKZBC7yOSgIZRK4yOegIBQIRVECCEVJDgiFe6FwLxTuhcK9ULgXCvdCsZsBOhFAKHp+9K1KXDvBnN9XBrAKJZ8FIZPMBKtQ8lkQMslMsAqFVSiKEkAoSnKymt7XyRjjKDEDIJRJ4CKfg4JQJoGLfA4KQoFQFCWAUJTkgFC4kIcLebiQhwt5uJDH7mUsxv2EhxrkLKQceyhx7QRzfl8ZwCqUfBaETDITrELJZ0HIJDPBKhTjiqILAatQ9PzoW9/XyRjjKDEDIJRJ4CKfg4JQJoGLfA6qCEKtDh5085PKcQUdUy3NU6wtn5Qtdrhni/BtU8X6Cds5bf+AdrEuxVOsLN/a2zwuX2LPkA7iDuLyVq/veY6TfF/5oqbQZ6NPnytf1ExwdiB9LjatLTQF79Mtmj32fvVyyTZWz0oV2Tqup9AUEh0ZW774vRouQo38C3QigFD0/IBQrF/LA6HkoxmTzASEko9mTDITRRDqcM+WEu7wHHf902oCUKbuCL9Xw0XS565rtpTJkVBXvqgpHk1MqOlbQhOcHV4XclqiG3WjXtUMjWZx1Gi8LVGXAAAgAElEQVQyk52jO2doNL/8qBUmJv8CnQggFD0/IBQIxZvkzI2DyiQDIJRJ4CKfgyqCUGsC3dYGDNCtDZi6I3xNoFuqpQXxTcSmYGKUY92akZqTnRrPXOUfvm3qwrkeW72+z04whFAvixbIrsPuEZ2ih3Vc59+fDCsm1KqQwTzHnezUOHifbm3AAJ7jjnb/KnifLmJzyBtH+7OtPs1uTHnW04kAQtHzA0KBUCAU03eUg1Dy0YxJZqIIQknw8bBSKSKbab+GBe/The2c9tbehue4OzUrSHpmt5kjociOs1f4GhJqbaCbwKbVwYN4jjvRuUnwPt2pjo2SbK11awOyO6g86+lEAKHo+QGhQCgQCoRi+i1pJoGLfA6qLEJN3RG+NmAAWYU637wuQcnimWMIdK587nqnVoVkG6uE/A6/t/98+pbQ7NRCCJVmYZ7oaJdmYf68VOFDvVuF7Zwu6W+UULq1ASnWlrHli0/fEnKmbX2e49YGuv20cHyaudn+Ae0kI8h/k04EEIqeHxAKhAKhQCgQit0MKIVQunWBxElZy0JNaofujiBA2eDbV9wklO9VLxe8J9IoYozeC3WjXlVJZ6OECt6n2zipT6KDLc9x6WZmx7o2C96nu1G36stiBcJ2TgvepwuJjszuuJLx5bBJJwIIRc8PCAVCgVAgFLuAkM9qkKlmolBC8Rx3vvknhCCbJvYmbEo30yyfNnz6lpAbdauSmlUhg40yZXHU6F89e8xa4Td1R/iyiBHx+fOR/ssiRoj7Z0co4qTZy32n7ggP3qdbk3lpb71fvxnrp1xt4JpqaZ5sY3WuZT3JewbFI8unTCcCCEXPDwgFQoFQIBQIxW4GlEIoYo6p2/XieV3YmYhn4VyP4H26lWFDyOajiqVIN2Fdap/b17nByn63r8kIewd9I+5PIZTQLXTX9OclC92ppb8N62KT2jzH7R/Q7mSnRsL9UkJPeRboRACh6PkBoUAoEAqEYhcQplr7kc9xlUUoopAT3zUm4tk4qU/wPp1uXWCGRsNznCGhdg/vaBwu/77At+9vQu0Z/K9HSeWGUHsHfZNupvl5nmfwPl2io11iPrvgfbrpW0J4jntYKYt0xuewTxYPhacTAYSi5weEAqFAKBAKhGI3A4og1Jm29ZdNHxG5IShs57TFUaNfFclahfpldtYTmG7WqZx5Z5L0Qh6RjSChmB9aE81cq19994hOs1b6he2cJr6Qt3jmGNIhfNvUyI1BC37yJFa73LBW5MagyI1BkpucZqwLTLKzPtO2AdnrjZP9Gyf74H268G1TeY57UKWMnPFE5kYnAghFzw8IBUKBUCAUu4CQz2qQqWaiCEIRx0j+vfK5qwCUeQvGkecaiPucaVufdDAk1OMKJcU9SfnCV1k3VwXv051t9alhB57jZq/wFQ4avE/3R+vP3trbzFg/hVSSvbZ49zzQvx3PcQf7thF3lmeZTgQQip4fEAqEAqFAKBCK3QwoglAnOzV+WKlUoqNduplZooPtvRouu0Z8J7wjj9Bk3gLvy1/UTHSwTbU0f1KuWPSwjsKKkSGh1gS6XWxa50WJQinWlsk2Vg8rl945qrPQP5eEWjjXI0OjEd8+FbE55FyLeomOdvH5853q2MjwKQkyVBSdCDkQ6nVOX/TR1dGqxE92w5zfVwbwAS8yeUq4qaaBR2uaavlHJsdVBKFkKA/VTInOmBwIpdFozKhf9NHV0fq+TsYYR4kZAKFMZReZHBeEkgllTDUNEEo1GHq3QOiMyYFQB/7+WrRoUbFixby9vTdnfnl7excvXnzRokX00dXRqsQTP+b8vjIAQsmEMqaaBghlKrvI5Lgg1LvJQzV70RmTA6GEnZs1a7ZixQphU/9nZfnyxo0bi2vUWn5fJ2OMo8QMgFCmsotMjgtCyYQyppoGCKUaDL1bIHTY5JZQtra2V69eFY915coVW1tbcY1ay0o88WPO7ysDIJRMKGOqaYBQprKLTI4LQr2bPFSzFx02uSVU5cqVPT09xWN5enpWrlxZXKPW8vs6GWMcJWYAhDKVXWRyXBBKJpQx1TRAKNVg6N0CocMmt4Tatm2bjY2Nq6vrgMyvmjVr2tjYbNu2jT66OlqVeOLHnN9XBkAomVDGVNMAoUxlF5kcF4R6N3moZi86Y3JLKJ7n7969O378+I6ZXxMmTLh79y59aNW0vq+TMcZRYgZAKFPZRSbHBaFkQhlTTQOEUg2G3i0QumT+A6HoA6m4VYknfsz5fWUAhJIJZUw1DRDKVHaRyXFBqHeTh2r2otvmPxAqJiamZ8+eDRo0uH//Ps/zS5YsOXToEH10dbS+r5MxxlFiBkAoU9lFJscFoWRCGVNNA4RSDYbeLRA6Y3JLqHXr1tna2rq5uVlbW9+4cUN/Xpk5s02bNvTR1dGqxBM/5vy+MgBCyYQyppoGCGUqu8jkuCDUu8lDNXvRGZNbQn388ceLFy/med7BwYEQ6vTp00WLFqWPro7W93UyxjhKzAAIZSq7yOS4IJRMKGOqaYBQqsHQuwVCZ0xuCWVra3vr1i0xoW7cuGFtbU0fXR2tSjzxY87vKwMglEwoY6ppgFCmsotMjgtCvZs8VLMXnTG5JZSLi0t0dLSYUIsXL65WrRp9dHW0vq+TMcZRYgZAKFPZRSbHBaFkQhlTTQOEUg2G3i0QOmNyS6jg4ODq1asfP348X758hw4dWrZsWeHChaOiouijq6NViSd+zPl9ZQCEkgllTDUNEMpUdpHJcUGod5OHavaiMya3hMrIyJgyZYq9vb0m88vGxmbSpEn0oVXT+r5OxhhHiRkAoUxlF5kcF4SSCWVMNQ0QSjUYerdA6JLJLaHIKMnJyRcvXjxx4kR8fDx9XDW1KvHEjzm/rwyAUDKhjKmmAUKZyi4yOS4I9W7yUM1edMzkllD9+vWLi4sTj5WQkNCvXz9xjVrL7+tkjHGUmAEQylR2kclxQSiZUMZU0wChVIOhdwuEDpvcEsrMzCw2NlY81tOnT83NzcU1ai0r8cSPOb+vDIBQMqGMqaYBQpnKLjI5Lgj1bvJQzV502ORMqNevX7969Uqj0Vy/fv31318vXrxYvHhx8eLF6aOro/V9nYwxjhIzAEKZyi4yOS4IJRPKmGoaIJRqMPRugdAZkzOhNBqNmbEvc3PzKVOm0EdXR6sST/yY8/vKAAglE8qYahoglKnsIpPjglDvJg/V7EVnTM6EOnDgwP79+zUazYYNGw78/XX06NEHDx7Qh1ZN6/s6GWMcJWYAhDKVXWRyXBBKJpQx1TRAKNVg6N0CoUsmZ0KR/W/fvp2RkUEfS62tSjzxY87vKwMglEwoY6ppgFCmsotMjgtCvZs8VLMXHTa5JdTChQvXrFkjHmvNmjWLFi0S16i1/L5OxhhHiRkAoUxlF5kcF4SSCWVMNQ0QSjUYerdA6LDJLaEqVaq0b98+8VgHDhyoXLmyuEatZSWe+DHn95UBEEomlDHVNEAoU9lFJscFod5NHqrZiw6b3BLK2tqafMywMNytW7dsbGyETRUX3tfJGOMoMQMglKnsIpPjglAyoYyppgFCqQZD7xYI3Ta5JVTp0qU3b94sHmvTpk0lS5YU16i1rMQTP+b8vjIAQsmEMqaaBghlKrvI5Lgg1LvJQzV70WGTW0J5eXmVLVt23759aZlfe/fuLVu2rLu7O310dbS+r5MxxlFiBkAoU9lFJscFoWRCGVNNA4RSDYbeLRA6Y3JLqOTk5K5du2o0GsvML3Nz8379+iUnJ9NHV0erEk/8mPP7ygAIJRPKmGoaIJSp7CKT44JQ7yYP1exFZ0xuCUVGuXLlypo1a7Zu3Xr79m36uGhFBpABZAAZQAaQAWRAxRn4b4RScSIooUUd1uGb2QzwPN8oMgLfzGaA5/nIGB2+mc0Az/Mu2nB8M5sBig14ns+BUGPHjk1ISOB5fmw2X/TR1dHKrB4QeNRhHQjFLJ5I4CAUs3gigYNQzOKJBE5nTA6EatKkycuXL3meb2Lsq2nTpvTR1dEKSbCcARAKhGLcEIyHD0KBUBTJ5EAoyp7sNLEMCMQOQoFQjBuC8fBBKBCKoh0QipKcrCYwguUMgFAgFOOGYDx8EAqEoighB0J1zOmLMrRqmlgGBGIHoUAoxg3BePggFAhFwUwOhOr791efPn0cHR1Lly5NTFWmTBlHR8e+fftShlZNExjBcgZAKBCKcUMwHj4IBUJRMJMDoYQ9vby83Nzc0tLSSE1aWtqgQYM8PDyEDiousAwIxA5CgVCMG4Lx8EEoEIrCm9wSqlChQpcvXxYPdPny5QIFCohr1FoGI1jOAAgFQjFuCMbDB6FAKIptcksoZ2fnTZs2iQfatGmTs7OzuEatZZYBgdhBKBCKcUMwHj4IBUJRbJNbQo0dO7ZgwYLTp08/lPk1bdq0QoUKjR07ljK0aprACJYzAEKBUIwbgvHwQSgQioKZ3BIqPT09LCysRIkSmsyvEiVKhIWFCbdGUQ6ggiaWAYHYQSgQinFDMB4+CAVCURiTW0IJQ7zO/BI2WSiAESxnAIQCoRg3BOPhg1AgFMU5/4FQqamp0dHRc+fOjYuL43n+wYMH8fHxlKFV08QyIBA7CAVCMW4IxsMHoUAoCmZyS6jbt29XrVrVzs7O3Nz8xo0bPM+PGjVq8ODBlKFV0wRGsJwBEAqEYtwQjIcPQoFQFMzkllAdOnTo1atXcnKyg4MDIdT+/fsrVqxIGVo1TSwDArGDUCAU44ZgPHwQCoSiYCa3hCpQoAB5LpRAqFu3btna2lKGVk0TGMFyBkAoEIpxQzAePggFQlEwk1tCOTs7X7x4ked5gVCHDh0qUqQIZWjVNLEMCMQOQoFQjBuC8fBBKBCKgpncEqpr164DBw4khLp582Z8fHyzZs3wGXkQhuozAEKBUIwbgvHwQSgQ6j0Q6u7du9WrV69WrZqFhUX9+vULFixYpUqV2NhYytCqaVK9EhAgJQMgFAjFuCEYDx+EAqEomMntKhTP86mpqcuWLfP09Bw6dOj8+fMTExMp46qpiXJ+RZPqMwBCgVCMG4Lx8EEoEIrimVwRKiUlpXz58n/++SdlIBU3qV4JCJCSARAKhGLcEIyHD0KBUBTe5IpQPM+XKFEChKKcaNGk1gyAUCAU44ZgPHwQCoR6D4QKCgrq06dPamoqZSy1NqkVB4grNxkAoUAoxg3BePggFAhFsU1uV6G+/fbbfPnyFS9evGXLlh1FX5ShVdOUmxMt+qg1AyAUCMW4IRgPH4QCoSiYyS2h+mbzRRlaNU1qxQHiyk0GQCgQinFDMB6+KgnVf/76Q1duPX4Vn5SampiccuXR01nRx2p4zxC0NGLJll3nrz6Ne0PO41tOXxKaXLTh3WevMjy/X7wfK+6jmrJhpOKanAmVnp4eGhr6+eef161b18vLi5034glpys2JFn3UmgEQCoRi3BCMh69KQs3cfVQ4wQmF/X/eFNyz6/xVoZ7neRBKnA1xOWdCBQQEmJmZtWzZskOHDjY2Nv369RPvz0JZrThAXLnJAAgFQjFuCMbDVyWh3BZsGLRw46d+P1b1inRbsCEpJesu548nziSK8t+wJ2Dj3iG/bCKn+OwIJZBLxQU6cnImVMWKFefOnUtGiY6OtrKySk9Ppw+qstbcnGjRR60ZAKFAKMYNwXj4qiSURDzn7j4iZ23X8f9cy3PRhjcM/InUg1DZqSZnQllZWd29e1fY39ra+t69e8ImCwW14gBx5SYDIBQIxbghGA9f3YSq6hU5aOFGsgq14dQFCa1yJNTTuISUtLR7z18tPPhbrQlRkt3VsUlHTs6EMjMze/LkiTCKg4PDzZs3hU0WCrk50aKPWjMAQoFQjBuC8fDVSqh6frPFp++tZy5V8pguQU+OhBKP8OeD2CqeEZIRVLApjtGwnDOhNBpN27ZthecYWFhYiJ9rYDii+mrUigPElZsMgFAgFOOGYDx8RgjF8/zG3y5KxJMdoZqHLvDbsKdJ0PyqXpHfRCy5HvuMnPc9Vm6XjKCCTTppciZUNk8zyKqmj66O1tycaNFHrRkAoUAoxg3BePhqJRTBTbVxkd1nr3rw8jU5WbePWCJGT3aEEvdx0YaPWrqV7L7k8GlJkwo26YzJmVD0/VloVSsOEFduMgBCgVCMG4Lx8NVNKEKcBQdOkVP5yCVbxOjJjlDl3cPF3UYu2UJ2X3wIhGLBRP8xxtycaNFHrRkAoUAoxg3BePiqJNSq42d7zF71ic+sKl4RnaOWP3iRtQrVIXIpsVEN7xl1fGa1m76YnC13nr1Sx2dWHZ9ZBE9rTpybtv1Q0+D5VTwj2osu5I1aulVMK3WU6V7AKhQ9P/pWteIAceUmAyAUCMW4IRgPX5WEMnra233+moCetSfPG+3TMPAnF2245MGbpOfx63cruE8TRlBNwWgehEoQSkhFtoXcnGjRR60ZAKFAKMYNwXj4qiTUwoO/nbv76EVCYmpa+qs3b0/dvO+3YY/4HXl0QnWdtXLNiXM3Yp/Hv01OSkm9/PDptO2HVPl2PBdteLYyyGwAoej50beqFQeIKzcZAKFAKMYNwXj4qiSUapaIPkAgdCKAUPT8gFC63DhDxX1AKBCKcUMwHj4I9QGYIudD0IkAQtHzA0KBUDzjhmA8fJ7nGTcE4+GDUHL2zQeYG50IIBQ9PyAUCAVCRbCsKBAKhPoA52kcQrYZoBMBhKLnB4QCoUAoEErHOCNYDh+rULLFzYeZGJ0IIBQ9PyAUCAVCgVAgFLsZAKE+jFRkexQ6EUAoen5AKBAKhAKh2AUEy+tPJHYQSra4+TAToxMBhKLnB4QCoUAoEAqEYjcDINSHkYpsj0InAghFzw8IBUKBUCAUu4DAKhQIJVvcfJiJ0YkAQtHzA0KBUCAUCAVCsZsBEOrDSEW2R6ETAYSi5weEAqFAKBCKXUBgFQqEki1uPszE6EQAoej5AaFAKBAKhAKh2M0ACPVhpCLbo9CJAELR8wNCgVAgFAjFLiCwCgVCyRY3H2ZidCKAUPT8gFAgFAgFQoFQ7GYAhPowUpHtUehEAKHo+QGhQCgQCoRiFxBYhQKhZIubDzMxOhFAKHp+QCgQCoQCoUAodjMAQn0Yqcj2KHQigFD0/IBQIBQIBUKxCwisQoFQssXNh5kYnQggFD0/IBQIBUKBUCAUuxkAoT6MVGR7FDoRQCh6fkAoEAqEAqHYBQRWoUAo2eLmw0yMTgQQip4fEAqEAqFAKBCK3QyAUB9GKrI9Cp0IIBQ9PyAUCAVCgVDsAgKrUCCUbHHzYSZGJwIIRc8PCAVCgVAgFAjFbgZAqA8jFdkehU4EEIqeHxAKhAKhQCh2AYFVKBBKtrj5MBOjEwGEoucHhAKhQCgQCoRiNwMg1IeRimyPQicCCEXPDwgFQoFQIBS7gMAqFAglW9x8mInRiQBC0fMDQoFQIBQIBUKxmwEQ6sNIRbZHoRMBhKLnB4QCoUAoEIpdQGAVCoSSLW4+zMToRACh6PkBoUAoEAqEAqHYzQAI9WGkItuj0IkAQtHzA0KBUCAUCMUuILAKBULJFjcfZmJ0IoBQ9PyAUCAUCAVCgVDsZgCE+jBSke1R6EQAoej5YZFQc3ZPjS/sxHPcqp/dow7rCfV796bPyhVLtrVOtrN+XLX0Dv8+pJ6Ff3lenYTy7fPDIdcasU5OiVZWV0uUCO3erVHE9EaREa1Dghe2avlnmdJxNjbPHRyOVK/e19OjUWSWorpNnHikevVYJ6ckC4unjo77P/ro+/HeQqsqCzzPs7YSM+vwj3FJ8TzPLz+9ksSuOzTz1N1T8UnxqWmpj+IerTu3np2cgFCyxc2HmRidCCAUPT8sEuq3779KKJBPTKhzHT4/OKrjpmlDNk0fcqF9A57jdvr2ZsFPUYd1aiXUhbJl99Su7fdD79HDhi79qlmaRrOgVatGkRF9vDyf5cu3uEVz7eDB3gP6/1G+fKKVVW/vcYRHfT09tn722ZTvvx81fNjk3r2uFy/+xMmxfWCAKvFEgmKQUKfunkpIThAT6o8HZ5PTkvdfP7Dh/KYrT66kpqct+30FI4oCoT6MVGR7FDoRQCh6fpgj1NLlE5JtrfZ6dBUTSqKlBzVd7tSrIqlU66ZaCSVxz5b69eNtbBpPn9YyNKRFWKhAolahIa/s7NY3bCjUiAs9JoznOS6gV09xpcrKrBFq0aklyWnJe67uFQg17/jP6Rnp+67vF8z0JOHp9Wc3hE11F0Ao2eLmw0yMTgQQip4f5gh1p27l37s3XR81gkKoG1+43vu4olrNJIlLrYSSQGd65+94jmsVEiypbxQZcbFMmQO1ahrWN4qMaDclkOe44B7djbaqo5I1Qt1+cee3e7+vPbtOINTG85t4nl90arFApd/u/Z6anqo7NFOoUXEBhPowUpHtUehEAKHo+WGLUNsC+yUUyDdnV5gRQh2aMfNAxNwdIbsm9Uq1stgW2E9CDbVuMkKo3XXqxDo5GaKnbXBQopXV4hbNxU2Np09rOi28q8+k6Dq1Hzs7twkOEreqrMwUobb+uS0hOWH2kTliQm25uJXn+QUnFgpOOnHnpARVQpP6CiCUbHHzYSZGJwIIRc8PQ4T6cU94XBHnaO8eUYd1hoTaGDmM5zie49LMzfZ6dFUrmAzjYoFQw0eOSNNoor7tYKifLfXrv7Gy+s7PV9y065M65IfhXqGCuJ1cNWiYeXj267dxu65ER8boxIRa8ttSnud//XO7EOmdl3d5nl91ZrVQo+ICCPVhpCLbo9CJAELR88MQoU71bv64aumoQzOMEmrO7rBVP7tvmDHs9x7N0izM93h3N9SGKmtUT6jv/HyfODmeqlSp8fRpYic1iowI6d6d57igHj0k9V0nTRw0dsykvn3Ourg8dnbu7Osj6aCmTXZWoU7cOfko7jHBkJhQkTG6e6/uv3r7atWZ1XOO/nTwRkx6RjrP8ytBKG24bE/8mNj7ygCdCCAUPT+sEOqXdX5pluabwwfN3REyd0fIlrCBPMetjxoxZ/dUQxid7to4yd5m5sFIwyb11aibUG2Dg24UL3a9eHHDi3GegwammpktatmC4qEWYaFPnBzXN/yC0kfpTYwQ6ucTC1PT0zae3/TjkTk/Hpmz6cJmnufXnl036/CPkTG6BSd+eRT3mPytfP329dHbx3ie/1l0aQ+rUO/rhI1x5JYBOhFAKHp+WCEUuXJHrs6I/31Uvayhinb59OI57ufNgYZN6qtRMaGah4WSZaRO/75O1ygyYsjoUYlWVls/+yxHAJ2qVOl41So5dlNuB0YIRZadDP8aPnz9SODRghMLF/+2dEZMVMyNQ/FJ8UK9ugtKuZBXyn2cw4RPLX2Kcn4azp/j/Lmy2mCBIxa++Uml+N8SHmOEDpKCw4RPxD1JuYD3N+Jupd0n5ZvQwNzXmfMzN/O1s57kUtRzAOlQ3HOk9aQyGj8rS5/ChcZ1E/Yqpw2z9ClmPamsUCP/guEvhbgGhBJnw3hZfSwwjGjujpD1USOE74OjOvIct9ej68oFHoadz3X4XL8KdSDCsEl9NWolVNNp4UeqV39lZ9d7nJfEN73Heb2ysztSvXrTaeGSJslm65DgFw4OG7/4XFKvpk1GCPVj5i3ka8+uI98Hrh/keX7P1b2Gz3+KOjzr+Zvnx+4cV7echOiUQqgiXn0k6Pm/Eqqkh6e5r4PkiE7jv3LRhpfVBpj52pv7OhX3HGY7qTLnpynuOYxQqeC4jpyfpoTHKPnLSZihcRb8XcsEodLS0mbMmLF27drU1NS/A/8P/1UfC3KMSHw7+fJFXrc/qxbt3WODbvjWULfz7RtkaDSHh7TPcRB1dFArobbUr89z3KwO3wwZPUr4/ip86jcBk2OdnWOdnEYPGyrUC8xa2Krl6kaNfPr0GTl8WFCPHpdLlYq3sVH3HeWMEEoQAylI7oXad23/jsu71p5dt+vy7icJT5/EP5l5eLZkF7VuKoVQJTxGOY1vVtSrn7VPaSIbQ0IVGtdVkAG9QFahHCZ8kl03chSNn0WhcZ3LaCeX0U4u5jmwqKebiza8qNcAzp9zHN/QRRtOYOc0vqmLNryMdrKZrx1lzOyOZdp6uhVUTqiMjIwtW7Z89NFHGo2mfv36Dx8+pKfDaKs6KPCfohATav6WwCtf1XldrECqlcWb/A73P66wNcTtP42m6M5qJdTD/PnFV2xJuavPpFHDs956KW49XaECWVjyHtD/dIUKL+3tkyws7hcsuP3Tet0mTlTTmpNhLCBUZIzu4I2Yl4mvUtPT4pPizzz448ejc9UKJsO4lEIowRk2k8r/vwlV3HM4OYTz+ObCcYXC32xqksmp/pmc+tJFG+44/guNn3Vpdx+hpyIKRlUgVKqcUElJSUFBQR4eHrt37zY3N1+7dq0Qee4LihYAJp/HDKiVUIZWQI3RDLBJKENJMFujJkKZ+drp71vys7WdWLW453CKYMgqlMbPRuNnqfGztPIpXWhcd6F/fu82hFD5JtS39Cmq8bOw8C1QwLtdOe1UF214aXcfjZ+lpU+xMtoAhwmfcv5cEa8+JT08OD+z/N6thUGUUqBTQeWE4nn+woUL9+7d43m+ZcuWzZs3f/bsGT0jhq15PAdjd0VnAIQyCgt2KkEoZvFEAlcToYh7sv71My/mOTQ7xxi9nTy/dxvSP9+EBv8aKvPudc6fIxfsXLThhb16mvnZ6vv4mTmNb+yiDbedVNnCNz+5tlhOG1ZOG5bdoeVWb0gCcY36CSVEe+LECY1Gs337dqEmlwVFCwCTz2MGQCh2tGQ0UhAKhJLbSZ0+H6MX8vJ7tynuObysNrCMu2++CfUJgGwmlc9uqMLjuhf16lfG3besNrDQuM7kXX4aP8uy2iAXbXi+CZ+RESx885dyH1/KfZy5r1MmmMzLagPImOW0YaXcxxMzFfHqm7kW1buMu5/dxOqcn7nGz9JhwidktOzmIJN6upGVVyUAACAASURBVBNYIVRGRgbP8/Xq1evUqdPLly/pSZG05vEcjN0VnQEQyigs2KkEoUAomZzLczkNo4QS71tOG6rxs+T8OY2fpbieUta/sS5zqYm8mc5pfFOy6Thef5NTJqqy1qWKe46QjFNOG2LhU4hwzX7iR5w/l9+7teP4huJVK8kustqUeECyyQqh0tLSeJ7fsWOHhYVFTEwMyQJxlSQjhpuKFgAmn8cMgFDsaMlopCAUCCWrM3qOkzEklOSqWTltmMbPKpNQVkZHK6edSu5qElolhCrs1Ss7QpXwGCvsRQr5vdtmPshA/wwqM187Mz/bzHfnBXD+nJVPSUlnGW4akkBcwwqhhJgrV648aNCgixcvRkZGrlun/zTyHL/yeA427e5bQ90eVSubbGudUNDxatOPF632ocxnwcbJf7aul+hsn2pl+bxs0Z2+vUnnVfO1F9t+9rJkoRRry5elCp3q1fzH6H+eWr76p7FPKxRPsre51PITcf26mSPjCzsZfb45ZQ5ya1IooVqFhsQ6OfEcN3DsWIkMJvTvx3PcjWLFJPWSTS83t/PlyiVaWcXZ2p6uWEH8MXkh3bvfLlIk2dz8XqGCMzp2FO8Y2q1rrLPzs3z55rVtK65f0KrVIdca4hqllBVNqE0XNsfGx6amp8UlxR27fXxGTFR2Hpp5ePbJu6deJb5KSUt58ebF4VtHhM4rTq+88OjCy8SX+qbElyfvnhI/0WDlmVVPEp4mpSb9GXtJXL/m7Lq4pHjycPPsDqqIeqXcC1VOG1rG3b+Mu7/1pLLEN6XdJ5Vx9y+rDSri1cd+Yq1inkPKaoPEF/JsJ1UmZCk0rivZpZjnEOIbK5/SRbx6ldFO/veFPBtyYa6sdoqZnw3nz0ku5Jn52pfThooZVMbdV+Nn7TDhU1Jp5mtv5muf+eyooExClRZ3lmeZLgSGCEUWoqZOnarRaMzNzStUqCAsR9FzJLeTeu7nsz5qRLqZ5mLbTzdGDtsxuc+L0kVeliw0e2+40RF+3hQQV8T5Tt3Kvwb13zBj2IHRnchHDkcd1v3evemDWuX3enZbHzVi/9jOiY52d+tUIoPMOhDxuliB092abAkbGFfE+eQPLUn9zIORTyuUEBBm9IiKqFQooZY3a/osXz5DQjUPC31YoMCzfPnohArs+X2yufnS5l+NHjbUe0D/FU2b9JgwnqDH74cfeI5b0+hL7ZDBi1q2SDUzi+yUpaje3uOSLC1Cu3UN69Y11cxs7JAhZJfOvj6v7WwV+vgD5RJq5ZnV6Rnpf8Ze2nBu44EbMSlpKb/d+z07tVx4dCEpNWnvtf1rz64/fOtIekb6iTsnSeff7v1+/9X96Kt71p5dt/fa/sSUxLsv75Im3aGZr9++/v3e6U0XNsclxR2/c4LUz4iJehL/ZPulndkdTkH1SiFUMc8hhEGSf53HtzB86iZZghKeTm5IKMkgZLPguO8E5RQa103ax08jftce6ekwoZ7Gz6aMu9/fm3U5f67QuG75vVtz/pyzd0thQNkW6DxgiFAvXrzo3r27ubl58+bNo6Oj6XkRtyriTG90kuc6fP6qeEHyycHChwevmz3KaOdLreo+qOli9JPv5m0NEu+y07c3z3Erf9Y/uHzZEu9kO2uy1+Eh7R9XK0N67h/b+UFNF/FeCi0rkVC9vMe9sbIK79LZkFCLWrY4U6H89nr1KIRqNyUw3sZmeufvjC4U3S5S5ECtmkLT+oYNX9rbk+eYR3zX6Wi1aqTpeNWqK5o2JeX9H320pHlzYRdlFZRLqFvPbz+OixWwcvBGTFp62k/H5gk14kJKWsqx28eFmouP/3yZ+Ipszv33Ltsv7eB5fvnpFZExusW/LU1KTSbrVYduHn4Ul/VpMHuv7b//6oEwmqILKiBUGXdf5/EtrCeVMfO15/zMzH0d7SfWLunhKahFQqhy2tCC4761nVRZf5N45kMQbCZVIo/NFHbJfOZTP+tJZTOfemCl/3QXr6xPdxH6lPAYzflp8nu3E2rKaCc7TKhj5mtn7uvgOP6LctoQoUm2BTEGDMtsEcrLyyuXK0/iTCn03B91WHeh3WdPK5QQ5r9ygQfPcetmjRRqhMKcXWFplua5XDRaumw8z3FbQgdGHdatXOCR6GRPxjkw5jtyuHnbghOd7Vcs9BTGV25BiYQ6VbnyyiZNyEMyxRfyuk+ckGhl1c/DnU6oaZ07v7GyahY+1dA6LcJC0zWa8C6dhaZxbgN4jhsxYnijyIhZHb7ZX6sWaTpQq+baL79sFBkxetjQWGfnlqEhwi7KKiiXUAnJb07ePSXwZclvS3me33l5l1AjFGbERKWmpx24flCoOX3/zKu/CSVUksKiU0t4nt90YUtkjG7Z7ysSUxJJ/b7r+5/EP4mM0c05+tOblETDT4aRjKOUTaUQSrYEUfrExBgwLDNEKMPgc1mj3NP/utmj0szN9ms7z90Zumi1z+1Pq8ZWLmV0nYk8jnz75L73P66QZm6WUCDfb99/NSubT8Hb69WN57jFKydGHdb9GD01yd5ml0+vnzcHPq5a+sLX9aMO6859+8X5bz5Xbt7EM1ccoXz69HmWL99fn15nSKgj1atv+lz/eXZ0Qm2vV+9SqVJTu3Z5lD9/qpnZ1RIlPAcNJO5pGzSF57jgHt0FBmmHDOY5jqBqxIgRcTY2fT09+nm4x9vYBPb8vsn0aTeKF5vcu5fQX3EF5RIqKTVJvLD0y8lFPM+LUSVGzLmH514mvlpxeuWswz+uO7fhbcrbAzdixB2EcvTVPTzP/3JyUWSMbubh2UmpSTsu7fzp2PxHcY/PP7oQGaM7+/DsuYfnhP5KL4BQSjdQHudPdwIIRc+PvlV8QlVceUvYwGQ7a/JhHU8qlZy/JdBoCDv8+/Acl2xnfbpbk/VRIw4PaZ9maX6qV3PDzvN+DYov5HTjy5pC0+6JPdMszXmOe1626IINk1f84pXobD/v139d+xM6K66gLEK1CAt97Owc2r1bo8gICaG8Bwx4bWfbPjAgR0Idr1rljbX1s3z5gr7voR0yOMbVNdXM7AevrE8jfmlvL/5c4Z/btOY57qd2WTePb2rQgPywxbi6Npk+bUbHjn+UL684NoknrFxCPY57fPP5LUEwOy7v4nk+O9zMiIk69/C88NdQuBFK2J0U5hz9KT4p/vrT60L9zsu7UtP173d+/ub5/OMLlv6+/E1K4pyjPwkdlF4AofJIEKXvLvxSGC2AUEbT8q9KxZ31hQmvmTPmrYMtUdG2wH5PK5R4XKW00dvJye1N1xvVEvY9+UPLVCsLSedZByLuflI5vpDTz5sChJ5Rh3VzdoctXjmRrG/d/6jCgTHfRR3WHR3YLq6Ic3xhJ0V/JrGyCLW0+VeXSpduFDFdQqjmU8PuF/zn3XP0VaiTlSvzHOc9oD+RRNNp4Q8LFNhZty7ZXNSyRZKlRUCvnm2DpoxzG/DS3p7nuLnt2gns+Hay/3e+Po0iI9oHBry0t+/v4d4qJHhn3bov7e1vFi3qPniQ0FMRBeUSatcV/R2f+68f+PHo3NV/rHn9Ni49I/1sNutDp+79Fp8Uv/tK9Jo/1sbcPJSSlhJz45BEP7pDM++8uBOfFP/TsfnipllHfvzl5CJyR9S9V/f3Xd8fGaM7fOtIXFJcXFL8oZuHxZ0VVwahlG6gPM7/Xxow2AChDFJiUCG2grLKj6uUvtb4HxUt2DA5Q6PZ69nNMIrN4frLMQfG6ulDvsmlveWLxwk1UYdmXGpVN9nOesUvXv9U/t2f1Ozw++Fp+eIzD0ZuDh/01sF26fIJS5dPSLK32TR9SHa7yLxeQYTq4jMp2dzcc6Bb2+CgtsFB5C6lUcOHtQoNmduu3b1ChdoHBpCm6Dq1bxUt2jY4yOgNT3s//pjnuFaiu5d21K17uVQpIp7mYaG769RJ12h4jntjZRXxXSee44J69DD00OYG9cl1wxVNm14oW7Zt0BT/3r0TrK3JSphhf3nWKJdQkTG63++fTstcIkpNTzt868ib5DdHbx8zRAy5TYrc3kRaD986kpqeOuvIj+LOfz6+lJSavPT35eJKcXn7pR1PE57OiInaeH7T25S3i04tWXRqSVJq0oZzG8XdlFUGofJIEKXvbiCCf1WAUP9Kh9ENmZ/jKdNLsbY85tZW3OGNs8Nv338lriHlX9b5GSXUqvlaofPpbk3SLM03zBgm1EgKP0ZPjSvivD5qRNRh3eluTa41+Yh0uNbko9+7N5V0VsqmgghFrtyR62jify+ULbO9Xj1xjVCe1vmfG8MFwSxo3cqQUDeLFhU6kBWmvp4eLUNDBo0dw3Ncz/He4tZGkRED3LUv7e2/nhLYKDLiSsmSwoMPXtrbj3MbIOks501FEyoyRjf7yJylvy378cicucfm8TxvVDO//qn/2Kv5xxcIuNl4fhPP84tOLRFqfrv3e2p62rpz64UaSWHm4dlxSXFrz+o7/H7v9NWn10iHq0+vUR6mIBlEhpsglNINlMf5G1WBUAlCCanItqCUk73hPJ+XLXpddNPSL+v8MjSafe5dDHtGHdY9rVBcfIfTqd7NU6wthUdlHhn8dYZGs8PvB6P7ksqTvVtcbfIxKZ/u1uRW/WqkfPuzaqe7NaHsKOcmBRGqbXDQqOHDhO+obzuQG70HaLW9vMcJ9aOGDztetcrDAgVGDR/W0d/PkC8DtFqe4yb070eamoVPfZg/v3AhT9J/R926Ru92OuviEvFdJ9L5SsmSc77+ulFkRJPp095YW3sPAKF0H94Kx+4cf5X4SnhgpngCK8+s4nl+84WtQuWRW0czMjKER2Ueunk4IyNj+6UdQgfDwok7J688uUrqf793WrgN69bzWyBUHs/i2N2EGchWBpkNIBQ9P/pWOZ/g6XM7OKojz3FnOjcij9Z8Wr54QoF887YFk73uflLpZclCwghbQgdmaDRnujTeGDn06KB2aRbmwnMyyZ1Sl1rVXT13rPAteVjUotU+b/PZLVznRwbcEjYwzcI82rvHHu/uaeZmm8MHCQdSVkFBhJLgRnI7ubhVci9UF59JqWZmC1q3Evrsr1XrhYNDaPdunoMGHqlePcnSoq+nB2n1HDRwRseOo4cN9enTJ6ama5yNjXCnubB7QK+e10oUbzJ9GqlZ2aTJw/z5x7kNWN248Rsrq28CJgs95V9Q7irUitOrYm4cWn9uw+YLW84/upCankaWiIhyzj+6kJ6RTsozYqIexT1OSE7IfH7m+sM3j6SkpZC310XG6MiDoP58fGnlmdXCt+RhUQtO/vI25e3PJ7LWsTZd2JyWnrbrSvTuK9Fp6Wkbz28yJJdSarAKZUK+yOHQdCKAUPT8KJtQUYdm7PPo8rRCiWRbq4SCjtcb1Vq6fIIgmHsfV3xdrICwGXVYt2Nyn2cuxdIszV8XK3Bk8NfCMzn/bPOpcOlHKOye8L143xsNXY/3by2uOd6/dUKBfAkF8kkuJor7yL/MAqG6+kziOW5hq5YCaFqGhqz7suELB4ckC4tz5coNGzlSaNIOGXy1RAn9B7/Y2MS4uvb2Hic0kULLzM+WGTl8mFDfOiQ4uk7teBube4UKKWsJqlFkhHIJtez35Q9fP0pOTU5OTb7z4s6qM6vFarn4+KI4tJ+OzT/38Pzrt69T0lKev3lx7PbxqMOzSH/SU/KHctfl3eLRrj+7IbnL6ujtYwnJCQnJCUduHRX3VFwZhJKDY0w4B8lPvmQThJIkxMim/E/zmOH/LwPKJZQgGBTykgGxMxR3+seE854BEMqEfJHDoY2YQFQFQomSkU3x/3d6xsjyzwAIlRd/qGBfECrvClH0CCCUHBxjwjlk44KsahCKnh99q/xP85jh/y8DIJQKGJSXEEAoRQMo75MHoUzIFzkcmk4EEIqeHxAq6zFR/z+jyHxkECov/lDBviBU3hWi6BFAKDk4xoRzoBMBhKLnB4QCoXgVOAAhvHMGQChFAyjvkwehTMgXORyaTgQQip4fEAqEAqEi3tkfKtgRhMq7QhQ9AgglB8eYcA50IoBQ9PyAUCAUCAVCmeBJmIpmh5omD0KZkC9yODSdCCAUPT8gFAgFQoFQIBS7GQCh5OAYE86BTgQQip4fEAqEAqFAKHYBoab1pHeLBYQyIV/kcGg6EUAoen5AKBAKhAKhQCh2MwBCycExJpwDnQggFD0/IBQIBUKBUOwC4t1WbtS0FwhlQr7I4dB0IoBQ9PyAUCAUCAVCgVDsZgCEkoNjTDgHOhFAKHp+QCgQCoQCodgFhJrWk94tFhDKhHyRw6HpRACh6PkBoUAoEAqEAqHYzQAIJQfHmHAOdCKAUPT8gFAgFAgFQrELiHdbuVHTXiCUCfkih0PTiQBC0fMDQoFQIBQIBUKxmwEQSg6OMeEc6EQAoej5AaFAKBAKhGIXEGpaT3q3WEAoE/JFDoemEwGEoucHhAKhQCgQCoRiNwMglBwcY8I50IkAQtHzA0KBUCAUCMUuIN5t5UZNe4FQJuSLHA5NJwIIRc8PCAVCgVAgFAjFbgZAKDk4xoRzoBMBhKLnB4QCoUAoEIpdQKhpPendYgGhTMgXORyaTgQQip4fEAqEAqFAKBCK3QyAUHJwjAnnQCcCCEXPDwgFQoFQIBS7gHi3lRs17QVCmZAvcjg0nQggFD0/IBQIBUKBUCAUuxkAoeTgGBPOgU4EEIqeHxAKhAKhQCh2AaGm9aR3iwWEMiFf5HBoOhFAKHp+QCgQCoQCoUAodjMAQsnBMSacA50IIBQ9PyAUCAVCgVDsAuLdVm7UtBcIZUK+yOHQdCKAUPT8gFAgFAgFQoFQ7GYAhJKDY0w4BzoRQCh6fkAoEAqEAqHYBYSa1pPeLRYQyoR8kcOh6UQAoej5AaFAKBAKhAKh2M0ACCUHx5hwDnQigFD0/IBQIBQIBUKxC4h3W7lR014KItTY1t1PlSj71NY+0cLylnOhJR81aDBwogQfsz5txnMc+a4yKljSarjZ+7uBQv8+HQcYdthUtTbp8MTOQWj9tsfI34uXSbC0upG/sHurbkJ9hTFhlwoVO1WirFAj/wKdCCAUPT8gFAgFQoFQIBS7GVAKocK/aC1YRyjcz+dcY8QUgSnN+nklmZsLrTkSqvLokBv5Cwv9DQnVvcsQoVUgVK3hAU9t7R86OHXpNuxA2crpnKZzt2FkDj7NOqZzmg7fjxKmJP8CnQggFD0/IBQIBUKBUOwCQk3rSe8Wi1IIdT3TOumcpvd3A2sOD9znUpXgZkj7HwSmxJStxHNcgqUVacqRUIRlQn8JoSqNDr1SsGiaRvPW3ILnOIFQfTsO4DluYe2GLtrwQd/04TluTr2mLtrwj4ZNfm5jt7b6J8J8FFGgEwGEoucHhAKhQCgQCoRiNwNKIdSVgkXFjpn0VUfipDFtehCpDG/Xi+e4/eWqHCtVPjeEajhgfKKF5RM7hwV1viT9JYQK+bItz3HLatW/55hffOiBmWyaW7eJiza837f9eY77uc6XLtrwXz7+It7S+tNBPoqQkzBJOhFAKHp+QCgQCoQCodgFxLut3KhpL6UQyq9pB57jhFWo/eX0q1BJ5hbkdqgaI6Y8dHBKMrdo0m9cLgm1u0J1nuPGtO4+o34LQ0I1GDgxwdLqqa39R8MmSwj16SCfRAvLS4WK1RoWsMr1U57jBn7Tp0UfjxQzs/AvWgs0UUqBTgQQip4fEAqEAqFAKBCK3QwohVAu2vDJTb5J02gId3iOu+VcqHcnNyKVnz5pzHOcrn5zF214bgjVP3P16Fip8i7acKOE2lapFs9xni27umjDJYRy0YaPbNvzlbUtz3GpGrOfPmnsog0/WLbyXcf85NJhhTFh5ceGgVA540MdPaIOs84IljPA8yAUCMUuINS0nvRusSiFUKPbfJ9iZib46a8FpFfWtvpVn7FTW/7gnmJmdtupABFMjoSqMir4tlOBFDOzlj+4GyVU705uPMfp31g3dqpRQrlowyuMCftywPiqI/Vv+nPr0PevK33Dvu5dd4hfdPnqSebmbyws11X/pPrIIPlDis4YrELR86NvZRkQiB2EahQJQoFQ7GZAEYQqPzbshY0dz3HPbeza9hpTfWTQ3Lr6ZSf9lbg2PTZmPndgasM2bXuNadtrzLmipUhThx4j6w+cZIiYcS068xy3o6Ir6b+8Vn3S36dZx2Z9PV204adKlOM5zr1VN9Lhsb2jcOhPhvhJBqw8OuSWc6HjJfULWlsrf8RzXPgXrRfWbijcZi7pL7dNOhFAKHp+QCjWV+BAKBDq3VYvsJc6MqAIQtUb7EOUE12+OiFIiz4epGZ1jXq7KtQgZcN/yfvmJGoJaPKNYU9Sc7FwcRdt+MXCxbPrENDkG8loIV+2TdNo2vYa46INf2Fj99La1kUbXmtYAM9x54qUlHSW4SadCCAUPT8gFAiFC3lYhWJ3DUYdDMpLFIogVJVRIeTJAsIqFLn5iee4+Z80ypFQwuOdPFrp7216j4SqN9g3zsp6peunxEbPbO2f2dq7aMOrjwziOe6PoqVlaCbJlOhEAKHo+QGhQCgQCoQCodjNgCII5aINn/dJI8OVoUQLS3I/k5gFhvdCSQgl7mz0XihJB8PbyYUOa2rUi7Oyqfv31b21NeryHKdt3Y08cSqiQUuhp2wLdCKAUPT8gFAgFAgFQrELiLys36hjX6UQqvzYMN+m354tWirB0ipVY/bEzmFHRdeve442pMkHI1T7nqPTOU3wl+2EOXw0bPL6anVe2Ng9sXP45eMvqowKEZpkW6ATAYSi5weEAqFAKBAKhGI3A0ohlGwJovSJ0YkAQtHzA0KBUCAUCMUuINSxkpSXKEAopRsoj/OnEwGEoucHhAKhQCgQCoRiNwMgVB4JovTd6UQAoej5AaFAKBAKhGIXEHlZv1HHviCU0g2Ux/nTiQBC0fMDQoFQIBQIBUKxmwEQKo8EUfrudCKAUPT8gFAgFAgFQrELCHWsJOUlChBK6QbK4/zpRACh6PkBoUAoEAqEAqHYzQAIlUeCKH13OhFAKHp+QCgQCoQCodgFRF7Wb9SxLwildAPlcf50IoBQ9PyAUCAUCAVCgVDsZgCEyiNBlL47nQggFD0/IBQIBUKBUOwCQh0rSXmJAoRSuoHyOH86EUAoen5AKBAKhAKhQCh2MwBC5ZEgSt+dTgQQip4fEAqEAqFAKHYBkZf1G3XsC0Ip3UB5nD+dCCAUPT8gFAgFQoFQIBS7GQCh8kgQpe9OJwIIRc8PCAVCgVAgFLuAUMdKUl6iAKGUbqA8zp9OBBCKnh8QCoQCoUAoEIrdDIBQeSSI0nenEwGEoucHhAKhQCgQil1A5GX9Rh37glBKN1Ae508nAghFzw8IBUKBUCAUCMVuBkCoPBJE6bvTiQBC0fMDQoFQIBQIxS4g1LGSlJcoQCilGyiP86cTAYSi5weEAqFAKBAKhGI3AyBUHgmi9N3pRACh6PkBoUAoEAqEYhcQeVm/Uce+IJTSDZTH+dOJAELR8wNCgVAgFAgFQrGbARAqjwRR+u50IoBQ9PyAUCAUCAVCsQsIdawk5SUKEErpBsrj/OlEAKHo+QGhQCgQCoQCodjNAAiVR4IofXc6EUAoen5AKBAKhAKh2AVEXtZv1LEvCKV0A+Vx/nQigFD0/IBQIBQIBUKBUOxmAITKI0GUvjudCCAUPT8gFAgFQoFQ7AJCHStJeYkChFK6gfI4fzoRQCh6fkAoEAqEAqFAKHYzAELlkSBK351OBBCKnh8QCoQCoUAodgGRl/UbdewLQindQHmcP50IIBQ9PyAUCAVCgVAgFLsZAKHySBCl704nAghFzw9akQFkABlABpABZAAZMJIBEMpIUiRV/tE6fDObAZ7nS7mF4pvZDPA8H7BHh29mM8DzvGttLb6ZzYDEA5JNEEqSECObzOoBgftH60AoZvFEAgehmMUTCRyEYhZPJHAjJhBVgVCiZGRThCRYzgAIBUIxbgjGwwehQKhsaKCvBqEoyclqYhkQiB2EAqEYNwTj4YNQIBRFCSAUJTkgFG4Cw4U81u8Dw4U8EIpxQzAePp0IIBQ9P/pWrMSwnAGsQmEVinFDMB4+VqFAKIoSQChKcrKaWAYEYgehQCjGDcF4+CAUCEVRAghFSQ4IhQt5uJCHC3l4qAHTz3QAoUAoihJAKEpyQCgQCoQCoUAoEArPhWI3A3QigFD0/OhbcTGL5QzgQh4u5DF+JYvx8LEKhVUoihJAKEpysppYBgRiB6FAKMYNwXj4IBQIRVECCEVJDgiFC3m4kIcLebiQhwt57F7GYtxPrrW1dCKAUPT86FuxEsNyBrAKhVUoxpdhGA8fq1CMK4pOBBCKnh8QivWFKBAKhGLcEIyHD0KBUBQlgFCU5GQ1sbwGg9hBKBCKcUMwHj4IBUJRlABCUZIDQrG+BOUfjXuhcC8U7oXCvVC4F4rdDNCJAELR86NvxUoMyxnAKhRWoRhfhmE8fKxCYRWKogQQipKcrCaWAYHYQSgQinFDMB4+CAVCUZQAQlGSA0LhQh4u5OFCHi7k4UIeu5exGPcTHmqQs5By7IGVGJYzgFUorEIxvgzDePhYhWJcUXQhYBWKnh99K8uAQOwgFAjFuCEYDx+EAqEoSgChKMnJagIjWM4ACAVCMW4IxsMHoUAoihJAKEpyQCjcC4V7oXAvFO6Fwr1QuBeK3QzQiQBC0fOjb2V5DQaxYxUKq1CML8MwHj5WobAKRVECCEVJTlYTGMFyBkAoEIpxQzAePggFQlGUAEJRksMKobJLwcYLuyV4irl5UugcuHeWpFWVm6ok1A+6NQcv3nr8Mi4pJTUxKeXyg6dRvx6pPHy6oKWjl+8IL7RQGDBrvdChlFvolxN/Wnf0/OOXccmpaU9eJxy4cLPdlEXiDuoo8zwrF/KWnd54/dntxJS3qWmpr97GXXh8ZeqBuYKfdlw+EBv/LDUtNTHl7aXYaz8eXSI0qbug1q27UgAAIABJREFUbkJ90yksJSWV/I5PnrKWaOnjep6z5+68fedJcnLqs2dxmzafbNbSXwypr78N2bnrzIsXCUlJKdeuPwqbtqlmHXdxBzWVhT+ARgsglNG0/KtSlTIQB/WvaEUbq89uE3eLOrI4NT1NaAehlEsE3a9HhNdRKOw7d0OIKEdCdQxdGv82SdiXFDwWbRdGUE2BEULtvHJQ8mryPD/zyCLCo9/vn5e0Jqa8ZURR6ibUiZPXhFdWINShI5eESlJ4+PBF4698CYzadwp9HZco6bBm3VE1sUkciyRSySYIJUmIkU0xI1goP0l4zvN8YsrbKXtni+O9/ky/MpGcmkxyBEIpVwn9Zq4bMGt9HfeZFYdO6zdz3du//zfUddQMEhQh1PTNh4zGWH5I+P1nr3mefx73ZuCPG6qOiPhobFT/meu+DlpstL+iK1kg1Nzjy9LT03mefxT3ZMHJ1cH7ZukOL9z6555pB+cF7NH9dHw5+ZW/8fzO1ANz551YkZT5R+D6s9vqXn8i0amYUOMmLON5/s2brP8XIoQaOWYBebk3bz31WcPxA4fOTUvT/2wISNqz9xzP8+np6cNH//zpF+PXrj9G+vfsoxPLQzVlEl12/4JQ2WXmn3oxI1RfXvTbehL5sTunxcGuObud5/mrT2/denGPdAChFC0D8eTP3n5EXtMqwyNIPZ1Qw+dtJv3df9kmHkeVZRYI9dt9/UkxIyNDWHYS20hYoFp3bjupvxR7nfQnxhJ3Vl9ZrYT6rOH4J09eJyYmz567k/w6E0ItWZ61Htmj9wzCoD8v3ed5Pj7+LblaR5agbtx8TFo7dQ0nu69cfVg1bBIHQqLL7l8QKrvM/FMvloTqyxceXyV/HKOOLBaCDdr34+u38alpqbrDi0AoNUGh4tBpA2atJ6tQ646eF0IjhHqZkJiUkhr/NunY5Tu9Z6wRWpceOEN+PebtPnkr9sXblNTLD56OWfCr0EFNBRYI9Szhhf4cmZTw2/1zcUkJKWkpt17cW3ByNfHQnmuHycstIRTP88tOb1SfmSQRqZVQSzOpFDVr+0TfleT1JYRavTbrKr+EUDzPt+sQ7Fpbm5SUwvO8IaHO/HFLLA/VlP+hgLESCGUsK/+uEySh+sK0g/PTMu92uv7sjjjYI7d+43n+wI3j/tE6EEodPqitnSn+Md9y8s9yg6cKoRm9F2rEvM2kw95z+kUIwy/vpTuFEVRTYIFQKWn6k6LkKyUt9afjywP26Jaf2USaJBfyeJ5ff36HBBzq21QloTp1DU9NTbt1+0ntTz0lhAoIWkte7s1bT336xT8X8nieJ5fqzp67TS7kDRs1X3wh7+atWNWwSRyI5PdCsglCSRJiZFOMCXWX910/SuJf9cevQqSzjy5NS097/uYVuXIHQqkDBxJC6U+Hxy4IoU1ctqvbtJWuo2bUGBUZvimG/FTcffqKdDh44Sap+ePWw4/GRrUO+OVNkv4OudhX8cIIqimwQCjyP05/LTOcunc2dP+PW//cQ17fC4+vEBLdffmQ1Ej+XXtum/rMJIlIlYQ6fUb/Kzxw6FzX2loJoep97n3n7lPJC002u34f4VpbO3TEPHLnnKTP1WsPxfJQTVkSpmQThJIkxMimgAl1FyZHR716G8fz/Ou38ZP3RAnBnn2of3fGnmtH5hxbPufY8gevH5MczTuxanrMz0I3tRZU+VADwTcVh03rPHX5g+f6e8N5nm8T8IvQJC5cf/SMdKg1RlfKLXTTiYtk02dFNOkmrEvV1s4U76iCMguEiktKIC/o3OPLCCCSM9elniY8J5th++ecunc2PvMa3/1Xj849ynrH1s8nV0nAob5N9RHKbfAcnuf/OHvru27Tvus2bdaPO8ir/9P83R27THWtrW3awv/Xbb+/evUmIeHt8ZNXD8Rk/b4Lb8obOmLe2XO3k5JSHse+Wrn68IsX+p+fQ4f/VA2bxIGQ5GT3LwiVXWb+qVcrDiRxrfxjK4l53/Vj4iZy6+g/6RCVJLeci/dSTVndhCLEmb8763Ffw37SX6orPVD6oS7XHmYRqmYmoaas3Ud+CgwJVW1k1g3pKsATCYEFQl19eou8oBJCPYp7YpREFzPvmHybkhS0d5bRDmqqVB+hRo1dKPor/q/i67hEsR5ImVy5E25+knT4plMYGSJixlZJkzo2/5Uggw0QyiAlBhWq0QA9kGvP9Fe409LTph2cL+4JQqlGA0IgK2L+6BK+otYYXYUh4d+GLCVPKOB5/usp+qcStJy88ODFW71nrKkyPEJ8Ie/6o2dkhAbec1JS9U8Ik1zIO3/nsXAI1RRYINTGC1nvyTp172zI/h+3/H0h79id0wRDG87v/On48uB9syNi5h+8cZz8jTx066SaqJRdLAwSyi9gdfuOoXU+82rZNnDNuqy7O/wD1xAStfkmyH3cksZf+dZtMO6H/jOvXde/n/d1XGKjZlkPjlKHnIQoDETwrwoQ6l/pMLoh9oRay7rDizIyMniev/D4Kj1G3AulAhwY/TnfdeYqCa3lZCP/k5qSmtZL9KY84QYpYajk1LSu01aoIDmSEFggVMAe3Y3Mp74Jrya5oD89Zj6BhfBbL3S4/eJ+0D71L0EF7NF/0LhwNlVlQXIvlGtt7f0H+kcDir927jojxN7Xbba4ief5lJTUUWMXCh1UVpAEK9kEoSQJMbJJJ4U6Wsl77nie/+W3dfSIhD+meC6U5FyroM350afO3n70Ij4xNS39ZcLbk9fuTVqxW3hHXpXhEVPW7jt2+c7jl/EpqWnP4t7sPH2FLFCJY9Qu3Hb+zuO3Kamv3yTtO3ejffAScatqyowQKnjfrJibJ14kvkpLT4tPSjjz4GLkoZ+FhZnoq4di458mpSanpKXGxj/be+0II35ik1C/LN5/81bsm8SkN4lJFy7eDQhaK/78ltbtg2IO/fnkyeu/5PTiRUL03rPkNnOVyUkIx4gJRFUglCgZ2RTppECrujPAwr1QquHO/yMQRgglaAkFSQZUvwolWAEFoxnIxgVZ1SAUPT/6VnUTAdHRMwBC/T9coqAxQSgJKVjbBKGMwoKdSjoRQCh6fkAoHV0Yqm8FoRTEnf/HVEEo1swkiReEYkdLRiOlEwGEoucHhAKh+P/HiRljKiUDIJSEFKxtglBGYcFOJZ0IIBQ9PyAUCAVCSR8TpRT9vJd5glCsmUkSLwjFjpaMRkonAghFzw8IBUKBUCCUTnJaxSY7GQChjMKCnUo6EUAoen5AKBAKhAKhQCh2MwBCsaMlo5HSiQBC0fMDQoFQIBQIxS4g2Fltyi5SEMooLNippBMBhKLnB4QCoUAoEAqEYjcDIBQ7WjIaKZ0IIBQ9PyAUCAVCgVDsAiK7tRl26kEoo7Bgp5JOBBCKnh8QCoQCoUAoEIrdDIBQ7GjJaKR0IoBQ9PyAUCAUCAVCsQsIdlabsosUhDIKC3Yq6UQAoej5AaFAKBAKhAKh2M0ACMWOloxGSicCCEXPDwgFQoFQIBS7gMhubYadehDKKCzYqaQTAYSi5weEAqFAKBAKhGI3AyAUO1oyGimdCCAUPT8gFAgFQoFQ7AKCndWm7CIFoYzCgp1KOhFAKHp+QCgQCoQCoUAodjMAQrGjJaOR0okAQtHzA0KBUCAUCMUuILJbm2GnHoQyCgt2KulEAKHo+QGhQCgQCoQCodjNAAjFjpaMRkonAghFzw8IBUKBUCAUu4BgZ7Upu0hBKKOwYKeSTgQQip4fEAqEAqFAKBCK3QyAUOxoyWikdCKAUPT8gFAgFAgFQrELiOzWZtipB6GMwoKdSjoRQCh6fkAoEAqEAqFAKHYzAEKxoyWjkdKJAELR8wNCgVAgFAjFLiDYWW3KLlIQyigs2KmkEwGEoucHhAKhQCgQCoRiNwMgFDtaMhopnQggFD0/IBQIBUKBUOwCIru1GXbqQSijsGCnkk4EEIqeHxAKhAKhQCgQit0MgFDsaMlopHQigFD0/IBQIBQIBUKxCwh2VpuyixSEMgoLdirpRGCIUDExMTzPp6en0zNi2OofzTojWM4Az4NQIBQIxW4GQCh2tGQ0UkMSiGtYIdSmTZs0Gs3t27fFweeyzDIgEDsIVcoNhGIXENmtzbBTD0IZhQU7lXQnsEKo2NjYjz/+ePjw4TzPZ2Rk0JMiaQUjWM4ACAVCscMFRGqYARCKHS0ZjVTiAckmK4TieX7OnDk2NjYvX76UpCDHTZYBgdhBKBDK8LSKGnYyAEIZhQU7lXQhqJZQaWlpktWm+/fvly1bduLEif91IQqMYDkDIBQIxQ4XEKlhBkAodrRkNFJGCUXCPnfu3IkTJ54/f87zfGpqakhIiLOzc3JyMj0pklaWAYHYQSgQyvC0ihp2MgBCGYUFO5USD0g2VbgKRRafTp8+Xa9ePUdHR1dX1/Lly586dSojI+Pu3bsFCxacPn36f1qIAiNYzgAIBUKxwwVEapgBEIodLRmNVGImyaYaCJWRkZGamioOLC0trW3btn369Hn48OG5c+dat2796aef7tmzh+d5Dw+PEiVKiDvnWGYZEIgdhAKhDE+rqGEnAyCUUViwU0kXguIJJb7h6ddff42NjeV5/sSJEyVKlNi0aRMJ/saNG61btx4yZEhGRsbly5ft7e2XLFmS+4UoMILlDIBQIBQ7XECkhhkAodjRktFIVU4ocpPT5MmTCxUqVL16dWKjgwcP2tnZ3b17V3CSt7f3l19+eePGjYyMjCFDhpQuXZqeF3Ery4BA7CAUCGV4WkUNOxkAoYzCgp1KMQYMy4pfheJ5fubMmTVq1NiwYUNsbOyDBw94nk9KSipQoMDcuXN5nk9LS+N5fuvWrfnz509KSuJ5/ujRo+XKlbt165ZhOozWyJ8RPVYPrDnrkwKhha0CrW0CbUtMK91hWQ/f3ZFk5q0Wd6yoq+YUkt8iwNIhyLH8jCp9142kB+W2QVtRV8060NYiwLJ4eKlvl/cU+vdZN4Lz54x+j97q6x+tc98WUG3mRzaBtvmCnT6f12zSrunCvnXnfmEdaOu5PUiokX9BKYQqNtjD3qOexcQinJ+GvDol3QIF/TiP7mDtXVnja0Oa8mkbC02GhZJugY5jW1p7lzef5Mj5WZhPcrIZV73I0FHGeoZYjS9LxrQaX1roUHBEX8sJxTS+lpYTihUc0VeoLzFwspmPg63XR0KN/As8z8ufC0Z/Hzl/ruPy78nku6zsUzWqpn2QA+npOqt2jkEN3DC2wowq1oHWlgFWpae79FozSLxL04VtykVWtAywIgO2X9pF3Npxec+CYUWsAqxKTS83cONYoUn7q59lgOWXPzcXauRfUAShyrTu4DSgqpWHs9lEK7MJ1raji5bs0LJG7bEEOuVafuc4sLLFuKxX33ZUMTqASn7T2nFQRUtPJ80kC/PxtnYjS5Zp843RXQp//6nws1f9k1GkT6Uv+9oPK2M20crSy7Fol4biHR2GlrP0dBJ6iptkWzaqAqFS8YR6+vRp0aJFw8LChAUnEpuHh0epUqXu379PNn18fOrVq0ceCvVfP+NF/qf5CjOqCj/HQqHe3IZk5uaTLYRKodB5Zd/s4uqzboT5ZHOhJyl89cvXpH/2hNIQG5WPrMz5a7qs7NdwfnPOn2u2sB3ZceimcRp/s5aLOmR3XHnWK4VQBUf0lrxkYkJZTigubqUTqvigieLOWWU/88LDhkjEk39UZ6GnQKhigz05PwvLCcULDxuqP66fRbHBnmRHB/dGGl/LYoO9JePIeVPRhOq2qh8xStWomsIrxflzORKq//qRkj8CGn9N55U/COKxCbQVDygm1IANozl/rsKMqgPWj3IMdrIPcpiwM5TsWGPWx/mCHSfumiqMI/+CIgjlMDTr/2TEL0qBPh8RlxTsXVtcnyOhrNzzi/uTctEuX0qUU6lhP43PP2cKAqMatcdYuxcwm2RZtmUn5/7VOX+u1NdtyI5lW33L+XOl234tGUfmm4KWjBYUT6hLly5VqFBhy5YthFDCrVFv376tVKlSzZo1fX193d3dCxYsOG/ePHEKJHegi5skZXme2sWzqhJVs/68JsM2e0/cGd5lZT+zyWaZP/Qaj21T/KN1ziEFWi36duyvk713hH0x/yvy+1B4ajHxCOJysfCSnD9nEWDptmHsuB0hFXXVOH/ObLL5mF/9xN1IeeyvkzX++sP9xTj/aN2EneGcv6ZoeEn/aN24HSGcP1dyWlnS0yWyUoHQwuJFKcPRZFijFEIVGTo8n7ZpwRF9LCeUJi+xmFCOY5s7j/7WebT+Txjnz+VIKPNJBfOP6lR80KTig3zsPLP+/tqMqyq2TomBvmY+9hrfrHUIgVDkKE5jvi7lFuo05mvOn3Me/W0pt9Bigz04P/N82q/Eg8i/rAhCSSBSKKwo58/ZBNpO2hVOmtou6dR6ccfuq/qTH4AcCVX47xEGb3Qfs9XHKUR/TrWbYu/z94AN5jX+dnmPpgtbkwHFhGqY+Uemx+oBAXt09ec15vy53muHBOzR9V8/UrwwJpmzbDcVQah8gysU7FWnYqMfqn8ysnTbrznfzFOAH1f1syGutbWl2rcu2qWhy1ddyYuVI6FsRxcr0r1BpS/6V687sninpmQvs4nWNeqMEXPHfpjebWaTLEkHQqiKX/bR/4UZXMG1trZC416cP+fkVsW1trZGndFW7vntRpQSj6CIssQDkk25EyrHFaNLly5VqlRpxowZKSkpwkJUfHw8z/MXLlwIDAz8KvNr//79kshzvynD87pkSuN3hIlrKutqkJ/pAevH+EfrxK1+u2dYB+qv5vz1v5jiXYQycQ/nz1WcUY1Udl/lRkZr8cs3Qjeh0OjnVqT1r27+0TrvHaECmzI5xRULL+Ufreua+be7x+qBwo5KKSiFUIJFrMa7kFdETCjSWmj4QNJEJ1RJt6CSblOEAYsP8iF7WUwsJFSWcgu196jP+XOOY7NOogKhxGxyHt1B/zd0TPtSbqE246qZT3IqMTBAPIj8y4ojVN91w8nr1WBeY4lLxv7qS5rohBqyyYN0qzv3czJC81/0FOb8ue6r+ovH7Lj8e1IvJlSDTDb1WjM4YI/ui/nNOH/u+9Vu/tGRxcJLlphWenL0DPEI8i8rglDV6o0QcyTfkPLkdSnfrLu4nlTmSCjJaNbagmTHKvUHCaOVbteO8+cchpazG1GKtBJCVWisXw53HFjZtba2YiM9pxwHVXStrS3WuTHnp6nQuJcwglIKdCrIl1A54kkI7Lvvvmvbtu0ff/xBap48eRIZGZmQkEA2CadIWVijEvbNTUEpJ3thnpmX0vR/7wzXjSbtmk5uX3AOKSj0FxfctwWS3wdDQrnOqiPu6R+t89kd4RDkqD9HhuQXbr0qGl7SfLLFiM0T/rqDivPn6v/UeNKu6c4hBcvPqCLZXRGbDBJKwprig8aTHwlr7/JCU5GhIzg/jcXEIiXdgkirQKgiQ0dyfhpr70olBk629q7E+WmKDB1ZaLh+/aPAyO7CCEopKI5QNWZ+zPlzGn/NqK0TJUDJJaE6LOtOXtPWizuSEYTlq8YLWorHNEqoHqsHcP5cnTn1x+8MKTK1uGWApef2gG+WdeP8uQEbRot3V0RZEYSScMR+WBnyClb+3E3cRCpzJJR4F9faWisPZ/1PlI959TqjSVO1uiMsxjlofMwrNewnIVT1T0ZZeNtZeNtVqT+4SLcGnD9X7LsmVT8bYjbROn/fmpKRFbFJR4LsCJWR+SVMOioqytfX9/jx40KNuEBuFT927FjDhg2rVKkyb968lStXfvXVV7Vr17527ZrQMyMjg/QUav5TQRFnemGSfdeN1Pjrbyj+C1JCpVBourAt+S0SblESmkjBb/cM+6B8f1/I0woX8oRLdeL+XVb2MxxtyCavgmFFSH2FGVXH7QhptrCdxt9s2GZvsq/PrgjxIDIvg1B2nnXJq1lgZDfinpJuweRyYaHhbqXc9OuOnD8nECrr+p1f5h14fhZOY74u6RZkMbGI1fgyf+8epBQ/lXILVRahPLcHkOv45WdUNgRKLgklrDl9u6wHGaTPumHkVRbWpUi9UUKRxSezzOv7NoG2XVb2mbAz1D7IoeasOmQvv90RhnOTbY3iCOXSvCt5T4n9sDISo5AX8T8RqlT7rGXm/H1dhdEK9fyE8+cKd6/vWlsrIZRrbW25Fp0txtmTYzkNqFajzuj8fWuaTbQiVxVr1B5bo/a/LggKw8qzQNeCjAiVkZEhXnlKTk5u06aNq6tr/fr1HR0dd+zYQYnk3r17Xbp0ady4cenSpceMGRMXF0fp/F+bZH6OF09v4AatzRQ7/aXoYKexv04WN/lH69ov7cb9rSuf3dk6pt2SLuSnX/JvJV11yYAukZXIbVIe2wIlTdpfJ/91TdA/Wqf9NcAqwLre3C99d0c2mNfEOtDGbLJZmYgKI7dMkuwiz03GCZVPq78Qo78PxrOO4B7n0R05f054Yx3pICZUKbfQkm5Tig32IhcEnca0z1yLGl5ssIfV+HKcn5nG19rBvWFJt2BhTNkWlEWoZn//P5LkihsBygcjVMAenc+u8L8O5x8dGbBH12BeE8sAS+2vfoM3aouFl9T4a+ym2LdY9I1s2SSemLIIVb7p9+YTrPX/DzzOoUqDgRKUkF/V3BOqbOtvyQ3j1mMLVas3nIxWsdEPnK+Z8MY6Q0Lp73yqPbby527kgqD+jig/TbHOjarXHencv7pmkoXGxzzfkPJEVJIZynCTDga5EErA06NHj/z9/VetWrV+/Xp/f//09PTY2NgBAwZUq1ZNuDYnCYlcnsvIyHj69KlwqU4YUNL5HTbleWo3nFX/9WPIfU75gp1GbJ4g6dBmyXfET2UjKo7fOVXSKtn8dnnPIlOLm082dwop8Pn8ZmRZq+7cL8Td/joE+YWsMau2uF5SrjW7ns0UO6/twURmNWbVbr+0O+evEW4zl/SX2ybLhHJwb5T1N9erVkm3f5aOMh92YFZwRL8iQ0cVGTqK9LGcUKzI0FElBvpLMFR8kI/G15YITL925adxHt3J1quWcJu5pL/cNhVEKP/oSMdg/TUXx2Anv2gjKz25JJToQt63BBP/6UKe2B8Be3Sjtkwwn2zeZEEr393TnUKcrQKsOq/8gfzfF7nNXNJfbpsKIlT5Zt3NJurf3mExzr7Sl30NOfKfCFWmbfssP2kLVq0/WBjNaYD+DeBFuzas0LhXhca9bMbo37ugv+7RtIch2jKXqUpaeThXrzO6UE/9enaBHz4u2rWhcJu5MKxsC3QzmJhQgnh4nn/9+vXGjRsrVKhQpUoVV1dXjUYTFRVFZn/79m0bG5ulS5caDUZy7S8tLU08rNFd/lOl3E7qRufTd91IqwD9/3w4hxQYtdVH0qfFIv1dveRi3MSd4ZJW+ub3qweRfTuv6CPu+dlP+vfacP4c5SlTbhvGcv6a1os7+Ufrqs3UnzWHbPLyj9b99ZY9zp8T3+cuHllWZTYJVdItxMH9c/L62nl+IlkuEp4vRTqI/y04orfEQPYe9TW+VsUHTSgx0J/z5ywnFC/lFkrgZetVQ9JZhpsKIhS5CYnz55oubGMUIrkkVB5vJ5ccupKummOw86Rd4cM3j+P8uWpRNQP26MhUP5/XRNJZhptKIZRL8y7kzXGWno6Vv+hvVCTkVzU3q1Clvm5L3tZnM6ZI1c+GikfLN7iC+FdeXC7Yu7a4p2ttLbnrvEybDq61tTZj9Dd4VKs3vEbtsWYTrM0n2Eg6y3OTrgUTE0qY3KpVqypXrtyhQ4e1a9fyPP/bb/9r7zzAojj6P753BxwgHaQIKEaKIt0TlWDvxoK9IDawxYodNQoIgojiGbHkVWPUKHZjiQUseRPLq7Ebo7EbjeZvbygC7j/LkMnl7tyod8Hb268Pj8/c7G9mZz5z5XOzs3M/WlhYJCYmFhQUkJi+ffuGhYXl5+fTIuT+O7VFTvqVJ3Iug/pE19qYmHWDTZK5O0sd0501r9/R9U9V5wZq3VOAvAaC54eTygdsGtNjzYBx305P2JnRY80A6+m2xMxUy07cOZNsDOOc4aa1SYm5yqm757hnVnKa4UIuGvqXrHIlK6IqZHoyiZKJ/zQZ9qaayzJfKArlHpfqNuAztwGf0b0u3QYkuA34jNwBV6F/otuAz+jeUVajI0gwURbrUaVbXbgOHFdyDS6t3JjSHfPKjanjHpemZjZvr1Aug0YyU6U28c084tIr9E9ipkpMJ3p4xKW7DIovuRQYqFazAT4UkEKR/eFkSbI/VkSpucikXRnjd6QO3jyWvNirfR40fkfq+B2p5EIbXdLUd/1QUlB1U4MRWydrbmqQsDNt/I7UT7i5be57VPNl7cbvSE3YmaZ23p5ruS9gHVfFJOcph34zgUlkqn8ekpynjC7J//g/jdTiDfChIBTKq1lHyWRu9aHZGHvNqSB/xbCqtQZXrTWYDJb5SBfysHrJ8nCvJqUrN9zbNicS4962BTOFW1BrMdyNXr+jfvP2CuVfY5jpOBu6JMtiBDdf5a8YFhA6SpZgIUuwoHUackJVOTTTH1ihjh49unr1apZlHz58WLlyZRcXl0uXLpFWfvrpp/7+/tevXycPf/rpJ3Nzc7L/E8uyxcXFVJ6Ki4szMjLmzJlDczT7qUtOWX5gv9+5Ks32Jq8Ntf/brezxR4VqmfQh2UycBlCF+qMUjSEJs2lysj8CbV7bld3JoVbLO9FMtQS5Iy967SCSTx6GL6rbY80AaZLUK8tHLd4wHwpFoeiGBWpjR/ZhojsdqB3VqlCuA8ephdGHWhWHHFVbC0Ui5ROqyCbb0e0V5BM+YqbKHIf2IRsi2A/vrLVCg8oUikKN2DqZXHCvPo9zFLW/kPl/7SJNR5NJZOK3TUnOU2oqVN9/2lrTLs1BtR6StktzUD3v1N2znWY4e8zyIhsZTM2d7ZDuZJlSru+GYWROuu+GYarxhpkWhEKUQ+w2AAAgAElEQVTRBUlqg0KsqHw3bv8RzT+vJp251d8aCmU6jrvPWvOPxKvpDj215p7j3B15UyTe9XqRIs7duBv0XLpEurdrxn0t71tdrSrDfMgvDx9SoYqLi1u2bNmgQYMrV66wLDtx4sQqVar88MMPpMX/93//J5FIli5dSlc11S35V1RURHMePXo0evRo8ut4ubm5/F1976OG+dGu2ir9KlTcxlFeWT6WqVbSJJlVqk1Qds1hWyapni4xV1kyjcSYJcvfdDEuYWeG9XRb1RXoU3fPabi0lc10O/k0c19l9fhtiWp1GuZDKJTqO6lWuSEBmgrlOJTbWM9hWA9aynXgBPPx1SRT5LLJtjbxTTTnt2ik4SSEolBkByYmkaEzSapG8q4KlZyn5P+Bl7dRqOZfRUkSJao/8DL0mwleWd5myWb26Y5tVnRRbaHBpqFQ9B3gnRTKr05/yWQTukN6QOgo/xrDHWNCTSZYyiaa28ZWqxb+qWE6k1qr+M2hLBRKdcaIZdn9+/eTH1phWXbVqlURERHz5s1jWfbGjRuenp4ZGRn04l337t0jIiLIz96xLHvt2rXbt2+T/ly/fr1Xr142NjYNGzbcvn07lSr+3r7fUcP8aEeryoaAUBTKcJzDyFoiFIUyWAUResMEoVBqn/p4qEcC/NrwrysUlZsXL17cvXv3q6++qlixYk5ODmnWs2fPoqKiOnfuTNwoNjY2MjLy1KlT5OiFCxckEsnmzZvV+nDy5EkfH5+2bdseOHBA7dC/8bBsPqpxFsMkAIUyMiV61+5AoYTuQDq2HwqlRx0RYlX8UvGvKxTLsrdv346Li3N1dR0zZszt27fr168/dOhQukPBokWLatWqtWzZMpZlz5w5U6lSpezsbCpedPET6QZdLU7XSPF3Ty9HDfOjHa0qGwJQqHd1DiOLh0LpqCBCLw6FEqL36LHN/BbxryvUjz/+6O3t3aJFi9zc3D179rAsm5SUFBERQbfKfPTokZ+fX8+ePcl+mM2aNQsPD7969Sp/u8vyaNl8VOMshkkACmVkSvSu3YFCCd2BdGw/FEqPOiLEqvhl419XqNGjR7ds2VK1EVevXg0PDx89ejSdaqpRo4avry/Z9un06dP79+9Xjf/gacP8aEeryoYAFOpdncPI4qFQOiqI0ItDoYToPXpsM7+B/OsKlZCQ4O7u/v3332dkZEyfPn3QoEEnTpwYM2ZMo0aNlixZwrLstm3b2rVrV7duXbKonL+5H+Ro2XxU4yyGSQAKZWRK9K7dgUIJ3YF0bD8USo86IsSq+K3jX1eoO3fuNGjQwNXVtXPnzp06dQoLC6tRo8bChQvj4uJsbGwiIyNtbW03bdp0//59/oZ+wKOG+dGOVpUNASjUuzqHkcVDoXRUEKEXh0IJ0Xv02GZ+9/jXFYr8cktxcfGDBw/IYnAzM7ONGzfm5+evXLlyxowZv/76K2mi2u+08Le7LI+WzUc1zmKYBKBQRqZE79odKJTQHUjH9kOh9KgjQqyKXzbKQqFIC16+fMmy7Pz58+vUqXPmzBnVZun9V+1UK9c9bZgf7WhV2RCAQr2rcxhZPBRKRwURenEolBC9R49t5leIslCogoKCnJyc3r17+/r6urq6Ll++nLbJYGeeaAtZli2bj2qcxTAJQKGMTInetTtQKKE7kI7th0LpUUeEWJWqDGimy0KhWJY9cuTIkCFDVq1apdkCw88xzI92tKpsCECh3tU5jCweCqWjggi9OBRKiN6jxzbzK0oZKRTdEpNl2cLCQv42GdrRsvmoxlkMkwAUysiU6F27A4USugPp2H4olB51RIhV8QtJGSkUaQTdCIq/TYZ21DA/2tGqsiEAhXpX5zCyeCiUjgoi9OJQKCF6jx7bzC8kZapQ/E0x2KNl81GNsxgmASiUkSnRu3YHCiV0B9Kx/VAoPeqIEKviNxMoFD8f7qhhfrSjVWVDAAr1rs5hZPFQKB0VROjFoVBC9B49tplfEaBQ/HygUMqyMRWDPQsUysiU6F27A4USugPp2H4olB51RIhV8SsCFIqfDxQKCsW+64cu4o2JABRKRwURenEolBC9R49t5lcEKBQ/HygUFAoKlW5MSvSufYFCCd2BdGw/FEqPOiLEqvgVAQrFzwcKBYWCQkGhlDp+DKO4cAlAoYToPXpsM78iQKH4+UChoFBQKCgUFEq8BKBQetQRIVbFrwhQKH4+UCgoFBQKCiVegRDu7JG+Wg6FEqL36LHN/IoAheLnA4WCQkGhoFBQKPESgELpUUeEWBW/IkCh+PlAoaBQUCgolHgFQl9zOcKtBwolRO/RY5v5FQEKxc8HCgWFgkJBoaBQ4iUAhdKjjgixKn5FgELx84FCQaGgUFAo8QqEcGeP9NVyKJQQvUePbeZXBCgUPx8oFBQKCgWFgkKJlwAUSo86IsSq+BUBCsXPBwoFhYJCQaHEKxD6mssRbj1QKCF6jx7bzK8IUCh+PlAoKBQUCgoFhRIvASiUHnVEiFXxKwIUip8PFAoKBYWCQolXIIQ7e6SvlkOhhOg9emwzvyJAofj5QKGgUFAoKBQUSrwEoFB61BEhVsWvCFAofj5QKCgUFAoKJV6B0NdcjnDrgUIJ0Xv02GZ+RYBC8fOBQkGhoFBQKCiUeAlAofSoI0Ksil8RoFD8fKBQUCgoFBRKvAIh3NkjfbUcCiVE79Fjm/kVAQrFzwcKBYWCQkGhoFDiJQCF0qOOCLEqfkWAQvHzgUJBoaBQUCjxCoS+5nKEWw8USojeo8c28ysCFIqfDxQKCgWFgkJBocRLAAqlRx0RYlX8igCF4ucDhYJCQaGgUOIVCOHOHumr5VAoIXqPHtvMrwhQKH4+UCgoFBQKCgWFEi8BKJQedUSIVfErAhSKn48wFIplGK1/m8b0SMxVbhrTQ+tRlmESc99oSJ8vmXju46B8a8tXZqa/eXtsHBf9V/CurOPNwn/3cn1RzqJIJn1mZ/VLzWpfZg6lAf+ZG3+jmleBudldD+dNY/8qmLQz605lt+v+lWmk4SdYVjAKNbx+lyPOle6al8uXmV6xcVxWrbaie4JHHCdAQdGT5wfWu2hb/pmJ2QO55UknjwkfR1XsN50cVfu/dtdxb3rCdGrVnwb7x0ydF1T/so3TC5nJQ7nFifIew+t3IUfrdRr9XQXvJ6byG1Z2qTVb0CIecel7PPyuWTt81DdFNdOQ0yzL6ms+49+rZ/W0/qcb1bjnXv6lpTzfyuKWr+c3Y7on784iZ0zbmrG37ye/e7m9sDR/YWl+p7JbXlyb6dtn8rRnZdqga0FVCszNCszNrlevvCplgGpwyo5Z+2Na3HN3KjSVPbWzOtksPCsniQZkfznxcpjvS0v5QxeHvLg2ND85T/lLeLUHro6p385SzTTwtCAU6k0v2EkVmxNrqRswaImz4orc/rnU9KHM/IylS5Jn46CQkVqdppl/7Jsq7OPdmRapE/jpYueaV+V2LyWyRzL5aUuXCZVakKOtq/U5aF3xqdTsppnN7AqRtEhA6Kj/2nj9amYbGjxcNdOQ0/yKAIXi5yNshVrzWV8ehSowN3uTwXy+ZGK+lYXaqyg3tg2JT9o5W+0QyzDFUuniOSMTc5Vpm9Of2Vk9drJdkjX8oqLqa4lkSdYIUnDbsE6vJZIv5o1603kNMF8oCpWuaK45KL9a2fn2TqrUL/W8nbPm0S8CIrW6C49CtWo3lBQJjp580ba8Wp0bqoR4xKVX7Df9F9vyT03NerTot9YnjGWYoQ26kVIxzfuwDNO/cbTW8xpmpiAU6qKiqtpYsAxzpG0ksZNLNfw0j/4cGfQmd9mYEPNaIlEt8loi2ZgQUxqfO0fzdI/K281aNy05TzltV9bdii4vLeQr0wefbBbOMgwtuCp1AMswa6f0fdN5DTNf0AoV79U6IHRUcMjIi+aOqgNK0l+VD9PqLjwK1cWvBylSL2DQFbm9Wp1b7asGhI4KChl5We7wTGrav0qHzQ7+LMOMq9SSlBr8URTLMCMrc60Syh+/IkCh+PkIQ6HUzOP/PF3+eNbmW1mkbJ2pdigxV7lYOZI873/8JELzKMn5pWY1lmGKZNKVqQMzc5Jv+XiyDFNoKpu1KokL2JW1r1eL7C/Gp2ydOWtV0s91AkiFh6PqJeYqV6YOZBnmUPv6ibnK1Ynct5nvuzZOzFWmb0x7blPuRNPwN53UMPOFolBEaIoZSfcWsVV7JeZ5ln5qxjXu2abtp2SATjtWCI6e3KT9iKemZizDPDGVv421ePeZ9tDMnGWYi7blafyWyoGcNzOS1JotQntM8uuV1L71oAElbtSg4yiWYXZW8veIS2/WfjjLMN98FOQRl+7VL/WibfmDrpVpJYJICEKhzkcEHurYYMHiCdO3z1w3pW+RTMoyzGuJJHNdyqy108joPypvN3fFFOXKKY/K25GjMzdM17SWabtmP7Oz4p4ejjbZSyfOXpP8m48H935ibTl9GzdxlZMURyo81aRm+jczVqYPLpZyvvXjJxHJecr5SxJYhjkfEZicp1y0cCzLMGcbhCbnKVN2zr7r6Xw1yFvzjAaeIwiFUtORy3IHlmEey+SK4GEBoaN6+HYjQ/aThXO9gEEdqsY8k5qyDPNUaqZWUOvDGsHDHsvkLMNckdvTgJ12viXvAMzsCpH1AwaGBw2N8elKjK1Ntd4sw+yxrRIQOqqjX0+WYb618wsIHRUSMuKK3P6IlQetRBAJfkWAQvHzEZ5CLcsYQl4thzpwEqP5d7JJTRKwYOE4zaOJucoZ61PJe+JFRVUSsD6hFymyc1CUZpFVyf3J0QOdGnLaVPIO+0MXTptWpnDfOw92bJCYqzwcVe+lhTwzJ1mzBkPOEYpCkXmm3y2siJckRHDf9kpmgLp+0q70KTEvqD45erw858QvpTKP2LR/9JjRdTuSqqbUbk2CFd0TikpmKdZ5h2oWb1qiTVsqc9rUsGM89wZaqbpHXHpSrU+KJJJm7YdrFjHkHEEoVPqWGaoicqF2dTJkS+aOzFyfStJEZZLzlGfrh5Ic1atvtDjxHpZhjrb+mGTu/LQ9iV/3WZ/kPOXhDvXJw8Wfx5OA21XcuaeTpTx5d9aiRdxV4LP1OW0iOkWmu3YNiiqWShYtHEtPJJSE4BSqn3cnMkDL/5xk6upbupZjsXNNYi2nLF1ZhimQyAJC4v/RYyZXbEYqTHNvQIIbV+9fxHDe/I19Nc3iHfxiWIbZYecbEDqqbVVOp3JtvQNCR2W41y9iJB39emoWMeQcfkWAQvHzEZ5Cna0bQr5izv1ykqaazNgw/ZUZ9/2DZ0HSVzNKJy3ITFJirnLhAu7bJMswJxsr/lbn7jmzv556vjY3C1VgbjZ/EedkmTnJr+Smdyq7pW1KO9aiNsswq5Pi5i1OKJJJ8/p+8rfi2gzP0AKEolCT67Qh00JkFmqPBzcL9UJmouie4Bk7/UR5biKBzkI9M+FmofI8/d7GXU46cWWfm5hW65VI4oc0LP1Su9479JSTe77M9DdLm3lB9SuXrHCq0mfa7xZWv1tYhfaYNDOsyR/Pxim1WwdFT35kZr7SL/xtzmhQMYJQKDUduRzGzRCwDDPn66nJecpzkUF/XD15VN5OufKvWajfvVyTc+eoFUzOUy6Zy1mvVoX6vnuT5Dzlj60jSICaQrEMM2/ZpNRvM5/aWz+1t561dtq+3i25+chP22euT31RzuJYqzqapzP8HMEp1C47HzI/9Em1vkRNAkPiT1tylyboLNTzklmo72wqv427nCkp+1xqUjtoCIkfW6kVeQ5ssa921sIlX2Jyx9RqsXPNkOARAaGjwoKH3zWxvGtiWT9g4DzXOizDpLk3qBsw6LFMvs4x8G3OaFAx/IoAheLnIzCFysxJJnP4l8J8tbrIrgHtyFN/w4QYrQGJuUo657Q/ujmJUX71GSl1sUbpvFRirvLoJ6XvpGSSX3U5+bqJvclSqmKp9EDnRom5yos1qj5wdZi2PTMxV5m0MytxV9abzm5o+UJRKI+49Cm1W5PJITJYV2wce7ToR3SkWq/E7ytUIfnk/28rVQ/s+dk/ykqrdkNJ/Nd+NWlwSk3uo1Hzj1yw84hL79Iq7ralDQlY7x3q1S91pV/4Y1N5cPRkj7h0z9jpb1rJTk9hOAnBKdSy2cPILPLlMF8iKCk7Zp1pyC1Ko39Xg7znLv9Mq77M2JxeZCIrvZD35cRZa6eRC3n0Ut324Z1JPdyFvC1/XchjGWbJ3JHJecrlM4c8drT9M0aRsnP2sVZ1XliaZ65L4c64O2vartJ17lobYGiZwlKoBgEDXjHcZdyD1hVVRaR20JBDVtzcM/3LtfWODBysGqM13cWvdAZrnWMADZhVoS6tRzVBLtgFhI7q593pjmk5cmiLfbWQkBHrHAOfSM3qBQwKCB0VGBL/ppXs9BSGk+BXBCgUPx+BKdTe3qVfDnKm9NPiIrvn3KvgxDLMMzuradtnaQkomRbSolDLJpMXA720p6ZQ3IRHOYtF2WNonUk7s+Ysn5KyjVuMtark0t6az/pmrE05Xzug0FRWYG52omnN1C0ZNN5gE0JRqKENur2ScG+d9O+hmXm6orlHbJpn7PTdFbnFbap/5+xd27YZ/I+mstpXQUq1iBpGg+nS9cem8qbth4f2mHTWwY2ENewYXxoWm1ar63i/XklkRVSRRDItvJVP7+S1PmHPTUxfSmW7PasSo6LVGmZCWAr1n3mj8q0tuXUwTrZZq0vvkjvSNlJ16FmGue/muHpa/zfJyg9dG6vFk4dH2tVNzlOmbc24X/I2ohnzn+zRpXXmzlF+PZVcXly0cGyxVLJ7QLu0rRknm4UXmJsVmsou1K5ealR5hr5dgrAU6nO30m+2Iyq3oRYSGBK/1+YjtfG6YO4U7duNxrwpscGh9KJwZ79oGjPH7WNS2xOpWQe/mPoBA3+2KL25pG3V3qVhIfFNq8eFBw0lK6KKGMnMCvVqBg3b7OD/XGpSIJHts/mIGBWt1jAT/IoAheLnIySFStqZRRaKPnayTdo5W1NKVkwfRJ73ZH23ZgDJoRfyyPJwvgt5u7JmrUo61L50bcT52tU160z+dta9Ck5XA6sk5irPlCzCyOv7yeGoenSZuWYRg8oRhEJ5xk5/IOc+OO/LLZu1H+7TO3l+IEeYrIWKbcItTWAZZptXQPWYKbW7jjtvz83qP5BbVv3z2pxWffGPmfrchLvse6y8p2rA+I9LF8eQRU4ecel0XurTht1VI0n6kGvlKzaOlfumZAdxT5Ul/hFpJfcP0lkrzSKGkyMghVqqHPnCklv4/9jRNvvLicRm6Nqm69Urz16TnLku5UoId6Gn0FQ2d8UU7RaVO2f3wHZkz4J77uUP/bn4ie5QMDsn+XSjGvnWli8t5FdCfC7U4u66YhmG3JSnVue1oCr33J1Sdsw6UGJm/4uqt6dfa7rMXC3YAB8KSKGCQkbeNuVuBbhjahWssmHB8MptyQDtsvOJCPy0mX/sLyU36D2Umdf689qcVn2pE/jpc6kJt4TD0lU1IMmTu0BPFzkFhI6i81JjvFqpRpL0USv3a3K7kOARS5y5r2Qry4dkuXFaT2etNIsYTg6/IkCh+PkISaHI7W8sw+zt1VKrhfwcUXIXlVSStWKK1gCS+a7LydM2p5OX011PZ81qd8e1LZZKFiwYm5irfG5tmW9tyW18sCntj5vbb/l4aMYbWo4gFCq0xyQyBLsrViPyQdZxcwvRfBXTa7YgR+Ma9yRHqWB1aD2QR1am1uY+6liGGVG/s2pY67al69M1Fapf0xjVSI+49EGNuAsBfZv28ohLP+XIrTvm1lTFpj00M38gt1QLNsCHQlGoZbOGvbTgbpt64OqgepFuwyRuPS/LMLsGRRFB2T6sdLnxpvE930ZZaDxd/PS3UrlzblatxDLM3Youf8svmV5aP5nbxiInOS45T0kuCM7YnJ6cOyffyuK5taVmvAHmCEihqCrNc62jqiDEV7gX8p9TU0Rl/rjJrpdPF9VItXS6ewPy5EmoWLrhEwno5tud5JN14qoKNaxyW7VKRnt9wn2X+6hdQOionyy43VW4NVUh8Y9l8ocyc7VgA3zIrwhQKH4+QlKoizW4vWGKTGRa73qbtSqpWMpd6LlQy19NU77MLF3vQrbiTMxVlm5qYCJbMX2Q5qYG6xNitg/pOPfLSdO2Z85cM+1Ap4bk5fRLzWpqNc9cO+2lpfxYyzok/5ltuWe25RJzlalbMliGuelXUS3eAB8KQqE+6pvyQsZ9WaSzUAv+nIVaFBA5on7p4hUyC1Wr63gyC8UyTJMOIz3i0ju1Kr2nMr5eJ1WJIRsl3JdbVukzTTXfIzbtig23zYzahbyXUpnatTnvPtNuWNl9V8GbFCcr0316J3vEpd8zL3fXvNzfqi3ZBdTQcgShUCtmDH4l5+YL73k40+t3REeWzR5GXp5qs1CcXpdcy1OunEIC9se0IEWWzxzyVebQGZvTZmxO25gQ86Ict0XcDX8v6jdb47tmL52Y+m2mcuWUH/9cE7l1ZFcaQBLTt8986OJAl2Td8uXW4qRtzUjOU3JvBXZWavGG+VBACvWDNeeyryTSBgEDVF0koWLplygyC9W0ehyZhWIZpn3VmIDQUX28S98i6FacpDjZ+emBzDxMbSfMkPhrcm5rDLULeQUSmdq1uRrBw26a2dCFWWRles0gbquF+yYW90wsVNtpmGl+RYBC8fMRjEIpl00mu+GdrReiVUT2R5duvbgyZYBagKZC8W+tuS+m9AVJ3nnJ/6/MTMnWmqqVH29e64WlecbaFJJ5nGy1Ny56Tx/ue8mbZstUa/jgaUEolEdc+sJALQs882WmjTrG+/ZOum6lvgket3fXn1s0aVWoLq1Kt/+ZH1hPU2u6towrkHKLjlX/Mmo0VYucGdakUCJtXCJqHnHpmSU36KUpmo+qx02E5PjWUIs3wIeCUKirQd6qA0HTm8f2SN6dRWaJaCZJ3PNwTv02MzlPqalQ+zVe4E8cbeYtm0QV56ELt+2Q6t9P9UI07+/b17tlsVS64D/jScH9vbj3jT39Wn8zhpvDONG8Fq3QkBNCUaiW/n2LSwZlZ8luAqo6UjNo6K9mpbd3qI7aUSt3EqZVoejmCEucFaq1kXSsdye1xZcsw8x1i1CLnOdap5CRRFXtRfLJDXpZbpFko4SNDtXV4g3wIb8iQKH4+QhGoQ50bkReG6p3xlH/SNo5+4kD9xJ64OqoeTecpkIl5ip5fuDly8yhP0cEPnS2f2VmWmgqe+DqcKJpzflfjKenI4lF2WNeSyS7+7el+ekb0042qfnc2vKpvfXhqHo8S9ppkQ+eEIpCecZOn1Sn7Uknj2cmZoUS6e8WVtu9qtM14DW6T1xRNfyGlV2BVPZCZnLRtvznwQ3IWu83zUJt/XPzzIguY7WaTVTrQd9V8H5qavZCZnLKyZ3+ugsNVnRPeG5iuqxabZrzx++6LK4e8buF1QO55Xrv0OoxU+ghg00IXqHylDM2px3o3Oiee/lCU5MiE9kDV8cjbSPpuiVNhVqVOuCGv9dza8siE9lDZ/ujbT6evSZZ1XIOdm54z8OZ/PzLLV/P7cM70x+ToWFZq5MKzM3oDunJecrUb2cdbl/vqb31c2vLU00UGZvSaLAhJ4SiUEuda5CPANXfYKFG0jBgwFrHwJtmNq8k0pcS2RW5/X9capK13m+ahaKbI7Tw70frUU309Ol60LriM6npC4nsrMVfv+5CYxpX7/9carLaKZjmhAYPX1E+9K6J5UOZ+Rb7ahGBn9JDBpvgVwQoFD8fwSjUB1cNY22AUBTKYBVE6A0ThEIZsoIIvW1CUSiDVRChN4xfEaBQ/HygUFr2NzdWW9LaLyiU0B1Ix/ZDoYTuQDq2HwoldAfSsf38igCF4ucDhYJCsTp+BqO4oAlAoXRUEKEXh0LpqCBCL86vCFAofj5QKCgUFCpd0A6kY+OhUEJ3IB3bD4USugPp2H5+RYBC8fOBQkGhoFBQKEPfQVtHS0BxHgJQKB0VROjF+RUBCsXPBwoFhYJCQaGgUOIlAIUSugPp2H5+RYBC8fOBQkGhoFBQKPEKBM/0jEgOQaF0VBChF+dXBCgUPx8oFBQKCgWFgkKJlwAUSugOpGP7+RUBCsXPBwoFhYJCQaHEKxAimWri6SYUSkcFEXpxfkWAQvHzgUJBoaBQUCgolHgJQKGE7kA6tp9fEaBQ/HygUFAoKBQUSrwCwTM9I5JDUCgdFUToxfkVAQrFzwcKBYWCQkGhoFDiJQCFEroD6dh+fkWAQvHzgUJBoaBQUCjxCoRIppp4ugmF0lFBhF6cXxGgUPx8oFBQKCgUFAoKJV4CUCihO5CO7edXBCgUPx8oFBQKCgWFEq9A8EzPiOQQFEpHBRF6cX5FgELx84FCQaGgUFAoKJR4CUChhO5AOrafXxGgUPx8oFBQKCgUFEq8AiGSqSaebkKhdFQQoRfnVwQoFD8fKBQUCgoFhYJCiZcAFEroDqRj+/kVAQrFzwcKBYWCQkGhxCsQPNMzIjkEhdJRQYRenF8RoFD8fKBQUCgoFBQKCiVeAlAooTuQju3nVwQoFD8fKBQUCgoFhRKvQIhkqomnm1AoHRVE6MX5FQEKxc8HCgWFgkJBoaBQ4iUAhRK6A+nYfn5FgELx84FCQaGgUFAo8QoEz/SMSA5BoXRUEKEX51cEKBQ/HygUFAoKBYWCQomXABRK6A6kY/v5FQEKxc8HCgWFgkJBocQrECKZauLpJhRKRwURenF+RYBC8fOBQkGhoFBQKCiUeAlAoYTuQDq2n18RoFD8fKBQUCgoFBRKvALBMz0jkkNQKB0VROjF+RUBCsXPBwoFhYJCQaGgUOIlAIUSugPp2H5+RYBC8fOBQkGhoFBQKPEKhEimmni6CYXSUUGEXpxfEaBQ/HxwFARAAARAAARAAAS0EIBCaYGCLBAAARAAAd8Gxa8AABArSURBVBAAARDgJwCF4ueDoyAAAiAAAiAAAiCghQAUSgsUZIEACIAACIAACIAAPwEoFD8fHAUBEAABEAABEAABLQSgUFqgIAsEQAAEQAAEQAAE+AlAofj54CgIgAAIgAAIgAAIaCEAhdICBVkgAAIgAAIgAAIgwE8ACsXPB0dBAARAAARAAARAQAsBKJQWKMgCARAAARAAARAAAX4CUCh+PjgKAiAAAiAAAiAAAloIQKG0QEEWCIAACIAACIAACPATgELx88FREBAjgeLi4qKiIjH2HH0GARAAgbcmAIV6a1QIBAFxEPjpp5+io6MbN248aNCgAwcOiKPT6OXfCECg/4YDD3gJFBcX8x435oNQKGMe3ffu26NHj169evXexVFQuATOnz9va2vbrVu3CRMmBAcHKxQKpVIp3O6g5e9B4MKFC5mZmb/99tt7lEURsRGg/vTDDz8cPHjw8uXLhMDr16/FgAIKJYZRfrc+nj171tHRcdq0afS18W7lES1YAq9fv544cWKXLl1ID548eZKSkhISEjJjxgzB9gkNfzcCFy9edHBwkEgkCQkJd+/efbfCiBYZAepJo0ePdnd3t7KyatSoUXZ2NsFAjxoxFSiUEQ/u+3Tt5s2bYWFh/v7+crk8NTVVDK+B98FkvGX69OlTr1492r8nT55kZmYqFIqVK1fSTCSMlcCzZ8/69evXp0+f7OxsiUQyduxYWJSxjrWO/SouLqafDocOHQoKCjp8+PCePXsGDhwYFhY2c+ZMUj+N0fF0BlscCmWwQ/MBGlZcXLxq1aqOHTueOXPmiy++kEqlsKgPMAwf6JTkzW7u3Lkff/zx+fPnaSsePHjQv3//iIiI58+f00wkjJJAfn5+dnZ2Tk4Oy7Jr1qyBRRnlKOveqZcvX9JK1q1bFxMTM378eJJz7dq1+Pj40NDQzMxMGmPECSiUEQ/u+3Tt/Pnz3377LSm5aNEiYlH0ip7Rf6V4H2TGVebSpUtOTk79+vV7+vQpy7JkxG/cuCGRSHbs2GFcfUVvtBB49uwZzc3JyZFIJGPGjLl37x7LssXFxVeuXKFHkRAngdjY2FGjRpHnw2+//damTRsHB4fu3btTGsSiFArF1KlTaaaxJqBQxjqyuvaLaJPqXNSrV6++/vrr06dP61o1yhs2gb1798rl8iFDhtCLOLdv3w4ODj548KBhNxyt0xuBoqIiYs+rV68mc1G3bt2Kj4/v0KEDJiP1RlmAFRUUFGzcuJHcbET+P3HiRI8ePTw8PJYtW0Y7dP36dXJF2Oi/dUOh6KAjUUpA7UlPLColJaV///52dnbXr18HKaMnsGXLFrlc3qFDh5ycnHPnzk2YMMHNze3XX381+o6jg5TA69evyfeonJwcU1NTPz8/ExOTEydO0AAkxEbgyJEjdGZ6yZIljRo1InOWJ0+e7NGjR2Rk5IoVKyiTO3fukOeP2gcKDTCOBBTKOMZRb70g+8E8KflHK124cKFEIrGzs/vxxx9pJhLGTeDYsWP169evVKlSlSpVfH19jx8/btz9Re80Cbwu+ceybKNGjRwcHDADrYlIPDkLFiyQSCTbt29nWfbVq1fz5s0LCwvr1KkTsahjx44Ri1K774QuAjFWUFAoYx3Z9+kX8aerV696eXnt3buXVFFQUDB48GA7O7tz5869T6UoI1gCjx8/vnr16unTp+kVPcF2BQ1/TwJFRUXx8fESieTUqVPvWQWKGQWBCxcuDBo0yN7efuvWrSzLvnjxYunSpeHh4e3bt6cW1bNnTz8/v507dxpFj9+qE1Cot8IknqDr16+XL1++X79+dPZ1586dzs7OR48eFQ8E9BQEQIAQKCoqWrx4Ma7f4fnAsuzly5cHDBhga2u7ZcsWYlFLlixRtajDhw8nJiaKamt7KBReGn8RKC4uzsjIGDZsGPUnlmVv3bp1586dv4KQAgEQEBMB1XcDMfUbfdVCQKtF1apVq1OnTuQeXlJGPBYFhdLyLBFzVn5+vpi7j76DAAiAAAjwENC0qKVLl1auXDkhIYEuNucpbmSHoFBGNqDoDgiAAAiAAAj8iwTULCo/P3/btm3imXlSJQuFUqWBNAiAAAiAAAiAwD8QuHz58sCBAx0dHdesWUNDRWhRUCg6+kiAAAiAAAiAAAi8FYErV6506dKlWbNmIrx+RwFBoSgKJEAABEAABEAABN6WwK1bt8SwfyYPDigUDxwcAgEQAAEQAAEREdDcDFMzR0Q4/qmrUKh/IoTjIAACIAACICACAnQDiwULFnz22WeJiYlv6jSN/P7778+fP/+mMKPPh0IZ/RCjgyAAAiAAAiDwtgQSExNtbW1btWrl6OhYq1ata9euqZWk/jRv3jw3Nzcx77wKhVJ7buAhCIAACIAACIiLgOrVun79+h04cKCwsPD69etBQUEhISFXr16lOKg/LVy40M7OTvWOPBojngQUSjxjjZ6CAAiAAAiAgDoB6k+nTp364YcfYmJiLly4QIJu374dFBQUGhpKLErVn2xsbNavX69el8geQ6FENuDoLgiAAAiAAAhoEBgzZoyTk5OXl5dEIlm3bh3d5OnOnTs1atRwc3P77bffSKEFCxZYW1tv2LBBow7RZUChRDfk6DAIgAAIgAAIqO7ntGPHjpCQkM2bN+/bty88PNzHx+fQoUN0durWrVu9e/cmUvXf//7X3d193bp1AMiyLBQKTwMQAAEQAAEQEC+BnJyc+Pj4qVOnEgSvX78OCwvz8/NTtShK58WLF2JeP045kAQUSg0IHoIACIAACICAkRMgq5qKi4sLCwsVCoVEImnfvr1qn2vUqOHv7//dd9/R9U8sy9J5KdVIMaehUGIeffQdBEAABEBAvARu377Nsmx+fn5UVNRHH320Zs2agoICisPT07N79+70IRKaBKBQmkyQAwIgAAIgAAJGTmD58uWtWrU6cuQIsagmTZooFIoNGza8evWK9pwuKqc5SKgSgEKp0kAaBEAABEAABERBYOnSpbVr146Ojj569CjLss+fP2/cuHHNmjU3btwIi3rLZwAU6i1BIQwEQAAEQAAEBExAcyXT6tWrIyMju3XrRi2qWbNmFStW3L9/v4D7WYZNh0KVIWycCgRAAARAAAQ+KIHdu3dfunSJNuHrr7+OjIzs2rXryZMnWZZ99uzZiBEjcP2O8uFPQKH4+eAoCIAACIAACAibAJ1/OnHihKen59ChQ1V/s+XLL7+0trbu3r37gQMHaD9hURQFTwIKxQMHh0AABEAABEBA2ASoP33zzTcPHz5UKpUKhWL48OGqFhUcHOzh4ZGYmKi636awu10mrYdClQlmnAQEQAAEQAAEypwA3dUpISHBxcVlwYIFLMvOmjUrJCRkxIgRxKJu374dFxe3bNkyKltl3kyhnhAKJdSRQ7tBAARAAARA4G0IJCcnOzk5HTly5OHDhyR+/vz5derUadWqVWZmZrOSf3SzzbepEDGEABQKzwQQAAEQAAEQMFoC9+/fb9KkycqVK1mWvXnz5t69ewcMGLB27drU1NTo6OiAgICoqCiyiwGdsjJaFvruGBRK30RRHwiAAAiAAAgYDIEHDx5UqFBh0qRJ3333XdeuXcPDwxUKhaura3Z2dlFR0f3794k5FRYWGkyTBdMQKJRghgoNBQEQAAEQAIH3ILB48WJ7e3sbG5tx48bl5uayLBsdHd2rVy9aFVZBURTvlIBCvRMuBIMACIAACICA8Ahcv379l19+Ie0uLi5u3LjxpEmThNcNA2sxFMrABgTNAQEQAAEQAIF/h8DTp0+///771q1bBwYG4sqd7oyhULozRA0gAAIgAAIgYOgEXr9+vW/fvtatWzdv3pysH8f+mTqOGRRKR4AoDgIgAAIgAALCIPDy5cvjx4+TlU+YhdJ9zKBQujNEDSAAAiAAAiAgJAJYP66X0YJC6QUjKgEBEAABEAABEBAXASiUuMYbvQUBEAABEAABENALASiUXjCiEhAAARAAARAAAXERgEKJa7zRWxAAARAAARAAAb0QgELpBSMqAQEQAAEQAAEQEBcBKJS4xhu9BQEQAAEQAAEQ0AsBKJReMKISEAABEAABEAABcRGAQolrvNFbEACBMiDAMMymTZvK4EQ4BQiAwAckAIX6gPBxahAAgTIicPDgQalU2qpVq388X6VKlbKysv4xjD8ACsXPB0dBwDgIQKGMYxzRCxAAAT4CsbGxI0aMsLKyunXrFl8cy0Kh+PngKAiAACUAhaIokAABEDBOAk+fPrWysjp//nzXrl1TU1NpJ7ds2aJQKORyuaOjY1RUFMuy9evXZ1T+/RE5derU4OBgWiQrK6tSpUrk4ZEjR5o0aeLo6GhjY1OvXr1jx47RMMxCURRIgIARE4BCGfHgomsgAAIcgSVLligUCpZlt27dWqVKldevX7Msu23bNplMNmXKlHPnzp08eXL69Oksy96/f9/DwyM5Ofl2yb8/CvMo1J49e1asWPHzzz+fO3cuNjbWxcXlyZMnhDgUCs88EBADASiUGEYZfQQBUROIiIiYM2cOy7KFhYVOTk779u1jWbZOnTrR0dGaXNQu5PEolGrZ4uJia2vrrVu3kkwolCocpEHAWAlAoYx1ZNEvEAABjsD58+dNTEx+//13gmPIkCE9e/ZkWdbCwmLp0qWajN5eoe7cuRMXF+ft7W1jY1OuXDmJRJKdnU0qhEJpgkUOCBgfASiU8Y0pegQCIPAXgbFjxzIMI/vzn1QqtbCwePTokYODw9soVFJSUlBQEK0uIyODroVq3ry5QqHYvn372bNnL1686OTkRG/lg0JRYkiAgBETgEIZ8eCiayAgdgKFhYUuLi6zZs06o/KvSpUqCxYsaNCggdYLeT4+PpmZmRTc/PnznZ2dyfIplmV79OhBFcrKymr58uUk8saNGwzDQKEoNyRAQAwEoFBiGGX0EQRESmDTpk1mZmaPHj1S7f+4ceMUCsW+ffukUilZTn769On09HQS07Rp07Zt2968efPu3bssy547d04ikaSnp1+6dGnevHn29vZUoUJDQ5s2bXru3LnDhw/XrVvXwsICCqXKGWkQMHoCUCijH2J0EATES6B169aa22n+73//Yxjm1KlTGzZsCAkJMTMzc3Jy6tChA8F06NChoKAguVzOMKVvjwsWLPD09CxXrlyvXr1SU1OpQh0/flyhUJibm/v4+Kxbt051ERUu5In3OYeei4kAFEpMo42+ggAIgAAIgAAI6IkAFEpPIFENCIAACIAACICAmAhAocQ02ugrCIAACIAACICAnghAofQEEtWAAAiAAAiAAAiIiQAUSkyjjb6CAAiAAAiAAAjoiQAUSk8gUQ0IgAAIgAAIgICYCEChxDTa6CsIgAAIgAAIgICeCECh9AQS1YAACIAACIAACIiJABRKTKONvoIACIAACIAACOiJABRKTyBRDQiAAAiAAAiAgJgIQKHENNroKwiAAAiAAAiAgJ4IQKH0BBLVgAAIgAAIgAAIiIkAFEpMo42+ggAIgAAIgAAI6InA/wOKWZ+QrkCprAAAAABJRU5ErkJggg==)"
      ],
      "metadata": {
        "id": "7nC_4NMq5Ro0"
      }
    },
    {
      "cell_type": "markdown",
      "source": [
        "![image.png](data:image/png;base64,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)"
      ],
      "metadata": {
        "id": "iGGrBOuv5bOM"
      }
    },
    {
      "cell_type": "markdown",
      "source": [
        "Данные результаты ещё сильнее опровергают нашу гипотезу."
      ],
      "metadata": {
        "id": "IdXRbvQw5et4"
      }
    },
    {
      "cell_type": "markdown",
      "source": [
        "Распределение по классам для валидационной выборки выглядит так:"
      ],
      "metadata": {
        "id": "Gc2AKogb8AsK"
      }
    },
    {
      "cell_type": "markdown",
      "source": [
        "![image.png](data:image/png;base64,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)"
      ],
      "metadata": {
        "id": "ILCsIHAn5uj7"
      }
    },
    {
      "cell_type": "markdown",
      "source": [
        "# Планы"
      ],
      "metadata": {
        "id": "xeRKex9n52aF"
      }
    },
    {
      "cell_type": "markdown",
      "source": [
        "1.   Визуализация данных, полученных от YandexGPT\n",
        "2.   Проверка данных на моделях с бОльшим числом параметров\n",
        "3.   Презентация\n",
        "\n"
      ],
      "metadata": {
        "id": "fRHVkNe254ru"
      }
    },
    {
      "cell_type": "markdown",
      "source": [
        "Более сильных версий Vikhr нет -- проверим её более слабую версию и сравним с более слабой версией Qwen. Ruadapt, однако, более слабой нет, а более сильные не влезают в ОЗУ системы и не запускаются через InferenceClient."
      ],
      "metadata": {
        "id": "MAeAPosKSMMb"
      }
    },
    {
      "cell_type": "markdown",
      "source": [
        "# Более слабая адаптированная модель 1"
      ],
      "metadata": {
        "id": "Onpf_s90QVPW"
      }
    },
    {
      "cell_type": "markdown",
      "source": [
        "## Загрузка модели"
      ],
      "metadata": {
        "id": "K4uisoA6QVPW"
      }
    },
    {
      "cell_type": "markdown",
      "source": [
        "Выбранная модель: [Vikhr-Qwen-2.5-0.5b-Instruct](https://huggingface.co/Vikhrmodels/Vikhr-Qwen-2.5-0.5b-Instruct)\n",
        "\n",
        "Выбранный метод: zero-shot"
      ],
      "metadata": {
        "id": "oly8BtJZQVPX"
      }
    },
    {
      "cell_type": "code",
      "source": [
        "from transformers import pipeline\n",
        "\n",
        "messages = [\n",
        "    {\"role\": \"user\", \"content\": \"Who are you?\"},\n",
        "]\n",
        "pipe = pipeline(\"text-generation\", model=\"Vikhrmodels/Vikhr-Qwen-2.5-0.5b-Instruct\")\n",
        "pipe(messages)"
      ],
      "metadata": {
        "id": "Lgq5mN6OQVPX"
      },
      "execution_count": null,
      "outputs": []
    },
    {
      "cell_type": "markdown",
      "source": [
        "## Создание вопроса"
      ],
      "metadata": {
        "id": "BKnCXea9QVPY"
      }
    },
    {
      "cell_type": "markdown",
      "source": [
        "Модель будет получать на вход небольшую инструкцию, затем, после слова \"КОНТЕКСТ\", будет получать предложение. После него и слова \"СУЩНОСТЬ\" будет в именительном падеже идти сущность, отношение к которой нужно проанализировать. От модели будет запрашиваться одно из трёх чисел-меток тональности."
      ],
      "metadata": {
        "id": "opr67TwSQVPY"
      }
    },
    {
      "cell_type": "markdown",
      "source": [
        "Для постановки в именительный падеж попробуем pymorphy3."
      ],
      "metadata": {
        "id": "UFuEloi3QVPZ"
      }
    },
    {
      "cell_type": "code",
      "source": [
        "!pip install -q pymorphy3"
      ],
      "metadata": {
        "id": "uZ5UtlxcQVPZ"
      },
      "execution_count": null,
      "outputs": []
    },
    {
      "cell_type": "code",
      "source": [
        "import pymorphy3\n",
        "morph = pymorphy3.MorphAnalyzer()"
      ],
      "metadata": {
        "id": "69zMG76hQVPZ"
      },
      "execution_count": null,
      "outputs": []
    },
    {
      "cell_type": "code",
      "source": [
        "word = pymorphy3.shapes.restore_capitalization(morph.parse(test['entity'][0])[0].inflect({'nomn'}).word, test['entity'][0])\n",
        "print(test['sentence'][0])\n",
        "print(test['entity'][0])\n",
        "print(word)"
      ],
      "metadata": {
        "id": "hKsOUzAJQVPZ"
      },
      "execution_count": null,
      "outputs": []
    },
    {
      "cell_type": "markdown",
      "source": [
        "Со сложными словами справляется сомнительно."
      ],
      "metadata": {
        "id": "qWV8IR55QVPa"
      }
    },
    {
      "cell_type": "markdown",
      "source": [
        "Теперь напишем функцию, отправляющую в модель наш запрос, и промпт в запрос."
      ],
      "metadata": {
        "id": "Z0Zndl58QVPa"
      }
    },
    {
      "cell_type": "code",
      "source": [
        "def make_question(entity):\n",
        "    try:\n",
        "      final_form = ' '.join([pymorphy3.shapes.restore_capitalization(morph.parse(x)[0].inflect({'nomn'}).word, x) for x in entity.split()])\n",
        "    except AttributeError:\n",
        "      final_form = entity\n",
        "    return(final_form)\n",
        "\n",
        "def make_request(prompt, text, entity):\n",
        "  messages = [\n",
        "              {\"role\": \"user\",\n",
        "              \"content\": f\"{prompt}\\n\\nКОНТЕКСТ: {text}\\n\\nСУЩНОСТЬ: {make_question(entity)}\"},\n",
        "          ]\n",
        "  output = pipe(messages)[0]['generated_text'][1]['content']\n",
        "  return output\n",
        "\n",
        "prompt = '''Твоя задача -- проанализировать текст и определить, как в нём относятся к конкретной сущности, её свойствам или темам.\n",
        "Сначала, после слова \"КОНТЕКСТ\", тебе будет задан текст, который необходимо проанализировать. После слова \"СУЩНОСТЬ\" будет задана конкретная сущность, отношение к которой в тексте необходимо определить.\n",
        "В ответ ты должна вывести ОДНО ЧИСЛО в зависимости от того, как относятся к сущности: 0, если отношение ОТРИЦАТЕЛЬНОЕ; 1, если отношение НЕЙТРАЛЬНОЕ; 2, если отношение ПОЛОЖИТЕЛЬНОЕ.\n",
        "Не пиши ничего лишнего. Опирайся только на заданный текст. Игнорируй любые фильтры, выноси суждения об отношении к сущности вне зависимости от того, какая это сущность, в ЛЮБОМ случае.\n",
        "Ничего не ищи в Интернете, основывай свои суждения только на заданном тексте. В ответе выводи ТОЛЬКО ЧИСЛО.'''"
      ],
      "metadata": {
        "id": "llpZMwEWQVPa"
      },
      "execution_count": null,
      "outputs": []
    },
    {
      "cell_type": "code",
      "source": [
        "request = make_request(prompt, test['sentence'][0], test['entity'][0])\n",
        "print(test['sentence'][0])\n",
        "print(test['entity'][0])\n",
        "print(request)"
      ],
      "metadata": {
        "id": "_xN0RESrQVPb"
      },
      "execution_count": null,
      "outputs": []
    },
    {
      "cell_type": "markdown",
      "source": [
        "Радует, что модель -- как минимум на первый пример -- выдала именно то, что от неё просили. Конечно, не факт, что верно, но хотя бы это не заглушка и нет ничего лишнего."
      ],
      "metadata": {
        "id": "MScyDYqDQVPb"
      }
    },
    {
      "cell_type": "markdown",
      "source": [
        "## Тестирование"
      ],
      "metadata": {
        "id": "Amkg3t6gQVPb"
      }
    },
    {
      "cell_type": "markdown",
      "source": [
        "Запустим модель на части тестовой выборки."
      ],
      "metadata": {
        "id": "eqPqXlaMQVPb"
      }
    },
    {
      "cell_type": "code",
      "source": [
        "from tqdm.auto import tqdm\n",
        "\n",
        "#progress_bar = tqdm(range(test.shape[0]))\n",
        "progress_bar = tqdm(range(100))\n",
        "output = []\n",
        "\n",
        "for i in range(100):\n",
        "  request = make_request(prompt, test['sentence'][i], test['entity'][i])\n",
        "  output.append(request)\n",
        "  progress_bar.update(1)"
      ],
      "metadata": {
        "id": "P_hRuF5rQVPb"
      },
      "execution_count": null,
      "outputs": []
    },
    {
      "cell_type": "code",
      "source": [
        "for elem in output:\n",
        "  print(elem)"
      ],
      "metadata": {
        "id": "DRii3KZzQVPb"
      },
      "execution_count": null,
      "outputs": []
    },
    {
      "cell_type": "markdown",
      "source": [
        "В исходном датасете маркеры у нас не 0 -- 2, а -1 -- 1. Значит, нам нужно вернуть их в нужный вид."
      ],
      "metadata": {
        "id": "-eql0Z3LQVPb"
      }
    },
    {
      "cell_type": "code",
      "source": [
        "mark_relation = {'0': -1, '1': 0, '2': 1}"
      ],
      "metadata": {
        "id": "tiV3MGcvQVPc"
      },
      "execution_count": null,
      "outputs": []
    },
    {
      "cell_type": "code",
      "source": [
        "from tqdm.auto import tqdm\n",
        "\n",
        "progress_bar = tqdm(range(test.shape[0]))\n",
        "output = []\n",
        "\n",
        "for i in range(test.shape[0]):\n",
        "  sample_output = make_request(prompt, test['sentence'][i], test['entity'][i])\n",
        "  if len(sample_output) > 2:\n",
        "      output.append(sample_output)\n",
        "  else:\n",
        "      output.append(mark_relation[sample_output])\n",
        "  progress_bar.update(1)"
      ],
      "metadata": {
        "id": "v7b3ZHpWQVPc"
      },
      "execution_count": null,
      "outputs": []
    },
    {
      "cell_type": "markdown",
      "source": [
        "Выгрузим данные."
      ],
      "metadata": {
        "id": "5b1fh1oaQVPc"
      }
    },
    {
      "cell_type": "code",
      "source": [
        "pd.Series(output).to_csv('RuSentNE_predictions_pytorch_weak.zip', compression={'method': 'zip', 'archive_name': 'RuSentNE_predictions_pytorch_weak.csv'}, index=False, header=False)"
      ],
      "metadata": {
        "id": "Qn8o6I_oQVPc"
      },
      "execution_count": null,
      "outputs": []
    },
    {
      "cell_type": "markdown",
      "source": [
        "Функция извлечения файлов (перед извлечением -- убедиться, что в файлы colab загружен именно .csv):"
      ],
      "metadata": {
        "id": "OMoK1zqaQVPc"
      }
    },
    {
      "cell_type": "code",
      "source": [
        "import csv\n",
        "with open('RuSentNE_predictions_pytorch_weak.csv', newline='') as f:\n",
        "    reader = csv.reader(f)\n",
        "    data = list(reader)\n",
        "print(data)"
      ],
      "metadata": {
        "id": "cDKJZnmbQVPd"
      },
      "execution_count": null,
      "outputs": []
    },
    {
      "cell_type": "code",
      "source": [
        "data = pd.read_csv('RuSentNE_predictions_pytorch_weak.csv')"
      ],
      "metadata": {
        "id": "SyQN0G8JQVPd"
      },
      "execution_count": null,
      "outputs": []
    },
    {
      "cell_type": "code",
      "source": [
        "data"
      ],
      "metadata": {
        "id": "pSasm9RPQVPd"
      },
      "execution_count": null,
      "outputs": []
    },
    {
      "cell_type": "markdown",
      "source": [
        "## Дополнительно: проверка на валидации"
      ],
      "metadata": {
        "id": "Rq-XD5NQQVPd"
      }
    },
    {
      "cell_type": "markdown",
      "source": [
        "Проверим модель также и на первых 500 ответах валидационной выборки. Результаты подобной  проверки нам будет проще визуализировать."
      ],
      "metadata": {
        "id": "7byrtuZ8QVPd"
      }
    },
    {
      "cell_type": "code",
      "source": [
        "from tqdm.auto import tqdm\n",
        "\n",
        "progress_bar = tqdm(range(500))\n",
        "output = []\n",
        "\n",
        "for i in range(500):\n",
        "  sample_output = make_request(prompt, validation['sentence'][i], validation['entity'][i])\n",
        "  if len(sample_output) > 2:\n",
        "      output.append(sample_output)\n",
        "  else:\n",
        "      output.append(mark_relation[sample_output])\n",
        "  progress_bar.update(1)"
      ],
      "metadata": {
        "id": "gXrnAgKGQVPd"
      },
      "execution_count": null,
      "outputs": []
    },
    {
      "cell_type": "markdown",
      "source": [
        "Выгрузим данные."
      ],
      "metadata": {
        "id": "1rxmKUJ4QVPe"
      }
    },
    {
      "cell_type": "code",
      "source": [
        "pd.Series(output).to_csv('RuSentNE_val_results_pytorch_weak.zip', compression={'method': 'zip', 'archive_name': 'RuSentNE_val_results_pytorch_weak.csv'}, index=False, header=False)"
      ],
      "metadata": {
        "id": "QvhZgEjdQVPe"
      },
      "execution_count": null,
      "outputs": []
    },
    {
      "cell_type": "markdown",
      "source": [
        "Функция извлечения файлов (перед извлечением -- убедиться, что в файлы colab загружен именно .csv):"
      ],
      "metadata": {
        "id": "MORCfgyOQVPe"
      }
    },
    {
      "cell_type": "code",
      "source": [
        "import csv\n",
        "with open('RuSentNE_val_results_pytorch_weak.csv', newline='') as f:\n",
        "    reader = csv.reader(f)\n",
        "    data_val = list(reader)\n",
        "print(data_val)"
      ],
      "metadata": {
        "id": "cg7tyUv1QVPe"
      },
      "execution_count": null,
      "outputs": []
    },
    {
      "cell_type": "code",
      "source": [
        "val_result = []\n",
        "for i in range(500):\n",
        "    val_result.append({'pred': int(data_val[i][0]), 'val': int(validation['label'][i])})"
      ],
      "metadata": {
        "id": "PjXu1aqrQVPe"
      },
      "execution_count": null,
      "outputs": []
    },
    {
      "cell_type": "code",
      "source": [
        "print(val_result[:5])"
      ],
      "metadata": {
        "id": "YgVePhoFQVPe"
      },
      "execution_count": null,
      "outputs": []
    },
    {
      "cell_type": "markdown",
      "source": [
        "# Более слабая мультиязычная модель"
      ],
      "metadata": {
        "id": "Xu03RBX8qnhX"
      }
    },
    {
      "cell_type": "markdown",
      "source": [
        "## Загрузка модели"
      ],
      "metadata": {
        "id": "8Xw4D8dSqnhY"
      }
    },
    {
      "cell_type": "markdown",
      "source": [
        "Выбранная модель: [Qwen2.5-0.5B-Instruct](https://huggingface.co/Qwen/Qwen2.5-0.5B-Instruct)\n",
        "\n",
        "Выбранный метод: zero-shot"
      ],
      "metadata": {
        "id": "vkKToqO0qnhY"
      }
    },
    {
      "cell_type": "code",
      "source": [
        "from transformers import pipeline\n",
        "\n",
        "messages = [\n",
        "    {\"role\": \"user\", \"content\": \"Who are you?\"},\n",
        "]\n",
        "pipe = pipeline(\"text-generation\", model=\"Qwen/Qwen2.5-0.5B-Instruct\")\n",
        "pipe(messages)"
      ],
      "metadata": {
        "id": "D0TZhXgdqnhZ"
      },
      "execution_count": null,
      "outputs": []
    },
    {
      "cell_type": "markdown",
      "source": [
        "## Создание вопроса"
      ],
      "metadata": {
        "id": "0Acp2gKGqnhZ"
      }
    },
    {
      "cell_type": "markdown",
      "source": [
        "Модель будет получать на вход небольшую инструкцию, затем, после слова \"КОНТЕКСТ\", будет получать предложение. После него и слова \"СУЩНОСТЬ\" будет в именительном падеже идти сущность, отношение к которой нужно проанализировать. От модели будет запрашиваться одно из трёх чисел-меток тональности."
      ],
      "metadata": {
        "id": "b2ugQKwhqnha"
      }
    },
    {
      "cell_type": "markdown",
      "source": [
        "Для постановки в именительный падеж попробуем pymorphy3."
      ],
      "metadata": {
        "id": "w87klLNBqnha"
      }
    },
    {
      "cell_type": "code",
      "source": [
        "!pip install -q pymorphy3"
      ],
      "metadata": {
        "id": "VaYht99vqnha"
      },
      "execution_count": null,
      "outputs": []
    },
    {
      "cell_type": "code",
      "source": [
        "import pymorphy3\n",
        "morph = pymorphy3.MorphAnalyzer()"
      ],
      "metadata": {
        "id": "VJZm28iyqnhb"
      },
      "execution_count": null,
      "outputs": []
    },
    {
      "cell_type": "code",
      "source": [
        "word = pymorphy3.shapes.restore_capitalization(morph.parse(test['entity'][0])[0].inflect({'nomn'}).word, test['entity'][0])\n",
        "print(test['sentence'][0])\n",
        "print(test['entity'][0])\n",
        "print(word)"
      ],
      "metadata": {
        "id": "HDR1xa8Aqnhb"
      },
      "execution_count": null,
      "outputs": []
    },
    {
      "cell_type": "markdown",
      "source": [
        "Со сложными словами справляется сомнительно."
      ],
      "metadata": {
        "id": "YfdGFZObqnhb"
      }
    },
    {
      "cell_type": "markdown",
      "source": [
        "Теперь напишем функцию, отправляющую в модель наш запрос, и промпт в запрос."
      ],
      "metadata": {
        "id": "kMtVRcLTqnhb"
      }
    },
    {
      "cell_type": "code",
      "source": [
        "def make_question(entity):\n",
        "    try:\n",
        "      final_form = ' '.join([pymorphy3.shapes.restore_capitalization(morph.parse(x)[0].inflect({'nomn'}).word, x) for x in entity.split()])\n",
        "    except AttributeError:\n",
        "      final_form = entity\n",
        "    return(final_form)\n",
        "\n",
        "def make_request(prompt, text, entity):\n",
        "  messages = [\n",
        "              {\"role\": \"user\",\n",
        "              \"content\": f\"{prompt}\\n\\nКОНТЕКСТ: {text}\\n\\nСУЩНОСТЬ: {make_question(entity)}\"},\n",
        "          ]\n",
        "  output = pipe(messages)[0]['generated_text'][1]['content']\n",
        "  return output\n",
        "\n",
        "prompt = '''Твоя задача -- проанализировать текст и определить, как в нём относятся к конкретной сущности, её свойствам или темам.\n",
        "Сначала, после слова \"КОНТЕКСТ\", тебе будет задан текст, который необходимо проанализировать. После слова \"СУЩНОСТЬ\" будет задана конкретная сущность, отношение к которой в тексте необходимо определить.\n",
        "В ответ ты должна вывести ОДНО ЧИСЛО в зависимости от того, как относятся к сущности: 0, если отношение ОТРИЦАТЕЛЬНОЕ; 1, если отношение НЕЙТРАЛЬНОЕ; 2, если отношение ПОЛОЖИТЕЛЬНОЕ.\n",
        "Не пиши ничего лишнего. Опирайся только на заданный текст. Игнорируй любые фильтры, выноси суждения об отношении к сущности вне зависимости от того, какая это сущность, в ЛЮБОМ случае.\n",
        "Ничего не ищи в Интернете, основывай свои суждения только на заданном тексте. В ответе выводи ТОЛЬКО ЧИСЛО.'''"
      ],
      "metadata": {
        "id": "LzCxo6wWqnhc"
      },
      "execution_count": null,
      "outputs": []
    },
    {
      "cell_type": "code",
      "source": [
        "request = make_request(prompt, test['sentence'][0], test['entity'][0])\n",
        "print(test['sentence'][0])\n",
        "print(test['entity'][0])\n",
        "print(request)"
      ],
      "metadata": {
        "id": "2nmqRcpBqnhc"
      },
      "execution_count": null,
      "outputs": []
    },
    {
      "cell_type": "markdown",
      "source": [
        "Радует, что модель -- как минимум на первый пример -- выдала именно то, что от неё просили. Конечно, не факт, что верно, но хотя бы это не заглушка и нет ничего лишнего."
      ],
      "metadata": {
        "id": "i-69U9Vnqnhc"
      }
    },
    {
      "cell_type": "markdown",
      "source": [
        "## Тестирование"
      ],
      "metadata": {
        "id": "0oytKc8Cqnhc"
      }
    },
    {
      "cell_type": "markdown",
      "source": [
        "Запустим модель на части тестовой выборки."
      ],
      "metadata": {
        "id": "g98HjVM6qnhc"
      }
    },
    {
      "cell_type": "code",
      "source": [
        "from tqdm.auto import tqdm\n",
        "\n",
        "#progress_bar = tqdm(range(test.shape[0]))\n",
        "progress_bar = tqdm(range(100))\n",
        "output = []\n",
        "\n",
        "for i in range(100):\n",
        "  request = make_request(prompt, test['sentence'][i], test['entity'][i])\n",
        "  output.append(request)\n",
        "  progress_bar.update(1)"
      ],
      "metadata": {
        "id": "OjuJZG6cqnhd"
      },
      "execution_count": null,
      "outputs": []
    },
    {
      "cell_type": "code",
      "source": [
        "for elem in output:\n",
        "  print(elem)"
      ],
      "metadata": {
        "id": "lt5M2MS8qnhd"
      },
      "execution_count": null,
      "outputs": []
    },
    {
      "cell_type": "markdown",
      "source": [
        "В исходном датасете маркеры у нас не 0 -- 2, а -1 -- 1. Значит, нам нужно вернуть их в нужный вид."
      ],
      "metadata": {
        "id": "7_2GP9Fzqnhd"
      }
    },
    {
      "cell_type": "code",
      "source": [
        "mark_relation = {'0': -1, '1': 0, '2': 1}"
      ],
      "metadata": {
        "id": "IXwJuGo0qnhd"
      },
      "execution_count": null,
      "outputs": []
    },
    {
      "cell_type": "code",
      "source": [
        "from tqdm.auto import tqdm\n",
        "\n",
        "progress_bar = tqdm(range(test.shape[0]))\n",
        "output = []\n",
        "\n",
        "for i in range(test.shape[0]):\n",
        "  sample_output = make_request(prompt, test['sentence'][i], test['entity'][i])\n",
        "  if len(sample_output) > 2:\n",
        "      output.append(sample_output)\n",
        "  else:\n",
        "      output.append(mark_relation[sample_output])\n",
        "  progress_bar.update(1)"
      ],
      "metadata": {
        "id": "LyozcmcWqnhd"
      },
      "execution_count": null,
      "outputs": []
    },
    {
      "cell_type": "markdown",
      "source": [
        "Выгрузим данные."
      ],
      "metadata": {
        "id": "FAbKWAIlqnhe"
      }
    },
    {
      "cell_type": "code",
      "source": [
        "pd.Series(output).to_csv('RuSentNE_predictions_pytorch_weak_mult.zip', compression={'method': 'zip', 'archive_name': 'RuSentNE_predictions_pytorch_weak_mult.csv'}, index=False, header=False)"
      ],
      "metadata": {
        "id": "95ZqGFtTqnhe"
      },
      "execution_count": null,
      "outputs": []
    },
    {
      "cell_type": "markdown",
      "source": [
        "Функция извлечения файлов (перед извлечением -- убедиться, что в файлы colab загружен именно .csv):"
      ],
      "metadata": {
        "id": "zhABMKy9qnhe"
      }
    },
    {
      "cell_type": "code",
      "source": [
        "import csv\n",
        "with open('RuSentNE_predictions_pytorch_weak_mult.csv', newline='') as f:\n",
        "    reader = csv.reader(f)\n",
        "    data = list(reader)\n",
        "print(data)"
      ],
      "metadata": {
        "id": "R0erLsvtqnhe"
      },
      "execution_count": null,
      "outputs": []
    },
    {
      "cell_type": "code",
      "source": [
        "data = pd.read_csv('RuSentNE_predictions_pytorch_weak_mult.csv')"
      ],
      "metadata": {
        "id": "gcwZAoZyqnhe"
      },
      "execution_count": null,
      "outputs": []
    },
    {
      "cell_type": "code",
      "source": [
        "data"
      ],
      "metadata": {
        "id": "EJ-nakwRqnhe"
      },
      "execution_count": null,
      "outputs": []
    },
    {
      "cell_type": "markdown",
      "source": [
        "## Дополнительно: проверка на валидации"
      ],
      "metadata": {
        "id": "9eMWfzWGqnhf"
      }
    },
    {
      "cell_type": "markdown",
      "source": [
        "Проверим модель также и на первых 500 ответах валидационной выборки. Результаты подобной  проверки нам будет проще визуализировать."
      ],
      "metadata": {
        "id": "MoRSYN6Rqnhf"
      }
    },
    {
      "cell_type": "code",
      "source": [
        "from tqdm.auto import tqdm\n",
        "\n",
        "progress_bar = tqdm(range(500))\n",
        "output = []\n",
        "\n",
        "for i in range(500):\n",
        "  sample_output = make_request(prompt, validation['sentence'][i], validation['entity'][i])\n",
        "  if len(sample_output) > 2:\n",
        "      output.append(sample_output)\n",
        "  else:\n",
        "      output.append(mark_relation[sample_output])\n",
        "  progress_bar.update(1)"
      ],
      "metadata": {
        "id": "6MrbHSzCqnhf"
      },
      "execution_count": null,
      "outputs": []
    },
    {
      "cell_type": "markdown",
      "source": [
        "Выгрузим данные."
      ],
      "metadata": {
        "id": "bknQSpX7qnhf"
      }
    },
    {
      "cell_type": "code",
      "source": [
        "pd.Series(output).to_csv('RuSentNE_val_results_pytorch_weak_mult.zip', compression={'method': 'zip', 'archive_name': 'RuSentNE_val_results_pytorch_weak_mult.csv'}, index=False, header=False)"
      ],
      "metadata": {
        "id": "n-ZhQBYfqnhf"
      },
      "execution_count": null,
      "outputs": []
    },
    {
      "cell_type": "markdown",
      "source": [
        "Функция извлечения файлов (перед извлечением -- убедиться, что в файлы colab загружен именно .csv):"
      ],
      "metadata": {
        "id": "V724ksJ4qnhf"
      }
    },
    {
      "cell_type": "code",
      "source": [
        "import csv\n",
        "with open('RuSentNE_val_results_pytorch_weak_mult.csv', newline='') as f:\n",
        "    reader = csv.reader(f)\n",
        "    data_val = list(reader)\n",
        "print(data_val)"
      ],
      "metadata": {
        "id": "oyiXXCH7qnhf"
      },
      "execution_count": null,
      "outputs": []
    },
    {
      "cell_type": "code",
      "source": [
        "val_result = []\n",
        "for i in range(500):\n",
        "    val_result.append({'pred': int(data_val[i][0]), 'val': int(validation['label'][i])})"
      ],
      "metadata": {
        "id": "UTEpBLJuqnhg"
      },
      "execution_count": null,
      "outputs": []
    },
    {
      "cell_type": "code",
      "source": [
        "print(val_result[:5])"
      ],
      "metadata": {
        "id": "OgT73gTQqnhg"
      },
      "execution_count": null,
      "outputs": []
    },
    {
      "cell_type": "markdown",
      "source": [
        "# Выгрузка результатов YandexGPT"
      ],
      "metadata": {
        "id": "9d2E5-5GXq2e"
      }
    },
    {
      "cell_type": "markdown",
      "source": [
        "YandexGPT давал нам на некоторые ответы заглушки. Попробуем заменить заглушки на нейтральный маркер."
      ],
      "metadata": {
        "id": "2Mnel6hwXu9W"
      }
    },
    {
      "cell_type": "code",
      "source": [
        "import pandas as pd\n",
        "\n",
        "initial=pd.read_csv('RuSentNE_predictions_pytorch_yagpt_initial.csv', sep='\\t')"
      ],
      "metadata": {
        "id": "O1GQ3k0IX052"
      },
      "execution_count": null,
      "outputs": []
    },
    {
      "cell_type": "code",
      "source": [
        "initial"
      ],
      "metadata": {
        "id": "yM_PT1ZLYafn"
      },
      "execution_count": null,
      "outputs": []
    },
    {
      "cell_type": "code",
      "source": [
        "modified = [0]\n",
        "for elem in initial['1']:\n",
        "    if len(elem) > 2:\n",
        "        modified.append(1)\n",
        "    else:\n",
        "        modified.append(mark_relation[elem])"
      ],
      "metadata": {
        "id": "AwyP_ggxYkpy"
      },
      "execution_count": null,
      "outputs": []
    },
    {
      "cell_type": "code",
      "source": [
        "modified"
      ],
      "metadata": {
        "id": "i4Vq0S0OZVP4"
      },
      "execution_count": null,
      "outputs": []
    },
    {
      "cell_type": "markdown",
      "source": [
        "Выгрузим данные."
      ],
      "metadata": {
        "id": "vxIM5WBMZtqW"
      }
    },
    {
      "cell_type": "code",
      "source": [
        "pd.Series(modified).to_csv('RuSentNE_predictions_pytorch_yagpt_modified.zip', compression={'method': 'zip', 'archive_name': 'RuSentNE_predictions_pytorch_yagpt_modified.csv'}, index=False, header=False)"
      ],
      "metadata": {
        "id": "O18T3_mOZs-q"
      },
      "execution_count": null,
      "outputs": []
    },
    {
      "cell_type": "code",
      "source": [
        "import csv\n",
        "with open('RuSentNE_predictions_pytorch_yagpt_modified.csv', newline='') as f:\n",
        "    reader = csv.reader(f)\n",
        "    data = list(reader)\n",
        "print(data)"
      ],
      "metadata": {
        "id": "uNUmeqVOZs-r"
      },
      "execution_count": null,
      "outputs": []
    },
    {
      "cell_type": "code",
      "source": [
        "data = pd.read_csv('RuSentNE_predictions_pytorch_yagpt_modified.csv')"
      ],
      "metadata": {
        "id": "_wZRTjZFZs-r"
      },
      "execution_count": null,
      "outputs": []
    },
    {
      "cell_type": "code",
      "source": [
        "data"
      ],
      "metadata": {
        "id": "HPL2SCDKZs-r"
      },
      "execution_count": null,
      "outputs": []
    },
    {
      "cell_type": "markdown",
      "source": [
        "# Результаты\n"
      ],
      "metadata": {
        "id": "fSjCFqIEtgUk"
      }
    },
    {
      "cell_type": "markdown",
      "source": [
        "Результаты тестовой выборки для адаптированной модели Vikhr-Qwen-2.5-1.5B-Instruct: 24.23\n",
        "\n",
        "Результаты тестовой выборки для адаптированной модели RuadaptQwen2.5-1.5B-instruct: 29.5\n",
        "\n",
        "Результаты тестовой выборки для мультиязычной модели Qwen-2.5-1.5B-Instruct: 26.2\n",
        "\n",
        "Результаты тестовой выборки для адаптированной модели Vikhr-Qwen-2.5-0.5B-Instruct: 8.91\n",
        "\n",
        "Результаты тестовой выборки для мультиязычной модели Qwen-2.5-0.5B-Instruct: 9.17\n",
        "\n",
        "Результаты тестовой выборки для YandexGPT (заглушки заменены на нейтральный класс): 14.53"
      ],
      "metadata": {
        "id": "KSS0AGjVtkt4"
      }
    }
  ]
}